{
  "nbformat": 4,
  "nbformat_minor": 0,
  "metadata": {
    "colab": {
      "name": "Decimal&Fraction.ipynb",
      "provenance": [],
      "collapsed_sections": [
        "m5iWVp-VYXd2",
        "wTP9Br7tZW6O",
        "KAIag8UMaR1l",
        "WFr_H301atqy",
        "slntybbzbTqU"
      ],
      "authorship_tag": "ABX9TyMzON2iFvR9OLrKNERmocLG",
      "include_colab_link": true
    },
    "kernelspec": {
      "name": "python3",
      "display_name": "Python 3"
    },
    "language_info": {
      "name": "python"
    }
  },
  "cells": [
    {
      "cell_type": "markdown",
      "metadata": {
        "id": "view-in-github",
        "colab_type": "text"
      },
      "source": [
        "<a href=\"https://colab.research.google.com/github/suryagokul/Data-Science-Portfolio/blob/master/Decimal%26Fraction.ipynb\" target=\"_parent\"><img src=\"https://colab.research.google.com/assets/colab-badge.svg\" alt=\"Open In Colab\"/></a>"
      ]
    },
    {
      "cell_type": "markdown",
      "metadata": {
        "id": "m5iWVp-VYXd2"
      },
      "source": [
        "# python decimal and fraction module"
      ]
    },
    {
      "cell_type": "markdown",
      "metadata": {
        "id": "wTP9Br7tZW6O"
      },
      "source": [
        "## why decimal module?\n",
        "\n",
        "    for handling decimal points or floating points with much more accurately.\n",
        "\n",
        "    used to perform high-precision calculations\n",
        "\n",
        "    It is appropriate for financial and monetary calculations.\n",
        "\n",
        "    Unlike hardware based binary floating point, the decimal module has \n",
        "    a user alterable precision which can be as large as needed for a given problem.\n",
        "\n",
        "    Some values cannot be exactly represented in a float data type. For \n",
        "    instance, storing the 0.1 value in float (which is a binary \n",
        "    floating point value) variable we get only an approximation of the value. \n",
        "\n",
        "    Similarly, the 1/3 value cannot be represented exactly in decimal \n",
        "    floating point type.\n",
        "\n",
        "`The Decimal has a default precision of 28 places, while the float has 18 places`"
      ]
    },
    {
      "cell_type": "code",
      "metadata": {
        "colab": {
          "base_uri": "https://localhost:8080/"
        },
        "id": "fDFhLK5jUGiO",
        "outputId": "5b5ae9d3-0c02-4adb-9c14-bbfd7a0aa549"
      },
      "source": [
        "x = 1 / 3\n",
        "print(type(x))\n",
        "print(x)"
      ],
      "execution_count": 3,
      "outputs": [
        {
          "output_type": "stream",
          "text": [
            "<class 'float'>\n",
            "0.3333333333333333\n"
          ],
          "name": "stdout"
        }
      ]
    },
    {
      "cell_type": "code",
      "metadata": {
        "colab": {
          "base_uri": "https://localhost:8080/"
        },
        "id": "OvPmE07wZG_c",
        "outputId": "96ebf54c-b61f-4220-c543-a80e167132a3"
      },
      "source": [
        "from decimal import Decimal\n",
        "\n",
        "y = Decimal(1) / Decimal(3)\n",
        "print(type(y))\n",
        "print(y)"
      ],
      "execution_count": 6,
      "outputs": [
        {
          "output_type": "stream",
          "text": [
            "<class 'decimal.Decimal'>\n",
            "0.3333333333333333333333333333\n"
          ],
          "name": "stdout"
        }
      ]
    },
    {
      "cell_type": "code",
      "metadata": {
        "colab": {
          "base_uri": "https://localhost:8080/"
        },
        "id": "r0MWz7QNaA-x",
        "outputId": "05330de0-f9ec-4bae-f1f4-6b3c84af2bb4"
      },
      "source": [
        "b = 0.1\n",
        "\n",
        "print(b)"
      ],
      "execution_count": 8,
      "outputs": [
        {
          "output_type": "stream",
          "text": [
            "0.1\n"
          ],
          "name": "stdout"
        }
      ]
    },
    {
      "cell_type": "code",
      "metadata": {
        "colab": {
          "base_uri": "https://localhost:8080/"
        },
        "id": "nSnNY-BjZvG3",
        "outputId": "a4f3dff0-938c-4f4c-c02e-57f2997a8987"
      },
      "source": [
        "c = Decimal(0.1)\n",
        "c"
      ],
      "execution_count": 7,
      "outputs": [
        {
          "output_type": "execute_result",
          "data": {
            "text/plain": [
              "Decimal('0.1000000000000000055511151231257827021181583404541015625')"
            ]
          },
          "metadata": {
            "tags": []
          },
          "execution_count": 7
        }
      ]
    },
    {
      "cell_type": "markdown",
      "metadata": {
        "id": "KAIag8UMaR1l"
      },
      "source": [
        "### compare floating point values\n",
        "\n",
        "`Caution should be exercised when comparing floaing point values. While in many real world problems a small error is negligible, financial and monetary calculations must be exact.`"
      ]
    },
    {
      "cell_type": "code",
      "metadata": {
        "colab": {
          "base_uri": "https://localhost:8080/"
        },
        "id": "N_mPdfwsb4M6",
        "outputId": "45c63709-dbd1-41f5-e5c7-4e06140ed0cd"
      },
      "source": [
        "x = 0.1 + 0.1\n",
        "\n",
        "print(x)\n",
        "print(x == 0.2)"
      ],
      "execution_count": 22,
      "outputs": [
        {
          "output_type": "stream",
          "text": [
            "0.2\n",
            "True\n"
          ],
          "name": "stdout"
        }
      ]
    },
    {
      "cell_type": "code",
      "metadata": {
        "colab": {
          "base_uri": "https://localhost:8080/"
        },
        "id": "kPc44X31aH3e",
        "outputId": "2711e5eb-24b5-433d-bf1e-715d96f641e6"
      },
      "source": [
        "x = 0.1 + 0.1 + 0.1\n",
        "\n",
        "print(x)\n",
        "print(x == 0.3)"
      ],
      "execution_count": 11,
      "outputs": [
        {
          "output_type": "stream",
          "text": [
            "0.30000000000000004\n",
            "False\n"
          ],
          "name": "stdout"
        }
      ]
    },
    {
      "cell_type": "code",
      "metadata": {
        "colab": {
          "base_uri": "https://localhost:8080/"
        },
        "id": "VJf1nOizb_Y7",
        "outputId": "2f4dcddc-29c6-4e6c-aa76-be56a71ecec6"
      },
      "source": [
        "print(0.3+0.3+0.3)\n",
        "print(0.9 == 0.3+0.3+0.3)\n",
        "\n",
        "# print(0.3+0.3)\n",
        "# print(0.6 == 0.3+0.3)  # gives True"
      ],
      "execution_count": 25,
      "outputs": [
        {
          "output_type": "stream",
          "text": [
            "0.8999999999999999\n",
            "False\n",
            "0.6\n",
            "True\n"
          ],
          "name": "stdout"
        }
      ]
    },
    {
      "cell_type": "markdown",
      "metadata": {
        "id": "f4Cc_DE7cfbD"
      },
      "source": [
        "`when comparing floating point values, we can see that due to different precisions comparison fails down.To handle this we use decimal module.`"
      ]
    },
    {
      "cell_type": "code",
      "metadata": {
        "colab": {
          "base_uri": "https://localhost:8080/"
        },
        "id": "1jnkeTfeaLsU",
        "outputId": "248374a3-feab-4e6e-9705-b89f583e74b1"
      },
      "source": [
        "x = Decimal('0.1') + Decimal('0.1') + Decimal('0.1')\n",
        "\n",
        "print(x == Decimal('0.3'))\n",
        "print(float(x) == 0.3)\n",
        "print(x)"
      ],
      "execution_count": 10,
      "outputs": [
        {
          "output_type": "stream",
          "text": [
            "True\n",
            "True\n",
            "0.3\n"
          ],
          "name": "stdout"
        }
      ]
    },
    {
      "cell_type": "markdown",
      "metadata": {
        "id": "fXPqDYDwaowm"
      },
      "source": [
        "Due to a small error in the float type, the 0.1 + 0.1 + 0.1 == 0.3 yields False. With the Decimal type, we get the expected output.\n",
        "\n"
      ]
    },
    {
      "cell_type": "code",
      "metadata": {
        "colab": {
          "base_uri": "https://localhost:8080/"
        },
        "id": "F2dtpK5lbZ_s",
        "outputId": "3f0523b9-30e4-45ee-e844-558d67ed3966"
      },
      "source": [
        "val = Decimal(10.55)\n",
        "\n",
        "import math\n",
        "root = math.sqrt(val)\n",
        "dec_of_root = Decimal(root)\n",
        "print(root)\n",
        "print(dec_of_root)"
      ],
      "execution_count": 21,
      "outputs": [
        {
          "output_type": "stream",
          "text": [
            "3.248076353782343\n",
            "3.2480763537823431619244729517959058284759521484375\n"
          ],
          "name": "stdout"
        }
      ]
    },
    {
      "cell_type": "markdown",
      "metadata": {
        "id": "WFr_H301atqy"
      },
      "source": [
        "### Decimal altering precision\n",
        "\n",
        "It is possible to change the default precision of the Decimal type."
      ]
    },
    {
      "cell_type": "code",
      "metadata": {
        "id": "w3tR6SQ-aMNV"
      },
      "source": [
        "from decimal import getcontext"
      ],
      "execution_count": 12,
      "outputs": []
    },
    {
      "cell_type": "code",
      "metadata": {
        "colab": {
          "base_uri": "https://localhost:8080/"
        },
        "id": "Kh3KCGWOayIs",
        "outputId": "10890a02-2dfd-42a0-cd8f-1d0beaa37815"
      },
      "source": [
        " getcontext()"
      ],
      "execution_count": 13,
      "outputs": [
        {
          "output_type": "execute_result",
          "data": {
            "text/plain": [
              "Context(prec=28, rounding=ROUND_HALF_EVEN, Emin=-999999, Emax=999999, capitals=1, clamp=0, flags=[Inexact, FloatOperation, Rounded], traps=[InvalidOperation, DivisionByZero, Overflow])"
            ]
          },
          "metadata": {
            "tags": []
          },
          "execution_count": 13
        }
      ]
    },
    {
      "cell_type": "markdown",
      "metadata": {
        "id": "BDaknWJOa1QN"
      },
      "source": [
        "set custom precision"
      ]
    },
    {
      "cell_type": "code",
      "metadata": {
        "id": "XkPxc_otaz7P"
      },
      "source": [
        "getcontext().prec=2        # 28 to 2"
      ],
      "execution_count": 18,
      "outputs": []
    },
    {
      "cell_type": "code",
      "metadata": {
        "colab": {
          "base_uri": "https://localhost:8080/"
        },
        "id": "B7rMQuRha7ko",
        "outputId": "2b5ea987-bcec-4085-fef8-71978088a4a0"
      },
      "source": [
        "num = Decimal(1) / Decimal(3)\n",
        "\n",
        "num"
      ],
      "execution_count": 19,
      "outputs": [
        {
          "output_type": "execute_result",
          "data": {
            "text/plain": [
              "Decimal('0.33')"
            ]
          },
          "metadata": {
            "tags": []
          },
          "execution_count": 19
        }
      ]
    },
    {
      "cell_type": "markdown",
      "metadata": {
        "id": "slntybbzbTqU"
      },
      "source": [
        "## Fraction\n",
        "\n",
        "We can work with rational numbers using the Franction."
      ]
    },
    {
      "cell_type": "markdown",
      "metadata": {
        "id": "6R2NoM8reklw"
      },
      "source": [
        "![](https://cdn.virtualnerd.com/thumbnails/Alg1_2za-diagram_thumb-lg.png)"
      ]
    },
    {
      "cell_type": "code",
      "metadata": {
        "colab": {
          "base_uri": "https://localhost:8080/"
        },
        "id": "gDkLGPkubCdf",
        "outputId": "d5741eed-8cb3-49e8-db0f-33ab4f1195c6"
      },
      "source": [
        "from fractions import Fraction\n",
        "\n",
        "Fraction(5)"
      ],
      "execution_count": 36,
      "outputs": [
        {
          "output_type": "execute_result",
          "data": {
            "text/plain": [
              "Fraction(5, 1)"
            ]
          },
          "metadata": {
            "tags": []
          },
          "execution_count": 36
        }
      ]
    },
    {
      "cell_type": "code",
      "metadata": {
        "colab": {
          "base_uri": "https://localhost:8080/"
        },
        "id": "WiIYuaWFfAv_",
        "outputId": "64ef2f5d-3cf6-4137-ece1-373237b2bfe0"
      },
      "source": [
        "print(Fraction(2,6)) "
      ],
      "execution_count": 44,
      "outputs": [
        {
          "output_type": "stream",
          "text": [
            "1/3\n"
          ],
          "name": "stdout"
        }
      ]
    },
    {
      "cell_type": "code",
      "metadata": {
        "colab": {
          "base_uri": "https://localhost:8080/"
        },
        "id": "BgkfmevRd6Uy",
        "outputId": "ee872955-250d-4036-d371-c1fa36726df2"
      },
      "source": [
        "Fraction(0.25)"
      ],
      "execution_count": 42,
      "outputs": [
        {
          "output_type": "execute_result",
          "data": {
            "text/plain": [
              "Fraction(1, 4)"
            ]
          },
          "metadata": {
            "tags": []
          },
          "execution_count": 42
        }
      ]
    },
    {
      "cell_type": "code",
      "metadata": {
        "colab": {
          "base_uri": "https://localhost:8080/"
        },
        "id": "VScUSWtseC_i",
        "outputId": "5c9a071c-7e8a-4557-df64-8f055ffc37ad"
      },
      "source": [
        "print(Fraction(22,7))"
      ],
      "execution_count": 45,
      "outputs": [
        {
          "output_type": "stream",
          "text": [
            "22/7\n"
          ],
          "name": "stdout"
        }
      ]
    },
    {
      "cell_type": "markdown",
      "metadata": {
        "id": "ygGFJJfqe1KH"
      },
      "source": [
        "we can also do math with these fractions as below..."
      ]
    },
    {
      "cell_type": "code",
      "metadata": {
        "colab": {
          "base_uri": "https://localhost:8080/"
        },
        "id": "2DNvS2URevhu",
        "outputId": "36f317ba-4536-4cad-eb4e-e9652d03ecd6"
      },
      "source": [
        "Fraction(2,6)+ Fraction(2,6) "
      ],
      "execution_count": 31,
      "outputs": [
        {
          "output_type": "execute_result",
          "data": {
            "text/plain": [
              "Fraction(2, 3)"
            ]
          },
          "metadata": {
            "tags": []
          },
          "execution_count": 31
        }
      ]
    }
  ]
}