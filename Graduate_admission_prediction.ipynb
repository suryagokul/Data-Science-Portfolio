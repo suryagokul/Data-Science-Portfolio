{
  "nbformat": 4,
  "nbformat_minor": 0,
  "metadata": {
    "colab": {
      "name": "Graduate admission prediction.ipynb",
      "provenance": [],
      "authorship_tag": "ABX9TyOkG8eya6yENFvxAR0FDe3y",
      "include_colab_link": true
    },
    "kernelspec": {
      "name": "python3",
      "display_name": "Python 3"
    }
  },
  "cells": [
    {
      "cell_type": "markdown",
      "metadata": {
        "id": "view-in-github",
        "colab_type": "text"
      },
      "source": [
        "<a href=\"https://colab.research.google.com/github/suryagokul/Data-Science-Portfolio/blob/master/Graduate_admission_prediction.ipynb\" target=\"_parent\"><img src=\"https://colab.research.google.com/assets/colab-badge.svg\" alt=\"Open In Colab\"/></a>"
      ]
    },
    {
      "cell_type": "markdown",
      "metadata": {
        "id": "9i-fUGTw4qPv"
      },
      "source": [
        " #                Predict Graduate Admissions\n",
        "\n",
        "\n",
        "**Probelm Statement** This dataset is created for prediction of Graduate Admissions from an Indian perspective.\n",
        "\n",
        "**Our dataset has the following columns :**\n",
        "\n",
        ">  **Serial No.** - Mentions the number of candidate for whom the details are listed.\n",
        "\n",
        ">   **GRE Score** - GRE Score of the candidate, out of 340.\n",
        "\n",
        ">   **TOEFL Score** - TOEFL Score of the candidate, out of 120.\n",
        "\n",
        ">   **University Rating**- The rating of the university which the candidate has applied for, according to pre-applied parameters, out of 5.\n",
        "\n",
        ">   **SOP**- A qualitative score of Statement of Purpose, out of 5.\n",
        "\n",
        ">   **LOR**- A qualitative score of Letter of Recommendation, out of 5.\n",
        "\n",
        ">   **CGPA**- Averaged CGPA of the candidate in his Under-Graduate period, out of 10.\n",
        "\n",
        ">   **Research** - Whether the candidate has any research experience while doing UG, 0 or 1.\n",
        "\n",
        ">   **Chance of Admit** - The chance of admit of the candidate, based on all other factors, expressed as a floating point number, on a range of 0 to 1.\n",
        "It is our target feature which we want to predict.\n",
        "\n",
        "\n",
        "\n",
        "---\n",
        "\n"
      ]
    },
    {
      "cell_type": "code",
      "metadata": {
        "id": "RzbiqzlTwSTf"
      },
      "source": [
        "import pandas as pd\n",
        "\n",
        "import seaborn as sns\n",
        "\n",
        "import numpy as np\n",
        "\n",
        "import matplotlib.pyplot as plt\n",
        "\n",
        "from sklearn.metrics import confusion_matrix,classification_report,accuracy_score"
      ],
      "execution_count": null,
      "outputs": []
    },
    {
      "cell_type": "code",
      "metadata": {
        "id": "KMBzMsTXwcpJ",
        "outputId": "79bbd0cb-7422-45fe-82c5-14600fdb095b",
        "colab": {
          "base_uri": "https://localhost:8080/",
          "height": 221
        }
      },
      "source": [
        "df = pd.read_csv(\"/content/Admission_Predict_Ver1.1.csv\")\n",
        "\n",
        "print(df.shape)\n",
        "\n",
        "df[:5]"
      ],
      "execution_count": null,
      "outputs": [
        {
          "output_type": "stream",
          "text": [
            "(500, 9)\n"
          ],
          "name": "stdout"
        },
        {
          "output_type": "execute_result",
          "data": {
            "text/html": [
              "<div>\n",
              "<style scoped>\n",
              "    .dataframe tbody tr th:only-of-type {\n",
              "        vertical-align: middle;\n",
              "    }\n",
              "\n",
              "    .dataframe tbody tr th {\n",
              "        vertical-align: top;\n",
              "    }\n",
              "\n",
              "    .dataframe thead th {\n",
              "        text-align: right;\n",
              "    }\n",
              "</style>\n",
              "<table border=\"1\" class=\"dataframe\">\n",
              "  <thead>\n",
              "    <tr style=\"text-align: right;\">\n",
              "      <th></th>\n",
              "      <th>Serial No.</th>\n",
              "      <th>GRE Score</th>\n",
              "      <th>TOEFL Score</th>\n",
              "      <th>University Rating</th>\n",
              "      <th>SOP</th>\n",
              "      <th>LOR</th>\n",
              "      <th>CGPA</th>\n",
              "      <th>Research</th>\n",
              "      <th>Chance of Admit</th>\n",
              "    </tr>\n",
              "  </thead>\n",
              "  <tbody>\n",
              "    <tr>\n",
              "      <th>0</th>\n",
              "      <td>1</td>\n",
              "      <td>337</td>\n",
              "      <td>118</td>\n",
              "      <td>4</td>\n",
              "      <td>4.5</td>\n",
              "      <td>4.5</td>\n",
              "      <td>9.65</td>\n",
              "      <td>1</td>\n",
              "      <td>0.92</td>\n",
              "    </tr>\n",
              "    <tr>\n",
              "      <th>1</th>\n",
              "      <td>2</td>\n",
              "      <td>324</td>\n",
              "      <td>107</td>\n",
              "      <td>4</td>\n",
              "      <td>4.0</td>\n",
              "      <td>4.5</td>\n",
              "      <td>8.87</td>\n",
              "      <td>1</td>\n",
              "      <td>0.76</td>\n",
              "    </tr>\n",
              "    <tr>\n",
              "      <th>2</th>\n",
              "      <td>3</td>\n",
              "      <td>316</td>\n",
              "      <td>104</td>\n",
              "      <td>3</td>\n",
              "      <td>3.0</td>\n",
              "      <td>3.5</td>\n",
              "      <td>8.00</td>\n",
              "      <td>1</td>\n",
              "      <td>0.72</td>\n",
              "    </tr>\n",
              "    <tr>\n",
              "      <th>3</th>\n",
              "      <td>4</td>\n",
              "      <td>322</td>\n",
              "      <td>110</td>\n",
              "      <td>3</td>\n",
              "      <td>3.5</td>\n",
              "      <td>2.5</td>\n",
              "      <td>8.67</td>\n",
              "      <td>1</td>\n",
              "      <td>0.80</td>\n",
              "    </tr>\n",
              "    <tr>\n",
              "      <th>4</th>\n",
              "      <td>5</td>\n",
              "      <td>314</td>\n",
              "      <td>103</td>\n",
              "      <td>2</td>\n",
              "      <td>2.0</td>\n",
              "      <td>3.0</td>\n",
              "      <td>8.21</td>\n",
              "      <td>0</td>\n",
              "      <td>0.65</td>\n",
              "    </tr>\n",
              "  </tbody>\n",
              "</table>\n",
              "</div>"
            ],
            "text/plain": [
              "   Serial No.  GRE Score  TOEFL Score  ...  CGPA  Research  Chance of Admit \n",
              "0           1        337          118  ...  9.65         1              0.92\n",
              "1           2        324          107  ...  8.87         1              0.76\n",
              "2           3        316          104  ...  8.00         1              0.72\n",
              "3           4        322          110  ...  8.67         1              0.80\n",
              "4           5        314          103  ...  8.21         0              0.65\n",
              "\n",
              "[5 rows x 9 columns]"
            ]
          },
          "metadata": {
            "tags": []
          },
          "execution_count": 26
        }
      ]
    },
    {
      "cell_type": "code",
      "metadata": {
        "id": "kJol-znOGeQW"
      },
      "source": [
        "df.drop('Serial No.',axis=1,inplace=True)"
      ],
      "execution_count": null,
      "outputs": []
    },
    {
      "cell_type": "code",
      "metadata": {
        "id": "gKOCBaxqGuzN"
      },
      "source": [
        "# Column names are not in proper manner some of them have spaces at end.\n",
        "\n",
        "df.columns = ['GRE_Score', 'TOEFL_Score', 'University_Rating', 'SOP', 'LOR', 'CGPA',\n",
        "       'Research', 'Chance of Admit']\n",
        "\n",
        "# So renaming columns...."
      ],
      "execution_count": null,
      "outputs": []
    },
    {
      "cell_type": "code",
      "metadata": {
        "id": "GtTfIfKgGg6o",
        "outputId": "f6a8dacc-ac42-493b-e9bb-bf704b943abc",
        "colab": {
          "base_uri": "https://localhost:8080/",
          "height": 142
        }
      },
      "source": [
        "df[:3]"
      ],
      "execution_count": null,
      "outputs": [
        {
          "output_type": "execute_result",
          "data": {
            "text/html": [
              "<div>\n",
              "<style scoped>\n",
              "    .dataframe tbody tr th:only-of-type {\n",
              "        vertical-align: middle;\n",
              "    }\n",
              "\n",
              "    .dataframe tbody tr th {\n",
              "        vertical-align: top;\n",
              "    }\n",
              "\n",
              "    .dataframe thead th {\n",
              "        text-align: right;\n",
              "    }\n",
              "</style>\n",
              "<table border=\"1\" class=\"dataframe\">\n",
              "  <thead>\n",
              "    <tr style=\"text-align: right;\">\n",
              "      <th></th>\n",
              "      <th>GRE_Score</th>\n",
              "      <th>TOEFL_Score</th>\n",
              "      <th>University_Rating</th>\n",
              "      <th>SOP</th>\n",
              "      <th>LOR</th>\n",
              "      <th>CGPA</th>\n",
              "      <th>Research</th>\n",
              "      <th>Chance of Admit</th>\n",
              "    </tr>\n",
              "  </thead>\n",
              "  <tbody>\n",
              "    <tr>\n",
              "      <th>0</th>\n",
              "      <td>337</td>\n",
              "      <td>118</td>\n",
              "      <td>4</td>\n",
              "      <td>4.5</td>\n",
              "      <td>4.5</td>\n",
              "      <td>9.65</td>\n",
              "      <td>1</td>\n",
              "      <td>0.92</td>\n",
              "    </tr>\n",
              "    <tr>\n",
              "      <th>1</th>\n",
              "      <td>324</td>\n",
              "      <td>107</td>\n",
              "      <td>4</td>\n",
              "      <td>4.0</td>\n",
              "      <td>4.5</td>\n",
              "      <td>8.87</td>\n",
              "      <td>1</td>\n",
              "      <td>0.76</td>\n",
              "    </tr>\n",
              "    <tr>\n",
              "      <th>2</th>\n",
              "      <td>316</td>\n",
              "      <td>104</td>\n",
              "      <td>3</td>\n",
              "      <td>3.0</td>\n",
              "      <td>3.5</td>\n",
              "      <td>8.00</td>\n",
              "      <td>1</td>\n",
              "      <td>0.72</td>\n",
              "    </tr>\n",
              "  </tbody>\n",
              "</table>\n",
              "</div>"
            ],
            "text/plain": [
              "   GRE_Score  TOEFL_Score  University_Rating  ...  CGPA  Research  Chance of Admit\n",
              "0        337          118                  4  ...  9.65         1             0.92\n",
              "1        324          107                  4  ...  8.87         1             0.76\n",
              "2        316          104                  3  ...  8.00         1             0.72\n",
              "\n",
              "[3 rows x 8 columns]"
            ]
          },
          "metadata": {
            "tags": []
          },
          "execution_count": 29
        }
      ]
    },
    {
      "cell_type": "code",
      "metadata": {
        "id": "apguAiR6wkck",
        "outputId": "fb7e5d27-695b-4e0f-8f8b-d946eaa7a85f",
        "colab": {
          "base_uri": "https://localhost:8080/",
          "height": 34
        }
      },
      "source": [
        "df.shape"
      ],
      "execution_count": null,
      "outputs": [
        {
          "output_type": "execute_result",
          "data": {
            "text/plain": [
              "(500, 8)"
            ]
          },
          "metadata": {
            "tags": []
          },
          "execution_count": 30
        }
      ]
    },
    {
      "cell_type": "code",
      "metadata": {
        "id": "hLJjBdKEGmPd",
        "outputId": "9204f512-a348-4dfd-908a-ac345cb0af9b",
        "colab": {
          "base_uri": "https://localhost:8080/",
          "height": 68
        }
      },
      "source": [
        "df.columns"
      ],
      "execution_count": null,
      "outputs": [
        {
          "output_type": "execute_result",
          "data": {
            "text/plain": [
              "Index(['GRE_Score', 'TOEFL_Score', 'University_Rating', 'SOP', 'LOR', 'CGPA',\n",
              "       'Research', 'Chance of Admit'],\n",
              "      dtype='object')"
            ]
          },
          "metadata": {
            "tags": []
          },
          "execution_count": 31
        }
      ]
    },
    {
      "cell_type": "code",
      "metadata": {
        "id": "I9VQ1yAKw9Rt",
        "outputId": "13183d3c-7f35-48a7-8eda-1e15a98ef3d6",
        "colab": {
          "base_uri": "https://localhost:8080/",
          "height": 34
        }
      },
      "source": [
        "df['University_Rating'].unique()"
      ],
      "execution_count": null,
      "outputs": [
        {
          "output_type": "execute_result",
          "data": {
            "text/plain": [
              "array([4, 3, 2, 5, 1])"
            ]
          },
          "metadata": {
            "tags": []
          },
          "execution_count": 32
        }
      ]
    },
    {
      "cell_type": "code",
      "metadata": {
        "id": "_roFQeRcyM5p",
        "outputId": "7c9917d2-eda3-43af-ae9b-7aaba1b1e3d6",
        "colab": {
          "base_uri": "https://localhost:8080/",
          "height": 170
        }
      },
      "source": [
        "df.isnull().sum()"
      ],
      "execution_count": null,
      "outputs": [
        {
          "output_type": "execute_result",
          "data": {
            "text/plain": [
              "GRE_Score            0\n",
              "TOEFL_Score          0\n",
              "University_Rating    0\n",
              "SOP                  0\n",
              "LOR                  0\n",
              "CGPA                 0\n",
              "Research             0\n",
              "Chance of Admit      0\n",
              "dtype: int64"
            ]
          },
          "metadata": {
            "tags": []
          },
          "execution_count": 33
        }
      ]
    },
    {
      "cell_type": "code",
      "metadata": {
        "id": "s_1c5u5lzaPS",
        "outputId": "57bd2465-0ef5-456f-da83-480bef5cd12a",
        "colab": {
          "base_uri": "https://localhost:8080/",
          "height": 342
        }
      },
      "source": [
        "plt.figure(figsize=(15,5))\n",
        "\n",
        "sns.heatmap(df.corr(),annot=True,cmap='winter')"
      ],
      "execution_count": null,
      "outputs": [
        {
          "output_type": "execute_result",
          "data": {
            "text/plain": [
              "<matplotlib.axes._subplots.AxesSubplot at 0x7f95b5372a20>"
            ]
          },
          "metadata": {
            "tags": []
          },
          "execution_count": 34
        },
        {
          "output_type": "display_data",
          "data": {
            "image/png": "[encoded data removed]",
            "text/plain": [
              "<Figure size 1080x360 with 2 Axes>"
            ]
          },
          "metadata": {
            "tags": [],
            "needs_background": "light"
          }
        }
      ]
    },
    {
      "cell_type": "markdown",
      "metadata": {
        "id": "Vtk_MjzU4Ryj"
      },
      "source": [
        "Heatmap shows Chance Of Admit is highly dependent on CGPA AND GRE SCORE"
      ]
    },
    {
      "cell_type": "code",
      "metadata": {
        "id": "uY4ZBEDbvkY_",
        "outputId": "9a5c67b1-0383-41b0-a8bb-081a2cfa3e05",
        "colab": {
          "base_uri": "https://localhost:8080/",
          "height": 607
        }
      },
      "source": [
        "df[df['Chance of Admit']>0.8].groupby('Chance of Admit').mean()"
      ],
      "execution_count": null,
      "outputs": [
        {
          "output_type": "execute_result",
          "data": {
            "text/html": [
              "<div>\n",
              "<style scoped>\n",
              "    .dataframe tbody tr th:only-of-type {\n",
              "        vertical-align: middle;\n",
              "    }\n",
              "\n",
              "    .dataframe tbody tr th {\n",
              "        vertical-align: top;\n",
              "    }\n",
              "\n",
              "    .dataframe thead th {\n",
              "        text-align: right;\n",
              "    }\n",
              "</style>\n",
              "<table border=\"1\" class=\"dataframe\">\n",
              "  <thead>\n",
              "    <tr style=\"text-align: right;\">\n",
              "      <th></th>\n",
              "      <th>GRE_Score</th>\n",
              "      <th>TOEFL_Score</th>\n",
              "      <th>University_Rating</th>\n",
              "      <th>SOP</th>\n",
              "      <th>LOR</th>\n",
              "      <th>CGPA</th>\n",
              "      <th>Research</th>\n",
              "    </tr>\n",
              "    <tr>\n",
              "      <th>Chance of Admit</th>\n",
              "      <th></th>\n",
              "      <th></th>\n",
              "      <th></th>\n",
              "      <th></th>\n",
              "      <th></th>\n",
              "      <th></th>\n",
              "      <th></th>\n",
              "    </tr>\n",
              "  </thead>\n",
              "  <tbody>\n",
              "    <tr>\n",
              "      <th>0.81</th>\n",
              "      <td>322.888889</td>\n",
              "      <td>109.777778</td>\n",
              "      <td>3.555556</td>\n",
              "      <td>3.500000</td>\n",
              "      <td>3.444444</td>\n",
              "      <td>8.813333</td>\n",
              "      <td>0.888889</td>\n",
              "    </tr>\n",
              "    <tr>\n",
              "      <th>0.82</th>\n",
              "      <td>320.888889</td>\n",
              "      <td>109.555556</td>\n",
              "      <td>3.666667</td>\n",
              "      <td>3.833333</td>\n",
              "      <td>4.055556</td>\n",
              "      <td>8.986667</td>\n",
              "      <td>0.777778</td>\n",
              "    </tr>\n",
              "    <tr>\n",
              "      <th>0.83</th>\n",
              "      <td>326.500000</td>\n",
              "      <td>112.750000</td>\n",
              "      <td>3.750000</td>\n",
              "      <td>3.875000</td>\n",
              "      <td>3.750000</td>\n",
              "      <td>9.032500</td>\n",
              "      <td>0.750000</td>\n",
              "    </tr>\n",
              "    <tr>\n",
              "      <th>0.84</th>\n",
              "      <td>323.909091</td>\n",
              "      <td>109.636364</td>\n",
              "      <td>3.454545</td>\n",
              "      <td>3.818182</td>\n",
              "      <td>3.772727</td>\n",
              "      <td>9.032727</td>\n",
              "      <td>0.909091</td>\n",
              "    </tr>\n",
              "    <tr>\n",
              "      <th>0.85</th>\n",
              "      <td>322.000000</td>\n",
              "      <td>111.500000</td>\n",
              "      <td>3.666667</td>\n",
              "      <td>4.083333</td>\n",
              "      <td>4.166667</td>\n",
              "      <td>9.041667</td>\n",
              "      <td>0.833333</td>\n",
              "    </tr>\n",
              "    <tr>\n",
              "      <th>0.86</th>\n",
              "      <td>325.400000</td>\n",
              "      <td>114.400000</td>\n",
              "      <td>4.200000</td>\n",
              "      <td>4.300000</td>\n",
              "      <td>4.300000</td>\n",
              "      <td>9.124000</td>\n",
              "      <td>0.900000</td>\n",
              "    </tr>\n",
              "    <tr>\n",
              "      <th>0.87</th>\n",
              "      <td>325.625000</td>\n",
              "      <td>111.125000</td>\n",
              "      <td>4.625000</td>\n",
              "      <td>4.375000</td>\n",
              "      <td>4.187500</td>\n",
              "      <td>9.101250</td>\n",
              "      <td>0.875000</td>\n",
              "    </tr>\n",
              "    <tr>\n",
              "      <th>0.88</th>\n",
              "      <td>323.000000</td>\n",
              "      <td>110.750000</td>\n",
              "      <td>5.000000</td>\n",
              "      <td>4.875000</td>\n",
              "      <td>4.500000</td>\n",
              "      <td>9.152500</td>\n",
              "      <td>1.000000</td>\n",
              "    </tr>\n",
              "    <tr>\n",
              "      <th>0.89</th>\n",
              "      <td>328.636364</td>\n",
              "      <td>113.545455</td>\n",
              "      <td>4.363636</td>\n",
              "      <td>4.318182</td>\n",
              "      <td>4.136364</td>\n",
              "      <td>9.270909</td>\n",
              "      <td>0.909091</td>\n",
              "    </tr>\n",
              "    <tr>\n",
              "      <th>0.90</th>\n",
              "      <td>330.555556</td>\n",
              "      <td>116.111111</td>\n",
              "      <td>4.000000</td>\n",
              "      <td>4.500000</td>\n",
              "      <td>4.111111</td>\n",
              "      <td>9.324444</td>\n",
              "      <td>1.000000</td>\n",
              "    </tr>\n",
              "    <tr>\n",
              "      <th>0.91</th>\n",
              "      <td>330.500000</td>\n",
              "      <td>115.000000</td>\n",
              "      <td>4.500000</td>\n",
              "      <td>4.250000</td>\n",
              "      <td>4.450000</td>\n",
              "      <td>9.328000</td>\n",
              "      <td>1.000000</td>\n",
              "    </tr>\n",
              "    <tr>\n",
              "      <th>0.92</th>\n",
              "      <td>328.555556</td>\n",
              "      <td>114.888889</td>\n",
              "      <td>4.777778</td>\n",
              "      <td>4.388889</td>\n",
              "      <td>4.500000</td>\n",
              "      <td>9.417778</td>\n",
              "      <td>1.000000</td>\n",
              "    </tr>\n",
              "    <tr>\n",
              "      <th>0.93</th>\n",
              "      <td>330.583333</td>\n",
              "      <td>115.916667</td>\n",
              "      <td>4.583333</td>\n",
              "      <td>4.583333</td>\n",
              "      <td>4.250000</td>\n",
              "      <td>9.477500</td>\n",
              "      <td>1.000000</td>\n",
              "    </tr>\n",
              "    <tr>\n",
              "      <th>0.94</th>\n",
              "      <td>334.230769</td>\n",
              "      <td>116.692308</td>\n",
              "      <td>4.846154</td>\n",
              "      <td>4.692308</td>\n",
              "      <td>4.846154</td>\n",
              "      <td>9.533077</td>\n",
              "      <td>1.000000</td>\n",
              "    </tr>\n",
              "    <tr>\n",
              "      <th>0.95</th>\n",
              "      <td>336.200000</td>\n",
              "      <td>118.000000</td>\n",
              "      <td>4.400000</td>\n",
              "      <td>4.900000</td>\n",
              "      <td>4.400000</td>\n",
              "      <td>9.540000</td>\n",
              "      <td>1.000000</td>\n",
              "    </tr>\n",
              "    <tr>\n",
              "      <th>0.96</th>\n",
              "      <td>337.375000</td>\n",
              "      <td>116.000000</td>\n",
              "      <td>4.625000</td>\n",
              "      <td>4.750000</td>\n",
              "      <td>4.687500</td>\n",
              "      <td>9.753750</td>\n",
              "      <td>1.000000</td>\n",
              "    </tr>\n",
              "    <tr>\n",
              "      <th>0.97</th>\n",
              "      <td>337.500000</td>\n",
              "      <td>119.750000</td>\n",
              "      <td>4.750000</td>\n",
              "      <td>4.250000</td>\n",
              "      <td>4.250000</td>\n",
              "      <td>9.875000</td>\n",
              "      <td>1.000000</td>\n",
              "    </tr>\n",
              "  </tbody>\n",
              "</table>\n",
              "</div>"
            ],
            "text/plain": [
              "                  GRE_Score  TOEFL_Score  ...      CGPA  Research\n",
              "Chance of Admit                           ...                    \n",
              "0.81             322.888889   109.777778  ...  8.813333  0.888889\n",
              "0.82             320.888889   109.555556  ...  8.986667  0.777778\n",
              "0.83             326.500000   112.750000  ...  9.032500  0.750000\n",
              "0.84             323.909091   109.636364  ...  9.032727  0.909091\n",
              "0.85             322.000000   111.500000  ...  9.041667  0.833333\n",
              "0.86             325.400000   114.400000  ...  9.124000  0.900000\n",
              "0.87             325.625000   111.125000  ...  9.101250  0.875000\n",
              "0.88             323.000000   110.750000  ...  9.152500  1.000000\n",
              "0.89             328.636364   113.545455  ...  9.270909  0.909091\n",
              "0.90             330.555556   116.111111  ...  9.324444  1.000000\n",
              "0.91             330.500000   115.000000  ...  9.328000  1.000000\n",
              "0.92             328.555556   114.888889  ...  9.417778  1.000000\n",
              "0.93             330.583333   115.916667  ...  9.477500  1.000000\n",
              "0.94             334.230769   116.692308  ...  9.533077  1.000000\n",
              "0.95             336.200000   118.000000  ...  9.540000  1.000000\n",
              "0.96             337.375000   116.000000  ...  9.753750  1.000000\n",
              "0.97             337.500000   119.750000  ...  9.875000  1.000000\n",
              "\n",
              "[17 rows x 7 columns]"
            ]
          },
          "metadata": {
            "tags": []
          },
          "execution_count": 35
        }
      ]
    },
    {
      "cell_type": "code",
      "metadata": {
        "id": "pS3znNg86tWv",
        "outputId": "2d4b4b0a-e08a-4cc7-d55c-a6f9de7ca1eb",
        "colab": {
          "base_uri": "https://localhost:8080/",
          "height": 235
        }
      },
      "source": [
        "df.groupby(['University_Rating']).mean()\n",
        "\n",
        "\n",
        "# Actually shows what are the average scores to get into Universities have rating from 1 to 5.\n",
        "\n",
        "\n",
        "# For Example  5 star University admits students who had  \n",
        "                    \n",
        "#                        1)327 GRE                            3)SOP = 4.4 AND LOR = 4.4\n",
        "                        \n",
        "#                        2)113  TOEFL                         5)CGPA Min 9"
      ],
      "execution_count": null,
      "outputs": [
        {
          "output_type": "execute_result",
          "data": {
            "text/html": [
              "<div>\n",
              "<style scoped>\n",
              "    .dataframe tbody tr th:only-of-type {\n",
              "        vertical-align: middle;\n",
              "    }\n",
              "\n",
              "    .dataframe tbody tr th {\n",
              "        vertical-align: top;\n",
              "    }\n",
              "\n",
              "    .dataframe thead th {\n",
              "        text-align: right;\n",
              "    }\n",
              "</style>\n",
              "<table border=\"1\" class=\"dataframe\">\n",
              "  <thead>\n",
              "    <tr style=\"text-align: right;\">\n",
              "      <th></th>\n",
              "      <th>GRE_Score</th>\n",
              "      <th>TOEFL_Score</th>\n",
              "      <th>SOP</th>\n",
              "      <th>LOR</th>\n",
              "      <th>CGPA</th>\n",
              "      <th>Research</th>\n",
              "      <th>Chance of Admit</th>\n",
              "    </tr>\n",
              "    <tr>\n",
              "      <th>University_Rating</th>\n",
              "      <th></th>\n",
              "      <th></th>\n",
              "      <th></th>\n",
              "      <th></th>\n",
              "      <th></th>\n",
              "      <th></th>\n",
              "      <th></th>\n",
              "    </tr>\n",
              "  </thead>\n",
              "  <tbody>\n",
              "    <tr>\n",
              "      <th>1</th>\n",
              "      <td>304.911765</td>\n",
              "      <td>100.205882</td>\n",
              "      <td>1.941176</td>\n",
              "      <td>2.426471</td>\n",
              "      <td>7.798529</td>\n",
              "      <td>0.294118</td>\n",
              "      <td>0.562059</td>\n",
              "    </tr>\n",
              "    <tr>\n",
              "      <th>2</th>\n",
              "      <td>309.134921</td>\n",
              "      <td>103.444444</td>\n",
              "      <td>2.682540</td>\n",
              "      <td>2.956349</td>\n",
              "      <td>8.177778</td>\n",
              "      <td>0.293651</td>\n",
              "      <td>0.626111</td>\n",
              "    </tr>\n",
              "    <tr>\n",
              "      <th>3</th>\n",
              "      <td>315.030864</td>\n",
              "      <td>106.314815</td>\n",
              "      <td>3.308642</td>\n",
              "      <td>3.401235</td>\n",
              "      <td>8.500123</td>\n",
              "      <td>0.537037</td>\n",
              "      <td>0.702901</td>\n",
              "    </tr>\n",
              "    <tr>\n",
              "      <th>4</th>\n",
              "      <td>323.304762</td>\n",
              "      <td>110.961905</td>\n",
              "      <td>4.000000</td>\n",
              "      <td>3.947619</td>\n",
              "      <td>8.936667</td>\n",
              "      <td>0.780952</td>\n",
              "      <td>0.801619</td>\n",
              "    </tr>\n",
              "    <tr>\n",
              "      <th>5</th>\n",
              "      <td>327.890411</td>\n",
              "      <td>113.438356</td>\n",
              "      <td>4.479452</td>\n",
              "      <td>4.404110</td>\n",
              "      <td>9.278082</td>\n",
              "      <td>0.876712</td>\n",
              "      <td>0.888082</td>\n",
              "    </tr>\n",
              "  </tbody>\n",
              "</table>\n",
              "</div>"
            ],
            "text/plain": [
              "                    GRE_Score  TOEFL_Score  ...  Research  Chance of Admit\n",
              "University_Rating                           ...                           \n",
              "1                  304.911765   100.205882  ...  0.294118         0.562059\n",
              "2                  309.134921   103.444444  ...  0.293651         0.626111\n",
              "3                  315.030864   106.314815  ...  0.537037         0.702901\n",
              "4                  323.304762   110.961905  ...  0.780952         0.801619\n",
              "5                  327.890411   113.438356  ...  0.876712         0.888082\n",
              "\n",
              "[5 rows x 7 columns]"
            ]
          },
          "metadata": {
            "tags": []
          },
          "execution_count": 36
        }
      ]
    },
    {
      "cell_type": "code",
      "metadata": {
        "id": "JWKbpgHDzmgE",
        "outputId": "24081616-8ff7-4a55-ee9f-56114cd7240d",
        "colab": {
          "base_uri": "https://localhost:8080/",
          "height": 296
        }
      },
      "source": [
        "sns.barplot(x=df['Research'],y=df['Chance of Admit'],palette='spring')\n",
        "\n",
        "\n",
        "# Student who has Research experience has little edge than Others "
      ],
      "execution_count": null,
      "outputs": [
        {
          "output_type": "execute_result",
          "data": {
            "text/plain": [
              "<matplotlib.axes._subplots.AxesSubplot at 0x7f95a9048668>"
            ]
          },
          "metadata": {
            "tags": []
          },
          "execution_count": 37
        },
        {
          "output_type": "display_data",
          "data": {
            "image/png": "[encoded data removed]",
            "text/plain": [
              "<Figure size 432x288 with 1 Axes>"
            ]
          },
          "metadata": {
            "tags": [],
            "needs_background": "light"
          }
        }
      ]
    },
    {
      "cell_type": "code",
      "metadata": {
        "id": "Buw5g09a0QDC",
        "outputId": "583b6e2f-e0be-4d9c-8757-d44a2a80f1c9",
        "colab": {
          "base_uri": "https://localhost:8080/",
          "height": 111
        }
      },
      "source": [
        "df.loc[(df['Chance of Admit']>0.7) & (df['CGPA']<8)]"
      ],
      "execution_count": null,
      "outputs": [
        {
          "output_type": "execute_result",
          "data": {
            "text/html": [
              "<div>\n",
              "<style scoped>\n",
              "    .dataframe tbody tr th:only-of-type {\n",
              "        vertical-align: middle;\n",
              "    }\n",
              "\n",
              "    .dataframe tbody tr th {\n",
              "        vertical-align: top;\n",
              "    }\n",
              "\n",
              "    .dataframe thead th {\n",
              "        text-align: right;\n",
              "    }\n",
              "</style>\n",
              "<table border=\"1\" class=\"dataframe\">\n",
              "  <thead>\n",
              "    <tr style=\"text-align: right;\">\n",
              "      <th></th>\n",
              "      <th>GRE_Score</th>\n",
              "      <th>TOEFL_Score</th>\n",
              "      <th>University_Rating</th>\n",
              "      <th>SOP</th>\n",
              "      <th>LOR</th>\n",
              "      <th>CGPA</th>\n",
              "      <th>Research</th>\n",
              "      <th>Chance of Admit</th>\n",
              "    </tr>\n",
              "  </thead>\n",
              "  <tbody>\n",
              "    <tr>\n",
              "      <th>483</th>\n",
              "      <td>304</td>\n",
              "      <td>103</td>\n",
              "      <td>5</td>\n",
              "      <td>5.0</td>\n",
              "      <td>3.0</td>\n",
              "      <td>7.92</td>\n",
              "      <td>0</td>\n",
              "      <td>0.71</td>\n",
              "    </tr>\n",
              "    <tr>\n",
              "      <th>484</th>\n",
              "      <td>317</td>\n",
              "      <td>106</td>\n",
              "      <td>3</td>\n",
              "      <td>3.5</td>\n",
              "      <td>3.0</td>\n",
              "      <td>7.89</td>\n",
              "      <td>1</td>\n",
              "      <td>0.73</td>\n",
              "    </tr>\n",
              "  </tbody>\n",
              "</table>\n",
              "</div>"
            ],
            "text/plain": [
              "     GRE_Score  TOEFL_Score  University_Rating  ...  CGPA  Research  Chance of Admit\n",
              "483        304          103                  5  ...  7.92         0             0.71\n",
              "484        317          106                  3  ...  7.89         1             0.73\n",
              "\n",
              "[2 rows x 8 columns]"
            ]
          },
          "metadata": {
            "tags": []
          },
          "execution_count": 38
        }
      ]
    },
    {
      "cell_type": "markdown",
      "metadata": {
        "id": "GKGRKdeX7UnJ"
      },
      "source": [
        "1.   **By this we can say that chance of admit is very low if CGPA is less than 8.**\n",
        "2.   **Because there are only 2 students  got admit whose CGPA < 8.**\n",
        "\n",
        "\n"
      ]
    },
    {
      "cell_type": "code",
      "metadata": {
        "id": "53BzSi5e1Ukt",
        "outputId": "f9d5af42-7fd0-49e8-f3a7-98cc9b686d4b",
        "colab": {
          "base_uri": "https://localhost:8080/",
          "height": 34
        }
      },
      "source": [
        "df.loc[(df['Chance of Admit']>0.7) & ((df['CGPA']>8) & (df['CGPA']<9))].shape[0]"
      ],
      "execution_count": null,
      "outputs": [
        {
          "output_type": "execute_result",
          "data": {
            "text/plain": [
              "143"
            ]
          },
          "metadata": {
            "tags": []
          },
          "execution_count": 39
        }
      ]
    },
    {
      "cell_type": "markdown",
      "metadata": {
        "id": "2AuSzFON8MXd"
      },
      "source": [
        "**Chance of admit is high if CGPA has greater than 8**"
      ]
    },
    {
      "cell_type": "code",
      "metadata": {
        "id": "hycnwLVL4S5u",
        "outputId": "6801321d-5a86-4cbf-cbc8-bee82130c47f",
        "colab": {
          "base_uri": "https://localhost:8080/",
          "height": 296
        }
      },
      "source": [
        "sns.barplot(x=df['LOR'],y=df['Chance of Admit'],palette='YlGnBu',hue=df['Research'])\n",
        "\n",
        "\n",
        "# If LOR is 4 and he has Research Experience then there is 80% Chance of Admit"
      ],
      "execution_count": null,
      "outputs": [
        {
          "output_type": "execute_result",
          "data": {
            "text/plain": [
              "<matplotlib.axes._subplots.AxesSubplot at 0x7f95a8fc5cf8>"
            ]
          },
          "metadata": {
            "tags": []
          },
          "execution_count": 40
        },
        {
          "output_type": "display_data",
          "data": {
            "image/png": "[encoded data removed]",
            "text/plain": [
              "<Figure size 432x288 with 1 Axes>"
            ]
          },
          "metadata": {
            "tags": [],
            "needs_background": "light"
          }
        }
      ]
    },
    {
      "cell_type": "code",
      "metadata": {
        "id": "20VrdtVWB4kr",
        "outputId": "162dccbb-ca78-486e-e2cc-d4ab0ec0dc75",
        "colab": {
          "base_uri": "https://localhost:8080/",
          "height": 296
        }
      },
      "source": [
        "sns.barplot(x=df['SOP'],y=df['Chance of Admit'],palette='coolwarm',hue=df['GRE_Score']>300)"
      ],
      "execution_count": null,
      "outputs": [
        {
          "output_type": "execute_result",
          "data": {
            "text/plain": [
              "<matplotlib.axes._subplots.AxesSubplot at 0x7f95a8ea13c8>"
            ]
          },
          "metadata": {
            "tags": []
          },
          "execution_count": 41
        },
        {
          "output_type": "display_data",
          "data": {
            "image/png": "[encoded data removed]",
            "text/plain": [
              "<Figure size 432x288 with 1 Axes>"
            ]
          },
          "metadata": {
            "tags": [],
            "needs_background": "light"
          }
        }
      ]
    },
    {
      "cell_type": "code",
      "metadata": {
        "id": "Kh4sk5Cv9cxA",
        "outputId": "62c475a7-975b-4dda-aa10-af47bb18ac5b",
        "colab": {
          "base_uri": "https://localhost:8080/",
          "height": 34
        }
      },
      "source": [
        "df[ ((df['LOR']<4.5) & (df['LOR']>=4))   & ((df['SOP']<4.5) & (df['SOP']>=4))  & ((df['GRE_Score']<320) & (df['GRE_Score']>=300))]['Chance of Admit'].mean()"
      ],
      "execution_count": null,
      "outputs": [
        {
          "output_type": "execute_result",
          "data": {
            "text/plain": [
              "0.7275"
            ]
          },
          "metadata": {
            "tags": []
          },
          "execution_count": 42
        }
      ]
    },
    {
      "cell_type": "code",
      "metadata": {
        "id": "cUXu2OWsGAy5"
      },
      "source": [
        "X = df.drop(labels='Chance of Admit',axis=1) \n",
        "\n",
        "y = df['Chance of Admit']"
      ],
      "execution_count": null,
      "outputs": []
    },
    {
      "cell_type": "code",
      "metadata": {
        "id": "fkSvzRKnDpev"
      },
      "source": [
        "from sklearn.model_selection import train_test_split"
      ],
      "execution_count": null,
      "outputs": []
    },
    {
      "cell_type": "code",
      "metadata": {
        "id": "adTYymQdF2pK"
      },
      "source": [
        "X_train, X_test, y_train, y_test = train_test_split(X,y,random_state=10,test_size=0.3)"
      ],
      "execution_count": null,
      "outputs": []
    },
    {
      "cell_type": "code",
      "metadata": {
        "id": "s7LzaVWmH4yx"
      },
      "source": [
        "sety_train = [1 if chance > 0.83 else 0 for chance in y_train]\n",
        "\n",
        "sety_train=np.array(sety_train)\n",
        "\n",
        "sety_test=[1 if chance > 0.83 else 0 for chance in y_test]\n",
        "sety_test=np.array(sety_test)\n",
        "\n"
      ],
      "execution_count": null,
      "outputs": []
    },
    {
      "cell_type": "markdown",
      "metadata": {
        "id": "3It4js7G3634"
      },
      "source": [
        "# XGBoost"
      ]
    },
    {
      "cell_type": "code",
      "metadata": {
        "id": "UXXuzLPiJCjX"
      },
      "source": [
        "from xgboost import XGBClassifier\n",
        "\n",
        "\n",
        "from sklearn.model_selection import RandomizedSearchCV"
      ],
      "execution_count": null,
      "outputs": []
    },
    {
      "cell_type": "code",
      "metadata": {
        "id": "01DwdAVuJx75",
        "outputId": "46e1f5e4-8dd5-4cb0-8c89-5807d6927bb3",
        "colab": {
          "base_uri": "https://localhost:8080/",
          "height": 136
        }
      },
      "source": [
        "clf = XGBClassifier()\n",
        "\n",
        "clf.fit(X_train,sety_train)"
      ],
      "execution_count": null,
      "outputs": [
        {
          "output_type": "execute_result",
          "data": {
            "text/plain": [
              "XGBClassifier(base_score=0.5, booster='gbtree', colsample_bylevel=1,\n",
              "              colsample_bynode=1, colsample_bytree=1, gamma=0,\n",
              "              learning_rate=0.1, max_delta_step=0, max_depth=3,\n",
              "              min_child_weight=1, missing=None, n_estimators=100, n_jobs=1,\n",
              "              nthread=None, objective='binary:logistic', random_state=0,\n",
              "              reg_alpha=0, reg_lambda=1, scale_pos_weight=1, seed=None,\n",
              "              silent=None, subsample=1, verbosity=1)"
            ]
          },
          "metadata": {
            "tags": []
          },
          "execution_count": 48
        }
      ]
    },
    {
      "cell_type": "code",
      "metadata": {
        "id": "m-DlrTqvJ_t8"
      },
      "source": [
        "clf_pred = clf.predict(X_test)"
      ],
      "execution_count": null,
      "outputs": []
    },
    {
      "cell_type": "code",
      "metadata": {
        "id": "0nVet5DWKEI1"
      },
      "source": [
        "from sklearn.metrics import mean_absolute_error"
      ],
      "execution_count": null,
      "outputs": []
    },
    {
      "cell_type": "code",
      "metadata": {
        "id": "ldruqemkKKZJ",
        "outputId": "fd45bc43-3a70-46b2-d2fa-9399e193cf7e",
        "colab": {
          "base_uri": "https://localhost:8080/",
          "height": 34
        }
      },
      "source": [
        "mean_absolute_error(sety_test,clf_pred)"
      ],
      "execution_count": null,
      "outputs": [
        {
          "output_type": "execute_result",
          "data": {
            "text/plain": [
              "0.06666666666666667"
            ]
          },
          "metadata": {
            "tags": []
          },
          "execution_count": 51
        }
      ]
    },
    {
      "cell_type": "code",
      "metadata": {
        "id": "iH1OMW4dKTri",
        "outputId": "5be726c3-fe34-4530-c4ca-6b18fa065594",
        "colab": {
          "base_uri": "https://localhost:8080/",
          "height": 34
        }
      },
      "source": [
        "clf.score(X_test,sety_test)"
      ],
      "execution_count": null,
      "outputs": [
        {
          "output_type": "execute_result",
          "data": {
            "text/plain": [
              "0.9333333333333333"
            ]
          },
          "metadata": {
            "tags": []
          },
          "execution_count": 52
        }
      ]
    },
    {
      "cell_type": "code",
      "metadata": {
        "id": "FEptL_i5L8Sh"
      },
      "source": [
        "params_grid  = {'learning_rate':[1e-10,1e-15,0.3,0.01,0.1,0.05,0.001],\n",
        "                \n",
        "                'n_estimators':[100,200,400,500,1000,1200],\n",
        "\n",
        "                 'max_depth':[2,5,7,9,15,10,20,25,30]\n",
        "                \n",
        "                 \n",
        "            \n",
        "                }"
      ],
      "execution_count": null,
      "outputs": []
    },
    {
      "cell_type": "code",
      "metadata": {
        "id": "Ws6wlQQrLweR"
      },
      "source": [
        "XGtuning = RandomizedSearchCV(estimator=clf,param_distributions=params_grid,cv=3,n_jobs=-1)"
      ],
      "execution_count": null,
      "outputs": []
    },
    {
      "cell_type": "code",
      "metadata": {
        "id": "-rhfHx6tOHqk",
        "outputId": "a934b836-67cf-4c1c-9e91-03320bb08f36",
        "colab": {
          "base_uri": "https://localhost:8080/",
          "height": 425
        }
      },
      "source": [
        "XGtuning.fit(X_train,sety_train)"
      ],
      "execution_count": null,
      "outputs": [
        {
          "output_type": "execute_result",
          "data": {
            "text/plain": [
              "RandomizedSearchCV(cv=3, error_score=nan,\n",
              "                   estimator=XGBClassifier(base_score=0.5, booster='gbtree',\n",
              "                                           colsample_bylevel=1,\n",
              "                                           colsample_bynode=1,\n",
              "                                           colsample_bytree=1, gamma=0,\n",
              "                                           learning_rate=0.1, max_delta_step=0,\n",
              "                                           max_depth=3, min_child_weight=1,\n",
              "                                           missing=None, n_estimators=100,\n",
              "                                           n_jobs=1, nthread=None,\n",
              "                                           objective='binary:logistic',\n",
              "                                           random_state=0, reg_alpha=0,\n",
              "                                           reg_lambda=1, sc...weight=1,\n",
              "                                           seed=None, silent=None, subsample=1,\n",
              "                                           verbosity=1),\n",
              "                   iid='deprecated', n_iter=10, n_jobs=-1,\n",
              "                   param_distributions={'learning_rate': [1e-10, 1e-15, 0.3,\n",
              "                                                          0.01, 0.1, 0.05,\n",
              "                                                          0.001],\n",
              "                                        'max_depth': [2, 5, 7, 9, 15, 10, 20,\n",
              "                                                      25, 30],\n",
              "                                        'n_estimators': [100, 200, 400, 500,\n",
              "                                                         1000, 1200]},\n",
              "                   pre_dispatch='2*n_jobs', random_state=None, refit=True,\n",
              "                   return_train_score=False, scoring=None, verbose=0)"
            ]
          },
          "metadata": {
            "tags": []
          },
          "execution_count": 55
        }
      ]
    },
    {
      "cell_type": "code",
      "metadata": {
        "id": "TsnmQ9NvOP2M",
        "outputId": "da4b72dd-902e-461f-8c0a-9fae21b7f237",
        "colab": {
          "base_uri": "https://localhost:8080/",
          "height": 34
        }
      },
      "source": [
        "XGtuning.best_params_"
      ],
      "execution_count": null,
      "outputs": [
        {
          "output_type": "execute_result",
          "data": {
            "text/plain": [
              "{'learning_rate': 0.01, 'max_depth': 9, 'n_estimators': 400}"
            ]
          },
          "metadata": {
            "tags": []
          },
          "execution_count": 56
        }
      ]
    },
    {
      "cell_type": "code",
      "metadata": {
        "id": "jSJARkH7OqTD",
        "outputId": "aa183fdc-0de6-4c57-d9e3-2cdc681d910b",
        "colab": {
          "base_uri": "https://localhost:8080/",
          "height": 34
        }
      },
      "source": [
        "XGtuning.best_score_"
      ],
      "execution_count": null,
      "outputs": [
        {
          "output_type": "execute_result",
          "data": {
            "text/plain": [
              "0.9542440318302386"
            ]
          },
          "metadata": {
            "tags": []
          },
          "execution_count": 57
        }
      ]
    },
    {
      "cell_type": "code",
      "metadata": {
        "id": "R9KYzW05Otk4"
      },
      "source": [
        "XGtune_pred = XGtuning.predict(X_test)\n"
      ],
      "execution_count": null,
      "outputs": []
    },
    {
      "cell_type": "code",
      "metadata": {
        "id": "K0WNJq5lO4Bm",
        "outputId": "4d93e12f-c822-44e5-e7ec-45a83c1d7d2d",
        "colab": {
          "base_uri": "https://localhost:8080/",
          "height": 34
        }
      },
      "source": [
        "XGtuning.score(X_test,sety_test)"
      ],
      "execution_count": null,
      "outputs": [
        {
          "output_type": "execute_result",
          "data": {
            "text/plain": [
              "0.9266666666666666"
            ]
          },
          "metadata": {
            "tags": []
          },
          "execution_count": 59
        }
      ]
    },
    {
      "cell_type": "markdown",
      "metadata": {
        "id": "jJulGPwQ30iq"
      },
      "source": [
        "# RandomForestClassifier"
      ]
    },
    {
      "cell_type": "code",
      "metadata": {
        "id": "zSVgqFJ4tjKG"
      },
      "source": [
        "from sklearn.ensemble import RandomForestClassifier"
      ],
      "execution_count": null,
      "outputs": []
    },
    {
      "cell_type": "code",
      "metadata": {
        "id": "pcH8VO0Bwvb7"
      },
      "source": [
        "rf_clf = RandomForestClassifier()"
      ],
      "execution_count": null,
      "outputs": []
    },
    {
      "cell_type": "code",
      "metadata": {
        "id": "7a1gOLv2wzvb",
        "outputId": "5320791a-5997-4410-b9bc-614027544007",
        "colab": {
          "base_uri": "https://localhost:8080/"
        }
      },
      "source": [
        "rf_clf.fit(X_train,sety_train)"
      ],
      "execution_count": null,
      "outputs": [
        {
          "output_type": "execute_result",
          "data": {
            "text/plain": [
              "RandomForestClassifier(bootstrap=True, ccp_alpha=0.0, class_weight=None,\n",
              "                       criterion='gini', max_depth=None, max_features='auto',\n",
              "                       max_leaf_nodes=None, max_samples=None,\n",
              "                       min_impurity_decrease=0.0, min_impurity_split=None,\n",
              "                       min_samples_leaf=1, min_samples_split=2,\n",
              "                       min_weight_fraction_leaf=0.0, n_estimators=100,\n",
              "                       n_jobs=None, oob_score=False, random_state=None,\n",
              "                       verbose=0, warm_start=False)"
            ]
          },
          "metadata": {
            "tags": []
          },
          "execution_count": 62
        }
      ]
    },
    {
      "cell_type": "code",
      "metadata": {
        "id": "WzPseJH6ys0D"
      },
      "source": [
        "rf_params  = {'criterion':['gini','impurity'],\n",
        "                \n",
        "                'n_estimators':[100,200,400,500,1000,1200],\n",
        "\n",
        "                 'max_depth':[2,5,7,9,15,10,20,25,30],\n",
        "                \n",
        "                 'max_features':['auto','sqrt','log2']\n",
        "                 \n",
        "            \n",
        "                }"
      ],
      "execution_count": null,
      "outputs": []
    },
    {
      "cell_type": "code",
      "metadata": {
        "id": "oH8BjfSXytkt"
      },
      "source": [
        "\n",
        "RFtuning = RandomizedSearchCV(estimator=rf_clf,param_distributions=rf_params,cv=3,n_jobs=-1)"
      ],
      "execution_count": null,
      "outputs": []
    },
    {
      "cell_type": "code",
      "metadata": {
        "id": "on5o8dXmzZ_W",
        "outputId": "02226418-429d-43a7-c186-df52ddce34f5",
        "colab": {
          "base_uri": "https://localhost:8080/"
        }
      },
      "source": [
        "RFtuning.fit(X_train,sety_train)"
      ],
      "execution_count": null,
      "outputs": [
        {
          "output_type": "execute_result",
          "data": {
            "text/plain": [
              "RandomizedSearchCV(cv=3, error_score=nan,\n",
              "                   estimator=RandomForestClassifier(bootstrap=True,\n",
              "                                                    ccp_alpha=0.0,\n",
              "                                                    class_weight=None,\n",
              "                                                    criterion='gini',\n",
              "                                                    max_depth=None,\n",
              "                                                    max_features='auto',\n",
              "                                                    max_leaf_nodes=None,\n",
              "                                                    max_samples=None,\n",
              "                                                    min_impurity_decrease=0.0,\n",
              "                                                    min_impurity_split=None,\n",
              "                                                    min_samples_leaf=1,\n",
              "                                                    min_samples_split=2,\n",
              "                                                    min_weight_fraction_leaf=0.0,\n",
              "                                                    n_estimators=100,\n",
              "                                                    n_jobs...\n",
              "                                                    random_state=None,\n",
              "                                                    verbose=0,\n",
              "                                                    warm_start=False),\n",
              "                   iid='deprecated', n_iter=10, n_jobs=-1,\n",
              "                   param_distributions={'criterion': ['gini', 'impurity'],\n",
              "                                        'max_depth': [2, 5, 7, 9, 15, 10, 20,\n",
              "                                                      25, 30],\n",
              "                                        'max_features': ['auto', 'sqrt',\n",
              "                                                         'log2'],\n",
              "                                        'n_estimators': [100, 200, 400, 500,\n",
              "                                                         1000, 1200]},\n",
              "                   pre_dispatch='2*n_jobs', random_state=None, refit=True,\n",
              "                   return_train_score=False, scoring=None, verbose=0)"
            ]
          },
          "metadata": {
            "tags": []
          },
          "execution_count": 65
        }
      ]
    },
    {
      "cell_type": "code",
      "metadata": {
        "id": "I8d1yH4JzfER",
        "outputId": "3dfa19ca-9db6-48c5-b3ae-01fd9522d687",
        "colab": {
          "base_uri": "https://localhost:8080/"
        }
      },
      "source": [
        "RFtuning.best_params_"
      ],
      "execution_count": null,
      "outputs": [
        {
          "output_type": "execute_result",
          "data": {
            "text/plain": [
              "{'criterion': 'gini',\n",
              " 'max_depth': 20,\n",
              " 'max_features': 'sqrt',\n",
              " 'n_estimators': 100}"
            ]
          },
          "metadata": {
            "tags": []
          },
          "execution_count": 66
        }
      ]
    },
    {
      "cell_type": "code",
      "metadata": {
        "id": "46EGpO0ezjO6",
        "outputId": "08f2ad26-2a10-4a7a-d619-32c2211a44bb",
        "colab": {
          "base_uri": "https://localhost:8080/"
        }
      },
      "source": [
        "RFtuning.best_score_"
      ],
      "execution_count": null,
      "outputs": [
        {
          "output_type": "execute_result",
          "data": {
            "text/plain": [
              "0.9542440318302386"
            ]
          },
          "metadata": {
            "tags": []
          },
          "execution_count": 67
        }
      ]
    },
    {
      "cell_type": "code",
      "metadata": {
        "id": "uk6j_NFYztDS"
      },
      "source": [
        "RF_pred = RFtuning.predict(X_test)"
      ],
      "execution_count": null,
      "outputs": []
    },
    {
      "cell_type": "code",
      "metadata": {
        "id": "euinV8M9zyMS",
        "outputId": "5ed6d9d0-65a7-4e4f-db0d-c1e6a3ea7146",
        "colab": {
          "base_uri": "https://localhost:8080/"
        }
      },
      "source": [
        "print(classification_report(sety_test,RF_pred))\n",
        "\n",
        "confusion_matrix(sety_test,RF_pred)"
      ],
      "execution_count": null,
      "outputs": [
        {
          "output_type": "stream",
          "text": [
            "              precision    recall  f1-score   support\n",
            "\n",
            "           0       0.94      0.97      0.96       113\n",
            "           1       0.91      0.81      0.86        37\n",
            "\n",
            "    accuracy                           0.93       150\n",
            "   macro avg       0.92      0.89      0.91       150\n",
            "weighted avg       0.93      0.93      0.93       150\n",
            "\n"
          ],
          "name": "stdout"
        },
        {
          "output_type": "execute_result",
          "data": {
            "text/plain": [
              "array([[110,   3],\n",
              "       [  7,  30]])"
            ]
          },
          "metadata": {
            "tags": []
          },
          "execution_count": 69
        }
      ]
    },
    {
      "cell_type": "markdown",
      "metadata": {
        "id": "1l0EIQtv3rUM"
      },
      "source": [
        "# LogisticRegression"
      ]
    },
    {
      "cell_type": "code",
      "metadata": {
        "id": "4bRPnzg00lxD"
      },
      "source": [
        "from sklearn.linear_model import LogisticRegression"
      ],
      "execution_count": null,
      "outputs": []
    },
    {
      "cell_type": "code",
      "metadata": {
        "id": "uKyJXHrX1Dwn"
      },
      "source": [
        "LR = LogisticRegression()"
      ],
      "execution_count": null,
      "outputs": []
    },
    {
      "cell_type": "code",
      "metadata": {
        "id": "G-j-kyPD1GAP",
        "outputId": "fdaf510e-857a-472b-ffac-7108c4f72fb5",
        "colab": {
          "base_uri": "https://localhost:8080/",
          "height": 258
        }
      },
      "source": [
        "LR.fit(X_train,sety_train)"
      ],
      "execution_count": null,
      "outputs": [
        {
          "output_type": "stream",
          "text": [
            "/usr/local/lib/python3.6/dist-packages/sklearn/linear_model/_logistic.py:940: ConvergenceWarning: lbfgs failed to converge (status=1):\n",
            "STOP: TOTAL NO. of ITERATIONS REACHED LIMIT.\n",
            "\n",
            "Increase the number of iterations (max_iter) or scale the data as shown in:\n",
            "    https://scikit-learn.org/stable/modules/preprocessing.html\n",
            "Please also refer to the documentation for alternative solver options:\n",
            "    https://scikit-learn.org/stable/modules/linear_model.html#logistic-regression\n",
            "  extra_warning_msg=_LOGISTIC_SOLVER_CONVERGENCE_MSG)\n"
          ],
          "name": "stderr"
        },
        {
          "output_type": "execute_result",
          "data": {
            "text/plain": [
              "LogisticRegression(C=1.0, class_weight=None, dual=False, fit_intercept=True,\n",
              "                   intercept_scaling=1, l1_ratio=None, max_iter=100,\n",
              "                   multi_class='auto', n_jobs=None, penalty='l2',\n",
              "                   random_state=None, solver='lbfgs', tol=0.0001, verbose=0,\n",
              "                   warm_start=False)"
            ]
          },
          "metadata": {
            "tags": []
          },
          "execution_count": 72
        }
      ]
    },
    {
      "cell_type": "code",
      "metadata": {
        "id": "i8IhJGEC1KpU"
      },
      "source": [
        "LR_pred = LR.predict(X_test)"
      ],
      "execution_count": null,
      "outputs": []
    },
    {
      "cell_type": "code",
      "metadata": {
        "id": "7i8wwtAZ1SKM",
        "outputId": "9da68764-167c-432b-ab24-09f969fe0740",
        "colab": {
          "base_uri": "https://localhost:8080/",
          "height": 34
        }
      },
      "source": [
        "accuracy_score(sety_test,LR_pred)"
      ],
      "execution_count": null,
      "outputs": [
        {
          "output_type": "execute_result",
          "data": {
            "text/plain": [
              "0.92"
            ]
          },
          "metadata": {
            "tags": []
          },
          "execution_count": 74
        }
      ]
    },
    {
      "cell_type": "code",
      "metadata": {
        "id": "Yr0-1IVX1YZP",
        "outputId": "589d47b9-b27c-44af-b320-68c57f9c3307",
        "colab": {
          "base_uri": "https://localhost:8080/",
          "height": 367
        }
      },
      "source": [
        "matrix = confusion_matrix(sety_test,LR_pred)\n",
        "plt.figure(figsize=(9,5))\n",
        "sns.heatmap(matrix,annot=True,xticklabels=['Admitted', 'Rejected'],yticklabels=['Admitted','Rejected'],fmt='d')\n",
        "plt.xlabel('Predicted')\n",
        "plt.ylabel('Actual')\n",
        "plt.title(\"Heatmap of confusion matrix\")"
      ],
      "execution_count": null,
      "outputs": [
        {
          "output_type": "execute_result",
          "data": {
            "text/plain": [
              "Text(0.5, 1.0, 'Heatmap of confusion matrix')"
            ]
          },
          "metadata": {
            "tags": []
          },
          "execution_count": 75
        },
        {
          "output_type": "display_data",
          "data": {
            "image/png": "[encoded data removed]",
            "text/plain": [
              "<Figure size 648x360 with 2 Axes>"
            ]
          },
          "metadata": {
            "tags": [],
            "needs_background": "light"
          }
        }
      ]
    },
    {
      "cell_type": "code",
      "metadata": {
        "id": "tqXwOj_L14ZW",
        "outputId": "0c264226-5298-4e1a-bf71-76404053916b",
        "colab": {
          "base_uri": "https://localhost:8080/",
          "height": 51
        }
      },
      "source": [
        "LR.predict([[int(input()),118,4,4.5,4.5,9,0]])"
      ],
      "execution_count": null,
      "outputs": [
        {
          "output_type": "stream",
          "text": [
            "330\n"
          ],
          "name": "stdout"
        },
        {
          "output_type": "execute_result",
          "data": {
            "text/plain": [
              "array([1])"
            ]
          },
          "metadata": {
            "tags": []
          },
          "execution_count": 86
        }
      ]
    },
    {
      "cell_type": "markdown",
      "metadata": {
        "id": "SQmgaKQ-OB6K"
      },
      "source": [
        "**1 in array tells that there is a chance of admit in university which has rating 4.**"
      ]
    }
  ]
}