{
  "nbformat": 4,
  "nbformat_minor": 0,
  "metadata": {
    "colab": {
      "name": "method overloading.ipynb",
      "provenance": [],
      "authorship_tag": "ABX9TyONSYoiQGGsqg4JzcfPGiQw",
      "include_colab_link": true
    },
    "kernelspec": {
      "name": "python3",
      "display_name": "Python 3"
    }
  },
  "cells": [
    {
      "cell_type": "markdown",
      "metadata": {
        "id": "view-in-github",
        "colab_type": "text"
      },
      "source": [
        "<a href=\"https://colab.research.google.com/github/suryagokul/Data-Science-Portfolio/blob/master/method_overloading.ipynb\" target=\"_parent\"><img src=\"https://colab.research.google.com/assets/colab-badge.svg\" alt=\"Open In Colab\"/></a>"
      ]
    },
    {
      "cell_type": "markdown",
      "metadata": {
        "id": "9rc5bIJdGOiN"
      },
      "source": [
        "`Like other languages (for example, method overloading in C++) do, python does not support method overloading by default. But there are different ways to achieve method overloading in Python.` \r\n",
        "\r\n",
        "    The problem with method overloading in Python is that we may overload the \r\n",
        "    methods but can only use the latest defined method. "
      ]
    },
    {
      "cell_type": "code",
      "metadata": {
        "colab": {
          "base_uri": "https://localhost:8080/"
        },
        "id": "1UGjTHJ1GCWs",
        "outputId": "9ce6f808-cf64-42f2-ac9e-565843b2a4a3"
      },
      "source": [
        "class Test:\r\n",
        "   \r\n",
        "    def f1(self,a):\r\n",
        "        print(\"Function 1 \")\r\n",
        "   \r\n",
        "    def f1(self,a,b):\r\n",
        "        print(\"Function 2\",a,b)\r\n",
        "\r\n",
        "obj = Test()\r\n",
        "\r\n",
        "obj.f1(10,20)          # we can use only latest defined methodm\r\n",
        "\r\n",
        "#  obj.f1() TypeError: f1() missing 2 required positional arguments: 'a' and 'b'"
      ],
      "execution_count": 4,
      "outputs": [
        {
          "output_type": "stream",
          "text": [
            "Function 2 10 20\n"
          ],
          "name": "stdout"
        }
      ]
    },
    {
      "cell_type": "markdown",
      "metadata": {
        "id": "fCbm-ZN_Gafr"
      },
      "source": [
        "### Method 1 : \r\n",
        "\r\n",
        "`To achieve method overloading using variable length arguments`"
      ]
    },
    {
      "cell_type": "markdown",
      "metadata": {
        "id": "1Dd_twC4HspO"
      },
      "source": [
        "We can use the arguments to make the same function work differently i.e. as per the arguments."
      ]
    },
    {
      "cell_type": "code",
      "metadata": {
        "colab": {
          "base_uri": "https://localhost:8080/"
        },
        "id": "kS8_LXNeGJ7j",
        "outputId": "3b1b6b9e-188a-4471-c5c2-d46500ade669"
      },
      "source": [
        "class Test:\r\n",
        "    def f1(self,*args):\r\n",
        "        for i in args:\r\n",
        "            if type(i) ==str:\r\n",
        "                continue\r\n",
        "            else:\r\n",
        "                print(\"Function 1 \",i)\r\n",
        "\r\n",
        "obj = Test()\r\n",
        "\r\n",
        "obj.f1(10,20)\r\n",
        "\r\n",
        "obj.f1('surya',70,90)"
      ],
      "execution_count": 5,
      "outputs": [
        {
          "output_type": "stream",
          "text": [
            "Function 1  10\n",
            "Function 1  20\n",
            "Function 1  70\n",
            "Function 1  90\n"
          ],
          "name": "stdout"
        }
      ]
    },
    {
      "cell_type": "markdown",
      "metadata": {
        "id": "tb221upwIUkN"
      },
      "source": [
        "### Method2 : (Efficient One)\r\n",
        "\r\n",
        "      By Using Multiple Dispatch Decorator "
      ]
    },
    {
      "cell_type": "code",
      "metadata": {
        "id": "qRmhwSzQIPF_"
      },
      "source": [
        "!pip install multipledispatch --quiet"
      ],
      "execution_count": 7,
      "outputs": []
    },
    {
      "cell_type": "code",
      "metadata": {
        "id": "6DAbxgRVHlXb"
      },
      "source": [
        "from multipledispatch import  dispatch"
      ],
      "execution_count": 8,
      "outputs": []
    },
    {
      "cell_type": "code",
      "metadata": {
        "colab": {
          "base_uri": "https://localhost:8080/"
        },
        "id": "VrXIhCLzInK3",
        "outputId": "fc057750-5f65-49c6-cd13-31c1a668ed7c"
      },
      "source": [
        "class Test:\r\n",
        "    \r\n",
        "    @dispatch(int)\r\n",
        "    def f1(self,a):\r\n",
        "        print(\"Function 1 \",a)\r\n",
        "   \r\n",
        "    @dispatch(int,int)\r\n",
        "    def f1(self,a,b):\r\n",
        "        print(\"Function 2\",a,b)\r\n",
        "\r\n",
        "obj = Test()\r\n",
        "\r\n",
        "obj.f1(10)\r\n",
        "\r\n",
        "obj.f1(10,20)          # we can use only latest defined method"
      ],
      "execution_count": 12,
      "outputs": [
        {
          "output_type": "stream",
          "text": [
            "Function 1  10\n",
            "Function 2 10 20\n"
          ],
          "name": "stdout"
        }
      ]
    },
    {
      "cell_type": "markdown",
      "metadata": {
        "id": "3q3RDsi_JF2P"
      },
      "source": [
        "    In Backend, Dispatcher creates an object which stores different \r\n",
        "    implementation and on runtime, it selects the appropriate method as the \r\n",
        "    type and number of parameters passed."
      ]
    }
  ]
}