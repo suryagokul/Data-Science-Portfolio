{
  "nbformat": 4,
  "nbformat_minor": 0,
  "metadata": {
    "colab": {
      "name": "Introduction to tf 2.x and keras.ipynb",
      "provenance": [],
      "collapsed_sections": [
        "6Ig9c-FlA7ZD",
        "e5AznsatCIdF",
        "Q2Ux9D7QNSuA",
        "wawHpRsRfYQS",
        "CFGkE1BdNEOU",
        "R5ULYpPdQqC9",
        "GYuYAyRzcUDl",
        "PiCT7jg4cx7U",
        "MVM73Yrwc-ng",
        "C0PAeCRteqsv",
        "RlKYTrjlf_6v",
        "6-F9pM8egRq3",
        "X3WJDOV5hoMb",
        "Egx-SHbwjIgx"
      ],
      "authorship_tag": "ABX9TyNigiEcG+EllFw84M/HnbDI",
      "include_colab_link": true
    },
    "kernelspec": {
      "name": "python3",
      "display_name": "Python 3"
    }
  },
  "cells": [
    {
      "cell_type": "markdown",
      "metadata": {
        "id": "view-in-github",
        "colab_type": "text"
      },
      "source": [
        "<a href=\"https://colab.research.google.com/github/suryagokul/Data-Science-Portfolio/blob/master/Introduction_to_tf_2_x_and_keras.ipynb\" target=\"_parent\"><img src=\"https://colab.research.google.com/assets/colab-badge.svg\" alt=\"Open In Colab\"/></a>"
      ]
    },
    {
      "cell_type": "markdown",
      "metadata": {
        "id": "gVFGrin67ccs"
      },
      "source": [
        "# **Tensorflow 2.0**"
      ]
    },
    {
      "cell_type": "markdown",
      "metadata": {
        "id": "E27YPU_47Z_Q"
      },
      "source": [
        "> TensorFlow is an open source software library for high performance numerical computation. Its flexible architecture allows easy deployment of computation across a variety of platforms (CPUs, GPUs, TPUs), and from desktops to clusters of servers to mobile and edge devices.\n",
        "> Originally developed by researchers and engineers from the Google Brain team within Google’s AI organization, it comes with strong support for machine learning and deep learning and the flexible numerical computation core is used across many other scientific domains."
      ]
    },
    {
      "cell_type": "markdown",
      "metadata": {
        "id": "TqtAFcQe_B2k"
      },
      "source": [
        "## Installation of Tensorflow\n",
        "\n",
        ">TensorFlow is tested and supported on the following 64-bit systems:\n",
        "\n",
        ">1.Ubuntu 16.04 or later\n",
        "\n",
        ">2.Windows 7 or later\n",
        "\n",
        ">3.macOS 10.12.6 (Sierra) or later (no GPU support)\n",
        "\n",
        ">4.Raspbian 9.0 or later\n",
        "\n",
        "> **pip install tensorflow==2.0.0**\n",
        "\n",
        "> To run from Anaconda Prompt\n",
        "\n",
        "> **!pip install tensorflow==2.0.0**\n",
        "\n",
        "> To run from Jupyter Notebook"
      ]
    },
    {
      "cell_type": "markdown",
      "metadata": {
        "id": "_kRgeWEB_STy"
      },
      "source": [
        "`Both Tensorflow 2.0 and Keras have been released for four years (Keras was released in March 2015, and Tensorflow was released in November of the same year). The rapid development of deep learning in the past days, we also know some problems of Tensorflow1.x and Keras:`\n",
        "\n",
        "* Using Tensorflow means programming static graphs, which is difficult and inconvenient for programs that are familiar with imperative programming\n",
        "\n",
        "* Tensorflow api is powerful and flexible, but it is more complex, confusing and difficult to use.\n",
        "\n",
        "* Keras api is productive and easy to use, but lacks flexibility for research\n"
      ]
    },
    {
      "cell_type": "markdown",
      "metadata": {
        "id": "uhdCr9MT_0pZ"
      },
      "source": [
        "Importing"
      ]
    },
    {
      "cell_type": "code",
      "metadata": {
        "id": "qEdMKUYK3nyQ"
      },
      "source": [
        "import tensorflow as tf      #By default colab has tensorflow 2.x"
      ],
      "execution_count": 178,
      "outputs": []
    },
    {
      "cell_type": "markdown",
      "metadata": {
        "id": "TBlWgVA6_rkX"
      },
      "source": [
        "Version Check"
      ]
    },
    {
      "cell_type": "code",
      "metadata": {
        "id": "ulKtXv-6_5wc",
        "outputId": "f8693253-de4a-43cb-cc2b-5b6b6b70f113",
        "colab": {
          "base_uri": "https://localhost:8080/",
          "height": 35
        }
      },
      "source": [
        "tf.__version__"
      ],
      "execution_count": 179,
      "outputs": [
        {
          "output_type": "execute_result",
          "data": {
            "application/vnd.google.colaboratory.intrinsic+json": {
              "type": "string"
            },
            "text/plain": [
              "'2.3.0'"
            ]
          },
          "metadata": {
            "tags": []
          },
          "execution_count": 179
        }
      ]
    },
    {
      "cell_type": "markdown",
      "metadata": {
        "id": "GEFkLylKA1ET"
      },
      "source": [
        "`Tensorflow2.0 is a combination design of Tensorflow1.x and Keras. Considering user feedback and framework development over the past four years, it largely solves the above problems and will become the future machine learning platform.`\n",
        "\n",
        "> Tensorflow 2.0 is built on the following core ideas:\n",
        "\n",
        "\n",
        "* The coding is more pythonic, so that users can get the results immediately like they are programming in numpy\n",
        "* Retaining the characteristics of static graphs (for performance, distributed, and production deployment), this makes TensorFlow fast, scalable, and ready for production.\n",
        "* Using Keras as a high-level API for deep learning, making Tensorflow easy to use and efficient\n",
        "* Make the entire framework both high-level features (easy to use, efficient, and not flexible) and low-level features (powerful and scalable, not easy to use, but very flexible)"
      ]
    },
    {
      "cell_type": "markdown",
      "metadata": {
        "id": "qhWabKT4A5-P"
      },
      "source": [
        ">Eager execution is by default in TensorFlow 2.0 and, it needs no special setup.\n",
        ">The following below code can be used to find out whether a CPU or GPU is in use"
      ]
    },
    {
      "cell_type": "markdown",
      "metadata": {
        "id": "6Ig9c-FlA7ZD"
      },
      "source": [
        "### GPU/CPU Check"
      ]
    },
    {
      "cell_type": "code",
      "metadata": {
        "id": "lgXNSx9tA-F2",
        "outputId": "0c7f4103-2728-443d-d045-db27771ed8bc",
        "colab": {
          "base_uri": "https://localhost:8080/"
        }
      },
      "source": [
        "tf.test.is_gpu_available()"
      ],
      "execution_count": 180,
      "outputs": [
        {
          "output_type": "execute_result",
          "data": {
            "text/plain": [
              "False"
            ]
          },
          "metadata": {
            "tags": []
          },
          "execution_count": 180
        }
      ]
    },
    {
      "cell_type": "code",
      "metadata": {
        "id": "IglWM8cyB8Ww",
        "outputId": "c0313f41-764f-4068-8026-9bff07765c06",
        "colab": {
          "base_uri": "https://localhost:8080/"
        }
      },
      "source": [
        "if tf.test.is_gpu_available():\n",
        "    print('GPU')\n",
        "else:\n",
        "    print('CPU')"
      ],
      "execution_count": 181,
      "outputs": [
        {
          "output_type": "stream",
          "text": [
            "CPU\n"
          ],
          "name": "stdout"
        }
      ]
    },
    {
      "cell_type": "markdown",
      "metadata": {
        "id": "e5AznsatCIdF"
      },
      "source": [
        "### Tensor Variable"
      ]
    },
    {
      "cell_type": "code",
      "metadata": {
        "id": "F2mnaEOh_8I-",
        "outputId": "0096734d-8a4d-4017-97f4-dace100d8094",
        "colab": {
          "base_uri": "https://localhost:8080/"
        }
      },
      "source": [
        "tf.Variable(542)"
      ],
      "execution_count": 182,
      "outputs": [
        {
          "output_type": "execute_result",
          "data": {
            "text/plain": [
              "<tf.Variable 'Variable:0' shape=() dtype=int32, numpy=542>"
            ]
          },
          "metadata": {
            "tags": []
          },
          "execution_count": 182
        }
      ]
    },
    {
      "cell_type": "markdown",
      "metadata": {
        "id": "5z0O2jxUAX0V"
      },
      "source": [
        "The main update in tensorflow 2.x when compared to 1.x is **\"We need not to create any sessions to get the data\".**\n",
        "\n",
        "We can access the data using numpy function as sshown below..."
      ]
    },
    {
      "cell_type": "code",
      "metadata": {
        "id": "wf127e7DAQUD",
        "outputId": "e44a58ca-8ee6-43f3-ecee-60996bd1a538",
        "colab": {
          "base_uri": "https://localhost:8080/"
        }
      },
      "source": [
        "tf.Variable(542).numpy()"
      ],
      "execution_count": 183,
      "outputs": [
        {
          "output_type": "execute_result",
          "data": {
            "text/plain": [
              "542"
            ]
          },
          "metadata": {
            "tags": []
          },
          "execution_count": 183
        }
      ]
    },
    {
      "cell_type": "markdown",
      "metadata": {
        "id": "x_n0ALlUD1Lg"
      },
      "source": [
        "**IMPLICIT SPECIFICATION OF DATATYPE**"
      ]
    },
    {
      "cell_type": "code",
      "metadata": {
        "id": "nzV6tW4HAUs6",
        "outputId": "bb9a12fb-9a46-4115-c6b0-d54bd6a4f329",
        "colab": {
          "base_uri": "https://localhost:8080/"
        }
      },
      "source": [
        "twod_tensor = tf.Variable([[1,2,3],[4,5,6]])\n",
        "\n",
        "twod_tensor"
      ],
      "execution_count": 184,
      "outputs": [
        {
          "output_type": "execute_result",
          "data": {
            "text/plain": [
              "<tf.Variable 'Variable:0' shape=(2, 3) dtype=int32, numpy=\n",
              "array([[1, 2, 3],\n",
              "       [4, 5, 6]], dtype=int32)>"
            ]
          },
          "metadata": {
            "tags": []
          },
          "execution_count": 184
        }
      ]
    },
    {
      "cell_type": "code",
      "metadata": {
        "id": "ZNP2RTC9DmP2",
        "outputId": "e6bda567-2939-4f57-b4c7-3f1b8a7e2d28",
        "colab": {
          "base_uri": "https://localhost:8080/"
        }
      },
      "source": [
        "twod_tensor.numpy()"
      ],
      "execution_count": 185,
      "outputs": [
        {
          "output_type": "execute_result",
          "data": {
            "text/plain": [
              "array([[1, 2, 3],\n",
              "       [4, 5, 6]], dtype=int32)"
            ]
          },
          "metadata": {
            "tags": []
          },
          "execution_count": 185
        }
      ]
    },
    {
      "cell_type": "code",
      "metadata": {
        "id": "SPc0kZwqCq2x",
        "outputId": "26f003cc-0639-48c6-fd09-2ada1cc3d73f",
        "colab": {
          "base_uri": "https://localhost:8080/"
        }
      },
      "source": [
        "twod_tensor.shape"
      ],
      "execution_count": 186,
      "outputs": [
        {
          "output_type": "execute_result",
          "data": {
            "text/plain": [
              "TensorShape([2, 3])"
            ]
          },
          "metadata": {
            "tags": []
          },
          "execution_count": 186
        }
      ]
    },
    {
      "cell_type": "code",
      "metadata": {
        "id": "YS_6RUZuC6o-",
        "outputId": "993d67da-2198-44b7-c077-f8c075cc9f03",
        "colab": {
          "base_uri": "https://localhost:8080/"
        }
      },
      "source": [
        "twod_tensor.dtype"
      ],
      "execution_count": 187,
      "outputs": [
        {
          "output_type": "execute_result",
          "data": {
            "text/plain": [
              "tf.int32"
            ]
          },
          "metadata": {
            "tags": []
          },
          "execution_count": 187
        }
      ]
    },
    {
      "cell_type": "markdown",
      "metadata": {
        "id": "V_1bp7qlEJrD"
      },
      "source": [
        "**EXPLICIT SPECIFICATION OF DATATYPE**"
      ]
    },
    {
      "cell_type": "code",
      "metadata": {
        "id": "kXGx8wqDCdyl",
        "outputId": "7d59efd5-f5d8-468a-89ed-135295a58073",
        "colab": {
          "base_uri": "https://localhost:8080/"
        }
      },
      "source": [
        "twod_tensor = tf.Variable([[1,2,3],[4,5,6]],dtype='float32').numpy()\n",
        "\n",
        "twod_tensor"
      ],
      "execution_count": 188,
      "outputs": [
        {
          "output_type": "execute_result",
          "data": {
            "text/plain": [
              "array([[1., 2., 3.],\n",
              "       [4., 5., 6.]], dtype=float32)"
            ]
          },
          "metadata": {
            "tags": []
          },
          "execution_count": 188
        }
      ]
    },
    {
      "cell_type": "code",
      "metadata": {
        "id": "R1dO49YPDPAl",
        "outputId": "8c045684-a3f1-48b9-d6bf-7ab4d542704f",
        "colab": {
          "base_uri": "https://localhost:8080/"
        }
      },
      "source": [
        "twod_tensor.dtype"
      ],
      "execution_count": 189,
      "outputs": [
        {
          "output_type": "execute_result",
          "data": {
            "text/plain": [
              "dtype('float32')"
            ]
          },
          "metadata": {
            "tags": []
          },
          "execution_count": 189
        }
      ]
    },
    {
      "cell_type": "markdown",
      "metadata": {
        "id": "OHY0kEUPFHsu"
      },
      "source": [
        "`TensorFlow has a large number of built-in datatypes.`\n",
        "* tf.float16: 16-bit half-precision floating-point.\n",
        "* tf.float32: 32-bit single-precision floating-point.\n",
        "* tf.float64: 64-bit double-precision floating-point.\n",
        "* tf.bfloat16: 16-bit truncated floating-point.\n",
        "* tf.complex64: 64-bit single-precision complex.\n",
        "* tf.complex128: 128-bit double-precision complex.\n",
        "* tf.int8: 8-bit signed integer.\n",
        "* tf.uint8: 8-bit unsigned integer.\n",
        "* tf.uint16: 16-bit unsigned integer.\n",
        "* tf.uint32: 32-bit unsigned integer.\n",
        "* tf.uint64: 64-bit unsigned integer.\n",
        "* tf.int16: 16-bit signed integer.\n",
        "* tf.int32: 32-bit signed integer.\n",
        "* tf.int64: 64-bit signed integer.\n",
        "* tf.bool: Boolean.\n",
        "* tf.string: String.\n",
        "* tf.qint8: Quantized 8-bit signed integer.\n",
        "* tf.quint8: Quantized 8-bit unsigned integer.\n",
        "* tf.qint16: Quantized 16-bit signed integer.\n",
        "* tf.quint16: Quantized 16-bit unsigned integer.\n",
        "* tf.qint32: Quantized 32-bit signed integer.\n",
        "* tf.resource: Handle to a mutable resource.\n",
        "* tf.variant: Values of arbitrary types.\n"
      ]
    },
    {
      "cell_type": "markdown",
      "metadata": {
        "id": "hG_LljPiE5Aj"
      },
      "source": [
        "**Casting tensor variables**"
      ]
    },
    {
      "cell_type": "code",
      "metadata": {
        "id": "lXvuuS26DePv",
        "outputId": "3032f8e0-2706-4d57-b0d9-f5b84c0a56b7",
        "colab": {
          "base_uri": "https://localhost:8080/"
        }
      },
      "source": [
        "tf.cast(tf.Variable(8.9),dtype=tf.int32).numpy()     # Floating Point to Integer of 32bit"
      ],
      "execution_count": 190,
      "outputs": [
        {
          "output_type": "execute_result",
          "data": {
            "text/plain": [
              "8"
            ]
          },
          "metadata": {
            "tags": []
          },
          "execution_count": 190
        }
      ]
    },
    {
      "cell_type": "markdown",
      "metadata": {
        "id": "LtsPnNsSFdEq"
      },
      "source": [
        "**Reasssigning Variables**"
      ]
    },
    {
      "cell_type": "code",
      "metadata": {
        "id": "Kc7XPDGDEcyI",
        "outputId": "84191166-cc87-42a0-fb31-2053aa31c0fe",
        "colab": {
          "base_uri": "https://localhost:8080/"
        }
      },
      "source": [
        "Var1 = tf.Variable(542)\n",
        "Var1"
      ],
      "execution_count": 191,
      "outputs": [
        {
          "output_type": "execute_result",
          "data": {
            "text/plain": [
              "<tf.Variable 'Variable:0' shape=() dtype=int32, numpy=542>"
            ]
          },
          "metadata": {
            "tags": []
          },
          "execution_count": 191
        }
      ]
    },
    {
      "cell_type": "code",
      "metadata": {
        "id": "1IV1zHJeFt75",
        "outputId": "dbae121b-7382-487b-dee2-6e8338a60bfa",
        "colab": {
          "base_uri": "https://localhost:8080/"
        }
      },
      "source": [
        "Var1.numpy()"
      ],
      "execution_count": 192,
      "outputs": [
        {
          "output_type": "execute_result",
          "data": {
            "text/plain": [
              "542"
            ]
          },
          "metadata": {
            "tags": []
          },
          "execution_count": 192
        }
      ]
    },
    {
      "cell_type": "code",
      "metadata": {
        "id": "zyaE4ncMFgoD",
        "outputId": "0cf7e24a-9762-45ea-bc46-b0e4e94dc174",
        "colab": {
          "base_uri": "https://localhost:8080/"
        }
      },
      "source": [
        "Var1.assign(642)"
      ],
      "execution_count": 193,
      "outputs": [
        {
          "output_type": "execute_result",
          "data": {
            "text/plain": [
              "<tf.Variable 'UnreadVariable' shape=() dtype=int32, numpy=642>"
            ]
          },
          "metadata": {
            "tags": []
          },
          "execution_count": 193
        }
      ]
    },
    {
      "cell_type": "code",
      "metadata": {
        "id": "oBE4yVSBFphA",
        "outputId": "8158aea6-91e8-4dd0-97f1-9ac3492cd78e",
        "colab": {
          "base_uri": "https://localhost:8080/"
        }
      },
      "source": [
        "Var1.numpy()"
      ],
      "execution_count": 194,
      "outputs": [
        {
          "output_type": "execute_result",
          "data": {
            "text/plain": [
              "642"
            ]
          },
          "metadata": {
            "tags": []
          },
          "execution_count": 194
        }
      ]
    },
    {
      "cell_type": "code",
      "metadata": {
        "id": "l8TyiEfmFqPn",
        "outputId": "459a685d-949b-4f59-f2f0-e421127f6137",
        "colab": {
          "base_uri": "https://localhost:8080/"
        }
      },
      "source": [
        "arr = tf.Variable([ [9,8,7],[6,5,4] ])\n",
        "\n",
        "arr.numpy()"
      ],
      "execution_count": 195,
      "outputs": [
        {
          "output_type": "execute_result",
          "data": {
            "text/plain": [
              "array([[9, 8, 7],\n",
              "       [6, 5, 4]], dtype=int32)"
            ]
          },
          "metadata": {
            "tags": []
          },
          "execution_count": 195
        }
      ]
    },
    {
      "cell_type": "code",
      "metadata": {
        "id": "1Utew5OeGKx9",
        "outputId": "875a1aec-a465-4d1b-f48a-f9e673b3e8f5",
        "colab": {
          "base_uri": "https://localhost:8080/"
        }
      },
      "source": [
        "a = tf.Variable([ [0,0,0],[0,0,0] ])\n",
        "\n",
        "a.assign(arr)\n",
        "\n",
        "for row in range(2):\n",
        "  for col in range(3):\n",
        "    assert a[row,col] == arr[row,col]\n",
        "\n",
        "a"
      ],
      "execution_count": 196,
      "outputs": [
        {
          "output_type": "execute_result",
          "data": {
            "text/plain": [
              "<tf.Variable 'Variable:0' shape=(2, 3) dtype=int32, numpy=\n",
              "array([[9, 8, 7],\n",
              "       [6, 5, 4]], dtype=int32)>"
            ]
          },
          "metadata": {
            "tags": []
          },
          "execution_count": 196
        }
      ]
    },
    {
      "cell_type": "code",
      "metadata": {
        "id": "Urgegt-GHP_W"
      },
      "source": [
        "arr1 = tf.Variable([ [1,2,3],[4,5,2] ])\n",
        "\n",
        "a.assign_add(arr1)\n",
        "\n",
        "for row in range(2):\n",
        "  for col in range(3):\n",
        "    assert a[row,col] == arr[row,col] + arr1[row,col]"
      ],
      "execution_count": 197,
      "outputs": []
    },
    {
      "cell_type": "markdown",
      "metadata": {
        "id": "Q2Ux9D7QNSuA"
      },
      "source": [
        "### Creating Random Tensors"
      ]
    },
    {
      "cell_type": "markdown",
      "metadata": {
        "id": "ZRZHOSmaORa1"
      },
      "source": [
        "> Standard Normal Distribution"
      ]
    },
    {
      "cell_type": "code",
      "metadata": {
        "id": "y8uSoe2WNY5_",
        "outputId": "96e0aaf5-3ecd-4ab6-957f-09937363d254",
        "colab": {
          "base_uri": "https://localhost:8080/"
        }
      },
      "source": [
        "tf.random.normal(shape=(3,3),mean=0.0,stddev=1.0)      # We can change mean and std values..."
      ],
      "execution_count": 198,
      "outputs": [
        {
          "output_type": "execute_result",
          "data": {
            "text/plain": [
              "<tf.Tensor: shape=(3, 3), dtype=float32, numpy=\n",
              "array([[ 0.68499506, -0.5851862 ,  2.1851916 ],\n",
              "       [-0.8574319 ,  0.32826725,  0.4962852 ],\n",
              "       [ 0.23885769, -0.19106095,  1.0157685 ]], dtype=float32)>"
            ]
          },
          "metadata": {
            "tags": []
          },
          "execution_count": 198
        }
      ]
    },
    {
      "cell_type": "markdown",
      "metadata": {
        "id": "_C5SK4q7OW2S"
      },
      "source": [
        "> Uniform Distribution"
      ]
    },
    {
      "cell_type": "code",
      "metadata": {
        "id": "aHtcrWYvN5D9",
        "outputId": "b732e628-9f0f-4807-fcbf-03627b8353a9",
        "colab": {
          "base_uri": "https://localhost:8080/"
        }
      },
      "source": [
        "tf.random.uniform(shape=(2,2),minval=0,maxval=20,dtype=tf.int32)"
      ],
      "execution_count": 199,
      "outputs": [
        {
          "output_type": "execute_result",
          "data": {
            "text/plain": [
              "<tf.Tensor: shape=(2, 2), dtype=int32, numpy=\n",
              "array([[ 5, 18],\n",
              "       [16,  6]], dtype=int32)>"
            ]
          },
          "metadata": {
            "tags": []
          },
          "execution_count": 199
        }
      ]
    },
    {
      "cell_type": "markdown",
      "metadata": {
        "id": "wawHpRsRfYQS"
      },
      "source": [
        "### Creating Matrix of  Zeroes and Ones"
      ]
    },
    {
      "cell_type": "markdown",
      "metadata": {
        "id": "ALcPGQQgOloN"
      },
      "source": [
        "**Commonly used method is to generate constant tf.ones and the tf.zeros like of numpy np.ones & np.zeros**"
      ]
    },
    {
      "cell_type": "code",
      "metadata": {
        "id": "kRaoi0GZOqHz",
        "outputId": "8547f667-161d-4c81-bb9d-22ac86739b00",
        "colab": {
          "base_uri": "https://localhost:8080/"
        }
      },
      "source": [
        "tf.zeros(shape=(2,2)).numpy()"
      ],
      "execution_count": 200,
      "outputs": [
        {
          "output_type": "execute_result",
          "data": {
            "text/plain": [
              "array([[0., 0.],\n",
              "       [0., 0.]], dtype=float32)"
            ]
          },
          "metadata": {
            "tags": []
          },
          "execution_count": 200
        }
      ]
    },
    {
      "cell_type": "code",
      "metadata": {
        "id": "geLzBG01OwxW",
        "outputId": "51678b06-ef65-421d-eabe-33f66dd288d3",
        "colab": {
          "base_uri": "https://localhost:8080/"
        }
      },
      "source": [
        "tf.ones(shape=(2,2)).numpy()"
      ],
      "execution_count": 201,
      "outputs": [
        {
          "output_type": "execute_result",
          "data": {
            "text/plain": [
              "array([[1., 1.],\n",
              "       [1., 1.]], dtype=float32)"
            ]
          },
          "metadata": {
            "tags": []
          },
          "execution_count": 201
        }
      ]
    },
    {
      "cell_type": "code",
      "metadata": {
        "id": "1UrTHI4YO0H1",
        "outputId": "35112ef6-d81f-4e13-cadf-774e146c7bf6",
        "colab": {
          "base_uri": "https://localhost:8080/"
        }
      },
      "source": [
        "tf.eye(num_rows=3,num_columns=3)"
      ],
      "execution_count": 202,
      "outputs": [
        {
          "output_type": "execute_result",
          "data": {
            "text/plain": [
              "<tf.Tensor: shape=(3, 3), dtype=float32, numpy=\n",
              "array([[1., 0., 0.],\n",
              "       [0., 1., 0.],\n",
              "       [0., 0., 1.]], dtype=float32)>"
            ]
          },
          "metadata": {
            "tags": []
          },
          "execution_count": 202
        }
      ]
    },
    {
      "cell_type": "markdown",
      "metadata": {
        "id": "CFGkE1BdNEOU"
      },
      "source": [
        "### Reshaping tensors\n",
        "> Tensors can be reshaped and retain the same values which is required for constructing Neural networks.\n"
      ]
    },
    {
      "cell_type": "code",
      "metadata": {
        "id": "9gBmQmsPMHwO",
        "outputId": "2451a1a7-6f05-4ac6-e77f-7b8279d41a7b",
        "colab": {
          "base_uri": "https://localhost:8080/"
        }
      },
      "source": [
        "Weights = tf.random.normal(shape=(4,2),mean=2.0,stddev=5.0)\n",
        "\n",
        "Weights"
      ],
      "execution_count": 203,
      "outputs": [
        {
          "output_type": "execute_result",
          "data": {
            "text/plain": [
              "<tf.Tensor: shape=(4, 2), dtype=float32, numpy=\n",
              "array([[ 1.9920391,  7.991156 ],\n",
              "       [ 4.239211 , -5.5323   ],\n",
              "       [ 2.5540237,  9.095566 ],\n",
              "       [10.421248 ,  9.65593  ]], dtype=float32)>"
            ]
          },
          "metadata": {
            "tags": []
          },
          "execution_count": 203
        }
      ]
    },
    {
      "cell_type": "markdown",
      "metadata": {
        "id": "pGwx3-oQQFT8"
      },
      "source": [
        "RESHAPING (4,2)  4 * 2 = 8 elements into (2,2,2) i.e 2 * 2 * 2 = 8 elements... "
      ]
    },
    {
      "cell_type": "code",
      "metadata": {
        "id": "nkmRz6uhPHV8",
        "outputId": "2dce84be-b965-4474-dee6-6aedcdea66f9",
        "colab": {
          "base_uri": "https://localhost:8080/"
        }
      },
      "source": [
        "wt1 = tf.reshape(Weights,shape=(2,2,2))       \n",
        "\n",
        "wt1"
      ],
      "execution_count": 204,
      "outputs": [
        {
          "output_type": "execute_result",
          "data": {
            "text/plain": [
              "<tf.Tensor: shape=(2, 2, 2), dtype=float32, numpy=\n",
              "array([[[ 1.9920391,  7.991156 ],\n",
              "        [ 4.239211 , -5.5323   ]],\n",
              "\n",
              "       [[ 2.5540237,  9.095566 ],\n",
              "        [10.421248 ,  9.65593  ]]], dtype=float32)>"
            ]
          },
          "metadata": {
            "tags": []
          },
          "execution_count": 204
        }
      ]
    },
    {
      "cell_type": "markdown",
      "metadata": {
        "id": "R5ULYpPdQqC9"
      },
      "source": [
        "### Rank Of a Tensor\n",
        "> The rank of a tensor is defined as the number of dimensions, which is the number of indices that are required to specify any particular element of that tensor."
      ]
    },
    {
      "cell_type": "code",
      "metadata": {
        "id": "0q1DrX8gRMuu",
        "outputId": "a88c8345-05c0-443c-fd0c-d9a1fd4afe7b",
        "colab": {
          "base_uri": "https://localhost:8080/"
        }
      },
      "source": [
        "arr"
      ],
      "execution_count": 205,
      "outputs": [
        {
          "output_type": "execute_result",
          "data": {
            "text/plain": [
              "<tf.Variable 'Variable:0' shape=(2, 3) dtype=int32, numpy=\n",
              "array([[9, 8, 7],\n",
              "       [6, 5, 4]], dtype=int32)>"
            ]
          },
          "metadata": {
            "tags": []
          },
          "execution_count": 205
        }
      ]
    },
    {
      "cell_type": "code",
      "metadata": {
        "id": "uFyLbWXnPkFu",
        "outputId": "cd02e42b-7d1f-4bb3-f00f-216b25303175",
        "colab": {
          "base_uri": "https://localhost:8080/"
        }
      },
      "source": [
        "tf.rank(arr)"
      ],
      "execution_count": 206,
      "outputs": [
        {
          "output_type": "execute_result",
          "data": {
            "text/plain": [
              "<tf.Tensor: shape=(), dtype=int32, numpy=2>"
            ]
          },
          "metadata": {
            "tags": []
          },
          "execution_count": 206
        }
      ]
    },
    {
      "cell_type": "code",
      "metadata": {
        "id": "WushWr1oRDQ8",
        "outputId": "566fe9fc-d04f-4c54-f846-f1e3dc7806e4",
        "colab": {
          "base_uri": "https://localhost:8080/"
        }
      },
      "source": [
        "Wts_reshape = tf.reshape(Weights,shape=(2,4,1,1,1))               \n",
        "\n",
        "Wts_reshape                                           # 5 Dimensional matrix...."
      ],
      "execution_count": 207,
      "outputs": [
        {
          "output_type": "execute_result",
          "data": {
            "text/plain": [
              "<tf.Tensor: shape=(2, 4, 1, 1, 1), dtype=float32, numpy=\n",
              "array([[[[[ 1.9920391]]],\n",
              "\n",
              "\n",
              "        [[[ 7.991156 ]]],\n",
              "\n",
              "\n",
              "        [[[ 4.239211 ]]],\n",
              "\n",
              "\n",
              "        [[[-5.5323   ]]]],\n",
              "\n",
              "\n",
              "\n",
              "       [[[[ 2.5540237]]],\n",
              "\n",
              "\n",
              "        [[[ 9.095566 ]]],\n",
              "\n",
              "\n",
              "        [[[10.421248 ]]],\n",
              "\n",
              "\n",
              "        [[[ 9.65593  ]]]]], dtype=float32)>"
            ]
          },
          "metadata": {
            "tags": []
          },
          "execution_count": 207
        }
      ]
    },
    {
      "cell_type": "code",
      "metadata": {
        "id": "COZkIDlzQ_rk",
        "outputId": "c275f104-cacb-46f5-dee8-e0cc39dafda9",
        "colab": {
          "base_uri": "https://localhost:8080/"
        }
      },
      "source": [
        "tf.rank(Wts_reshape)"
      ],
      "execution_count": 208,
      "outputs": [
        {
          "output_type": "execute_result",
          "data": {
            "text/plain": [
              "<tf.Tensor: shape=(), dtype=int32, numpy=5>"
            ]
          },
          "metadata": {
            "tags": []
          },
          "execution_count": 208
        }
      ]
    },
    {
      "cell_type": "markdown",
      "metadata": {
        "id": "GYuYAyRzcUDl"
      },
      "source": [
        "### Specifying an element on a tensor"
      ]
    },
    {
      "cell_type": "code",
      "metadata": {
        "id": "IxQXgSfIRuOm",
        "outputId": "52a5dcd1-dce5-4b9c-cd75-35674883eb66",
        "colab": {
          "base_uri": "https://localhost:8080/"
        }
      },
      "source": [
        "wt1[1,1,1].numpy()              # Fisrt matrix,first row,first column "
      ],
      "execution_count": 209,
      "outputs": [
        {
          "output_type": "execute_result",
          "data": {
            "text/plain": [
              "9.65593"
            ]
          },
          "metadata": {
            "tags": []
          },
          "execution_count": 209
        }
      ]
    },
    {
      "cell_type": "code",
      "metadata": {
        "id": "c5DOJ9YccM5i",
        "outputId": "8082ae25-4687-40dc-cad4-211e0e158bfb",
        "colab": {
          "base_uri": "https://localhost:8080/"
        }
      },
      "source": [
        "wt1"
      ],
      "execution_count": 210,
      "outputs": [
        {
          "output_type": "execute_result",
          "data": {
            "text/plain": [
              "<tf.Tensor: shape=(2, 2, 2), dtype=float32, numpy=\n",
              "array([[[ 1.9920391,  7.991156 ],\n",
              "        [ 4.239211 , -5.5323   ]],\n",
              "\n",
              "       [[ 2.5540237,  9.095566 ],\n",
              "        [10.421248 ,  9.65593  ]]], dtype=float32)>"
            ]
          },
          "metadata": {
            "tags": []
          },
          "execution_count": 210
        }
      ]
    },
    {
      "cell_type": "markdown",
      "metadata": {
        "id": "PiCT7jg4cx7U"
      },
      "source": [
        "### Finding the size or length of a tensor"
      ]
    },
    {
      "cell_type": "code",
      "metadata": {
        "id": "Iitf3ewQcF03",
        "outputId": "b03189c5-3c63-4a23-ef99-33a2a5f7107a",
        "colab": {
          "base_uri": "https://localhost:8080/"
        }
      },
      "source": [
        "tf.size(wt1)            # Total elements "
      ],
      "execution_count": 211,
      "outputs": [
        {
          "output_type": "execute_result",
          "data": {
            "text/plain": [
              "<tf.Tensor: shape=(), dtype=int32, numpy=8>"
            ]
          },
          "metadata": {
            "tags": []
          },
          "execution_count": 211
        }
      ]
    },
    {
      "cell_type": "markdown",
      "metadata": {
        "id": "MVM73Yrwc-ng"
      },
      "source": [
        "### Mathematical and Element Wise Operations on Tensor"
      ]
    },
    {
      "cell_type": "code",
      "metadata": {
        "id": "3qSsOoaBcs8C",
        "outputId": "e0bef968-c3dd-4c6c-ce75-71e2fac2e689",
        "colab": {
          "base_uri": "https://localhost:8080/"
        }
      },
      "source": [
        "sq = tf.square(tf.Variable([1,2,3]))                #  1^2, 2^2, 3^2\n",
        "\n",
        "sq"
      ],
      "execution_count": 212,
      "outputs": [
        {
          "output_type": "execute_result",
          "data": {
            "text/plain": [
              "<tf.Tensor: shape=(3,), dtype=int32, numpy=array([1, 4, 9], dtype=int32)>"
            ]
          },
          "metadata": {
            "tags": []
          },
          "execution_count": 212
        }
      ]
    },
    {
      "cell_type": "code",
      "metadata": {
        "id": "XL4MDFkQdQgp",
        "outputId": "6ca223ac-0e36-483a-b8b6-10b59a420eec",
        "colab": {
          "base_uri": "https://localhost:8080/"
        }
      },
      "source": [
        "tf.exp(5.0)                        # e^5 "
      ],
      "execution_count": 213,
      "outputs": [
        {
          "output_type": "execute_result",
          "data": {
            "text/plain": [
              "<tf.Tensor: shape=(), dtype=float32, numpy=148.41316>"
            ]
          },
          "metadata": {
            "tags": []
          },
          "execution_count": 213
        }
      ]
    },
    {
      "cell_type": "code",
      "metadata": {
        "id": "2bsnkq__dk1_",
        "outputId": "1e8badf0-e04b-4c90-ba93-18c27888fc3d",
        "colab": {
          "base_uri": "https://localhost:8080/"
        }
      },
      "source": [
        "sq * sq"
      ],
      "execution_count": 214,
      "outputs": [
        {
          "output_type": "execute_result",
          "data": {
            "text/plain": [
              "<tf.Tensor: shape=(3,), dtype=int32, numpy=array([ 1, 16, 81], dtype=int32)>"
            ]
          },
          "metadata": {
            "tags": []
          },
          "execution_count": 214
        }
      ]
    },
    {
      "cell_type": "code",
      "metadata": {
        "id": "CdVDPAExeSwn",
        "outputId": "dd5042f9-7a8b-41a2-ac97-dee50ae91811",
        "colab": {
          "base_uri": "https://localhost:8080/"
        }
      },
      "source": [
        "sq + sq"
      ],
      "execution_count": 215,
      "outputs": [
        {
          "output_type": "execute_result",
          "data": {
            "text/plain": [
              "<tf.Tensor: shape=(3,), dtype=int32, numpy=array([ 2,  8, 18], dtype=int32)>"
            ]
          },
          "metadata": {
            "tags": []
          },
          "execution_count": 215
        }
      ]
    },
    {
      "cell_type": "markdown",
      "metadata": {
        "id": "C0PAeCRteqsv"
      },
      "source": [
        "### Broadcasting in Tensorflow\n",
        "\n",
        ">Element-wise tensor operations support broadcasting in the same way that NumPy arrays do.\n",
        "\n",
        ">The simplest example is multiplication of  a tensor by a scalar value."
      ]
    },
    {
      "cell_type": "code",
      "metadata": {
        "id": "p5kOcXQfe1l4",
        "outputId": "46a80a2d-b33d-42f5-fc80-e7798b1db690",
        "colab": {
          "base_uri": "https://localhost:8080/"
        }
      },
      "source": [
        "sq.numpy()"
      ],
      "execution_count": 216,
      "outputs": [
        {
          "output_type": "execute_result",
          "data": {
            "text/plain": [
              "array([1, 4, 9], dtype=int32)"
            ]
          },
          "metadata": {
            "tags": []
          },
          "execution_count": 216
        }
      ]
    },
    {
      "cell_type": "code",
      "metadata": {
        "id": "8AHNNDHXede2",
        "outputId": "2e091291-5eaf-49f6-e4c7-fa5c051985f1",
        "colab": {
          "base_uri": "https://localhost:8080/"
        }
      },
      "source": [
        "sq * 4                     # [4,16,36]"
      ],
      "execution_count": 217,
      "outputs": [
        {
          "output_type": "execute_result",
          "data": {
            "text/plain": [
              "<tf.Tensor: shape=(3,), dtype=int32, numpy=array([ 4, 16, 36], dtype=int32)>"
            ]
          },
          "metadata": {
            "tags": []
          },
          "execution_count": 217
        }
      ]
    },
    {
      "cell_type": "code",
      "metadata": {
        "id": "BAYyg2SGet8D",
        "outputId": "c53cd22a-8420-4976-adbe-4d0b599fada6",
        "colab": {
          "base_uri": "https://localhost:8080/"
        }
      },
      "source": [
        "sq + 8"
      ],
      "execution_count": 218,
      "outputs": [
        {
          "output_type": "execute_result",
          "data": {
            "text/plain": [
              "<tf.Tensor: shape=(3,), dtype=int32, numpy=array([ 9, 12, 17], dtype=int32)>"
            ]
          },
          "metadata": {
            "tags": []
          },
          "execution_count": 218
        }
      ]
    },
    {
      "cell_type": "markdown",
      "metadata": {
        "id": "RlKYTrjlf_6v"
      },
      "source": [
        "### Transposing Matrix "
      ]
    },
    {
      "cell_type": "code",
      "metadata": {
        "id": "rtfKP1dNgDK9",
        "outputId": "bb84dfa1-dedf-45fa-9ae8-7124e74e34b5",
        "colab": {
          "base_uri": "https://localhost:8080/"
        }
      },
      "source": [
        "matrix_u = tf.constant([[6,7,6]])\n",
        "matrix_v = tf.constant([[3,4,3]])\n",
        "tf.matmul(matrix_u, tf.transpose(a=matrix_v))             # 6*3 + 7*4 + 6*3 = 64"
      ],
      "execution_count": 219,
      "outputs": [
        {
          "output_type": "execute_result",
          "data": {
            "text/plain": [
              "<tf.Tensor: shape=(1, 1), dtype=int32, numpy=array([[64]], dtype=int32)>"
            ]
          },
          "metadata": {
            "tags": []
          },
          "execution_count": 219
        }
      ]
    },
    {
      "cell_type": "markdown",
      "metadata": {
        "id": "6-F9pM8egRq3"
      },
      "source": [
        "### Ragged Tensors\n",
        "\n",
        "> A ragged tensor is a tensor having one or more ragged dimensions. Ragged dimensions are dimensions that have slices having various lengths.There are a variety of methods for the declaration of ragged arrays, the simplest way is declaring a constant ragged array."
      ]
    },
    {
      "cell_type": "code",
      "metadata": {
        "id": "4Jea_xOegUmB",
        "outputId": "c45d05bd-c0d1-43f6-9f1d-fffa24484d04",
        "colab": {
          "base_uri": "https://localhost:8080/"
        }
      },
      "source": [
        "ragged = tf.ragged.constant([[9, 7, 4, 3], [], [11, 12, 8], [3], [7,8]])           # Having Different Lengths\n",
        "\n",
        "ragged"
      ],
      "execution_count": 220,
      "outputs": [
        {
          "output_type": "execute_result",
          "data": {
            "text/plain": [
              "<tf.RaggedTensor [[9, 7, 4, 3], [], [11, 12, 8], [3], [7, 8]]>"
            ]
          },
          "metadata": {
            "tags": []
          },
          "execution_count": 220
        }
      ]
    },
    {
      "cell_type": "code",
      "metadata": {
        "id": "U-VLLZW-ghH1",
        "outputId": "c5325b01-192e-4c5f-cd2c-e36b4e6ff7fa",
        "colab": {
          "base_uri": "https://localhost:8080/"
        }
      },
      "source": [
        "ragged[0]           # [9, 7, 4, 3] as 0th element, [] as 1st,  [11, 12, 8] as 2nd element....etc"
      ],
      "execution_count": 221,
      "outputs": [
        {
          "output_type": "execute_result",
          "data": {
            "text/plain": [
              "<tf.Tensor: shape=(4,), dtype=int32, numpy=array([9, 7, 4, 3], dtype=int32)>"
            ]
          },
          "metadata": {
            "tags": []
          },
          "execution_count": 221
        }
      ]
    },
    {
      "cell_type": "markdown",
      "metadata": {
        "id": "VWrFYCMahIX3"
      },
      "source": [
        "Accessing Ragged Tensors"
      ]
    },
    {
      "cell_type": "code",
      "metadata": {
        "id": "JzALIuK7goDL",
        "outputId": "5e0ba824-2d11-4858-8163-91733b27c543",
        "colab": {
          "base_uri": "https://localhost:8080/"
        }
      },
      "source": [
        "ragged[1]"
      ],
      "execution_count": 222,
      "outputs": [
        {
          "output_type": "execute_result",
          "data": {
            "text/plain": [
              "<tf.Tensor: shape=(0,), dtype=int32, numpy=array([], dtype=int32)>"
            ]
          },
          "metadata": {
            "tags": []
          },
          "execution_count": 222
        }
      ]
    },
    {
      "cell_type": "code",
      "metadata": {
        "id": "hydlO2MsgwQK",
        "outputId": "cadf3874-4561-4a4c-8091-c729e6ba9d3a",
        "colab": {
          "base_uri": "https://localhost:8080/"
        }
      },
      "source": [
        "ragged[2,0:2]            # 2nd element 0,1 values.."
      ],
      "execution_count": 223,
      "outputs": [
        {
          "output_type": "execute_result",
          "data": {
            "text/plain": [
              "<tf.Tensor: shape=(2,), dtype=int32, numpy=array([11, 12], dtype=int32)>"
            ]
          },
          "metadata": {
            "tags": []
          },
          "execution_count": 223
        }
      ]
    },
    {
      "cell_type": "code",
      "metadata": {
        "id": "aj8DV9SRg00c",
        "outputId": "e90b9b58-71d6-430b-a7f2-780efe3a82be",
        "colab": {
          "base_uri": "https://localhost:8080/"
        }
      },
      "source": [
        "ragged[4,:]                   # 4th element all columns"
      ],
      "execution_count": 224,
      "outputs": [
        {
          "output_type": "execute_result",
          "data": {
            "text/plain": [
              "<tf.Tensor: shape=(2,), dtype=int32, numpy=array([7, 8], dtype=int32)>"
            ]
          },
          "metadata": {
            "tags": []
          },
          "execution_count": 224
        }
      ]
    },
    {
      "cell_type": "markdown",
      "metadata": {
        "id": "X3WJDOV5hoMb"
      },
      "source": [
        "### Squared Difference and Reduce mean\n"
      ]
    },
    {
      "cell_type": "code",
      "metadata": {
        "id": "1qgH6bhPhlu0",
        "outputId": "d8d0f828-4444-472a-8ab6-4d0854af28fe",
        "colab": {
          "base_uri": "https://localhost:8080/"
        }
      },
      "source": [
        "cst = tf.constant([8,4,2])\n",
        "\n",
        "var2 = tf.Variable(16)\n",
        "\n",
        "tf.math.squared_difference(cst,var2)           # Evaluated as (16-8)^2, (16-4)^2, (16-2)^2"
      ],
      "execution_count": 225,
      "outputs": [
        {
          "output_type": "execute_result",
          "data": {
            "text/plain": [
              "<tf.Tensor: shape=(3,), dtype=int32, numpy=array([ 64, 144, 196], dtype=int32)>"
            ]
          },
          "metadata": {
            "tags": []
          },
          "execution_count": 225
        }
      ]
    },
    {
      "cell_type": "code",
      "metadata": {
        "id": "FEk4JXUEiGXJ",
        "outputId": "6de6357a-b8d5-4a47-c053-3c65cd8f031c",
        "colab": {
          "base_uri": "https://localhost:8080/"
        }
      },
      "source": [
        "rm = tf.constant([[7,3],[8,2]])\n",
        "\n",
        "tf.reduce_mean(rm)                         # (7+3+8+2)//4 = 5"
      ],
      "execution_count": 226,
      "outputs": [
        {
          "output_type": "execute_result",
          "data": {
            "text/plain": [
              "<tf.Tensor: shape=(), dtype=int32, numpy=5>"
            ]
          },
          "metadata": {
            "tags": []
          },
          "execution_count": 226
        }
      ]
    },
    {
      "cell_type": "markdown",
      "metadata": {
        "id": "Egx-SHbwjIgx"
      },
      "source": [
        "### Setting Seed for random tensors\n",
        "\n",
        "> When we use seed then it gives same random data at each and every run.."
      ]
    },
    {
      "cell_type": "code",
      "metadata": {
        "id": "JMhpn05ojMWs",
        "outputId": "de6daf3d-e4e8-4146-d03f-eb4b3a5af8ca",
        "colab": {
          "base_uri": "https://localhost:8080/"
        }
      },
      "source": [
        "tf.random.set_seed(842)                     \n",
        "tf.random.uniform(shape=(4,2))"
      ],
      "execution_count": 227,
      "outputs": [
        {
          "output_type": "execute_result",
          "data": {
            "text/plain": [
              "<tf.Tensor: shape=(4, 2), dtype=float32, numpy=\n",
              "array([[0.07840526, 0.52966976],\n",
              "       [0.65711844, 0.7990811 ],\n",
              "       [0.22220492, 0.13980567],\n",
              "       [0.8755723 , 0.4686892 ]], dtype=float32)>"
            ]
          },
          "metadata": {
            "tags": []
          },
          "execution_count": 227
        }
      ]
    },
    {
      "cell_type": "markdown",
      "metadata": {
        "id": "abmYQ_3Wk1Sp"
      },
      "source": [
        "### Argmax and Argmin\n",
        "\n",
        "> Gives indices of maximum and minimum elements in tensors..."
      ]
    },
    {
      "cell_type": "code",
      "metadata": {
        "id": "-wToQKKdjP2g",
        "outputId": "55b1cbf4-811f-4c9d-b614-2f58d467f370",
        "colab": {
          "base_uri": "https://localhost:8080/"
        }
      },
      "source": [
        "wt1"
      ],
      "execution_count": 228,
      "outputs": [
        {
          "output_type": "execute_result",
          "data": {
            "text/plain": [
              "<tf.Tensor: shape=(2, 2, 2), dtype=float32, numpy=\n",
              "array([[[ 1.9920391,  7.991156 ],\n",
              "        [ 4.239211 , -5.5323   ]],\n",
              "\n",
              "       [[ 2.5540237,  9.095566 ],\n",
              "        [10.421248 ,  9.65593  ]]], dtype=float32)>"
            ]
          },
          "metadata": {
            "tags": []
          },
          "execution_count": 228
        }
      ]
    },
    {
      "cell_type": "code",
      "metadata": {
        "id": "GOtyaM4Akxvy",
        "outputId": "d0c4a07e-5dfe-4995-b837-d1b2b960f2ca",
        "colab": {
          "base_uri": "https://localhost:8080/"
        }
      },
      "source": [
        "tf.argmax(wt1)"
      ],
      "execution_count": 229,
      "outputs": [
        {
          "output_type": "execute_result",
          "data": {
            "text/plain": [
              "<tf.Tensor: shape=(2, 2), dtype=int64, numpy=\n",
              "array([[1, 1],\n",
              "       [1, 1]])>"
            ]
          },
          "metadata": {
            "tags": []
          },
          "execution_count": 229
        }
      ]
    },
    {
      "cell_type": "markdown",
      "metadata": {
        "id": "SP20qxW3lKCt"
      },
      "source": [
        "> [1,1] index have 6.9982743 which is max value and\n",
        "\n",
        "> [0,0] index have 5.8391113 which is max value\n"
      ]
    },
    {
      "cell_type": "code",
      "metadata": {
        "id": "FUi1cQaylAOf",
        "outputId": "5c1692ab-bdc7-47c6-a3fd-1f77566ac44f",
        "colab": {
          "base_uri": "https://localhost:8080/"
        }
      },
      "source": [
        "tf.argmin(wt1)"
      ],
      "execution_count": 230,
      "outputs": [
        {
          "output_type": "execute_result",
          "data": {
            "text/plain": [
              "<tf.Tensor: shape=(2, 2), dtype=int64, numpy=\n",
              "array([[0, 0],\n",
              "       [0, 0]])>"
            ]
          },
          "metadata": {
            "tags": []
          },
          "execution_count": 230
        }
      ]
    },
    {
      "cell_type": "markdown",
      "metadata": {
        "id": "5Tfm8zpzmi1T"
      },
      "source": [
        "### CheckPoints\n",
        "\n",
        "> It is Pretty Amazing Concept interms of real world scenarios..when we assigns variable to new value then we cannot actually refer old values..To rollback we uses checkpoints..."
      ]
    },
    {
      "cell_type": "code",
      "metadata": {
        "id": "RoaoipkSljLE",
        "outputId": "1d399e3c-4dfa-4407-f877-c06d74de1055",
        "colab": {
          "base_uri": "https://localhost:8080/"
        }
      },
      "source": [
        "Var = tf.Variable([15,25,35])\n",
        "\n",
        "print(Var.numpy())\n",
        "\n",
        "cp = tf.train.Checkpoint(var=Var)\n",
        "\n",
        "savepath = cp.save(\"/cp\")\n",
        "\n",
        "Var.assign([50,80,90])\n",
        "\n",
        "print(Var.numpy())"
      ],
      "execution_count": 231,
      "outputs": [
        {
          "output_type": "stream",
          "text": [
            "[15 25 35]\n",
            "[50 80 90]\n"
          ],
          "name": "stdout"
        }
      ]
    },
    {
      "cell_type": "code",
      "metadata": {
        "id": "BZp1ypkEoPMz",
        "outputId": "e23171d5-a283-4ce0-fa46-a12f1206af92",
        "colab": {
          "base_uri": "https://localhost:8080/",
          "height": 0
        }
      },
      "source": [
        "savepath           # Path where checkpoint get saved which is of type metadata.."
      ],
      "execution_count": 232,
      "outputs": [
        {
          "output_type": "execute_result",
          "data": {
            "application/vnd.google.colaboratory.intrinsic+json": {
              "type": "string"
            },
            "text/plain": [
              "'/cp-1'"
            ]
          },
          "metadata": {
            "tags": []
          },
          "execution_count": 232
        }
      ]
    },
    {
      "cell_type": "code",
      "metadata": {
        "id": "8PoEW_xkoSrk",
        "outputId": "3ec9783c-39f3-4bb2-d5a8-3759dd25c1e6",
        "colab": {
          "base_uri": "https://localhost:8080/"
        }
      },
      "source": [
        "cp.restore(save_path=savepath)           # Restoring Previous Values\n",
        "\n",
        "Var.numpy()"
      ],
      "execution_count": 233,
      "outputs": [
        {
          "output_type": "execute_result",
          "data": {
            "text/plain": [
              "array([15, 25, 35], dtype=int32)"
            ]
          },
          "metadata": {
            "tags": []
          },
          "execution_count": 233
        }
      ]
    },
    {
      "cell_type": "markdown",
      "metadata": {
        "id": "PpuAoqnMp5s-"
      },
      "source": [
        "### Calculating the Gradient"
      ]
    },
    {
      "cell_type": "markdown",
      "metadata": {
        "id": "5Br0f1hbp--1"
      },
      "source": [
        "> ### **Gradient Tape**"
      ]
    },
    {
      "cell_type": "code",
      "metadata": {
        "id": "nQ3JLc4Frzzs",
        "outputId": "2e276f0c-6eda-4483-bc84-f596251725e5",
        "colab": {
          "base_uri": "https://localhost:8080/"
        }
      },
      "source": [
        "# Importing the library \n",
        "import tensorflow as tf \n",
        "  \n",
        "x = tf.constant(4.0) \n",
        "  \n",
        "# Using GradientTape \n",
        "with tf.GradientTape() as gfg: \n",
        "  gfg.watch(x) \n",
        "  y = x * x * x \n",
        "  \n",
        "# Computing gradient \n",
        "res  = gfg.gradient(y, x)  \n",
        "  \n",
        "# Printing result \n",
        "print(\"res: \",res)"
      ],
      "execution_count": 234,
      "outputs": [
        {
          "output_type": "stream",
          "text": [
            "res:  tf.Tensor(48.0, shape=(), dtype=float32)\n"
          ],
          "name": "stdout"
        }
      ]
    },
    {
      "cell_type": "code",
      "metadata": {
        "id": "W_VnqvKvqoHe",
        "outputId": "a0fb7d57-bb3a-492d-d1f2-2016922a7e8a",
        "colab": {
          "base_uri": "https://localhost:8080/"
        }
      },
      "source": [
        "a = tf.random.normal(shape=(2,2))\n",
        "b = tf.random.normal(shape=(2,2))\n",
        "\n",
        "a,b"
      ],
      "execution_count": 235,
      "outputs": [
        {
          "output_type": "execute_result",
          "data": {
            "text/plain": [
              "(<tf.Tensor: shape=(2, 2), dtype=float32, numpy=\n",
              " array([[-1.5203186 , -0.7227    ],\n",
              "        [-0.75485855, -0.23425639]], dtype=float32)>,\n",
              " <tf.Tensor: shape=(2, 2), dtype=float32, numpy=\n",
              " array([[-0.8565052, -1.6154505],\n",
              "        [ 0.9703356, -1.250823 ]], dtype=float32)>)"
            ]
          },
          "metadata": {
            "tags": []
          },
          "execution_count": 235
        }
      ]
    },
    {
      "cell_type": "code",
      "metadata": {
        "id": "0GTO3-fIofSv"
      },
      "source": [
        "with tf.GradientTape() as tape:\n",
        "  tape.watch(a)\n",
        "  c = tf.sqrt( tf.square(a) + tf.square(b) )\n",
        "  dc_da = tape.gradient(c,a)                        # Derivative of c w.r.t a.."
      ],
      "execution_count": 236,
      "outputs": []
    },
    {
      "cell_type": "code",
      "metadata": {
        "id": "-n7x81jZqd_X",
        "outputId": "8a5899f5-806e-4da3-fa7f-81c31d95c31a",
        "colab": {
          "base_uri": "https://localhost:8080/"
        }
      },
      "source": [
        "dc_da"
      ],
      "execution_count": 237,
      "outputs": [
        {
          "output_type": "execute_result",
          "data": {
            "text/plain": [
              "<tf.Tensor: shape=(2, 2), dtype=float32, numpy=\n",
              "array([[-0.8712506 , -0.4083653 ],\n",
              "       [-0.6140182 , -0.18408133]], dtype=float32)>"
            ]
          },
          "metadata": {
            "tags": []
          },
          "execution_count": 237
        }
      ]
    },
    {
      "cell_type": "markdown",
      "metadata": {
        "id": "1vY80zNurIXZ"
      },
      "source": [
        ">For all variables, the calculation is tracked by default and used to find the gradient, so do not `usetape.watch()`"
      ]
    },
    {
      "cell_type": "code",
      "metadata": {
        "id": "7FOGXvEfqgDy",
        "outputId": "00849c6d-3d28-4141-99b0-30888f8289b8",
        "colab": {
          "base_uri": "https://localhost:8080/"
        }
      },
      "source": [
        "a = tf.Variable(a)\n",
        "with tf.GradientTape() as tape:\n",
        "    c = tf.sqrt(tf.square(a)+tf.square(b))\n",
        "    dc_da = tape.gradient(c,a)\n",
        "    print(dc_da)"
      ],
      "execution_count": 238,
      "outputs": [
        {
          "output_type": "stream",
          "text": [
            "tf.Tensor(\n",
            "[[-0.8712506  -0.4083653 ]\n",
            " [-0.6140182  -0.18408133]], shape=(2, 2), dtype=float32)\n"
          ],
          "name": "stdout"
        }
      ]
    },
    {
      "cell_type": "markdown",
      "metadata": {
        "id": "tT54b1ZirPq2"
      },
      "source": [
        "> You can GradientTapefind higher-order derivatives by opening a few more:"
      ]
    },
    {
      "cell_type": "code",
      "metadata": {
        "id": "i5Yj_wV3rLhG",
        "outputId": "faf02ca9-45f2-421e-be48-2c9cd99b421b",
        "colab": {
          "base_uri": "https://localhost:8080/"
        }
      },
      "source": [
        "with tf.GradientTape() as outer_tape:\n",
        "    with tf.GradientTape() as tape:\n",
        "        c = tf.sqrt(tf.square(a)+tf.square(b))\n",
        "        dc_da = tape.gradient(c,a)\n",
        "    d2c_d2a = outer_tape.gradient(dc_da,a)                    # Double derivative that means derivative over derivative...\n",
        "    print(d2c_d2a)"
      ],
      "execution_count": 239,
      "outputs": [
        {
          "output_type": "stream",
          "text": [
            "tf.Tensor(\n",
            "[[0.13806564 0.47082523]\n",
            " [0.5067467  0.7591834 ]], shape=(2, 2), dtype=float32)\n"
          ],
          "name": "stdout"
        }
      ]
    },
    {
      "cell_type": "code",
      "metadata": {
        "id": "Ic-D0-HNrTYT",
        "outputId": "424f2f0e-161f-46d7-8498-747f62cd4e96",
        "colab": {
          "base_uri": "https://localhost:8080/"
        }
      },
      "source": [
        "# Importing the library \n",
        "import tensorflow as tf \n",
        "\n",
        "x = tf.constant(4.0) \n",
        "\n",
        "# Using GradientTape \n",
        "with tf.GradientTape() as gfg: \n",
        "  gfg.watch(x) \n",
        "\n",
        "# Using nested GradientTape for \n",
        "# calculating higher order derivative \n",
        "  with tf.GradientTape() as gg: \n",
        "    gg.watch(x) \n",
        "    y = x * x * x \n",
        "\n",
        "# Computing first order gradient \n",
        "  first_order = gg.gradient(y, x) \n",
        "\n",
        "# Computing Second order gradient \n",
        "second_order = gfg.gradient(first_order, x) \n",
        "\n",
        "# Printing result \n",
        "print(\"first_order: \",first_order) \n",
        "print(\"second_order: \",second_order) \n"
      ],
      "execution_count": 240,
      "outputs": [
        {
          "output_type": "stream",
          "text": [
            "first_order:  tf.Tensor(48.0, shape=(), dtype=float32)\n",
            "second_order:  tf.Tensor(24.0, shape=(), dtype=float32)\n"
          ],
          "name": "stdout"
        }
      ]
    },
    {
      "cell_type": "code",
      "metadata": {
        "id": "7wl4pSprr54t"
      },
      "source": [
        ""
      ],
      "execution_count": 240,
      "outputs": []
    },
    {
      "cell_type": "markdown",
      "metadata": {
        "id": "FDLWdBJGi1an"
      },
      "source": [
        "# KERAS High-Level API for TensorFlow 2\n",
        "\n",
        "![keras.png](data:image/png;base64,iVBORw0KGgoAAAANSUhEUgAABZgAAAKyCAIAAADXXyxNAACAAElEQVR42uz92bNkx3Hnicdy1lzvVhuqCoUCSBDcRBIif1pbMkk/tbrFHpulH2b+uJmHHrMxmx6zftBoG6pb0xp2a9iUSIAUN+woAFWo7a65nDxrxJh7xMnl3sxCQahbaIHfjxXBe/OezDwex8PD3cMjIrDWCgAAAAAAAAAAAIB/Cig0AQAAAAAAAAAAAP6pgEQGAAAAAAAAAAAA/smARAYAAAAAAAAAAAD+yYBEBgAAAAAAAAAAAP7JEGz8izW2roQQUkpjGiGE0qHQgbBGGCOkFELSz1IJpYRphLX0ontd0vtOfRpfoISw/gcpRVObplZK08dK/rSmFvxNdJnkJIvbi3T+yYJ/dfuTSv6KpjZ1pXTAt2HoEqn5er6M7rahj9IB/W4MvcUYa42U0lprTUPvDaKFXJLFkZJuw73obka5pI881UzCWP5Sufx2y4JIHfp3NZU1Riq9aB/XXPOmmH/a/CusNVUhhFVh4i8whu5HqUXLWNM219L9UItJ17x8vfb3cLo1BF9gufGF/9V9u3vX4lbdn9yVyj9KbrpHqgffobvb0+ohzyrbinrQDUvRVKZplGb1cHfVVEK0D2L+FSvqIVZePKsedKNq0SDUpA03kV6050I9jDWmVQ/rteLjqsf8ZlbUo6KXgtA/ymX1mMt1Wj3sitqTeuRCSBXGC/UQ1n+F+16nCUot9Ipe2awe9JjMx1MP3wWa9spT6iFZbvqBmlEHXocfVz3sQm/nej5/TNQyYqm/tC8aI0xNH6LDVhmsv/kgbBWpYTXQi5t3XyS5ufzttQ2yQT0My0JqH4RL6tE+6I9QD9s+MuG13d8D/1fJZTvgH6sQonbdMFx8jHtG7g5Zkei/JLhtu237dXPt8naATaXrWdx/SaPIGit+eo2USroH6v7qxLHt55iGPsE9vrPWflk0fvr0A5t3ajrqjKxgbCelE18uPXc7V+NltW+/pS7JLITRillbbsaPUI9mZUSwolUPyeohFqI59Wjmui0X6uctsNkwkFn/INxDWW+pzgxkpjFVSebO3caj1EP5Xrwsl50rebBQsUWDz9VDtoKzaKfUY/6ZToe1f0yr6mFZ/5fUY24VSfe016hHq8fy4zitHmF7t7U1TTtoilX1OGsV/f9sVZDRXqiHXVGnxaA5n8KRK4PmOvWwdUWGLIiW1EP7p+DUQ7Z3tdF6GP/sTGOtXQyaKqDn5S6W7Q1ItWQ9hL/5NT5VaxnsWVVU3hoLK8iL4+cr5IoqLjrd8nbvfigxVSGVkmG0ooruK7wqmvWDy4qlCpZao6YxbqGKrSlzjWxqr9HWnh5cnJYGK5bKmlryAzVNI5X0jpa7Uin/0E9bqlUnQdh/vHp44+CNDxkxqVash26V9uOrR9vehu0Hm5S5elAjN+Tfuv6yXj3s0iOTi14gliW1i6F8YT2qdtBsTVNTka66tnXmRbbWw9j5rfrmcvew3uWmL3KPrLUeWjrdOOtTuRHZLHkmK49MLoZUKRdyzaOG06rY+jkrqth4w7Ls58zNJmlRqxtrVXEerfD38tOX3N7s5wRsvpxTsVBF5V2jpvE+xho/xy6Zd7n6yOTqQNa6GeTnLFsqYeuSrqNuK08PZO6W3HjnHZL2Btb7OXNLxapIzdXa9vWW6qyfYzcPZGetxycYyNwg4p7moreKNjRbjsiCNYPLcjzyiIhMWFO6iCxeOAAr1sN8hMtt6hXFPms9HtfldgZz1eVmVZy73FJKqYL20Zs2KHCfo3wnFdILuyYia3Vv3u/kUkSmlgN2uRKRLfy3JT9nZXBpTF0qp2zOC3Vj09wxMKsRGX1vY0zDvgeZDj8WPFYio6nr/dv1w/epfaW2RUZ6mHRl3CFHoSpU0hU6MNlI6kD1d2yZm/GhCCKVdGzTqKQjlLZ1qaKOKaY2n/JQGqi0a6knKxmENp+abGyrQgaBGuzJMOZXRsIY2Rl451IpqbQlTTWq07dNTXcila1LKZUeXhBSNuNDO5uIIFC9bVvmNp9wIkPIIHadjfq2lHrrEol18rCNW6zQEVnqqpRRrNK+NY0tZ1JHMk5tkdmq0FsXhFT0FmtJXjZhMurYplJRYuvCTEeuk8ikK3VAGhnGtirM9MRWBb2rt0Wf3FT0SpmrzmARZAorVWDKmUr7MghNkVHXYj3Wg10ZJiafmMmRLQu9e4Webz6VQcTNFc2V3szGpD5xh/qn1nRBXdrZmByvuEM3U+YkvrUyjGWcCr43EUQySkgV6pI+MIrdh3jlaxozOWojOs3BtrBlLppadYaqt22yEV1AfkMtwlhKZej5CpX2SD2KjNon6ZHGzsYy7urusJmemOxExR0ZpdRcaY+UvalVmJjZmD6cBpKI1KOuJPUTbbKJzSf+6fR3pA7NjF4hWdI+qTENq0pqbWvSE5X2bFlYju1JPaJE93asqcz42OQTUt20Z2cT+i4eVGQYe3NWlzII9dYl21TN8UNv1qUkFa0KW9cyTunDSfdmMkpklNDnmJrfUpvjB/ztffLSolgGsa0LFXdJ7WcT97hJPZSiC4LQFjNS+7ogBRzsyqRLCpONSD26W95CObMolahL2enT0y9mzuSRDg4vSqXN9NjMRrZp9PZl+lOZkwayLOSLcBaSu60k1VUUHUkd2mJq8kyYRqU9wX3QJyujhNV+ZqYnMkxYPQQ1JilSSm3e6bdJwMaMj3hI41GBgmppy5moKzW8oJIe9cd8LIQix4X7IPdZSXoexqQeplbpQFhDKtHfVXGnOXnIephKjqtl2nGPwDaNzUbU4+qCup4OnWkjfbOGVDqMhdI0bJvGTMdOmUmTm5qukVLqgH41TqUVqR/7FnTDSksd0iewLKLm3tTGA5LTQ7YqRVPJKNXDC6bMzMm+H791QJ23yMhYJR2V9KjfVbmKO0KHZBWDSPd3TD5txgdShyrt0w0nKdlSMkfKzsb0OJwdcJ6iMbbM6HFIUmZW0UjqsJkcUQMqTR8iJeteQzFG3BVBYCbHZI2jxGVtSC5rXV927eCGcOo4PBCS9WD/j0QTVm9fllJS+zunxzQiTOgtZS6DUCY9oRRZRamo+5Qzm0/17jNCqObwQ3qmSY+GFrYnZO3jLlnFybHz5OiBxgn1IK1tWVDzNhWNDt2h6vRsXdvZhAxgZ+hdE+dhKE19Ie2SNSvIfFl2s/TWRakjkx2bnAYUvdNaxSihTq0D2caZxlmJKCURKKANqCOTqpcy7sqIrWIx42EokElX1FUzPqSLo5SeflNTM1J/YeUhPdcyiMmGNxU98TAmE2Qbdhwr+mQyFJWMEtXbkkqZPKMhT2ln7twYTxagqUnlkpTkqgp6mnWtugMyF2XmBkTV3yaJpidkS51fEoTOFzHFjIyDCnjw9ZGAmY7ILgUhGVVrzIxl1yyXEGZyKJpGLqsHdXbuaCEnZ+uKPrbKXUrLW0XbkB6qINhmq3iyP3d2ZZhYN2qEMVlFS59J3x53qB1ME2xdNFVpTh44jW2tYsQ+Q89bRfZ9ySoGkW0qCm/KnDpsXVnTqN42qUdVknoUmeoOvUvnQywatiR3EFEVpNtNJZUmZ8DaJjuxxYzH7os89FdkFWnQDJ2lInnzyXzQpHtT2tAXzbxVDGPrhiRFfyV/ppg14yPqjKQMUjSlLQu2PIp8EtdrjDHTY+/RqoAHTUkfUpdqsKfSgZkckG/jIhwdOiXxgyYrMI2GaZ/8uOmxGlxQUVIf3XOPki1VINmzkmx5msmhfxxBrDoDS45sYysy+Px0Sno6vS2ptSm8R0Q64AJRHzc6RerQVztVbGrqmHHX5BMepEb0CXHaqiJFd20XM6aYOneTBvog5FykoAG6yMgaJF26hpwTywrPqjg+ohEhTCS7oTzoG1LFMJJhRM1YV2RhysJbqnBuqeiVYOuiNQ2ponPeuBuSsGXO/bFHfkg5k0qzE0LDpRrskTk62acn5SxVlHgnSmsz4x5KRj4XOnIpG2rAMneWjeRy3i+px5Rf7NKgOR05/afeHQTUbacjHkA7Lo9G+hnF1LydHrVbTSrKT4FHFjffQzo/I/XYuqjibjPat/QVHM8HsbNs7htJPaqC+kVnQINUdqJ3Lgupm6O7pMY8UnMHTFttL8kqxim3W7BkPXi0YlstYx7fy8IpDPUF57nlUx5nA+pfdd2M9mmgiVIXIrJNU+xJdpyd5HF2woO1Fi7txU4L3UnSoxFwNqa4wMW6SpEXl0/9oBl3yHhWhUw6kgdN1RmQMzA+4GicbBFb4JRDIcPW7FjGXcvR4Hwgow9svAfoWoM9hJktyGEmQQx5GtyV2Eg6VaRhPXEfQg/CsG6ECasiPzJSxdZXDFwqhz0iqSkuME0zPvS23aliU9kilyENmpJGnJyeS9J1IzKFSFVBTogQ1Ho0PCVOgZ39kRzckt4GoTPCHIOU7no2oSH1mnxqXCwWd0gVM7JU7JSyKhYZqWLgepxz76l3cFzWJWeDjQP7Y0K4TDRZRVbFpiJLFXep/flBkz8QhFJK7imsiuGSKjaNmY31cI9CpKP7QkkZOlWMaIStK/af56pYshHj8d1YUzpVpAGXHxl5I9Tg1HFSlXTo8c1GFKeQKvZpgGZVFEHsTSs3Aj2vhGMfHhdMxv6bpTBN97ZIN+qCrEoxa4eJQPWGJHJVsPm13irO5xs4AqcHxAO6izJUb1sGEbnoht1RF+ZkI3LATMNebuQ8dgpYyMZq8l7ilDw6cqWKFVWcsiqG/Ku1FOLVFdvAxA8ZTe2MCaliXZE3UhX0gORcFTV33lxIpbf26EPGhy40cCOCD1VYDVxQ4LSIY1KjelvkjGUjtufk5bIq0nctovV2gHYeHfVTvjHL8bLqDknB3I2RgiWcS6r9dC8nOKTL9dSVDz+jRHUGhgTJnX+letscwI7oeaklVaw40uzvkCmYHHnH1Q2aUpnZRO89E1266ScVPjKRYU1T798u3vohD5zKlLnvPDqy1YwjeU5VsPFVvW2On0dso0MSKepIpV04zW5B5qytiLvkE1M8L8zRfW6jmht3m3p1NqEPp34yVINdH34Y67O5SZ99iBkFANw6eucZobUZHfrP7wxFVRoKooTrUe1MV22t1f09cvvGB5Zzh9IlMnlunJQsTHlCjKJBegZ1SR52f0/qwEzZ+uhY2JqdG05kxCk9lezEzYeQ2gWxjEn/muMHHG8bct3SgXSqUFDEqOKeGuzIKCEjSE8oJD2gVg0E9UzL/a2mSLXTt9ORmXH648EuDefssnPWvJ19pcFpQs+F/VTy/7rbZnzQnDzgFFIiog5FDhQ6Nn7cpYGHIijp4k/XvXXAqtYRQaCi1DY15258DpUudleaWkU92R3a2ZgGBvZdqOnIgeCAOeZhnr9O8aBu8omKUtkZ2nxCP4eJCELqqBzXkVsfpeQW1Gz0g9i5tjLtkiNFgw0/7iCiJyuVKDhgsEYPL6r+LpmA7FiogPRNCBF3RZnbuqBRhON5tX2F5B0fmCpXYUytUUydJrMRjEmuNmmt+hdEUzXjA6f+kn1H6xzrKKFuU5emLlUQk6dLASc9Jo6faZwmi0A9uU1kJD1yB+e+S9xVcUp9wRpz/NDWuVf7dMBuSu6MuBpc0P1dGo3Gh+4ebVPImJM+FEy6p9AEu9dEEJqTh+z+VmQRTOMzXAv1IMtC3rnrtmGsty6R93N4x1lbejHqiHJmSvb5okTEHVEWpB7kQHAqxE2YO/VIBz68b5rm5H7bSgH5PVLRkyI/eEslfTM5IueG8wWukdm/pI7jkyNkItmm5yPV3aYOMj2mB0c6qV3ex7psDls60it6xKqd3xCkb5YHwjBVwz0ZdczkkLo2eajeb3ZisifUZc9m4ro8T55I25QuxyyDRIQRqX1dmcmBbUsYvHo0jbWNCiLV3zPlzIwP3GhHOqm14QScilOhQxokGnLThdbkzetA9ji9Oz1iX5BTM3GHPpNCRM3WMvJZ7XaGjdSAn6CKuzRadLdsNTOHd43LBCV9Cj7zieExzHe3fMzaHkueKvcTF+R/KDK2zgEtZjRgrLWKgwveKra5f8WenIuFSKstJ4KdO1uXJp/q7StSB83xPW6llB6NJo+EFDjpklWcHvuBMOqq3tCNkWZy7NM01GI9EcVuPLN1qXeeUd0hDcbZiB2swFYzNkehYOV0ekhqH0bm+AFHLzN1f5f6RT5hs7as9taUU697SY/U3prm+L5LZLCed0mQYup9qaTHOawTfqaBm+5l/5L9hqgjtFadodCBObjDPoGVYUf1t8k/a2ozORYsF9lY8uE6QknqVlWp0r7eusTd+cAnaOhjAxGnZO3ZwJqqUL1d1R2Qf8PWiXxEFZjsWEVdH7O1kyqmomCbY9oBqT2NTSd2emQKjt+SHn1FPqFv8SkYSaOhFU4u0pDaTbFyTjBK2NpXZnpE2uumdEk9eEaFJ47q/h5dMDnguSNLmuxy5WQVY6FCjp85eRrE1LWNqQcXhKmb0UMa6OMOqUeYuCF7YRV5ak4mPdXfps7IATAN/U49kr4P3qrcmjq4cEMGEYVtvn6ERkkXNPJ0d23KXAaR3r1K5oJTcjRUdYairoUpyWNxze4mw5uGHj1bRdXboS5WTMzJgfdq4h4/nZm/xmlLmZuZs4oUYPvewVkkmQ5cbG/LmZke+8krzv4vWcVtEnxyaObDAQ2abBV1SPZHClsXHN3REzezMUcUneb4PpkUV0QmNScy2BrrwE6850oGcOsiJ4inZjYWRWac40hBAkebVU5+SH9PDXbMaJ9z65KzzFWrijk5NmQPSj24IJMu9cRyRu86rYpmXhPHoUjDgcGOGpKS0DieT4wzfXGXojJSxcr/KoQzQdJXk8l59Q01YJQoTpCZ7NgFb95dlG3NC6niLn3L5JCTv2QOybBUpbXc71TIhTMcL1G4lbuMPxntk4ecsXKqyDm1miJ8Mh2sFc5ncGkynvihvkAu6PCCDAKbTczkmLoejZJdESXUT4uMzELYESE7POWM1IOrzLxPxTcv0z7J1VR2NnWu2mLQdJ2RXPZduuHJAQ3WnGZSYcwmiIuAOG/lzU7SI+3Nx2SBla4P7/DFKZeUukRG4YI0uh82yPRdbaWJs4oqTtXggkz7NhsZGnY5/x6l3iq6FDAF/H3RVG6e0s0mkjGpCsnzWzLuUZzGqQ16yqbx1Yw8reW8FDeEmWxksuOF2lMoUVDPCiPyfqmDVNSMFMNPZWdII8h4n6uBNKmKkIK/yNd4ZidsUkxrFdkulmzJlVZblykSyccmn1JHcKqY9KjPOlVUmj1Py1bRcu5AuxHZzfbLIHGxnylnPItWrKqicEEvfUvT2OmRta7mlFWxJg/Zm1ZSg4qnIhJRs7yDCyafmsmhZP0k4+9VsXRG26siOTCsitaS9eMQVA329GCXzM5s4kMka+mRkSpmppjyfExKzkCZeYeZZzpt7d17lw7waQjyHzJfl6G0cqkcMumG7OFcFZV01b7taOjy5gH3Dq+Ktsz09hVrmubwQ46bEjIRMuDZi4qCmlYV/QA9LyWmGyA7T6NYGJlsTKLVhZ+Scao4G/uJqKQv6srMllVRmKrkYgIa9TjnGIkqb0b7rpBQhrG+cEPYxpzsU7sVU7Y21k//KC2qQuiARh9jzPiIepAvm+LpwygRdenKkQSFG5cozDzZpw+sCnLDtOZERoeD04bLE4TPPVGoFemtyzLpU/8qMlEX/hnx5O7CL036PPEwFk73dOD9N3IkQhkmNLhIYfKps8a+iy1XtGmtutsk4PSYEyitKhrjZssUF+b4P4UslNKqu0W9Mh9LN5trrVdFnrGjHk13Szejty65iJIzKbmtZk6x2X/jT7NCdQciTqmd2cnnejGuEAxCapa6cu8iS0jfOxY0sFIYRD2xLJxRcpFmq4rkA8jukFXx0PAcnh+L6dsbsjyXnj+bspDW2jWZDGOKt18pXvueLWd+LpTrDkQQcWJi5nNXAU8q1q7TkjNNGubqusWi+Gq5Ak2y10sKVGbcGzv0hFxA5ebYo4QVtEuD6OTQusJIsVJU76uJgtBbeVfj5Gt9lyrzfZ2hm2NXLvIRSpKNoJ7A2XGXl3JGge24s7kuf+ntr4tpXTmTXC8XhR/sxZp8SmEzT0qIqmC5Kp9YlVKECbk105N2YFuWa1FXQzdgampYV7QzryH09cnzSkI7/xMnTUgR6RvbCkzSj7hLgVbJUw0r3yj91GJVmtmJ+2Sek3RORlsdTeGfXhTFSeV7MldekFZwKpFES3ok72zkrYkz6NyG1H/IJhrLpVnL1VArtyQlqQT5xDOeNOMqmLriEMinFZ1HToFlMXUZbn/nStulKmg3eUg6yNNNvg1P1XhziO60jifHBuQjllNb124e3ketnaFoSvJT/ZKBoF2XQapCcayQnCZvl8a4J7IqF1f6dETDkxVp3xnT1kK1zS6E6u+RAzE59BkWeqMWVjhj5OZFyfNjN8gb3/nXtRnltlTbzmeDyWp3tkj07MS7HVxB5zPBHKCe0g0SrbslpDLTI1/hJqWMUqm04UoNf6UKFgs3SDd6ZMJoTCpdfp2z2o3sbXP6+bCdFVQ+z8od07eh01ufpGvWGCWpVuQiMSXJFYRchVS28rKRidO2ZGn1E4SgICeM7OTIKRXrVSpVYDgZ7NvQjxaNe6wq6XABV+2GW1fQRG5ob0tKbaaHzp74BnEVd86USfL/FgbqceRympD0KXTJMxczcN5aS61Zi5p5YmJFrrQvosRmIzfx7gtt5rZrvuDFz65b/0B5MONsWu5Vq2lUhyI0CnF5ftJV31jujM5RcHlq566tl8tZGJ7mImdOhbLT50m/Cauu8TUUnP1R/R1TZMbNM5NzqVyadUkfjJuh9Y9svpxkqYuRq+QLJtuVBiHnQK0htfc1kOyfuXqx7GTFBLk2jDtkuvPJokeQCe3R97WjA/uugXPmhDCyO+TygRHpgJt4DBO6Ya1Vf9fWlc8TKbVOLp5q0AG1ZLtw6YxcyzovXGEg9U2lSS4X+LU6I6QkY77yIcprQtqnEJ3nyf1YzM/R8CSJr82erxJlG0INpUN6ZOXMO0M0IMYyiu1s7OYGfa210w3XXJyydNm3jbrB7o4bSji1zdNTHFm5oYFNvbVlobcuyig1o33j5glppJEUQjRLbcgZFp4Bq9e04Sl7OG+XzpALScYubeF0hodLbWYTP/wtK3MQkjqRV30yL5Z2obirUmnXLWpf3LTUKwUH+b5QiL0FerEsyA1wz325DSXPCkjplVC25fSn+xcbpzglM2uN4PyInU1MXXCKx3C0KW2Rqd626m1TQO6jSsXZqtXCYLeoR0rrllue1kO1VCW+uBMSJx0Iw3Nr1Lw0ArrUv5/TPmPoFE9L0J3MBxGSt+fSzQuXw7eh9EWFUUeUmc8/RgmJICXHPBXFpfPlb0tDsx+t3LDiOpE9OzSrlcWt87UkQeju0/dr2doTFw3ONX9lWBmIMKYu6aWWvrJDcJ3U3OUwrY2insIZhKpwdQ0sF39R0hemIQNFTlc7QLRvlG0M7GpVNrgcG+RSmtQ+5BlmGiZkW7fYJcdjzXBJAaeIUxph51KTSXQzVVNvEueulOsUQczmsaZH4/L7iif8OgN6MXOqwkZG68UbdaiixLqCuE1yCblwdeyyV8wOcNLlbNrET/NKxVMm3JJr5OpS4+dTr3XeJCZ+4na+FtWKuSfMiW+OP/MxaS8HINSE7nk519c1uCua9iZRU3e2jXFz3WflWqwPkisrhpxnG3dUZ8h1uyd+tYuwZFWMpU50pn3Im0p6Ymn2ojVToSuBadfYzq2NYq0YkMHJTjjo0D4TxxNO1AXc2pOzZirhIrLZeKPb5uVSi6F5LlcYy+4WNeb02Btza+g2eCA4+zk0hCUD4dpBLNbgtAmyfNG7OVxXccdFo7aYctzBys5Ds61ylQ5Vf9sUmZ0eW5flN8avQpqvCXXeiHOQWp9q49A8j854dOZphmNXiiJsw2WnkjycM74fz9322VldDCuchuAskou1XTrbOT8c/amUnVhnbVqXTNAArXhyq2qXHSw9LxeEqqAd7za5be1i07Sv+tvWGLoHitBzv5IgSmn0KGYyjJWbCRs95DLhwC/hmbehs8a+wFlZ7wkvRWFumnwuFw+XnE8Zz0tmeAkY+37FVMbd+KXfiG58+bETGUJUH76R/+xvzeih3r2mB3v0VEyjBxd4xv6+KKYiSHjxhTTZRAY8UZBnLhcogojUaHLks0G87MJmY5l0/ZpM09giV/1tvXtVpX1TZM3BbXP8UESJHu6R8zcdiZqrzbtDUZe2mHEw1udE15EZUwSrugMZdchN5NJiUeam4ipoCoYjxVVkzrJYY1y9kEy7qrdLDedyBE1jsmNbV64wtT66K/KJCBO9fcmVKpFcSvMzi5w+qbhH/r1z6B8h184zKu3bKq/3b5vjBzwlfoHkykaiKl0Rsh8RVUCCLMvVGciY5eJKM3J3qkxKSd2YxrPaFWPzeMnVnlyDZ+vSjA7JuHT6btWPzaeqz9ncpjbjQ54jTWzBk/+9LZUObFNxEXXkahC4D1Cfd24r1wb3fP906+Xi1OaZ6gzUYM9NQbukkpmNbDHT25eFVM3hbZONZJhwAaS02dj5x7bkNSyGAhiV9F2z+wSEaagN43S+CtTmM9+GnaGty/rgA3N4X4ShHl4kWbITepQU/2zbqjScz6aQMuVyAM5u8DoXnlwqMteGtpo558Ypp19i4Iq3aZyeqO5ADS6QbjS1m/0z+cjOplz4EzT773u5ti9xCDF2XjUvfkk4INEqGZiZDy1Irqax+djXq0tec5iTT0k633Vy3TYH91iuC5xYHdkqJ1VxNbFcJUg+aNJr5rpBcvXM5NBVgYqq5HoWrphQWtQlZx/awt0gdvWx1GijfWEtx/ChmZyIMlP9PepcVtjZyJS5ilM/EdfdkunQlhmXcA+EKfn+tVuytNAN14aGK2sU+eV2NpadPheq8PY6nII0+dhko2D3uozi+v4tk53IIFbbl0hj3fQg3W0h48QnhpKBKSbWTU8JKcPIziY08LjIrcy9w0dhsJPrQBijumTW6dGXM55xGnDye2yK2apcA5KrKnlSpWR3J3BRrpdLB+Rcai3cBIsKRJzYbCKTDsnFakzmyFpbTMx0FOxdl0mnvveOmR6TXFsXJad63WhEdiPpOA9SpQNTTC3XyHBCM7bZ2MultS1yrnhKWa7AGmNO9kkuroQkuarczaRxZDIhS0ty5e4TWC7qubq/Zw2HxHIuV+YzO9RoWvA0oDMa9LziVA8vcdRBzcLTFxk9r71rMu3Vd98x08OFXG1YZfMp1/ZrtkVbLFfmHBseejO/zQEvqqRbTXt677reuijqsn74fnPwIbVzb9spKjVXELm1XWZ8KIOIdD7tNRPWeSlU3JHpgHSeOp0UTcPVxY10a1K41pEG9cKVCvLqIc6imtFD0TSqt0X2cHLctmFXCGWr3M4mvqq/ysm5Twe2mtkiozHOpXFVQD4cL9Eiocg777g8JlkJerhdkmv7kqirev+DZv8OT5IMOU1ZkpkKQr11uZUrVL0dlfbM9LjhkqtWriNf2ccBJDkEPIsoqqqVK/MlVO2mFebkgFq+Rz3CTMkYqv4uycW+Aj2dMLYVz7WmfS9XPiUFFtJN25Ju1KUbfcg7DyJSwqri/G8ko4RsndJq+wpZKl74ZqoZ55Rz1d9Tva3mwXtmvE+2dHhRBrEtJs418UsSuEBDdbikaDZxKk9jRTVz2ti2YU49a/ca6YY19f7tZv82p1C5DZ2p14HeuixM3YwPyc73t8lhmB47e0hhvGvD6QnpBjmCbJEogJRsD4eCV61SGyZdTjRwG472BReRCa15UC5Ub9tPmhkuzeUh1VYlL0sc2Do30xO9dVnqkKRwdqP1TCQv3OM2LN04S30qGwsp9c4z5D5lJz4pSWNuoXpD1d9jn+c+teHWJWoxniime5ueUBtGqS0yasO6sPlk7qa55ZO+xLoqRUlGRu9cJR9GiOboXr1/27vOQcAezohGo+1LwphmfMBjJfUvk524/uWSEXZ6RH3Euea+DblAvSpldyijtg3Tno8/yX89EFUluwPy2vOJKHPZ3XKrdIWbB+KZDFeMI9M+uSjjA719WUYdF0X7NqwKv6LB1ZuUhc/CUAck/0EPL+nti25NGXnh1Oy57PT09pXm6K45/FCokMeUyLopPl5NQIaRjSTHmTUvfeJq3IAXOBQzliv1JYrOXeRZeparkB2Wq8hIrs7ADdneNadYiKsJ3JJVcr0O9NZFtsO5qx3glHfJJRWa/PUgcH8iuXTg/Ac9uKC3LxmygZNWLv80m5MH5uCOUAE9OC+XX02sukO3ckRGFB6zffALf3hCNWO5En5ejer0/LJ/HZyRaybTgXNEfaaPpx9cT5G8zteMDtRgV3W3/eiQnfh0v5uiVzxa0aBm2QdWPEZI1d8l96+uzGxMo1XFcsWp3r1mxvvNww/omW5fdhNs3E/pSvJ7eaUtF28ad/+uDp9i0TyjOydXbWotrwKbyzU+EOXq80p6qr/l4wIhuVa3dJXC9BUNy9XbVv1dv/AnOzbOoVXal8wEgcmn5J2krqaDS7R65JTyqtiR5RVYrqRa71w106Pmwfv0TEmuwE8AVCXJlfZlp+8KJzkCzHyBQBhZXoTo5WL9ZLn8/kTkz688r0ImXdVlHeNVPDZne+Ll6ti6NuMD1R1SeEkqWnBqmNOaipPvQUgfO5u4taIsFxdH9IZ69xqvaxu5jBUvOEr1zjNmOmoe3CIDsuOe12wuF9/MkIs+3LIsLnxwC23KGQ2vaV8mKX8FF+HO5Rof8vMacgJi5uSS3YEoZiLi6fDZ1G0bt/K80r7i/QF4BbSTi9wbel5B7Jc10Su5jBMuY7kg015zdL++97ZbITJfqmbLmRpekGHCizIqijV6O2Y2IUfLlbO5kqXJIdcIkxWzNdtDHZDdSHt0VwVXpTm5eIcO53/KDnvgVU6WM+6wXJmggDwwszGNocKqKHUVdiRX0iPbJbWby+EJOdMuvUkEtQY/r07frS0StpFpnzzPIKJxcHpCH2sa0sPhBVvm9YNbwor2eeXkfnL/klHq1iFKX302c8rvakU54Rgv2jBKqOP3d1Vn0Jw8qO+9I2qu/nZjEK9WVoM9GaW8OobGWdXfJftM8ZclZev0yayND30xga3Z84x5Z4NUutkCpVwGjTo1OZODYPeqDFMzo8Y30xFrTkcPLjSTo+bBLRnE0Uu/Ed/8lbObemzcI4OsMMcMevtyePl5w2ktTbeeNNMjO5uSx9nfJregynlFCQ0ePLep3aIsGhet2/Un9IVqFKxqrg6tXPzvtE1K2bCNE2GsXCp3NrE0QndpPDaNmR5ZK3RvW/W2TDFzxbpkiaK0mRzY2dQVpbgtNlSHRk03PcWrskueHe2SXioVbF1us+Pa5JnLg+jBroxSPb1B3Y/k2mVn1MnVsFwdlxlS6Vm5xhSGObnqynIP18OL1Dml1LtXyWfyclVmNvVydbdEUzeTQyFkK1dOLSCE6m6RXNNDk01cCaLLYfOylNQVZfHGM1xp7BYC8PIkahbegYK66PTIZGNN3ZWXQjTPcSEib71B4fRQ93ZtVTQn91XaIz+ek17UMaqcQmhJFly5RfI0ZpeuPpO+Qulg+7JPjVMbTnkvj1z3qQ2bC1fpyYbxog15jpqffsKDBLfhdOQ3g1Ca53PGbtWx2+GCQsdOLxhcFEmH2nDnCrdh5DcjyKc0fkQd1dsRTUlRgVS6v0NtyA/U1aeopNNMDunpcEc1GfV2t75LuTJsLt5je9Glll+Wi9cwuxlpL9fulblcvOY/d098Sa6QvcORL/Hwck2k33aO5SLj3gtINyi+1dtXzMVVucgKd9Rg1y0LpPHe6UaeuWwuWfOkSzEeRxpzufRwT0QJKT+rPYW1TePrXXnJJTULL+qRFPAfm3xCusHxBs8Gk23lteJTGq17O6wbD1RKTrwK6NGQbpQzrv+nUVBxkR7FSG4ZQtwxfMPB1qV2jw9Jpplzxrq3Q3JtXbTTkcvjchvO3JVsZGOpQp4Z6JNEbqqfU7kmH5Prz2Us5BWRXJym5dUf1EpNRXIFMek8BWw0RPmFDEKclqsumuMHKu2xXFErV87BpGa5OuyIZCxXIuPUy8UVhi7bQo9jdkL2sLfNz2vPugTN8IJUgXfOpDwt12zCRV7LcuUqHZC/XozJ6YzYjHCBbjPepzCsMxA6Mlxi18o18xWnrVy6v626O7Yu/fNKBsr5K5Mjfl7kMZNj5+Qqppx6S2kEGu9TlMgL6PzzyqfkelaF7m5RN+nv+Oc1l4uzS14uXgpEcuVTURV+4kUYV9Pb2sOS7GHaD7Yuq6RjrVXDS+biQxGEKunbKuPdInhHm+FFp3IyJPNLXWk2dRabRvq034wPzPTEuXTkG0lJkVsQ0vhKrRR4I+kCfmpDvWhDFRpegqGHuzJMndK2bTjmNtxxbWhGD8luJ323Zxu1YZVb3tSG/FFy1lmuqvB9efsKy2XU8KK5eIOTvwNX/sZrX2OWK2e5Yi+XG+yVUlFXdViuybHUoSkzl+eivuzlGgryfk6oX8ecD23lslWpOdrnTVJmarAkl7fzPqRhnS/NaF8mnbNyCV6Frnghj5u54t1zYjIXWlO3dbtm8A4IJh9z2mhLpb1msOP209FbF/0uWm7Hu2zEK7oTN9PgN+DwO9vRmCWlSyWcbkNjjBrsmQvXXRuaYiLKwq2T0oO2DYOYvCsyERMzPZJay7DDbbhvJicUexQz57rp3o5bxkj9KwhNdsK60XV1UoLtBrfhgIvORrbOVW+bAmxei+EmDClQKWeqO3CTH9SGcSrj3sJucDqMgp95G3JFOhkr7rYiCFRn6HXSGBp8Z64Nh6TSg11uw1hvXeZdM6ZLbRjJIHVtSLrkJs95UpHbUArVLoXgrGKwfZmXLlq1dVHvXnUjoCkzwYsxpQ714IItZ83ooXNv6NFkYzM95mE95f617/WwyFwOgtxW0kPyL0UQmey4bUMp2AKTHpYFxZ9SUmjH7qyMu4s25D2hXLJVOT0cH/AKcF5D6nZ6cm1It5FwPWZkyTCWqtPnPN0x2QoazbttG069HnYG3IY7Zveab0P2RvwuCdnI7x1gXRsWLqXrduOynCtnuWKWy/hN0BZycXKTbTjJ1enLuOeWO/kZrMInx1V3m+SasFxRV4ZLcuVTv9MK15maGefLqFMrlitiy9Y7JRfZ6s5AD/fMzjMrclkrbGM4/SrDVAhLYYnbCculCQMO+ItsnVzkCSzJJUw2tk1NrnLcF3Vu3LwuTxXYqlS9IclVlWZySN056rjCZO8DFJngJdjueblpfN7LhtSAZ/u6JBfPc7DDORFVJZMO6eRwjyTycgW+zM3JFacy7PC0fH9JLiOCmPyZPKNuFSZkD5vGy8VrKhuufte8mY7JJrwOvUOOEK8Q9/sTFWSQW7kKsh7hXC5N0SDJNXObB6kwEWHMlQKc67TW5BMZkAPMXVu7LWB4Wx8KVkmu7FgPL/llBSTXlEszGjObkn8YsVyp2+Zv6svV3ZZh+ZSLtlIuwKnXymWtdZEefVfctc2i/ssWuTC8u01ni/RwLpcrkHe+jSv73yAXT950ePpTc7Gny6lVMk5UOjTZiR7u+ecVBGY25SxnY4up8yJIrqTnp4JcBVDAEQfJ1RNRankrN+U2GOJCDwrXefyy1tjZhDevSVmuyi0K81NxxpDtXXleXUVhgmwmx1zwxdtqsJMmecN1NwsrO32KHeJEKd30d/Rgl5Pj27bOOatCd0mxg22ayZGbBFX9HV4GdSI16bmfO6RhOnDTYKREg10ZRJwY5W0yeJJDuf1inFxT3tOwO2C5pjz1m6jojFzW+OfFmSaeOei6Pfub6aHbF8yV/7hV4UvPyyw9r4HbG4HMeDFxO2uopG/ysbtPvX2Zt6SZ+K06isyXx1qraKRofAGpqanbciEkt6GxJU+BdPq6t0dtqHUz2NP9PWq0LmfVXWmG5TY0PNnAdV7chmMzG7lFItSG2QmPKeyzud2jeac8bw+nRxyRbflt73j1gJ/DWMjVuP3X6oM7Tuetq7DTwWNVZNiqKN78QfnWD1R3O3rh5eDisxSnae13zHJlXfMjS+Y1h66Eb76mY75n7MpG5X6G3/Ckt2o3L1nZ8prXZdGo7Mr4pTS8/pbvIXD9zZfNuJtvK9t9FbcO+AQN7ZfrtAVvbvkoaYzfMpdDTbfbvD/OwJ7eh1YsbcK8kMucvmAuF2+vukau9qQSU/E96FYuVxDl5Qrave6DdrPWU3KFvLZQt1vW20Ulm9tuel5GyEOj5QXV7WbygWs0w1s0ueuVO21hXtXW1pxbU1vLIsyrp9yyGsV3wss4F0VQfkfZdrP9lc20Zfu4zWJb9fm+4sv7Nq8cOdHwprtivonOShsaY5yb5dd/8uEdlve7clvdOun8V7R7SlMb5m77IuWirHaffOH/WrhqrnnZ53q55Hyz93bbcN+AYlHALFbPX3BLTtyGcG4z4fmSS18Ld0Yu/hz2LYTUq3K1n+z3Op6rUBCpMFra3dq6tC4NEm53brrb+fE6ja9RdE+Kq7v54Xvd8BOMbunKfEthLi80DYvgljrLeRvynZxqQ7fVrt9neK1uqMWJIYsicHm6DZf3jnaFfNZYt8Z1+ZScs3JxB+fl37XLmpEv4rqJm1QUKzrfbqy4Ri7eHeCUXFa2M/+LI0vmG/ufkmveER4hF9uZ9XI11B+l1osjHnhq0dSVr6vn5Qntohi1LJdh/V/INd/qnFfFS1dE2iz2IV+Vy7Rb38vFpv3zDruohj2r82J+XoDbbnphYIVdPOumMm5zU3/+RW14Dk35fQFUm+v0y+vcNuO8SUEx3xvId7256Z6XNc53U1dqMUa4BU3+GS23Ie+nyMu4FgtwvLJZY9wxENGSXA0F3pvkqivTtHLxpsirckm/tKRd8tbKVbdpiHhFLr9cziydIMB9WcnHkUu1O9UtyeU3mV+ctLJ8ngu3W3vSk140oFu1IdvrV4bFVd2YHxLRLjveoBtzAxut7gDv2rA0XOrFO1Not60jWe+58Vx8ixAN663WJDVv6UK+1CndYJNoecKttd52XkfpldyYef+1bnNl3ivEZS5WFp25FRbUv6r1bUgeTk1+CH2sO4dLnN45f9GGatEs86Jft72827JkQxta3mmCjz4JV9rQHeDiZqHd10nV1ghopdsjXcxigTe3IQ0WrDnU75TfIbUdUJolPQyipTW2S20o2w323ba7ztq4Mkyn/PMTLlZOw6lIBLcX4FIb+t0W5l2M88h+QJ+f07S+Da1ffbY4IGCt7W3lmre8929X5ZovlHZDoamX5GKFXD654xFytcdn+L23vNp/HLnmJz44uaw43b/WyGXcSpnFWu/WAz8jF/uuTi7qaFG7xEyukWt+Ht+KXLzVgnOwrWjlqoRQboODzXIZ/4gXJ8ptlsuYRQd0Sz9WI4t2Q313A04P6/ZoklYu572syGXaDjuXq3IHQ3inPYxafyngLd4qv9He3JczSy7uslzLx3nY1QL+jXJFK878XK75eoF5DOVOrwii9c6820rP1Gq+NxZvwegODGLP2S6c+SBgL7RaOvOoPddP6hW55su0vaf9SD18lFxto83l4khhVa5oxdlYyMXDh7vPdk03b5Bk3ETOalDZnndGo7beGHxZbgQfVLplxZLXp3DBddBuDL98OJq7mblcK+dLtqcR8XS4uzcnF+/jvk4uH3xZpcPFn/zzChZnpvjnxbPsK8/LtiGJOvO8lG+KNjJaOaRs7vS6NrR2XWAu/RkCFJj7I1ScCpFfzXVMfg2La8PFopulwNwNvgu5eC7cbcEZJX4lnV6WKxTClu/9rPjF90x2rNJ+9NJvxM99dfWkzkcsLWnq/K0flm98X0ad6HPfDJ95QbV7FwMAAAAAAAAAAAA8eZqq/OC14o2/M5ND1duNv/Sb0dUvnF1aota/mY+O41ORTprDO1xQBAAAAAAAAAAAAHBuSKUGe3rnigwiUc3clitnr1Ib39+WAFm3ZvJMLQcAAAAAAAAAAADAE4NPd+KVONbw1tHrr9r4fj4Q26UzbFOY9lBlAAAAAAAAAAAAgPPAzMZmcmibSg8u6K2La4sqNiQyeJMed4yWTLqSD9JHgwIAAAAAAAAAAODc4FPnVbs3sNst+AybEhmNMLzReRi5kw5UewwbAAAAAAAAAAAAwJPHnbqiAxlEZnLUnOyvvWpjRQafucLnuUxHZnq8NgsCAAAAAAAAAAAA8GSw1pZTUVdSh1IqqdanLDafWpJ0VZjauvQn1WNlCQAAAAAAAAAAAM4PKWUQC6VtU4kwlklv7VWbKjKMjBKZdOhz4lR1hiII0KQAAAAAAAAAAAA4L6wRQtL/15Woa2GMWFeUsT6RYZraTEc2nwop6VOsdZ8FAAAAAAAAAAAAcC5IJYJIaD6pJAg2VVRsWHCiQyml5X0xbJnbMuO8CAAAAAAAAAAAAMD5oJRKOirqCilllKooXVtUsWFpiQ5kGEulhbW2ym1ZcFEGAAAAAAAAAAAAwHlhiswUE2GtrUtbl2uvUZveLONERKmQStSVLTLrtvwEAAAAAAAAAAAAOA+sEFVhi1xYo5KujDprr9p4/KoMO6q3reJEaG1NvSkRAgAAAAAAAAAAAPBkkNqdumqKzFaztZdsrMgws5HNRvwpSqqAd/0EAAAAAAAAAAAAOB+kFEq5/IPNRmY6WnvVhkSGFDafmsmhKWZCKpl0VRijSQEAAAAAAAAAAPAUkErx2atr9uvcWJEhlBZSCWuFqQUfXwIAAAAAAAAAAABwfthqZssZ73hhhTFrDx7ZlMiQUgcyiIUOVHdLpX2BQ0sAAAAAAAAAAABwfljOXCgtlJZxVyYfa7NPIUQQiiAQQsh0oHrbQms0KQAAAAAAAAAAAM4NKXUodSCUkkEktV67X+emU0uMcAefNLWdjcxsguYEAAAAAAAAAADAOeK2+TRGRR0Zp7ZphHn8pSXW2qoQdUE/G4M9MgAAAAAAAAAAAHC+mMYarquQUkapChOx7gDVTaeWEEJIIZWQ0ppauM8CAAAAAAAAAAAAOAdsU9t8YqvCFNPm5IGpciHXZC3Uoz9E6kCmAxl30aAAAAAAAAAAAAA4Pyzv9KmiRAWxyCdmcrx2gcjmRIaUQmqhA9Xpq85A6ABtCgAAAAAAAAAAgHNC6UAPLujdqyLuWGNsVdimXnPZ+ndba6tSmEqYxkyOzORIrHszAAAAAAAAAAAAPntY5ml/qw50b6j6O3QDVe72vTh71eaKDKVFmAopzeTQZCf+HBMAAAAAAAAAAAB81lmbQXg62LIQdak6W7q/s3Z1yIZEhjFSaTXcU70doUNhjKkrPEgAAAAAAAAAAOCXhE8hl2FtMzluju7aIpNJVya9tZt9Bhvea0yRiaqQOlS9HdUZ4hECAAAAAAAAAADgPLHN+KA5umfr0pYzWxdrL1qfyJBBKMPYZCNR5TLtiiBUYYwWBQAAAAAAAAAAwHkhpVCa/glhi8xMR6KphA5PXbVhaYlUMoxF05h82hw/NJNDtCcAAAAAAAAAAADOFZX09dYllXRtU4kqt2bNfp0bD1WVYSiiWNaJijvi09vkAwAAAAAAAAAAAL8s2EZYI6RSSV91t+S6zT43JDKaysymosyl0iLga3BqCQAAAAAAAAAAAM6PurJlZrKRCCLV21q70+fGRIZpajM5NvlECKGslUForUVVBgAAAAAAAAAA8MuIFeL8kwLGNKaY2apQaV9GCZdmrPnW9ekNpQIZRlKHwlqhAxn31pZzAAAAAAAAAAAAADwRlAqkDqXSZnJsRod2w9KQDZt9BiFnLqyQwoyPTHbsdg0FAAAAAAAAAADALx1PZ42GlHqwpwZ7pphYXiMirD171aY6Cyt0KINE6kAoJYx5SnUkAAAAAAAAAAAA+OVEKWuMbUr6WQdSB2uXlmxIZBgro0TGqbVNcPE53d8T1uLsEgAAAAAAAAAAAJwTpirM+MBmEyGErXJbztZetiGRIYUMQhGE0mq9dVF1ByjHAAAAAAAAAAAAwDnS1EIKGUZCCBl1ZNJbm4vYsEeGVDJM9fCiDCJbZLxZBhIZAAAAAAAAAAAAODd0qNKBTLpCKqEDGUQf49QSYY2tMpNPzPSkOXloixztCQAAAAAAAAAAgPND6UB1hzLu0i/FjOsq1l226f0mm5jDu2Z6bMaHzeRIbDj1BAAAAAAAAAAAAOAJoLVoaltM+bwRa5t67VUbl5bQP2HoneXMzsa2rtCkAAAAAAAAAAAAOC+aphkfmPGRMMY2tWhqzmicRm1+f83JCynjjohiiT0yAAAAAAAAAAAAcI5Ya42wRpjGNpXdsDRkYyJDxqmMUvohCFWYCqXRogAAAAAAAAAAADgvdKi7WzLtCaX11mU93Ps4p5Y0lYwS1d8RWtu64g0yUJEBAAAAAAAAAACAc8MaGSYy6sgwUt2BDDtrr1KP+oggUkFkq8I2lVAKTQoAAAAAAAAAAIDzw2Qjm52IpjGTE5OP116zIT2hA/pvmVvTiKa2VYlTSwAAAAAAAAAAAHCONLWZjU2R2bq02bEZH9oqP3vVxjoLW+ZmeszbhDb0TmvRpAAAAAAAAAAAADgnLGcepA6F0qaY2TK39vFPLbHWFpnPX4T0EcI0aFMAAAAAAAAAAACcE1IHwjSuCkMNLwR7V1WYnL1sQyKD3lnYphbGyDCVcWpRkQEAAAAAAAAAAIBzw1SFyU5smQnT8LoQK+Tjn1oilQxCqQMhrAwjFXUljl8FAAAAAAAAAADA+WGMbXg5iJR2NjLZx9rsU2kZxlIHQkrVGapOf20WBAAAAAAAAAAAAODJoLTqbsmkL4TkQ1iTtQePbN7sk5eSqM5QRgn9gooMAAAAAAAAAAAAnBsqCFXSkToUwoqmsnUpPsZmn3Vpy5ltahEmQkpTFWhQAAAAAAAAAAAAnCO8wYVtKldOIYPoY+yRYa21VWHrys5GzckDgeNXAQAAAAAAAAAAcL5YmfRVdyCkEkoLremHM6xPZEgdyDCWStsyN9nIlPnadSkAAAAAAAAAAAAATwgppBRSPXqbzo2nlqjeluwMhLWqt606Q1RkAAAAAAAAAAAA4DyxtpjaYiakFKYRTfNx9siQgus3pBBW6lBFiVAKLQoAAAAAAAAAAIDzwhjb1MIYYa3JJ2Y2+pinlszGdjamH6rc5BPR1GhSAAAAAAAAAAAAnB8qTGUQCtO4CouPsdmnMMaWuW1KIYTNMzM5NlWJBgUAAAAAAAAAAMB5YYzQgQhjIYSKYhWnH2OzT2EaoQIZ0JuFNdbU2OwTAAAAAAAAAAAA54rUoQxCIaVQgdDh2ms2JDKUVt2BTHr0KVGi0r4IQjQoAAAAAAAAAAAAzosglEoJ06hkoHrbmzbr3JjIEFLykSU7MukLYZUK0KQAAAAAAAAAAAA4L6ytRw+bk4cy6ajeruI1JmdRm95s86ktpryvhrGmefQhrgAAAAAAAAAAAACfCGtFXQtjbT4100NrGiEe//hVYW1d2aYy2YktcxV3hdZoUgAAAAAAAAAAAJwfKu2p7sCUmTm+b6YjYR8/kSGlSroq7gopZZQIpUWN41cBAAAAAAAAAABwbkghokQEobDGVIWtS37pNGrju8OY/jWNzUa2zARWlgAAAAAAAAAAAOD8MMZMT2w2EdaqKOHjVz9GIsNKpVWUyiA0RWbLYu3ZrQAAAAAAAAAAAABPBGu4liIf0y9RR4SxMM3ZyzanJ6SS3S3V3ZYqoHeuezMAAAAAAAAAAADAE0GqQA32VH9XSCWaWtTVx0tk2CKz+dhaI6NEJl1UZAAAAAAAAAAAAOAcsUaGiervqbhji8yWM6HWHDyyIT1hjMkn5vi+mRwJKWUQr30zAAAAAAAAAAAAwJPCVjNhjQgiaxprxcdJZLhcRlWIpjLTY5OdrD27FQAAAAAAAAAAAODJEATCNGZyaMtMBqEMorVXbTp+VdF7VEA/60holGMAAAAAAAAAAADgPGkaIYStK1vMZNyRcSrsmqKKTYkMKdMeb40h9XBX9/bQngAAAAAAAAAAADhHrJVhKuNUuKRGUwlrzl4VPOL97p9tGnonNvsEAAAAADh/qqo6ODh8uH+wz/9OTk680xYESRLHcby1NfzCi59/5pkraCsAAACfMYypbZWJuqSf87GZHAvTnN0mY0Miwxq62mU+rLFNJZpa6ADNCgAAAABwTmRZ9tprb7z2+htZNjv717quJ5N6MpkeHBy+/fa7Fy9e+JVf+cpzN55FuwEAAPjs0NRmNjVlwTteaKGDtUUVG+osrLXuvFalpQp8dQYAAAAAADg3Tk5Gr7z641NZDK3VcDjY29sNgpUppQcPHv7N3/ynu/fuo91+efjhKz965dUfv/Lqj9EUAIDPLNbKpKvSHh+fGsooWVtRsaHIQkqpQyG1UNrkU1NMhcLSEgAAAACAp8eLL37uhReev9ouISmK4vbtO3//g1cmk6l7pa7r7373P//zP/yD7e0tNNdnnqPj41fbFMbL3/gaGgQA8JlEhlHQ323SgRCy/beGjZt9CqXon2mklBKLSgAAAAAAniLXr1/9nX/2W1eXNsKI4/iFF57/7d/+zeXLxuPJhx/eRXP9MvCLX7yORgAAfOaRQWRNY62RYeS3vDDN2cs21lnYfGqLKb0zilXSw2afAAAAAABPjedv3lz7+rWrz/T7/eVXHjx4iOb6zDMej3/+89fQDgCAzz7GNMf3bZXLdGDrylb52lNLNqUnpOpvy+6WsNYWuS1zISWaFAAAAADgKaC1vnbt6qa/RlG4/OvtO3fQYp953njzbTQCAOCXAill0pVBKOpSKCWD6OyRJY+qyJh/is3HJp8Igc0+AQAAAACeBleuXE7TZO2f6ro+ODhcfuXUJqDgM8mr2OATAPBLglQq7QtjTDbyW16sWx3y0SOfjFIZJZv22AAAAAAAAE+WixcvbPrT/fsPTr3S7/U+yXc95hEYbnfJx7l4vg/lR1585fKlK1cub/rrweHhe+99cHJ88uDBw6quh8PBcDDo9Xs3n7uxdnPTxz/L4/HvUAjx7PVre3u7Z19/7733j49Pjo6OHz7cH43HcRzHURTFUa/XHQ6HvW630+08e/3aJ9SEyWT6xptvvfLKjx5T2I/cBHQ2yw8Pjw6PDh88ePjw4X5dN9vbW9vbW4N+fzAcfPIbBgCAT5zI4INHlBTWyDCRUbr2qg2JDGv5AySffdJTSR/tCQAAAABw3rjA/qtf+dLG8H61HIMu/upXPsk33r177+7de4++5p+1O4weHh7duvXeY6YJKN4+E4Ev8+0//qOzLz7c3//ww3v37t774PbKkpk8z10S55VXfnTz5o3f/Z3fPlWK8jiCCCF+7/d+52O95aUvfP7UK6+99sZrr7+xv39w6vbyPKf7f7jvXrlx4/onzAt897t/+8abb63909qGffnlrz/6A1999cc/PPPG5UZ49tnr3/j6r1y4sIeeCAD4NFFKSM0bf8b0c1OfPYF1Y0WGLXlrDCFEVdiqQGMCAAAAAJx3FuPbmysUhBB37nx4KhB9+eWv37hx/ZN8ab/XuyeltRsXEW9tbfV6Xffzzs72/fv3Z7N808XPLB2zIoTopJ1slq29cmdn+9QrP/vZL957/4PHOYTl3Xff297ePlV9MBwODg4OyrJ6xBuvXbuaJos1O1vD4YMHD5um2XT9zZs3kqXrm6b50z/7y3kKY3d3x1qbZTOXwjhFmqafUB/G4/GTUq2HD/d/+MNXb9/5cKFsly8JIbJZfnJyMn/x/fc/uH37zsvf+NrXv/4r6I8AgE8H05hsbKtcRqkM401LQzaMW6Ypbv2kfO2/mNkouHAj/uJvBheuo0kBAAAAAD4tDg4Ov/NX/yHLZstZjI9cSvA4lGX5+utv3rv/4L333l8N4597+eWvbW+dXsfxzju33n331rtLpRm7uzuf//wL169dGw4Hpy6eTrN33nn31nvvzxfFvPyNr734hc/3ut35NVVV/5v/9X9byZ4Mh9/85st7e7tpmmRZNs1mr/3i9bfefmf5mv/+v/tvdnd3Tn3dhx/efeXVH9+7d//U6y9/42s3bz63dk1KnhdvvvX2W2++fXC4qHb51jdf/vKXv3iq6ON73/u7n/38F+7nP/j9371587n5nz64fef2B7dff+Otuq7n3/iRJRKP5s//4jvzn09VjqxdknPlyuW1+vDTn/78h6+8WlW1Wylz8+ZzN28+FwR6nrz44Ss/OlXp8/zN537/938XnQ4A8CnQ1NWDW+WbPzDjA9nbiZ7/evTM5x+7IsM0tiqsqYXSIgjXbhMKAAAAAACeDm+//e6PfvQP8yxGv9f71rd+9fnnn3siHx5F0Ve/+uXt7a1TiYw/2BDK0vdKsZzImM1mN569fupcWEe32/nqV798p62zeOGFm2fD+yxbqdrY3t761//Dfzv/tc9cvnQxjuN5HsFtonE2kfHMM1estX/5f/37Ux/4iJxCksRf/cqXbr27EOf3f+93z7btW2+9M/92lwtY/uv1a1evX7v6uc+98Cf/55/7Vo3jT/hclpfe/M//y7/Z9KdH8/Ofv/Zfvv/37uedne3f+73fCcOVU2+effb6zs7O//Pd/7ycK3nn3Vvi/xbIZQAAnj7WNGZ6YorMmkZMDk02FutqLzacWqK0lFKYRkgho46KEmFxagkAAAAAwNPm/v0H/+Gv/+N//JvvHh0fu1e+8pUv/at/9S+fVBZjzrVrV0+d+fqzn/1i08XP33xuec1Fls0++GDjKbD37j+40y5q+MqX12z/MZvNln/93AvPr/2c5557dvnXk+OTtZddvfrMqQTHpUsXP7qdH/iCkcFgsLZt795bxPlXV1fQzLlwYW/ehnEUferK8/bb7/6/3/v+/Ndf/7VvncpiOHq97r/8F3946um/8+6tsxuyAADA00AqIZU1xlSFMLWQ8mMkMoQO6P1Nw0eeaBy/CgAAAADwdCjL8oMPbv/9D1750z/7yz/9s7+8dcsXSly5cvnb3/4Xv/5r3+p2O+fxvTeeXVlK/NPNiQy3YcTyr6f25lzm9u07bi3z1avPrN1Icnm9jKsReJy7PRmNNv3pS198afnX11574xEbYbjlFfOfr1+/uvaa0cni6x6xpcg8CRL9V5DIWC5g2dvbfWZD/oV31lPXz2xN+t5SswAAwFNKYuhAJl0hpahLn9RQ6rETGcLq/q7euaLSgTC1yadrsyAAAAAAAOCJ8847t77zV3/94x//5NRhq0qp1157/Xvf+7tXXv3xeDx54t/77LPXgqUZ+zGz9sq33n6nqqrVbMXts0fDCiGMMbfbHMepkoo5yxUZ21tba3eyOEtRlI/IJsw3KHW88cZbj/io5d03rl1dn8g4WWqKd969temjXvz85779x3/07T/+oygKP10tunXrvQcPHs5/3d3ZefT1Lzx/83QiY3WpEQAAPJVMhlRxVyVd97NUam0uYsMeGU1jisyWfFiJCoRSwhjslAEAAAAA8BSYryI5xZ2lUyd+8pOffu5zL/zWb/76E/zebrf7/M0byzH/a6+/+a1vvnz2ytdff/PUK9aKDz64fXYRx/vvf+CO+Uji+NS+EnN2drYff9OHxyEMwxc//7lXXv3x/JVf/OL1L37xC5uuf+cdn5gYDAabKjKqpfNQ7t699/2/+8Gv/f++ufbKK488euap8fbb7y7/epmPKXkESRI/++z15eKUg4PDo+Pjs7u9AgDAeSYylNABLxCRKkz44JI1bKrIEHY2MZNDk49tMRWNQXsCAAAAADwd5tUWVy5f6nTWn+JZVfUvfvH6n/zJnz/Zr35+dVp+7TYZx8fHpw7RcKxdXfLBohzjRrJh/8srVy4v/3sigrz00oudpQNQD4+O1t6zC9fnPz+3+SzbixcvLP/6k5/87K/+/V+//1/r4os8z5d3Y+VjdIcf+a5TMtLnbD5qFwAAzgVrRV3Rf/mkEivW73KxoSJDaZn2ZNyx5czmE1NMhLiEJgUAAAAAeAp881e/8c//8PeXg9KTk9F773/w7ru3Tq0oebi//7//23/3P/2P//pJffW1q89cuXzpbnt8aV3Xd+58ePXqM8vXzMsxbtx4Vlg730nh4ODwvffepxdbsiybV5HcvHnjH3dLh4dHd+/d33+4/3B///Hf1el0XnrpxeWijNffeHNtluTNt96e/7ypZsSVjSxXxHCxye3337999eozOzvbu7s7ly9dOrWe5VPk7OKX+DFOUfnUl8MAAIBoalvnoqmFtbapbFkI0zz28avW0Dt5VyQZxCoI6RWBpSUAAAAAAOfOzs728q8Jc+nSxZe/8bUf/fgnP/rRPyz/dTKZfP/7P/i1X/vmk/r2F154fp7IcCsUTiUyXmsTGS+99GJd1ctbQr73/gfLiYz33789mUzdcR6nPuTRGGPu3Pnwzp27d+/d+0efnfHSSy++9vob851E33rrnV99+Rv9fu/UZW+3G2Q8e/3a2r1IHS9/4+sPH+7fW2oZB9/nh+RVB8HNmzeev/nc2V0znz4nx6MziYyP3nw0CiP0PgDAp4wUUmlhrWhqK6Uw9cc5flUIW+a2zmUQiTAWUgup0KQAAAAAAJ8iQRB881e/8dIXXjz1+u3NJ4b8Izi1U+Ybb76V54v1BW++9bbb5nNra3j92tWbN2/s7e0u38nyxR98cNv9sGmbz7O8/fa73/1Pf/tv/49/952/+uuf/uzn8yzGYND/8pe++LEEcUUZKx/+zrunrimKctaunnhEOQbvuxH87u/81iMEqev6zTff/s5f/fVf/MV33njzrU9XVU6daPvYFRmnExlJmqDfAQCeKkrLpCeTrlBKhYmMO2s369y0tESJIJRKW2P8rwqJDAAAAACAT5/f+q1ff/fWe0VRzF85Oj4uy/JJnfcZRdHnXnj+Rz/+yfyVd2+998WX/E6Zb7TlGJ///As+/n/uhtvO0x2keuu9912q5fDw6DaXKkgpn7vx0etK7tz58B9+8rPl5RudtPPcc89euXL54sW9brd79+695fNEH4cXP/+5n/7052W7T+cbb7z59a99dfmCecah2+1+ZLal3+/////g/2PvPbzbuPJ8z1uFnAGSIAEGMGdFKli2nNqh7W67p3vmhd2ze3Zn05/1Zt/2vPN63sx0T/fM2G6HtmzlZFESxZzABCLnnOruAQooXFQVQIBBJKXfx7IEFAqFqlu3qu7ve3/hZx6Pd3V1fd2+QUo2JLtO167Tlc/l66QXPXIhQ7BvjfQQiYQ/4FfIFXDFAQDwMmGy6XzUj9MJRNG0vk1iaG+m/CrDUBSNaCnOZym5ilbpEIYmBQAAAAAAOH4oitLrdbyF4XDkEH9icHCAJgaOG/ZS2kifz89GnUgkEs4xpK+vlyJq421tlbwwtra388U45b6+XoNBX/8XHz1+8uevv+NUDLlc/ua1q//xP/7mrbfe6O/v1Wj2mXtCq9UODQ5wbyORKFlptRhvslY+CptM1lCGiPZ281tvvfEf/ubXb735hs3WI5OJzwvevfdgpzqnxstEqVQIhIzsnt9KpdJ7bgcAAODIH3M0TSl1tFLLpOJMKtZEaAnO55h0AueL1bkxU0yQAQAAAAAAAJwIjAZ+BQph6oeDYDIZh4cGubeOXafH40UIrayUzP7BgX4uVMFg0JO+DNvb28FgqPiiFPDSv5enw40fbs7MzJK//tkvP5mcHD+U3JODhJCBEFqvLkrKha709zWXi1SlUk5MjP384w/+83/6m/ffe2doaEAYu7F7nEKGUiBkZPb8Funmw54IGpyyAQB4udAypUTfLtG3IImUifqYsFdUjqghZGAGpxM4l0O0JB9y5UJuBC4ZAAAAAAAAJwO1Wk2+NRj0QsP1wPZ/VR3WjY3NXC63vFKKKxkZGSI/JbNLYIw2N7d2d51utwchpNfp+upqBFtb2+vrlRIbcrnsww/eb21tOawD6ehor8o/ur3D7ljxoLbYFxZLh8Wyzwp9KpVqaGjg/ffe+fyzT0xGY5WQUaPg60tApeJX7c1k9xYyeMEy5rY2uNYAAHjZMHlEUTibxukEoqWiCTJqChk0TVNSGUXTFE0jhkHZDGLAKQMAAAAAAOBEEI1FybftZvOh/0Rnp7Wnp4t7O/NirpjmM1f4yGrhmf0D/X1kpZWt7Z0tIs1n/Vl9x66zSndobzcaDYd7LEPVThlrZaeMFSKuZM+NPHr05Muvvvnyq29qrWAymT744D0yPiUUCh9XD7EJKqc4dvZ2D/F4vVX9qt0M1xoAAMcCzudxLsvWLkFMvlEhAyGKUqgpqZxS6aXmXlqth6olAAAAAAAAJ4F8Ph+JVAkZHZb2o/ihISK6BCF09+6DkmxR7azBMjhQWejxeLfKNVn79grZiEZj5NtD9MXg6O/vJZ0L1u0bbFHYzc0tthxJf1/fnhsJhUJOp8vprFcO1mQythH7L0xl8tJoa2vl6UG85CCieL1+7rW5rY1X8wUAAOBlQEuQRIqYPGJylFSGpOIxhrVDS3IZzOQRLaE1BlptQDQFTQoAAAAAAHDszM4tcFVC2LAIYUHWQ2FwoF8oK2i12uFqgaO08uCARFJxAGalls5O656z+urqIIhoLFZrTWFJ0cYZGKhIFalU6s7d+9NPn7Nv+/p6NRr1nlsIlt0rhDVcSaydVlJNOKI+kK6R8IL0AeHVTIlGY/aNzTrb9Hi8ZI6MsbFhuNYAADgGmDzOpBBFU3IVRUsoiRQhqlEhg6KlCGOcy6JULBd0MqmY6JcBAAAAAACAl4ndvvH48RNyyeTE2NH93NDQgECw6CcFC0Lg0AgFjkZCNjoJy5+N+7DbRezt6afPb/xwa98HMjIypCCKj+7sOKann7GvG0nzmclkotGSF8zS4rI/EGio9QYHjui87JQTqXIsL69+/fV3dvsG0THGBwaqfGemnzxj87CKQvar7u6u0VFwxwAA4BjATI6JB3E6RlEUk03hVJwRCy0RrxeFKKqoXGCMGZROMpkkNCgAAAAAAMBxqxib39+4SS4Z6O8jE20evpAxOPD06QxZ8GJwoL/WyoOD/YtLy9xbhULR17u3RiB02fj+xo/jY6NDQwMGgyGZSm5ubrtc7p0dvunudLrW1tYHGxMLFArFwGD/wsISb3lLi8lm69nz66FwxdMhncn8+MNtW29Pf1+v0WiQSivDab8/sLhY+omJiTGeRnOIPHj4eHlltbWlJRQKhcKRaDTCVieMJxIXL57nVnvz2lW32x2PJ9i3wVDoxg+3PvzgPWEWkjt377OFdVk+/eQjuNwAADgWKEqC00mciiNEIYbBDCNaflVaRwpBGONsBkmK7hy5DJLKoVkBAAAAAACOT8X4kVwyPjZ6/fq1I/1RlUrV1dXJzfMPDvaTST15WK0Wk8nIzfn39dnUatWeP6HVas6fP/v8+Qty4cLi0sJileggl8unLp5/PvMimaxU1vjhx9s//HjbaDQO9PdOTV2o/0NnzkwIhYyBxmSgULAqbWcwFAqGQuw+azRqg16PEEql04FAkF2hs9P61ptvHOKJGB4eWllZ5d4mk0mHI+moLu+qUCh4TjEqlfL6W9cePnoSLgsxwWDw+xs/dnd12mw9Wq1Wp9POzs7bNza5Si79/X0ffvAeXG4AABwbUhmtbaGNHTiXoSmKVmpoqbRhIYOW0FoTrTEwsSAlU1BSJcMwkO0TAAAAAADgJZNIJNbXN9bW7V6vj1x+7uzk1auXX8IOdHVZOSFjSCw7Bsnk5PidO/dLJnEDIRssVy5P7e46eQdI0tHRfvnSRavVsut0bm3t8FWGUAihvX/LoNfberq5ciosfY3tpMGgt9l6uAymJPF4gnN5YOnt7Xnz2tXDPQvdXVZSyOAP6KXSM2cmJifGhFVXbbae9nbzzMzczIvZspYRCgZDL2bnizOfFCamOs+enbx65RJcdAAAHC+0Uk3REpxNI6mcUmqQRNawkFH4so5W6XEqRql0tFpL10gWCgAAAAAAABwK2WwuVSLN/uP2eDY2tnir6XW6s2cneakcj47urk6tVhOLxVUqZU93V/2Vh4cGWSFDqVR277UyyccffbC2tr6yusY5NbAoFPKR4aHLl6fYxBxjoyNud1VOSqvV0tPd1WDF1gsXzpFCRm9vT4Nf7Oho//nHH+zsOLxen9fn93q9pGMIx8jw0PDwoNVqOfSzMDg4EI5EubweHCaTsauzc2RkqI6njFKpvHr1kq2358XMrM8fiMfj3EesikHTdF+fbWx05OhiYQAAABoF43wsmPM7mESYlqtwNo0wLua+qKJKha2Qy6a35jPLD5FUrhi6JLUO0Qol5PsEAAAAAAA4Op5MP3taLqUhikRCn5mcPHt2QqlUvswdW1lZc3s8NE03Ei6xvr7hKmZbeOut/cRW+AOBYCAUi8c1GrVWo7FYOqjq8avfH/D6fNlMtq2t1WDQq9XqZn/i22+/Z+WMd95+a3R0n7U5wuFIKBSKxmIII51Oy4ZpyOVHG4i9sbEZCIaCwSBN021trR3t7XsWhRGSTKbCkUg4FEomU2qNWq1SWa0W0QSuAAAAxwCTT2+8yCw+YJIRSqaQj15TDl1CEr4HRk2PDJyO40ySkkgRxojJoXxe+GUAAAAAAADgsKAoqtbyzk5rp9XS1dV5dBU96zA8PDg8PNjgygMDfWSt02ZpbWlpbWmpt0Jri7AobOPs7jpZFUMulzeS5rMWBoPeYNC/5BPR19fb13DATi1UKqVKpbR0tMMVBwDACX0ayhRIoUKpKCVT0Qo1Ens41tAmJBJKqkAUzSTCOb+DNrbTchU0KAAAAAAAwJFitVpompbLZTKprPC3TGY2t3V2WqVSmE86HFbX1tkX/X29KpUSGgQAAOBkQVESfZvEaMHxEJJIkETajJCBKCSRULQE5zI4HUe5LKLB3wwAAAAAAOAImbp4HhG1M4FDx+X2LC+XUmYOjwxCgwAAAJw8KIqiEaIQxjidwMkYwgyi+KVHapciwRhjpvAdhsHZJJNNQYsCAAAAAAAAp5e5YqkOtjSspaMDGgQAAODEQVFMJoWTYZzLUjRd9KgQ8cioJWRgnE3jXAZhTKm0lFIP7QkAAAAAAACcXqann9k3NtnX/X190CAAAAAnEYwRTRf+UIjWtUn0baLRIXTNL2MGYUzJ5MViJ4iWQQwhAAAAAAAAcCpZWFyaLleEUSoU3d2d0CYAAAAnkaIQgSga0RImm2LSccTkhWvVEDKYPGIYRFEIIyYRYWJBlM9BkwIAAAAAAACnju3tnbt3H3Bve/tsCoUCmgUAAOAkghkmEcaZNC1T4FiQifhF16qR7JOikFROSWQ4k0T5HKJpaE8AAAAAAADg1DH99Pn09DNyydDgADQLAADACYWiaIWaUqpxzE9J5ZRcPDSkZikvWqGi5EqcSVIKNa0yIKmskR/FGEPLAwBwam+bFDQCAADAq8Hi4vLGxqY/EEwmk+RyW0+31WqB9gEAADixQ3IkkSGGYTJJWttKKTVNlV9FSCqjVXqcSSFUzJeBsGiyUAAAgFfklgkqBgAAwCvE7Nx8KBQWLu/vhzSfAAAAJ3tQLpEimkYYo1wGMXlRIaNGzAgtpaQKJJFQEhnOZXE6hsDVAgAAAAAAADgliFZX1Wq1w8OD0DgAAAAnGIpSqGmlFlE0kiubDC2hEM5nmWQM59Iol8HZDFu7BAAAAAAAAABOPoOD/YOD/dAOAAAApwyMmXiEiYcRxhQtpWipaGhIrdASCqfiOBXF+RyFMWKYwgux8q0AAAAAAAAAcNKARBgAAACnEopCTBZnUwgzOJdhchnRtWqEluSL32TyCDOUTEEplBA9DgDAK33DhFscAAAAAAAAABz/uJxzwaBoCVWjgmr9uqoUwpiSySm5GlFQgRUAAAAAAAAAAAAAgKNEIqUkUoQQTkWZZKxYeIRPDXlCIqMUakoiK6yh0tNqPYLpSgAAAAAAAAAAAAAAjhJKKkdSefGVpJjgovGqJcUcGwhhWm2gZArEMAgSZAAAAAAAAAAAAAAAcJQwyTBORBBFITauhMkL16khZDB5lMtihqEUKkRLmGwaWhMAgFcVSJABAAAAAAAAACeDYrERzLAvEftCgLiQgfN5nE0jJo+T0XzEh7KpooMGAAAAAAAAcMqIxWLQCAAAAA0SjR7PPTMWj0PjF6EolZ7WGBCiEE0hqRyJ5fuU1vgqhZk8zudwPoviISaTQphBFESXAAAAAAAAnA5SqdS6fWN5edXn8//6rz4zm9ugTQAAAGqRz+c3N7c2NrfW1ze6uqy/+PTnL/9e/Ve/+mV7uxnOBcIYYbJ8iYj3tLiQgSRSicFMawxMPERrjbTaAB4ZAAAAAAAAJ59YLObx+pxOl92+mUql2IVyuRxaBgAAQEg4HHG53R63d9fpikaj7EKDwfAS7tU+fyDgDywurSQSCXahQgH36qKMkUmibLpSbwRjYe0Raa1vU1IZksoRxpRETsuViIbyqwAAAAAAHA9Op8vpchNjHP78yqWpC/ve+PTT59UDqKqNd1otVqvlVDTRysra9s5OMpkSfnoUg+N79x86d13BUMjS0T4+Pjo4OPA698n6TF08D1fx8XLv/sPdXVeo2F0vX56yWDqgTYCHj37yen0usQtZqVAc3e/evftgc2srkUgKPwLRGRXzdeJ8BudzCGOUS+Ma+TprCBkUYpJRnIwUHufZFJOMUQoVJVNAqwIAAAAAcCxMTz+r9dH42OhBthzwBzY2t2p92nkaVAyW5ZXVWh8pDntQ/v2NH+32Tfa1y+1xuT1yubynpxv6pJCpA6hswFF01y++/Po//M2vTSYjtMxrjs/ndzUsRx4iC4tLtT4CIaMAg2mpgpLKEJNnsmmcSYp6ZNT0s8C5LM7lCi9SCSYexLkMNCkAAK8eULIEAE4LUxfPd3d3iX60uLS8781mMplaKobRaBgeHjxFTfT29TfHx0eVSuVR3+vW1zc4s/BQzsIpZc+0I1KZrFanBV4advumsLvOzs1DywCjI8MXazxZjnR8+N57b09NXTAaRaQ0iQSyUhZLlcgUlFxZPBE0osQlixoeGbksymeL1U4QwgxmGGhOAAAAAACOC2s5vmN6+hkvEoQNBlleXh0ZGdrHlpeXRbwY9HrdtTeu2Gw9p7GJxkZHvvzq60wme3S/FQqHhQu9Xv/r1id//VefFezkjc3lpZXtHQdvhZHhoampC1qtBq7f4yUYDAoXikZgAa8bQ0OlgLgbN26u2zde2u8ODw2y6vw//tO/cFk5gAq0hJbKkUSKKIpSaGiVDtEiulItjwyKVhtolb7wSq6k1VokkUGTAgAAAABwvExNXRD1kljarzvAyuqacOHZM5OnS8UgaW1tOXfu7FH/hHDhQH/f69kn+/t6z507I+yo7757HVSME3FFtLUKFxqNBmgZgOPSpQu8+DvZSwnxGB8fhcYXgZZgJo+zaUqupBSqmmuJL5ZKC9+RymmtiVLqEMY0DV4uAAAAAAAcP4MD/ewLhbwy7nR7vMFgqNlN+f0Bvz8gXH7aK5Uetf3ca+vh5UpsbW25ePEcdE6Ozk4rNMIJodfW09ZapWX09/ddvXIJWgbgMBgMLS0mcolGrX4Jv2vpaIfGFwEz+aifiQZolUFiaKcKz/rGy68ixCTjKBVDMgVCDGbyCMLIgWK3amZl6DMAAAB78KScLPASpANsmHCk5Iir1WnS/koy8+Xl1TfeuNzUpjh3DJ1OG43GXpoQcNTwhuAy2eH71X7+2afT088CgSBCqKW15dzZSalUCp2z0oU04ItxgvjNbz6fnn7m9fmVCoXF2jE6MgxtAtRHqXwZZS7a283Q1GJKBEZMHiEK57O4WERVdK0ajxyMcSbJZFMom6Z1LbRCgyDvCFDoFhgh3EzyG9AyAAAAarKwuPS0mO7BenrqYpwEomUhQ6fTkv4US0vLzQoZq6vr7IvhoUEy9cZRWP7HiEx+JIcDxTjqAEElJw3orgBwaqApWqWn1bqcbwcxm0xrJ2rrbqJqCSVT0HIlRVGUTIloKSpWMAEAAAAA4LB48QLS5u+HSJQTMnQDA5W8DJlstqlsbRubW6lUitsU+VE4HHmVWkwmhUxnAAAAwGmBQjIFksoQZph0nEnFRcMCaggZFE3JlUiqwEwOJ8I4E4eZdaDoXlH4g3HlD7ewxh8AAABAHLt9MxKJQDvsg4pHhlbL5n7naCrl58pKKa6kq6tTp9OSH4XFqnKcXuRyEDIAAACAU0I+x0T9TLz4IMa4YFSKVWCt5ZGBKZmCUmgQJWFScZxJ1SrfCrx+UIK3oGIAAAA0zfLKKjTC/giXBSCdTtvT00368DsczgY1iEwms7m5xb4eHhoUCBmvlMYE2SsAAACA0wLGDE7FUTqBMEOr9LRGL7paHXmCojV6WmOkJLJyvg0AAAAAOB7W1zdisfgrczgrK2vb2ztwWvdBPB5nGIZ9zcaD8JwyVtfsDZ4C9oVEIhkaGtBoNDLC2o9EoLB/Uycl8ZTIMLInwWBQtOotcNppqhuIks/nFxeXc0cZ0u4PBJrqfh6Pd6Mser7CuFxup9MFfRg4CVASqcTYQRvMbJgIJZGgfFa4Wi2FnsLZFM6mKVpCKVSUUgMeGQAAAMA+iEajPl8gEAj4/AG/z59nGL1epy+g67RaGklyubW1M7+wuLPjsNl6fv7xB+zCQCC4vb2zbt9gcz0qFAq9Xvfmtat1EoBns1mn073jcHg83kQymYgnzG1tra0tJpPRaDJ2NVkrMRKJrK7ZI+GI2+PJZLLFg9Jptdrurs76B+V0utbtGwsLS7zlXPkSkj2bKBaLu93uza3tUCicTKaSyaTZ3Nbebm4xmQoH19pypCc3k8msrdn9gYDX6wuHI1wjWDo6+vpsR/SjpMTAulEMDQ8+fTbDLVxaWm6kBMzaeknvGBkeYl9odbpgMMi+3ndoicvt2d7aDobCbpdbKpMWe7pOrVEPDw3q9bpmt5bL5Xx+f8AfLPwdCPp8fvba0et1ba2tVquF50jShC1XrDvr9flCoXAoGKJoqq2tzWg0DPT3tbW1Nr4Rh2PX4/VtbGwWS1r2Go3G+l+JxeMzM7Pz84sIoRaTsZUoihmJRHZ3XT6/3+cr/GlpMbW0tOj1urHREbVa1WzPdOw67fbNUCjEXhft7Wazua3FZCr8XV1k8dQRDIacTpd9YzOVTCWSCYyxuXBwrSaTyWbrkcma877Z3XXuOHYD/oDH65XL5AajQa/TmVqMA/19SqWyYfWBWVxafvZsJplMSqTSc2cnuR6ysrq2traeTKa4G/Wv/+qzWtuZeTE3OzufSCQymcy5c2e45el0emdnl+0bwWCIoqiWFpPRaLD1dHd1dTbeXTc3tzwe745jFyHU09215wG63Z6ZF3Obm1s0Tf9f/+f/Rn7k9fpcLrfPHwj4A8FQiOuuZyYnmorkKrqGbTudrmgsFo3GYrGYVqvV6bRyuby1taXX1iO8jW9ubm9ubvX29vT2Hs5t1ufzP5+Ztds3pFLp//G3/yv50Y5j1+l0eYrFrRkmr9FoC8d4ZsJaXX25sv5O4Qnr8wd8Pj/GeB+niSOVShVue4Gg1+tze7z5fN5kMppMRnYIYevp3vfBbm1tBwJBfyCYSMRVKpVKqSrcUfdbcjsWi7tcrs2t7XA4kkgkmDzT1tbaUhxamNtO/d3m2GAYJJXT2lY67MXJCBOPiFbOlNb6Mk4nmLAPZ5IShYqSyhENQgaAqCar8ArXL9Y9AYATBMaYgvLSR4Pb7Zmdm7fbN3nLvd601+tj5+60Wm2n1fLuu9eFXy+MXdyejc0tl8vNLjEaDeyLubmFJ9PPMpkMOcz1etMKRc1iads7jgf3H4Wrc1J4fT6vz8e+Pn/uzJUrl/Y8KK/P73a5PV7v5uZ2Pp8XHtTz5y+sVsvUxfOiAsSXX30jOuXldLpEl3fWVTHm5hfu338kbDd2TxQKxdUrl0ZHh49AnIrtOp0ej9fhcMZilZKlgUCQLcY5Ozvf0dE+dfH8PgavjUhIJd1Bq5UUS6oZ9PrOTuvurpNdnkgki6N8W32TxuPxsq+Hhwc5WYQTMkJNhpYUhu9en9fj3d5xVLplJhOPJ9gzOzs7NzQ0eP2taw2P4pjZuYW5ufl4PME7fDK1irUodU1dPN/UOH5xcXlRkExka2t7a2t7ZmZ2fGz0+vVrtWS4aCwWDke8Hi9rWpCfamoXHI1Eoi63227fdLvdmUxpYk2hUHK7tLS0srBYpe5x3WlxcWl8bPRiw8dot28+/ukJz6fG4/GyZ1yhUFy5MjU2OnJK76v37j9kZSASh2PXUTTOzea2q1cv1zIyeT3W6XLv7jrZ20XZqM7G4nG2Bz+dft4/0PfWm2/scUv0+rZ3HGtr61w0lkJeKpT4+Kfp2dm5fJ4hb9ShEN/FO5lMen3+DfumY9cZj5fc7lQqJXchzM0tzAouBIcj6XDszs0tjI4Ov/P2W7WOMRaLhyMRv8/P6646nbaOihEIBHd2HBubW16vlx23yuXy6kfbgr06rzDXXe32zcuXLvb29jQiYTx48FgYYxgrUhQstqann2m12vfeva7VaQP+4Obm1q7TxX6azqQPKGQwDLOxsWW3b9g3NsvNUhFb19fts3ML3H2yvM/BYLCwG1MXz/OqwNjtGy9m53nrN3KaRPnpp+lnz1/UeVB2dXWeO3emqRmI+fnF+YXFUCjMkyFisbjX5+Ok7aaYnVt4+PARz7jZdbp2i/upVCovX754eu82xzw+zyQQk0NSOZMIYyaPxAIka6q2OJdlUjGUzzLxEJMIo1YrNCgAAADQ6CjkydNnxCR5LWKxmH1jkxQyHj1+wk7MkjpFaYyl1SKE7ty9v7gontCx1lTk7Oz8g4ePSXNLpVL6fH5yneczsx6v7+3rbxoM4qGYGxubC4vLrLVQH6fTNY3QZ2IaxCE67t6994B069DptAqFgjyodDp9+849n89fyyjdBz6f/8Xs3MbGFs+CFZWxHjx8/Jtffy457PLtkUiMO2Ru4fDwICdkFPOPrNUf4nNVV00mI+fFQ24wnU4nkkm1am9HgNnZ+ZXVNbIKrCjZbG5hYanFZBofH91bL/P67t57wOuitTpb4zOT2Wz28U/TQjOYx8LiklQqrVXI9tatu6LLFQqFsGbtrtP14MGjcDgi2mGUSgXri1Q/HiGRSD6ZfmbttFo62huwf54+ez5D3jQUSv51cefOfZ/P//b1N0/XTTUajd25e5+8BZlMRoZhyHwuXq/vyy+/fuONK2fPTNS45caXV1Y3NjZZq7sOyVRqfn6xq6uz19Yjev8J+AOBYCibzQp7AkLo9p17S0srwi+SisBXX30TCIa4ykFVqxU3srq6vrCw6K62jXksLa0o5IqrV0VkaI/XNy3m6cbKoKJX0737D4PBkNhuy9jUOfPziwuLiwxTc1ouGAzevnNPo/2orbW1vpb65VffkI85q6XDarX4A4FoNEaenVgs9uVX34joIOnM/jrS9vZOIBAMBkNujzcardL79MV74O6uc2FhiVM3RGGLVbNahsfjfTE7b69bMWppaUUukzdSHjscjtz44SZ5R2VnBRKJBNnVWfFuYmLs/LkzdSRU7tr56cnTtbX1w70keU9ho9GAMSZ3MpVKndK7zfEjkeBchokGcCZZZ60aQgZFUTRNUVThMpXI0GGPQoDXRUsD/wsAeC354os/u9weNvuAXq8zGAwGvS6XyyUSyWgsxjPPeH7sXq+vlrUvl8u++vO3pL0qEDJEHHq5CUyj0TA5Od7d1clOOmUyme0dxw8/3CJHsS9m50QHHP/+xZ/dxSNiUamU19+61traqtNpE4lEPJ5YW1ufnVsgN7W0vDI6wveGIN00yMNsJMSGNEVu37nH2jNGo+HK5Slzu5k1uYUHtbC41NraMjZ2CDNCwimyy5enem09Op02l8vH43GnyzU9/Yybbw8GQz/99LSRkWtzQkal9iohZAwN3rv3kLOpNje3wuFILU0KIcRVaR0ZGSLEoKrQj2gkWl/IyGazv/3735FLOjrar165xIpKbMd4MTu3ubnNrfD4pycdHe31nY2Xlldu375X7mkqnU5rMOjVKnUimUgkksFgMJFI1rmCavHs+Yvnz18IzU5RXszODQ8Piu5nd3fnzo6InFertesYzBsbW/MLi566ZirHzMyspRxZVkvvuH3n7va2g7XwL1+6SF4XOzuOG8R1sbi43NHezjnjnHwcu87bt++yeYLGxkaGhwpnh73jxePxhYUl8tp8+PBxV6dVePq2t3e++fb76rPZdeH8WaPRQNOSoqEYnp1bIG9NMzOzokKGMDiO0CDk//LHf6t13kkhAxctPXFdTC6/8cOt9cYmyWdezA4NDYh2V7O5jXQ52RNRFYPd7ZkXcwsLSzzLX5RUKjU7O//+e+80qGK0tJg+/+xTsmWisdiDB4/IW4eQlv1GDnp9/lr6jk6ve/Dw8cLC0p5SdeEiWl6x2XoWl5ZrTS0I7ypDwwOtLfV2m3QzNBoN42OjQ8ODnI/P1tb2T0+ekl1rfn7R7fb88hefKBTyWtt0udy379znogWHhgZ6bbb2drNUKg1HIpFwJByJLC2tJBKJpp7Ct27fZUcjNlvP2Ohwe7uZ9fGJx+OLSyukOLu4uNzW1gp+Gc2Rz1O0BDN5nE7QaiOt1IrWkajpkUEpNJRCjfNZiaFNom2F9gQAAAAa4Xe/+6dEMsnaEh9+8D4XD8KRyWQcjt3vb9xk3/ISB5w9MyGTSbe2RBJhPpl+xrqLt7SYOq3WllaTTCrltiMqZDx6/IRVMSQSyTvvXO8gMmjI5fLBgf5kIkk6aywuLk9dPK9Wq/k2UrVX888//tBcjqdVFzGb22iJZGZmllvH7fYIhYzPfvkJp2J8Wa3XcB/tCalifPjB+yaTcY+DWlo+FCEjFq9KtvrO229xcStSqVSpVLS2tmjUmu9v/Mits7W9fehCBmdI6Kt1h+HhQdLXwG7fuHDhnOgWNre2OQ92MlGornqSNhKNdtR1AUgmqwSFjvb2X33+C1IW0el0FkvHl19+7SyHR2UyWTb7Q61tTk8/my6PgKemLojGjASDoUePf2It9kI71NZrOMKhCGudtra2WK0Ws7nNaDDodFqMUTgSdjrdq6trPBPO6XQJ95ONZNnZcdy7/5AXuyEVm/TqtFo+/+zT5ZXV5WWRGj0/3rzN7pKlo91qtRqNhV1KJpPRaCyTyUxPP/cHKrOyW1vb4XDYYDDUOsabt+6w14XwziOXywcG+hPV18XKyuppETLC4cgPP9xibf7x8VFegJJGo7l8eSqRTJKNvLCwJHTF4kVnjIwMvfvOdaKVDEajobfX9q//9iVn/Lvdnmg0ytP4EELvv//O2ppdNGPxjRs32V0t9pYOg15P0xLutkCa6x9/9LPVNfuTn6bTAv+7b779PpvNqtWqrq7Ojo52c1ubTqdlGIbtpbNzC5vV2Td3nU5hd526eH7q4vm1Nfv00+e8rDdc6Aqve3/+2acLi0trgoTBMpns0aOfWN3Qaumw2XrYTBbBokeJPxBYXFwJhUKkZlTnhH73lx84FUMul/FUDPZe9PFHH9y8dYfLScxJHgq5vKW1RafVkiJss9TSd7a3d1iHgkKzt5tJhT0QCG7vOHaI0LlEPPGnf/2Cfd3I+sW7iruOkLG76+RUDKVS8f577/BUWputp6Wl5datO7vE09PvD9y5e//DD96rdbe/dfNuOpNm3165PHX+/Fnu03ZzW3vxUT518fzs3MLs7Hw8Hm/wKcyqGO3t5p+9/w459tBoNJemLlAURapFi4vLIGQ0CyVXUQpVUZRQUnJFUfmkGhMyKIRoGlE0whjn84VvQrJPAAAAYC++/vq7RNm6u/bGFaGKwQ5k+/v7lMqH7GDXoNfzRio2W8/W1vbNW3fT6XSVYRmJ2mzdY6MjNmKG8OqV2KPHTzh/ZhKPx/vixRz7+vy5Mx1ieUDPnJlYXFomg2Zn5xauCpJlxIm5mv7+XrNYVrBeWw8pZBxR/c6FxSXOt/zqlUukikEe1AtiQObz+bd3HD3dXQf8adIK6unuEs2+0d/fq1QquVlWNqbgcKNLuOwVPONqdGSYFDKWV1ZrCRmcldLbayPj5HX65iqw8jwjzpwZF12tu6eLEzLI2rFCVlfXORVjcLC/VuYLk8lotVhYIUMqlWoEupvIriYTlo72oeFB4WC63WxuN5tHR4Z/vHmbtDpCtdOddnd3/fVvfvW7f/jnRvw7LJYOi6Wjq6uTdBTiRMxz587wdklbpHiYpn/653/hNXgtIWORCPu6cuWS6J2Hd13sOl175lI5Ibx4McteU2q1+uIF8V4xOTFOChmLS0vXrl3hXXo8I21ocEB0Uz3dXaSVGw5HhELG0ODA0ODA0tLK7Tv3eB+lUqmxsZGx0RHSCu3u7mJ7l4Kw2OVy+cT46MT46O//8Cde5oJsNjt18fzY2AhPVmZNZavVcufOfTLPSzZTsysODvZrtZqv/vwNma1Do9bU6a5Dg4PffPsXnq7X3d01NjrCS2PM3oGtVktHe/u//tuX3PJ07biP5ZVVMrXQ8PAQT8XgePPa1c3NrQxxaFar5c1rVw/YnUr6zrr96dPnvGYPhyOsv49Qw7VaLZOT43/61y94PpVnzkz09fVaaqz//Y0fyTxZwohRUp+9QUxLvPvu26K+Zlqt5tNPP/72uxvkzcpu39jaGrTZ+EF26XTm3r2HnIoxNXWBVDGqDF+KOntmYovQuOtA3m0uXDgn6go6dfH88vIKV2rN5/Pv7Di6D/wUfn1g8hkmEcapQgPiZJSJhVA+jyR84aKGPIERwhix6UExg7MZ0ZInAAAAAEBIAPM75af70OBA/USPnAUuWsrBZuu5cnmKt/Ddd67//OMPbdV+ztwIW+hZ+uLFHBvgplar6rgkdLRXjcBchM3Jjb24ep9FW71PfDvVI7mjEDKSySQnzdh6um22mvnkeIac8KAOKGT09ffueWaPoh1SqVSubDxrtVWmSGtrCznwjUSiW1sijtmZTIaL5R6pnpDnuXjsuedsIQauwWt1jHazuXqz4gJBLpd7PlOJDjgzOVHnp7nJ5wYroVitls8//0WdKUGlUtFeLc/xvJB4yGSyRtIZVozJgX5hts7//J/+ps4u6fU6UZ1OTKZJzryYrSihtZOGGKu9Vw7lujhqtncci+VkE0XDXlWrS0ilFdkCY5GMPAnCh8hkMnY2liixTini0dFhoez72S8/efv6mzwrlDuVcrEQgDeu8v22Pvvs06mpC+raIp1ao268DTs62ru6qmxIWd3CIj09Xd3Vz69Oq+XTTz6qU4zJ3HDNC54vSZ2MznK5nCe0BfbKxdPUJfnBB+/xygxNXTz/9vU363ii8Q5z6uL5a29cqZO8xmQ0Nrg/My9mU+Wpi7a21jpXMU3TQl1emL24KA2vccKEWq0+FJ+Ixu82PNX1VNxtThD5PM5mMJNHCDGZJE4nEGZEOkMNIYNB+TxiMKIlhT8IIch1APD6yAEQbo0qAq16uG0OLdZ4w0IjHIaNnZojkkR09+wx89BTXqFWqRHh7IpopUnOmuVNaq2trXO5yjo6OuoMiHuqd1U4ZUTaqzqddqCGvSo0uQ+9kWdezHFGRX0jhOdlXWcerBkhozKLKIyaqQXPreaAVNde5dvwZJxIMRGGSLK6ldU19pJXKhU8I0EqlZL9ZM8KrKRZ2PhUW62p2tm5BS64g60VWmcj3d1drEGrrF2pp1ks1QZVZi9vi9bW5uKONc1YnmV5paHyn7PEdVE/ISgvrUCUmBg/sXDapfBmxRtHGQ3GvW5lRI/tarTH1r+VCXu+aMYfLm5L1PvAarXQR1wesdkKvs1278bx+4M8taLOyjqt9ujapMVkMlVL3nsOxVXVaYMOa+i+s+Mgg2ja9mr8gcF+3hKXSyS1Fpnds44I2BSzVU9hS/3mbeTOD9TQqyQSXQutNRY6mUxJyVUlRaKa2lVLcA7hPKJpnIrjTBzKrwLCh6ZQ3yLtQYq3LgAArzTrdns0GuO0iZ7uPSopmIwmdoZWVSOfolqtbmkx7ZlaX6vViI6b58mKHtp6Kc154dnC0UYikWg8gcVRSkVJ0qQxGA31DipVJR9kDmMI9eknHx97I3AJMoqiA7/nTE6O339QqUe7uro2dfE8z2eB83MeGRaJMGezt5aFjD3iYlpMRq5j6PX6Ax7a2up6U7LI6HFHXLc2mWvQcOAmqiEMpWeI66K+Wcizyblb1onFvrFJpjc2t9WTt1LpVJ07WzED0eTZM5OH1WPL22nIJ0ijUbM3alHlWiqVdnS0H2JRJ5EHiqo5I7aru5P0kDpEYs3IZ1qd9kg7GK/eR7PzOoc1D8QrfdqxV30ilVLJhqBWnnGZrM/vJxWQjY0tDxEh1XMYYR2JRJK82xgNhoNcj0A9I1MipVV6Wq5BiKJoKSVTNCNk0DQlUyKJDGWSFEWLfhN4DcGYqvspqr6hYeJvBA4XAPBqs7GxRY5C6qQQL40qerp69vLaUDQw26xSqYQqQz6fJ+N424ngEYZhkslUMplkw/t9fj+pDohOYzZVUuTo8FU7FZPDMt5BOV3u5ZXVQx9CnYR24MI99Dpx82lwoJ8cE9vtG2RQtN8f4Px7h4YGRYUMrjxNPp+PRmPG2oLRITZIMBgKEpkCu7r29vm/VCx8CPAigMiAI9514fX5eakTYydeyCBDCXg2ZyaTSaXSyWSSYRhEUWtr61xAPoswbcRRXMJSqbSR1Xp7baciHclLgCfQ13eX43VR+V4P1mbhbbDZsfphje0dO1XFyIx1ZXpumMELHozH4qSQset01roz7Bu/vyo/CKk453K5ZIEUW/DF6XLz7jYZEDKaFDLy6QTOJKjCHaamXlbbIyMVx5kEYhgkV9JKHST7fGW1CWHXqXfD4kkVFOGFUZJlOXUWI1b2wNyaVOO/BIifKv4JqP94qTq70NrAEdsS5GRa637Lwh2aze/zk9Xj/vL9D41/t5Gyc1UDzVjc6XR6vT5vdQq0IzVpEEL/5e9+e3QH1SyJRNLldns9Pp/f7zvKdoiUh/W6GvPAY2MjpJCxtm4nhQzOHcNsbhMtHcILV4lEo40MqUXxeLxuj9fn8/saqP7Im4vm5W0B6nWJ6gwOX3/zl8a/q1arT/jRkfJlPB5v6qrP5XJN/ZbT5Xa53L7CrcwH/eoQRm0Yi9r5imqnoV2nq47Ew9Ogj1oMOhaPDL8/kEhWZeRpZA5DJuPbsGQQKO/OIJXJVKpDiCvxV7uInqin8KsHE/XjfI5SG3AiwqQTKJ8TJvusXX5VqaHkapxJoUwKZ9MIptNfyZssJa5xUVjkJsXejrmOwMkWxE0MF50y2EWYVC+oUsWcciIMzG4Ol9agXveHHPeoY1uz+HfpE7K1qWK71lInRJdzygfbyqRLDftb1U9ZSrClerLKq6SO1BpwAA0LGeETtT97BqQcHLfb49h1upwut8f7cgYovsNL83ZYeDzeHceuy+X2en2NFLA4OFxoSa3QcavVotPpuNUCgeDW1g6Xb4VI8yleuVBf7cjNbadB0un09o5j1+F0ezxNZTn1n7yTe2qEjCbPEYlSpTzhR0cWoG2WRh5qyWTS4djdLVzEnkgkAt3pEMnn86LuKsMjQ2QZo5WVtUtTF2qFRG1uVpwO5HJZ3xELGcfikSFMVaNowPFELpMLO3PVsIQoyKLVHI5kyfPIAI4UWmOkVdXqlSkAAIAASURBVHomGsCYKWb6FDFPxIUMnM0UzJ+i7MEkI0wqKlq7FTjdlluTKVyLll6VFwYrWeAql4yqTJMlsYKiWP+MokNH8R/SWeC171Y1HgOYp2IgTJQSKjcvrr3RYiBQ9efUUfQduC0AqBh5zsvIkD7e/fFVjzZqlbHcBzs7DofD6XDsBoJVWklLi8lsblsqFxc4EpPmyA6q+T0JbG5t7+w4PB4vuVyr1ba3m5PJ5NHFunO2lq52ZP7I8OATooC/fWODFTK2t3e40qcjI+JCBs8jIxppNPRgdXV9Z8ex43CQ1wJN02ZzW3u7mRe+JISMK2EFEcXhZfF8teGpqMd4XRw68XicrB3T0d7eSMwROWyr9VE6nV5bszt2d3d3ndlsleOG2dzW093FlQEG9g1Z66r6BjU0OzvPqe2ZTObBg8fXrl0Rahmzs/NkQo333n27fgqYQxjeHYdHRrK6jnWDHhlyQd0Z8lu5XI7URw6r3XiJWl+lu83JkzEktEqLi0VYKZmCkquQRNawkIEZJurHiXDBVJKrKJkCzJVX35zG4oYpa2ZX+12wN2hcVi5IT4KqihkUxc1yU4VvIIoWxChhno8BSBj8i7H8qMBlfwnMVMJ3xC5Mwr+juE6NXwEHBOAQSVan0MtkjrliN69yZJu5rU6NtAZxuz1z8wvr6xvcEomE7u21dXV2trW1stE0RypkxKsPamJirMGaDodINBqbX1icnZ0nHwqdndae7i6zuc1sbpNIJF9+9c0R/Xo2m+Wch+skcD1zZoIUMlZX1y9NXdBqtVxcyeBgf60UnrwMiI3M9q/bN+bnFl3uyhSrWqPu67VZOtrN5jadTud0uvYUMnjuGyBkNA5PRS3Y4Qe+2F8+mUyG88rhMlnEE4nq3hj51dQvDv5by8srz2dmyS7X0mLq67W1t5s7OtplMtk0cfmcFk5g9TGGqblLn3/26Rdffs1pGcsrq7tO16WpCxZrB+tr5nS5V5ZXyVRH7757/SUkGTkWj4ykoCxOJpPZU3qQCKIMyAciL+Isdkj1ibhiriznzp1pMEcMsK/uWLQZmXzFZBRYPeKtT0vllEpHSeU4lyncG/L5wlYg5ecr1j1QJU6BakypKhvVCHOaBar8JSZkUKyWQVEUXfWDZX0Ega9PQ81e9sWoND2be5Wi6jUfVfbfQIX1oKGBlzf6SWeO2SODl0g/lTxoJdTHj6fJDPYSCX3mzOTY6LBOp3tpB2Uw6MmQmWAw9JKzby4trTyZfpogZs+GhgYnJ8bqFwo9RMixaZ1aCTKZrLu7a2fHwVk46/bNsdHhdS6upHbtWLVaJZVKueQC9WOmUqn0nbv3yDS3er3uzOTE8PCgTCZr0ubJV19BkBauUXh5LpJHUPb4JeDxeNnsHjZbD3ddG/RV+VmSyRTDMAcpU5pKpe7cfbCxUSlL3NracvHi+T5Iw3kkQgZT6yO5XP75Z5/ef/CIywcZi8Vu3rpTY2XZe+++/XJSpR6LR4ZSqRAIGdk9hQxhVWAyIIXX+IlEshFxpNmncCqV1mpByDjCkSVrudBqA60Rr7JUq2qJBFE0az/hVIyJhZhclpaDkPEK2shU7VycWFCDhPPAKJrSDBaD/SJTLHBCUxw0ohBd/D0KkfEpxfWwuC30usoWmJSNqj/BJX+McmZVQexI6T8a0eWTxt4IcDn5J9+/ppSKg90c9bq3PPTAfaOqDjVPCDxFX7aQUV0ULXUw2+bGDzdJRwyVSvnJzz9qa2t96epMtZARCr9MIWP66XPePO2HH7zX39/3MluAzFhRX0KanBjjhAyE0Pq6XSGXs/KERqPp6qznn6/VakPlQI9wOJJIJkULNyYSiW++/Z7MbTHQ3/fWW2/sz01GqVRls5Wj8/sD9QttAhUho/rs8Bw0TpGQwb7QEMH8CoVcLpeTxQ5CobBoktpGKPTYb/5CZivs7+97++03FUccrfAaCxn1cifJ5XI2VGRubqH2vUhzZnJiZGRI/kqfI6VCKRAyMgjtUWQkXR3BSlFVRVuFeXyj0djB05DrdTryKZxMJg+lGAogdv3kmUQYp+OIlhRMn2wG5fNNJPuUqHW0rgXns0giQ5hB+Rw06atouhEvKDFzGnOfs/oFKhvRuBhaQv5f+odzzChYxzTFahk0hTBNl1JPgq1Y25CuoW2XJAwkFI1QdV0YClGo0NAMYtjEJIhiRQqqOo8n9epl6wSOW8iosiV8Pv/i4vLY2MixCRnV0/W8VA5Nsb3tIFUMhND1t669fBVDeFBOp2tifPTl/HQul5+Zma1WMd7v7+99yS1AOsPXig1h6enpJi1An8/PuWOM1siOQQxVK0JGMU1GVFTImJtbIFWMzk7rBx+8d4ArSEnKNEuLK2OjI3BjabDpqi92D0KTp+4o3OV7FK+zGQx6L1H1xuHY3beQsbi4TKoYPd1dHx6gxwINCBlM/RWWV1ZZFUMul332y08zmUw0FotFY6xC3draIn89NCaVIOduJru3SxpvfqK310ZGeajV/Ju2w7F7CEKGQc8bWrw0h8TX0SjKpVE+Ryu0El0rLRcvOkPX+jKipUimQLQE0TQlkSIaDJ7XwormOVZUwWCmCC79WyZf+K8Iky+/KrwpflACM6U0DwRFjyHoV9XKkfh5KcWXMNwfjPOYIRqba/5CU5f/YKaofjCo8KfwAlNM4e/i21I4EVVMCUo1HF30mp4FYE86rRaeYbm4tHyM+2OoznSwsbnFi5htHI+3SgSRymR9fb0n4aDs9o1Q6CUVi/F6vbxSjm3mY5By/M0Uo+HpaA7HLvtieHgPIYOf7zMaq9ExqkpUajUHmpez2XqqGtznW1xchhvLPqygjY2t6AHqmBwL/kDA7faUDbCqmWSefMnpcftgc2ubfAsG2NELGfVGFH5/4Natu5yK0draYrVaRoaHpqYuWK0Wq9Uif208ZYT6gmNnt9lHc093d/2bKlmWe/9CRvX1uLq2Dv38qAbkTI6JhZlktFRhgJYI3TFqCxkI5aN+JuTFuSyiKEqpoaWQdOpV7SnixUtY2YF0A2A4JYNTMAgBg2dUE2uVTGrWqi6le+C0DLCe97CruROAhJpSvigh5fKFP1VaElP8U2n4KoWq9AdReP9tTxF/AACx1RkGqqMMfD7/kydPD7jZfVf0FCZQOKwBR4vJeFyNLDyog1g1B7UelcdQt9Ln8zW+8pnJceHCTqtFp9PW/6K8uvJfg9U9VWrVQQ6tu6uTt2R2bt7ne6ml/rJNJubIZXMnQ8jgtzyXd+C04PFUhEJeaJKhOkrO6/WROVmagifJtRN++CeBzBHnhck0+TTJHnh/6nhk+P0BLiny8PDQwT0FTjVyuby12s9oz+c1xtjrrdwezW1to6PDwrs9r833fe0QT2H9YV2PRM/PwhhSxNKgKJzPolyaScdybns+7BEffNa0U5g8zqcRk0P5XDHlJwNt+upJGBTxR1zF4Mzm4ot8Rb9gCPeLXJ7vkMGwDhmsvV2xvokAiarEGOCX0ZDgVDo1nIrE8DwyqtxhKiISZsizUDq1nJ5E7UuOYEvovqLiEThl7JPx8VFeObSnz2bu3ntQ/1t5hqmTUCMWi+97fyYnxsi309PPFhaW9iGdaKrrz9ean2enVQ9dsiGHOFarhedV3uBB8RKtH4qtyKuyUTFuc0dl3G7vOJpyq1Gr1e3tZt7COmk+a5t/4j/KCwGI1e4YieTeKWPa2lrHqwOFQqHwN99+v+PYY2ay1onYB7yyOHsSi8dOwp2ns9PKm3qdfvq8EX+Wk2M/eNyVuWVFtY42NNjPW/nW7bte796KnvB2xJNIuErGJ4Rmu1/T22/yacIrGbMP8jVyZGQyme/+8gMn3BzkMffKMFZ994tGY3YiJa0Qr9dH5sgQjWO1WDp4mXFnXszWUZeeP3+xZ+HwTsFTuMHrsc5TOJ6ADiCGRE6rdIiWI4ahaAmipc0IGeWKCIiiabWBVulh6vUVhaqylDGXDKMy/1+whosiRL4oS/BM55zQhs6LOGOQfgHkrwGN6wWEO0ZZy2Aq/he56nOSy1VORL4cDsRJSbhcOVcspSgA7JP2dvMbV6/wFi4sLN344ZZwYnlnxzH99PnX3/zlv/7X/zY3v1DL/DtIks5uQQnGu/cePJ95kc/nRUdF00+f//nr7377979zudzkRyZjlQtGMpmcfvpcuIXV1fV///c/73tvfT5/MBji2bGzs/N/+tcvyEGSMKrl7r0HtXLFbW87Hj786fe//9M//I/fH9BoMRoNMlnVMIKs4cLhdnu++PLrPceC+2Or2jG+ITGr2imDoqihoYFmDZ5a0hVvEnVt3W4Xc5CZfvr8hx9uNbK319+6xsvemkwmv/vuhrCmbyQSXVpeuX373j/+0x/++fd/DIZCwq3xMuE1Qv0SLSKmsr855S4aOyrhY0wwGXvn7v3nz8Uvdo/HW7zYv/37//a7Q+yr+7bDU6kUmcSHJzfo9XpeuYpMJnPz1p3NzW2xk55ZXVu/fefe//fb//7jj7d5n/baqm6JC/NLwp6TTCZ/+PGW6C2u5mk9jECeaDSaOuJyM81KfuSE//7ANUJLnkw/I6uBbm5u/Y9//MPs3ILT5W72mjo4dRRYUUJid5uDMz42yrtd//TTtLe2C97TZzOVZ313l9Adg1WHeX55Ho9XOLni8Xgf/zT9z7//0+OfphvZ1T6x63F1VdwLbHun+BT+Q+EpXLtJwzCAFBcpVDpaa0QUVTBamJyoU4W0pgElUyCJAlEZWmOU6FuRBEqWnHp4U81chQsu1yebxILN5kn8KeX3ZBgml8uzWmZpmh8XrGTWRsaYqf4JCtEUjamK9Y1ozO0GyGK1zwupYvA+4UJFGC5jSSVchPVtQTSmaQZTNKYxU3jNFo3BuPCSRnQpHqSYipUtI0NRZM5XLoEouMkA+2B0dDgcDs+8mCMXrq/b19ftpIUW8AfI6pLPn7+4cnlKuDXROdXGK6j1dHcNDQ2srlZ5qD5+PL2+vsFN4caiMY/X6/P5SbFgdXXdYung3hoM/KJf09PPfD7/2OhIS4tRKpPZ1zecLhebEFSr1ZDTaysraz093cLacqJ8+92N1tYWtUoVDIWCwRA3rLfbN7ho9qmL571e3/b2DvnF+w8ebW/vtHe0s40cCUfcbo/L7SHFixcv5q9fv3aQk9vS0sKF8RdP60Y8njh37kxri0kmk21t7bjc7vV1ezabEzaCRqOpUy21sdFz2G7fbPZbgwP9pIgwsleaz6Jx7t/a3uapBn5/QOj7LewYN364edbn7+/rNRj08URic3Pb5XKTxVNYnE6X2+0xm9uEdTSvX7/2xRdfkxZdPp+/fefew0c/cTuQSWd4k+2zs/PvvP0Wb1Obzes+24JdrS+9CRWWevZSLM5LmtuIUMK362o8l2y2nvPnzvLEtcc/Tds3Nq0Wi623dLG7PR6/P0Be7Gtr9sMq/VNLkOXI5XLpTCZT+D+TyWazmUw2l8tlC/+FiUuV55GBEPr4o5/97h/+OUE4CIRC4e/+cmNgoM9i6TCZTGyKU6/X73K6UmUBKxgMLS2vjBIuSOZqB6VgKPTnr78bGx3p6ekyGY1en39ne2fHsev3B3ilUlZW1/r6bC0t4uEPwkAer8/X2tLSVJnYfUQDBQUZc9KZTK0KLF6vLxAMCiWkWjWGvF7f1lZzIQPClNJ7Jvskro7YgwePeAvlcjl71eu0Wq1Oa7VarMSD6VBYXV1fXlltarwqnJao0+yF2131xAArlqnE0ie/ee1qMBja3XVywtM333z/3rtv9/R08dZ8MTtHPgQ//eSjWr8+OTm+ve0gBbulpRWn09XS0mLQ6wLBkNfrI++3UxfPkyre8+cvhPeHqakL69UJqkKh8I8376yu2dvbzez6fp/f5w94PF7yKby8sjoilqFpe2sHRo/iVlBRDkQUTcnVlEItvlatKgnZ3ZXU/D0m7JFaBhRjb0pbrIii922SASfTYKYwxQkZrIDBkBkxqmNC8gyTz+UKtjMqlSopxy2UVkbVRT1pmpZIJBK6gISmpRKppExhEVWwq0uDEqq0b2A8k0pQUX9gNaPCX2X/i1JICVN2uSidnvJVTxe1C5ql+AJRFLuIKi9ExXK4ldK4pZImbGnckq9M/XNBUVzt3Ff1/gk6zv65ffve0nKjFs74+OiFC+c0RH67ZCo1OzvvcOyKJgjQaDQmk7G1xWQymVpbTewgvg43b91pfIjc1tY6NjYyOjLM6wAvXsw9fPTTnl+fnBxPpdJrguBevV6n0Wg+++Un5MJsNvvbv//dnttsbW05f+7MwECVe/lfvv+h8bjcWgfVLA7H7p+//m7P1UZGhrRaLa9QK0JIrVEb9HpeIzRoMPt8/rn5BZ7HCkLIaDCMjA6PjgwpFDWlorv3HnDRN7/6/BcdNfICZLNZX3Ho+fTpM2HEAU3THe1ms7nN3G5uN7dpynk9f7x5m6eUCdHptBcvnmez+vG22dJieuPqZd5AeXNz+9HjJw06R+i02omJsYmJMS7VbiAQ9PsD6+t2UVXCbG4bHhocGhrkosBSqVQwFPb7/AuLS8Ipa6lUOtDf19/faza3sSZfMpkKBAJuj1d4irmfGBoaHB4a4ATHUCi8uro+v7AomgRB9CRubGw5dnedTrdw+tdgMPT19vT22gwGPe+837hxs/GsMYd1XbANvri0TMp83E8UJYtcLpdrMN0PTdN/+7//L6IVef777/4xmWzUZ8Fm6xkbHeZF3CCEvv7mLzt7yVWtrS1TUxe+++6GsDOYTMarVy6xPTYai9nXN9bW7aJOBAaDvrWlxWQymlpMrS2mWsWSc7nc+vrGxsbm1raILadQyEdGhkdGhji3uGw263Z7PF6fx+PZEeSDVKvVnZ3W7q7Ojo52NhVONBoLhUJen1+0u+p0OvK65iQMu31zfmEhlxNx5+m0WkZGhknHrmAw5PF6PW7v2rpdGFjX1tY60N9ntVpMJpNUWjqt0Vjsj3/8t/1FNvX22qYunj94To3tHYd9faOWimGz9QwPD/YTDoAut2dzcysYCAqD3YTNXjlNbo9wfYVC0d5uHujv6+ho5wncsXj89u27DoeTvCJGR4YHBvq0Wq1Op11cXN4sdJZSH+7v7/vgZ+/Wv4SDweCNG7eCezmSmM1tVy5PuVxunjtSu9k8Ojos9Pj4/R/+1LgnRVtb6+VLF7u7u4S3jnW7fXvbIXYFGUZHhkZHh+s83V5xmHzOt5NeepgPOiUtnfKhSzLLQMNCBmYyW/PphXtMPCQ19yrG35Kae/ZnKgMnV8jABcuVLYdaqrVa0iwYbsIfc9ki2bgSNkyBKLZanX0Bc1VAqeLdpyhesEJGScaQSqXs26K5XZQwKLAe+eeo3A5CISNf0jKKASRMOXqEjREp5xuhWCGDomkJ+b4iZNBl/YIUMoruHBRbrBU3YNu/+tVboTcehK2t7eczs8KRPclAf9/Q8KBNEADy5VffNO7v/f/833+75zrTT5/XMro4ZDLZ+fNnz587U+u811dn1Br15UsXR4aHav2W1WoR2vD//sWf6zSRQa+fPDM+MT4m+umNH27uOb+t02knJ8YnJ8cPqzPPzy/eu/+w1qdyuezatasjw0NPpp89FXNNF22EPfm7//e3e44s6nSDUDj8+9//ibWs/tN//OtaqzmdLi73Xn0uXjx/aeoCZ4Z98cWffbW9wQcHB65cvqjVav/L3/1WdIXPfvmJcMYvlUrPzLzgeTYJDcXhocGRkWFelcFGmotssUauDvKoG1yf/Ilax37AXZq6eH6qfCI4vv/+x/qh9ex1cWZyYlIsF+w+aPDoGkSr1f7P/9N/EP0okUh8+92NPfO/WiwdkxPjtUojB4PBP/zLv9X5+vDQ4NTUBZ1O+7t/+CfR7EVcj238wOtc+A3e7T/77FPWGaHB67TTavll8Re//PJroUdAne7X7Pb3cQiclvHgwSPR+KBGuPbGlTNnJvbdzRq8xLjDbLZZdp2urxq7nYreuufnF5/PzAqTSrDuxdzbs2cnr1651MjTLRgMPnjw2LHrFP1UKpWemRw/d+6sXC6bnn4mGlclvNtgjG/cuLnn3Uav1509Ozk+Nrq/R1uDg5xXk1w267Gnlx7jTFLSYpV1jcgsg0jg5yWtaU7lsiifY/06cD6D8lkkkcHo/BW0m3FFxWDjSEoVVrkKJQIhA1XSZzBlMxuXKpwUZ/XLoQtEmQxUXdi18Jaq2MFgMDZ0sioKAxYWx8VVQgZGiMbFPDfl0BIJxjQbOETjooRR9NSgKYQoBpcq4VK02Kmg6u4KnDxADJutx2brmZmZXVu3h8MRcp5KrVH39dqGBgeEiRiPiKmL52093YtLy3b7pjBxQHu7uburs7fXVn+O65133rJYO9ZW14XzS319tsuXLhqLc4Zjo8M7Ow7Sx9hoNAz09/FKD7B88LP37ty5J5w5t1g6Oq2WyckJoZM5+d2hocHFxWXRzBFmc1t/f+/I8JDyUGuLTEyM6Q36tdX1FUE8cDFDymXW32FyYszh2CUbQa/X9XR3769i6wHnR4wGg8loDIZChxVBwBsBf/LJxyura6ura4FqR3eFQjE2NsLFTPE8llnrTqjisSiViqtXL/f22p7PzPr9Ad6AvrPT2t/fOzw0KJVKD725Tjsffvi+0+laWV2z2zeFThCF66Kvd3h4iFex9eRQJwxNrVb/5tefLy4uL6+sCqMYEEI9PV39/X0jdasLm0ymv/7rX7GXMM+/w6DXT06OT5RzJI+NjvB6bH9/36GHNry26LTajz/6IBqL3bp5p0GpheTBw8c6nZaXPOWVYWJijB0/OHZ3STcxdqArkdC9vbax0ZHOTmuDGzSZTL/4xc+F+ohcLhscHJgYHzOVi5EJAwZrQVHUhx++v7W1XXgKi/kT9XR3dfd0Dw701XoKw9R/fQpGZyKKU3FUjBagJDJRg6OmR0baPpNZvM9kU7KuMfngRam+TbR8q9AuhqY/mXqFuGGcx6WUF+xZr2T3ZOf6caXyBS4V/OQZz1yeBtKyZWf5aZqWFf0waJqS0JKSU4aUiy1hHQKKHhlU5Ztwprh2YENLuNIjpYSqRb+MXDnLKuuUwSkZFKdlsBIF62VRdsWgSw1fDDkph5uUQJX3/EyslOh5YYp7SINTBtDA04gJRyKRcCQcjmg06h5bj1wmO6492dnZdXs8yQIpnVbTX3T6bWojkUg0EAwG/AGNRqPWqDvazbycHblcbt2+kUqmDAa90WisPzBiGGZ9fSMQLKDRaMxtbRZLR+NjqeI8bXJ3dzcQDCWLuVF1Ot3g4EDHEYtEyWTKHwgEA0GJRKLRqFtbW7RaLa8RNja2IpGI0Wg0mYym46tZy0bsm9vajvpX/P7CaYzFExqNWqvRCPuVw7EbCoUpiip2DAMXn9JAayfD4Ug4EsmkMxZLB5cwBahDNpvd2tr2+QOpAml94brof2ni6T4IhyOhUCgcjpw7d2bPlUOh8I5jt5ggM51KpSyWjqHB/lrhG7XaJxAMBfyBXD6nUWsMRn2rIAUG22MlUgmbUOD1dXE/MpxOF1e+RKvVvHntam+vLRqLcQk4/f5AJpPxBwJOp4sXilLHeedVIpPJBIOhcDicSCTVGrVapbJaLZL95m3M5XLFCy0cDof1ep3FatE2fB+u9xROJncdTr8/kEwVnsMdHe0D/X1GowF6+IHIZXJ+R3r9ed63TSk1irE35T3jTQsZOJ+TD12SD16k5ar9G8zA8dvH5TSOuPpk5YlCFojLjVEKIGGq83lyaTFQlZBR+rfa+isYyhJaIiVkCyktrRYyyr4CIGQ0KGSwEkaOq02SYyplVsnQHla9oLiNlANNCC2DXUSV/y8VKKIpNoFGKRNs2dtCWGmV9aop5Yql9u56hCQCQgYAAAAAAK85ZHyH1dLx8ccf1M9jPTs7/+DhY3LJ6xt0ALweMIlIZnshu72AUzH58BXlyBVhvs6aThbFkq0SlMswsSATDdFGWSMeGcAx212soYhr25S4bCsXlQuGqEzCVCXvxOWSneWcklwkCVfFhBctQuSbLP4WVfUxohCNEF3yEai2cimwGGuIGtXpU3l6R6WmTPnUlgWpioJRUjQwLp4OBmMaY07IoGka04UFRfcMGmOGZhBVzpaBSn/zlYpyDo2yxlHRxzAWnEfMVcIpyyKnS8tgo3OgKwIAAAAAcFjcunWXS7RptXR89tmne37lzJmJ5ZXVgKBWCwC8qtByJa3UUBSNmTzKZVA+h6TyxoQMjHE2jZg8ZvJMNMAkQljfQoGQcfpM4WqVo9qZgq1RUgknYRgyd2fZJaNUI4Pzu6hUMUHlxBqENsJafeXck6SUQeSGpBAXzQJGYjNQ4nEcuORvQ4hKpfqpFF1MflE8L7ioYpROLU1zZwbTmEbF/5lyzk+qnEynuIBTqFC5Ri9V7l2Vwq3UHoJM1bk/XdcQaBkAAAAAABwS9x88IsuFvPve2w1+kaxyqtVqoCWBV9uILZDN4GwKFxUJLFYrsbZHhlROaYw0VfTLyOdwPkvJIDruxJ3hajO3ara7Km0FIkJHiKKqbNHUcggJw31acc1gMK8sCfej1XkxUC2vCszPuAAcTMmgRBxYMKqoRlWLGZqtC0MhRBej8dkvk74eRX0DFf+nUSUmpVKclfdzJS2jSrEqn35KZIc5sYoq1WwFAAAAAAB4HXE6XXNzC9xbq6VDV51gqEFe1UyfAMAZMfmwL+fbwpkUrdRKtCZRj4oaQgaTx5ihNUYsldEqPa01wdT5aTjjuJS4gFAxOF+JgunKkEktikIGqjhilGut8iqSEEkYSsZyZas17W0yHoELREGo8hf0poPIGcKLsdTCmNM0OM2hck0Xo0IonMd0MRFo2YeDKjlnUOxfbJqMwuJyFpNKmErptFGceFJRK2qeUYr79JR6ZIBTBgAAAAAAh8Ls3Py+v+sn4koOUn4VAE4FTCzABNw4m6K1JkqlQ7SkYSEDIZxJMlE/zucohYaSKmiZEhr0pNtaXIoMXFY1uFASIpFnJXiEq7RaQ8sgQ04wES7Cn4rfW8wgjG02uwMoGYd22lHFU0YkXwkXA1SMMCkFjjCYzJrB/V+MOKEYhq1oUkqeUUm0UXqFSwIJd3apSsiLuMH/KmgAoGUAAAAAAHBAMukMT5vIZDL103yyTE8/Y+ubsOWc9+fHAQCnCEqpppRqlAzjXAbnMqLr1BAypDJKrsLJCJOKI4TyUZ9E3wINeoLNrEpxiLJ+gRAvHwaX9gKXy2BgnGcqUgb7H0/IqLhwIDKipOm9Kxd4RQhBnMmhn/vqfzEZUFRUHkoZNNiYEorKF+uhFD0xioIGq2IwNJv4k6IpTGGq5KBRdsugabpamsCslFHWpErChoipL8jtCloGAAAAAACvI729NqfLXdE1Mpkvv/rmo49+VkeYyGQy09PPOVeO4eHBqakL0JLAqy5jIEqhoQ1mnIzgTAIno4jJC50yanlkUJRMgSQyJJFSbIJQhhH16ABejgUlGlBQzlPAGYeYIX0xKv4YJYGCIXJ6sgvyeSZfdrio8scgQ0n4mReqTGVyr4SWHvnNPU1YiqKgfO/R9B3+Ata7ArNyRTHxJ9v4TPEdKWQUi5yQ8SVcBg26HDDEfpvi9A02z2jtPQAAAAAAAHgthYw+2/TTZ5lMllvi9wf++Md/7+u19fba5Ioq1wyn0+X3BzY3t7glk5Pjb167Cs0IvPrkczidQPnClYJzWZxJ4XyOalTIwEXZQiKjpXJKrihaI3kKyaBVT7TNWpXDouKSQWTuJEJJiu9yeS7ShMyfUSk1Up3ac+8iqVWrsZP2ZIJQ4KXLGOVTVnGLKZ8ZplRmtSREVMqa0GV/jXKZE6qodZSSZpR9MxheDg6ib1CvQXsCAAAAAAA0h06rvXbt6q1bd8mFmUxmeWWVLGUiRKvVvPfu21arBdoQeB1g8nmcSTHxEMZYYminNUaqiRwZ+RxORlEmiXNZRNGUTEFRNLTpsRtRjUgJohElRNbOSi6MPMPPi1GJIsGVdJ77VCGKNh+ctZcLxfOGqHv6SmoG52nB+leU3DOKsgaDsYTmHDNKWgbpm1FWMNh+UilRQqZQecUsf9AyAAAAAADYNyPDQzqt9uatO7FYvJH1rZaOM2cmoEwJ8FpB0zTK53AuJ9GbKbWeLX7YqJBRMG8TUSaTRAyDKIpWapEE3DGOy3IqGqg1zFHWYCyJD/8/e+/d30aSpglGRMLQgN57b+QllqpUKqnMVHV3dVX1TPfdzd7uH7e39oPsB9m9382amZud2Znpni7b5Z2qZCiJRqLoSQAECQ8SPjMj7oeMzMjIhCFIghQl5VsoEUgkEonIyMx4n3je51H+Yr6YhFPrxBjLMtZ1PRnAwduxKn+OXg5AP616bVKtSOs4ngySUW55jkq4UaAMlDtECECMlTQdKbSLXJdChPI1VGIGxTIUn1bIBeubBg3X5/iQW1iGFVZYYYUVVlhx6Ojq6vxX//IvQ6Hw4tJyOBTei8cZqOFy1VK9jOaW5u6uzq6uznKkQK2w4rlDMgRYXYeqaomUBZkEkcWCa9mKfNYG7Q6IhFyiuxeRExGhsd1q0qeQlxLFJILT8lSyRWhIRpkxCSAyh0qwUhJWVaIIYphVPQFvakIKUDCKaXOU+xPynpTMra0o2URqQ5WFaJRoUp7do0BXEGCU+wcCCGWFfqUIgyrQBYZEUIpMMCEIqsUmTAKUo2bQYhPEgyr5CMu+vcvCMqywwgorrLDCiuc+Wlqar7dYghdWWFEwk0FCTT2srpe3nkBHNegaOwAjAwg2KNhzSYbNARACsgwsy8ynhmXQxBUCrtiDZVO5NzVAAudSUk3XsyALg4EaubW4ApJCzp2H3Fs9rdXhC73kAJYHaVhxggk5B5KoJidQ0/hU0nXFzIQQRKBi0qoBGpqshg5mqOIZ2MDLYH8q0bssLMMKK6ywwgorrLDCCiue85BFnE4QMUWwDDEutlYxsU8CHVXQWQsAtLUNCPWtmtuiFacl7WRIBNE4FhjkjrMmiJGvisGkMngOB2HIiNG2s7AvSUHkoty8TrO7gBaScdjQRCkO1FX2WcfAyzB5miCIIBP7hBgSRDAiCGGsIhe5pRjR4MQz6J4qZSrKH/h8lppYWIYVVlhhhRVWWGGFFVZUNnA2LcfDJJ3IZalIgEW8U4u7ltgd0OYEBAsNbai2wZpGf+opk6ZqADhrVYBZDQlRsQpM+EUGFEPXwSAGd9XK5Nhq7QBkshiQyrJoGhk6JcPqSsfZT47+KV06A0MFzVCpGfSvXlmicTMYLAaQyt9gBxwrpSZQ4RU9r1jG8ydoaoUVVlhhhRVWWGGFFU8tBDu0O6HNASAkYopkU0p+UiaQAREUHLDGRTIpVV3DGqk/1XRJRzMA4K1VCSYyljXogshERTT46hLdl0SrRmH5ajlARn6qVix5YzYWSuqq9hmoPaw4mX6Sf0BLp9nsaBrLTFTVDAAJ1lxNqHYGBSxU3oUqBZr7hPIdiG2KUTOowAvMvVXgAvR8AAEWNcMKK6ywwgorrLDCCisqEshmF+rbZFcTjGxBRw2sdoFCDqrFgAwABTtyuuTELo4GSPsgtDutNj0yEgHLWsuwQKVh8DwKYFT0lLHGvyCKnCdnpqpCGbwiBtH5HAW+78gBoW7nSasPoM7NULJgJRFWFUuhRc84UBciBU7UijagEVZQX1EjXeUhE4IUmQxEGRmqv4nWSQUqBKp4tGqqGYQAiHOfJpD62EDD3pd1XuzTLoS/bllYhhVWWGGFFVZYYYUVVjzDASF0VkNHVS7rsDug3XkQsU9CcComR7dxMgoEQY6HUU0dKFKdYoU5k9cIFFpb8hBFAS8JmuJDs0oF3QSd0MaEohkMw9B4FgqIIdPnsvIMY9U/FeurGexJTLt0iOwrn53BFDAA1VVAahqLNCyDrkG0dFyBMwxIxotJ0ScqvKMf/fwWYFCWjoZpYBGArHDnYCyMYu8W+nZixDgIJhBBnDuwBEGFjqHYs2KEkKKWIdC/UOFvEAgJAki79kBiri2iP4LrkCT/vODbKh/FIDrEA586lmGVmVhxxEil0tXVVVY7WGHFvpHJZJ1Oy5bSimcj4vGEy1VrtYMVVpSfbuJETN4NAFki6SRJJwuuZCv2YZLNkGSMiBmSTePkHpFFaAEZB0lqCj3nLEc4igZRXR24mg91RZWWr2EXDJ3gy0YYoqEskmXM8TawinkwGgc+tqQL6lKPSP0HMSyDLVVn9rV8U4UzCHxRuwgpi6XDsXIK0nYqTazR5D95MI7QnkLJGUwwAyGlbCT3H+TUVxR7ExXjgAQgArHyCe3ga39VkgYseNaAsqka6plzSvRXLGqGFYeI3d09t8ezvLQaCAb/43/4N1aDWGFFiVhb39jYcC8vrwAArPPFilMePt/26tr648dPrr505fLli1aDWGFFWYFlnNrFyT0AESCYSJmDABkQAuqlCCB01kJnNSxUl2JFwTSmWFam8yx0zEKDEriiD6BnrAQDPT/UAQuj/oXBkYTHLZioBlA9Wo/uf5kPfzBdDA6sYH9VXoYGaCCGZGhikPnbsWK/nB3o4BZgDJuKFgqV6CRQw50wIAgAjGVIEERQsWzVWUOIqYKqfxBEhMO4dNSBQFhwx7XzYj/MhSNtQMr5OTUXAatLW7FvRKOxQCC4s+NfeLJIl1Q5rSpOK6woEIlEYmtr2x8IBALBYDBEFzY2NlgtY8UpDFEU/f5AKBR2e7w+37Z6ea+yLu9WWFF2IARtdohsqrUiwQXnf23FgRBMsJwbjttsyF5l1ZUce/KjJaicqKeCZfDVJFgHL4xanhpZw2hJAjhxjaOjGMWSTWgUxWAsDKSFhmYwiEOrplAtTayDv1+qDgzOuEawjJdurXyXNEEo/HKsKHlCKEMCCVKEMVQaEMKYKNoZ1LCVEI2ToaxGdHqOGY4w18iQctsHnkJHHAvOeNbjx1s/b2/vxGK7jY0NAwP9U1cuVWrLPt/2k8Wl5eXV/Leqnl5dyfT9h2WuyTfF4T5lhRXlx+3bdwPBEMsG+aiurj7Klt1u71dff9Pe3t7QUO+sEIaYTCQDwWBVVdV7v/6ldexOYZR/ydo3UslUNBYLBkO/+eDXLS3N+3ZXh8MCMqyw4gBZJqqqgzUuEJaJJBJcOCcoCmQgVwOqaZSj20QSFWaANRwvnspzeQufXxVLxPRPaX8J1OfV+doQWUMisDkMWAZdn7NW1fU8QUVRDD751FJRXtNTwzE09EIQBEU0gS3X1qSmJpBoW7C6Uok2B0RrIMa8IIQcX+5d+ugrBUpUu1OpK9EINkTzKmEoRu6vgmJgjBVOBirIztDqTUChzsA4FipZKf+8y9fdOFVhVZo8o/HFl9+sra3T56FQOBQKNzU2DA0NVmr7BVEMZcruqQEZPt92wcG3Ka4Y8YgyP9XV1QksIMOKQ0WxtPDoIYrZbFb0eLwej7eyWx4aGrAO3OkM35bPt71T2W3a7fZyuqvDknSxwooDZUCOKmSvhjaH0NwtNLQeDMiAyA5suVOOSFmCJWCVlhy8/fOwDFjwKVPN0JkVyvQ6JkDWDUiIrEh5Ekx4NINohAxjLQnhKg5ARfNelpSpkASzp0CoAJBBkQwq/8npZbAKE2AZ+1Ycbjixr2aMA0U2A1NcKvcc0U4LIdbkMiBSa0woO0NZz8TOQMazIq+yBJbmZ6iiG4Cc5uNlIRrPzEjXt81QDBbT9x9WEMi4eeN6KBxeW9tIp9MFr7AnHw0N9Ts7fioXXXi4YLd3drSbFrY0N0miFAgGS2y5v7+vscEqAbDikDExMdbV2REIBt1uM9xgE45EFs5mxWPaZ4fdSllPaVy8eN5ZVbW+vlFRIENPps6emejt7fFwFSUsBGRlUlZYUXZgLEd35FgACAKsqoH26oKTlkWBDCymSDZJmR3KBCy2sIyDJ5awIArAr050vYPcP5gA5jOiMS7MjAz9laackV88cmgWBv+RvCF1YRYGrRzRLEqobwUDMjhUQxPM0IAMYmV2B0AmNNAIAPi0Wo0hF8b9JQSoGIZ2bDFlZyBNKkMhY0CFnEAwwYrdiaqdgZCKZQC1V0BlcwUpFjoymN9LnyK4c6AGtHr8sxuZTLZSm+rq6uzq6gQAjI2N/uEPH56SH3jzxvWbN67v7cWfPFl8sriUShkQlvHx0akrl1wul+lTr776iqJfkNza8v1462dRVDPDa69cbWxssNlsjY2Nlg+LFUeJ0ZFh+uTnn+/Ozs3zb9U31B8JyBANQIbT6azKhRMpCafNZquuqnI6ncFgkJ/D7+vrbWxoyGQyqXQ6m82KSkiSpPwjqUCGNfd+WqOvr7evrxcA4A8E79y5x8MNU1cuZTLZrJhNp9OiKGGMZVkxA5RVT0BtQe5fI5ChMzIo3n3p4vmffrozN//IanArrDjsoBkTMUOkDJFEORbEqRgAXQcAMpBNsWxVeB3KE2v8fbiAxkzG4AfB+alyfqm6OwmWOesRjoVBOIhDXYHnX5SfHR/oh0AIjGoYOjBBsQqB0TFU7AJSJINT/WRBLC4GYHl5mWcXLJjbQ/7NE0zndW0OqFIhkApqyAomgTQwAwBECKCoBlTlP6npCaFvKCgIoK69aqEJLKjoU1BHwworTiaGhwcrvs32ttahwYG1is4NHjHq6lxXr07t+AOplD6+b2iof+P1GyU+VVtbs7S8wlCMV6+9fP78WavPWFHZeOmly2vr6/F4QoceHEfCCyQOyDh/7uyrr75ccLUPP/yEf9nW1lpM8OV//t0/7O7umTJbK05ntLcVYKpfv/5KOZ/d2HT/6U9fspdCIWbQq6++/GRxSRRFq6kPFOFwZH19IxyOhCMRejbRM72uvq6urq6+ztXf39eRxw08pvB6t6Kx3VgsFg6FQ+GIzWarq3PVuVzVNdU9Pd19vT3W8TrGQAK0O6G9KpdbZBIkuUvEDIUmygEyCM6mSTaVeybLQJsktcLcTAdJHDXYgn2UmIAMA+uCcAIYKpYhq6YknBiGJppAdD+U0lBEefuvF5AYRTGQKtgJ9FoRjWohQAOIwepNjPgF42IASw3xcGASo8QAXTNVQYZIBTL8wx0LSjTQtDOUi4XGHFFxOxXFUHQyAFXKUNxZ6UPpIQQCBDQoA8Bi3AUey7B6jhXHFJQxwc/UtbQ0X7504Ti+q62t9VQBGUVAnKHSK9y5M7215aPPz56dtFAMK44jbDZbe3sbD2QcMXhGRkU6bUNDgwVkvAgx0N/Hnjsc9mKjkZqa6ljMAjLKip0d/+ra+vLyaiZTwGUzk81mgiFqV/RwZq6lpXlkeOjixfPHtz+bm+6FhcVNt4dfKIpiKpXy+wMAgLm5RyPDQ+fOnWlvb7MO37Gk2LKEE7sknbvg40wKpxKE4PwzrQiQgTGQRCDJ1rR5JcAOQ8pn0rDg+RcKfw1rUAWrIaGsC8xZrPKaGCCfi1GRbBYapBf5GhJVpFH3VUVQYC8MFSRsdY3LAYqYbVpx0AME9QqT03CGmopNAIAYK6AEwECtFoEQEajYCVMOBm/XqnQVKtype/cS1alXJ6xYwJcVJxYfvP/u9PSDcCQKAGhuarx48bzNZtv3U0wPv7urs7Ozo0wg41lvq/WNzYczs/R5X1/Pa9evWf3HimOKyoqtsNny1tYWl6u2ErtX73bnnthtltPfcx59fb1uJct1FKcF1dTUxGK7VlvtGw8ezNy9d7/89akCdyQaffONmxXfmXg88eOtnzc33fuuubK6trK6dvXqlcuXLloHsfKZhSSSTJJIGYBl1NghtPYgW4FzzVY0+YYQCAggAQh2Sx3jUHmdmmaaOBicl4gOZDAjEpmjZBCMZU7Ok/dX5bAQg2rAUZI8gxOEMjWuMwAo9R9p0ATSGBeMhcFpYPAUDIGmpbo7JimWA1vpabFjYQapVCIGPL7vzcfFirnzmLQqjG9hqCMuRPOogQRhgnPdRFXnBEqhCaVnaPqfKmqmsTMK9U+rwMSKY4+pqcsHWj+ZTE5PP6DP+3/3mxeklZLJ1Oeff6VmcY0NN2++ZvUcK56VkERV0uLcuTMV2WB9varZYTEynvs4Mzm+L5BhRZmRX5szMjI0MjLc1NhQV1cXiUTT6XQmk/n59t29vThbZ2lppcpZde3a1QruCcb42+9+YARDAEBzc1NrS0utqzaRSPh82/wO0Lh7977T4TxzZsI6jsfRMyCy57IHovg3FpLLLS72mUmSbCqXhjhrkLPaqi45CIrB558MeWDP+GISwol3EkzMQIb23FCBUjCNrGgqa6oE0WUxBEEpG0EGRgbiXEt0NgbgN0C3S2gSXmSnyUnpsJTfaKelw8P83Sen1aJD75mKagYGGFKmBSuLQQQSAjGBgubRqgpnqOoZGuWHsTMAw8I0TINSPCwsw4pTFSsra+y5vQz6xvMRrFBcENDrN1+rramxeoIVz0qw0pKx0ZHKABma+KjthbkCvLDRr1WX2G0WaFVhIOPmjeuTk+PsZVNTI33S0FD/xZffRKMx9tbs3Hxra8vIyFCl9uSHH39iKMbFi+eHBgdMrEm/P3D33n0e6aCfcjgcFdwNK3LZgt2BahuBsxqkd0kyihOxgqsVudQiBDAmkgiwDKAABOuKXCJhKzBfreRk+eAFMIhbEJWFwdQ7Zax5q2r8C1nzXyWAgDxrkqPsMwdbGFAMbS7chGKodAtBQIayEVXTUwUygKJxgHgWB9DcSQDh3Tb4HJxJZpwIdkAOmP0+fSyDtiPhj53udAO0IqOnvYd5vYupZiieJoAhGYTIEEKc6ycYQQFBhLGmuIIQIkj1NIGqRSsDMji/G0UglGhlJzwNxMJarXh68ejxE/3O+mKkMT/8+BMzXn3j9RsnJsBmhRUVCUmSuro66+vrKrXBhvp6akhkARkvQnzw/rtWI1QmZRX0mXan01lMWrupqenypYtff/Mdv3BtfaNSCML09IMnT5bo8zOTE6+8/FL+Ou3tbe+/96uHM3N37tzjl9++c6+3t9vpdFpHs2Ih2IEgAGX+Hla5oLO24JR3kUstREJjq9DUSZIxIGdwKo5q6qwmLRspADyKodWDAM6ahFf3JNhop2oyVdVc/SuDYuyTLzMUA3F4BlLLQ5AByeDqSTQWhgJkAKRrPdINE1pYUgahhxwzdkAODmScDl6GXmDBMXwOg8uU03sLl/8ctJhFUwAlKplL4WcQTOhmKFShUDMEZmXCgtIxqOOJ3pkQQmpDIIofAiouqoAlAFjGSlY8zVhb39jb23uhgIyl5ZXHGnZz9eqVEc0j0worXthE1OWqtZLbFycoaGVFBTJWpDMyuru7SlTrjI4O3/rpNi8Iur6+IctyQeOYA0UymVxYWGQvz50vVW526eL5+jrXF19+w5YkEonFxeULF85ZR7OCuQ8UbJD2DUkkYgYQDKD5QBcRv8AYQBu0OQAQgOCgBA2rSQ+ayHEohgpbyDKWtZAk9a8smRfJXH1JXu4KgKn24wA7YzBNMW6NqS+oEosaWiGoU+WC+pS+FgQV1NDe1oQ/FVjDwOlQt3kqskwC8IEep+p0hhxyUchql1QKxSB5UfAbKVRhMrjhl3Cfpa90E3YqByOr7uwyPTHYg63Bnw668i1hpVcEG0q1iFVrYsVxRCKRvKeJXxSMcDgybVzhuQcy9vb2vvnme/p8fHz0tEmdJVOp9Y1Nq+seR7g9Xt7Qx4qnHrIsP154IknSi/nz9+LxxcVlqxs820AGB0O0tbaUXjmf+hePx4++DwsLi8lUij4fGxvZV1d4aGjwvFFbZ2l55alTpJ8zJAM662BNfS4HQgK02QtOiRcT+8R4NyBHd4iYQdkkkGWrOfNSPq2VNSaBRv5nNqvUaoSViXBVJJhw//E2q5jjbxh8SY6hd5jzT8DXkGgWJKoliVZMIgiCxsLQvVi5WhLG/VeTb9ok+SiGUd4AclwMeBBUQi1R4cREOZKCOmmvFa5AdV/0IwVV/VFoYDYQtrJSHoQBQDD3gAXkSiEp0B9g+dhEKUCB/1H5F0ZYuDWOEZUzaXkW61RF1iFU9VZ9FyqNn2tRTA8AQpBHJCAmWCFk0AoTxe8XKRVvCCg2s0g9TKxoxaJkPCfBXD9KRG9PN3U7K2flqSuXytwyW5PP1ZWcbWdtbR0AMDI81NhoHtmIori4tPzw4WwymeKXP5yZK/Nb9g2/PxAMhQKBUDQajUSiNdXVzS3NDfV1Y2Oj+ftzYvHxJ3+iT7q6Oq9de7ki2wyGQl7P1qbbk8pF2m63t7a2tLQ0NzY2DPT328qzgYjHE4tLy9PTDyCE/+Hf/99s+erqmseztbikJjwNDfU1NTX7Tp7v7Pg33Z5IJLq9veNw2BsaGurr6pqaG4eHBquqqg7000LBcDQaDYbCioMgcSjhdDjq6uvq6+tra2pqa2t6erqP42Bls+LKymo4HPEHArHYbkNDfUNDQ53L1dfXU6a3DmuNhzNzm5tuhNC//3f/2tRLd/yBUDAUCASTqVRzc1NTY2NbW+vExNghdjgSifp82/5AIBKOhsLh6uqqGqV9mpuaEHpOtOczmazP51tdW49GY7TDt7a2tLW2NjY2NDY2lN8TZmbm5uYfJZMpMSvybpSZTMbj2QoGQ8FQKBgMOZ3OpqbG+vq6/r7eg3azjQ13NBoNR6LBQHAvvufQorq6OndCuFy1tTWDgwPlbCqVSofC4XA4EggE/X4/xrixsZHuWH1dXT/naVrmyT4//3h2bh4A0NzS1NqiJsBut2d5ZW1lZZW+rK2tbaive/9ZY8rQtorkTtuDtdWpuo2WGfx53dLSXHplV21t3o34qCheMplceKLTMcrsimfOTM7NP2Yvw+HI+vrm0NCANZarVPIBpAyQskpJuSJzAcsX+0QIOqqh4CCZJEnt4Uz8hYQqSKHcXxe/AEqOS+UriS5cwOQwONxCN1LVIQsewSAmIVBtopn3JSm5b0UT6HLW1AkUBjsSRBkXgi6GQV8hmC+noZMuNGFGwHQ9YSHlgoK7Cw+UjubamGbCQICKEAMEGABZOxQAEBtRdCa1QgSAcC4FJhAwJ+JcBk0Ayh0K1lYEIYwRJWUQCAUA7TCXOwvKJzWMJPd9hIIwuVVzhxHyQ6xyIA2lqdTjzhAlxoCAQCdhaB1Ew4l4WQoFCygTBc7fq2I9pCARw4R/8RoxJbRXzNuh1SBK98AQq2rEShNgjJHG6GFcHwIR+zSBAEEECKbYhqKnoX+hhYQ/80BGSeIDjbExVZbv8eOFVCpdYs2urk6gjat8vu3S08hTVy75tnfie/Hdvb1QKBwIBEwbr601y1h+++0PLDEu54fw+1NObPm2Hz1aWF/f4Bfu7u3tKjUsjxeenD9/7tADx6PEV19/u7u7pxDpXa9ee9l5ZNF+SZJ//vnO44UnJpBoczNJPfC6Ojtee+1VJvlWKC3MpW3bOzsrK6vZrMjbRoTDkXvTDzaMBI1YbLeE8a3Xu7W94w8Egh6Pl4MDsvF4gr6+f//h0NBgOUaze3vxR48W5h89xkZaqyhKiUQSALC946dL3njjRmUPUzwe9275/DsB79ZWPJ5gy6lzoQK3zXZ1dV6+dKF0ZhsORzwe78aGe8ev7ipvybG56V5YWNxU7Bt4yGNnx7/wZPHxwpOpK5f7+3vL3Of5+cePF57wYn40o8sldaHw5qbn+bjQbW56fvr5Nj2JdLQrGFJALqDUak1dvnSheIqbCgZDa+sbXu8W7UUAgKpqFVmTZTw//2hu7nEyleTPJjprPT//eGJi7PXy3IVWV9cePX6yvb3DL0ynM+l0RoMMACWg/dsygIz79x/mU9tSKf3K3N/fd/nSBZpglwTmsr7tHY/bu7q6lslm1Z/vrKIQ2MOZ2eXlVX79RCLR2tr8bPWQO3enHz6cLdFWvT3dFy6e7+nuOtxtdHxstMyVh4Z0uYpybqOH+72CppHhdDqbm5v2QT0EczZ7dJkbt9vLZiPq6+oGygMyGhrquzo7fdt6m2zv7FhARsUil1xJaspYPMkpbr8q2IBCjoX2KmRzAowBsmyxGWdeKfwHnKko0akYTKwTm1gYKnJBGMaR76hKiEEf9Hh/jCajyHQwDFwMvYpEYN6qAk0yDe4mSK8fAdCg5nAAUALmPSnzM1BpMKwjPlDVWVWyYxkQrGrDEKSk+4pIJFDyZlWDNLfTKiChPbBShqXjCGqCjPVUGRKiH36VvwEP1Z/ooS6W9kMCgd41CrSXjmUcDyGhwjVBjDmhi5YCCHGuE2HVpkRxYdUZHIonKweAQEgABpBWu+VWJAoQRwxfYMWzGl1dnaXHSb29PcwXo6+vd2VlTS5CGBQEob6ujh9w+P2Bgivb7XZ16EzIN99+X+yr8/0U9+Lx44PRv/v+x9J86WxWnJ5+UOdyMWTnZGJhYZH5s1x/9eV9Z8/2Db8/cOun24GAKhpqt9kamxoT8QRj+eYG0Ns7H3706es3XxsYMIwvp+8/3NvbCwZDkUjUtFmHw65MJm/+eOt2IpHI/978ab29vfjS8sr6+kY4HCm9z6lU+tGjhabGxtKWe4FA8LM/fUERMUowSSZTqVQqq2VffNS5XJU6RsFgaG7u0ZpSOl56TZ9vO51K//a3H+QXQ03ff7i8vGJKtrW2dVCg5N70g6WlldJ78u133//63V+27kcX39uL3713n82iP8cxN/fop5/v8MfdWeVkEAaNu3end3d333jdjG19+NGn1Ioyf7NOh5Mp1/j9gRI78OTJktPheOWVfUwrv/rq25VV9UxvqK+3O+zJRJI/K1nsSw0LBIL3pu97PFsGVFeZBo/FdnlQzOvdunL54uXLFwv21YWFxWAoxH+ERXV1VSQS/fiTz0zkOO3q/cw4pO7u7n3x5dcUaizRVh7vlse7de7smYsXz9UaL2VdnR0+I/Zkvo32dNfUVNPnPT3dXu9WsTWrqpw8fFzWbfSQQIZAfybMHcrq0iuHucbJnUF1rqM74DKUFgDQ1t5aPvOru6eLBzJ2dvzWQK6iQyEMsKxm3RgXdFAtCmSQVJykE8Bmzz2QAJ4XOl9lUzhWlk8hCBWZUBELvYxENyjB7E3CuBi8jqdqRFE5FCN/tpxHMRDky0Q4DAPqdAxNAgOyqXKmewE0EgYtg2BlHuTwzpjkYEAGQQBgQGRCsKxktAggNduFGAIZEBkCTAgCWADERoiAIABIghSJgLT2RFBqR4gmjZHbjrIfNkgAIlTAlAAoE0iwwLchIqrAiMbFgOT0XxWO0v9NBiVHgTlUgonSYoq9Sa71lIoShDGGEGKcp2mq9jhEhWURwgQjokAaZcvFWHGq44P33/X5ttc3NldWVtmkH40rVy5dvHCORxPeeP3G9Vevra6uzc7N81O4vT3do2Mjw0OD/Fjk5o3rN29cDwZDa2vr6xubbET4zttv9vR0s2FQb28PPwm/P/KiMfNNA8eugzD2TTE7O3/n7jQuT5fqwcOZkwQyIpHo9z/cos+vvXJ1YKD/iBt8/PjJj7d+pteloaHBK5cvsum4SCR6+849tzbVn06nH87MmoCMXOZWJJG22+2PHi38eOvnYl9dY3SKdXu8n376Ob+ko6P95atT9fV1TqczHk9EY7G5uUc80PbznXvtHW0tzYWhHIzxrZ9uUxSjr6/n+quv1NfXs9+yseFeX99wc52turqqIsfo7t3pB8a53JevTvX399XX14mimEymtrZ80/cfMjAlEo3eu3c/vz6IEFIQxaAg0cOHs48ePymIEJkinc7MzT9+682bpfvVF19+zc7i9va2iYmx9ra2ujrX7u6e8thdXVs3ZfvPYvz448+PHi/Q52+//WZXZyc97tls1u3xfvXVt2zNxcXlrs5O89lNSEEUgx6UL7/8ZlWpg9s3ZmbnR0aHi3VdAMD9BzMMxbh+/dq5s5P6meL2uD3epcVlUVPlKK0mMDf/+N69+6LidNvQ0HDmzPjY6Agzd9jcdN+bfsDydlmW7967H45E3v6zN/M3xXYpP9bW1r/+pigM7bA/Gw6p848e37p1m8FDZyYnRkeHi7UVXX97Z+f99951OvVM/oMPfq3dRtdMvWVq6vL5c2cpyEvjvV//MplMbW665+Yf5d9GR40SzsbbqDsWU9d/5523ekoqdO4PB3R3dRdilxS+XEQNsPW+YhblRMAf5PCaA2ywu6vznhG6zWQylndJZSKXCwgAIoBlnInj5G5Bsc9ipSUqcqHOsENk0TG0m4iebxNdv0LhX5hQDGNlCX2L6hayl0Q31CRcxYqusHhsyZmm7WkoJ4EcDwMKBloGX3kCeWFHoG3IuG1wIqIFBKn4EZfwQgSoDYZWAEKoFy4VX6D6nZBWnCj8DaKSaXJvQbXoRKlVEQhBAtZUKmj5BgOG6CnGVX9AhfhEXmBQ77C4FZPVYMAIVh1wkKYQkjvOBtYJVHQyNBiLupkQACws43mIrq7Orq5OWZZ5/fDqqqqXpi4XSlZtExNjiUSCr92FEI4WcdBobW1xOBws9X3l5Zd43iz96p0d/8zsvKkSoaAgAq+w8J//y18Z3vrg14f7+bu7uz/fvgsAaGtr7e7uam9va6ivr62tkWU5Eom63d6FJ4v8fH4sthsKhY9OiygzPvzoU/rk3NnJo8uzb2xs/vDjT/T5xYvnTV53TU2Nb75x45NPP2fpq98fWFldGxnWnfYGB/tlWV5aWkkmk3l5nYOiGFVVzt6enrb2tvr6usXF5TUt06uqMow1E3FDTt7R3vbnv3mPG9rWNzTUD/T3/eGfP2LT3ZIoxvfixbLBO3en2ZoXL15gKAbtThMTYxMTY3x1kglYOXTEjeDC6zdfY0IVgiBUVVU1NzdVVVXxFoZutzcfyHhp6nJzc9PS4rKpbIS27Z2703Q6t7W1pben21XnqnO5KFkgFA4/fDiX4qbu3W7PfijGNyyJmhgfe+21a0z8r7m5iWJbFy+eX1vbmJ2bL003OM1x+849hmL8i7/8HZ8vORyOkeGhVDLFkzUWl5ZNQMYvf/n2ysra3Xv3edcGGp9+9oUkSTU1Nb093R0d7a2tLXV1LowxJSvNzT/a2HDz6/t828W67vLK6r179xm2y6MYlArX19c7Njry+z98SJe4ipOJ5h89/umn26zbv/1nb5guVv39fS0tzV9/8z0PEa6u5k5SE5bR2Njw6rWXl5ZXQsYJeRoUxXA4HF1dnR3tbY1NjbToSW1eZ7k5tizL2VyIWTVE5ako5v4XM5msKOX+ff+9X1W8e2z5thmKUVVV9WdvFWir5ubmb741tFUoFP7+h1vvvP1mgduoJC1oZqJ0mwVLP2pqqicnx5PJpEECo+Rt1G63L2n1Oy+//NLQ4MkVU8RiMVPV5+CRvz2dTvPgSOtB7qcdHe0Oh4O/KYdC4fJBGSv2yREc1dBZAzg+fP5KxexXAbQ7oc2JUzHoqEbVroJ0jucds+ChBMhQDM1MRIMxaG0DMUhh6DYLvEoGIViWdfFPY7lAITuR40pHOX8JVeQCQai5kOgkDJ6OwWtiGI1OdFpGpdu8DFQJS7mUFgoqREdJIgxbyHVvQSWLQFr0IivYBcQAEYAIBScwQURGubcUpxIICUCAIiREVhgyuZUBEPhziHnSQIINOB98hvNpvv3LUdM4OiBi3CYBAGKsImwMgEJIq9tSVGnYQSaKnIlyFmEKbFSqH1rx1GNwcIAHMlLp9O7eHl8qwsfQ0CA/AnN7vNvbO8VUDD0eL2VHNzY28Np4/Ljkreamjz7+jBU7UFfFk/nhiUSyv693bHzUNDS02+10bHr27MS33/24teXjsY+TATI+//wrOr9ns9l6enuOvsH5Rwsshz9//mz+ClVVVeNjo/w8/NLSCg9kNDc1NV9tOnd2cmFh0SREt7Pjb25uGh8fGx0ZYjhUX2/Pf/vvPpoEOoyTZiZyQcH9oak7n0ibeEN8rK3p4ibFGDpDQwMUyKipqT46O1oFMjhEpre3p6Dc5ujoMA9kRGMxSZLyq0uGBgeGBgeWl1f5lWkO3Nvbc/bMhEkSj7LQc5lkR/vvf/8hW56fdRsRn3tRLYvo7+97/fWi8g1DQwORSOQZBTL8/sDs7Dx9PjV1ueCs7/nzZ+fmHjEoyufb3tjY5HlPDofjzJmJM2cm/v5//ZNJSUSSpKkrlyYnx02IGGXsd3V1fvf9j0+4tFZUpGQKBp8nF6sXaGtr7evrcbu9JchEq6trLDOHELzxxo2CV6ra2tr3fv3Lz/70Jc+GW11dv3zpIi+XUF1dff782cnJiZmZ2XzVSYfDkXt3YpwVTfT39a6srFIZSLu9LBup6fsPyxG/PI4IhyNffPH1vm3lctX++t1f/Onzr/i2Wltb39wcztenzN1GuSOeTqf39vbqyruNejze7R1/Z54/iH4bVbDjpsbGS4Vuo8cXW1vbJhTm6JoUJqpXXd3BqvxaW5q3uFMmU6hy0IrDhGBHdidANgAhsjug3VlwiF+kYESWiJQFRKmDItjyXmWJFJPmZBAFdYzEqrOk6qIqSbl/FGtV5q2qGUmq3pLEIPNJCOc7cezSGKbgRDEEQfmf/qt7rur6i5D3JuGLS57ioYHUWETJblXlTQ19IEQggD4AgLKSJtNyK6CgFZDIMhCTOB2Q4pvZ2FI2tiTtruOEj2QSRJYAwIqwhkrHABTqoCm1SkSh30o0WseLgvHlWwIffZOaRysTmlFLsWRqy4qZbSvmzxmglWdZ1/znKXp7uk0CgfOcNrj5fpVXsuspXvTLyPwlpnHsdvvw8KBpycn88K6uzl/96p0SE1wul8sk7sDU/o419uJxZmgqSdK9e/ePOFxbXl5lcEwu+ypSF20S+PR4vPnU+pqamqmpyyYVhq6uzg/ef/f8uTMmNk1Dg8qMqDICGXxpfWNjA0/VKRHFUvRoLMY7AsbjhUsw+vp6qUxdpegYtJaez/zLPb57e8XeGh0d7unpMrXtr9/9RQlh/7bW1jK/d3PTzUt4Tk6MP6/XtNm5eXqfqqmpLvEzWf+ksV1E7OBansLFB++/OzV1uURHqq0tF43d5bQYSlQPDQ0OsmSyNFKpMGua+/uKar4ihPrysNGCDso2mzA1dXlsdMTUIf+33/351JVLpj1pbGxkMMdp7x6z8+xiUrqtBEHIbyvecYPHMU0n6fz8wgFuo8WJVExWY3Cw/yRbKZPJzM09MoA1AwNHP7gmFttBr8adClbIIpuxgIyK5as4kyTpPYAE4KiGdkdBnn9hIAPLMknFiSwCJMjRbSm284Ko6BmRBQZhQA25IHp2RbAOSmgYhiTJCnoh038YiKHWlMhY08zAmj5lgeDhhsPtf+l+oWbgKA/NUAENimAImsqnjmJo+AWBzAlEf25+sHUOAbKUvzoANgjtqmgmlAkQCZAwkRRlTogJwgARghR3DBlDUUYigZJMJBkoWAeRBSkN0wEp+iTtv73n+XJ388vE1g/pwJy8twOyaQIQERxAsCEBIogBETHOPQiWcp+FwKYiPVCRAsXgGSxv0KEprv15dxLTLyroZlK5s48HNYDB1gcbEcCSgIgVz0GMDA+XCWTw3A0VrXB7CmpM7Oz42UTWYEl9hwomlhWPWiM95GTmf+pcrnNndc/8UCh8f/pIU5eMY08lJIqtli8SWQwUyJ86LliozCYknUa2Oa9i2Fs234TJBJjCxH73+XzFtvD6zdc+eP/da/spLx5gUM61z8R4ue6nJaglBwImDhomy8Py/U2erVhZWWMMnY729mKZP01iDZjCXrwY4smqbyoeMQ7V8nPaAaYYHx/94P13P3j/3apCKOT6xiYvfLiv2utIXiHDRiEgQ+2QeZZDBWfRG7R6LqqEemrD4/EuLa8cpa2KAV4mRH5u/lE5Z6J6G/V4C99G/QE2H3B0maQDxdzco9iujrLV1NYcvcIx/55y0HkLk29X1mJkVCwrwDgewfEIqm0UGtuhrfBxsRXNKWSJyBKAEMgSELMAYyC8cHqf2hQ7U+QkrEhEXYRZjkVkHdbAmCsnMQQ2TCQ/zdyVlkAU4mUghmnopSf8Z81PnmIOrloKQ+rDyvgsUCs3IPQYEoIVVEXRkyQY4CyQkpjIMJuUUjGS2JH21rPJ7Ww6kjtCdheoToIMEbIJWN+KqlwI2YlCbSKaoyyzr4FQu8rTJxAeuzBIxduQ6xXAjMRAzdhF+1fRsTiizGfpc46ZmqjeQJCJfRIECUGYAot5Ri5qcZZVWvL8ABkjQw8ezvBuFD7fdpdx6oNKKuaPwEKh8MbGZv6kusfjpd2mt7en9GCxZj/h9Bcq6Pl+8eK5jc1NNuabm3/U1NRYsHJh31hf3+ALBErkyfl8k3g8UfDYdXd1Pnq0sO9Xu1y1tNDDaWRqXLxw7qI2Jub1LAo2xb6RMlon3H8wU1dXV7DcKb9LHzHe+/UvK94Benq6H+SZQR49THSM7ko3xekJHrZzlSSup40cn3gRaySbzdbe1lranOLQwVedRCKRn2/fLQa0lei9G+sGGKJYkQKLqirnwEAfL+QRCoUjkWhB0+Uyyf+12sle5qT91JVLbW2tukaGKLLnoq6Xkc0Wr8o5NM51xLbKZsVgMJR/YRwdGb5/f4apclLII/9ClLuNLhS8jbrzWV3sNtrX17Mv5lLBiESiJjrGlUsXD1oGUvguYwQyUql0vtt6iTApsOzrFWVFuaEo+QPBDhACyAGQ/QAaGQgJqNqF7E5gr7K19qGa+hfEtYT3+CCqj6fSmERHJLDmmwow81oleRgGNkMeKvudE9c4wd9SGARQrVeVfzWpDKr5yRQ+TTAGPFWuHErFh9KSsmIXoviQAIHa9QCCMZAJ9VEFCqmECBAjiLMCTpJsSEpuy6kdcTeEExGQ2QNiykEkJYlOyLJXTERQfEPIDthdHXZHA3LUCfZ6IDgxFDQ6ClbkNmSqiAsE5fvh/kfkafXn4vvD0S9QAUaMil9QSx29ACof9SMH+r38+qW1M3Q1kty/iADV2kdFL4p81lL+fC6wjOG7iqYgjccLi/njZuZR2tjYwBeNu91eE5BBCGH+fycpTvYcBD2namtrL128wOQ5AQC3frpdX193iFQ8xPmbmoaM2Ww2lUrRQo90Or3KKU2oqV0RrnuZQvEvX506aEp2iDDVt+/u7n38yWcXzp8bGxtpqITGfonoenbgAJ/PkIeX4Ck80yFJUiikF+F3cNQhjHEqF2lq6hEIhpaWDKbLe3vxk9/h9vY23pJzdnY+FouNjo4Ml1dvRWPLaKTNqjxKfW9bm0mRNBbbLQhk5Ou5HOhkLxF9fU+BE1SRtiqG8A4M9M3MxHhMLR/IYLfRpqZGfvLA4/GagAzlNrp/eeZxxMzMHM+AGxoaKO1+XX6Y7impVOpAQIaJ73P665ienZwcoapaVO2SIz4s2AAZKriWrcTnAUTQZkf1Lai2UZ36fmEaj2ipEsMhOO8RxnfHwOi0yr3HcTEwZ696IioYB4ECuCoT3b5EU8TI/csnhKeLtE9FSxRZT6piASm2oZS/KC6q1JZEUdEABGFZhtkUEXeBGJTTPpzYxHE/ju/iTBJKMiIEIQCQckjFDMZ7WIoTkAKZMKxqslW1wup26GhE9hoiOGUkEIAwkBX3DM28BKJnsABLt57RvGtggSQGQkI4HEOxaDl+VpEK+GlgIM/FALxMhoVYPLdAxvDQgwczkjZ2WV1du3njVdMogdExJifGZ2bnmUCA2+NNJJL8cGTT7QkEgzRfOuHK3mf+jqhdFs6cmXC7PczGQpKkWz/d/vW7vzhoJQ6f1yUSSZPnS+korRx5bCn39s6OPxgMlWDa85GffckyfvBwdmZ2XrEeaGpuburp7i5Tg7BSsReP+3zbwUCIF7J9ipFMGeg2xWQIn/UIhSOSpE/Sfq5pOpYTT4Wm3tzc5DXKDG1uejY3PbOt861tLc3NTa0tLfnFHaYT3CSuYTIJKhh2h5k6nkqnnvur63G31eBA/8zMHHu5urp+47XrpsI6/jb6cGaOu416kskkf3l3uz306lFdXX2S8wGzs/N89U1HR/tbb75eqY2bBhUmV5R9Axln+h0OuzVmqFgIdiDYiCSSRAwn9xT7VVQukEHEDBEzgGAp5BUa2pGr8QUZsBmSKJ2EoQIZrEhfVhYDFcdgBfwMw+CoGLnnLCMsFw44gVllKpWhu5bQ6hKDQQkzsGB7dYAh77EmuhRGIkAmgCCAlJ4NKaCh0AcggkChIVEsAxBZJpmklPBLqR2S8oLkNkgFQTphEyUKRBAECcDUEzd3JQIQZ5M4tiklA8TZiGtaba4eoaZTqOkEzkZkrwLIhkHuI1QTFypeoOUc02JtdUytVE6/opVGakERf/g0ygPRsAyiutiq1VZGrKPc4156r0zvQopYEWAu0VK8ZbT6EwvNeD6jrs41MjLEK+2vrW/wZf9+f4DqjSMEJyfHU6nUQ23ElkqlNjY3z56Z5Edg2sBuwLJ5P/SV5NLlC26NWkzF9m/9dMdk/rdvBAPho6Mqxx2pVMrr3dra2vZt75TQwiwYVVVV77z95hdffmNajjFeX99YX9+guq3DQ4PDw4PHTc/e2fF7vVu+7Z1AIMBn1E89THVDtSflDXTSmarRE+H0x7VXrsb34mvrZjJUIBikWDA1ABoeHjK5w+qQWR6RxFHGJTd/KvugKeWzGMfdVu3tbV2dHXwV0sbG5vj4aP5t1OFwTE6OJxLJmVn1NppMpjY23DzxgaHYg4P9J0Y98Hi3qCs5jfq6ul/+4u0KasSYgYwDwmcm82+7xcioVGAJx8M4Ecs9FdNELDyHUQTIQAJQfA1zSUImhbPJF8d+VSNiACZ+oQIZBhQDK8YYOJceE2xcUa9CAXoh/1MWxSg2HgSwkIuJVnECjCiGlis+7V+h1jgA9Y/mAqvYpWJK0UC57ivA3DIRyxkgpXA2LaWCYsItJ3wgFYSZKMokkCRBDCFUVodA1ggACAIBAIRFKZPG2RQWU5KcxFJKEPcEOS7I7UJVE7G7ALJDaCNAyf0VDgjgi0sI20F4KrNsqPnVanopGiUHGhpboxLpvVrr2nmVJsdWM0VLW3R+BoczAkvb8/mO4WEDkLG8tMIDGYwQOzIyYrPZRkaGH3JTT+5NDwMyUqk0R4i16BiHxw462tsvXbrw4MGMji6trd+9V3/1pSvlD/v4qfjOzo4DiSP09nQf649Np9Orq+te75Z3a8uU9re3t/X0dN8vz6BxaGjwnbfhw5nZYJE8Nh6Pz8zOzczODQ8Pjo2OVJzT7vF4vV6fd2srzBXyUAClu6tz0VjC8FQilTIkDM7nNAEwKb9OXbl0+vf5nXfeMtm1msLt8bo93vlHjycnxicnx/dNqss5uA67eZ1yuAnPepxAW/UP9PFAxtLyCg9ksEvB+PioIAgjo0MMyKDIBQMyUqkUu42eGB0jlUrf5lAMm8323vu/qmzHcBo5FMnkAYEM43XMYbcYGRUbehBJBGIWEIwctchZU7A6xFYqoScYyBKwO6BgB7IIbI4XBMUwGkCyshHCvB9lRtSQJVZEgk2ZHjHIYRDy9LEMZdrcrO9Is9iCY1aYJ51o+nixb6nsPhcDMiCAArSpNixAJkTGuQeBuV/pBMBGRACkFM5EcdqfTfrFlFdKeXEmJsgSFEUoY0CgwuQgEGHlaGFFURIo7A7F0FXRliRSWk5KkpQAmaAtu23LtDtqum3VHcjRgmx1QHAAIGBFuwEBqGfWDHDZLzE4saNv1MPQLGygQSQDaZ66Ks6hHQBDF9eqPHRMQ1PozGdnHKGvQvMiws6jQvhWecmYZWvybEVPd1dnZweTZPdt7zBJs2xW1Amxyki6ublpcLB/XROZc3u8oVCYqhVsut1UpbK9va27u8tq2KNchy9dPO92e/j07MGDmcbGhtE8Lf0iCbyBR53JZKamLp+SX7q4uPxwZjbG2U+2NDcPDPS1t7d3dLTZ7fZ70w/K39rQ0MDQ0MDjhSerK2sldBlXV9c3Ntzvv/erjv1E/sqMWGz34cwsg/lodHd39fX2dHS0U3uX0wBkmBKGvb29ctQBnrkwCXa2trX29/WetpM6P16/+drk5PjS4srq2nq+5zGNYDD0ffBWMpUyoTMmiAoAIIrivmYQKM9S4EWgzp1AWw0PDd6/P8PKlHy+bXZnzGazTOaTugK3NDcPDg6sa3wcj8cTCodbFDMdt9tLr94d7e0ndhu99dNtHor97V98UOdyVfYrTIwMj8d7+dKF8j/OV+ohhDqfX9Hikw6EhPo21NiG03vAWQMcVQcpLYEQ2p3Q7iSZFBRs0F6FMUYvzIBNS9WowSojYuReyJSOoQMZmGBZ515oz/TE69lEcyA8gPZAsR952FyWlHpJeHwAIsU/mBAsK7ktVveZEJzBcpJkknI6TJI+nPSJKT/OBIgYhVIGKh4muQ8gpJqQKDoaSP/RqohoLrEHuWMPcRZjkchpSUqCzC7M7IFMDFZ3kapW5KiHQi2ATgAFAgjMGyXovAyuaY7T+AOUl9Jz/BvehVUpKQKFXFepDbHyP9Q0Y4BKRAEmLKMUskB9T8rGMsxGMAWgLcuv5LmOocEB3ltubX2DAhlLy2om1tnZwfTzBgcG1jm1/M1NNx2uud1PR5/s+QjT1cBut09dufynz7/kF3799XdVTmc5xqXVRkeYzOlw3U+nM9//cGudo9O3tDRfuXJp8Mj+gmcmJ85MTvh82xsbm94tH6+lx0KW5e++//F3v/1NmSqGJeLJk6U7d6f5zHN0dPjc2TOlRQ1OQ+zuxp9LIKPGKByYSWeelT1va21ta229cuXS2tq6x+vd2tqWCvkNTyvoXmmmSTab3Tc5z5e/qTZaCz2XUZX3GyveVrW1taOjw7yp09raBr0zLi2vqvfZocHGxgbtLtnProSEgI0NNwUyNjbdbIWTaZzvvv9xdVW3dPmLP3+/oPjrEaOnt2ea49ltb+/s7u7V15cl2YMx5t21u7u7rKFoxQJjIAiouh45qgGWgZgFspRPqigGZCChrgW5mmRZhFV1qNqFbPYXAMNQ1CN1RU/6kGWNlSEpoAVWXgNlJYBl5qhqZGEAfoK6nKHhCSA0Bb0hCCB5qSHRNBHMyER+lQQpqZtxcJMTUrDdCqgqAKIoYgDqKYMBJMgGoQ1BQLCIya6cCYl7XmnPhxM+kooiOQnFjB3LACtMCwhkgRlxEBuh3qoAafwUgoCmAgERggIENgKwiLGYwNlsNhUXq4NC7Taq7bTV9ghVncDeDIXafBYGlRqFBJqWnyJPDajujSKSooqmMEsbwGQqqI0PgbSqSrEQgRjLiLrFaKqbRHWhVU1w+WMHtYKlQ5SfGEVnK5CSWbyMZygGBwfuTd9njnfr6xtXX7oCIVxaUqW/eCLA0FBuZVZ1vLHpvnLlUiQapQIZCCGrruRwtw/TkoGBvosXzs3MzvMLP/n08//4H/5NGUBGlWnU/tR/YDKZ/OTTz/l5v6GhwddvXq9gEXhXVyf1EwkEgm63x+Pd4g1oAQDRaCwSiR4Rbrg3/cBU+fLOO2+dWo+emprqWEx3sjyoEMmzErVGKdxi7IZTG9XVVWfPTp49O5lOpz3eLY/b6/Z4TYm0qXymEJAh1tbuCyamTff9ds7h5UUCMg7cVpRsWGL98bFRA5Cxvv5S7jYKmEvOBFdsMjQ4cNd1nzGJNjfdU1cuRaMxWlciCGhg4CRuo19+9c3q6jp7+du/+KDg5dGneb4c2rCpo73N6XTyXXp1bb1MUoZ3y8fb8XZWiFVnBVBGbEBMA4yB3UkyCZxJFSwtQcVQEIIlgDGqbkCuRmCzAyS8IMM13mVVprUkChVDpoUlskxfybL2JskXx8A8C/+0pKum+hEzbqC/5CbBS9ltHhyiINqDbZdoUguYPqhyI7eHSn0TwQBiknvIBMqAPgitfdI+gwGUCRCzJB3DCZ+4u5aNLWajT8TYspzYIukQSO9BMYNkIhDFj4dyLhREQxUJVY07dI4C3S2iFthABKGAgSDJMJ3G8Rje3ZbCG3J4WYosSbvLcmITp31YSmAiEpB7ACiR3EPZQbVNFVlKiKHeAFj1WWH4kN7+dKdyPxGyDWhkioKp/sExI1ZZwpx2GSsDCQISaCh/bYLNZlNe0j9IYCsgKhLKO/ia5FbyQIiDoxKQI5KAPPdWi47xPEdtbc3QoG77F4vtrq1veL1bVHqgtraGr9AWBIH3CAwGQ94tn9vtpdbuQ4MD9c+pM8JJ3j5ovPTSlfyhczn+Izabja9wliTJJOJw8rGwsMjvQ29vzztvv3lMUnZtba1TU5f/4s/fz5/B5v2DDwfHmEQNTjOKoQAZhgzfhOw8N2GiIO08sz+zqqpqdGT4rbde//PfvGeaGI9EIvsBGfvjlSZy1sDAwNEJSs9Aq1ZXHb2tBgf7S7dVa2sL70cei+2ur697t3z0NtrZ2cGT6XK30WHDbXRry7e56aa30cHBgTLZCkeJjz/+jEcx/tW//MuCKMbeXvzDjz798KNPeXmsQ4SpUmZtbb3MD25sbBra+dQT356twNk0joeBmCaynBuHCLbygQxJjgZyH0YQIgHIMpClZxSaKJGHc7AFS7KV9JgVltCQKXIhYVki9IFlIstKXQnzZcVGoYzCKIZBUTNPZzN/30ovyX+X3w5bwn+RngPrap4AAB28oKoJSJlTVx5qyq0l+xwcQegkPSjx0ARFVatUDGSSS8pp+q7M6ivwBMUhAMQKnqEhB8qcvrIDGAN1i1D9FyDFb1UGUFYIEwgAQcrAZFAKL4o791Nbd1O+h2J4HaZC9mzKiWUbIAL7yQRDQgRMbJjYCBAolIAAQPQLaPOp2TEBQDneClQFAYKCAASbDIRkFu5GcdArBRbE7WnJ/7MUnZMyfglnMMgQmHtAJEGBQCG3ZeVBIJIhxBAq/wIMgAQUD1cNPtHgIxXCkHIPIhOFAQS1+pT8nKIYulGit2jgkoplKHYlSOspFJrQoQotbFwI/FMdz1BIHey5+lrrliVOjeL9nPCpFP/bOT9jkF+BUvJ8t+gYz1iY6kHu33+4vKISYkeGzdbiwyOGJZub7s0TJ8Q+Z1HwlBEE4aWpAgKf5WAZ1dWGDHaZ89V7KsGk+GmUmNssE4RNpVJ0eP3Djz8VW2dq6rJJHCS/Wv5Asb3t5/XzHQ770OkupOrvN0hFbGy6T5WpyjFlquvrG/lGFacq7ty5R3tvJBotuEJjY8Pbf/YmL8pgMqDp7+8zfYSJRJYIE5LVV0ad2nMQtGrjBNpqbNSgYTQ9/ZBdePPljUw31o1NN2/7ddxt8k+//6N3y8duNP/+3/1rVxFLI+Yse0TMq6fHAGSEQmG+RrUonJTNbm64+W5/3FrULxiMgaFgy2Xj6QS02QuiGMWBDDWxgyS1J4d9OB0Hz6Q5ACmbU6BXg9AsBzNuhab5yQcrO2HIRTE5zxIp04kVFxT8IpOIJ+AFPvWHZkxRsgFhkQfthgRgQ7dUeQD6oYEKdAQUpU5Ky1BlOxVrVSY5SmETTFSuhLbDMiApLMVIeluKr0uxJTnyRAwv4egmiPtRZg9ls4Ii76JqmmqfprgAUpAapDmfEPZgzAglAad+KERrTASggAGSMcxmSHpP3guKe1tidC0bWRRji/LuCkn6gBiDWNT6EMS6loQKWSh0Ek1rBegPrrNCoyzrPqn6oXsT1Ao3GJNCwR6Qikww2oWgczRsDNhgT+mb6icYfqH8h5BK9ziy643JGVZVx7BwiRcg+vp6+JFxJBJldSX5/n8tzc381NP8/GMqsdHQUF++QEZWFA+0h4e2gjvoF51MiMa9Kna36unpKlgYvy+WUVdnGJUuLa/EYrEj7vNRWnJv11DU0NzcdMSdiccTPt+2z7dtUtw0I3RGhrbraCJ2iUTC2MgVmzU9pl7a0W6gYUuSxDDHUxVH/Pn54gVLlUDuju/SsReP097r3ylKHmlqauzt7eY6m6Hrtra2MMEFFazUoOcyk/O21taJibFn/c5VDrfC6XRQuYqjtdV4GbhhHw8dRqLqbbShvj6/qVtamvnb5fz8Y59+Gz3e+YD/72//F3N6qq+v+3f/9v9CqHCumkqnmZZHCa+QWGw3GAyVFmOanBjv7Ojgl3z/w619d3V5aYW3LJks4yhYcYAcnmBor4LO6twgxFkLq2oKihkUATKQDTmroc1OJBGndoEkAmR7kdqOGMoqmBUJXztirB85RC5F8oJfnr9msXdPN5BEU3hFN5MIkAhI4VJoiAFABEIsANkmi3Ys2oAEkCxhWZRJFgMZIyAjRIAdYbsg25Fkg7JAZEQIxMhGctsSgRQVk2up6Gwq8FMqcCcbWQAJnz0Tr8JSFYB2JEBkw8guIzuGAhVvUGpJVGwEGuABFVhhaTIEMgQYAYxy62EVTUAA2CCwQ2IDBGFMRFlMSamYGHFnt+9IOz/iyAKM+0EmCyVBlmyyjGSFwQNkBLENEAEDyscgslowg3M/FuZeyZBayygOsEQgxIahgBGSBCgjTkr0UHgW504C895S1UA0OoaGZ9CaEYpHaDiFDluo+AayMZjDwMTIhcpGUVg+PBJzRH6ERsfQ7JIJAZYT63Md+Q5/VMigqalAzsnTYrmkcaB8+DhpnGDcfzDqcBpTysIfz68dOOgXnUyYjEVKnKRTU5cvXDh3UCzDNOBLpdLffX+L8pZLR4lS/KO0pKlM3bflO2oDapiCLMtrnICoKZqbm/i67qbmI+nYmUQlQ6Hw7u7uQZux4m1bItrb20x08ZnZOZ5UYoqFhcW5+UcnfzrkG2QeKLq7u0zck+npB8wqonw8sTRuVUkgQyOM8HYM+cEnz8151+EzkxOmba4XPxEAADs7fj7tfw5QjPKP0fjY6Mm0VcFMe2R0uOCdcXRkqMBtdHDgWGdh/+q//jXT5ujsaP8//8X/XmLltdX1lKYVYrMXyFJju7uffPr53/39P/7T7//43/773/C2svlx9uwk/zKdTn/40ael95ZXiTLhRFZUIIeUJTkewUll1IQlkBshlA9kUCtK+shlaikspl+UhjNmWUCnZuTLX1jpU+mWVEgHKiMDqpamBCJF0gIRSoigRSaIIhuaKgTgii0Ihootam4LAiIIYgJkCUopkA3LSbe8uyLGFsXYYja2KsU9JB2B2YSARRsmSKl8oTwOQsELTjNSq1jgQQyjeKkmV4GA/hkCctvFiBCBEAEAIXd6AUkk6TRIxkjMh8MbcmhZDC+J0TVxz0vSISDGcztMVJEMTfCDfg9SHlDLyQkEuTcxJDIgslJok9t5gABBmrgp5HpcCZLGvt1S1ZvQGkQvKlGxDMMLRrVg6hi5PzZT+QlSGBpIJ3HoPA8E8+uqjgw4AqbIasVzH/19vfl05fy6EhXgGBzIn1Q/0DxStAinumgmXG0AMmbn5k0rLC4uf/Lp5yucAPvhvohKIRx32panulfqbL32ytWCMNN//i9/VUz8or+/b8B4NLe3d7788hsm28ZHJpNZXln97rsf/9+/+h93704X241w5PBCG33GAejCk6V8vYZUKv3lV99Ol2e/muCQIF5jL/9QBoNqrtjU1Nh0NM8O04wiAODuvfv5qy0tr/zzHz8+0Jb9geOSdTh//iz/MhgMffPt9+YjG448nJn9h3/4w/c/3OJ19U4mvF7f0c+4/ATy+x9uPZyZLQje+QOB6ekHH3382V/917/eLuLau7cXTx+b+wnLJFfX1kvo12xv62drTx6j/ty5MyZA+d70gxIqMA8ezurnY29PwUsKi4LWP4eIfO+PCkbuMlreMcpvqzt3p0ugSAdqK9OF15Rs2+32sdGRgisPDg7k41PHV62WyWT/y//zXxl419XV+ZvfvGcc8pFkMhkKhT0e79LSyuzsPK9kUZCRMX3vAV+nc/v2PW9xkHp4eNBEkfP5tj/66FNGDzHF8vIqA6pcLtfVl65Y47QKB5YBwUrZO8DJXbwXKihzUZxnIcvU1BJW18Lq+sObaT5jybeKXDA8wwhc6JQMdl6VyhSLDP4KameUOWQ86Hc9dSxDzZaZOydjuSi4BUM4gICQkuMrNqg2qkyrtLiMgQQQRAAJxAYJyfVjKQXEuJzakRLr2eS2nI7gzB7IJgVJtBGiCHwo+T/BtFhD0a5ECCp8C2qmYfJfIWYIAKpz/QJkpUkUxVCcUwkCBKk7LyjCHkTCEAAkASDFxWxWTEZIlUdwddpdA7bablTVDpEDQogBkRWLFagoZzCWgqZ4quI4ihxo7msIgQgjqIA+CnxCd4vSWQqiGES3ioGgDApHfo2RwYiV19fUq6cUMRblL0YYYkQwpiAIxjj3R7NmxYA5+XCgIDU4IbnLUzmdlidx0OPCNmJBGC9WTE6O88zztrbWEtjE2NjIzz/f5cfZB/KDcJdRpcyHycN/bu5RwB/o7umORmPRaJQNuxOJxMUL53hrvYN+USgUNgk60uG4aQeOEqUnAwvGzRvXJVHKZ0T/wz/+4c03bxYcKF+/fm3DWEewsene2HQPDQ12dXXQlH7Ltx0JR3zbOyzfcHu8fn8gX8PC7w+srZl3OxqLNTY0lLP/He1tc4bhj/z5F19PTo739/U2NDQEg6rPSDgccTgc/Fzoo0cLvb09rS3NptqiODcT6/Ntf/XVt/0DfW2trSaRvIUnS6KojswuXTx/xANXW1vT3t7GQzCrq+uJRPLSxfNNTU12u21tbcO3vUPtDF2uWp53s7S0UuuqLSiF6/Ntb256DrQni0vmgppgMERdk/OxyLW1db4c3ev1/fXf/B2tTdjd3QuFQryixNjoCF+X4SuS51cspU8k7t4rgJ0lEslaI/9l3wRyZGR4xXiC3Lkzvba60dXd2d/XSws6Av5gMBTiM9jl5dXOzo4CaNTS8kF/SyQPkih43ZBlmTFQstks7bqDA/1NTU02m97JA8HgwmOVVNLX1zNm5BTQeO36tZ2dAEv2IpHoF19+/c7bb+ab7M7Ozbs5nZp33/1FiR8SCATzlR2j0ZipmGXfCASC+TBNJBp11dbu635aTvBalfuGqa1isd1PP/virTdv5htaH6itCmJq/Ok8OjpsKgviY3Rs5PZt/Tba29Nd8Cw+ekSjsT9++AlLjrq6OsdGRx48nE0psHoqlU4lKcBedE49/5DF44n8mYPV1bUeo66n4Si8dm13d4/HxLd82//0+z9OToyPjg7X1tbW1blSqbTb41lbW2ee7g6H4623bh69INEKcwg2oaFDrt+So9tQsCmuI4WkEgqn4gSnn/ycefwjRIKte9QxetXW1FEOlnHKqh5YqlN44tq4t8pMPzUnkTVjElmWJEmWmU0J1cxQ7D6PDcgw7iopY/39AQ5uC+q0uyBoco5IdaKwUWcKOpeu5rAEqLYdhwFKqLqn8pUCVQ8FBGo6EFj1O+XdU3JLlNcYqZk7VGoucvkrRADYCIFikmRicjqCk0E54ZMSbjkTleU0kLJQkhABAoAIChSJkqlAp7LzgqAQHwgrRigre9Z6j6bRQYCqZCFAQGsmFBMSiCGRKAijlKMgjAWBVFWjqgZnXa/N1SvU9gBnC7TVAMEpQxtR2jy3CVXaVDUoUS1OAfW+VYAMTOVBAVIoQSLBUq5/SpIkiUr3zD2wLBMN8yG0kEez2iXFLE6gqSfk/toEu82e6wcK94IuZxqxkOuNnLGPilBg9cSg1sVa5ZUuKkM0aEMDNHRQAxCjCIvRjoQXH4VIEKDGBLEZ1Tog1eLg7EtOJ7QHLXuVI4Qoin/7P/+BDWVeffWV8+fOFFs5mUz+9d/8HXt548arJqpzfqTT6UgkGgqFHz1e2N0t4ATZ2toyNjoyPj6aP2bKt70shsVMTow3NNSHw5FAIFj+F6VS6VA4vLPjL/gtNTU1vT3dQ0ODbW0t+WZ+ZQYdwHk83mKk9+HhoYnx0Z7iYma3fro9P/84f/nFC+deeeVqgUQiGPz97z880BB8cnLcNJJeX99cW1vPH7BSm8Dm5uaWluaW5ubm5qbm5qYS+cmnn36+L6jU0tJ85cqlzz//yrQcIdTc3HTtlausTuTzL74uhgc1NTXSYxSNRlnGWLozlx9e79bHn/xp39XOnzubSqXyG62mtqaxvv79999lEMbS8koxmY+urs7x8VEepYpEov5AwL8TeLK4lL9+e1tbb19PX2+PKSXOZrOffvr5vl4eTqfz5Zen6uvrPzLyvRvq68+cnRzo7yuRjx04549Eo9Holm97ZWW1IAfE6XS2NDc1t+i9q5zNfvPt90zcZ99obW2hHZ5fKEnS6to6n0Tx4XDYx8fHJsZHWcGdKIo7O36/P+APBPMlJGtqarq6Ovv6ejra21nrxWK7f/f3/1gEKaulSFwmk2EQQHt7269++Q7vQ8THptvz8893YjG9xKmpsbG3t6e/v9flctXVuRaeLG5sbLKfMzQ0+M7bbxaFHoLBtbWNR/OPpTwmS+4cbGpUzvNG5YA0msxiWNBrqX/HP13kiu10OGtdNa5aJXJ/alwuV1chOOkQ20cIjY2OjI2N5ONT+W2FEJqYGBseGjxEW5V5G/3lL/6shJdqIpn8G+42evPG9fLZHwc63f70+VfF6uDKjOvXXzl39owJPP2n3//RtFpfX++7v3qnxHZ2/P6PPvqsnDpHbVAHfvXLd/r6rKKSYwhZwplkZvFOdvU+clY7Jq87R67kJzXCf/pP/6nAh7EsBb1y2KuYndhRbaNQ2/gsO7CW4+kAiSFJU6pJNPNVQrRsTKOyF4Mw8l1ITIlZvllJsYVsG/meJgcFMvJ3kKaoxtIBTt6A/wWHBTIYbKLk01hFMoDqJUoU4YRc1o1kgLIAZnL5OrQplSCEWt1S1kYuqYYQEgmKuyTpk3ZXxMhSJrwo722SZETIppAkCbJCxFDKNGjBCvUsVapZgPJxxYEFlldxoV+gmEqouhhr/rFKvQdQPEmUfdQKNeiPFhAUZBnKWSkbFVMhWQwRcRdiKfcOcgiCEyFaYQMwLa1RknzFpUXZZcWKBSibFXI/RYJEJERWKk2AChHwlU5Ac4YxenwU6/kMyIC8FAYSNHVOxPUNjqCBDHKufL0I4vqUJvBpYHcQrYold5gQNNnocBUuZi0P/vzQvhMJCBbrsRaQ8Tyj84Kws+On47yampobr10rIVRut9vDuWwkRhUQXnvtmn0/VfOHM3PffveDx7tVTBUsmUx5PN6HD2dNZhM0GSs9/zY2OvLG6zcmJ8dramr8/sAfP/zkQF80Mzv3/fc/FuOZi6IYCodXVlYFm637sF76n3/x9czMXDEaLR1uLi+vEgCKfUVfb09zS3Mstmty39jxB9bWNxBEJgyitqZmeHjIHwgkk/u4dYyMDL3x+o0zZyZMhp0+3/ann31ejGdOqcjBYMjt9iwuLvf2dJfIdVtbWx49Xih9BG/cuN7R3qbQKMS8L0qNj42y7UuyFA5HCkr9pdPpuBKSJNGefOHCuaPTMWjU19dVVVWVQGRqqmtee+3apUvnI5FIPp1BFMW6OhedXff5tj/86NMSahrxeHxjY3N7e4fNxn/51Tfz84+LfSSRTPp820+eLPX0dPEHQhCErq7OSDRawstjbGz0xmuv9vf17sXjJiwgk8l4PN5IOFKQFHC4+B9//bdraxvBYEiWceEBtizvxeN+f2BjY/PxwpP8C0LBoMT1fVkkdXV1U1OX3nj9Rv7s98cffzY//7gg+qnsFfb7A48fP+nq6qQt7PcHPv7kT77tnYIfEUUxEomsr2/yrSdKYjabLVhRIooi7boMgOvv77t543oJckpDQ/3I8DAAhAFV6XTa7w8sLa3Mzz+evv9wc9PD9u3ihXOv33yt2KZ8vu1//uPHOzt+XGj4nTsHU6lQOOz1bi0vr9httq4il6nZ2bnvvv+xxFGgnJTY7i61Hd3Y2BwfH60rW4h3dm7+u++Kbp8QEgqFF5eWAYSmPcxvK0JIMBg6RFuVvo1u7+yw2+i1V66WUKp22O3hcCSqKDFXK7fR4zDETWfSDx7MHHEjI8NDJs1Uu8OxvLxqulaPjgx1lbxFumprW1qaZRmXY4Y9Ojry+s3Xug57z7Viv8ByZFvaWcWpXSjYhLZBW1OBpi7SI9V5c0ikrGJ/Iry4zUiMUoLkuFIbaMjAVMtSWpkBNCPVZ82eQSubAFgpxoFAAyaAqltBGQNYMR+Rlfl6GWBB/ZWQ8jcwlLJEypLsrpwK4sS2vOeREzs4FQXZNFK8QBCHNegkHEi/DqqWJQSwsoyDHntFuoNajeSeImVLiBaIaMdKUS5VKlfoz6QoQ1bG2RRwJIG4B9Ixkt4TaneFmm5Y1SQ4XMDmwNBOi2h0+41cO0FEEEAqO4W+rwiCErWgpfKHSadc8OqbFEFQAR0ea9DLb9TOiVUSCVSwGETLRqBiMwshojwcAnHukEJM1KIhFR7UpEloDy96jhG1VS371Bc62jvaaT3C5OT4vtSDc2cn6az40NBA9WF5CmXG4ED/1NTlfAGF2tra7q7OkZGh3hfDSnBwoL+7q3P6/sP19U1WaU9BkJXVtfzZvMbGht/99jcLC4uLS8v5shQ2m214aHBoaLCv79hbr7Gx4S//j9/R6W4TMlJfX3f+/NmzZ1QpuImJMRMvZmho0DRhOz42OtDft7HpDviD/kCgYG5fU1NDGTo1NdUV/CFnz07WN9QvL63kV/oMDvZfvTpFy20mJ8c93i2+zevr63p7ew5UgVWpqK+ve/+9Xz16tPBwZs6kjzg0ODAxMcZOH9dBCjpOYUxNXe7v71t4sri2tpEv0NDW2jo0NDA2Pvr/s/fmX5IjyZmYmTkQEXnX0dXX9MyQMzyGu1rqh5X4tCs96c/Xan9cSW9FiuROT3fdZ2bGBbib2T6YH0BERlZX9fRd/k12VVZkBAJwIJK0D9/xff++ehuNcnr6f/zv/9tf/f53z5+/ePb8xfPnzw9mnf7mN7+O3qtv3OBiMf+Hf/iffvvb3/yX//L/vHj56mb+pXP029/+5g9/+NvPP/iB8F3W6i9++9u//cPf/Dlr9cnHH0d3yR/+8Dez2ewbfp/827/745d/ir/lFt/PZflnZgMlzmW2r7Zrm+bv/92//T//03+estV//z/+u2/c1G9+/cVvfv3F06fP/umf/rmQPnu/uh98dP/f/Js//KqWrX7PUySvhsWnk7vgNyl6EffnoFtmYw7dH//v/h//L9lcNZ/9fv53/+tBFuQg1/gTIyG+rbUk+0rMWhLK43tRn2/Ptni3LIxJ9OGNEMSY1lFCAb7F8v6I1pJ0gQ2jeRgm29SaapYKdUmPgAwQRHpFbyWsM9JhL+zuv4B0IJdh+zosn/nlM14+l/Ur8Ffk1yQdRofKcFFP8jJjfEm8zq0pA8fkE33Pg0hUko6KDOtbiYyICSgg53zYjth+YGZMpovuCNxMZicwv0unnzWnn7dnv8Kjj2R2jjS35bB8TxEJAEqALdBwWEiKqALsxTOzhoYDfNfWknwVTFI7S3rnpJV18pEawzJ2Wn2SzcRMJ5r0TMmLNbpRctSMFF2J6OQKh70A3VHzEYUetpeta1q7VKu15EPD48dPHj95+urlq//4H/+Xdxn//ut//cfnz1/89V///oe5Z/LHL/8UQzH63t+/f++Tjx989tmn7kO9E3B5efXi5cvpfa1//9Yb12/evHn48PHV9fVmwPavfv+73//+L7+PG4DfiFevXr989Wq9Wp+end65uNi70QcAXz98dHl55cxRcnFx/o0BJSGE589frFbr1Xo9a9uzs9OoFf9er40ocX/96rVrmpOT448+un+yq2eJjSpXV9d371zcvXv3fSMGvg8w8+XlleF6Pp/fEf7wMAAAgABJREFUv3/ve/Lk/+gQka+/fvjs+Yv1er3ZbM/Pzn7/+7+8Gf7yU8DV1dWr12+W10tAOD05PR3+O/nWM+12u33z5vLy8mq73R4dHZ2cHH/22ae39Wt+4Pie1ip267569fqn+X9G3wvX19dX18vrq+vzi/OD5M4///O/PHz4uOv7u3cu/v7v/4dvESbVdf3l5eWby8vtZht/T36HLraKtw5hEl499Y/+KTz5F91cz/7mHxZ//T+Da96NyBD2T/6l+//+E79+0nz6u/nf/ofm/ueA+KESGTEgg79DImOHvcDdf5Xb4zANE5hmCujPhcjAYeoXVVbgTAg4NFmDAFmdqYgGUQbwwxwujhQb15CK8Fb9G+2e+vWT/voJL1/I9kq7NQXvgB0N+8ZGHRBQDNyAGGGBSUOhpsaIeZdxPEa95TKBt1wgKkiSO0pjgyuKgKR+FbOxABuX4jAKaFJCqElENGlSEAOQzo9hcdedfNyefd6cfIbHn+H83FFL5Ia9VdUAKrHfNWaUghIwSICeWdWTeM1ERrwyDxIZ2bBxS9jnXkaGy1dDk85/IghyC+vE5ZQ/Vel/OlYVF6ZNSs2P8RQ7dEUJzMgP73EZN5uAxs9IJTIqKioqKioqKioqPgDI8vX2H/+z/+r/RXLzP/yH+V/9+5sxF4fvdYjv+fq1bleApP1W+3UsGvgQVzGN8YkCMAuB3iAj4O2pGQcfiVEBY0/E3gYxz9+TaMWoOPjZeExSaANa9weaAiM7B5K/ICoYGoduGN0bAYn5nr1012H1gteP/Por3jzR7hJ524aAoECA2gzjMipHJ4OIA4veTHEL6T3UzBgSh2/K4oS92X5Stqo783P501YbQbKvw4bqWH1iyZzRG6OaWEEFG7rNGhIVG9Z+AqAOgPut6KsQNrJ5EY4fz8//0p18CotznZ1ye47USotGnET9ipifJLa5zIZx3/pYczXJwdoOHHkZfdcPrI4xG3sv2g+hxfwORlFNibxI4GBRaqQfqxKSkOhwliS3nUjsPcH4gMRcFN1TZ0w/K5PfPfiB/iKqqKioqKioqKio+FBmcAIV4ABNC649GNZ5mMgg54ZphMMwlPhe+w5EwNEHRV7ApI0SSi4h7gyP73N/dWfoG7st8/dwk8vY4TE0jrW3imh+mlSG5pgPc3lAHPzTvfyoZ4hzcSzrYNANhDVvrnn1kq8fh/UT3jzV/pK4Q+UYGgn5FfEKj+GeZvWAEi1SdAMam0osVtRyMm5hMQ6yAcaMxNdo6UjF/SsAhhOpFONMVZILZdJYmmtnMbW29BsInfqlhJUPvW7f6PE9PH6gR15mF+RmQK0gOE1qjrSEkEmCacHqPpeBu4Qjvlemi+r+s/H2z0es1c1uHZy+Hdk6WICppVqgkhEVhFbViiLxYUSy3lZBTY+ICJb00l2dTPx87CfplmyUioqKioqKioqKiopfBESUA9i0iO0CZ4ftbLe4T5sZzY/RNdorhE66lXAg13wwPAYWrcQ40U36F0qD5zvWr045ikKO0E47CWU+Y4ccKbL7YcSznZoUbxzYh5+UcF2T1WDsk9CSViExHzPgMPlbEqSw8kr8a94+98snYflcli+gu6LQOwl2XC5OuGjXNAERYUup1DU5GeICU2oaiVM2WSAlpqoUnZAZeGhCj4GhlrkZ1R8AJDFiBuOZn/ptIEZ0DO8oBCCMBOgsYbSwUJI3Gu0vDkxKEhiYw3YTls/o+D6dfkJnKzr5VBb3qT1BaoEiXyOgQsOAjyim+wC5VYsBMR1kzyqj33CWdomn6RVta4U7/56INCwhBA9sblh3q6oZwzmB7ByIfXxUaThZROmqJiWN31PmNORmLetuL0khiyqLUVFRUVFRUVFRUfFLgup2Gd0h2MyBHAi/q7VkGBQWR7g4Ab8F11q0YfjQ1m/airojp3i/6pK9ctXcSlKaLcfqSNpxmCSGQsQG5JFFsQLTPOb9DK7C6LWIpgM7nhhfAcM4C6oSVNYatuw30r/hzRPePPfr57x+Df2SfI/JqUFRW6FFjGEP0PBXJBm0DNqq5V59WiYqfA+++07n06eaxCRRP1K4DFCY8FxkspCk2kk9r5q/8twNkVKxUX/Ynx58J75T3qpfa7/V7sqdfKJH92l2Cu2RUFOuNhQhTaEcky+4hc54l+s0cQ6ZutCxoWfc711O4+1vCCWWA6MsJHbE2P+yMCPTG6iEudmEon4DiVFIUcxqshMHk0NVpx6sGjZRUVFRUVFRUVFR8YvkMTR0ykzzI1wc40RG8A5Ehio2R3h8gesrIELX3uw7+SUvXTI/QHGT7CgyDi31QfYCxh6SlL1YTCSYOAzrYpgEFWIRbgybFZvgRKeSetRpTsdPHcNVI3kEVhYSIQRsTLZgK9erv/Tb55vNq7B8RtePob8U6ZA9aEBXVs/qTeOAa8uhgIKoId7jB+co5U0KpmAOSdEKyfOhRUzwDbfxTb2REjMlKGZjTMnYUIxhFfHIEMVIGSuTHVUygBw7WXF4LSVhg+bSD7LkDnCNOlDpl+p72Vzq6jEcP8CzT+T0czx+gLO76o5AG+MVWE2dMeFYIiH0NhJtep0kJieHv+6V42TyQveIEk0JqTi5zHHkFnbXMi1vjEMZtxJVObG0llJKrq1yuaCtr1UQkXNoRswLxXy+dz9Nt/3Cq+xGRUVFRUVFRUVFxc8bwkFWVxo6wEaDt7wLeGciA0DWl7J8DRKG4WBxTM3sZ7gIeOObzFQceKbdTE4lqLk5BBFu2cQebXHT3zHRYIyqDpr4SVIlhHEZLv9g+j75rriCkGAR+b9v8IHu7mpJEd29pz/KFVCzoyAzBuNwXiZo2Cv7QNgpidGUUGFOARnDFzDbM4CFOw5L6V7y+lFYPw2bl7J6BevX6DvCFGZJOCoS0i5iDqzAMniXg4qEB9nDKV8CcgnpsK3CZeAua8UKbKUfbNWhoMP5aMkSO414inkcidxAKzI2g4dJLMgYlnFYjxEbmvYap1RWOiHD9izmMvarCAwrFIC3wGvxy+CvXHdF2zd4/InO71NzojgDbAScNbIkjgV3DiUWo6RTlwQwiJNrXcs5mp6wVE6bTp3EQzEjE1mAhRJNxCn5Otj93Oj+R05zIOhO3KmdBbFVRDviyGVA5CpS+CcqcsoDFaOTxloUk+GQJZIQjCm56R0RalZGRUVFRUVFRUVFxc8e5Bw2rTWQbPCql/XV+ygyELRb6fpSg8fg1fcxbOPnzGVMR/bdQoTJeDZRS2DU8b99PDp4B3jXhjKGYVDmLwCMwEgYv8exqcRoACFwcWZnsMBEm9pkj8i4UbB6mMvY3asUYCEmGqB8c1+TUwN1eLNhDTTPwjmQc/iR5VBa0Wee0dGBZV1k5sW8SGg9ogiW4IiA5AgRnKoE5rX0r/rrh2H5UJcPdfPa+VXjO4zOk5IDEqdv3Bml8yrFyxzjcomUeplIyUjWPijkiAyM6pYUERoZFdWgGFi2wlvutiEEEUQ3d4vTOR05mmP0ZOX+VjvAZAmynlEA6zsdPh4u8h4pRAMItQRvRn1PivjAvC0BHY4XyJFJV0Al6OYNd2tevXTHj5vjj+nsMzj5HI4ecHvBuBAWARIK9sJhrJd0PbACSxRCDI87igKRErAKeyzGsKaUdimeNo6mGBSjclCYc+gGWmv5WAs82ZreksGBhTKavEJj3W7c6PAWKRbDwk3Sh8QIHhFRMmZGkj8lGYrQljh2whKVvFzKqpl3+o2wK0Wp/6eioqKioqKioqKi4ifFZODRGTYthF5dMwxjh4bu2/M7XYuu0dDTyR06Pv/ZhurhzgS3o0I4VCg7Ucu/l0x9t5IEpoqMqQIjB2LsUxg3iAwVK6wEIYtJHKa+fPf5/aCTXNIdxcd+RUU2TkwlIWUQTRIJSDKHSTsIQiw5hcJsxBSECWNCuQJVQTrgrfpl2L7k1bNw/TAsn8LmFfoVso+pF5jv4EcHjcKNIg4YlRlZSTOxA02eGAd5gOgtGZ7oKGV1WJ6kgqh2LF3QNft18KvQ9xxU3cxhL3A2c8eO5mlgLp8fneRqjutAqYo1VqiUnhEsTEZK+BhVIZirW7Mfw8QhLMAeLDQE/Br9ivwW/FqOHkB7jjBDdagMudsjZ28gjn02GokVnFztWp6YFrb4Q/Jil46UlCw7KQwhECA6+NF6q0dn0i2S2lsirVcWIbbYSorPTYEZdqWTAsMkV1cxExlWE0NIkxITKJ0/PxvLVUVFRUVFRUVFRUXFbVTG4hQXJ+M0cmAWuZXIiLd7GyBHJ3fd+X1w7kNYMtUdNfv7sxg78aB7pSRE5BzdymXkLNBctqoiYPwF7CRn5A7YPT/Lt+N4MKoT8pyYJ8XUMYKTu/Ax9hJNnIA2TAIZFxAVCRYYEYNJnUkThr8JYhIERVGJMPdLXj8Mq0fh+pGsX+j2mvwG2A+jLTYlxjS/H+wmOdxYbVTKmZJGomSNyDjcE0ZhjeaMDHNKiAgH5sDas/QMHUvHvA792neb0AcmRFn2/UnrztvZ2XxxMneL1s2coLIVyRCoy8c9jOiEmbgYzloe01N9StbYaNy/WBs7nG4H6lBSN43GdW9ah3Ykwr2/fq1dT5sNLV64k3vu+AEefcruFBiYgQVCpAeIyHwhChg3FYDRGBI3LBJqikrNAhdrgTVNRGplibEdppMY9obIFC6RPBsuQJkYpACnlag3mIwDPSY7rqtYq5KbW4dTTJELS4WsqoIkZO2tMX1EdI/IiB8nmtIk5ZNRUVFRUVFRUVFRUfGzBpL6DnyfEw7x/RQZ2Mysr0RkcymbJR2dfqDLeGA2wz3mYjrBTRUYux2rdIPIwExljNUlaegWu1WPJQ9xUnaS8yC+E1V82hpm70gqGbmZh4k5ayI3XeSJNtXBxvE+FXzku+2xuUM9cS9hBf0Vb57x9Zd8/Ug2L2C7pODjxBwTMyVrHHa4jMkeKO6fml3WIwVnQAyIyNGPKVfSHhEREPUdc8/sA/cMPmjP1IMExiAUBDesqtxJ3wX0IfQKHman4E4AW4ruFZSS+5nzRHKth+bdKrO1amzNNZ4gJVJmdYwZKLISAh2ZbyW+hgNIUPbcd9pdkX8J3SvolzC7h7AgXDhcCLQyzP6YBDeaDVHDxcEmWiGTPaDupL1EWiAaf6xe1jgNVRRR3DHyRAELEcVK1d0KHylMxqTQ9uBVqbtXEkJJYUm8zkgh2mFYsIoObyiayS2lwp1MuAzM9TSVxaioqKioqKioqKj4BUBY2cfKEWxm2M4PPuu21hLTkiMOcyaz+VI+oNaSIn/Yt4uMM/MeuTEmex60klAiNaZERnwAx+fEe8xqigGzWOiEMBkVGXFy+668/RhpC81chr1zzma8kXRKNtgO10RJszTri4txFKUUJFIwAqrC4ldh+xQ2T3j1UJdPdfMatkvntyCcYh5HA0lMqjwwEO8qAfJFmsMfSuELRH1IFkCg5THEH8T6FA4svfgu+C6wZ+hZhZ2ZGJqkQiJFp0FaQF2LD33YCq/D7NzPLhaz41mzcNQQAmu2hURewkZwSCYUTZSL1c5E4sBIAeeg+F8s1QPFxBQx+GR4MknpVkGhmCvKQbebEC65ewPrlzi/D4sH7fwBzR4gzbeCAYQFSxgIFe5gDGsthSpKicWwLy32H9RcF5v6ZZNLSEFdakdFFCQqgiNAJCtfyVcp7tu4JtdO9tRM2EGYKETyKo4wagMTq5EdSzvOokJjTNm4ioqKioqKioqKioqfO5GRxz1Js+GhTIhb61e1W4PfQuw/DD2wB9f+8imM9IdO9RXTn6aflS7NfN96Euc5MhVEbqq2IPv3+GPAkcDAVMagsW0i92uUnZiM69/18Y4dJPmbSeHlLucBqU0EYgZj6uxIEymWjhFRZZWt8lb6K96+4NUjXj2W5VPcvqZ+Q+xTAEY+NI32hj+neGK/kkNL4aly8naIZ+4898w9SycSGIJQzO8wE0o8Peb2QMegDD2LeC+9SMehC3w6n5227aJpWsqeHCxrl3QRU58DaqqHgbKkKTAi/VwEtehQYkQpZtrDaANrU0Fh8b2GDroN9ivn1+DXeNRTc4/wGLWNVb3D1G9vZoSTy+mtWLaOEyIjlpRYpEcJixVIDhfISakDSIjsP0RrM7ELFbIthRJPEzM+8NaTGN8FdwNCcSdqA1O+StZmkOYV3Am2yaIMoFGuVFFRUVFRUVFRUVHxiwA12JgKg4MyQ7DiEXTvRmTYaG3S94ZOznF+/KHc8MRSipk0EZLUEJO8C0g+/xKhOHIY+56RnH6RbSbx3+V9drwnaRhEvSlGAPiex7WdGlbNgQUTiiD9KBhn0UBD8Ra7ij0GDE7BaADL0VDesr+S7VNefRmWT8LqjW6vdLui0Jn3AclhzpeIQz0SutjJYo2tMIkd1Zss29j9ipl6URDRsrCEabIWVg0iQUIfgg/aBfUiXilYDoN1ZBCZAIBwmJwpCmHM46EwYwkCysFvQ7fs+uPt/Gy2uFgsLo5mxw04AtRgCQ+uidkWooX+QpzSKaWQtdAfqLlphMiVTlzWqIoZdmLYPpClbzKLaMB+AywhbLR7BdtnOvvIzT5tmzvoTomaoCIgpIBKBDMF9KhieRR2voQgMR1mdiHBlJESpStRkGOWnNhfq6nYxhIrYsUIoSgNLyzFvGrxnQijBWr3qtm7zHbiZ0rLcSrWgVKuG+04Ck4gpn/cuBTKx66U3GKR37z9Wq9NJRUVFRUVFRUVFRU/WUgY/h//pjUDuigHEAF6RyKjyA2co+MLOr0DrvkgeIzcg4E70Rc55XBXoTFK6kuYJ+LBNpKpKINwEkYJ0wSMpMEv7Qs/gPV/0gmie195tixCnnwTPTeSRCMCYLyPrwBelU2FsdHtZdi8lPUjXf5RN6+g20LfI1vXBgGSeTLGlI9UiZoDQt55v3OcQ/KnpOu+9HyCskJg7jj0wfdB+iCeKZghQhVNsiSlwYMgIPgcExKLUgmwkVgkItpzb+Gg4oWDBD9vFg3OyFIycZKKkZtDpqdvLAdJi1ZWVlO7CUWLT9QjxG6OlCKauz6smpSBN9B1ELYQNtAtabZqZx/R7A43J0iNQmsRn85YCcxltkAqpBJXBxEFSIaDo3geCRSYY5pmaULNeozo0YmKDFVCUY2Xc6RHYoTwlJKbGq+mDceQ+koURu0TTnkyxKkdRssngvJFN6XWdj87N/uJKioqKioqKioqKip+hjyGsKwudb20KoQZzhbv1VoSR20CVVm9kes3dKf9QLgM2On6xKmzA1MwYc501NFXUtQW0/zOUY+RUzCGxyEHOuTYwh1aJLVjTmMuv2mo/3PuMOc2iMkcWL4kRWiMM6k2JGmuVWCNfamtDZ6KskW+1O3LsHzmr16Eq5e6fem6V8TblMXQOLW+TTZ1AIhqzpggp0A8DLpchlF8C4uRORaLligGnHLL37pVgVW9cB9CF3znfR84iFM11QE6U4UAQEBR0AAaVL1KL8y2b6SNi+09CA5JgAIIe+Vrv9zyetm1p/OTu0fz89nseEZzMmuHGS0gFdJGucdEfJNpDEy1sAooZHmf0SgRS1CNe9BYiSKaMyjQgSNnewZIChQ8hKVQx9tLmT1xs3OZ32tnD9jdC3iq6BglIPDwmVcSIWUCRhUYjgUtjMPFk0vDLwtpQMwk4qyuJIXMRkJLIo9iHcAagz/t51G0QSLpyaV5B1PjzaT1Jm5Nd7p3RiIjsXZGoowfPTvPhDuVyTB9Wf5gTj9F9Td/RUVFRUVFRUVFxc8Y1LR0etfd/Uy3y+Gbi49vyjHempERvJUmBLl+JavXcnaXPhgiY5LeCbt/UrynXZz9e8meboe6yKxG+t8kECPNc7h/y3rShKo/yFymOeFxIt7XIgzRnKyihULAKGYwN0UqS0UVD7xG/1q2T2TzhK+e8vVLWS+xWwFvUAWdA+csEhRTFalYFMRkCk1hk2/lL8o+j4+UmbakOrBwEAjCvZgcI7Bn9qxerJOjeFKihQiS9ACjgCMFRVDOYhhPNYJVaYAEkRCCD9wLsnAf5Jzbo9bNiFqCGSVdQcpQzXknMBm1cxQJonIJAs1UEVCmZ9SiSOITjAMbXRfm3xm+0CNvVDYiSwlL8RtsN9rcD80ZujlhE6CxjbN1lEi+fFMCaLyULaRjOIuRadAsqbAFkrREEw4jJn9ag6y6xGmYP0dBp/EvWjp2ShDKDlO4F6CbU0Zg2viblS3TM7HH+43CqIqKioqKioqKioqKnz0U6OiUzu/Diz9Jt9F+DYfSPm/nJsjB/ISiBIHD8PUBofj8swWfrNsyNYTmisrsKNlRZIxtJYXImJSZ0KSAQ3WqdsgWCVM35C/9PqXyWXdhwpudx9U8FxpTQibmk1QcoRbdEOtViXvur2T1tF89DKsvefUMtlfYb5wIQTC5AaGLd+/FelpN0xFLPMZpVIFF1KQSh9iLXdFJcr2kHJcoXrGlkqDSs+85dF66ID2LCDKQQmvBEUmToDbWQw6vSP6LYX8k7hUBJXtKEqyYwgPFAiEsBwRgw1u/7q+3m8t2frY4u3PUnsyGs9cOpz8ln5qoovhlMFermM5BBEGcrXJKUtWYHwqYZD+F2tHsa2oiL1JacgkdEaiXnjl0oV+yewnzj93iQbP4mOlMTChivR9RI4E6+ogmma727qKgJEal5Ppa3TGLJHXG8CchiNDwbWrkMROKTKNkkCi5tExWApQOE/RAA82E4bn5OYSSjTqSHDqp8SncFNT4i4qKioqKioqKioqfPTjo+hK6tfgtXz5vP/3dO2dkDKMKuTsfa7fCxRmd3TvoS/klcxg7ExmS2v+AdFqhgFO1xUhj5EyMXRYDYEf/XjT1KW4CpzkUY1MDfuPO6p/HZaQukjTMJgYlDoe7saMaUy1iKYlVxHJQv5buStbP/fUjXj3h9VPprjD0pGyHHX0UWdmhbB4UGI06KfPSvBiSuRLEPRZjf5/LukQ1gICyxC/27LsQ+hC2Ntsb9+BMGuCc8Q8ogtHXUpI2tAgTcOKlSSoRBLbdFwWO7SpAhBqDQtkiM/qeoVfqpT1nd9I0i3Y2b6glap0lt2LqgsUcJ5FdMCaKMK4gUhjReVIqSWMxSFy9NKwrSqIZIIdnmMZFSFk5EHTkOhSvvEXuYHbftWeMR7F/VtEZAzN8Qcr+xNFWlLpLYDzp6YwnLiN/S5oYjpiSgtaWgpaUKqhjY8/wRMq5oEQmCcH0NmXz44WcDVL7F3xWBuWfTkNvb/u+oqKioqKioqKiouLnCnLQzlVFfIcp1+8Amlt4DJHtUlaXIAHnJ9guaLb4ICiMSRChtVmilUCmKcumtkns5YSsiISGFaxOoj1HY0oJ3NCdEW186/2kCx07PQ/uK0Jql/gOCk00Dbe4Ew+SxAgTxb8KIA8DMKv2K928kvUTf/11WD2RzWvt1o69E7Yjb6LVINjrzNSgkcWIGh8dvlIIhz0RUF0K2Yx6jcMUxo1hl43F8MF3wfeBPcvwJZZ0YRRGTNGchCnEwhmRdFbt9OaeUrHh3GwzrGxtLMO/ctks5rhO6zcFagjZUnX9db9de/dmOzufH5/N9XQxO57BEeEMCUiAWazixcI7E7tl9oxGFUKSO+B43lN+bPYdaQz9GK5FyxBBRzFHxZQzmo9EZ4ANdyxvuN/I6gXOP3YXf4nz+4gzwJbBKTaa+BmhYe1KVyspOJgU1uiugSdeZpiSPhSTtyTmZlibCQkpkagkfZJSFOHEjwjEw0WCsSkXs/WmfKJ04ivRXF+7ayMpl3/lLSoqKioqKioqKip+iVBz2osAe3UtCL9Hawm6Btu5rl5Lt1YOfPXcnd39AFzoOPZ0xHvOdi9ZTYxhRoNRvJ5qWM1CskdklJwA2ik9yeL5nQDN6bR4QIKAh/cyDXlxvPz2YZ9JAZC1GEmdATvKhB0aQZS34LfSr3XzWpaPZfUorB7K5lL7NQoTUAqmxDEcItkjNFtpMOtPShenQk43xXew0uDkClfwKn0IvWezk3DPYiSEERM4JWY0USpQ5mbNvAHiMOJnVgXLp2eimElPtYtCx6TJGJoSBIOKMHeiXmErupFwFtrTeXPUuBlCA0nSYFRQXPN0/aS30VGsk7wluEfnRJuRYHYmYWF2dDRBKWMQFS9hqQHlqKf5PWjPgZxAK9SotZmYNEYdBIydLZb6qehsWzK5CjN/p7qfGqOR0SgVqKmuVXD4qAw/tsqVFKsBYP+ljNtoADnARCBMTs6Na78SFxUVFRUVFRUVFRUfAo/BQa7faPA4P7b0f7O233jaLdYScjg7sokUMWZ8HmJBfoFMRp6y8pCWdfGAYsPZJCpyJCmysWR0mozhGpN+yNTaMHlkHBZxcj9+ZCv2uI3S2boz76eNfys6Y/oaKTxLCh1FxOkcC8o9dteyfu6XT8PysayewPa18xsnfniVw0lliKlZAJyUXAPUce5WFKbU4hH1IGAVoBpvz0emYzrrFvpoSqtoEFl73vrQh+CZA1uTChKAw5S1WfpM2UpD3bRp1kZxiu2kRMDaWEZGDFzlbPehkiWqOZnC1DqM1rtizwN1c3TKqivuuo1f9u1V057Pjy7mi4vF7KRt5k7JsYjYK6LrgiYeE8jZsXGtzP8Sg1jj7qT2jkBm/BHreMm6BoQYc6IqKkGkY+5C6Fi8ozsrlJ6xFcQABNjGQ29EyRJA48EJNGLnCsG/5VqyJZGJ50rzn7nGlbJewzgfylmyZskio/1AbpdTYOlnnXSa4LtxGFrjMSoqKioqKioqKip+CSM5SbfUbmky9gabOeJ71a+2M5jNSTzOj2KbK0H7C1iWyfyOB+76pnvFmtsWCo+RfByaOYf8U5gEaeCoxigNqzvRGLGpQw/fjtbdf6NOt16SIid9DniDi8AJPaEwmQkzsaJWlEEpdJRiT6ak2T0nPAI5tQjT4VXCyF5lK9JJdwnLZ7J6yqunsnkp2zfoN6BCqCXJUdMiAUY6I2kMEjuik7pXkMnJGOZbGdsrbjltEMMzMx8gfYC1D70PXoQFWYYJPx6WrVyMDy2xD5oYkpwLgpE9GdMjNckhTDVBlnuZ+BTjPNKiJ8mOKHBsQwVwgC2SqG6Dj4Gj4oMGdp4pKPZMJw0uXPQaxcW29he1vU0rkC8PLPoLS0ctaothD82iY3GbAmQvR4kHJhKUPYeOQxe4D9oxuB5CGFbBNYpNDuvMwgfF/BvB1iOniOLtTME0TTOHZ8TPidFEExaDUlbtSC8QoVqbrEk08scC9z+IOEZ3xj2rSoyKioqKioqKioqKDwnO9BPMdut6o936fRQZHHS7hr5TDoAO2zn9XMM+9faheFe6H28Gm04gjnvmDYljJ6Vij91wwWGOczjWqZZSCoTxmzKqI+YN7L3vVGVQBjsLekx3vwnMUqCTI9BppkJW/sc797GGw7ITrHSTki5keJgllWJiA9QQYUPBIZPOLAhERDGkcMymwcYJEHvprrV7If0zWT6Wq8e6uQTeOu5JejTPjY7sxDBt05h2kCIQdhwQOumYwJLAEbtDtLhwpokY8Vyo6DAvB5aOfR9879ULesaglJpgLVciu1d0mqgxrvvwqNNULSqmxxCKqhA1YkJxVNAkp0c6GDslZKN+zkpJ70DDgpquZLhkxClSjyTMXdctQzhu2/NZczFvzufNkQOHFs4pkpYj7SBFqY2mqBDUTJfZtScquf4kuTsICUWAQb1w57kPfhuCFw5quRkE2gA7llZoITRrhjfspKwHNonVwBguyxDtU4dp0Z0EVh3LZEqzieyxGKnXdkJQmPsERGLRSaYECXeiOnH6oamoqKioqKioqKio+MCA5E7vyf3Ptd/y1XMNPk5O70RkCAdevpZuBcLD/LY4hWb2S1qb2x7GqOXP3o2UDUmgQmWyHJ8c1RoTE0RRTWDulNjZOHxzPaRN4LinGcFpS+b0IG5sLk+6o3Jk+grdYXFMkqFGbZCAJXzEWA8VcKrKnYYtd29k/ThsnnD3WFbPcfUK/CZuhGBkZlL8xZQByM2mMF0MVBxlI1jSM0p46Q0CKttmRDSoBIlyg9B57oKINjwJKcWRBtJbqKLIUwgVD0MKcY0sSgr1jGYISK4Ta6gdJnbKwacx7yJt1Bwx9nIBhYaILdCUFLTXELzvgtty8DzzIl7c2cwdOZhhzNgsYoT4LljMTRO+rFyX1nCKieaItpYg6kX6wFvvOx864WFVjJAji/4QVCGB1spQvclk2qyOsYDPYXtsVzZjPAv6rvyglkKa1GeC5r8azSeQK4qtlSVFllJa4OKo0oMRnlqZjIqKioqKioqKiooPlMtADUHZ0/wI58fkDmRcHCYyiBy6xmoJRJavefXa3fn4l79epfVU95kHJBwfnM5dh1kM/AH2M3k4dMpT2K14EwjEpgi7CS4xwtGG9UZM60Hg0Do5hhG3QZypa4BaImoabCkQhQDdlWwe8eahXz302+fcX6NsWvaUKRT9hvACzOYIBduf3BwSGY5h8k9eBvsJIY7OH0ltGmngZYkURr8N3A9fwpaqoe8XARk1Khr7QEpTiwKBOtCAGkwnMCyRwNyoAA8yvArGqJDoC0q1unkgZ4CtSkM0t2slALBqb/mhwILbYY/91jerrj2Zteez5mxOJ42buVRSG7mLaDnRsXOUxpASNR8KErph4ZjZs/QintUz9BzrWpQ1tuzATmLpPgOhbyXzvvHinaRRTKNmNfarxpJVKrSaWCKI/TV2qFZUVFRUVFRUVFRUVByeN4SvX4Xnf5L1JS3O6OgEXPuuRAa4ZvhSRdcAEjC/rQr0l8kBpb8ppieoTgmLMqpP7px/pyxGki8cTggoXZV4Y7zM6RhYvBTRo4BRJRADIszUQZI0FVEVQEgOiFTIb7Bby+ZKu2eyesibx6F7If1SuKdhUMaJBWZnp3bNBwd/lBwuunu/PUV77lp3rANDgUVF2ZsQwwfeWqgnC4oS5DzPd15vzAafYAdNCM5KR6PDg4ZtDguhMQsjh1/ARKyhkRsospPoigFla2Rl1cbMLZzySmNbL4Jo2LIZQELYBu656WTWL+BImzkNe2ChJUBJCKRk6R4pWDSfxdiDwyJBtWfurW62CxhEgwALsDWvJEFREvfAxPMzJTJKG21emG8nf8ihI7l/ppz9qLwQsXZWoeHCEhllGhUVFRUVFRUVFRUVFQchrN0KujVwAPbK4eCzmtsGaWznODsC1zQf/cadfwS6q/z/EKiMrOpHvbUHNd3TLw0LN8mOXaLh27Ep3zxNppvjcYS0ETYWdeZxGMlFIkOzI0CYEZRmiK5BmWNonEIjK+2ey/qxv/o6rJ9p9wb8msS3wM0wlAJZ2qXe4A9yhGZhIRKR4mgSQWr35Ut6RjQdAIwBoTHEJdbWKoMGGcb1LrAf5nbxMszzrK0Yz2A5EDFk9N3PaBtzNiIfQeOqRfODi8UahErYi8wUW6JG0YEGwBhHKilRQkVAMLEb8dwLQohSE0ihrpHXiBIUZuEgwWvopFkzL3l2OsOLmTtuhjPTILSIjnRYYg2mpBFRU4vEoBQc/t0Jd8H3wfthZdSzihJbrkmmaiQ1v6CZoiZlqiX/dS8xdrcBB2+/Yt9yDdtCChRJBg4XIBHI8JeRGEQ0nvuKioqKioqKioqKioqDowW507t0ele218pBfQfC4Jp3IzJUcLbA+TEAuDsP6OT8g5k/prNW5gLecuiTBM/v5G4zIn77fIDxTnyUa1AeVy3Jw7QGkibXSBkEkwIIBg9eVbccXsPmIW8e8/qxdm/Ud8jBXBSUyl93J+EDzI4emnCh8BUpTJJ2NxGnfRArYBWJ1aqhD8FEB9wHDsPE7gBdkimAjMP4Oy+PHYMDVNbYoKI07I/LwgKnEBmBqGSQJDTAEruhJrIoQgzTYVgWbF79YASSxpiMqKFAixFVEcAQFFmUA3ilrYAxEe60aeetm5M7Qp0hQqRzYm1NaoIBi+wFr7z2oTNZimcJrCwkiloqdtKRysgqTWNVoodlXDOdnrdvS1RGsdKE40jaDIqJJBapKqRk/1A3qjYSAVRRUVFRUVFRUVFRUTEhMujkDp3eg9ePsJnT7OjgoHJ7/aprcLZQ3ykzlPjKX/iSTcTx4yD+jdPx+PefyWXkgXBi0ng/Nb7FPwyjI0O8IR7LPWNrSSZIkIZhfoa+IQutDN7xRvtLv36h/QvYvoRw5XTbgIdGlWzW19QIovEft3EZemDKhbFmBQujwQqESppaTtQMMBbbIew5eGFvLEYfJIiKICsVG4j95/BdslP3VgdcPlkE4BWCaEBtAFqjM0iGLxSLcXWgin0YlpPjGlAMw0zZHC4qR4z0S6GdaDUo9iOn0ERqwJgbthgQCy5RZZBOxPuuD+t115y0J2eL2dncaBIY9sbsXETkCFDU4jyZe5Yu8DZwEGYRVpS4JsN5xgmtk042lgAVW1ncp95y8U0sl41FKN+eyygXv6baXYq6kElEhuasj1wpo6nSdf9qqaioqKioqKioqKj4gGFNJR4BoW2hndng9Y5EBhI2czq5w68fy+Vz/fi32M4/kEX71jeJvz//P2LSeyDk7zQFNOyRKmUazRkZJZxULHkz5VQ6DI10TehAvMpK/SvdvtD1C+wuoV+TBiS1otEStYGHSAvcYS+0WEh2fpo7MoqxQUu2iEYWgy2OVARYpY8UBnOUY4iN6yYwiGmhE/NOqkvR9zu7iYOIk37cZUHI0Z0qrCwqLI29gQfguAZUdCO5AVXBDX+QQKIgojRhXPc8tku2HpGV+xIoiR0wq/fqu4AeQs9tz81xgwtHc0TLGh1OmRfZBu54+NMH7YdXgaTaFGNH9rpeMOlLdlqGdZdnGqmocp6+k2s3qzPy50jHemDNqMWqFRUVFRUVFRUVFRVvmX6VWfutcoBurZvl+1lLNGxlc6Wba6anvHxJx2dA7gNYNHyXae0HIC/2d6zM7tFzgKp6OKMRY/emDc6KBCIWVcn2FyGSI3IamrB0ciXhSsNr7p9pf+lkTeKJFAWZUYON54QUszViKMXUQYA7gZ2lBTVXmiiW58X5NXdWxJE+hj4Aq8ZSEmbuWLfMnqORRFmddXBgztPI1ojRw/JeM7Go+RwIwSEBoUi0blgPLQJBAOhVtz5AkJmSEgo5WzQt/gvNHa04LAyZeAM5UQJiHSgYsye8CRIkKQ+GJ7rY3lISRVTAA4isw3qzJHe1nZ21i4vF7LRtpQUHIQS/9WEbpGMSRTYuKssfpkW/MC6wRtuMvFXKo7tSo7fkYrzLp+PwqyaqHZ22AR16bQ0BraioqKioqKioqKiwsY3zHVGxqEB6P2uJbJby5pl0a2rmsr5W9vgBEBk/LValOCnGSXI6VB4eH6NegBDFNBVGdwgqWy9Ig7GV06/75Su3eebkFcoblSvSDUKwV5OaeSKaAVKZCMYJHkqxJuzQCKVfZZowYq9EAi2ijhirmYwHqKpBxUcvSfCeuWfYBvUSSRJKChQtWohy6Jo9Ce81/pqRZZicnb3URR8OoLNEESGUWSuLBriFzosEHH6oznpri0sjt3IkaUy0U8TaVkslsY1aqIWkII9UVBuDRkr4qaCqoAOVoBwUvIQwrIOwBD9b9AFbZBHxHLbeekmQbjiYxrCLvPxJA5HkJnojb2WnrPd7k0YcqFmtrpGKioqKioqKioqKinca29iDCCDR+Ufu4sFBRcWt1pKo2x++XZzg/LjeMv1xuAx8WysH7vbClqE1lbcm+iFGIIg5Sux7Cf3qev3scbP8+lhfzZttOwNsQYlMR2D9G0REQErDMM8y3Z0crKC3cC830z4nOSKxRUVMoxBMiNGHvgvBB9+z9kxBnIAb3h3j0YmMN+3TkUbaIJeWvPeFqTEKVR1hg2QdIyCiQg2cH7eni5Pe8XKrl695s2lFSIPLqa8MECzvUxGDxV9gSh2VSBkNfwhKDArNfiCMtJBtQ7LZJP67IUIZXhRAuFdmvwzcrPvutG2PnGsIUSnli2gu0ikWl5Snssd2Dc9FyJKITGdMFDQK79lbe+CaHNfyO9FTVF1GRUVFRUVFRUVFRUUa90IHqrQ4Vr+VbnUwovFWRQYwK9tU27Q0WwA1dUl/wJNXJrxvnip3hf1awioii1E4gMQEKBALb7frly/o9ROnlzgL87MFHs1wjtAgosQu0WEgBo3jOUzkCGNApCLc2kybWjDMAEOlCDZqFSBSGFa9wZ5DH9izBhbRxowcOTZSxyyMd1qMb1yrXEAiGpkEMuoh5mnynOjibL54MG8uZNX3jx/qyxe0Xrq+N3JCxdpMCUGJ4hqxWoQHqqV9KJRozZF6iW9bOmuHH0hJEbFnODtgUuwkqKpfDwtDICANLBrXEMVQEbw9YzWe13hoe0UgI3dx09zx42kk0gLU1pKKioqKioqKioqKir1hQbBZ4OIErl/y1Uu5fAGf//VNUcbtrSXzI5wdaeiBzXFwKCn0Q2WI8DtsWDi4tZy/iLkl5L04EPNPmMgg3oUfJmUrzCAgNSpBur6/vJTnbxq+lkZ1rc2ZtBdzd+TcDC2IUtLcjBaSYWWkpUe15HWq7phJMsmhhbUAK+B0MZEytpV45o59530XQh+EbTetgKMFapvcxCqp1wInvS0Sd0AUEVyqYtH3WRl0Doe9YKszpThPi2V0sALNzi5mn/x6/tHvtaf1R3/0D//ov/5a3rxC30PwoBz1L8NSOkpZnmIlozCsKpqUJapSKO1ntMaA6E4HbToKM5gQxvhVnIELgFHRQYIUAIMW105ZhbKFUvyLufw3Ui1JgZMCRd7VQYLZs/Od/x4a2QvN+aeTf9wmwqgajYqKioqKioqKiooPct4mIKehl26NTQtNazfo35nIoOMLOrkjqzfiO2Vfb53+SHTUe4ULlLvuAhC7TaMOgVJWg8V3OnAiip2X9db3nUOFHtotSy/tWdMcE84BXUoN1egliWOlMQjTMpLd0I4U0ZD3N4oEYmerDAM/i3qRLnAX+q0PPkiQSGGgWvznqMUYxnDRHZIkzcRmJ4lfqYvlfZbT6JkYepH3MVov2Opc3Kw5vlh89AU0J7A43Z6cw9E5P3sSLl/J8oo3Sw19DsqU9EfOAonxF6U910QWY3dHyT1FxJKMCoCsCpibcgGdtdCiouOcEpIqc1OhKk7iJ/Zm/MJBoL7Vj/R2LuO702lo0qHk4I7yaP1QV1RUVFRUVFRUVFTcykQQtnMgByq4OKPj8/epXwXQfiXdGmJeY7EKVIxzO37nW3vf2+GqN3mOkomQtBxRi2F1G8qirWJLrXPzhWsdOgrg2XMv3ap3V9v5WXt0p51dzNxpg0cNOmQAVk7VHg5d2jblCEt7u6KMwBxAkfthnSNzbrD44DchdEE6M5KwIA87E0s8MPVtKFtdSWrkGCZ6lGSWiVaWYaOOEHKT53uB7UtBnW3fGzHQ0LBRJ6QAvGW/BS8zd3yv+exocfFg9sVvu+cP11/+t/DoS//kIV+9IfbITED2Baio4IYNEdk+MYJSTDOd8AuY/T2QM1pjDUwwzoZQIOpdNI3+DtDFQhQLyeCcmOqM7xhpB01pqLZoUxpl2IIcquh9lwvx7Ut786c31ROpU0cVoNatVlRUVFRUVFRUVFS8z1DiGmwWgATBg7ANXu9MZKCbYdMO37RzbBdQJRk/ID+iY7TB/s/jU/AQ64FJAZA6R9K8qynPougbolkjDboKEJSB2asEUR80MHfS9jN3qm7RQEspT5ISSRHjHmIj63RKT32riCXaAgWEGYJKbzWinedt4MAQhMQKPghKl07UcogFYeZGkPSDOA3HB/Kj6W10LPgsCzj+Oy3mZIkkV6difq3kBVFrgxVRRaL2CNpjOjmDe3fdnbu6ONGTUz0+gedP4PoNblYUPLI2EhNxUSxZRFDFHiGiSS+qlrOTwz8h7UTO8OSxShcnLbbmEsKdfJBEhujklOcfxrMzrCFm7mf4hjSKVzA+rgBMSs52k23PIV9PhQf5rq9pqL89KioqKioqKioqKireCQrSb7S3jM92ju384LNuITJUlb1ygNjWWeUY399p0lF1f3DeS5NmCuyEPILfLAcZhlgyuQSrA7t7LzHZUkUETZwxTO6BA4u3lIjhxBJg4xwgCgNvZNVvN0s/u/bz0/niYj47m7mFg7mpF4y7EIyZEMM3kLfgyFQIVkdC2WEhQcKm521gc5GIJWJgUKcx4SI1AmvxHhAm7UWqJkkSBTLaYtpCq+nPlOOR7DQyXKUNTqtTtDAWcUZvot7B1AvIKYbEEixMYdIAtuhIHTCKs+zRI3fy8elfnM7v/ar/ze+6x191X/1rePJIXz7H9YqUnZqgAqHHTMUYJYCO0gN2TpTSDpSsz3hCyc6aiARAh03ezRgsynGJRNXcIhjbWzGVrdq7pDNuJIWRKTy8DDAvkg5XgnOgASUY6dJo78Q1MFckVlJScKTAwGLcEOHhixBvXrFjC+yNXw4lXBYm3NONJwDeLhmp6RgVFRUVFRUVFRUVHyhEgAOIoGvQtQfH5LdYS7bQb+sa/lQwUSO85SlxRtY8CVIMzdRUEEGRY0DhPIwSDFO9i2SJavAiXsEL9xq2Il58x81Z644bmhM2scOETJEhsXc02UjifK0IYsoOSwtlz/26585rEGVjU4bR2VQYRqpgLlnRCZODWeuRIj5gFFXsdK3eaIHVieohm24wBVrkZ1GUlMSfJdbECIf4DBqWjFBjkqfpIRy1xzg/np2cHt296M7uro/P+pM7/ugrffVcVsvhY8I+gAYRTbIRQqtoJdOtJKYBcHSZaCJhctWIURnDyUkPZXVEknQYh2QBGZnDmLx2p4wkxmpEXgNMg5N9PsMay6jkkLipeJCK8VUpHFTfmUrYqf698WCiU95SHlxlGhUVFRUVFRUVFRUV+3MCAntLJwQNvYTu4LNuU2RImjWIwDWwE1lY8VNGmWpv1m0eukgInWVoRO2Ci4mdAmHrPYd117XXTXs2OzqdH53P2+MW5g6aYdAXpZTCkXwaiorKikGhC9yHvvccRMxIEufyWCNK+U78RFUxZkDaCCxQJnAY7+TniInytMgBTNNGRz9KmvkRYAwqfe/hmVAQPahgzKhYnLlP2vnpef/ZF9vHDzePvu4efdk9f+avX8l2LexbxKN21jgKgUWEzTliogtAMe4HXKogAbGOEZObAKqyFYZI7A0pB67JZpIJHSucgXSahrUUGJbciBFxw4fZmlAURLEftmd6Dw2osUbXQewzIWBgi4QdThqBoCrZztofO0v6TtfcxOZ04yV645uKioqKioqKioqKiorb0S6io4SOTmlx9j5EhohsVxq2w1wyP6H5ceUxfhwgTEMT3pnL2CU1cMpu7DxtjEewsAiwIEw2z4J0HHqL5+wDdIwdy9ncnba4aLAxFYczeUY0gQTRYFqM3uI8e899YBbIzR02S0MuCi3RDoliSOEbSX2g2WxSFAgpXOLgSDx2bWA5nhtijTF0Ur+ByygygtyiirGUlEhd42Yzd3KOZ3fx5A5c3NfzO3LxJ3nytb5+oasr5TAshkQBiiIp4fABM42J1aFGgYhVtE7UD5oLeCU9I/JCRY8COVQjF59EsUhkPqKTB3Xi0oFyzgWBjRgy0gRIrRdF1KQ6+XlR7kHZ/aLvQ2HcwmtA8gbdbC2pqKioqKioqKioqKh4+zzLHpiHUXF9JZsrgM/fmciIuaAiwIzUQNvW5fyReIyYNvCeLAbu0U6ZTtiXaWhyFBhxIZlkaJBU1QE2IBJAV6HvVVahve6bu/PZ2WJ+1DaLFhcOHYKyeo6lqtwxdwECaxDiYRa3yVonVETWYmRmISZMFvcFmhsjVZQi7uVEavaMZEoCiAgRObaqTkMybauIY8SpvsfqFT8LgjbDYThgE1GwkQYyO6F77fHxxfGDT/pff7H+6l+7R39aPXrEr5/3q6UEbwmawzKiJtKCAdniTy0XQ9GSVjWJSCKFEQ9JIz1B5agVCz0Rs1FjuW5Qa4xFdQgOrYcFlAXYGKko6zBmglPvrlqPUQw5ofh+nBgQM8CQEsZAUNTbiIxpO8lbm01iPEdNuaioqKioqKioqKioeF8eQ2W7lM318O12pdvVwWfdRmQ4Wpzi4gR8o34j6yUdndYl/VGYjJ1v385qlPvfe5P5ga1qnjYPBFAYQWC1JmJFHqrAzL2IZ2bRrdDZHI+FfONmhKjig9/2vDX5hmcMmmb0XKSCxe8B2VmRyYw4p2cWo3hGxs7f6LZQ3elyid2vKQ9CckhHPoKSDbE3a09jRnBCkUxzN/aEH2z9sJkjiSIGIuewmbnFEV2cz09P2vl8c3LuTu52Tx+FZ4/4+lJCR4Gn7hgtyofhHDkdOQHM0SBxJVCzpkQnAovkqdEpqRPzONCBOjQhiCiDegTJ8RTk0Mp382EqZoOOjhux96ZMnaS+mFt+o2RiSGsYZ0VFRUVFRUVFRUXF9zQD0+KUTi5k9RqdA3LvQ2So0vEZnd6Vy5fQzIGsmvKWTVT8kIRGmWlvmzahdHSgHqIytMzxw5ws5uogsAKNGA8pMRqUAJ2Nt2yJKcKqG/F+K+ugKx9OZu1J4xaOGhAQ33nfs7BAUJSYIRrZCLM+lHeETDSkSX6crXH3IFMoS+wuwSzcUB3ZiOhEkVipqrnZFLNlI7tVdrkUONxZmwf13fFcESTmbiiQ0QMuCxYoLSLh7Hxx7zft0Z3jT/6ie/n0+uG/do++8k8fwZs30G9BRFunMVnT+l5UIRBHQwjCmO+Z5CrRp2NdsHpgPzWoRBVHi7n0dlhkEY7RGGrdJRAaUudotmjbmSOnSKqY3xJyDCoSOOODIiWS1h3fks556LIr6Z4TjQZWoqOioqKioqKioqKi4luNvjgMn8zpfqtNrRBvdH8zkSEsq0tZvha/Jr8FDqDV5f7jn1HcpzXeAr0R/In7dMaUN8jzdDzPYtMp2RuSxoQLFFYJLEF8EOg4bJv22LkFqVMfWGL36OQNCkkBky0XO0kBFXZmoqHIVIRGDYN5LrKeY8J5SFAQYFAkocYV14nqDS3LAR6jbHGfB5q8VItYhTQzSOV16rBZ0Jlrjs9md6W5uA+nF+3pvf7oTnj2KLx5oZtl0ADM0b2TCZXUW2ucg4NyWCnCc2dndff8ZyENxFBOzC4aUWEBAVIiaecwO4LFsZ5+rLMzbWaCLm6PrL7E8kVJkqIFYy6HUDpfRLdeXcZZwMQMdIDOmMiG8NA1WVFRUVFRUVFRUVFRcTuEswVfcH6Ci+ODz2pum5k19Oo7CF5Xl9KtoN5g/bFZjBucBu5NkjcGxT0i48AmkxDD7vaLFkeDmgpBLDYj1YEQobPiDQ3Kyh0rhtB7txBHLVlYgz1pmM6lBDwiTlUY+ywGxY5YLOqRLJuIlaipE1VHuYJmzUD8gYj0qiIMgA7bYTbHYq0pLon3jMkYV9i0JGwtts5203JJU0imRUoMb+GwIWlmrErUnrani/NP/ad/sXn6p+VX/3//5Ct9+UxWS1RBUOeapKzQqIaBYbUUs8okOU1G9wdm502MVYWUe2FLo6ijP0gVGFCogebIHd9rTh/g2cd4/kBOHki7AGrs9WrtJEqAqsMROUzhqoJKlApoMZNPe5qK5O7JoSeFMppUGt0uE6oMRkVFRUVFRUVFRUXFO0A5SL9R9rQ4w5MLdO1BLuI2IoNwcYKzI+3WOFtQM7cBrlpLfmLMBh4cEffiPA8yULj/gmRM2PF4SNIrpFHa2ZybQmC9ArA6EE/DDEyKZPf9NSkOcHeOLSwGjFUc0ZuxazmJzo047CfpAWTVRprvox1GRUOv0rMGFVJq0TXocv/q2NQ6Oca3L6YeWCOrJgWL5owsStlR22tLywREEhNT4Lx1zbE7OptdnLu753Bysj47D8cn4eVzXV9j3w/7zeMyJ3WDnUSKKRmRoNJxiXaUJCknA3XkL0yOgaSuATfX+Skc36ezT+n0Uzr7WI/OpW3UNYrO6BIhs7fkvAyyt42BIyIx8zPzGCOfUXJFMpOxE7mq+VvUQ2UyB66BioqKioqKioqKioqKW4kMVd2utVvDMOA5iC76G7Lx2zIyJMoxYBiQmuROqfgJshn49v6I6WA5TsdT/sOMCSBpRI2zbPwj2pGENQoAwAEeISERgTo3/LtxrnWucRhUlEWLpgDA2aUmOnWL6HTGNevK5HLNVa0yiVuIvMRw8dn+CICyshcOykHYi3QiKkDYAEpLrim5olhCLnXX+PC2pbzxMbCZXjRyD+CGo097JmxfdsyOlHD4UgaGBpvm/Gg2a0/vHH3+xfqLv9g++lP/1Zf++VO5eiNhgyoOYdYMxx8sSzVqPRIDY8wGaTZ+jKyVnSGjEWKCZ0wzYQVxpItjPL3v7nyB51/A6ee4uKN0LETaeEUUK2uNCSgp5SMGkFhGhmKITpVYWpO4jMJmTH9lxLeXwmYUoBapTT51ta25oqKioqKioqKiouJ9QU3r7nzs7n7KL77S7RqIDk4Wza0bYK/iMVIY5GrS54/AUpSYiW/v68HpODwhL7BQG1qmzpg1mUMyk06BMDlFcBi52RIWBGO/a3ZDmJ8kPV9HGYXN58l7gHuEyu4h5fhPlBT/kIpISiGrin2xSFDpmb2GwBzMWqKArYhz5sPAkp0Z3031m9QYiLc5HxKrEimFUpsSqQ3jG0Syy8J2HTRVwiohzU7akyM8PaHTs+bi/vb43vb0T/7pw/DmBWxXGnoGicKVEv6ROkvtb7IPXiYDMOedJP4gSTaoUeeQ5nh0imcfwfmncOfXcPqJLu5Kc6zm8FHi4U9G07qkDdryxkQTxUmXzC5isy1hctDgqMDAHSJDMpkBo1gDirUnXx+JWKrkRkVFRUVFRUVFRUXFW5kMR6d33d3P+PqVbK612xwUVdxWv0rQzJCc+I7mx3R0CpP5tuKHZTP+HBpkMpXfHNTjICpKDRWLB4s9lMdPirUWKVYSgs3uQSw4QoDEXi4w1VnkGlU9sEM4hmaUAItsbMm5msaVTO7oEwcFEfAqrNxL8Bx6CUGEx3pSbNEMLjFiQg9ZG3SX2Xl7MW3cKRRoMPpmUlyHamIxhs01RMN22bI07ANC5GwJbV8V1LXzi4/bxZ3je7/pvni6efjP24f/rX/ypX/9ot+ukYMjivkktnXJXSxJATW8NRLbaWJ7R0mpvYJIrp3h0YW7+NSdfwZ3fsXH97g9k6YVVJFVPkpViK+J59chmkqGZHgcvYldTOUxYR6QDPm7om5JbAWNSowY1TElM6asUN4a3nT6VFRUVFRUVFRUVFRUHGYjmhbnR0hOtkvZrN6rtcSiAcBqIIRLwmHFz4T7wN1/6iFyBKf0RqqZ0J0+1Pg8Gub5yGNpTq/AabpjaXlNr4sKhpFkSEaVrH7ACbMwbEeM1eCoREi1Ian4QkWZVYOqZ/EqQbhXDixsLxOzsVCc/JMDRSaxIGOFSQmcyOGUuO+wuY3WIB07VMTsGZF0KHqJKGMBRTGTyfAYx/AMVUJH86Nmfg6n2p6cN6eL2dnp5vS4e/po8/oFL69d30Ho8+dLx7VMXEbaS0mqDxwOkRy0LcyP9Pgunn8Cd36N55/JyQNsjwFIRUB7TBuUYa/EWZqnM6kLseWhiopCGHYv6liGnxEikWlByMiHzGYQUpZyQKznHZUYCDfJjN2ojESIJJakSjIqKioqKioqKioqKt4GVQletmvdri3vogcO0MzeichQDrJdqnhA4jdPwusns+OLek/1F8Fx7Ng7sNy3TxEV8c58Cn2MsyvHG+1W0GkShJipaakKmFiH2HgSpRs2PafUTssARRoLRBSLS8N4kUhHCKhk00P6itwAA/fMvXLH3IuaCgMFCcBZHarVAqtDcHH2TkTGhLnREsxhYg/YK39562KZxCO+gtG8GuYHsSN3mLw1gNZPS8DxXYziaOOP1BJBAQKAtEet+/Tzxcnx8YMHm+dP6NFX3aOv4fHXsHwDOHKFqZkl0gtAkThhjX9To+RmJ3jnI7zzqd77rZx+wot70hxF5YgTJrEwE0spZQrswnD6hIcdxBjlQWJ9LxYSKulKUEfY0LCKRUSRvpyLiowsyTDWQiaxGJnFwB2PST4BNFVlYDWXVFRUVFRUVFRUVFR8A5PBb57x8y+VO5sLWVVvThG3EBki2m01eCCCENTHm8Y17/OH4htGvcAYkHmjaOTwqcuaBrKnxNk7nniU1C1h82ySFkD2dkxaRSZ3zmOUgqTHE1XBsYMzhlmUQI20W8lcIqOXBCbOjjTrmzcjhk+i5jbVSBxQbF4VkCDihXsNxmIM/wxGLgz7Tw5JEdheFr0Zmg4eYexMyUtYMjOScgRSHgXm6tPM2hilkwpKKCs5JCVkSqZiUnJM1JRg6mnJVophsxTfUqL2IbacNE0zO2sWR+3pmTu7K2f3mtM7vFjIiye8vobNWrYdSgAV62ql+IaqEBSVHLqW5kfu6K47e+DufIJ3P9eLL/j4nsf58PTeKweRmBJKkQwhAXZM5kmxENESV4IpVjTpbLJiIspL7DsitK+ozChEVJJk0G4oRmQxKDuVpvGzsZM3aTxSkKgFgMTCXZ16iCrHUVFRUVFRUVFRUVGHYdTtUq5eaejp+K47+wjdAdbiMJFBzuFsPkyLixN371fu5AKoshg/6NmLf6bb2yVlsoznuhNGkCdHNelA6pkQcoikvEWQBp0g9ZEvAHEqLdjInE0SBDnNEUAKnWW32i39AeI462LFCYukGIzUrUEjnSGuzKmYMjHs/n+K3YjHQcOWcRjZh70wDYiAYxM7iLJN5dxbL4kf9kACoAzvTgA0mldAQASNoxNpLWMi51amA4j6jImlwQI47J9sf7b5BaZT4MBsk7hD1awfwRQ/inHuNq4ga1lyAicVrUfiUTCbRIiStgKU48rOT93d2dnJ3aP7H/svPuuePtx+9dg/fszPn8nq0klPos4OToRZXADUZrY4O2vvfu4+/Tt38SucHePsSNtjIgfMyMrK0f4TbNFzwmqDyaZCmbkQECRwaFaYqCfB5MvB7GKhSVBGojionOEUhFE4ougyodFbQsM3yTiEWfhjVIixGm7YZxOxxKKWRARh1XtVVFRUVFRUVFRUVBgdcXKHTu/I5hJnc1ycHCweubW1BNsFNjNwjbv4iE7u1PrVH4vNOJzjoAdFGVlukCwalGpDLBwlGiGiTCM+pImdSsGWY/qmkRfFd+KwiC2miRupuiLWYcD4aBJi0DDcJpWHMSto8y04Kp2elpJp5gRUaFghAARlK1gNXoKpMDS6LiSpJqi4HLCIT4ybic+K3RyRdxiTMUonSCoWoXw0oiCimfHAvXYVAEZMCow4cud2F1VgQZxYYUoWbuSc/jt7bwIlyXVdB773/o/IpbLWruq9Gw0QIHYSJEWRoGCRokRLlG3aPEORtiR7xssZH4+PLB+NfcZje8Yjjz22j8bj0Vg+9shjjeyhaFKWRJESCW4iCRAkQADCSuw7GkDvteYaEf+9Ofl/RGRkVWZWVnV1dxXwLwrVVZmRET9+REblu3HfvWkCSRrfgZhnk3aX0pqCcmkCw8mamZ0Ip+dUdX+rug/KJ5MLp6G5mHCD3JwGCioVFVagNqPnDgTzV+mFG3BiAdM4FwEjJIbYMU72mBY1J93h6syWJD1d0taVbOLQ8kK5biY7xrgeWa8R9oiMjM8QIHeSZdYZJD2DFMyYJceZUNZpNMjJZbN8GQ8PDw8PDw8PDw+Pt0IdHJSpNoer5yRqSdweuMxgIoOZJemIiaGVJIuvq5kDVJvxE3pFuIzinephQaxZOiYiKrKlqW38EGOre2sV2V2PIkImw5gwtEEJoDIcsFVmIBCpvHeALSERKFSkEMDYzNNu2U9K0h4Tu+KExbCY1Gkzr96FxVpNSiJMdrvQU3zYRgPXq2FlBJR0h0IxSCxR28Qm7SJhw44ngUIgrCMvJKMMKJVLoLJGnq6edhYTac+IVRJw3gRhRRvKhYUgiKVK3HARUKMKiTQIobEzbQx1iASgQqJQHBHIAkZQOO3I6I7d/sBY8E7deIAKRzTlX0gFVJ2jA1VVPVDaf7x99I3WqVfarz8bL58y0YpRUK1OhHP79L5DuO+YXjihJw4QVQECyFxN2FE3WYZugQgYjxHAdWRYqpqAok1Gyj30DFEcg5STWVL0ynD2n/2tJflJTMUUVseq9dJZ/Vvdw8PDw8PDw8PDwwMgibm9JkmnW+nFHWnVwSSwobtkWGuJ7tYZJqEghKjDUdPHr14hHgP6SshepiUMyN2w3gYiZAv3QsRGVj+Ss6FAhKBEk1NmchqietI2bG+qk4iyDANj2jPAjECibe+B7llISK/kzbQaWdInDtSPpCNm5u4SDGwtORFAKecEYWKGtpiOiaLEJE5eAKmUBLJwkNSts+flkYtJKG05sRvJyIaediNtq3BdFrkLBKBtrmCrT7F2EKDQKOlI0oC4xVByOgLJj4KQCz3h1ITDqU/YqQ2wJ1LoMRfFY+T2Qnp1PSBqJIWqjBVUkzM0Oa2mJ7EW4rlJrp9FLXphujR/AOeP0b7jOHUMwknsJBzn0gcblZvyIq4JJuUhc3ai99QILgML723so12K3p+9hF6SPK5GUq1JL5AVoTcJ6TmZDSt3yUgfxV6DjoeHh4eHh4eHh4eHh71dbqTdMGsXuNPqlrdRW9jgmEQG5A3xzBCWUAU28iTw03rFGI11LJKrAmVjb4mtzk0izgOBBIkUuooT0Fh/SxUEtcmJA4fjpN3hTrIk1Okokyg2RKgUCWAMELO0EtOttglDgpIiEOgwJM73FYE0UoCoAVQueSgyF4CE2sWIdst8dtkmseMwGFBpKpcJyHSMaUedZtO0EzaS+na60jenbXJjEExVGo6uQLdV1d2EIlJKAQj3+kgw5zts0AagIuf46YwcujW/zWJRCnUoRG0wK9I+n7SmSM2JrjIhEaQ5IGmAa3fXbXhLZjAKbK09yG7AOGdN6Sc08mEgSsEBFZ2NqiBCuRLuU6oSlmZq0drxuH6eyFQna2Fthqr7oDyDwaRIaFABmdy6xDWUZBwNZAGzUsicVZvKM1KRi2uUgfVmFViQZzg1RrYFSEUwKLlzhohQZhvSfyWBzJDDxZdspDB8U4mHh4eHh4eHh4eHB1iJPEMS0+Q+qs3Q5CxuySPDlR4StbolTFAWMQieyLjc9MXW7lfnpWZWGDo2ofugEWYW1w2hNJUmyvMLGg0ECmvTyeI501iN4zZ1jzJLGnaSihHSbBFJS3aWghWG7WERwCRdWCgthbs1fV7OsrAjHxAgQRTSUirpSi2cmhWDyeJKUl8xUZM77GxHAXr5sAVVBaz3OO3NUVps58IEyeJYsPAlCNYZFBKrQHEUBmlUGrVWqqyIIkiWo8ZJVkhBk8pziBOCJZcfkmWhUPbeQJHEzpPdbynW5EWrjX4OCrE/iYaspoEJAUuhDmZgolKa2xc1DwMkpXJFhxVUVaKQRTEDAxGBYZd9CpLJMVLlReYwKr29LxqdDiMyCkqXAedUqr7B1OiisGeSNzVJ2nCSaVKkeHj6V+bELT3rDC/I8PDw8PDw8PDw8PAoFA1UnababLeWCSdc0TE2kUGKpvbRxAw3lrBUo0oNlWcxrhCVAf3Wi+sKw6zHopcQ0S0TBWzmJRC7OFMjLGzDQxC7tXupEsztDycnK/uPd5bOrb72fHTm1fjCKdNY00mCwMY2joShUt1TAUW4bgx3zwvbTZHYyj4BNiiCBiCxmglSSIDa0h6WNwFjORGysaDWXFSB0lKdpNn94dyB6sIR04wb8fPxUkS8qhltrCq6FgXsCRlyTwzJSvS0QUSB8/908pSCOYNkZbzzsbBVfiySGJOIDUCxjI4KKSgrCpUONIVaVGyiC9GKwWRRlRZKE0cCvFrBnIA2qASVlRRA6vNgPSrQMRzdecZ1PRyjjB96kR5AwoGJRYzNekHRJaAgUDUUIaWwO+Paykdiu1PBoJVhv1Fp33Oyudgh823t/dz3ZNF5A3tsB/Ynp6ZHbN3LJeeh8tMZJfdgLTbgeHh4eHh4eHh4eHh4ABGWa1iqmvMnoVVXM/MDK51higyhoEylKrChiWlQemDkicdlIaQGNZUMLUltUUtWL4DZF3PmOiHYrbmRVSghYWVCT2manDWlsqpNmsmaWTxt1law1QKTgDDaQBEXYmLSNBTCtIvEyjFcaEnqstDdrLW+THNZXSOICCRiczfDEparQW0apuf1/NHy3KHy3IHO8iqfXDRwDkWTRLhu7zD19+zV07nhhKS+GLZPJfPUkF6PRa6FyF7RXYGxFIIQklJYUlTSUNa6pLXWqJAJOGmb5nkxDS6tYNIASaRyANQEBlXQVdBlAAV2x7N2DlfaC9vk017tPpSVKhb5ecQJo8tbIRT7XlNYQdv1knERsd1EdyFHnggUPWuKITWpFiebt83kGFIkxGQ47yIbxRUZX4RYeBYLfTX5mrFvCjyL4eHh4eHh4eHh4eExGBy1ubksnQa36lSuIemBNc0QIiNJzOp5ri9BaENYmQc6hXrsKth6ulvKatefgcgCbMR5SWC3PlZIShATEBYkpBADPTE3eaI6cfBgtHw8Ovta57WXzNlTuHhBWi2WxACgpjRqRCi0PQEGhVPph+2ssPoPJRIaZxqaWUlYy4jEQIcJwmo4e6A0f3hi4aieO4xT87o6rcISN5VRZUM6IAWEWahqFlbaSyhxLpLd2t7yI1nTTJqrarkaZpLchCFtfUnZjby2JiKtdKCDUKmyglCZUIPWQAEiKDTCTHGLOeKoHXWaSWsxqMwHEwvhxAGqHkA1J1JxjSmAlg1BsuErLJAIW//OfvuHYqHeJ1awwzJgaSVFpHoOrgSM9qBhSiGYBIWVEhGJgcHua/c9mR5XzDQOYJNPe9032LMTWceLycYmEslSZYadWoNIhz6P0OH0TbGXphCJ2wvG9fDw8PDw8PDw8PDwsEyG4VZdOu0sbWJwvTCUm5CkI0kHODFLZ2h6gcKSn9LLDNxyokO3nrfBoERo79tn2ZgAafIEESbWajMB62IJIkFQLlVLk5PB1Gw4uS+oTMcTs6byGi+dM401jjvGyg9UZm5AIoTEJAxsbScYhTShku4m0UWOIKBCIIUqQBUoXYPJhWD/iWD/VaX5I3p6HstT3acAQC0JBgYpEmQBlekZpGj10bNigNwpkrKpWWeckcZ9ZpV5+oQLbVEUhEoFOgx1ECqqEAfEihiR0+QRm8+SMBsWJWKMiZrQXsFoieIVlTRUpQ7hPtRTQCGgFiJJuReb8LLBvhI3KhkGHGYUR1KkI3V5s0CELiAksUIaQG35BCNi0pYdzCwyssyYXOBRIBDyr81OnXQm+9pFhp6KOHqHcMO6i0/L4KU8PDw8PDw8PDw8PDxUgKUKlsrQLc6Glg1DiAylUJeAlMQdbi5BEgF5OcaVYjPG5zHS6t2IscW5S5SwRTG5zAjMDB7QOldIBLGwkUjKqEt6trSvOjGxEO+/qn3u1c4bL7dOvmwunIVGHZKIrdQgZgls9EeAkghbyQeQaEJF1gTTJJIYAWW3FARQrgWT89V9x4J9x/XcVTg5j6UpDkIFmgwgJGiFB4lIwiYwpqRQd8/XQmKpSCF9VtIok7QcFhbbAGMpGSrEwUrBMcO6YRAS6lAH1VCVgiAgFRCWui80Vs/RnQR7ihNAgMrmqujuTJoOmziO6qaxFNTP6NqhYOo4VQ9TeUFoorvrggwKbfIJ5oRhoecDh3tUIKDKrEMZhNl0d4W6+8sq1WJYPQ2QoBIC5khi6Q7ZAKa5q7jhHMDeebPFWJDs3MjJFyywGDmXkcUAA8KW9RTiJRgeHh4eHh4eHh4eHsNBSuvp/WZyH154XTiWJE6jJsYiMtwdYSQRBmM4anHcobDsp3W3H/Ws08CaKUiai5Ep+Y2wLavJhoNYI420kGdRgCrUpYqamAkmp/X0tKpNS7lGtZPJuVOmviJJR0zCwMYmqhrXVIKpF4atxElEGImV4lKAtYqanA6mDoSzRysLx4Ppw1jbD6UJA8qGoNjiPa3FiYg4b1/AYeqh9aRNr/rGtJ0k60NhzspmVIhaoSallSprKocUKtIKNIgCp6cQtj0ydnLQtcY4pUd3lAmxmKgjcWSSpnTfCG3VaaiJBpT2SVADVUIMnOuo3SMDWWxH7sSKwzkqsluzZiTM9siRFKJN3K7ZmFeyVEfqdtovlsDc61OgaBGSu3NmW5NxiAYZh/bYYtoI9tZZMA4FL8nw8PDw8PDw8PDw8OiH0liqoNIiTKVJrEw4acaYRIa7t29TMys1qkz5+dyNkF7jgO0/QBsbgsaSAs4nQ6Xmm8zMiYkEUdvKXqEiVEoREQWkNKEQJ4AiioLJ0kyoylPh/MH2mddar78YvfFqcva0rC5J0k7AGCFEYq0oVCpUolEMa2E0iDrEcg2mZmRhgeaPlBeuqUwe1OEU6QmgAK0KI5OEQIIgbhRKBQo1gaaUdumW9yyFkjz/nhI0ThigLCFjUCizfmAjxpI4QEiaVKB1SatSoENNoeoup7D7EsvhsBVxOFtQsqoIy2pYQ1A0YGmQNBuFDbdbSXQmatVh5YyqndK1w6XJY1RZoGASrBwDUkqi9wbqBa/0pZn0anlxjIuyA1AklrOwWhpQVmlCaKNwgROJWUzaXSPYIwd6vTMuNtedCM5OJE9v2cj/DGGHpD/8xSlfciYEC6klW9RjpJkumUbGv3c9PDw8PDw8PDw8PAbAJGbpjFk+AyaB4WEXQ1NLJO5IEoEKXLFFgffI2P28hruVL1kcaVp7oquOuwfSGjl0a2QgFg2giGysKCAyk7FNElpIKVUKqlU9PaVr07pWa9dm2pWZ5PwbvHJeWo3EWN8Gcf0diIiGQJQOVUWVp2jmoMwdhIWD4b4jpdmjujKHooEJxDaiiLGpqEpsPKwTjCjhEEQTUHek5DJDM18MlGLpn/+TtZz0XDLyEFEEVFaCEShVDnQpUCWNoUJN2ON+7B6ItaJw2bHOWTTrrYBe5ge6bFfkGJKY445ETYmbGNUT0wriOlQWIJgGVQIKQEFOKvVGCiNSZiSnI9I4U6sDcfSBcgfRCmxs4i2mYbP5a6R47N3vnAWyChbaQWATdUhvPOksSq7MWBea0//zVpgM31Pi4eHh4eHh4eHh4bFpWctxWzotQAKTQBwNXEgPK2jAyTGIuFXnxhJM7QMd+End5Ufchpakzpxgwz9EWAAMcvdH67+gFCqbJ8KcKFai0YgIkSIUhUwx2h81YEDV8rQKdLU0fSg49Lb2mVejV5+Jz5xMLixCuxl0EkUclBFKQVwKqToZTh0I5o6F81fr6UMwNUflSdIlYWKwGybVHaIRBNBOD2KjUCFJKIkUGG2VBuwcIwp188BOE6c6sPYW1ibDJswqEWswShQqXQqoHFAYUKgkQEZkAmv0YXUXNo8WEQiJMLfKtK6aZJ0v8hH0/EKRQEIQTjrQXhRuR9ESN0/p2mE1cVhVD2E4DaIFyFEwboQgg/kD+6zrGBEUIgG2UTBOW+IIKdshgzZolgADJLaeosbteZq3CtwzRkXJmA9I23ZA9ftdZATN+uwSyTpzUp+V1CR2UP+Hl1N4eHh4eHh4eHh4eFwqqICCCihLPrARkwxsSx9CZLABZkASE3dLF6V9P/uVAjoHiJ66Im2F2HhEJM8pBYSspM2LVetnQZSFfLrGB1uzOsFBvj3plsdiM0dQ65LWQUXVpnBmXk3NhNVqpzaDlVfN0jkVNVTIYaUMtQmaquHMQjB3LJg5Hs4dVxMLKqiCCoywZIUzkWPG0G6ZrLhAyPZXSE+akCkhJI8vcU0Tg4tpk75Q2HISKtRYVhSSthIMFWqwLSvs2mtsT4bba9eL0R2EcLohLEpYnPWHFAt+N+32VSymw+2YTSsxTUlaHDckqlNln4STGE6wriGFLmskF3hkfEKvFSjPGLFtKWiTZdO2mu70MGTyGjcJBPlUyLovyVgHJ8Vw+zOW2UX/2VP8VXpxMAVFTE85st2TeSwHFA8PDw8PDw8PDw+PtyaEMaxguQpsOG6DiQfeXtVDC46ghDqQToxBiJWplBHxuGhWov9O+JbYDAfCNHcTe36SkPUyKIX5A4UsTvsLKRejwWBQkFAQ2UZ9MJJCBayISRNRdxNoXSfZ2KIeg7CkKAiOytRcfOBY48BL0dmTZvmMknZQq+h90/rgYTV3CCcPYGXOBDWmEogi47Qh1t4zc/QQVJlaxFmNMhAYwsiGtyrAVB+RMg9AVhHBBb7FvZhsB0qSKg+QFFEQ6EpJT5VUVSFZvoFAUFRqfuqYCQLHnrjfMssNsVIIV6Wr7pNMmUGH5T+cOiIlgZDS3hNOIuZVSRJurZjgNVWe1ZMHZPIoT55gVXFCFJeEkvIEhD0jipTcwDSTpcAPpL9b2w0UyyiKkLAV3Di/T+7zybBckLgdKriMSkqRDLo4DDwDnfNqnixSSGDJyC3A9dqOsS9HPULNc6IeHh4eHh4eHh4eHsOrX6VQaSAiHQINFlUMay0BLFWxXJOo1S2kTAJOiO9xRVmQVBPQKyj7jQeyA9R3nLIcTnurPhVACAkQiqv20Yaldn9HJUiMyilA8sYIq6ZQuqTDEtVmwokJVSlHs7PxylmIO2G5FExNl/YfxJl9XJpiVUlEgSguvNqGcUimiSBJux5SOYGru40bpwhK+myfySei9BfOmLlhSGqHCd16nwgCBYF23IlIll4i4HJerewiDXC1LSWuRId8g65pw/VuuMDXggYGepoRGw6DLMIRJ0baLYPLHK5Ip4kJmWAe9RSJwnT3xY1EUgPOnAbI40agl2faX+2nqg1xXIasM8ZY957NBuucPyWLKVq3PA58aXooCjIOWTfXhcfQC7Q8PDw8PDw8PDw8PC4FTJIsnTYr51CXaP6omtk/sIQZpsgA0AGVJyBqiUkkavi4xF2JXmrJZduiKpXL84fDqRkTXQ3MRBqDkEpVDAKUAIxWrs4lFicbGeO06UWIboUscw4QxjpLcCxxZKiTQMeIJlGCGtNkVknjSxnFCCMhESlS2fvEEgSmN42SvaT7H1vTUSSbXIICwmkfjDgqhGzOLZvEGMNtTpqCUVVVTwSlOQrKinRKB1mnEtssYuUuzhwkoxWKe71eK7GehcB8YczlHJBzLX1v0kunfSi4mXp4eHh4eHh4eHh4eOxkrWFjKmxYhTEwpJthCJFBGpUCK6cHk0gcZXd3PS491kVMyGgW4+I3hxtOneJj/W4cLECaJiaxVlP2N+ewKZLzBVZ2AUwkmatDXmj39m/jELDXBzP2wAVcm0rMAAlHrQRUxwDoKLE2GUqHRAGiIqv0yDZdOJEzrwxnMZoFm9rOjYwGyNNUU4dNySg9zO1EYiOxMRGz6QDECqeoVUcTKx2QTTxmYbDvJZtDApmiATdpzhjz8I5HFY174uFmuquxwk88PDw8PDw8PDw8PDy2VZSQAh2gDpkNL5/jxjIsHBubyECQOOJ2nTsNCkpiEjEx5jexPS4Nf5HaOlo/B2uLeJlokxFcBvZ6U5ywwCa5IjFCImAEmJEQA3smkWtDEUYb9moTWnPiIOvTKNpHbmkHBzh+YtqFImJi4bWo1Y6x3tETQTARVGolNVUmRRhqQTEmEekOEhEwk1WkMa+CuXgjbVTJeAZtO2zE7gu7V9gFyVp5IANHxrRN3I6jjuEEFMRUaSjTUtwhKIGQi5x1DFAfAyAwlNfp2VNk057vexqPms6HZM4jmednwS1lW7oJLHTRoBddeHh4eHh4eHh4eHhcXnAS8cp5aa1ap8KY202JOxiUxiMyACVqS6dpLUPLVK4hehbjMtEKcjnDHfpr1SymolBpY/FbT1yB1oIis5dkzEw4MHOYcH4XBrfPU2z+imxkxICMhhkMSGySjoF2gh0jRpLEqCTEkBiRrNxAObESMGf2F2laCOa+FQIITJiKNaTAOqQuEiIobBhiYzpsOnHSSkxkhEEpIBMTJ0oM2jQWdsxD2jpTpG5kPK8JKZpqrG87kaFenj4cxMPDw8PDw8PDw8NjDzIZLJwIJzZ7NYakI1nQ5BhEhoklagObbskWhBhWgMhP6cVjV5eXhQhWhAENCzZD1fk7dIt0EsPWYdMmfri2jMwtEmywadGvId8IwjoVQh4tu3UiQ4zbGKJCDEV1d8GAabNJ4lYrbq61sRYGU6VwulyaLJdKthsmDfPANOIjNfkUcuO3maxSaIVxgS+I6QuEgRNOYmPiJOnE0jEmMmwYDGikgFATqjT4xfEO7vVk5yYnMzKZyua9HKNYqHVTuM4jYzunQE/ZAZ4L8fDw8PDw8PDw8PC43FCKKlMYViVqU21OzR2kDXKMEYqM3j1kqkxTddLP51uJbsnL5A1MhBMv2DYJ1yxBmIs1JI0KhTTH1GWdIgrKutWsL7gR1hEnMm4hL3lYR8YLCJBA0mGOJeok0E7idiJtoyJR1QBLyBpQkU1WQc6iUogLYaV2vySxBjE2Y8WltKKAJAKJ4cjEUWyixLRjTowYQRab7OLMPCHVfgBlqSRoiRA0KUnA0lO54HhshRTpil4/UGb46f6VXlLMtlJ+ZbDIQ2SDmsTDw8PDw8PDw8PDw+MSgFRA1UkMK91fkliMAaSxiQwVUKmKOgRSQARswBtkvDUojB4P4apjKYZf2BTT7rPKmrAoq7xwJS6LMDMbEbZ9J1aCAMppMLBolYHSJ0oolOxbVGW43JDutk13u859kyx7QKgYWCfdIUESmbZJ6gnVAp4OsRZQSVFJgUJQyC6cNWvlsWmuAkZS11K3iwxgABI2UZJ0kqQTd78nRhIDtkGFIFWkxHYMIVJAyvI4ijLOQbLdFmTbgUOYMTGb8A6pfUce7ZL/W5wu7HfH6DPLuGhSS3xMiYeHh4eHh4eHh4fH5YDSNji1ZYmMjkTtgUsNVWSIMAhTdRrDMseRbyy5/BgeR4GF5+Xi69RRT2G2rVSx4EJJ0qofUy2EWNUFpnoGW9eP7HHoM95AgO3lYNhqnTOvS/uTpUksQ4AEJAKYMBqDsUhb4lYSxwbbRk1oXQ1UNaASoXKBqFjoqOjuELmVorCx4awxmyjhyCTtxCSJREzGGp+mooru/2yHgwIsJKisjoEKDJGgiKQ+Ipn8Y/wsoCGHGuFShIhIPhmZQkNAYFsNQB4eHh4eHh4eHh4eHlsoRlCHqbunLnV/EN4oyhhCZLCBJBY20GlyYwXi9rpMTo9LzmLYuAzbNYHruQ1cx2X0br/LdiwzcRMyRDAr1yVNHoE8UNQ2H7leClBERPZEERzb+gFTGQgMjV8dTtawGGuoSUhAxJk1pwGnkgBNRIIEQgaQ2SRxFBuoR8FEGEyGpSlWE6GqaArSvWMjaQYrEWoSG61qYhNHSdKJuZ1wbMAIGbGKFEQk56ppRJjBoAh1N82IjMoJLbpvOs47YFK1inXbwN7ujX/URAb5ouY5Jn1+oF5G4eHh4eHh4eHh4eGx50phqkzRxIxZOg1JJHHHlpgwLpEhcUeYpbUKy2f4wAlbkPnukstw1IqV6eAb4Jg3F+BO+BZIXy5HbxSulQHS8I7UTcIqFxzlgNh7aZrLAb2kD5tYCrzpLXzp2++R3MWAR13ni5sKcoxBoYpPX2XpFzbO/tZIxNAWaTO0mCeTcDJU5YBCQk3p2J0LqDAnzO046cRxJzGdxEQGDCu3ReveCbkIRTJ5TOqFmupTsmjU7hoROaeorHwDx2mmKZ4OuPHJ/Dy4NBh8EDw34uHh4eHh4eHh4eFxqSDcWuVW3QrcNapg4D3yIUQGuu59BkCqzdLEDPgEg8tGZSBskka6c5WkCMjAqhVxY8+Cre6dOENUXrvnvQfW3tIFlAqLWNcKDGiLQp4t5G4QotLakgJO0yC5Y4frOkmccYb161DWrSIQ4UiSKOZ2Eq211bIuT5fDqXJ5sqQrIYUkChLTRRwbiRJox9y2vxsGwySgkAjzRhIWEesaAlafgYwYEKm0VSVlmgiBrBYj9f3MLCwG7qnbk77pt7oKdBxJ5pHhfizkqhQO2vY9MjLepddjM+wU9WSGh4eHh4eHh4eHh8clgFP+ky0kiUCprZh9kqapeapO89oF1CXy8atXlNfAYipHP5+xOesxHpkhPXVA1keyscx27RHWGhMLTS7SoxIgl2gIcD78AvtSbHy4aH8PK8bINiYgkqW/YnE4kkokgBDJho+QMyaNBCJuR5K0jbQ5mDR6IsQAmRNjkqQTm05CEVPMyKxSTgQyggJzwgRzZ1TpvsUU2iRXa9mR7jdmBEEuKnHOpLbLZIwzANzhceITLMSU5CByKyzOM201QbVAY7iOGZ9T4uHh4eHh4eHh4eFx2UtgCoDINoXgQBZjhCIDUGmXVCJRk5urWCpjUPZzesnYCuxpEWTg84gDuIzCyy9yAOlqKPfDGHhSZCUvybotp8mdLp0VQEl3kY1GGTi0aQQFtqEfiNhxKAw50YBpLwcAqpRuIbdwwql0QivtHEWM4aQRxVHSaUWlRlieKumyQhJmY6JEYkMJuOgRpJSNYMnlJlaFgWgpPlv4sxCLMgxskFmcuYhK6Q+Q7mpBUIl9Hfe7nYx3jBxn0Z1cu0Gk9KdUkZLxFmh9RbvTsk3blM0pjG17snh4eHh4eHh4eHh4eAwFMwh3vzODMWDigX6dQ1NLuLkqrdVurdJumPoS1WY8kXGJyYxC+TiQ0XDiBhxEQaTBnjIOY9LHeozlseA0GG7jKJmtRk9qIcXhS6oW6LEeWeZJJvTI41CkfwdkxIRsmA4nGzCQ6VEwiyDNfnKShbz7xRX74hourMOFkxxwImwSThhiRsNSVVQiQYE4ocRGniLlE5TyA6mPJmEv8ARYBKj7dko9OQRIevYZYifQaVQIGLvLKtmcUOh3ECGbySJWYIIkTnJB4jQ1mJqKpsOzG8P8LS8yMqKm19DTfw5J75D2+KZ0hZ7C8PDw8PDw8PDw8PC4BAjLWKoAAHfq3Fob6Neph5ZQSSxJYssXQqV8a8mOQJxNpqxnDvrKQsxaFtyBkIwnwI3KC+xPrOhzWCjeM+8vO3tKCewJLVz9y64yTsM70jFnrRRYoEPyARZoBCzsJ4DKtyDFsNV0AlBAFPYed3V+uouZWgERNhMHMBR8RgkymqbX5wIsWbxKNkIWZqutcIGtGggToI5wI4lAAlEYgGbr6GljWNnxFJjvuyU4xHExyAAGISYkBUpbHQiSE2ogW6MOAA4UIAgBgmEwyrXFWC4jPzTFo1ZgMiRXy3SnznS32h2Vm0oiLcIEhMhMJvXs4O4WLYlhU2QGmaT2zg2BAknDafdLapKB+TJFww3O9DPeKWMr8MYiHh4eHm/Oj3ZJtPbA59sv3G8ay1xfpHJN1eb0wWtr7/ip8NB1u2SQ7ZcfMvUlbiyZxpJZO29Wz5rV89xc2bjk/Kf+aen4rf6w7ml0Xn2cW8vdI95cSbpH/ByvXTBrFyRqbVy4dvunpu/4uSv6Duq0X3ywe2bW7fm5epZXz5vVc2Li9YXtsVsW/vz/5o/vWwI6oFIVVNDL7NyC2afVb6BSwgmGJSxVXZuJx0W+VTeILrZSCA388eKpld7AJK+ee0kZzqKyeFN+xNiw+AD29hn7f8moDSnmx/ZIj7EKPikQOdRr0cC05O6RLNl+ZbU7QGpfYdw2rXmnYvt7zBwBl1Cx9ZaxdIWNHJGcuslaaSRLpE1DXNiqMpjdLpLtZ7EvtFsTUZJSgYLdLUn/nA+lE4vzm8WcIKSmGJalcD8JGuwO0jCjQPe7VZJkrhx5xuvgzWXuozjwBJW+f6BIdfjifNzT1KfherwZwe26tOumXZckovIElSepXEMd+pnxeAu9C6LW+c/8vfjcS71HmivcXInPvtR67OvTH/5rtfd8bDeMs/XMd5uPfd0fr7cI4uVTK1/9tb0y2mTl7OIX/oU/ah79H6GZ1xa5vgwgFJapVN0KkQFI1SksT3Y/kegQ2BBpP6VXAKlEQUbRGtuorgp0gRRtOke8ppimsWtAeaOKSB4Rm5EMLisWbUOGwDasK50PBYjTWJClDMA1bCGLpI0bKILMxAJKjJHEoGHrgIFAKKiYANhKoTI60ea8MkBBbbGVE0KKLp/OypdFVKbcMQYcy8GSdp3kxqObr32rvh0eo99nBSUUOlbMcxlvYZj6YnTqmejUM2Zt0TQu8NqiqS9xElOpQqUqhRUsVRf+/D/b1buweq598vHk3Mud15+K33hm8GUkrOqpBTU5r6bn9fxV5be9T08t+KPv8WbFyrf/Q5HFWP/sN/9DePC68MiNu6BWPHP5N7r87d+ITz+3pZeomUNzP/W3dpjEee7e+h9/cUsvCQ9dP/3B/2YP/7lZPr2XRrt61l9JPDaCmyvSWKbKJE7MgBqsqBhCT2iNQditkHSIpLofx31ryRVkM1IDzrT1AIewDGPW5gMrZ9k9vM2WX1Jwycg9HjA1quhnAIbupgwQlfTW39MzYaqlyPJN09pf2SNkW1iABa3pacplKHKDS6UaKIikbD6tCDAOPp4jz4S0kSblMQgojxmRogSAsweZhWyGUe8c2LDTKV82NoeBnuvYApuBfrLeyuRFe6317L3xqWfi08/HZ18a+GaSVmxaqwYgPHbzrt2R9quPtp66u/X0dyVqbnLOR834/Cvx+VfSQu4bvx4eu6V04rbyVbeFh97uTwmPNxOS5dPNR782+g3ReOKbu4HIMCtnr8RGz0Qnn9jaa04+ATtNZDQe/cpWh6Gq03v7T8/qmb002hVPZHgMqjZKFShVEFFNLWBY2QqRAcCturTr1sbQUFgdlnricbkK/BGl41hOn+vvBotsKbX1Mt1JFtkap5LaXGB/le58PSGjHsa6Dd7PemDfwzZ0BMWKMcTmlthRKgAiJkBkYUQmYssu2DcLutQWcTIONCCCrKxFp/PdSARAodoKJZCZaHQ3Re5n7m4b0LqbCAJw7nOKaFNm+xNVewfdykmkR0vkVM34Z6Qvzzc/XOk0eSHGWxD1h/+w+fgfxWde2PNcTGN59Tv/qfn4N7a9hujkD6KTP1j7zqfDozdVbvpg7Z0f9aeHx5uEyLjw6qbLxOde3g1D5StEZGzjVe2XHyqfePcODqPz0sNbPrLLZ/b2dXtPUQPJ6hl/MfEY8Dlal6lU5fqSxE2kwRWTHlr1Ri2J292STAWgA+DE+m14XNY6KPOX3GbN2EvlHBhGMZLKQLwCZo65r+g2mB6XHpKKJqAvqcPZeq6fmT5XzT5LiHzz4mp97j3M6CQXqYDBqjyE7BuJERLLHxCkBpvi+kDcPXkRZEcf2N9QYOs9HGk9bL8TkeMuBDHtImHLbOTdJ9z9p/ssM6ITgbj4lmz3ezaj6ImJS3I+e/7iLYyVb/z6m2AvWs9+b/WeTycXXtuRtUWvPRm99uTK1/7dkb/7BX+GeLwJEJ3bnMhIxljmkheKK2ddIvueKKcbD31pB4mM1tPf2c7I93izw94iYrwiw2MAmEEMIEqnYZbPcbsxcKmhigwsValU405DWmvSaQDs81N6hUoh3F7U5aC8km0wC3hF8il6tAKOYlvcU9TzjABxmR0ChTaT9YzB2HOCnPeRuN4Ma+IplkFgGyGimLUgC2jLWxCBIlDOl6IXAgKpzwlnDqeYx+COIqmKuTMZfWHXhOR8RMWqTURcN4tlLyTVYti2EyZGa/tJwoyuzSQFpgKNnMMZUzeQCT7EV+iey/B4s6P1zD2LX/yVHW89pD2u2fbw6H2GnprfdBlVm73yheLqWaEAOb6sZUinye36Nl7YfuGBHRxG/ZE7tzP41hpHLRqiZt/9ULU5bi7vmeFeCZbNY9efFMY0VrixIswQtaTTtPGrNB6RgYSlCgQlaNe5uSJDWBAPj0tT+0GenJJW2xuoh4JsQzYkbGAey7qe8xibQMk6dlx/CEPGJuUprG6VxlITKot3FWCBBMCQMwoVFCAbLCvUHzuThorI1mfGaU+yGXBEhmTWowUiQ0iIbb+LYavNsN8zNsP2nHA+X1joz/GFt2cxPDwuFYuxS+o6j7c44nOvLH7xnyeLbxQf3IZQSM8d3XSZYP81V3x/S8duWfiZ/2Xpq79mlk9dRvZk+6KA5pPfqt70YzsxiCQ6+YPtjv8szV+1R8/whZ//lZVv/nrjka/uidHOfezvrXz7P9Qf8Eo9j8JHaKVRh4AEwhJ3bBbvgA/Vw5wvBJWm8gSVKhiUuvWTZ8uu+BG9iLoIcXNTSclcFPoehKwT4YpzGxvGn9lwukGKpCII4excLaR74DjlJfblq3bXSiIKRBFoQq1QIyqbQ0JCKApACZAgCRArZRAjNrGJWWKURDMTIxgFrDIzTSlYUeD2PTN7kSVEaaBKF8p9L0Br+73wCOVwK+iFn/T8Psc7G9FX6ZtCNsDPiceegKkvrtz9ny6RDTRNzPgZ9tgFLMbrhRz0bZ7qwb6jNH1g9DJq7shu2OvS8VsX/sI/q93+SZq4TExisHB19ZYf395r6w99aUfG0Hjqru29sHLLh4M9y2LYIjCY+cjf3PeJ/7ly/Qf2xICnP/RX5z7+98tXv8dfoDxSMNPErJpZAFJUqlFlcmB/wAgLT6SJWaxMYanafTEpP6VvBjYkq+vz9FXI3TKk98c8fUB6uaWXrQbD8WmdVASREi4sYpjZ8Rnr9xf7ZmAYl4GDqRM3X27aSJAYNFPAGAhqcb0eYERikAgk7r712I2LrCjDOW0gADnSwwo07Ma2Z6Dr1ghFgQZlrEbOaCjlvvqQPpMRHkVOYz38W8XD4y2MtXv/81jpfaipNhfsvyZYuArD6pgrV1VPZHhc0dP7e5+xLMZOfGIJyrN/8r8bVQ/f9MHpO35ul+y4qs1N3/Hzs3/6ly7bFmc/+ou19/8MVqa2+sL41LPcXLn4ATQf/cpWX0LVqdrtn5z76N9+E5zq5at/aO5jf+/w3/n9PTHayrXv3/eJfxQevclfozwyLiMBVKhDLFcxLA8UVQzzyECJ2txclrjTfSUq8KXNLmYnbIcBDqQbio9n9WmfFiCzgMxpjd4DaftGaiiJY8Z/XMxubGf9CCyFcbtuEJFuUZ/5T0hxE1Iwm8jtLkfTKtkc5tOr3ISjOOcJw13EqGJQhFpQ9V6arwgtiyHG0RqYD2SLLEaRaSkkj6TbsuYZII5eEWsC6hiZlJ/gzAM0swLlNMokJWvsrJFnM3YIxfedn8+3Gio3fajz2g949fyeG3n7xQfGESQHR2+a+8lf0IW7zcnqObNyJlk5bZZPr93728PrBO+R4XHFUH/sa61n793JWvHEuxZ+9l/UH/z9davV+6+ZeOdP1m57q2f0TP+Jvzj1vv9q7cEvrn33M1vjIJ74Zu29H7+YTZvWWvTGM1v6QDl5x8/W3vOxvWuNMXiv/McPj70IrYENIGFQkU6LW3UwCehwPCKDjXQavHKWoxaAcGsF4LCf0t10VQLsoyPGNQRN61McXL5f4WtdluOxHfFHKlHg/oDZ9ImUIhHJpg1ljAu9dZ6wiSOY6lK6lb7lIRQKWSOaBCQRMSIJAiuN5UmqTKNy3J97ofXFdAoNdHvp/iNEvEjlNhacUIvEAzoVSGovypbgSF0/kXMHUEFGa/rJvVUMUWfg4KPl/zR6eAzF3J/6JQBpv/pY9OrjycoZs3w6WTnLjaXdP/Lm0/dsuszk7Z+cuuPn13+emFrQUwulY7fU//iLI14bHrzWnx4eVwqtZ+7Z8XWGR26cO3Ijt+vcXDbNVQzKamLWe8H0PquE1akPfGqrREb9kS9fJJHRembLeSVTt3/KHy8Pj10BYzhqSWsVkg7HHek0Nzp9jkotEWM4joAZVABK+/m8UsV9zlD0PC8z8iLlM8ao+/ur9DRrs9cxgYWWE8hbT/AKppbk2gNJCQUcuECauqGczwOIoxecVQYAd39nO0VpMseIjBDrl9nHogiAca6hqegFyDIPilKDZRY2IJFATGhIU6UWzh6uzB6lyrSoQBEKibBtBcmOVsrToO0qkR1gArDXIyTFQyapXgMy909JWYwio2EdQa0TSMr5iOtPsR0qWOg6WeemamUvCN7xYWvvO4+34ilQPv7O8vF3ul/arz524XP/cPcPuv3M90YvUL35xzayGEXQSCV5mE2Ih8dlRrL4evTyI5do5VSuUbmm5/w071AVs3wmPvdSsHD1ttfQfPSrfho9PPZuBYxBCMzcroPSqPRAOmJ4agkpm9qIanpeTc77u69XpJKXUTXSlu/mF++w5/9C0TXDlay9XoTMiOIKzsCoatmyPMrW3oqUpRmY7RdybvtJ6Q5BpoDAvkns21zhWRG0JhcuetUpPdj2bgCIATHS/Z4gmSDAUiWoTAXT+8sLV5f3ndDlaVCakQESa6ORz6IlGICdZcY253Vdt0zvYbt3OengdlhSIQmz2HYbZEQiYmYbZ2J6JpSufQZzYUavxSRbV39V7gUZW74gi2c3PPYAi/HKw5J0Ri8THn/H6AVG3IsuX/1u5VtLPK4QOqee9pOwh9B88tvTH9wmkWFWzsZnX/Jz6OGxR8GcdGs4rQGAgtLGphKHoXaDWJ7AUjUt40S8R8YuxxjV0YakjCywoq+JoMBqpC0sCLvWAtL1iihNYaDKpaBSCsulIAy1IioYW0CvpyZVZsCmAR1iOYsAsCQYMii2YaUCLJIIxCJtkQZAOwhlai48cM3MNe+bu+6OqWPvquy7WlWnmMiIMZIImpS+SBUYvUOAsgX6qfczIAwz5cRCComz/yw4gFIx0ySNM+l+p/zXnv0n9nuAwkYhi4DP4Ng+l+HhsXvP0lZ902XKx24ZvUDp+DuDA28b+FRw9GY/yR5XCsm5l/0k7CqUr/mhEc82Hr5z22tuPX/fxgdr7798oS0eHh4Xd72OubHM7jNJuUaViYFK8GGKDEzv+FsrQ4k7kETDuBCP8dmGDT+MrmABJe0LGERJbInL6OsfgUJ6p7v3rlJCg3osBqYCArxsd977PB6gJ2Io7r7kThN5Z4btHCGkUCFZ1YQRUYQxmASEBTlLYMmog8y5QtI8EZSi4Yh0X5HaglI2ra77In1DIIrWogMqlbE2G8wdKc+fqMy/LZw8SKUJCEugS2kvSu+dhAP2c7uKDBymhsDCaYCZq4f7l9D225DTX5DdC7Z77uw+nYsHWcpSZSRIr8lonYAkVZR4cnPM0hAEPIXhsTdgWpsnBWC5tuky1Xf99MpX/vXGx8NDb/eTbC8LbNbOm7VFm42/kQm6ddzj1V7jtUVurQ5hlG7dXWdXY9nUL0ineUWGGl84GV2yW/TcXEnWzl+pXdu7mHjXR017NX7j2cHvkrjdfuXh8lXv2saaG48MIEEq172/8+IDe8KryMPjLV80IyqNZJmKuCNRZ6AaXA/96J0XYRsF+R47UKyPfDbvDyBEJsA0LwQxdY7slfCFqI+RupmN6gskIoWUZnISaVTKEhuQmVNm63OWCHiZaj7IlBMpf4E5cwH5yDIxA9rYVRZIUFQgFFq3TyaVIMUcRMKRSWKRWIyx0Suu/wSM7Q7prpqASMAZgQKipUGsuQZ1F3LnvSJEATIsbImMQGG5qqbmyvsOB/PHw7mr9NQhXZmFoCKWAbDBqwgY2LEre5Aoa+Qp/LfFt3NvjnDwGVU8ROkMcfoCa2hB9kC6VBNnjIGMlAWX2CUp3RatU+aMw5V5bDybRXrnLvm589gD4DEUGWblLO3fRO9du/UjevrAgKJuu06f0ann4guvmuXT3e+rZ01rTVp1idK6EYNKcPBtwfzx0rFbKtffcZGT0H75ofjMi53Xn45ee0I6jXQTYVVPLajJeTU9r+evqt7wo7kVSPuVR8ws8yCbAACAAElEQVTyqWRtcd16irmbEjVXv/sZs3YhqV/g+qJZXQRJhg3gyN8d6pa6cs9vmfoFqV9I1i6Y+qK0hx6v2u2f2kYJbeqL0etPxkunksXXkqU3pF3ndl3aDeF0tHr2sN5/jZ47MnHLh/XModFrc6Pl+nmzcr472qg5cLHJ/qFyp9F57cno9SeiN57hxrI91j2mJjj89vKJdweHr69c/Z4xd2rlnt/qvPhgfOaFTRcbvUDxgK7c/ZumsSyN5WT1nFm7MGzXRh/NIe+vM/GFV+Nzr8QXTibLp6TT5KgFUUs6LRHjlqGJ2fDgtXrf0fLVP7SniRJuN0rHbh1GZNjskru2QWRE517emLBL5Vp48FrTrl+ifYnOvBC9+ljrhful3eSoKZ0Gd1qgtCpPUFjtfm6cORQeviFYuLp04BoIyjuwySRqvfRgdOr56I2nopNPbHxezRwqX/2u4MA1l2iXWy983yydiRdPJouvSatu2ms2WiJad5ZWrn1/eORG/+fVY2uFjw7VzAGanDOLr3Njxaye31JqCUMSu9QTaTe40wQiP6cXX6PLeHxGf2Uq6+glGVBTuhvkA9JXs9yOjMewDQOUExn2K28myGUbgFeKuZK8WMc0SzV/RECoUKeLq7tFMPXFICGNQt1KXSkUhUjW/ZPYIEOCbFCcKWZKUKAjaViAMA00AQRLRSBZvsC43hSG9PlQky7BxJSa2a/mDpXmj4ezR8LpA1ieEVTdN4tk6gurbMhpmD7aohgZI5eSGcvsUnOFhlX3QKrxwe6MoYvaFenjKrCXGEp9HhkFoi2nuDxG0k+ZBUn3FGJhn2vrsdtP2jE+XndefSzYv3njenkzK41xy4PTz9cfvbP12DdGXDElbkUnfxCd/EHj4S/ruc+Ur/+RYs05bk3VXGk+dVfr6e8MjGyUqBmffyU+/0pax37j18Njt1Su/0D0xjOtJ+/auHx47OZ1BEH9wS9e/GyY+oXW49+4JCVlfbH+yJ2Nx742+n51svRGsvQGADQe/GLlph+d+dBfxrA6fJ1bG23r+fvaz32/+fz90F4btkz8xrOu7g0Ovq3y9jsm3/vngNSIdS599V83H/v6OB8/6vd+bsTTYX9HVeuZe83yqR2c//Yrj3RefKDx5N3S3FwVxY2l9gsPwAsP1O//fHjslurNPzZx60f2JpGxVjpxW/37vzv0lHjim/wTf32reajtF+4fcAQd49Np7uwuJEtvNB7/evu5+zZSJ/ZpY+odA5blfONZd62g6nTl+h+p3vjBbZf30bmXW0/d1Xz6Hl45M+pysXyq8fCpS3Hg6o/c2Xz0q/HZF8c8S8vX/nDtPX/Wq5M8tvBpRAVYnkBdsgmsIQalgTXP8NQSSa0xuitSyk/olSzrpRivuknpKKl6A3penZlvgiMyKHNQUI7KSPtLMKNOil6R0FtTVpXtolM8/T+LNMk1CC6qQwEFdm8UqkAJQxJx1I7ZiAJCVFahAMKMwFrs71ZEQQjazodYQs8YZsOCyEGI1Sk1d0QtnCgduFrNHNLVaRVOgApQhEwESIIaUO3morrwHdJ9pALHVhCLUKENaT275ivxrb2Lu/8xcNSJdKDJk8IeuxhqYmbTZVa/+5/DY7eEQ1wwdhCmsbx232cbD315a3XF4mv1ez+XnHtp38e3kBHTevo7y3f/R145u4VawlIn445q7cLOXE/qi5ekLHng82sPfoG3snKJW81Hv9p++eH5j/9PwcJVg4/g2HvdfvWxte/954F3lYcyGqdfiE+/0H7l4bmf+ttqan7gMmv3/954LMYWEbfNyrmdOclXztQf+XLr2fu2TYu487D94oNTd/zFYN/RvXXBMc3V2rF30PT+EW+99vP3VW/6sS2ttvn4gINeue793Q99mcbq4hGdebH5+FebP/iWxO2t0TfNlcbDX248/OXytT88+1O/SJXJLb185XufrW8xy3YH0XrmnrXv/0585sWtUUvP399+/oHpj/z12m0/7f/Oeoz3N4bN4htm+XTKRYQV0MHYRAYp1CEoDSIYlqk86RUZV4jHkH4lhwws54uP91iMni0GpAIMK7pw39IH0m/pf/2AjL+AXdtU0K3ByXldAKZZrOCYHEtIABCRBtclojQoRIqARAGjWDmCc89gQLJeGSRITqWRzahSCnRJShVVm6W5Q3r/NcH8iWD+mJ6YJQqsDsag9c0oHIArKGnZhMvY2CZGjiiz489ZjEJOCfbl1noWY8sT3mMAjTECEgSBnxmPXQuqTm3+lylqLv7+P535qb9Vvuq2SzeSxhPfrN/72+7m/zbQfv7+8//lH83/zC+PWcavfPv/vbQFW31niIx46fWdHVh08gcr9342euWx7b2cV86e/c1f2P9Xfi3Yd3wAfTPeaAVk28nE0SuPXfj8P9n/F//lQF1GcPCS0G3R8pkRnUFjUxhnV777W60nvrUjQ2o/e69ZuzD/M79MpYm99DG3UwfE8vF3NIcrd1pP3rUlIiN6/WmzPECnULn2faZV37kL1LdWv/0bPIZ8ZvRl6sxv/M35T/7y+CmzFz7/T9rP339FDlaycnbt3s82t68Ik5Wv/ztgU3v3n/F/aj3G+QwtURvDElWnIYmGlR/D6AmRdl3a9W5FF7Vl+Os9LvE1flQ2RM+MsVBz2seLaRXpP6kXhkupSL+ljSWKenEVWQ/KersNkV2XUuEGSb1JAJF+SkchBoghUZmoQmpC6ckwmAzCigpCUmRQYpFEhBmQhQxjwpIwJ4aj2EQJG0ZTntAHjlSueUf15g/Wbvpw5ZofLh14u6rMAmg0ieJYgSBZskOXgDRCX2vGFZ2gnstN4atolWIprfw0wd4PSFRcrqfV8JeBbdEZbo4BIUkSPyEeuxnhoRvGqsFWz1/4nf91+Vv/T/T6U5diGKv3/c7yl//PbbMYDp2XH97U9QAAmk/dfalZDHfjfQfWwmZghbb9gvy1J8599u9vm8XIcfY3fiG+8OqG0SZmPIVL/d7fvihy5+yL9Qe/MPApPXXgkhzNtbM7sJLm8k6xGOk8nHp26c5f3VsXHGfKUz4xygWj/dJDydIW5CqtFwbklYTHbsGwKsNblraEte//7vKX/9VFshjpDDSXz/7mLyar58dZePEP/+WVYjG407jw+X/SvOi+tpU/+vfNZ+7xf2o9xvj0TDS1oKYPWCGGABsQHp/IQKrN4MQMiHBzlVtr4Jvhd1HxXsjjhF7CSF4vZVUpksriNlXKXlgmg9QGLiMVZqS1a7Fe3c3HXfqFAtiXrmGdULtfCkR3vyCksKqDiSCoKFVGVQIVgg6RdBrWIiKGhRFiRVEYJtWa7NuvD57QR27Ux28pHb01OHRDMHtMV2cVhVpYCZOTf5BiChi19dbIfDF2SdGP67/SUBrr6pqH1VDOXeRnAWUzmr/EsxhbPUEt95eTQakNjYfHLgaVquFV43lbcNx48IvnPvM/nP3s/1h/8IvxzgVbNh69c+07/2lHVlW/93ONx0d1FnROPrH0h//7ZZjY5MLJHVjJDvWnZGzUuaVByTLbu9otfelfrR/t6oXLdt7WH/oDM6iq1DMHqDa3O2kp2/K9w2g/d99Ae4jd+1fSWm+WrroNRwpJ2oOyVIeh+cS3Nz5YspY9tpy5WLRefHD17v+4s/Nw/nP/YPOT/OEvtZ6660odqaWv/tpOpRcvffFX4nOv+L+2HpuWvBSWpdOS+hInkcRt4AFExuDWEok7EkepR0ZQQu210FfsKPaaQ7JSlBDYaf9dxiYWTD17zp5YbCfJflOYu3rm1WveV0KpEqNn6Yiwy5U4UpyktEvCuWT0GA4GYBd1QqKRUAEqgRCSmDAGFYmOkTo2zcOwiEq0lokyVyaCqYXS/DXh7FGpHaDaPpmYg6BKoJVh5E53rQhIWpAYiJ2lzNjzdXnkLYIymhUrJsAMmd38VBDxNfgWWYycyLAGyqyU0lr7mfHY5QgP37ClW/TxySdWrLVBcPBtpePvLF31jvJVtzlWdztFwlN3L3/t3+7g7rSevnuYD2J87uXFO//V5ZlVvXACnr7Y+5CSdIKD18ann9+RIS1/7d9cpOalbzLPvNB6/r7Kte/vjdZEOzjaTZiFtQutp79Te/ef3viHTs8chJmD7pfotSdH/EkMj47rvKhrcxhWRySVjAMabpJ6MWg88pXy2354r1xtTGetOxWVydLxW9vPDWUrmk/dVXvvx8eicl55eKDVi+uD487FtpaY5dOLv/uPd34elk8t/9Gvz/z4fzv8wnjXyjf+70tXaoxeYOWu32w/890d/HzUfOqu6YW/5P/aemx2qdX2D1+EQRlVMPBzxRAiQ9isXkidq0UkicEYUP4j+GXnMaBnatlnXmHvmov94sKViIqLracy3L993IZCKjqB9hs77vbM3W5hjWm8pYhkLE9K7mAxHsT5W2KapSoIpFFpBSGJForsKhglUFgp0fQ0zc/J9HwwczSYv05PHYbSJAUVUAGhIu5OMjtdDFHqqtEdB+4l1VIvfmS8QXsK4yLojPy7k0D5OfHY5Zi4+cfrD3wBks6WS1lrvli///docr58/Nby2967jSTUtft/b/MLUmUq2H8iXDhhGsvx2ZeTjU0NBXRefjQ6+YN1kRMO9Yf+YBx3z/I176HJeSpPmPoyN5Y6p5+HrQvUp97/STUxt/rdT/Pa9t06g33H5n/mHy9/5Vdbz33/Io/y2v2/137poU3mWZf0wlV64SpESi6cjM6fHL3jzSfvKhIZwb5j+z7xy8tf+dXLI4ZvPfvdQUQGLPyFf54WY/d8eiSR0Vty81Piug/Mf2Ju+Rv/Nj770vb/Do9M4qDqtJrcpybn9fR+IGWaK9xY7rz8yOaV/IsPmpWzanr/3vgT2U6tN0snbhtBZMRnXuy89mTp6E2b7/7zA94awfzx8MgNO6LIWPrGWDQrVmdKR67XUwud157aNPc3ZaAe+sPK2z9QGnSlApG1Bz6/OTU2MRse7m4UEE1j2TSWkpVzsnouT+0d/UFl6CX05GP1MS7LwXz3WqFqs/G5V5PFk2Zks0zrmXumPvDncUOUpodHD2yk3eS4ZU9uBKUH+nUO5iZIl2himsIKt9akU+fGCpuYPJFxBa7xULynnidh2gYGZFdNZ5RDIZlkAJFRoDO6P2axFIVlYb0WY0Ca6y4TxjODEJA4cwzrWYmup8QpU9wFOp0sAEhsSImyUSakFBqbMaJF0AiQlAO9MFs+fCw8dBxnj+HUYawuUFBTZD3EOCFgxKD7RqKSgBgUq2qw0ZqUuY3KrquiRx813+xwqcgiCxExxri+Es9ieOwJ6NlD1Zs/2Hz0a9u/Mq+dbz7xreYT39Lzn6vccEf1xg/q7Jb4aNQfuXN0nh8A1N77Z6c/9Ff7PhM/f9/yV//NiH715nP3biQyotPPb5pnUb7+jsn3fjw8dN36177xTPPpu5pP3i2t1S0wRLf+xMStP15/5M7mY1/bqud/7+NZuTb35/5BdOq5xmNf2XYeR7J6rv7Hm2TBVm/+sakf+Vk1faD4F2XxK/9X6wd/NLSGfOa73Fiiidn8EVWZ3Pfxfxideq7+6J1j5rCGx28N54+rfcfCg28PD15r1i6YtfOtZ76zaXhtdPIJSTqoS5fnbRIeuWH/f/2rjSe+2XjoD+LTL2znb8TI1pJ9f+7vb8zmbD5198o3//2m1gzR+Zcre4TI4HYqkShf9a7Re9V+4b7NiQw2rae+s/HhUtYuJxenyGg8/vXOSw+PXqZywx21d3/M8SYOpr7YeuaetQc+z5u1hrWe+95AIqP+6J2bXjFqt3+ydttHVW3f+inpNJILr5/7rb+z7c+Ba/f//ibvhWM3T/3Iz5aO9UWrrn3/d1bvHtohaJZPt198oPL2H/F/cD1G1DDcXpN2s3uCliepMrj7bFhqCSHpbnVMClTYrdbY+Cm9ArVQgbwoKjIo88rgtGCXXFjRi1d1LEUhmiR1dyQqZppQJsPAvhRT3Askj/2S3nf3AGYBrG5HFAIyECCzsGs8IesSCgg2iNW6xwjoACcn1cKB8sG3lQ9ci9OHpTJrVBlRKWEtgm4L6FpKlP2FMdtyOqHicz08+oik/jhkD4+9gakP/Fz0+tPJ+Vcvcj3J+VfW7nll7d7/Ur35gxPv/Gh48NrRyzcf/eroBY783S9svMJWrn2/mlw4/1/+0TBaYeAd0cajd25aGEzf8fODP7gfvj48fH189qUtxYW6P0m1236a60vbJjLSARy6Ljx03baJjPqDvz86aXX6I3+jdttHN5Y7cx/9xdXJfWvDvTmj089t7GsID103d+i61zcjMvTs4ckf+dnqjT9afNCqEvaFh6+v3PDBc5/+70evIb7w2mVIBe4jp27+sFl6Y5tEhgrUzKFhqasbK1IAqN74o9Ubf/T0v//ro7NazYWTsEe6S7jVyI7+ofI1P9R+8cGhF4envjP9wb88+gNW6/n7BmouStf8UDozF6fIaAxn8Rwmb//U1B0/t+FQztXe87Hw6M3nP/sPRrcjtZ69b/pP/CUMylu9MM7+qV+q3vShwfVcaSI8fN2mn1VG7HJn+EHpXn7f8ZG5n/yFAVPxvk+oyfmlL/0fQ68Vp57zRIbHqNOSjXRaYCLUIeqwe5Ky2ZhONfQOIU3M0Mx+1CEQodL2zrXHFSQ0ckPPQt4E5l6dqpdLgtkP1tszIKWV0pR+2Qe7T6U/9yVTSE6IZB9acI9UX+ioDIY8WiVlNEgAGQmQoLvXKW8jaENKBI1dXgFXyUyXZWGeDlylF27UM9eqcEFBmYwhE5O1zgUVgAqFVHYkmJAtlSTZXwIAfHPWq1KAfzeOP2nM7IgMp8Vw6gw/hx67H6o2O/2hv7JjqzNR87Gvn/v/fmnl7t8c9SH+qW+PlmNMf+RvDCtjwgNvq15/+9D69tR6mwazfHo0CxAsXD31vk+8KQ+uWT3X+OM/GLXv+68ZwGLktfQtPzHitZ1Tz21vVLXbP3ngr/27dSzGOjakeutPbLJri6/vrWNRvvaHh7IcwyUVcz/9t0evNqkv7p2/lL27pKXr3jeK8li70Hr2e6NX1n5hQMmt546WT7w7W8v2b8q2nvtePLI1KTh47UYWo3iNmvqxTS6qvHa+/dIfr2cxnvz26A6m6i0/PozFGPcz9PAPro1HvrzJO/cdPzV0YDd9KDhwzVAi4/Sz/k+txyaXhyTqfooOyqi08xEYwFcM+wwOnMUEImGpSoFvZLoi9TmuIzBwfVpmnkui7VcvnsT+3v2m3UMpi6EIVW7z2aMqsmSKvTY764cshcjaPI0VbdOJVWeQyqI4xDlhoogSUSihlkoNJuaotp8qC6BqCIFKxS/ASIwqbSBBRjAI7DYkjkKxsUD+nrvHRgIof5d5CsNjL5VYV7979s/8nZ1dZ/37v7f8R0P96lojNdujq+vu5+kf/sTwWimK+i0n2y9vYg9RuuY9G++LvjnQeePp0QtU3/mTI57VMwcrw6umMe0AhvxJ3wTVmz88eoF48bW9dSxKh94++PETt414VXjkRqxMjaqHt9LxtHtQve720dklo61huFNvDTKkLF/73h0Z3qaeMqWr37NZzf8nqzdvwjhs1Gq1X96smeXtt1/8Z5WBj5vmSjySmqy84yMbO+/6jultPz10T0+/4P/Oeoz6k6C0c1ERE0vcBjOYhRxqe2FWz5vF1yXpYFKWOBoo5/C4HMV6mjGatY6kxbuyj7At1AWyfpO+jBIsxKqu9wBNcyiy2t9tC53hw/oh4O7tN3H7JRnfY7kJ6wEKIAyEOdWPCExCTuIvCAYgoe7rVEp9gBgRIQbNpAyRMIAQqVAIGMh1q5AIYeKOBwuzkHQf7y6i0g4CR33slona6kiG1du+LWJ7oNTNBvP3GaG3yfDYO3XFDT8KAKvf+bRZPr1T62w89KXwyE3VG/7EgAL7lUdH1c/7T4xesy66OWwscppLW6sNrn3fm/WwxpsRGeXjt25yZatMjjnPOws9c2iTeuyiMykuM8ID14SDfB8mbvvJTaaiOh0PZyv2KJFBlanyde9r/eCbQ6mEZ75rPvSXVcGEpY/meP773Wpn4/l8zc4QGfHZTcJHJ2758KYrKZ1498B02BzRBipw9IVRTe67dCE10etPbrI7h6/f7EQdyrhJ1JK4/Wbliz12pIahcg11yJ0mc8LNlYGKDD20fna+dMw0MU3VSd/3f0VIjIxHcIYYGY9hVeqItmR3Ebn2cOcNJz3lRur+2SMy8rLKrdUW/jklMPhSU7Cv3HV0Rs/NMzvpObU+tR6oku9UdxkSJmtrwSLGWl2QCAGSzV01LMBG2Aiw9f5006Z6uR4i2bbEHQC01EmalmLNRn1AqUfh5MwygKX3CJI/RTz2GJdROnrL2n2/3XjkayDJjqxz6Q9+BRHXBZpErz812rVBzx69mI1Kp9lfGzw+cltHws0+oO9djFZkUGVSz20y1ZwlTQya59alG7ma3EeVyRHBE6a9x4gMNXtk/KiUvr8vw7kkp8feoydn5dpRRIaYuPXs92rv+lODaY5B4Tj6wDWDc0C2juTcKyOeDY7evCnRZpVum6g24v+fvf8Os+w6y0Tx7/vWDiefyh3VrZZaalmSlSzLys7I2WPjsfkBP9JwBwaGAYbrO8AMl4GHB3Of+QOGa7hccpgB24AHG2w5SpZtWbJkWVJLsnKHaqlTdXWFE3dY67vPWXufUCefCl3V3et1uVS9zw5rr732Ovt79/e979wKusR75Xv9J0bn0hs37nL4x5/vv4Kz86r+K/QXJVFeRRgiw6DnNEeUHqNUTgKwUq1B3YrvrN7jixEJhEWZCZGbAmHSMTYrVMculSWNmhLLsuJfzaKS+t/USMmgVnOSelTOK2VEz8uugdiupM5jAEeqFRglskTnp9U9CVmAFEqBDFCFwKhYKBCMQqGlwFYK2UOoAniEIVGIqKKqEWIlWAmtrKpQSLAUCqz9oEVgEYna3zag1XpDrUyAueDG5QV6XuvMZFBsXMLM0T9NeovBeQeRmRh720/P/PjvZd7wQcpMrMs+l7/1ibZ3p5WOyvCOCGdNbx2l14y9q7MH+0vuJa+68wK+oP1zxa3xnYNZod4mrKrbK/H1HI19zTi4N8NicH4QGVfcJsb6pVZVXupeXSKX57yXHu2yw/VKxzgzy30dqa302DD7oWQWnVS/2L54VvlNNtAbVASXvvrNG0lk9M/eQntyz4CJt9TPi6b/PGxwsYNZlZdrszrGr+1HsF+tPWzbDggH/KqqLKlKkZIZ06VrD7zb/hhwBXUyQF0JQheIEIACBkLSRARz48VvbEHSTMiAFlnQxhG58xA4VKu5SR2s4sR5xXaNvWDj0/oxuNEg5M4hGa3ULS2EueXUsHs744IJpXdCmnKodY3uYW3gqij2tOVGx8Q3Tl1tNSoOaDSWsMFbxEesBa1moBu00D1cH7IIhsUwOI9hT+7J3/1j2dd/f/mZ+8rPPhCcfGktewvPzBYe/Uzu9o+0BAoDAuDKs/eX/Iryq+BXVOCz9CAMVOBB6KtQ/w76hRmtGRkcDMgaQCd5oV5HVRpQ+uHuvWHp/j+TfhmCKvueCqsQBhx4XO9nDnzu3dVtmS/rP6n2fX8rPRMXXQhcRvHRnn6f/pEn/NOHnJl2Ccnqy99m1SVlbL3KLsLl0wMYiuGIDAAQ6bGwbwAvC/M0GWdFtZIa536yksWFvl8Ku5ce+AuuTcsV9iss4wmZA0/PFbV5A8Kg33RkbliDfuMvUF4JWKGwGTgWORyayGB0k2i7UJK1UShDMM/f6/IdPCDM5TYWo1H2Qaj5i0inoa4wGYlZNgtFkEiQNuaAeipCzAtwNxYD6lYl683AdOFiovSPVkKDWnkNBql5GQLgHoeJUy9amJdIHoRbyBjWDEW0gBocTLMyJE5vcRp7A6UIG4qMgiyBDoGFQFy7NeIuBKBGL1Hrvhp9ii3FA4AriJPzCsO32ehWDt9LDT1dA4PzHZTMZm5+f+bm9wdnZr3ZJ/3Zp7xjT6tV5fNXvnd/K5Ex8Hm98PA/rulmVKr5t1+9aImMsDA/oJ8f+uTamBJlbhODtSCx/9Y+RAYAVF98uJPIqLzcJR3D3nmgvxTlCBg0QVFqWCKD0mOwcLwvfTBvN4iMQQwvrcdk1esViyov9tkqmD8WzB9b20OSmS4M+o1LclNgOcyK7ARYbte1rJ4P4H5Vf9nrME/6IEMQtunVTbqUOnEAW8Qq9D+aChfRalrtsy6EAfU4HKEriwGxSuiQTVjNBNVgJbgl5u/YL8Zim/1oncaOWtIx6toh8b45EirF+mk1+Y6WbeqpSdhgg1T8KcZMEAkEoSUvItaDG5+2dgT25KhMtGqwLnePgcGWhj21x57aAze9l/1ydfagP/uUN/tUW3X3gIh64bh/6mVn2+XxRL3BJQlWfrqFyBgQkwj3ws3I2EgxTl36MW3ujtVem7By6Dvh/CvB6cPh4nFVLapyYeBYvfDg7r7a3nZ5H/ub6kuP5O74wRWTydIp7/ATnWuuo2Sv8kqD6Ykh75FUvv8KsnBmeAJlXVjXrq+mOPA2eviJdapVNLgwQQKdFAgBMgSHoli484m6p2sJhz6oAIRF6Ry6GfMwvmkUxop4iEmH3vUsDGxbG1qUC1pYDEDc6uEUtvAaw027o54QdlvCa2uvyUowMDC4uL+knFRy/63J/bdqe8LHyk9/tfLcN4fc1pt9qkFkKG9jn5ipxelgYPYHXLj6c7K00UTGNnNTjBwkVwrFJz5f+d7XwrOvmt4AgOSBO/oQGcHpQ97sU26Lt0710He6Po+56ySQMQz7aQ0dk1MP15UWImO+5bjnIn2sa0aG2uC5glJ5kRk3o92g58QYeOwVQUlAZOlzUAWlOiU7e2Zk6FoUgUSUzFMmD8Iyfbq5jAbHBp8rgv2Vkw8CInewGFsdPAQngF22wMZJj3rAQWURsSKGoSkMDAwMhkZi3+sS+17n3/yBxXt/N5h/ZXBQXZhrTsvhBmZkJF9zd2LvDcPHJP3V+NbhS2/zvl36F72vHZlbPmhuhJFQeub+4rf/PhzifrmIiIwrblv++l/3WaHy0sOtRIZ3uIubsrP7amd677rFVN666ciiM4AnpUS6edwBEyPShmVkhH3dUtaO1LVvBjKhpUG/4a2qJa6WAYllyGGga5HaiQzqFTc3hrWqLKviIsjQ9OimcxlQt1ldCYp/Vn5SpzMY8XyJyLGFpxj+QW8EWYfYP2K4tiCaPCQDAwOD0eDsuGL8vf/Jmtg1ODYoL7c8j29U7Wpi/y25O35oxexuOQO22eA6l838lqWNcqCj9PjEB341sec6cwsMj+Jjn138/O8aFqMN1sQu59Lr+6xQbVHEYBl4R7rVlVx5+3oObzfdf4Xhc51UXyOPNmseHFDUz7K8tF7xRfvCjXyBnX/Tj+ff+BNmqBv0u+lsV+SnxfgOclOUyFIqP5JrSaw+wDJUhQVVXFCZcTJJGZsAbrsm3DHjYEtiRqsLyZZKyOAVxiLYncBo/pOHKfyIFDej36so8xhMaOAwH5u0DQMDA4MVsKf3JvbfUnzkfw2YhKstRMagOMHZffVoj+aWa2/b52zbnzzQ7qU68I2o8i9cImO9+7kWd43vdHceSF1110ZnslxgqLz08NJ9f2r6oStSV93lH3myJ2uweLJRXVJ9+RGWfhciY538SuqTxoDEh+FzneSgTAcr2xSawUFlbqp0dqDoxhDPw9ztlFPrP1dkJpztV7h7b7Bn9plBbjAASqKbEmMz4ZlZSmQoOwHdiPiepSUQhrWIWVi1f8gQZACQML16bp84eriNtK/W4p6xhTMIuPWcVi7sck48cD96kMfCL7G/ZQv50eA36pv05y242dMYq5QOd4UGn4qBgYHBRYfkFbcPJDJaFcQpMeChefL7f53WyUwEnQHBPF+4GRkDXyyL3PTEu3/JDOBzgEJfb444VrzkWpGZoPQYrQxovWNP+69878KeQBa/8PE+K1Se/0ZEZFRe/Ha3GPsaMbb9XN44/Q0+Vq45KCMjNzP8cWV5ce3JbF0zMgYeOpg7uvM//J25kQ02EFKqShF8T0lZu3EmdnQGuj2TLNB2aGI7V0uUHhfZCVPItGnhP44STW9J/qIjdaFFqJN5VRQAdmZsxAUp2H4Ubvk3twtqrL3v8Hy6GAYGBgZD4NRf/nzYYUGSvOZNE+/6xSH3MExpSWukQW6m/8r+yRcSe65fl7MbaErCF3JGxgDCKDh92Iz/c4DSwS8Fg5iI7G0fzt35w10/mvu7X76w+4cSmeRVd/ZRDi4//62xt/9MXemzHalr3rTODRrEoqrSsESG7Et5UHqcWm7SdcwE6TfjdXvVR4PmCvZKHPqDK/UMDFY5CwiwbA485VdASVWYB1aAQ2pkKMkybJhcopMkx6RjbFWmoAVbj8Xo1Jmoa690c1zlqAiFgXsTAusv+tH9YBHDomDYBA2jqGFgYHAhoDp7MJw7XJ/6mj/esadHmFarxcFkR75JZAx0u/CPv7h+McmAB3S12Z6X66gs2AZ7aoD8YXhmFpQ0d8FGo/zs1/qvMP6eX+rFYlwkSL7m7n4zTGVZLp0OF092nWoS61pXUrtxBuV3DK9VoUrL/Q5UN3KKg7T1I1D6Pb921ciwXRo0LQcnXzT3ssGGfRHK+EcGQAJ6CDxRzzkiqMqzJ9TynFw6JZfntFKowXlAa6z82RIN6sJUcM9plOtSn9xvzu3FGWDfqpSWdvCQPdnqqmKKRwwMDC58eEcPdn+oWJ7ze3sitqFy9InBRMZ4MzZwt18xIMA+tW5PzNbAp/PThzb5e7NS2KA9W7lpa2rPgAFw4gVzF2wsZODP9qMFKZVPveaNF3knaVPnfu+Hgvmjwfxs53Jnz7Uivc6+ntbE7v5yFf6xp9UQXEZ19kngfuYJbeIR1FJm0r0TzhxZhwmnxzNx8rKb+m/om7nCYAN5jFAVFzj0MUqiVKr2MyyRYdnoJEGFHHiIVAv7lCEyNgHYF+cLl9FBDfRgILpzH725DOx6DOa6ysWqUlQiCqUtF2Nr9qeBgYHB+sM/8VzPj4Z+/+bPHhy4jrv72uZDx9QeFP1SlCsvPOyfePHcEBnVFx9SQ2SUbGCcW17euJ27ewdU6HiHv3tRDnyW6/FyexiEy3P9VxDZKTMRAUD6hnv6xfBzs8Hc0S5bvfb7NqIx9rbL+q9QfvGhgTvpUywTH2XykhWT1diAyaoX77w+c0XLFN19qjzyhBmlBhsEIlLlZVVaRCSyXRB29xqonnGikwA7QW4StaGxMqmG58k38fDcwSYRGQzdOYg4zYL71mc0+A6MDVKx66mvVMrowpUM1c4uuRiGyzAwMNhsouH04eKTX1h64C+XHviL0hP3BkNnSQyJ4NXnewZgc0MJKBQPfmng87p76Y2tbzjRcqxtl/afmQsPfWLkiHHpdPcnpNz0gHjjhW9t5iU+/tzG7dzZedWgWOsb4cKJi/DOkkunzhGRURhAZCivbCY6AEhe/eY+ny5//a8K3/ibzuWJy1+/IUTG1CUDOIWXHhnwcOmXy8/3m1jQTTu7VliBWLkBRIYqnvVffXaz5grvyBOlp7408o1WWjJj22AwLAcTKbQ0f4GEwuquStvjbmMdJBKzAhJoOURkunSrYbgUjS0Ye2vZTRxAIbS1O2YuNEWB7awE9j3rFgKlXsMyjL3LFtQcMTAwuJhReua+E3/8v8391c8vfekPi498uvjI/1r88v9z+q9/8cQf/mjx8c+vyyGqswc59HpyHEMoQfonX1r+2l8MXC2x97q2Jamr7h7QtpcfnfvEr0Dv5q1Y+egTC1/6+NJ9f9z9ASk/IGG78vyDA8iaR//JP/bMBl3o8vfu658SUnnu66f/+hdWGRxe9jqRnewXZi8cP/WnPx3MvzLM3lR5qfjYZ+c++aveljfREInsgKjs2FPnqCWDCh8ie1Ez47m7XoOJzGix997rBtptrLIxl7x2wJxz6LHy8/0I3MJ3/wWq/arGUq+5q21qGpiRodMiHh8wJ594aZUDNTed2N9fbYQXv/DxgQ1ozmzPPjD/mY+Vn/mqGdsGw02VE2JqDyayyiupSoG5S1JFDy8SGXBpGfwyexVgRcksGFna8xjcI9rfrMa0twTr4hmdyzupiUZRCbbYoQzmHHAFAdSNpGhyIybvwsDAYB3hnzpUffGh4mP/PCB6KcxXXvxW8orbu5MIZ2YXP/973YPJ0sLSV/7IntrtXnLdGpvaXzouOH1k8ct/4O6+JvmaLqYAwcmXCk/eWzn4lYEzKCZz7qU3ti1Mv/Ztxe/+i1w82a8njz1z+n/8H+6+G5NX3Cby20R6rH2F04cqzz7gHX0yOBXrXKhqkTpiocwN7zrbl4bwjjx+9jMfy7/t33UeQpYWl7/+l+Wn71t1Jw+0AwhOHVr62p8lrrg1efkbWpZWg8VT/vHvlZ78YuPs+lEtD33SP/5s+rVvb1NbQCeVvOLW4nc/1/+b+vSf/2zqtW9N7LvJnt4nxrZjh9Ba6emvVl9+xJ99KuJcKhP3u7uv3tLPxINiwvLTX3V2HIhMPeNe8Mveiee9Y8/I0sLEPT+3Xi2h1EAFB15+6O+m93SJnIO5o8vf+Jv+3qv+sWdO/elPJ695c/rat/Unrc4ZvFd6Zg14rz7r7npNr0/TN7yz+PDfD3+gzPXv6BnwH33CG0Q+Lj/4t+nr3yEyE50fJa+8XYxt7ztB8cJn/xu/o9y1tqV08EuFb/yP/kdPdZlXMXX9PeUnv9iPH/nWJwAgd8cPdv1OKT35hcJDnxw4V3izB1PXvCX92re13emJK2+vDso0mf/7X09ccZu797XOrqutsR2dAqXVI9+tPP9g9eiTSqfIhWePZ2/5oHkwMBg0C7IKPK6WQMnasNSmFp2hbNeIDpRf9Z572D/0OLCk7KT7mtudXQeGO6gJADeXI+DecTw2wvhzc70YQCECg2At2oISgEXtkCRR6LIQWZk9dPrbD5SefYJPzKpKAS2BFJuSIHOUZVIXvIjZCgQghNr2gJJZIZMNIiESecdKihAU68wNYu1vgvVzjEmP2i4F1Ya9UlxnQYCV5HQWd+5PXHpt7rLXO+O7tdIG1tM32qpSjEGJwSqBaEbOxYXS018tPf654OQIL8Tcy27Ovv4DbkcMs/Clj5ef7JfEm7j89ZMf/LU1Nrj4nc8u3f+ng0dyMudu34+pvEjn2a8GC8fDxZOqRx1HJ8bu+ffp67o86y9/6+8KD/7dKBGhbeWnKZVT1aLyylwpsvTbVsne9pHcnT/U/vUU+if+6Ce4MkCKwp7e6+69ztlzXfLyN8il0+HSqerLD3tHD3atzG+Dc8k10z/wse4B1ezB+U/+l6FmDDctMuPoJGVhXhXPrvqyZm77SL6lE7zZp8588j+PFntnJ62x7apaUl6JvTJ3+Kqgndj5C5/q3LDy8iOVp+8bplTHueTa1LVvTV/71m7R+5HSk18oP/M19gfUXFB+JnvjuzOve1+nxL1/8qW5v/mPw55paVGWFltPc9dHP9t+dz/z1dLBrwSvDE7MSd/4Lveym5OX3dxYcuIPf1SVBhhn2tsuT151t7v7GmfbvnD5jCycKT/3QPW5B0c0tcFdH/1MPPAOPVp+7puVZ+4fuE1i/y3JA3emrl4HE9Pg9OHC4/9SOfjlPuskr3t75qb3OtNdisvCs6+e+rN/N/zhdv7Hf0Rht1/6V59d/OofD12Fh5k3fCB/9491frD0tT8vPvpPg3tv302JA3c6O6+0J/dUDj/mH3vaP/miP0jMIrH/lskPdJkWhrxbnUuvd3Zcldx3kzW1xz/5gn/ixXDuqHfs6YHDrPM2nP6B3265AN6JP/sZNUjVZSVPl7fyM6yk0hOFqpah40X6zI/8bps/iz93tPL8N8uPf26gPhEls+kb35248vauA8bgwoGS/rFnvee/rSrLZCed/a9zL7sBrPa7u3tGBgkLbQeJAAQggZRdX6QbbLUoqU4g9GQxznWDIgsSbOSEcCzCqVkCgcigCQcAQiZoab5mHxTXczAi/oJqq3K0AdYFOREVMGG9YiUyaK2na0QsRguLo1dTrGtMQLGmWkC1tAwkk2Kd9hHHnJpRATP8DQwMRkC4cGLxvj/xDn1n1A29Q9/xDj2We+OPZW/5QOvy/ixGVHnBfhkHeYv2hywPFS1zZbm6WknI9A33dGUxavH2695Xee6b4fyxoR90gnDhOCwc77NK+dmvdRIZaDmpq+4oPX7vgBhs7mgwdxS+88/1xMH1gTPIA7XZz14p3AArVnfPa5Ovubvy7NdHeKQszPuF+X5NDaqVFx5MXnnHCl7s8X9Z+sofD3mIWrx37OngxHNjb//ZFQP76JMLX/j9IUMptXR66Wt/UT382Pg7fkHkVkhmikHCKP3PtO3sFr70B/3fk6+gPB7/fOnxz+ff8pOZ170vvguue3vhoU8NGH6nXl5HBZwhOcq4z196pPrSI/6rz7Rdi1FROfzY4hc/rvqOnNpqB7/sHXl8/B0/l9jbnqhlTewSYzvk4lCiLc6lN3SyGJUXHly49/8eSIG1juXitz8tC/MT7/6ldsLlqrtLT3yBg+qA3jv83fr0OOy8QdnJ8Xf+Qq+71d52+cCR4B950j/yZHFQ8sXIsNzsje9eeuAvR5grykv+IAOXwmOfnXjXL7ayGAuf/Z3w7KtD7b9SKHzrE6Wnv9J1wBhcSGAZQhhCGICTRjcFogtr0UP5QlgobBQWuilr8pLal4FJtThvuIyuPy3DogUb3RTSv6VmHGq/lLa/UcAhsERgwUCBYslKALsIDqMNKAAISadVoMTa6rUhSegiOUgWx7tVeh8BcgjxOsAsgAUgUqynES0FZlQoFFqKbcWWUlQ7d1QCJUGgfyQBg5IKAkmhsjii8JiYMUoG0X9gL1boHPSngYHB+TQXI66CxWhGhSdXKG72L7hoPg6eXGvYozbSL0MnKt/WJzQiN51/279d3yPKxVPh2S5yD9lbPiTGdgx/RdaxSZTKJy6/ZXPH58R7/ndK5dd3n4XvfLYtDh+exWjG/E98cXllKcH8p35tpBfCkZXD2S+012GJVN6+5JrVx+Qt+rWFb//D8CxGA0v3/WnD2Td5xW1ouefscteuxdAsRuu1KD7yj2s57tl/+I2BLEY88yyfmf/Uf+36UeaGdw55uMwNXepKZPHsKCxGnYx4ucvs7Wzfn3nDh0aayYdcb+pDv0G91UCyr3//Js4VmVs+6Oy9bn33WXnmaytujfv/eEgWY5gBY3DBPEWJ/AyNz9QCOulz0F0eq6fYJ7opcFNou2JsmtI58z76fOYyNgkMqBrCFtya04CNz1EoSyjLDpFCiKQ8gTSXYSEKRtQpGwpQcZSHEVuVsP6DkAVzbWVAwSCU/jTiHqLj1A6MgKQAJGCIGBKEiBIjuVFEZlJMulwlnhxrB6KGi0qs3tGs2jE3goGBwWB0rbIeYfOxnSse2kJ/qGe74YQw++1hIx0oE1feNvn+Xxmwzp7rc2/80fU9bvGxz3Tp4dx0/u4f3qzhkbjytk0folP/+jfXOVpe6Z4g8ttWt592vcOJXau5g3Jd9Fy7aRAMHXo9/2CjRsya3L3K+7reKnvb5ZlbP3TOrjXlZlbZ4MlL1nbc6RFWzndfOXXd24bcQ1eBITFKG5qjLtfdATd324cT+9+wvldn+gf/L3tqT7/zes2bEgdu38S5YvrDv7XuEULl8GONf9gTqxlm1sRO86RxYcez5KbIzQAJUJJlAN0cVHsRGQptBy2XVQjMqF+Pmx41GH2mYlS6jiTyWCFCIhCIFqCoLUVBlEiFbnKZrCWAKrEkBSwFK4cxAWTrohNmDJh9hgBZoa4kISRElzmJkARymIQiYgTJwMySY60MEkwiIOGTqAqqWlQRomILX4gQCSXYAbshO5ItBqGHedOfx2RYGBgYrBqWQ+nxNRAZK4LA/o+5DTjT+9YeYFOPJ/g1In3DPQNZjAjZW75/8kO/vl7HdXZckbr6Ld3DgwN3ZW778KaMjvS1b7XXQxpzlKSSdtgz+7b/2z8RY9vX66TaOpMSGbSTa+cgVkdkWN3C18z132fPrP4eKb8QJ2VY2dXExugkW9+65279cOKKW9fS4RPv/eiwXZrMrvJaZNakFTqM6UZz5R5eQuRm7O37B89d+27qvttVXSzRe6vJD/zn1HVvX5dbhjITMz/+cae31mlztNzxg/bMZZv4hbbro59NHrhjvfaWvPqN7kxTI8NeFTNor41lM9jyPAYqv8JBBZHQSdUmzxHsV2vxnEWZMSQhl84or2L602D1QzEaUjrdIi7OIC14gQCOnRifTM7ssGa2w9hE6LqSRAjIDKiYgAUwsq4iYQgBQ0aO+ApVA7KuTtGlKJrZIIiyMbi2DXKsb1E7dpybgnrHEDKHrJSuBkESlpu0Ujk7PWmn8sKyCZmVrH9ePwdD5RkYGIz0ED+++hDR6kjoGGSDB87OK9fuUJB+7dt3/NSf59/yk7Sq15jdvwKSufw9/36kYvvEvtdN/9B/W0vMGT8uX/uWiQ/9Rp84IX/nD2dv+8gqKZI11CkAwMz/73dgkCFov6PvuXbyw7+ZuPzmNfEg+W0zP/J7A4fW4Ihi22WTH/r1/J3tGS7W5GpemdorUznWMSMDALNvWGUeROq6t6euvLMef06uKu7a3fakPfn+X1kdl0G56Yn3fjR51V3D046ruxZWdk20psiNRGT0nDDTN7578AW64R092rAqIiPfb6vxe34uc+u/XuNd415649S//s0hSWp7cs/kh/5rp9nTsGNv+35csyvtxPv+U+YNH+wZOQ75dZDI5N/2UxPv/iVqMYSiVSUwinGTkXFBgxXIkEOflawFjbW4scvYs3oRGSgsAGK/KhdPysIZSmY6JaANDAYQGFRXyWSGxv+QAVhqTsNJpsZ37k6SqqQTleOzlVOvVBcWbPBYhUBSUxhazrO2XUQkUG1jJUPNMqjYwUQPbwtBEEPs0KPvAYnNIY7AqJSQyJKVZCkZJKAlLJFI2dkxe/ISZ+YKe3yPVZvrWamQmYls1DAshoGBwciPWWuIAUR6ouNR/l39bfDSN7xrvVqeed37klfdXXnhm/7sU9XZp3iQjHzPsxjbkbzy1uRVb3S2jfwu0dl5YOZHfq/05BdKB4dyG20PEi6/JXnlbV0tMNqQu/OHRG6q9PR9bZURfbv6HZlbPrRw7++usZ93/dz/nP/Mx6ovPDRaz+y9LnXV3ZFgKlcLpUG2vs6lNyT2Xt8zJHZTkx/4L9Wjj5cOfqX63DdGDpB2XZXcf1v6+u+jbmGSyG8LRtRtwWSuLaoR6cm1syFNbuuquya01mBw/PkhORp399Wpq9/SmhQg0mOUHh/VD6JLfQfi5L/61eLjnyt8+x+G1JKoncI1b87f8YNR5U7ikmvLK+UGetMEI18LkZ1co5CKNUp5UZ9apPS1b128978P6Jb93SkhSuZWcbHEoDyO/F3/f2fHFeUnv1g99NjIg3PnlZkb3zOqKYxIj019/68tP/wP5WfuH1L9NBI2Tt/4rvybfmLxvj8ZOFckD9yRem2/Qp783T+WvOqNlWe+Wnr6vlG/F6zxnYkrb00euLvz62B19/ga6zcNtjyRwSAsQAIluVpU5WVQslPv0+q1sSotyrOvqEqBEFW5wDJAQ2QYjDoIEepEBnJsS8J1AU6lANC2kxPTriUSyaSbyYlkpuIeV0vzqlQIwiqxVBCbpupkCpaAsYhFJMCJunJF0yIhMOmdy8i4Vf+t5T6ZIo2O2lbRDhQTIgl0k5TMWblpa2yHPbXHmtwnsjPCcmNjk7rOhmExDAwMVoG1lJZ0bpu49KbM699ffPQzXddPXf99qWvesp4sTHosc+N74Mb3RHYS1aNPBGdmw/ljgyXZUNgzl1rbLkvuuT5x5e0orNU3AjF9wzvTN7yz/OwD3rGn/Nmnw34GJUS5SSs3nTxwR/LAXaLldd9gYuK6e9LX3VN54cHKy48Gx5/vdY5ibLu797rMje+1p/euVz9Pvu+XK4cerR56zDvyeB9JV7Rce+eV9sy+5P5b3UuubQYeV96ZvPKblQ4qhPIziUtvsLdfmdh9zTAZDYm9Nyb23ujf/K+qhx/zZp/0jz3Tf3CK7GRi303JA3f17wpr9BQhu6MYQWRXEa5gn6g4edVdyavuqh7+jjf7tH/8OVlcUKUFVpISGZHMYiIjJnY5E7utyd329gMiles+GHJTo8bGvXojc+O7k/tvLT7x+dLBL3O5p0gNOqnEgdtTV78xsadJSyWvflMnkYFkRWM1dfWbnZ0H4qs2ehYJrTnDa7TSkr5VTu6lN3pHHu/56WU392dkRr5YQ1Awyf23JvffWn3p4dq8cepQePoIs+wfyTt7rk3suS551d2r/WKwcrf/QPb1Hyg9/WXvyBP+q8+qSqHHmsLednnyiltTV90V3Qvp6+4JTrzgd/B36KbdPde6e69PXv6GYbJXnJl9zsxPZm7+V9WXHq4eecI7+hQHPdP20U1buWln14HEgbsSe67rfYGmDJFh0MlFsF+B0AdETGQome1aWoLdrRaYvZe/6z33EPsVMbHTueL19sxetN1hDmp63iAeDACxb2lkmBoJZqJS2utUMrNiYGWzgjBgr+wXlry5M5UTs8WjL/onZ9XiHFdLovatwLK2Hy3lyUQMNoCt2ZEQIUq6EAnh5iwrSQGx5i30/xULpUibowggVMxKBQBVgdJxMZW189tSM3udyT04vpMyU5zICitpo0NMzIoi2xXClc/VhtUwWEtcZsaPwZqgvFL15Uf8488HtZCerfx2e8eVqctvWXcHij7w546q4hn2ytIrgVdRfokStfCPEmmRnnS2XbZx+Zvh0qnw7CuqWlJeib0SK2nlt4nstJWfEetXCyNLi8HcYa4WZbWgqkVyktbUHmfq0rZOnvvEr/QJ+J1Lrpn+gY+N1rGvfK96pGlqS25a92pGZKedPhoBzMsPf0qkx0V6jJL52u9UHu3Emr6+/bJ3/Hn2Ssor698lys1Y+Rmr1tXbYC3klEGfbpeBLMzLwhlZnJeFeQ4DcpPopslJoJtO7L2h61bLD30SnSS5KXJqK9v57euoe2Iwyuws/VOHZPmsqpb07FEky6ldPjdNibQ1vnskWmdIBKdeDgtz0RFVtUDpsdpUkJ1xZvZ13qfKKxcf+yyl8iKdp+SYlc5jMt/HLWVIVGcPRnOFqhaVV7JSudp0kavNybTmehaDi/iGCoNTR/yXH1dLp2lsm3vlG6zpS4YmMgC8lx/3nn2Q/aq17dLaxpM7h3k0MUSGQSuRoXTYRjGRERmVMCOr2khRUkoAFEikvUbA91Wp7J05WXjlxcqrh72Ts3LhtCgVVVBVUirF2pMEiIVL6AICgg+smQskl9y8bSUwFAooKgdBwUiSowwMVDqvgkBZtp9KQ3rCHtvujl+S3napNb5L5SbZSUkWBOgoJBWpdDCI9qISE4gaGCLDwMBgI4gMAwMDAwMDA01kyHDhlH/4SXn6KBA5V77B3XddZ1KGNSgUBZASWBmBDIPVshlx9KY5rqhGBCMdCwJUCiRDiICWQDthZUTCtkQ+l9x1SfXE0eorh4PZw+GZU6pYAOkhAhJZggUSMmoljEitE0kIIoGIJJkVC0SBILS5iZQcKvClYkuIpC3y42JirzN5aXL8cje33UpmOZFEy1W1ewEjXQ9ixRwyM7JoSMuYENTAwMDAwMDAwMDAwGCDEeXe+8qvICL7FWAFKIYlMkRmnDITcv5VDjyWQS1gNIGcwerpDM0RMDAjRE4igNF/pAIV2Z4SsAPgCCebtnI5kcqKVL7iZjE1i2dOcGEh9CsgQwCWHBILBpBRDlAkIgo6FaP2S2nbV1BKAmFIKC1LoU2pFI2NWZM7ran9zvg+O3uJSIyThdoZBbXuBkYeKIi17RG484YxMDAwMDAwMDAwMDAw2CgQkpNAIWqhn5tEEtCt7KN3RoZ+/R3/0YhFDQxGIjC0Eqc2DOHYukRp0U1NZCASEhMjY20JgwpUgAACCeyUPbkTEjl7eqe/50TwyiH/1SP+q7PB0tnQq4SgfCGRiBmVQiUlh7F4qCWQGFEqKZXHKiRSSYcymUR+0pnY5U7vE+O7VGYbJcbYTitCRKl1RIVQCFIRANfaFPm+IplEDAMDAwMDAwMDAwMDg3MYQ7KSgAREaDnoJLpmVPQkMlRQZb+qdZITaCdNOobBKoAxd1b3TkUAneigGEkzGToTI072QQYZ82XIwsKkayfS1tiYkx0PMjkvM4ZuBk4cC5bPyHJBqkDTI7W9EWlRTmACBdEREKQlFNqQSIixMXt8JjG9yxnf60xcitkZdlJMjj6M0uyK3gnEpB1Ghq9IerEZ9wYGBgYGBgYGBgYGBucwiAw89itR4n3EaAxPZDAKBy1HUxoqNrI0MBiRxSDtnooiUsrQvIYu22iyG8iR3IWuEUFiiyP2AFmBQkQCl7LjlpUQuUmc3iFOHq2+esg/ecw7fZLLZWIWVEPCEo5ABAhlGBBIi9BJiMy4O7bNnd5tT+xyJnaJ9BQ6ObRcIgGgdHKItmQFglojQBBHpEoIGOhbw24oZBgYGBgYGETfXqFXfua+cOmU6QoDAwMDA4MNCCMRUIBSoBQmUugmu67Vg8hgYL/CfrluRGK8SAxW97gX/dZmJZFgps55YE2ucT1TA0Hpig4EEIwcpVSQJjwQiewEOglMJSGbFvmslc1UMzmwU+H8GSwVgQPSZSBSMQIGlqVsh5JZkZ10Ji5xJ3e54zutsRmRngA7xWwhILEkYFCKGSUik24UMbPU7aXYNpZNWYmBgYGBQROqUlh+8H+Wn/oqh17/Nf1jzyx9/S8zN71PZCZMvxkYGBgYGIwGGbCUzXAShi8tYeYwACkBCYVW1zBinwarAmrKgllF5ACiripRcYkJss7IAAQVAmiLEJ0DoX1D9KestCwooEVWOiss4abTyclt7tTuyiuz/uyhYPF0VVV9JWXIlhSQSNpj0+70PnfyUmd6r8hMYjJJtotkce1ekFq4QzEzSwQWJHQNiWAGyShVXKKCtuZddM2KGfYGBgYGBuC/+uzCl/4wPHN0yPWL3/505fmHxu75mcSe603vGRgYGBgYjABhoRAAwCoEJbuu0ovIUFq9QAARJjKUSJvOXBs4DuovNhYDWwiN1n9Ty0KICY4oB6Kurol1CiFOCEIiixy2LJFIOcm8SE3Y6fGy41TnspXKomTPdwCzKXd8MjG1MzWz3x6/xMpto2RGRTtSCuPcIgWgmJG1kUqUIAKxWEbMuxCAhXFNloGBgYGBAQDM/e0vj5qgKhdPzH/y/9z10c+Y3jMwMDAwMBg6dGYOqhx4tajRTaGTGoXIAFB+hYMKKInCAcc1r6XXxmLwinj+YqExACgyXhUYswIYSWXUPqn9R0QjNaYwAFs8QrQ+RuR4EtntRDobTIw2JrLOpCvcVGIsW1o4xQvznlcBQZRNp2a2pfNTdnYS3QwIITkARXpnpKtFpG6DxSLK/GBAxbExLCII3USKVUoRTDqGgYGBgUH8wDS+M1x4dRVbma4zMDAwMDAYLX4OfQ4DAFDFRVVahKldQxMZRCAlhwEKW3lFVS6YpAyDVXIZ8X9WFibFqRDUsWbrnxizGFhnFGLRWULLsixXODambRzLy/FFx/OARCKVSk5MOuksOS6gkEoxsxbcqLejhZuIS11aOCZ9PDTCGAYGBgYGXR6YpnavhsiY2m26zsDAwMDAYJQQEimRpVRWFc5wUImsVIcmMpCsyZ1y6hJVOIu2Nm5VCkiYXl1LNG9e768vSFjspl2icSeplAJLCNtx3CRaNscGKUiIiEIbrSqddMHNtA/GtosSK5EaGBgYGBh0PjCtKrfCZGQYGBgYGBiMBiVBBqBUFPJp79UuJqpWr405MqeUPodVCIMo/99gtTDh8fqDAVFYgjJkp7RHj6gNdEQFrFMxWLMYhEj1rItWpZI2zsJQGAYGBgYG/SDSk+dsKwMDAwMDg4s4zFOsQpahzq+wgair8UhPsU+5cDKcfxVkoIqLyiudd5Yl0Vt33nD+5SJV8TzXg7njOrKuOQG2tAQHAGEkFBpVozBoJkMnYMQUBUFcYoJRLgauHCxouAwDAwMDgz6g7MQ528rAwMDAwODiDf2UYr/KoYeWS7kJSmZHsV8lQakcJdKqtEhOkpykycjo2skdAuYmEj43/R4ZAgNru9amqkWk2xnRHpENCjdJEMSomqQrYWFYDAMDAwODfkgduCNl/EcMDAwMDAzORbzHoBQm0pjIImLXQM3quSUJEBYgAdVixfMuI2PjcjFa91zvFV4ZEhusM7rn19TGNIH2HWGOMjAglsVAoVdXwCw1fUFR1gU38i/AXDIDAwMDg5G+i0wXGBgYGBgYbPjXreWIsW1iYoecP85BhZUExUDt38LUK1hX5WWuFFBYke6AUfocDjyqybzBqp4l4zKSCB2XAOrLkRk0mxHlapD+wR4/BgYGBgYGBgYGBgYGBpsb7CGmsmJ8OyBypchKjZKRQQI1f8FKUiJLyWxXgY1N4AmGyLPYCPvMUfI7jGrGBg5p4Hr/NhgMZBLxcm65BFHlCQDFWyBpiYzO62hYDAMDAwMDAwMDAwMDg60CEhbaCbQdrlbYK+s0/Hb0sl8FdJJoJThYYhmAdjDZitgSJR2djTBcxnoB23s4UuVkqDMQSnvxRBRFbZjWRUAjlgNjfc8Vvqpt18tcJgMDAwMDAwMDAwMDgy0S47OqllVxgb0Kh1X2q6BkZ4FIDyJDhhx4wLL25+KpcOGkk8pvNZkMZoZ2zQQ8501oryXp3YaOmNxgCHSqYyA2OlNpe2FGRMZ6FzMgECJHLEZUhoIRs4GxGmjHRTEwMDAwMDAwMDAwMDDYEoF+uHgyPH2Ug2ot3AsDlhKHJDKUDFWlwDIAEhD6HPj6bTdtpbPr4AQ2Jw1iSzTiQkcbB9TQrcXIwITrH2IbkdSdVTJXx8DAwMDAwMDAwMDAYKtGf2HA1SKHPgorflndAat3hK5YSUrmxOQOkc4B0cXZiwPUMaJuZRwiDjdYw1huMhK4oktRRHVPMZehXUsaip644gpiRzqGgYGBgYGBgYGBgYGBwdaK/SgzSdkJVVrEVIayEyi6sBbdiQwiQckM2S4IW+RnKD3eVWBji53wpjAGbLIwzuEFbrvMyICAgiOpzzhRgxAhStLA6C+MhED5vLMQNjAwMDAwMDAwMDAwuLggQ1AS3RQ6SbQddJJdHVRpADHgleTCKVUpbPUYt8OGs5sx53qCNTqTXOLlBht1lZu2qwyggCSgAsEoUP/Elqt1xPyHXpdZGo0SAwMDAwMDAwMDAwODLQslQ+WXWYZIxL4W++yGnqUl7FeVXyXHZb+ivDKw2uSkDK7/D1lFio46RFWRj0WUGIHarEK/nI/sLGobxM4V8U7i9/kIsUNnXXKB4+qE2gdUd2lhhMZnjdQLim0zVLw1E0BbRsbF++a/m43M6jJWcODyOOEiZja4eUVbCSZsubrn4PQZAFZkfsRkSsuilUt49P7F+ujlNjHUeJ+t/d3yd4Nfw6bIiIGBgYGBgYGBgYGBwRYCIoEMubSkvAo6iqslkCF0VJf0IDJIgBDa+USC7aLlgJRgbQ6REQdgHIeJCjhAiQA2CQRiQKUAtfEmEdcCWgJQyCyYmUlGJQYY0RKsixHqgiGqrhAJqFj/i5FYAUpZC5EpCkmpth0o2SBNItdPVHovorZCS/haD1B1ykBU4cB9gv0RnFZ6JXqsJfGk0xOk35oMnZRAqzwIY3tcjitcXXCIc8SWnmwnCFqayVHLqdkqffD64ep7oPpW2GgnbiSLwRGxEjErLVkhndcxGpMct3n4Q0T9U9u5UkpXgREiRn+L2j3bejWx0RmNJBWMTV+0YW2D2sDmbjd4VsIhR7WBgYGBgYGBgYGBwcVIZAgBrDjwKJkFy+bQZyVxWCIDAJSqBRlepRZx2QlmtZkvcRveFIwqjlmBVa1JTATafZOAFai65yY1vCzqkW4c/kb/ao1qVyQOcP1w0BZ9Yz0gjvgPVhTFoqjD95bUDsDNMII9N2PqHFdmYJdx0Plxo1XczJupW7TWk2YAYcN5jGZrlILI/3W9+7OZTNSW4lG/O2KeQrFSUoWh9L0AAB3XtiyBiIQr6Jw25sJQCgYGBgYGBgYGBgYGmw7KTorxbexXMZGlVH4Esc9aiJNIk5vU6RwpSqa7bnzO2QyUtaCUEBGVxCCsRV62A0RKsE6pUM30eqHzK1CQpjh0tgXqOpPaRkKHcqLOPnCcO6CzLWrBoBVVmTRSDHS2B4haCxhCqRjRFiywLZ7EllCzo0dhFbF0Y/+NGHXgaqPuecRL0K/5yD3C7gFn3f2j+qnwCG1rWrNio1BoxQXYyFg90u9QCpRSzHGuRDeplmYLcZRyLV6Z9SOEaPAXbbtXUnmeVyyWzs4vAsDYWD6TzSSTCbIEcBcqpJFOEp3CBt7ChiwxMDAwMDAwMDAwMOgDpWoRC1mqWqJalKK6rtWLyCCRnaLMJOASpXMgrK1hv6qTH1SIfpXLJW95kQOfHQdIRKIVUeZGVA8CIFB/oLPwJTcrTwCBBQMxsNbZYP0SHVjq6E6Xq0SGnoIZayGpzucXGHEjilUgwXIwm6FUmlxX1+BEYXdkj7EhCgR90v63VPYHDs1TrHoM1PfZmfLQQipBa+4BnrN8DGYIw7BUKgdBGHEYRK0aFg2ChlvYFRyVB4iqUqI8DEQQwnIcx7Is5lApFQRBpVItlUpLS0vzZxZICGEJx3USCVdLiXSpbGptkoGBgYGBgYGBgYGBwabxGEFVLZ1WxQVVPAt+lZXs+q61B5GhpPJLKqiik0AnBUqBlLDZSRkILEiiV1ILc/7pV6qHD6nCMltERIKBsCm1yIyafUAkHfJpOkIJ0rIXQAqE0pkZDekM0Btg3RhDx3WSlGKlt0UAQYiWTjmQDJAdt3buc2Z20cS0EGmtntEzXQGR1xwe88BPh6czOoUn196G9WE8YGA4zR0rYAeF0VCFWLnCiPkdvfq2V+9FtIJSqlyuzM3NFQqFMKiNuojIkEoBQ+1vTcU1ikGipI3hWZLGVswchrJ2A1sim83NzMykUikpZbVaLRSWl5aWl5aWCoVCqVRJp1Lj42NSyrYr2Jrjg82SKENnGBgYGBgYGBgYGBhsHkiLdcoAdJY7dvNe7UtkLM6pwjw5Sbl0mnJT5CQ26TyiyJTjOA6ZpQfVJTV/Ijj2Ujg/R3bt5BSvqGuI0uQZEIReKvVSAUpzFsQgJFBcbMJS55oIjq09a6GmqoV0CiVrIgMYGQUhMUpG8Jh4YsZNJjGXs+RE19h4vcL+/hUlG0GLDHc9+rIRPARfMeAI2GN3vHKdSNYEux1p00xkgiBYWlqen5/3qr6UsjZsgJtinKj/Uc+PilRWhu8YpRQCCktoIiPURIZVrfqpVJoVVKqVQqGwsLCwvLxcLBarlWoQhJZlqZjF4N5jANvUVQ0MDAwMDAwMDAwMDDaBx7BsyoxTZoxLC9A7SumpkQGWjWQpr6wK8xB4m+S9yi0/2q9Ea1lgEKhKKVxeCpcWLAuBkBU38jEi11UtmMFKG7K6IASjRJYAoVLI4GpRUAUQIgS1xejqKDN+r15/Ox0reTIxUG1vIANQZQUShKxWhVRus2KnKcigE/7b3UCG4SM6KYbWipL+pSXD0BNt66yCIunmS9L+98qjdAbq/Q7aUWrBrRF4lwavcDPBPjzK6oL04V02Yt0KEsDgeV6xUCqXy0EQEEVJQYyIwrIihxGO6pmg7hA8ZOcrVlISouM4iCilZO3bYgl7ebngVf2zZ88uLS0uLxeq1aqUYdRUQUSi9qvRB1Fjaj1bt+2pm5YYvU8DAwMDAwMDAwMDg80FUmZcZCblqSOgdGLBCEQGWeQk0bI59EApFVRV6JGT3EQWI/rNTEoRSVABs+eD72McgNWiMmyJWTF69w1Sp/bbEbdAzCil5kSIERWBZCVZolYTYUBdhaI/BURSUX4GgtbHYFYQslKhAuX7KoyzQDqFD6JkAeaWsBrrUqAjxtPrmJHRcLHlVfu/xkogrfts4Qg4vkIrmYROJQsenlWo92p3bqIt6uaGGGkkBNGlszfYWzTuIpahDILA9/0gCGMiQ/ezUEqrgepWUmQvMpr5KkvFSAGGEZERUT++73tVLwzCRY1yuRyGtePW1UabmqOtdrAxl6HTjVj7+Zzj1BUDAwMDAwMDAwMDA4MOLoK00EOgjVO5roM5JJGhK/njYo5khlL5c64o2amGUItMLSapBLCD4BLZQFYtWrO0FWtcTBKbkOhqkUigAAgIWcS5GrX4DYisyEwVQVnakYTAQkYUshbokWBEpa1WQbH2MSFLUxaClSMByHLAEmxRgzyJUyeiNitmirkDXhPv0Efjs52hGHKfLUSGVnCg1sh28P5XvrTHlVa1cTJMYxFCPfOga9TfbSm2HTHOyGjNOmn5u9E5UelRoymoyacVHjJttRXDchND6Ik0LWNqwzCuItFpEIIZRKyLEXmaRGlNEjBWxyDAkYxmhFMb0YprR4kOSyTiLA/mIAjCMKytplMwsF5zE9EYXY6DELMYjLAF0jGGz38xMDAwMDAwMDAwMLgwoaRanlfLZ0CGkElRItW1OqS3fqcMWQYghJbZUGi5m8tiRBGppgcwjKxWmYKIM1AYcTREOpUiejXPzahIRTqeEb9TrxhRAAqjV+MoGEFCa4EC14mcqDxFxL6ttbjcqm2ONktLhtSz7oNXnEQ9GaJfUkbHDjQlM0IghwNYjHo0Xw/pI5ZkTRRVlPrALYdoPxHu1rThmZc6MdG0IWndYatSRgulwlGEDi3uJiOyGI08mpX5I92ogJaLzFGGBUPsV0IkFJGI8nGixbHRSJzdgiMF6o0xHPElHBu+xnKhrFREZ2gfEyJ9t6vaKB6w06inWnrYwMDAwMDAwMDAwMBgk4DEKuTAr4UovsdhOIprCTPLgGWIJMCrqNIi5KbAsjfvbFjHW2whSJISfKm8CgeBlMiKauEcCwRLR2+oHUlY1WJEKRQjSVDETKgQmXSxg2RWmgQBvSEzhdqiFkHq7HvJACHEOSkESBgCoQKliQ9CCEVYEmEJlGztsw7rBxzSVaR37gbzKOFlL9MJjos02gU3ENvXGXn/3FU4svEn96BZBqdp1PNH6uF2b0+Neu9hVx4EYbTEmJXXApvnjPXameaHK1Q54uESWd8QASEqjOxfYwYJGhUwLKXmPUaq5uDa2G5cJ01YiNhppz7CdCUJNViqRoZIY61OZgljg1jcdC5jVP8dAwMDA4PzHbJ4tvjEvd6R78riWVWYp+yklZ109t6YvfFdlB43/bPp8GafkqUFWVpQpQVZnJfLc+HyabV8pnPNzG0fyd/5Q6bHDAwM1oPIQLQctGwgUYsQwqDrWr1cS1T0ipZVWNuVZW+F17VRSEjEIBASrpXLS7/KIAGUABAERHGCPCtQoQ6KrCifXyipZFAVHBBERq1RZK/tSYRAy1bgAgqmAIFJUf19OZNOo4hdMllFmo2YyaLrskCg2BQzCmHrkTZGNSzQeKPPPUJ4HBi6jpK/0G+XjfoRrr9+59VpIqwkG/rXI3CLIsYwBSbcIkgZ73yF7kish7Ki4KO+OrYKq3KckNHwNeF+Pb7S76ZZG8MNuQ3sdfVWGoE0VUejQaEaVJbucUtXfGjdTS0py8DNNIuhAn2QqhHqR0kfliUSrmNbli42qVsHM9cP28i+6dXTww1EAwODDQMHHgdV9ivSL7NXQScpUnmRHoMeZmMGBhcM/Fefnf/M76hIlD56/CzM+4V5//gL5YNfGnvnf0jue53ppc1FsHhi6YsfN/1gYGBwjkGJDCYz0NfhsVdGhop1HZUCy8ZEFoR1zh7q2oNerAe1EU1BApNpd2IKd+0L0znJISoldL6GIqXLRpAZhYyCvVosyUoovxIuz6vKMkifWNWiSa6rRDgJSmUoNQl2Ekkhg2BiQKWPJghIl6kwK6mCkJFth8emwsltYSanLIt07kenIUj0fjuuvMCmYUQn39TrLXSs+dEaKfdgrIZhtdpjYj5nb755eGIEmi67Uc81KIU4IaPBZbQMlYZBLzXkPqHVL4VVPyqmI12DG0kmCKCaq/e6UnUVVY7ZF50JoUeLivU4AaRiS6DjOMlkIpFICEGSJTAQ0vAUodZs0UwaETPonTMSJZPJRNL1fT/SFVVKMqtIjyPO0aBGAQq00RwrPljFpV2zhoXRxTC42KC8knfsKblwwj/7Sjh3NJg7CqHX/e5w05TMiXTe2X21u+c6Z8dV5Ka21LlUXnyo+Ng/n4MDTf/Ab5uRc+GBg+rS/X/SymKsuFNKC4v3/r744K852/ebvtpEyMWTW7+Rxcc/t/SV/7fPCtt/6s9Fbmoth5j7xK+u/lHHstBOopMkN4V20spOUX7Gym2z8jNoOSPOut8qPvYvozYgc/P7kvtvNYPZ4Lz6hmAVeBz6ICX7Ff2k1OUdfC+xT6JkjhJpVVoEpV1HWZ0TB1buyF7glREmsuVwKi+mdiUhocrFWkCopH5vpSRJLdKJAIRMtahPR6LM5C8vhK+8pDhUZUlKURTnKWTLZjcJ+Sl7x2WUm4jewltMwBTFoAT1RA+WoQoEYCgcSOdoZhtkxlhYzF3YibqZpWZAAIdKqsBVRoxNToIHBo1tehO4DowEtmU0rDwctuVldJ5wZ4JKrGvBLU4wCPWaDW6zdGVoqT6pEz9NkgajZnCPbJUO0oxbS2W000zMkwyuDOK6AkmEWGKlIT5BRG4ikcvl8vmc6zqSFQALFKM52TDXhi4KBpahVKwQ0bIs13WllNGQa3X5ic+fW0ZQQ6aFuwm7GBgYbNhXcuWlh6svP1p9+VFVXhpqC68kvZJcPOG/+lzx258W2cn0Te/J3vx+IGuLnFO4dNo/9rS5tgarQ/n5B/0TL/VZQZUWys8+YIiMTSYylk9t/UaWnvjCAKbjic/l7/7RtU13p9Ty3Lq3PLHvpuTVb0pcdjMlMsNdjjOrmHXlFYbFMDjfoKQqLarSElgWpnLY40WO1TPkdVx0ElBG9qvsVzbluS8uF+CmhqNCoewk56cwkbPGd5CUWrCTtfeGUiB1FYFAjskHrYYIirF66hUvqAbVUlApowwAUAGGSikU7KZpart9xdXOzC59GGGhpb0lQDGQ5jIESu2bydrDxFaWJZMJsh0gUX+93SXWbeRltFRMtBZADBHDtiQM9MnIiMUFGuqbfbI8OopKhszN0BxSe41CLF6K9Zf8bYwNRpwCN9ceihdpcgzctHvFXuyPdhAF7snc1IVL4h0O4CM60jN07zR6fmX+QlxNUk/IiTIxYhZDH5wIIw9UZmlZdjKZzOfHduyYSafTCiJzXxzVkhdj0dCoAoYBQUoV+EGlEt+kK5xoorQS7XJSbxU2GSTZhSk7xzVk/fOMRs3OMPoaBlsxDCgvF7/zT5Xnv7nGF5uyML/8wF9VnvtG9raPJK+4bUs8ZhTmzPU1WH1keObo4DHWI1/D4NzNYEunt3gLOfQHjqXSk19cC5HBflktz29E46uHv1s9/F1004kDt2euf+dA2i5cFa8kzVxtcN6BRBxCkyXyU1oyaWixTxX6amlOlZZqcZMM2K+ClGCdg4yM1rf08ZvkllBW/xChk0InJdIgAJVuFOkwVYKMXn4DE6k4fo1e8IdhQKkMCxuAouKF+otpVGRzMiMmZpztuxUDAQq2kSkkZlRKO5zo/YNgFLU9CwnoUxT01gLE2opYC2JRKV1pwrESBTYICwFI0U89smfty6l9LmLDWMS4igb0sSDyW+HYSReadSaaW4mpm1hmAWt7BpSsQElSUquc6J0SsRaerAW4SIhUZyQ0SaC4+Y6e63oQdV4AVeuFaeVjapvJyFWUG2kesf8txh64saWGPgt9jVrqQeqWIroJ+nfkR9OMz6NewSZBE/vAIAApjLkLjnkAjq1odC2IgrgkJ3K5wVZNzrr0hWoUobA2umnleOrcmYrOptbNxPEY05tivSADdVZFxC4gowKscyFYJz0QYtff2j9ty0okEplMJpvNcKyQga08VxuV0CrI2iLx2a6G4vtBqVgiopZgHpslLzo5q6P0qS49Wk8oqrvGdlBgDNyhMNIjoYdb2tyiddLk1lZSWAh92DReYYEzrGhuwx5oxZq8ckl/LZkmB4RGOcRgzc/Xaunrf116/F4O1u1lQHDq0Nl/+lj+zf8mc/P7Nz8Q3fIRjsFWRjB3dAgecNF01Cbf5otbPSOj9MS9gyfjajGYP2ZPXrLKTlie08XGG/Zd4ZUqB79cOfiV5HVvy970Pnt6b887YvG0masNLgooCWGgQ0KlykUOq13X6k5kEAm0nFp0yQqCqqoWlQzoHLmW4EpriNagKZLeZFEPahTHAgj12SXSZlSx5Gcc7euoTgUgfYulHXtz1mJxiziSZUQJokEwAHBY29IiGQrJICWABCQWrIRQmrFghQJAgCQSpNumpOKAQ09UfQwDkIHiMEAGgTY5KBzQyqvoJBlJaf0Niv1RpDaCJUQhdAguG8G+QqlXJdT8iiYgQt0Vjo6iVSiBpRDAQkjEEFAqxX5VVCroe7URgKgcCxwLbUG2Y1spXZyh5UFQ1YsPNAsCjFLnlQiIynNYAUnWGiMIFDl9RikOSrFUrAKha3dCQQoIFJFimwkjToWALaiLlEiOuAai2HhDych0Iw7yI91VQta8ii7FoaiZGLdUydplUBG7YDGhEhzWtq71m0VsgxK6mEMSBoq0IQgSoEX6IiNTFM3KWmdKZAl6WHB82ald0VOFoELNYbhI6NdGmRTMtY7zgZiEsHTbJWpvXojOrNZ+igdpk8SJbkGlNOuhdT70j1LcoDIQ2kL0iGhoVoPoTmfWlBZ25f4aKQx1sY74XqjnmfAKOqCFI2jE7xHZEaeQNBIiuEF1tAq2rBTWwIYtS7yu9k6JuD2OC6z0kjqt0KAkEFqPEHExkeZMJK5b3zY6KVVnh7AnAdHIj2ko9MYpMkovEdj0somUb+L+a3R4QzpkJR3DJtfDYBVY+ubfFh/59Ibs+f4/s7dd7l5y7eaeoCycMVfZYNWg7OTgdZyU6ahNvkypnNradNIwRAYAlJ/4fP6tP7VKIuMczXVcOfhlf/apiXf+vLP7mnWcdU1GhsH5x2MEniougF9hGXJ5iavlEYiMWtRtJ/TLfAEiYjTOZf08dn1tis0CgXpSfxdjj8jdQkGUft+wkmCFrIgVxRqOzDq6rcVvSmFUnxA5USqMxSXjrIWIJKnF96ATHaIPBCipJLBUUqqqr7yKVy3KSglLZQiqKINQhQFKJuGQK2wXnCQlUlYqR47LjkWOLXVlii5gYdTkS+0oOnwn/eaf/VBVKzKoBqoKSmmaAwIdU0kiYdmYSFgWysDnSuj5HHh+UCmAV8JKSfhVDCQAKsti14aUa7kp6WSEmyEnha6jXKEDR8LYY6P5Mj3KM8G6cQ2gYiWlDDgMOJQc+uBXlfQ9DqVkDGudXQvfLQU2ohC2sFEkWCSE4wjXAstifV4qzpZpKDbEmST1wBKjsglGhRAChBCGHPrsB+wF7PnSDwMVKpAoNJmlVC3ktm2wE8LKoHCALLBI2LVDqCg1pCnV2fRxjYNy6Ye+FwaSJaFs5BwgELFlC5uEpRMbwmoQBKGshGGFQr/WpT6gIrQEEhIpsohcV7gJclNMTj0HBLjFcqVRerKSq4Me1TXNMVu7CthpmYJ1s1nsYDO63kwYd3RL1U5rhkLD3CSiDnQRSu23lDKsQWooVhxnwGi3lBpE7Q9hCdu2hRD11rcfCxhCKZXylVJx9VPMV2m1D0vQSjFSbnj9NMmlWBxFShUEYb2CJ16h7t5iERI35V87k1xiXklGZ6Qk8wol12g/QlDkXwsd2qiGyzDYUjj7T78982/+SKRym0lkLJuH44sR3uxTi1/6g3DhROvCXR/9zKj7caYvHZiqJDLGgXWTMfXh31q49797hx/botGOVwoXjg/Fdzx9/6qJjHM518nFk2c+/Vvj7/r5rvKc4apaIpcM6Wxw/kG/Og9ASQ4DVSlwUEU7MRyRAUCpDGUmalErEdaiQzqXTe9VId8WEPbYFtreFw95UIq8MaKoSUAtUkVRC5iBa7FWXPgAykYSQCBJlsNqKVxe5rNng7PzpfnTQXGBK2UOPeYwVCqQEpkcdITtcjJtpXNONu/kx+2xPIxN8MQ2TqQlCAS2ORRSIkhdEuQgI0hWXoUXjsuFU/7CaVUp20Da/0JJpNBKiMnp9OX7KZeE8lKwMF85veDPnwmXTstygcKQgtAKlNCVI0o4nEj5qSxl8vb4VGJmh5ic4LE8JZO1a8txhQRTnUlgoEAHbhYwKcZQemW/uBQUCkGhyIWiKC5AtSTDigo96YesFBGCzn5AJ2EnspQe4+yEnR9L5bKUyoCVAiEk1WU/FSDX+hNBMAOpyChXL6utUBuwyi+GlYJcXpKLy7y8DMvLqlIIg7KSvp6S0WYbhYvpBGZyVn4SszmVzliZbMrOWuhCSMyCLG05Q0qiimomSJ8kAgbVoHxmLigsY7lMYagTMzSh4bicyVr5fGoyj0KwV1bLZ8O54/7SWSgVoOpxoBRDSMCChGOJZNLJjjnj0/bUTpEZA5HAVrKtHkJHRSZREkIctNerOGBFaUnMIzRIgbpwLBKNLM6qj8jUwivEt5WeGRpqGpG1SqzloZSSKlDS87xSqVQpV6qe53l+EARhEEZ6opZlC0sIIRzbdhNuKpXO5XLJZMKyhKYmIlWYRp0LA1AY+ouLi57nabIK64a0bNlWKpVKaCeXuphIXFyELVkfejkSYRB4hUKxWq2GodR0hp6cBCUSiVw25zhuzFVBXNQTC7PUthdRd4RSVqrVcqVSrVRCKfVBQanaDW7bViKRzGbTlmO1Tjj1ohsyXIbBqBDp/ICb1E07O65wdlxJyZxI5SCRhaAqS4uqtFB46FMDHt+rxeVv/s349/3sZp5gbmpI4VKDCwaVFx48+/nfh/ZqqdXMjdbk7sFfZImc6fPNnsfGpj7068UnPl9+8ovB6cNbrXlDpmNEOhf+iRedHVeshi45t9ln7JUWv/iH9vRlVn6m/a7JTASV5dHn6kkzkg3OL5DtitxkmMxy4KNlo7bX6Pym6WW/ykA2uImo7AATKRrRH2izUGcxuEVcAOq58NipHNkWmFD0Wpq01wkJYBJsaTFR0gUpKBGYpJJV8BZl8ay3MCfPnIG5uWB+3l+c///Y+xNgSbLrPAy+59ybW21vf6/36Z4dxL6QACRA4K4flET+FCnAkqgwJZG25fAibxGmrJBDDjlIW7LDluSQrJDCijBBEaJFkYQpANwX7AQIYDADYBZ0T+/99lpzucs5jryZ9V697rdNT2OmZ7oOi403VVk38y6Zld+X53yfSQdkc3bWQ0Ui58tDQAoVURCJpCEaLTEzy3MLcukEFkbMLmOzIwMlnIOxZSb6J/ElWreF7W8UNy/mN16EQR8ApRDknMXARG3Oh26hZW2Sb1wzq7fczTXa3ODBhtCZdSypfPliDAaURsUUNqDZdjPz1FtXg1Py9MlgfkkkbcaozvavNCF2XUj8l21u827e3czW1/Xmluv3uN+LRn0sRsIWbDVZzeTrQhBZShGENmpBc4Y682punmbmg5kF0ZyHpIVJLMJAoABE52trKhBfERlEXmVCGGdySru6t6m3Vs3WBm33oN/DdEDZgEzqmTmBJA0HqCJKYtFsic4szMxypx3OL8j5FdGaR9UWUjF52Q1yJUIvd1YxJSVatlmRrW8Uq1extyV1HngCxzBS0uKFhVAvB2gZQa+vmvWbevWa3d4Q6ZALLagE0BYES3BKybhBzVm3fEawZKFUK4AJFYta4HRn3fFk5cc492BsIjMpKjqxmPdoQ9ydNelkvsOONOwu2THOH3HO6lwXRYnz0zQdDAZpmhaFLrQ2xjpnnSMAkD5QYhAESZw0m800y1utZqORxFGoPMnBNC5E8eeds240HPZ6PaONTzPxyRHkoiianZ+d5RmlAqUU7ybnTPrX7Nbi5HmxubnV7/ettRXjI6UMAjXT6YRhqIKgKmnZrYzZq6zBgo0xw9Gw2+31+32tdZVIQkRSykajMTPTieMwCILJ0Ya9NNA0pvES7h1b84d82n7/X2m99U9jsj9Oa33nn9/46N8yqxcPhZSffXWJjOWf+F+7v/cvRl/8telcPzgx+OwviXuk+RKff0fnAz/Z//1/edAGrfd+aOZ9f3k65vdDtN72Q623ffD63/+R+47IeOo3jr/x8Cu/Pn/yb97FXjrv+wk5s9z/g//7FaNuKe0O//jXZr/np257f/HDf2/7E/8of+HzL2HuvvNHZr77r0/X8DRea0yGFCrwIooMcQvbC3hHOsZhGRlusElbq+wsOMOV4ALK+6RrVRn7/oBN7Lpv3ilwCLtymfslalSCDcA1kcElOq+wZC0CiYDCOcpptFmsXyluXcmvXnFra7I7oCy1TpOwAOWYKiaoZSc9FjKZ0BmkPdFVZjOmpI1zt4LNQXDmYXX2PHY61qPt0Au0erwoIJBGmDzrZtu3suuXZb+rQlliQueEjKLWvIwUXGumkrdffMGt3WwORqHOA2ccWePrX3zuAQMKS0LnIyp6Qb5pBzez9YtydaWZPwbmUXnigmjOks+FkF6Iw5dXgAxAkBWki8Hm6NbF0Y0r6dUbbmsT06HUuTU6YCuhhIDCOiIhJFYFIT5TRZEKKIqLpJU3F4KZ5WjpRLS0Ei0tQ2eWG4mTaLzuKQLU7rUk2DE7Y8SIuht0/TrduFbcuGy7G1yk0uTCGbAGnAFHskSrKEgIVG4YuO2gkIqjGFtNt7CAp8/yyYeiExegPWdB+TIjhyCElBXKLQG0JZ2m2epq9uIl2LqhskEEDAINB67ZFtlJZ1JlMjQ6v/i8Wb0hhtuUp+QMk6uKcSK/LBAEY+DUphsWOmiiaoqwDXtdineUSivrEK+VUak2jGUpfHd8UdMu6TCpznC7VuVBJ8U+79TESVU2MXlG4Fg/trwESOWIrLVZmvX7/V63u729PRgO8yzXRjvrvXr87rFupC5FQomBCsIwjNbW2+3WwsL83OysN5eNqjIt9FPsZ4CKvChb3toutA7KC5MwxjYaibYGAOI4DsNgp77jtpO9SlTR2g4Gw9XV1Y2NjYrIqFiVOI6tte1OO0kaSsFYjIMnpUx3mtK66HZ7a2trW1tbeZ5XQ+ocRVHY6cwwc7vdKo9/b0x/TaZxt0TG4iGfBvOnDmIxypM0asz/2f969V/8x4ed9Vk//eYfNp58/6v46GD2e36q8cT7h3/0y9lznz182/Z7P3QMkPyvp8vmfo7RVz5u1i7ewwbb3/Xn1fyp0Vc+eVvlQvzwuxpv+9PJI++ejvk0Dgk36r4kN6j8uc+JD97lvppv/sH44e8cfv7/GX7p1w8X/rztWsfOUDHifEjFyKxepGxwzD2mf/zx5nd8T7DyyJ6fhqSz8KP/XfbspwZf/BVz47kjuMLH39v+rh8LTz4+XSrTeO0FAAYxqLC8fc9HlPYFOSHV8YgMEMJq1qlwDhsz2GiL+0vBv8664NtZDBCw6+tQu5/utf2Eg9MxKrEIUbm2jjGkB2/jynvpSKc02NJb17JrzxfXXyyuX4ftnsgL9I/9sSpIERCwL1SB8kXsRO1/QiWeLZQbDV2Wu9y6ohDg1InTotWGOHJQ5X0QgGMJBEzWUJZhPoJsxCRJgLMWpFZKYW/NXIOcnL56SXS3wVpk8nkHosofEb5AxstoknMlElRckB65PogitcjGkoBALTGUIDzC2nfEjwOy0LnrruvVy8XlZ/W1y7S6wYM+OINsapEDlCgEWG8jSlVdQFUWkZfwVYKQXaO6rrVJvQ3qrov+KbFySi6fEp0OlYMkSJBjAnTln8bYfFAMVu3qVXHpirtxjTdvibRHZIRwCsojAtqRcxASBJEBW7gcmJkkYj+i4bYeDWCUOuuClTPcmsMoqdMdyPuq+PKWchqMFaMB9Lehty6ygWd90JF0JuMAQNgsG3KeFVde4O115Qw6Wy0kECABlJeRBCLHaFHbpB3ZHNhCbaq6u9hgV/CF9xAOsE8u7l69z/pvYhJ8GIuxKwoB4k4Nz9s8Ryr8v0cdA8BaOxgMe93e9tZWd7vb6/VGaWqNcZWqRS1EAYjSa5qQX8flr7hGnWUZIo5Go0LrPC+0Np1OO0niMAgE7pKGIISzbpSmWZqFYShAGK2dM0mz0W63vPIF36avuesz4+VCrDV5nvf7/V6vR85rpQqhlCyKIorCLMuNMYjythq42/JZjLFpOhr0B/1eP8tzWS7hckysTZIkqbI8JpxoYTKHZVpaMo2XTGS0DyMywpUjbPbU/JnowtuLS18+ZBuz+oJ4FYmMqiOnnpj/kZ9Z/8Wf0VefOWSzzvt+4mgi449+RVg9XTn3L5HxzG/f8zaTR9+TPPoeyoduuOnSrmzOyeY8xq3paE/jGMzav3tJ27NO8ytPxefecpeX9ObczPf+NITJ4ZQrCzgkkyi/9KXsuc9kz32W8+ERR0sme+4ztxEZ9VnzxPuSJ/7k4Qky4dk3LfzIz0wXyTRes0QGQtyCqFHeqOuUi1Ft8HEsIsNndEAQMhO25uXMkpDyVaIrJjHJbe/cJgW6w2KIXRYDakE/2Asued99gTfF8PX5u1AKx/YowjFYSnvu+mVz5fn86nP5xi3KRoHTKhCBUCGyY7LkwPEY/CmqsDMwliNdyUoSsKO0VxRZkXe16cV5v/nIW2RjxitsEoIFRPbGshJkGEQqijAJPehiz3Ug28L2N4tiaImSdIBklDcGJSiPUtTpAl7HU7ITZMEScyhAkWiSwGGK37pqBs45GTgXnjiHUVDC+HqcCci5ft+8eNFcetZdfU5tr8u8AOe8a0bAbFkIVNKPJSF7xQfEsFawJL/U2FljTN/odDRYL9au2psr9uyjDVZKxqoZeGNfzcJ6dGzRFa57M7/4TPHiRbxxEwbdgAokS2Dr2iAElJIFGecYSJaIFbxmK3kDGYpJyP62GA7zrW62vR1e2Go+9ia5dApkgCyEsSRIhL5gxvvQxiAkkFezBfRqtpU4B2U9XjfF1qbLs7S/gTZrKZABKEDB5Ryj12sAQexYgHASsRkG861orilCFIXZUcOY4NhgnHiBsKf4gW8DzDXzMOljcuxqktqettKYqFc5jaUxedKFZEKbk8nRaJSura1trG90t7qjNHXOeerEK1/6rtaqH1StZCXH7VYtWmtHaaq1rgiC5aWlU6dPhUFE5Bk1FFJiFIdxEodhZI1TQVDJigoAa4zWpmIQdnIxqtQVsWN/gmWvxuKj1henlKvGp7mwMSbPC8+h6CAI9xNJra8GvnyGqmIZ58hbtEhEIOI4jlqtVrPZCsNI+TI8MZYzGdue0I6SyPTHZRrHJjIOLEv2P6wrR7aAjSOUDt1Rt8KvrWi+9U+PvvSx6cq5PyN77tNHPgG+68C4hXErEA9Nx3kax4/067+3D4B/6C3RqScP4hpGX/71uyYy7knEF94ZX3hn650/vPUrP2e3rx9x0r3whc77/8p0oqfxIAYR50Nh8tpZEHDf0hB1IIegAoGqhBtZj9IBxs1Xn5qBHcGLSeGB24gPnty+sniAl7KLHaqjUv2kig7wuNwVfb11S1++aC5fpLWbOOoK4UCA9HAIvCBqiciABSKDBJAowFEJoclLXJLPQ2C2ZIl0xlzkYARA1F5SQRPiJgQooTJ09WafAkkgITJ6X0zhC1ZKyG05TykfAbMki8Tky0ic19BE7wjqN+Ryz8CyommYHQh/TEYMegRgL4ccKdnqyKTpCRwkFESWisz21vTVF93VS7C+qrJhpU/JAhywZYHguydASFnuxBu0+i0IEEuMX/aYAnbCaae9iS8xNWdFmoF16N1RPcPDDI6zgdlYza9e1JeetdevyG4fdYEKpWRZQfq66kc4RguVeWsFb1nCOPuFrDCWXS60tc4SE8YNFhjPLUMQVzQeMZWHjiBQIFPgzWL8caMrOy+QLeSZ0AYcCaOlzbwCq9xZXN64lb2aZYnky6mJAmjG2G5iMxYK6wU0iXd3bEj25mNUNVCTLENlPlq1MJlvVBEGL/V0GTum7lir7u7Fw3KoWIBRmm1tbW2sb2xubA76A2usUlL4Eo8d15Vxh6jWEN5xARlnK1jrjDZaa6uNII7jBAGSKAqCoDxBlEySpJEkQRCgxNpHBcuVo7UpisIYQ5UNzUT6w7jv5ennHOV5kWW5tZaJfSPIlQKKdbrQaZpmWZ4kyR5ZHJikQbkyPdFaG2PYF4qNi1lEEASNMsojBAR2LHj6GzKNexDRw+8qLn5xn1vtE48eiwrpLB5BX76+iIzo1JNTIuO+DX39G9NBmMb9E7a/vm9diYya8SPvPojIKC595X44+GDxoZWf+ie3/tlPud7aYX3cuKxXL4YrD0+nexoPHpFhSWeCGWTAJYDGfe07Ds7ICLyfJTk2Rjhzn5SWwGRmxfEOCXb4j2MgvzHU9FQElgjK5wOUgJN0kW+sZldf1Jee41tXQ5MGgk3lPeGEsCXWdkIyoJMolFJSBSA9fNLGaUtOCKdQVgBSgCvnhXOzuVpAkMUL4FR47nwQtWsjUsJq77ng3Do0lDAGJd5WHtY7dDYCYGAr2AAYJ4WUQSilkqgUkLCFReOQWAmOhbDCmXJjcFIFyAE6sEO6dcXGIZ08Kdodhg5IBRLYGjPYytZuFjeuwPrNMM+kYAgUIeRkjXPOY05kL/CJ4ATY6jl/9QJ2zmVkheCmlImEUKAIZRAHQRhgCZLRi6qilKFwzCbT25vDZ58uLj9rb12FwUAJBiUFAgkRAAEzEBORJWcBrB9ydqSEKEe6PArhgPMSmkKsFAqCQddcvdQlEaXF4hvCYHGZsZpHj+29XIbzprJMhCQwKFGxAxbE0mgJBh1FzHE5gyAclxt6q17t05ocCOXhNYOCMMZmi5OEokhUcq2e5RlLWo7FMMr/8UkBJMZUwB6Pkol1CLuCl5WPDsNdMn+eVKn3XotlQGWt6rE9pFm+dmt1bW1tY3NzOBgZY3dcUspF5lyJ+ZmVUiillMprVWjyOR04Dq+Sy+R1SdM03dzcBESji5MnTwRB4GU4ZCNJGo2GV/QUPhuiTnTKizxNM2+M4qo8kWrcKpeQKqUEiLU2Qx9G20pXxG8AROVB+k9Ho9FoZqYjBO8rispMxhitdVEYZ0miBFWzG951VcZxbZ5SeTL7q8Bu7kzVzWk6xjReasTn37YvkRFfeOdxvs75EdXU9PoiMpIn35+88PnsG38wXTn3I24cbk0HYRr3TxxUVwJx6xChZTZZ/q3Px/eH/MrM9/z1rV/52cO3yZ7/7JTImMaDGCgxbokgKhGGCiAIXwqRwSXY2qnq91YRVsjgVecx9sK93Q5NABeowZ+AI5Py73R3rXwjPNit4LKXBGACdnY40Dev6+uXzeYtmfYkCm81yVzieWUhlCqBKMJGhHGEKpAy8PYNFLicipHOupRnQltprWAnhVDo8yWKVHQ39NWLGCQ421INyV6xsDKwZODKQheZ4rpyAMtvCUYmn9OApAKWsQjbMm6qVhw0Qql8lkRqRFZgloliFBYDdrkjL2hRAn1BQEA5Dwxt3NLrt7CzGDZikIlgwUVRbG8Wmzdtb0NmQxIGsETmXD1IV6EIA4xijJsyCIUKPDZmsg6MZWuEs2wKq1Nwxvr0FEbEMJKzs3J+DhoNVMq7oYIAyZZtb1DcuKmvXtTXL8OoJ42VKgRURFUSBrIEDqVDRRCyilCq8pfIFuy0d061zFqQK0EpgAGhBLHOqFd2mEDqucUgiEQcQhhUdUPjlc1VzgqzIF8v4rVBWJFDweD8UsCAlXTK57GgLN+ucnyYhbWYaw4TbM5Cc4ajBqGqLFFq/mCCUKgAf5WJMBbgPGyZ75AgkyYeB2k03FZGMZbi4AlFGNgRnNgpl7C2xP/9Xm99Y2NjY3M4HBltfEka7pwW5byFoZQyiuMgCBDROZcXuXW24uPcuCQExsSMI0qzbGNjAwEaSRIoFScxoozjJGk0oihSSjnndvpijdW6dngNw0DK+lxGQN4ptWE21o5GaZqm3nh1gtOsGrEu81EZxO4bzpHWOs9zXRTW2pqsIVsphoZhmCRJHMeVasbeqwRPKYxp3HUEy/vfgDbfdizFOZceYbMHKnqdjdjsD/4nZuMKpT05u6JmT6iZE3L25IE8Tjaww00+QDwvOvfmY+2SrBtsueFW+WN7V41Q1re9NdbZ3R/D/c9ibF2jUffb1DilPTfYKG+HXlMD6EZdGm6+5g77dRPZs5/eH/4052V7/lAG5BP3CZERn3+HACXYHgZVdDqd62k8iMEMQQwqEM5CUD8qPj6RwVxkwuRCKmx0IGrdNxkZt9MZd8AMPuJQKwPMSnHjjo/Ao1D2NTge77ISjpx2Onfba+bqZbp+FbIBCodSAQjpyIEsZISNuWD+RLB0IlxZku2OCEKUUmEAJdbLw9E2b1wrbt2kmzdFtxdbVl6dAQCUBGsKu3E1a4R4ala0A9malzKpZC4QSCGHQBJEKFD5Whdf2sCVyABLpKgJsyvtlQvR4slgdk61Egg9cC2IBiPa3KS1G3zzkupvIGXsnMfy7LBsBCzRqJet3aDZpSCcl4iChMlyt7lKW2vSpiBLqEcAJUR0MhCBbLbCpWW1tJLMr4TtOUwSp1RB1haaR0MxGMKoT8Ou6m/RoKsH/dxogxgETTxxNjr7EMzNiUbkq3DYCrBpll27lV+64m7dwmFPkAGFiAqEJEeCWAvBcchzczA7H7RPBPEMytCxTYs+DXtiqyv6XRptsc1keZyY+5mT0jHl0N8Qt2JzabnAQJw5r+ImshOOquGr1SvLl6ocakL0ohtkwVNFBLLAgMOG6rSCVlMlTQ5CkmiIhNY0TEVvKGQAnRVoLVDYtCIQ5FMwRPUSOyoPiBioMirJifFiLiH0PhkZY/kM8lyOlBIQjiotgV0WA8QkT1L5gHh6AqoikSq5oCh0r9vdWN/Y2twaDofWOkBQslyUTFSuE4AwDFutZqvVajSbQRiCEI7IGO11PXNv0To01u2cflDOXNn4aDTaRGwkCSAuLizESRxGUSNpNDyXkWVZTX8gEFflHoXWOkniSeIAAb1hiT8c67I8z7LCOsui8tWl8SCWS7nQpvBaG5N+qTtUpk8DcZm3lc3zwsuC1vobUsooipIyymMrR3vsz1IxPpPqGHdnfzuNB5rIWHlk4cf/DumcrRZWs9VktHDH1bOk7AirP2x0XmcjhmG88pP/8KBPe3/wL2m4bYebNNxyg61DbvEXPvz3Dvoof/GP8xe+4AYbbrRNo23X3zrIgyA8+8alcz+7fwvPf9b1N91gww42Dirwab3nQ5OAloqRvv714trX9Y1nadSlfDBp5RiceCQ699bgxKONx94jUN2TwdQ3n9e3ni1e/Irrb1AxpGwwybYEi+eC00+Gp78jPvfWQ/Rcep/6SHHxi2b1W4fvq/epjxy+wY78ocsHw8/9khttu7RLvXU32GRbHPTTdvq/+dW7YUaKkb75bHH5q/r6N7kYuXzIRcrWQJRA1JBRE6JmePLxcOURtXguWDyuMEfvUx9x5drbcL0NNzxw+bXe++ED5z3tUrZ33k89Hp9/R3DqieR4WVqH80F6/ZJZe9FsvGi3bwqdOZ2yzlYN6NYAAIAASURBVMv7eapJOgiS4MQjweK56Oybkife99q9ULjuzYP8SqJzbyo7eurxgyRdikNliV9RUBNE4enH9bWvHzatOpv+kk7jAQxyhvIBm6KWEwDcF+If5FoCIJWAEuZho4OtmTv9Tl6r/E7FAuwyNvsJf3L15LyELQgsrHH9Lb1x0966zt0NSSUKqviAEvKEsZhZhKXT8sSF8MSpYHlZtdosA4FSQoAl4tKYdt3sIjYWrEiEuAbdTWFyIAAFWEJ2Wwy33FYSbF5XszMyaomwyb4MQjEHJZAC9JwtEEv/0N/rQyADUtxWi6fV6QvxmcfjpdNBp4NxjJFkEM4QDVM3t2WaM1IptRqb7TWRDUsw72E2AKEgW+TF5jpvrLcWH/GLhLgo3Pam6G0plwtkh2hZIJEEJUtUv4RnHlFnHgoXTobtOYyaQknF1urCjUacDng4wP626G2YzTWxfkOnI8sSZk/CiXNy5ZRstUAqIL9ArS36W6PrV+yt6zDsobVCIYB0IIDYgXBBDJ0GLi7AiVNq8WTYPqHiGcTQsgXd52E33tjm9VWzeU30t1FnwlpiKqdYlmdAYIzsrutrFzlqBbNL2OpgXW/hH/PXVFE5ReS8OidXSTaCBFgJNmq49pKcWwoX5sPObNhoUxQKz5FwXsAgFZt9ECDm5tXsifLGCORYVXYsFzt5QjJrY9Is6/f7ztkJQuM29o13GDoiJ6VqNBphGLzkpIBKfcO3hnU3dzNBmFkXRXe7u7W1NRqNtDZ1kQhUdiwglYzjuN1uL8zPtTudxItH+FEjX8qh0ywbDAZhGA6HI601OTeuSQF2ZLQZjUZbW1tRFLZarSiOpJRBGMZxEkVRkedunJFBRNaYPM+LoiByO0TGTpYHCbbOFVpnWV74qhbwRAxPXKuYuSiKLMuKQvtsi11Jzl3zF6KiKPI8d15lQ+AO94JRFMVxHEVhoFSdh3Vniss0pnGXsDyJL7zr7r6bX/6KvvL04dvI1x2RccSYvPBHdvPqy2zE9jdGX/53L7eFr3zy+Ntnz382e+EL+bf+iLMDU2zMrW+ZW98SQgzmTidv/O7Ou3/srukMu30z/cbvZ9/8w8PHymxcMRtX0q/+hmfcHg7PvDG+8I7JoifKBtuf+N/zF75wnHur4Wc/esjH4dk37kLQ3trwj37l27RCsmc/Nfrab+urT+9LjnA+5HxYsVb6an1yqcVzyZPvb77hA3L2xBHgebiZfe23XsLBvPC5/IXPp89/QRxcI2ZuPFfh7eDEI8nj72u960fgJd5v69VvFS9+Of3679mNK0fPk8n01af11adHX/53av4Xkiff137vhwBfe3f4w4NP4ejkE+W/Z77jICKDTZ5+/fca3/Hd90NHZGvhiCkrRtNf0mk8iLdPKK3VrAsByM6QzvatDjnw4rXz7JGyIQ27OBPcD1xGXfkh9ipa3DNqtFJQ8FYntW9BiWlI58Xmql69ZrtrkKeB12YoLJX3qCpUnTn58MPq7CPxytmwsxg0IggCg1IIdBSWSElEgYpaUSdqLrjWjG620m88bbs2YiGp3AmRI2dgtE0bN3huEWZPYoOpxPGkLEdOKMJyQr1sZzmx0lMRKJ1s4PzJ5uNvCR96TMyf5FaHVAhSUg3HmFsBq1A2YzXXgisz+TeftsbFNlfCiLEqJRujt7fF9oazBUnnrLFmRL1tGPTQWBTgRO1nSyrA1hwsn8HzT8iz5ziZcaqBLFFAAE6qBiUdcktkTVDkUT5wm6t888W822UNOH8iOHFBza6AitAJ4YiL3I66euNGsXrZbt8KnBZKIarKYtYKQWEo52YbFx6Lzj4cnDwvWwsIEcoAULLghtBsDJwtzPYa3bhY3LhE16/I/nZoiloTRXoTGpubtevU6MjT58XMHEZRebzOeMXKcjOs/DicNyBBrjxerZRZGNLCUvjIGxunH2rOL0WNDqoGyyBCIMHgiPJC9EfCkAgVtBsQNUvsLb2UhEQErGoiKmsPYs6Lot/vl3A6z6IoHLMcu8/4KzXRcT6Cl2gR0Gw2l5eXEFtKyUmjk9tQ+kGnC1G566q16nCg1vi0lcbn9nbXWluJRPj6C19qoWSr1VxeXl5YXJibm200GpUixo7vifcrtVmW9Xr99fWNGzdujEYjROnVcX2XQVhru/1+nCQLS4vNVlN5Sdw4iqMwEtVm5KVvLXlL1Low5M6Uh4qAyDzTYYyuE0wm7WO9lkee5yNffFIU3nlEqckhgvIsI1024GU+y97IShEZEeM4TpLEj/DkfIjb/5jGNF7ZSJ/5nSO3ic697cEZELaF2b718s9IetlaD8dvIb/y1OAz/0q/lCfAdvv64FMfKa48Nf9D/8XhDr77Rve3/unoqd86ftZPDadXL5rVi6MvfUzOnpz/4H8WnnmjEGLzY/+TvvzUPZ9H11/7diyP0VOfTJ/+nbtQJLUbVwaf+sjwc7/UfMefmfnAXz1s3gebx5/3/qd/wRz6pH1fJiu//OX5D/7NY8774Av/NnvuU+bm83dJeG1dG3zmF/NLX2q/+8eTx9772roaZC98ft/3g1OPQxB7W+gnD/v6/UNkHKnoPM3ImMaDGVJhc07OLPOoy077XPl9tlIHg/rKg8LRcLt8NWfx1Scydir9xbcDZJQg1j+4lkRQOa+CICFsUejtdb25RulQugKVqh53EyLFTTm3FJ49H51/OJxZkXEDBZDXVR3rOSKUEE5BkCilSAFbQxvrzmpZcUtYCV44LHLe2rRb6+7kEGe04BAYmAAZBSADkE8lQG8Fy0QujLmzKFfOBWceCU89RI2WCEKo9Rl8aoBkQIWREomSjdAxyY2yCzAywpoSr0PZR3aEoxH2B6JIhSmEICALNmdbEFnBhEJ6FxYrACiMsTWj5pfU3ArL2IFSmgSxlCClsLLEsk4IcA5Mwc1ZajTkoE85QHs+nFuGuFFCafJJ/ya3/TW7dY171yHdEuRYIJUD59NFggBnZ4PTp8MLT8RnHg3mT2HUBusLCtDPDLQqjw/odGwroSg0xqK1auiEdeVglcOG1tlisO02b0Xbq7yw4OQiqkgw4g4MriUriAGpHD7PIKkAZueCE2ca5x9pnHk4bs3JqEEQAGDopULKLxqiGSus748EUnLspQJ1PobfQ1ULxczWlcifyOkik1JWMp8wVrOo0hl8JUVdyIAl8Jezc7PtVjtJGvIo/2O+g9WrmJQq9QQm6i2cdWmaDXxkWepdUMc+o4KVku12a2FxYXlleWFhvtlshmFY6d3C+IyrutbwohKIkGUpcyUD68gzFOAVRrMsGwwHg8Gw0Ww0mw2vtRFVMhlGG6g8XImNsT4jIx+LgE4SPFDJixZFrrWuNEp3kkomy8oqE9Y0zfK8UCrYUUrdGRNvvFoUha4oynEmFkspfV1JeXpWM1ULrIqJnA6uTW2nPyvTeMWiuPp09szvHb6NWjwXX3jHgzMmbrAFZO5BO8ONV6yFzY/+7bvbhb7ytY1/8z8s/cWfxei4nnGut7bxS3/Hbt94WV3r3tx5RBydevLbQmT01u95m9uf/EfpU7/58mgyPfzCvzUbV+c++J/LxswBHNMxx5bvft4vP7X5y39v+a/8g8PzcXqf+sjoy79+T0yLzM3ntz72vyz+hb8bTWTN3OdhNq4cWFdypu5FuHKYM1Rx7X6pLmGTH74ByHD6gziNBzGIsETZK3bjKqqOnFvZN6PiYI0Mq71zJ5Rg0Xqxz/vhhOdJbAIVvrpXLZMQFuRYJcEJFbDHUbbIi+0t098iKkqw6aGmYnBBSLNzvHIqPPFQNH8Kg0QIZV2J5IQSUjCSKfE5oodAFpQQM2154oQ8f96yKW5dN2mBZRcoAATnRG+gt7Yx6wmbBQpBgoWgYCVYskDrhQ7iEk+RdUQqDFZOq7OPiIWT1GgrFmhMCdBBllhcoHfvEA5QRBHijJpfaCyt6MG20AO2KVOJGp0nXRqWwqyQwyGPUhmHSkIQIinQwgFRAD6Px4+8AxYIqAKQ0ghEYgUOvRAno5ACiUEykgApY9Ge40ihscohq1g2myTQS1YKFUgmY7dv0ublKNsUNhNCkhcN9Z9D2GjHZ84HDz+hTl8Q8ytWxtJxAA7QWunFS7zfrBCBiNtq+VzICGnmdGF1iqZAAvTJFuX6dZrSntu4ZubmsNnCRiJBIcoSQ7MrF7lgkMgorHDEwgrGOGosnYrOPNxYPBe0limMLFbZMy729BI5TwwmAZBnlgSjIHKVSK7H8l5IFHzpAngTk/IeyFnOyGjtTVeIiSuZzqrio1rJHsyzr/OQUkkpVVFoZ4nLCX4JRj1jdoN5jPm9UAaiz5Xo9/u9bi/Pc+eokiCthUUBkiRZXiljYWG+0WhUAp/ViSYRd/dPQqJsJMn83JwxOgjU2tq6HnqaoO40Erksy7e7276gJKjKVZJGEoaR0drb9DoW7Jz1FENRMSATyhTlARPVbiPW2h2Tl528icntrbVZnudF3mgmVU0K16d1edZa6zJPh1hy3juGqr4opSoio6KK6rHyCUs7qqu1/W1VcjJN0JjGKxL9z330yG2ab/zeB2pM3GDj3qCgl12ccswWhp/71y9nL3b9xf6nPzL7vf/B8aDd5bX/6z+9J+ODrbn6BnH+zLdnHlfvbYPrv/gz+h6pHhQXv7jxr//O0l/6OQyTO+6qresd68iHn31Z827WLg6/+Gut7/rzh+7io/d0SnT3k/9o6S/9z68VzZ2D/Ep8kVTNX8jOspo7bbevH0AfFMOvfrz11g/eB5e1I9J85Mzi9AdxGg9iVBSEzoQ1IojAS0sem8gQAlSInQUqUmwvyM7CfaOR8ZISvmuUWD8W332iDAhQS35CbeO6x9e11kwUxNaarMj7ur/lRgMpSHk5TGA/cGHkZhfE0krQnpNxk1lW/poshH86j6IE3iyqpH72KRpRAq1ZNbdgN9dpY71OshAgq52NUuz3TTpSOg8wYSEIhatkG8q/vdAJsSdFQMQNXDwZLJ/EVhtViMZAiQO9woOg6vk+Vs+SEUUQysZMuLjCvU29fYsygbUDpkDB6CyagrKcTSGjoER0UjkpnZDAJigbKw+yxO8mp7Qv+tvQmZVxW8hQ+A6STxkR7LzvByJ7GiaMKZEgADlw5Q7JMUmoh51tbrprbntV5SNkxyitEOQcSKnippxdDk9fCE6fx9lliFvCeR+WynKlxJQEjJUpKahARbPCGXHmvMiHur/NhQZ25MhrZBIyQTGi7VXaXuGVs1WnQaAD4QQTsKzVXb1Ep4e22OhEy6cby2eC1rwMm+xXC1WOuFyTA8JreAJIIAHEJCyMabY61WO8ikpML7BaAk5Y52ohT0/ZIOz1xdghFABRWtTaEPGumAvfzr7V0Br2LzOpYDdNJC8ws9Z2MBgOhkNj7I57CBMjQhCGzVZrYWFhfn6+2WwGQbBT7lG5GNc7qWUsIEDVbDWXaJGIh6OR19Es2/Q2w+VWxphyT63h/NxcFIa+iKMRhWFWqZxW5VssdKErDU5PrFRv1uKkVdlInuXVp9V+K0nOSVKj2jLLsyyrMjtq09uxbCprY4u80EXBEzK/iDIMg2az0WgkUuLUoGQa90kMvvBv9YtfPQJtNueS7/jA66nX+toz6//qb8nZZTmzIlsLsjkz84G/tgfY927dkx3ZzeuvegvHBWxf+n+j8+9IHn7XUSzGlXvFYniV+NoKR82sfDs6ZXv3srSk+5v/h76n2o12/dLgsx+d+cBP3v5+f/OVuwL88ceSN33/K6mAY7dvpM/+Qevtf/Y1ca3IL/3xQR9FJx7bJTVOPX4QkVE28tzn7gsio39EgpJqL09/E6fxwAblKRUjcIXrbails3d6lxxsvwoAcavS7scwQV9y9uqTM3A4l7E3v756Ui5E5SXr8R5XhEZFXega8dckhyyRMnu30BodOqdN3s2HG/lwi/M0IhGB8nDHl3AEIc7Ow+yCUBE4JrZeHdT6Gn4lQLpACeYSqjonbPk9xyAYAxEJCJ2UrNAfoIe1zrmigFGuBgUPLcnK2dISWvIHFlZikoKdAAoD0Wzj/LyamQ0kSi9WyUI6/2SfS4jvyr6XONUDZkJQsVxYFt0NfS1xfUwEKyFQgAW2ZNgVgS0C56QAAmVlZDEEUAiSKysXQCZyg21eu2ovdRRReOK8nJkTKmBEAY7ZMJmqOsGPa+TdYx0DGKH80DgpSCIie/sLnbutLdruoXUIUqBnXogExmpmWa48TCceofnTqEIkkp6HIyF9f8pZUgzAyEJI9nRQIxFnzrM2emPTpgXlPelcpdcaCAarsbcpuuuoR8rZctmDdBI0QgSgyoEFZChRtFQUNWVnQS6ewrllEQRedRQkC+UTgAR5gggYa9fTKlGCfSEWU62yCVwXI1T2vAy7yxcq7kAqHH9/okpCCFS1ASmMrTtkoKQqu+tFX3lXFJRqQA67Nqu7X62oB58ZAeXy8meAr0mqlDjTLM08a4AAWBErUgWNZnNmZqbd7vhcDFlxKFAxNlXuQ02f7J5jQaBmZmeMddvdbpbldjByxrLPyPCawy5L8yzNrXZJJJuNpNlMVCC9aIVXMpHlQGqt86youIwgUIg4tooVzrk0Tb0iqXbOeQkSGUUxIhKztcb49/2SclmaZVnqyimuM6cQys2McbrQhW+/2ikRIUAQqjiOm81GksSVCEj17yRVtKfYZEpxTOPbH8WVrw0+/QtHbtZ4yw8cqRL32orub/8zIdh1V123fu59G5GBcRPCxss3I4wvvCP7+u+9ui28BH7nylOHExlm48rWr/7cvdqdbO36VsqZlfDMd0wwTYcoPkB45g3H3EVw4rH8+c/fk6PNXvjcS1JdPWYMv/DL0YW3x+feuufnwBbByUfNzRdeiXv3wWb2itMK2bOfeU0QGWb1WwfVlajFc5OKreHKI9kzv3vglfbqM8JqoV7Nwg033DJrl444JWeWpj+L03ggOQzn4bMWzviiAL2f4egBREYJa9K+27ohrIUis/2NsDXrlRdefS7j4I/uVAnwmN7rbdLYqoT3oJTKxKR+nO1f3pS0qllhwdZxlnLap2wEplA+55yF83gWOQhku60abcRAeCFOBgafwS+8zgY5Q05Lq0VRcJ47nRmb2+0NWluF4QCd9boM5XCDz3cga6TORJ4KkzO5GvaWyL08fPRpIP55MgoMIIxlsyV9SrysYGsJ9SsGxnebxYQHBqIMZbMNzaZTkXc9KRv2lE25Y2G004UzpmxehiJpiKgBGIAoqjR7QkHshB5yd01fjbwniA6yk9DocJLIQAlZInwPfJEFkEf8QP4dtn5QqYTlnq0gYznNYDSUeY6+wqL212AhZCDb83J+BWeWoTnjGyFULOrkFq/IWk5EpcVaaRcQKBXOzPHSsp5bpq0Np0dsCpSMIBQikOPR0PV7lKVkTcUIVa4l4xQc8EIZAiSUA9toy/acbHZABRVsl7tkAYg9mhM7RAJU0yh2THEAbtOk3CPvORbGuJ2pGytlsBA4rqDg/cyFq+U2eUJMFF7B5BGMD6D811qntS7yvCg07aZY+DQiKRtJ0mq1kiQJgnBH+bLu7m1So2OxXURQKmo2G81mK0kGaZpb63Z/pIm8VUiu/dIKwzBJ4jAMKpWQ2p1EgLWushQpCu2ZivG4CeFVRfMsz621VTJMJc8ZBIF1rijQli1zxdfkeZ5mmTF1EUp15MxktNZ5oXVhjRnLZ5QnQRgEsZftCIKgojDuVFStRnTKYkzjFbqvHWx2f/v/PNiNcgzpm3Ott33w9dTx3h/+/JE39Mljf0L++Hz3t/6pWbv4cvY1/2f+y157fviFXxXsXlYLn//lV4LYunxEbs7gS79qt64dTb48/E5sL2LcdMOuG20elPIDzblJUmPpL9YUSf9TP3+4SeTOlkdG5z0fkq35/h/+/MtUXdVrl7Y/8Y+PRZ2sPBKeeYPrb5rV513/WAVKoy997DYiI1g8t/Bjf7d7XBuXV41WgDCR7cXyNbOEcYvSPo26+ZWnSjxw+HhefVqvXgxXHr7PrxWjrx0ohhKe3sOmhSceP/Rqq4df/vXWd/7oq9iX/IWjGT05d2b6yziNB5TKyAZMFqKE7YECF/sTGSAVhDHrjHWGUVKV/guUr+/x4spKvjKgFL7HhjDXKtORsWypeiTPKCyDBpCBDFUQqQAZBak6rwM9OGQQRru0V/6EZF3u97jfN72NfLDmel3XTWGUyjwFqtw1QPmaEUFWuEJRKjlHsATeraRC7z6bZPyYHnbEIKUs/wEphRvXDpQHWEsu8A7gxvF3UAKCQPTPq7lC7wgM1omiEFoDE4ZB1G67TtuuK2D/BWRNjrnsJGe97KZJh125uRotnWksnwkXVnB2EZpNEUbeUqTcsSFGEkgBkAuslsAYBgBSOsnaiGwkRkOldU3igHDjdAYMI9lshq22jGKUgbDG604wYIk8ZdkzCUBQJwsgC3JeakEhRlFiOh3R7ujBBumaKMDKp0MXlI+CLJVFIaNwLxiH2sOFSpQspBJRqOIYw0hIFLXtBRy6cnboAN4RvEBE9qIP7PE8jx0/qSp1GHd3x1djh3vwJip+ZUjhnLPWOueUwnLbiW2Ox/ntMHRVjkKlN2GMsTs1I1WBByKqQMVJ7DkCKSXwHWUsYrdepkb1O4eBUsa+biQMQ+cNUOuaDn/8RhuttSOnpIxC73Uahs5rg1YJUZ7asrnnGuI4GteDELHQ2nhpi4K9Tgczo5RJoxFHoXdahTxLqzEh5qLQWVYURlvnyvMKcOxXovM811pbZ9Fr1pTjDxiEQRiGSqk9iRi300FHMajTmMa9i+5v/9PjeCi23/vh11w6xvW//8Mvv5Hw9JPL//7/lr/wueFXPllc+tJdtzPzp36y9fY/N/rqx4dP/SaPtu+yhTf/wOBLHzumk2uwfEEtPxwsnA1PPhquPEpGu/5a+vRvjb7yicO/aNYuscnhgKxYfeuF7CiRSzV/eub7fjo+v6sLO3rqNw4iMpJH3vUKLIbmm76/+abvG37l4+lTv2FW75KWSp/6xCF2tuUPU3ux/Z3//+SJ902mmej1F7NnfudI/9f8hS8UV74WnXvzHkiZtBd+9G/rm88Pv/rxY/qwhufeHC6ekwtnwxOPhycedYNN29/Inv2D0Zc+diStwLbYKfM5frTf8xfa7/7x21fR+ovdT/5jffO5I3Z67en7n8g4rK7k3Ftuu1wEJx41tw5Mosle/PKrSWQwj546Ip8IW/Ph8oXpL+M0HsQApKxPw26FlQQ5dhbu4CIOKC1BCWECKizxWNLypfsORfAAEBklXtkVVSSHWRHkeWgMkQOJ5AkHC0ASQAYqaoRhAhgwkXNEzggqyGhhtU1HZrBJwy0x2hKDLer3adB1g02XZa5gdKyq1A/ydRted0MKEmyEM+zy8g/hdh+F1xe9+gF5LQbp1SC97aXPFKkJjzFwrQgVqN08hUQoty3/8OIZO5UN45oOa8gYYsYoiubn7dwCxbd4mPq0lqp+A5BJOK0HlnJNaQq9Pg661NuyCys4My+aHWwkGMZCqbJJr2bgx5Ol4J1DI2ftaGQHfcpzsG6c41BVAkkMQmy3VKepwghAOrDj5P6aqam67+ehtsot8S4QooIwCjqzrjNTrCmqKCJPKTALqwubpVGeBbqAoFEZr1ZAnGBcolF2FYVSEAQQhhgExDgpoAJjsUfYk9ozmS+x513YNdgQVfaBlNIn7JQIn3k8vXW79f95IsOBEFKpMAyrnIK7vw5MUDCVRYj2TIazdkIyEwWSUkEcJ3EceQWKnSW3awq700WGKjWJd1I6JHohT59tURQSvKRIxdpYa40xRhtrXaBUEASJF//M8mLMtAhvemLzPMvzvNWqJfqrkpBC6zzPjda11qZgRNlI4maz5YtNCLDOXGFi7TeuSkg8cYaVjmle5FmeGWPIcWWyzMxSYhxHSZyoSZaoVkjlsdbnlMCYxisX25/4h8dJuW+988+23v5DD/JAxY++R4SNl0NklFet9kLnfT9RXHtG3xWR4Z+Unp79/v/oSCIDm3PtP/Hh1ls/OJmCJ8OGbM6GJx+f/YG/cf3v/8gRXMbmtfDE/hYMw69+/AggffaNS//ez97+5vKBYDU6/YpZV0DrbT/khlt3R2TY7Rvp0797GH2zcGb+h//bYPHc7X1fOh9+919TC2e6R2VzpM/89m1ERt3CycfmTz56/SgiQ86e7LzvLzfe8KduW3WyvRCdfqLxhu9e//n/6uh5X3nkoMZd9+YB6212Hx5t6fzST/yDzV/5Hw+/whRXnmq984fv53NfX//mQXUlGDWjvUk05Xo+//ZDiAx99RmX9g4yqfl2x9av/dyRi/+B8qWaxjT2XuYURE0IIiKCIIYwgZcm9hlGEMaUaiElqPC20vHXK/nDOw/pq/8mAl1glitrmVyJiL0Nqi8tARUqlbRl3BGgSnSYZXa07QZbNNh2vZ4dbNvBhku7qPtQZFjkwhIwK+IKSUnkSr4AmOt8ClTM6Iy12iirmazgcQVCJbtQqxTUD/wrFqNKAKgPHCuygERFDIxpEKhEHRAFIuC4AgWFI3RYA2jvxeEsg4zjaGHJLq0UrWvUGzidIZNSPlsBS4waWcdGi0FP6MIMt83qVW7PwuxCuLgczq9E88uyMy/iBihFAkChCgOsNEcrXE9WjwbFsGfzXBhXkTLC64cYRBeGoj2DrQ4qNcExETBOyrJWmpDo+1opuvgih0jNzEG7w0FYW5uKWqzBGc1ZqrNhUBSq4crNq0oYP0515VE5JsCB4iAEGYDvrC/I2qU69spq7pYbjNmWOwn3qmGWVc5CGZGU6BxNZFXsFi74oh9R+XdIiTMznbAE5Lt+oXAQC3eMHA1m8gYghfE5C976ZXwHgFIFqjy4KJYSd8a50vjcVcGESvUDak+YcWlO1btGkigVVKkoNeXhSRmfkKGNMXEcVt4lcRzjYLijtsEsrDVe4SIbe6xWuqQ69+G1LbgyMZGISdJotVqFLgpd+OQpqmpVtCm3z9KsyHWoAlAIAJVcaNnymLupUnWUlI2k0WgkgQq8LixPztqk/epx8l+mMY2XGb3f/efpMZ7xhuffNnM8G4tp3A/Rfu+HOn/yL4vDKFGY/YG/0f3Nf3IoaL++L5HhurcOT8cIlh9e/LH/fp/3Vx6RM0t32qDizHJw3z+Qr2L0td883Ley/Z4P3cli7ETzzT9YXP/m4VkV6dO/2/lTPyn34wWOZhvf+6GZ9/3EYSfyyccab/7+w095t3VdHEBkJI+9+6CkEtU5UKK18yf+0uFExpHCk696pN84UJsmPPPGO+VRk4e/c/i5Xzq4w2b01U923vuhV7gX2QufG37+3+gbzx59wT/15PQqOo0Hl8pozanlhygbcj5gt38p6AFEhrOcjbjIuUgFESbtV1cO55VjMnYVDioIR+zTK9DaCnfuwOMSlFvHad9u3XQ2MIUuhl3b3+LBuuhv8XBghwNXDLhI2eboDBBJn7/PgFUyQQU9SaIAiZESKuKwwQsnuT1PYZMxYKHhNilHseNQAZVMY/mq6wbGYBgq+YdKbYF38wlw/L3aUbJyD6nKIhi9yAcAEzPKQLbnwuVT8ZkNo53duIXFyLu81H68ElE4FqSFM7ZI3ahruuuwecturdr5NVo+Gcwuyc4sNDqQNDAKKUAGdJ6+AWDnvWBskTtjgBhkdazs6QoJQcSthmg0QKkq+aJSQKgQdTUD3rYExMRQ1KhaKdFIRLNV/jHmpGrpTbLCaqdzZ/IqvwR9ykbVIlVj671fHQJLyagEShirxO6uj53sjEnGa2d69gqx7AB1EDVs7nTanU47jEIv4rDDQYwTHWCc8+GZKERISqQdK4mHpAbw4STGhDSnpxWssdZaR+TEOGGkIlCklGEYenUMFHupmvFCgr3Wp7ujgQhRGIZhVPuJjHU1Kh8W65yxdTGLVJgkcZzEUuIk9eMcZZ6z8GU1te9zURRZlnnvVeclR8vlKqVM4rjRaEiJoyjCcZqZr2Qho3WWZXleNBuNioOw1mVZVuRje9cq6wpAqaBRGa+qI4rmplzGNL7d0f/0Lwy/+GtHboYzy3Pf9x9Oh+s1FNUTiMO3ab7tg93f+efCmQOJjM39JTDyF//48JajC+/YvyYFIDr/9vSrv3H79iefgNfIzV7+/OcOO1PiVuPJ9x/BNbz1g0eVh7Be+1Zy4Z13eTt5VDTe+L2HExlm61py4MH///YlMkCF+2aRjImtC2r+zCGKKpQP7vd5P7iuJNw3feao6pLi2teEuPdERnHla3sGVo8oH3ExoiLNn/uMWX/xOI3gzInksfdOr6LTeFB/PomKlEY9UQJHw/nIV4ccj8ggZ91gi4qhQKRRz426cnb5AWAxfEKDYCCvBSiFt4pwzllvnlpXRwj25hksMB3YK99wmzfzzOlhakZdSgdSD5XOkUgSg9cWQYEoQokeDlL5/94Vho0QFAQUxdBoi8YstufE7DKunBJnz8PCIsYtyIyoxRvEjkXGWPEAqqoKrrNIgHew5Q51wWM6BuqPeeJFlbLmGAAKwSpApdD7jEoM2+Hi6c4bOAvj4TeoWL8pXYHOSy0CBL72SFS1Hc4KJjTapWne27a3bpirF6PZuXB2LlhchhNncX6JWi0KEksIQkSKrVehtewIKiqhds0gARwghaFLYpdE/il5rTXhcy88k0E1+VJb6nr+xnualJs6BBvELopIKoEV+VGZj/oSF3asNVstmCQKVWVbeDBNPulAVj6lvh3yGRsVszVBbo3rSybIiwkLj1ovtr57Jb9vrGdLqaDZaMzNzi0tLzYajUqKErG2PvVzQCAAJU6qSkolozBSSnm1h7u5ieaJVUJefcM5S1TOZb338Qqrcny8dCzskhVQU2M7JM5kQspYC6PS1SljVyJUCF/0QRUD5hUxPJGBMvb0Aarqu1T7mzB5vc/C1ZxreerleZalqTGGmdDr6ArkQKkojJI4RoC4HhzcMVXxtEVFiLhKjcQak2d5URQV4TLOvMFAqaTRiL1c7i79NKFsWlFMO/3dsaqdxjTubQy/+GuDz/zicbac/b6fVvOnpyP2+guMW3RwhUt5M7Y/kfHlw5tNHnn3QR913vPh5Ciof9+G2bhitw5zwI0efueRsm7hyceiC28rLn3lkG3s2iVxl0TG0aFmTx7xA37AvPuyplOThjKT7x+x04VDiYz0viYyiqtfO6iuRAgRP/SW/RfDodUlxZWv2+4tNeF1cg8u6Z/96PCzH3357XT+5F/EpD29PE7jAQ0i11+3qxcpH4JUsPuI+hhEBqIsv1PCBv9LUNkZvt717rxKxcTjdJ/OTyX6o+rRcS3zQKK2E8lSd+OykzeKzOosp2KENgdnoMTJAN6gw788CETvdlpjaAlBAEGoGk3RmhGtOdlewJlFObuAs4tifh6TFqKkStqSxyzGxJHuFJNMIOydqv46D4D3SRGoG9qx/AQhpMfwWMP1iiWQhBG258JTkkgUaVr2Z7DN2ZCc9TUgUIPjCo2XywOBnU0zGgxdf1tvr3Kn5XpLOBpA/xQsLEFnlsOODBNviMvOA0xHlUMqjcU6ypXHMqAw5DBgwHInY+NPqNiXqkvIY22FCSKjQs6BclJxpRsCVPeTBXo0Dc6yteCJGymE3cP51PkBBEiVrozY6/Y7HvrbyK/xYUyM82SVyfi8QYASOSdxu9VqtVvj+iCxQ2TUvi2Ik8h5744m//M4J6OXTakbrukVIiJHlanHTn94R55USl9Etqv0WYl38DhbZG/NRb3wKrEP5RVb6rwWHuvMElbSplx30pfYJHHSSMIgRIk+MYmq/AtfSFJor6YhJVpHqS82sdbVyTiefYiCIAqDOIxAiDiOwigMlEKsj9k6l+V5lmfOuXKRWae1ybKsKPJynVcmuVCumTAMfSlNVNXN7eqY3jG8O74z05jGPY/R07/V+91/fqyb2g/81UNw6TRe20RG1DiMyMj3B7TF5a8dBlnnToennzgQCXeWZOe1autYXHvm8A2ab/7B47TTeMN3H05kvEx/nMOjvPGLWwdNbnnrffBHL8kmZjKCxXOHJLPwUc4mr25kz376wH6deiJY2l8U8/DqEiCTfuP3O+/98P3W2fjJ9zff+D3Ta+M0Htyo7QBYWANJDHELpToukSGkEirwogOxWjgrO4tiwqnxdTtiY/RfyWY6IfyLaQ8wrUC092BNc1H4i74TkjnwRQlhgNJD7gr8OHCGBSNaEBgqiBNoNmWnDe3ZYHYp6CzI1qxsdCBqY5RAEIkoslFY4kkH5Pe8m4AhaiXIvT6zPE4AGGPKvUC2egdh1za0wmiVeqSsbS3KDlmt0ZhEMJRHKw1Esj2vTlKbKZztFNev2rWborfFecreFFbUKQeAgAqkNxDxj8B1TiWW7MJgC9e3YO4arpwMTj7UOPlINBcoGXq7lBJNO2eE8yIZvupGokSQApBRspdpHENLrsmCqoYCmCezIARIQJ+RUSl3encTb4JbZVt4DF2l2wjhTXGrpIGyE65qe2JljxVFd7gJ2PM5iDukKoDFBA2y350B79AplT8I3OYJsiv1WauawI4mRZWrUiLwMaNzTBMNX1EzVvbYIVjq0aiphT1FE1CbfNxRPwJC7M1EgD20TjUXAIASa0agdoGtdz5hOuu7rzBJkkajGcWRkspYy94GmAUbr4iReTIjikJrXZrlaVYVm/geIXv2IQzDIAwVoEiSqJHEI+9gQuSqSpYsq+gPS0RWG50XhbcsqdaN8zY9lZCqL6WpjVf3zN+dg8z7dH8a03i59+XPf6b78X94nC2Tt/xA+7t+dDpir1siI24d8inlo33A/NWnWKeHAqH3vV6H63Aj2IMEL/dBv0vnD9/A9te+rR2RMyuHEBm837w/yHGYX8nZNx300dHVJVe/Ju4zIqP1rj838z0/PZ3xaTzYRAbKuZNy/iRlvRLqBaF4CUQGAEYNCBsQhHJ2GZudB+f+vcLOVMLcikiACWmMXdRaAitrWftseV/4gEpI9FUnAoUEBkWoKAhZhRDGGDcwaWGrBZ0ZnOkE/x977xlsWXadh6219t4n3vRi554EDGYGGAwGBEBABAnQTABFiYRsMUj8IUqyVZIsl/xDdlkuu6yyypaKkkmJVpWSKZUky5JISRRIIogEASKHQZ4ATMJM5/TyTefssFxn73Pvu+/1S/26e6an5y68etO479x9drrnnu87a31fey5qz0d5RyRNihMQEQnhENk/okZ2CDROBLmuh9udMWusPQFXd16vcYbBZHEAjCor/Pl8PgCyRccSSFFrLiGUWUJpVuQNe/kib6xCOeByiHoIzkzob4ATIZ/BsLFsnCtK6Ja43jW9dRgOrRPOMczMohvJjwITe3PS2jGWfBnJJmquKzUCeTGiEybYmM2DRh6oGBxSaAJzMm4ah4zrPkItxzjzYYxbqSYUxkkwOKETsQ3UbukCb+Z2bMpDTIpljvJ6Nq1amTeXCbfqhk6e4WZyASbMR8b5OWNaJVArvJ3+xF0Zy+002Wi/1UTMxKhrX1fEzRPVPrBARCpScRInnpAwXn3Grwwba0NSRlGUQghjzHAwGA6GziuVOOdQyjiOvUGslFIgQRzHaZrEcWQ9bRE8SoqiasQYY43VQd20LE3woPbMEBJFUZTESfBeHanGTHI305jG7b8pP/PNlY8ciMWITr1l9if+ynTG7uYQci8ioxzs8GLR3wfMR9ndOltm9cI+09mYORB/lO93WDm8vTfqKr7RdX/9XjBf+toedSXxLnUl9V/38y7RV76n7hiX0/aP/6XGYx+Yrvg0poFSVRdJJLYFl0Nv7kAHIzKcwyhGlbDVHqIQvA5u7gNh4YL4QxCADJqaJGpAy5OVCCNYBiAcETA6V4ExYBDIMoY0t3mHmx3RnFGt2bg1pxptaDQwTTGKKEqiKCWSwOAABVmLzgJb570tK4Avfc2Bc7s/6p+An1w7j/CW1BkEnAT9tSGoB2oEtdOH1zDwORaCSHktBsdYWGZw1f9NqDEXR5FstrNjx8trV82Vy+bKJVi+CuvLWPTBGgdsnHFEDhEkEkhiETlHgFAacGvaDmzR7/UL2x/AGx9xUiFRhUQlClVrNzg3ShJBR84iW+8KC+g8qUR178WkPEgYuc9Z8BkZhADSOcmeUQmpEHVlRDWNIw+ToFsKtQjoBOYPeJwQNjVUJ1ifHdQ9t1IGPFHAM86twBHDVOuAuLrCIig4TByzlSSZaIf8hzYkS9zgBSBQkriV1cJx8hGPKJaRkiqPqkxgXKlRd97VgqDXkRpu0pV2POjxeOuSkvAHqvkOryqq0jSNk3g4GBpnQXilEue0sWUVRRQprfVwWBRlGZxcfQUKepPXVEpBAoGqdpIkUVHkuj1jLZFg53Spy6LUxhpjvF1KabzUaBCO9ZKfMo2rdkI6xvUTu4O658ESYaYxjQNGeen5lY/86t5P1Gus1Zid/5N/4y4Y8tzP/e97oZTvfrb3jY9PN8YN3LHsh7ExTu7ase9N4pCiuHEg+mi/xA17gE/oNF4hIuP5L++6jp1jG1/4jY0v/MYhm3Z28MKX7wQiI7rnrY3H/+hU4HMa0wj34m7YdUWvhuEVUHQgDkhkBMyXNbi7ateuuYXT9HpwLUFgX6FQ/aeuAwASAqUEFAxIHut5hOy5gJBYTyREZKW0hBWEVwLjVGQtbM5gaxY7s7I1q1qdpDEn0obLUlYyoG5CiY5BlwDWF5AEz0pGcBSKPbCudAllDrxD+cIEuB4bm0zIZuAu8HZcv2D9m0VQnZQi7A9kJEbFbBmqTioSkRJ55lpt2Zwv2wu6PWeuXsaVq7y+YgddLvpGl9aZkTSk91pFRMvE7HSJdmitNtpaFKIzTzMz4JhEdTpBWFeNoBcTYQfWotakNSgXammQ2Y00SjzoZk9lTCYYVDibPHgmUwqtyVk3lj8lBocOCdErvwjh1xgdoqvWdCvXU8uKbqs2wQPSBuN6CtyhGmVCexN2TZzZVGrAsd0rHC5NgHe4JvikFyFwrCg6rkwKwpieaZlsg3lC84O3VL6E4Yz75VkaW78BxluX6w03wRdUW1/KLEuzNN1Y7wJoGNW8WGuKshwWhVIqMBpGa6+0i+xNXjOvryGkCLY9UnrL2ChG77gzsinRpecyiuqnKMvS52tUn6zQHSmD8WqmpBobS2/TxRgPc3sNzjSmcdNhVi6ufvTvuY2lA+H/n/nrKNRdMOrk9GN7/FXNnup/9ws8WJ9uj4OCr/0e14u7NyNj77H7JOID3ymnrT12Hd/mjIxbBvJf+rpZPqevvqSvnXH9dTdY5+Juo2D2qCuxqxft6sWbafxVry5RRx/IH/+p/C0/Mr2yTWMaowt9re7AzlLWxrRxfTrG7kQGCZQRqhTckl25aNevUpLvnfp4V4R3xRg5mIIDweikIqWYhAtEBoD17pJegMQRMBHZLHd5yzVartkSjZZozSSteZV3KG+JJKWoakFIBVJpIRx681BwBpxAYGKCCmN7ixRCYCks+sfWFeAby2OMIXUt0ok7VvDzJpTeqmUwQW2Mf5i5tJYB4+r8xOTzHDynopR0DMpLFwj2oh+YcCxpNo3yllg45gZdt7Zilq+5qxfttUtm6artbQhTjBUorAPymoqel7G6GOjly1okYvG4Ys3OAEkHiI69KQmS17Zga0kXOBxCUWBit+dB8Oa/a+tOHEHwqueCrYXhEIcD9soLIcWGaFRSIyRGESoJggKL4QiZRrKpHDJbuPZr3VKns3dexrZ8B5qsX6mzFGisWlq/IIQYuWDgmLkY+2KMf3thiLpAY/LFG2Q06pKW4LEqpRC1qOfE5cKLgPrEBbsVwPNOt37b++DYGWO00VUrY6PiOk8IyAeOTGSD5GeWZVmeKSWHw/o0HKpLimI4GAgSg8Gw1LruDwIBRUpW70oTIUTgtIQQiQ8hBI4MZawvURkMB0pJL/NZGuvlZVFU7QgRRXHeyPMsl1LuzVZNOpVMS06mcUvC9tdXPvqr+trLBzm48+N/KTr24OthWkRjtvGOn974zL+sP24qlbPHp7tlTz6s2A8b3b0ZGXsSGSLr3MDGyzpmDyKjGNzZ89Dvfv0jg+9+Tl9+4e7e7IMXv7JHXcnNR3nm6fL8M9GJh1/JQWGURSceik48Ep98c3zqzdNL2jSmcd0FWnnlAgtGgzE7psXvwk2wc+XAbVzjwUYFcfobzhq6+4kMqGUgNx+GE3l7EVdBXwr8hac4kBhcFHOWQqMj24vUmcP2LLQ6stlSjU6Sz6i0JVRMUgB66sMrUVAFwO0oWd/X9NPogTsLAuFlI4AwCIriSGsRRtYYAZ6PjCYmBSLgOuqCYddceB55ZtZ1KOjCiWrADB7x1aROMHlgASAEUiziHNuOrXXzPZxb4c48d+ahdcmtXoPeGgx6XA5tWQIbct48BIkdIlsY9nljqbhyxkkUjRYJaVE48NUiwLWqqXOgSzccuGHhmo7qgcLYK6OWdRg9PXfBPMXDUAsQiAweDtDYClvXQpV+kCRRKooUehXbkJFRp4HUA4dRdQgj81bXlxtkw2BShsLhLsITI2IDdyQItv370Fh6ciToUxikVJ7IGO+qkH/E1lrjY3zeEZexma2wxYKUx1sN2bHWWnvDEefcSF2WsWZtgh+KGBMZRORrRDLp64zClDlm60tLBoMhIg2GQ6ONc65upPosRlmapkkiRiyMIBGKTZSqBhXqeBw7rcvhYCCFGHqZz8CGeM3UqjNRpHLPiAgpJj4xOzuVTF1Xp3ErgYc1qx/5lfL8Mwc5OH/8g/nrqVK69e4/6VMzjouZE9HsydfBs5Obin0zMu5ajQxmvnXiERjtRfdUNwx3agxf/sb6p//FHtIPd1MUL371Nm8qM3z5m7eDyEARYZxilKBMMErVzDE5d0rOn1Zzp2+t5+s0pnEXXuyHXR70Amnrih7wwYkMX4LIvTW2mpIMk+z1cCvvNRmAR44eFJLgVcQqYikMQrD0HEtrYqMF971JHL8vmj1GrVmb5phEqKSQSsqESAEJXyzikJ3wLIZkEEhBEcAEHoNGeRcAQtSupuCQxaY/xagIwFdY8KQa5MiBhGmCwIDarBQnsOyEkGSQi/AapZCi8PUa3pJTG2ttqPOwVB1kANCRtB6OkmBgtP78gi1JTisUmTdm8yOnTHfVrF4rly6WVy8WVy6ZtWUa9JmNcVXzTgjB2JBgzWB4+awVopG8UajYyKBA63wP2LJjdFZrN+jbYmitFRP5JaNahRpdizorxQt8+KwKB+CsgWGfBz4jwx/msDbVqKC7VKQioSQTOQRH5AhHJruwST84B0GUYTRlh6EPeKwOcT02HmmNeiS+KWiCOCnzWWt/bDVkPRSLsSnp6Ws6hJJSCEkkgton1n0Ca61nIozvG0+mgezAh/GWJAbnXJDVDF4hnrOAkANGviRE+jyQMZGBiHEcp162M1AqYeZtrfdZ3aQOBwPtS0KCaokQFCnl/VJjIURghkhQEsdZmiZJPBgM643kWZX+YEBE5bDQ3q9kPMk+IyPyfEg8JkQmB7g5am9gNMkiTatLpnGTsfLRXxl+70B35NGJhzs/+hdfb/MTuIxpHAwg7YOxXX/1Lh05YpTtoS9jb2Tgrr+216niO5QMGnznM8u//cuvn92+R13JLeNKzn4b4OdvSVON9/xc+71/enqNmsY0biqcq3BLFGOUiM5ROXMU6OClJT4Vvn6Iq2JSKb4Gno3skPXPIz+LsVpp0HkUMBKgGLs4QJ3cziNrkgrOCglxBnHOKkZBXGseCmB0zCClnJml4yfU/D2yOWNVBILIZzQQirrswfGotWDAEWxJAsAOZg218mZtgjrhL1GBbUSuwLbPAoGa8agBJG8zhNwc/qTlxTYaI8Byx2D9MMirUzgOFSvVodaLRFSnrqUfXahkwbqTQSjTF9eIWKSxShui2XIz83pmvpqN9iw3WnTlort6lbproIeBOEEkiUzOlt0V7rWJNSkpo8SJCKweKUdYZAflwK5t2LUNmNOcO6+hGuRI6tOjZUa2RCMvETcyN7Fal7yxZrvraArBjsnV1UL+KbxIUhVnFKUQjFmJx8QI1q4ndQqCTw/Z1CS5ruwA91bNYL7eq3OsnTnp63F4Cd3NopXtTUyi7gk72boshZSKojhWkRJSWGPDRxy8H6s1xpufDq1tTPStVuqcGNemDsZ4Zqy1w0F/MOgboz3hRiHRg5CEEKqK4DNCo4wMTJI4SdMojqSU1tmgzRE8R/r9gTF2OCycrR1VBVWNjL1OcDMjg5IkGJfESgpjrD87W2OHgyECmlIXpQ7cRPitlEqqcyeRimmna+LW2ZzmYkzjlsXq7/2DwTOfOdCXWdpa+FN/ezpj09hrk0Tp3gfY3srdO/ZkDyLD9W5AacX19mI9aL9JfnVYjOe+8LpiMW53XUmI8uzT5bmnopPTEo9pTOPOCCKMckybuL4EtdnkwYkMr7HBHkWA9YqQJO6coU0+F50EcsyTQK4uKqjQTtX7oHDhbP0yj3wwK9xj/YNXh2ScBedEhezJSNAqcqrD6SwmCSkCXXpf1IiBnDPOaqn7bAuUlhUaRtQoGEWF3pARrGUMTh7ITrhgiuI5BFc/6WV01kttEtb+G16VlREtgEHkCv2zZkfsvIoFICETWOC6rqRaVPKkRMCsDibdM0bOrMi1YKMfJliBxgI5lMzkuRV0aImqH4Ge6aj6o7xhiJ8eAlYV/hemwpWefPEVGuFYAhlTY1YmedZeiI+d1BfPlc8+5y6+xKsXuCxtkFF1RBYia8AWgIYUyiRxUQoDZKdRuGrOrOOysEtLZvYanxwCGIeGa14NAYSfJJ/iUp0bBDivSBHUYIwrN/TaCq8vS90XqA1WGxctVusRJVGjGTdmVNxwQOw0Q7U87LUyFEqo1saTTiyqKd3My0Dc5iUCeB1PsX1/hgolr6np9WPdSPCSaLdKkzE3cf3e3lZvUnNO2yohtml1BF9dbyoiSHjDDn9XFsUVjI8jJaXzaTDj92ttev1ev981phMuIDyye5mU5/B5IryNjjFGb3Q3ut0NbXRQZQUvHQoCpZSRD6UUjfpPRHEcZ2nVF6WkK204CzMPiwIAlCqN9hZARLosWVAUx2mWRUkqPZERGBgSIhiyxlEkhPBvYeFpr0G/sIads6XWYTnYZ0AlSZxlaRwnUqoxu3HdlWRiLXCHy840pnGjsfbpf35wV45jf+GfTmdsGvuB+Ww/ImP5rr2/jTIHu4/OaVd0D2JcwmWf95QawTi/A4e/8cR/2vcYOX9azp4Q+Qwl2+dh4wv/7rW13Le9rqTeDXZ45ltTImMa07hziIzq1tuUbAqzfF4sn1SL916flLErkUFZi/KOXbvMpmCrt7h6vhZiEtghj5DjKPsiQJJQ1METD14rXO4fZaN/8M8kMW2KvB3lTZsmaAoER8w20AZladdWzeqSWzzpGQr2me1IzI6cA2d9F0TIpJj4ZmQQ4FUmOZiCsgPHFdL3P2PACo5F1RqNzEYxpGM4AMshJ6SWf6gzT0ZQC7dIfU4Cb0aoLT9DNUYtIuFzGgSSDLyVM9VZGbwkJtuggQAcfFRqAoVDJY7vdkh5USnFuciacbutZYzdUg97un8Nij5h1V4tyGA0WF2BZBm5NHdJCgPNrH21jQV0Vhd2Y0WvLZn+mig7TlbgP1TcBFFP7xcD1udgkANy4IDYllD2eW3NrSzzxoYyhgEkofWGugwCkxzzlkgbIkqqkVQzzTjKfsF6WOCqSanG7RfY8X7JF7CVO9j0PwnyJjgyiB1lw4zpjxF4vr4V2JGk27q5d/krjjN1NosjRhkVvtKDEFHGcZQksYpUUZbOOV/xIXxVh+33et1utyhKa22oBMGJGpOx7Ef47NTquI6N0YPBYH19vdvtWmNqQ5+wSwGUUnEcR5ESgjaTXoIJa9WTJI4jT3/YcIoy9Koog4tKkPIIxEeSpipS5JU+azUbRClV4DKiKNJFGXKOrLWDQb8sC2bWWrtaCsQhUZKOjFcFMe7JTUyzMaZxi2L9i7/R/dJ/OODB87/wt3AnmUa7cc0O1ilpUtK4Mx8UT+OVBfP7aHm63tpdS+LE+2WjdFcOQmTY3j5FKHLu5J029sEzf6jPPb33Mckb3z33M39952vRZ//Va26596griU481LyRIo6lf/u/7MWYnP02wC9Mry3TmMad8jUXZygU6xKjGIT0D5gPSGRYDSSpOcNFj3XBxfDAJpS3+dtr4gnqbg9IN5+mbnW99MkK6NURIIhKECNViD4QGsF6ExEqBOcqWF0dJLKEWi1uz9u0Db2+K4csrPR19G6ozaUrJpsxx05TexalRCGDV6iDwvoKDBIkUCCjCHIErgKNFkbiDMiAOvAr3kSDmEiALyZxDqwDg6AJnPDgHYNbqgYuuALZxmcUhPKQmpFhUcF7GludMI5QbyidQZ+CEVU/TgavWY/eESlijA3L0oiyQFX1EzQ5ECClI09kOJYgkSHikOpQddMCu5pTCcqOAmRMeUsePW42rvHl7zGjYkGCgHy1jilJG6SY08Yg79h4WVFXsiNwocIBrLbFWtm7Oly9xq1ZarZJRQRUoVq21SgUVejWg1A0wvnCGx4McHlVXLzCV1dgo+flJoWEaiIqaCuEypqQtyGKWGLtB8okfOoLMjpHXhOELKKt5hurIWNdZHR9rsROO9N/5IK/abWhaOxU6jNGvK+pV804SGu703NbFFwnTV5xC8+BzrlaGXWkKkJUJ1lIKUItxsb6hrVWSunzNao+9vr99fVur9fP80YcY6AegsxInYvBIwvWmhmBstSDQX9tbX1ttSYyvAeO8P4+lgjjKIrjWCkpBI5JxPB2IUTqYzAcAujaPFVra8yIiKmtSep6kKCOAWMdznoSgglrmibDwRC18Q6sZjAYIKKfdrbWBXJHjl1OpJjyFNN4ZaL79d8dm3HsG4t/5tfUwj07t/PEf+w+8dujr3dBWZuSBiWNhV/4W9NJ3iHK/l1+h5fk+4H5uzYjQ7QW9cXn9iRxVmHu1M0TGck9b7vjUP3ZJ/c+oPHOn2m//8/eNWu9d11J8sC79vZ1vu5T03DD7q7XjDNPl2efjE69ZXr5nMY0Xv3wkCAUhWCcU9LYMaNi9xJxZ/z7Eazmsh+S1O+E2A0BbnpG8jjzgsf/d6SSib6ug5g9iMdRfUZoOdReVIDHA9GA/ZTANBOtedGaZRVzhVEdoZUIwhhYXdWXL5YXzuurl3HYJS59814zM2iHVj8YJBdC6oLR1q739fKaWV6z3S44A16TwnpHklAMI4AlsAAGizXpUUtm+ESCYMWxJVfAFwnUliYEIYnDea1LFxI+fMbIqJ6GAETIcUCwgYyoRl+dSBAKdqhL7q6Xy5eLa5fLtRUz6Ps6I5+74QRWs0A+02Uyx4XrRHwiiGLMUk4zTdLUXi/1oqCzxExCyaQlZxaxPctKjiolfKaIc1xs2LUrw8svF1fO2Y0N0HZsT+IQWSASiTrVgqzjUg+LjdXi/Mv6whnuLrMtrc+MCX6qjtDFEbbbot0GFfv1IAFCMFU/wR7GO5g4wPpnJGYCW9iBg1QWTChhjK1WtzfCN/m5vp5DQRyfbivPEcpbxuVG/kgpZZbleZ5tmo+OKMJiWHY3eisrq6ura14sw887TrYwysjxqTjWuuGwWF5aWbq23Ov1jDYhe2Kc/CSFyPO80cgjJcdTMWZCxkRGeIsfCDK7sX9K8HIlIqlUEuQ5BW1SOSNOREpZtZKknuYYldVUjWhbhcNR+ZaQwutsxIGjmcY0bnf0n/7U2u//owN9tEntwWLY7vImi+H3t+sum2tnynPVnfd0nneYsf763T1ANX/f3gcUZ580y+fvyrFHR96wz+fuqU8cCCQ/+7l9TnTnmR/rKy/ufUD6lh+5m9Z677qS5A3vvqHWsrf+6J5/d8Mz35pePKcxjTsE8XM54KJfAVqjwdkdiYxdMjKEBCIe9lzRo7wDQrEzd7Le5ySLUYtF8GY9Rch8MEBmlL7gpQjRMjlvtclBwtI/tvXoSCCRqmA7G2QTRW5mQXeOlFcvQTGIfPse61osBrx0tf/8d53jxv0g5xFVwlIgCG9I4YsqGC0AeSEOC04PeuWVC67fQwGq0UyOHKFGoi2yYzKeoJDWEwXsEErkAlzpiQiJ1mtkMBEIAZIwmEAENQJm431RVHXq4JhhwDE74bzwYgX7LZP1YNGNPEuNc5q5Ano+5UIKFUsFgmC4Wq4s989dMqWhmRk1O5/NH5FJ5IU1GSWObVJoU4oj/B9Ps1gH2jhrjHAsOK5646wjBhYSBQpFsUzaYuHkcKPbv3hWd9eYSCB4hsnxoG+vXSrVU8LZWCgpIsqbICP025V9Hgn5MVgB2hXFYGlw7XvFi9/msy/KYg2FLT1mT73MKEgl8kzNd9R8h1SEVlTL7Uj4ugI58hd14AKVBRyYIEFO8ljN5GCb0FtmbEm7CO+tszRw7JkLh8vL2DQEDXVGm44qdZrJWP1z/B8iv9lHREQ1ZKkajWar1V7JVrQug2VN6LN1rtvtXbp42bka/EcqClSI3zhibIDLfkV1qddX1y9cuHj1ypWyKIMYh3fRtdYnoSglZ2c6szMzURRN1tKE7gUiI0lSQRSSL0Z+tHUmTPBtQUQlVXVgko49XBHGerQhx6T6c6BjvLkskSc1rBf6Ca9ba4NdaxIn4k4S/ZnG3RqDF76y8tFfO8iR1D46/6H/eTcWAwB63/jobn/qPvmJ2ekjxNcfkUFpk9pH3druIohW957+1F3pnqAWTu9DZDz5ydYP/RmRd/b6Pi37/W/93h4HyLlTcub4nTZ2t2eijZw9Gc3fczet9R51JdReVDdY+5M/+uPdL//WXrzJuSkvPI1p3CE8RgV6IahHCglS3QiRAcCDPg97FapLcsqaQT/hjo7xo+5xEUztDBIej7ta1wFhM0mjTsEIso4OaivKkBWBvtLEI9wootlFWDiur5zjYRfKoXQGSYDX4LS9dXvhrEHSQlJZYLPDaQ4yAiEYpUW0DGgMDgtbDk051CvX9JmzrrsGQpRz86BQETqVIymyo/QIDiUjIamiXk3ydSPo64MkgByhYg/12HGQlXRQZ1rUpSZY8zg+O4GIgawvUfGCBMBjzYvqXGRBOCHBGr220r/4cu+lF0x/iO2ZZPGI7HexPQdCsowgUagiEDIobdSCCdVEOrClK/tmfUmvXLUbK6BL4AoTB9gNQdhUKhIqSjM5u8AbK4N2x/VWnTXkHIREGGtg0OOrF6wQJkq1MXZ2AbMWyBilDDUFqJ3T2pmi7C73rp0dnnnOXHhBrV0htkCuprSquVLVBu7MqflF2Z6puu2C2OumLYzX+7TBv6VOyal9TCa1HnHi50B0w8RHcfSfHUU+b+xDjTWLMdrnY1qBd70KTPTHb3khRJ5nrWaz1WyWRTEcFta6scmrLsvVlRVEjFTEjvNGHkdxXS9Ddd6StVZrPRwWvW7v2rVr164ura9vALAQAqnai17zApIoajQarVbTZ3+I8SyMzYMDkZFlqS9vGQmMjHrLIydUQRRFKk02MzLC5h1PpRDkfUgSOXJ4nWRMQh4S+koWFUVpmsSJ9yuZandO43ZGce7p1Y/9fXB63yPl/OnZn/pre7AY1Qfz2su7/unid/fqxplv6ysvmLUrGGfR3Kno5JtFc/71MP97T8vdEdGR+4Zre7k59L/1nxtv+6BozN5tRMbcvlid+09/qvnOn9njiN63f5/1cI8Dkje888670WW7sbTH3836FdbDHUV2Xouxd11J9tAP3miDcvYkkNrjslyeebo4+2Q8pYanMY074ornfQO8S5eXBrshIsNqtrqCplKhSl9DSp9jrwH/cNcFLoPQSDAKjAMrwYqA8KAC9Yw2yDsiAYHwQp0e54biCWYVR2Ju0Q667ur5sr/BK5et0YKYBJBDsiWvLrGx5bCwV6/Jo8fEzALlTY4yLYUN+Gww5NU1u3qtXL1grl7AS5eh3yulxPkjWujE6nzxlMw6Xk2jmvraJ6QCcVRBQ0ECUQT47RhtUNQIwqPesgSZyQtVgKWg60AIkhDIv7/C684CC3SCLJIB9PkboAijIPdJFPIhLKMZDnpXL/bPPj8485xZX8c4NudmxOJLdv4IdGawPYN5CxttShukEiG89oL3yGRjbH/drV0qL58bnn3BXjoj+v1qEwpG8sYjQthIkUpAKYoTjIToL4ijR21vXVxbQm0gFkBCQsTsqLuBF86UptRrF/HoPXLhRNRapLzBqjqXLkq3viGWrpaXz61feN5cPZ+vrsa2kF75VAGDA2cJZUzto2r+HjF/ktrzSLGfRFtNAGqLGtAQWYfk3T8teVJDBLlP2lZOdT2LwduJChxlYSBsVjeNtDFGxRMh74AOV2MyanyLmwYHEY4gxBEchEe5G9YGbY5NqxHhdSKazUan0xkOi2JYS3uOvXOGg8HK8jICDAaD2ZnZRqORJIlScqz/UZbF+vr66sra0vLy6srq+vqa0UYqWf0R2DhrtIkiNdPpzM/NZlmqlBiLj47KvUJJiMh8lYsXv5Cee+La5HjEdhCiVCqO4iRN4zj2KU486Tvr3WBE7K1ZVaS8Dghba5iFz5xy4SBBpKRKkiTxliWeyOBpdck0blOUV19a+ejfc/391RbTN/1A+/1/TrT2IRfMtTO7/cmuXtnx9bXP/qvuTvYE0am3tH/gT931deDD579Unn8mOvHwrmt0/pmNL/1mefap1zKePzWEL+xxgOutrH7iH8399P90C04m1N73m8WZb8enH31lBi7ai9G9j5UvfXMvDPzkJ/JH3kf5zM6fmu5y75sf35MxgOzh99+BN7iUttxg92wjU3a/+fHmO3767vgU711Xkj78vkO0mT36X/T3WnpXnPnWlMiYxjTuFEgfytVN6XZxmNpN7NNwOWCrffpii7LmHcTO7GaCiFugZai6CEqLI8TDNcYcVUDU+p8hTT+URqDnBQDrJ/M+8YGl5EbLzh6Nj94Dva4b9K02QbCCsIJNrrDO2MI5GvTExqpoX5attkvTUkhDiGy5P8TlNV67plcuwMaS3NjgUjOiNQObRAwQCSUQRJQCeV3NUWmMC2YoXnkCOeT4++fLQebD/2CdfCMYrHPea8QTMLU6QhjW5iNqb56BmykGIyMSL+TonCv6prc8vHhGXzyDy1dEvwcksL+h++uwetF15rAzC80ZzNvUaIkoFVIJ9E/JtXVFabsrZuWivna2uHTOrl6lUksQNLJ/dUScZNBoQBK7OGKKqDOrjp+G7gZ0e6DL4EQBROhAakPdDcOah13X2xAry2bmKOW5U8KxM2VJa2vy8hV37QJcPU+9VeVc5MfttS4D1SNd2lKLp6Kj91BrEeKmcwK8jKpFNgQ2FMg45trNs15031vrGaOgB3EgHm+LDucmxcCbepsTd0hQu27c8Cd6m94nM0wkMWx+EjaPHH0kQpJKGKdSMsuyzkxnMBh2u11tNIxcUZ1z2thBf7CCK0abYljkeZ5lWRRForaPhaIo1tbW1lbXVlbXer2uLvWoGAQCZYMASRzPzs7Oz81laS1dMZ6D8T+8F0kUqkKUUkYb5+yWqUQkIaIoipM4iWOlFOL2K4DvNkZR5GtGYhWpstTeNdZ6c+Jgz+sEUVSdqzpKRXJTDHjKZUzjNoRsztvVi/se1njXh5rv+fl9LUj0tTNm5cLuTx1Ks3ZZto9Mvtj96oe7u5gslmefXPqdv3PsL/7zWzje/jN/aNav7n3M+V/+4+rkw9lDPxiffItauPcmz0j7mY8CwMaX/31y//flj31wc66ctWuXzfLZ3jc+Pnzxif0JqbNPXf71v5w/+mPZW3+M7jwnzvzRH+t+9Xd4T1nT4bNfuPqv/4fGu/5EtHC/aC9O3OZps7Hsest69ZJduaCXz9mls/ra2RN/bWdrz321RTee+C3ZPjJ5CruxVF78TnH22/Hpx9I3vufWjr3xlh9d3pPI0NdeXvnYr7V/+M/J2RPb/7R0bu2T/49ZOrsX3H3kB29+l96OoKyzF5EBsPH5f7MjkeHKwcbn/7/uV35r7xuZC3/v5/O3vD995EeiY298FYfZf+bTvW9/vHz523vcEA2f/Xx042sUHX3jnkQGFGef3PjSb8b3fV+0eN+OBGhxfh/XmO4X/m3vK7+Vv+0n4nsei068meLs1kMhPVzfZynBblwdPPPp9OEfmn4jT+M1GexYD1kXwb5kty/93TIy0BcOSMZgn2Hhzigp39TC2AngbSoOjBwPnCNgJj8Ih2QRQKD12hUMYJgsILIAEOwkO1Eh7fppb01/UICbQiR5q3PsDf1+OVxbs8MCyi6y9WYkqL35KvZXUQ/s0hWKYpVlFCujyDJbrXFYqr7GYoBll9hIYhDgjNEbq+6l58tSF0QCDMwdE2kWuAnyZEUJduisDA+Xg3wAEiA5/9ti1Vu/SMBO2grFa2MdkXDVGTyCAxekGcExWUPGKHCCIUIidtp6ssYbmLIwjnu2R/bKeXfue3TlYmRK4QU52JR27YrpL/PSRYgySKsfTlKIIhkpgUI4QOOg0DDomf5q2Vvp91ZJ69xJRZH3mbWlNZxE2GqLmXkbN4yKGRjz2ezkA+VgUC4vuaIPXDjDmiShiLznhOgVtrxq13v6/PlB0oAodr5IIXIsBwV2u9jvZ7oPjBFKbznswDJZxyhMlIjOfHz6/vjk/ZB1LEhCx94WVxNqEJplxAJDpoonWjw3FBIYXDDZRdgUttgF9PImoTDxGl/Pu9WURsigsB7JixuSyZjc/xMGrki1+w55/5HNT0TgJjBQd15MBUbmqXESz3RmyqLc2FjXVRg2VoqgcVvh/6IorLXrG+u1f6qKAh9hndW6HA6GRVkaY9g5n8lBXnLW+lQIjqKo2WzOz8/Nzs6maeoVX9j76dBYAWOclBFFtSOJNXZEZNHYmUhKkSRxmiZRrISo3VVCD2u+w59dKZUmSZbn6UbXGOecQW9J5AfunK+8SpIkzVJvBCtGssBTGmMatwdsJA2Kc1f09rmlPvaguXa2OPeUG6xy2XdlUf3WA3A3lq51PZGx9gf/dI/jXXe5+/XfaTz+Uzc/0t6Tv9/7xkf3tpDYBJDnnlk79wwAJPe/I3/HH78ZS4ho8V4mhXtW7gyf//Lw+S+vfvKfiXxGNOfsxlW3tsRsbmxul86uferX1z7169GpNy/8/P85fn3wwpcHT/7B4NnP7wNpvvjvihe+kj36I43HfxKuK9HV1870vvGR/lOf2puM0OeeuvBrf6rx+B9N3/QDk+hatI9kb/nh3td+dx865vx3lv/j/1FdLZOG7BxhrU1/BQYbO0/ay19P7nn8+tdFss8DreKFr1x+6RvUnKesZXur3F8bF27o5QvbiQxnul//SP/JT+gr39v7S+/8L/904/s/lD38/m20Qvrw+9QT/0lfen6vDfDiE8XFZ9MH35099D45fxrKwfClrxUXni1e/IrbZfiT7e/c5gtf7j35ieGzX9gXypbnnsoe/ZH8zTtIb+qrL/W++bH+U5/kcrAnj/bkxX/855uP/9H87X9srFKnFk6bpTN7TVnRO//LP9P8Iz+rjj2Y3v+O6uZt/fLw+S8WZ57cb7YhSId0v/aR7tc+AgBzP/c3k9NvDSUexYtf7X39I/uOOuz2/LEPHlpWb/jyN9f/8J/pyy/u29ONz/+b/jOfbv3AL2QHS83oP/2p7pd+U187sx99+WR59kn49L9MH3x35wP/3ZjBLC98d+NLvzl8/ksHulszRfeJD3ef+DA155rv+hONt/+xW/j9sv7Z/7f3zY/tm/FnVy8v/87fUV/9cP62D+Z3lwTsNF43VIZjD5fYlCG74sBEhpAUJSgVqibF6W5vvqOifgQ96UzJQbgxwB0BIHwVhqgdSyFk2xOCYJDMgpmshzai1rL0VqpQW4FQlKazR2nQd2tXtRnCKgcNkQrrEgI7NoXVpfMQWkSSpZeycI6NBePYODSOwJJAiKUnWBzr0m1s0OqK21jjQQ/CPPsqF+utTBid7xe4sZOqV8Jg8jUz4Sk7WPQ8hfDmI7UqBlBI5PDHQK1t4BsTXi1EhCoVpJFWiHGkrRvoAdjemttYhX5PWCursaFj1mVhS4b+AGgDlWIlrRIopZVU9ZaRjEPtwGg2BegB2qLqMUqf7VHBSCuIkzRdWFTzRzDLmCQwU5TFnWNwrGeuXjZmyGvXXDGs3SiIvNqqBmNwWPLGOghlUTjp0TADesMScBx7axisXnA+JQCAIk4aNHNUnDgVHTumZmc4jrnWRg16pMRV32QFrqsf4XN3bIWR65oiDH4mk2h3X9Q7duWACYcOri1LoU4Iwlu+8yecQOpEpG2fDG8EO8oE8dqvqKTM86zT6czNzVlr19Y2yqIM4prkt5CztjDWetVPpdQkueCc8xSGr30irG1KfF0LAMRR1Gg25+fnO+1OlmVSVpuIbZ1lgbXWadC/oLF5ahxFg/5gVDYytkph9JkUcRIHm1g30iXFUfmM91UBKUVIuIiTuNfvQ01BIdT1YUxEsSdExv2Z0hjTuK2hjr+p2F2mLsTyf/rbt+PUxbmn9z1m8NwXb57IWP74rw32lEvcA2EOX3wieeN7Ou//JdE5eiiuSEZH79MXnj0AfTK0qxcPkiBz8Bh85zPLv/3LBzxYX/3e2h/808ELX5r9wF8VrYVJFmPlw39LL5070P3csLvxhX/be/L3Zz7wV5J73z5+PXvLj+5LZEw2oi919wF73/q9HYkMTPZPSGGrd5zq8qVvTHJtdv3q8kd/pTxzQFVF7n7pPwye+XTnJ/7byYEDQP7YB1Yv/d/7vHmw3v/mf+5/8z/f0Prmb/uJ9IF37QDUv/Y7a5/4xwdsJOBhfeE7nR/7y1uB+jdWPvb33fq1gzTi1q6sfeqfDV58YvYn//ugbpM+8v7Bdz677/s2Pv9vRnclNysHNfjuZ5Y/fODdfuXFtU+8OHjui+MO31B0n/ittU/++sGPtysXVn7n77qNa413/Zf7gP8v/ubGZ/7FDWGowbNfMBtLMx/8q2ru5ODZz618/B/wsHujI3IbS2uf+CfFi19t/8hfkDPHbv7is/y7f3fw9B8e/Hh98dnVi8+W55+e+Ym/Mv1ensZrKSoAkFGSu3V0vVXX3dkte1f7VeZRRbsuuBwAv/aU8XwiBQpJJIi8ryihQIcUWAFva4ocykkqcGcBLDvrrNcRrP7kHJbWFtaUxjgUlDXV4rH0gTfFDzwo5hchbTDE6FRMUSIjSaiIE0mJgIit0lr0B6IoInBSAiuEmGSsRCQ1wNC6gsGCdBSByEikRJFAKYiEFCBIIxlCikhFSBJR+lwCYDfS5/TZGCVCYV3pXAE8RNYKhIJYoiKUgMLVGqfecdT7uQoABSy9RQsxSCBZlx8xsGantRmWRntCAC2DcYEdIimkIlm17yDSJh4Mk243XluNlpfU0lWxdAVXl6G3RsOBNDoGSlUcK+WIDRtjtHEAcSJm55OT96THTqg0JWbpUGIkk7ZcOIUPvoXf8JBpz1gpiZ10tgKhglhKFEIixOASq3NbZmWZlmVUFFQWgJYlkyAANFaXWpfGaKAybbqFk9mDj+YPPizm5zBTUlRLJVEoUlIoiVKhiJAiIOGtYASTAhEBEQsCgaBGliw3xqZR7Xnqf4dcBf+famUFebWTKrwmhTiEawnv8UmcUOWw3jYklFaNSJaRekegcwijOGq1mkePHDl65Gir2RBSWOuMCakiNQFW9VmIqkFjimFRFmWwBZFSSiVJbLIbxlh2TgjZarVOnjx54sSJPM/rFAwA8u2Mskh82ZSD0EFfYFIFgk+dClVfwbXEWmCIIhXH0ciitZ5VHuuc+uqrOrnDl5aQ2NQTxZGEKAmKkzgeyYXWdsBTwc9p3LbYQ53hdoe+8sL+xxyEAtiXMdnvufQ+dMZzN/X2HZ91vzJxcBZjE9a+/O3lj/3q5Curf/CPD8hiTIKipd/437ZssyMPNN71oVvK0XzWLO/Qq+j4Te3n4Xc3jU6XP/qrB2YxRnh1/drSb/yN7RvgrT+evumP3PLFpfaRbdRD/ZG5/MLBWYxx9L7x8fUv/sbkK0v/7n89IIuxuXnOfHv5I78S/p3e/0514qGD3zXcgt3+4Rvf7We+vfzRXz3MJeX8M4d514Xv7H/Fu/zcYa6lF58Nt2l2sH4IFmNz/3/va+Fe+xZcdffUDdn9YvvF6ZfyNF5j4SywHXMasMsnaJfPlTWsh2ytG6zZlYs+59/d4eMdP54dWTcyB71GsgDVXKCzYFyFziuAzmAdbmb6s0PryDK4kSAh+2QGdNWbfT4DEcQJtWeiE6fie96oTr1BLp60ecepBFASMzlDbAU5SQ7ZgjVgLBrjV8IxeAlRn53gPHqTWSY6M9HRE/HxU2p2UeRtrAC7TxEZ2UOQdeTFK4zj0pduaMfahTx9y6wZdDUScN56A6iC5YJYINemJwwTUBarERsHpYOSubBeodOBl4ME4VCgkCpT+Uw0f0IunLDNWZ1mRkomTyogIUM1jdaisaLUoijlsKRBAcOCi6HTxlrNhtFxxCAALNsCuJTKNZpi8UR84t7o2CkxM49KIfuSJUaQiWjMRiceUPc+JE7eS3OLlOVOCl111VmHjpEQJaB0IK1TBqRxVL23wsJ+XZ2rNquzzEYpbrbp6Onongfje9+YnLhXtNooFQLUdruOhXNYvdWwq1bcu9faIEeyiWxHWiIjr5ERIN7zhoEnVTFGxIILCpYunGiTiDhEasb1xMema8l4J7tN5U9rrbM1nRHG4IkHDBKYRJQkyczszMLi/PzC/OzMTJIm3l4ER6MIxrEUhER89902MqV+KViHpOnszMzi4uLikcWZmdk4jpFoU990IltqciCChFeuSKWUODp1PVu+2ThO4jgeGdgiTqSgbGUtKY6jcGSQ+bR+BtgxeQPXJEnjJAm2rFMKYxq3O27UF/BWhin3/8Y05ubPI276AePNGGrkb/ugOnL/qzLBcubEYQbbXNyyQ2ZPHgpmL257pf2+X7q1LqH9CdJh87xxnr/tA4dv89nP8eg2Us2fOsycz+4wxuZ7fg6j7Jau7PFj/80/2Xn5tlZv3cCloHNk2ykO07Hx2RGb3/9fvbK7/fihLoCnXrFzyYlEp1vbcrXuvnHZeTWvdVvaOVQKm+gcm34pT+M1R2Q4XbAua4hVoWk+KJFRAbxyyKascGLWprxzh2dkjLUDNoGkH7QD41gzl84WrAvQJWrt3SoM2gqQgwe/DgoLBUApReAAnMeDtVQmkUQhUQpD6OJYzC1Gp+5P3/SYfPBRd+x02WwXiNpoZ0qwJTvt2CNkX7niGEpjtNbWGGvN0OjSmArnR3E+P9d+4P6Ztz3eeuxt8T1vIA/vwSNrYFaA0gANNQy0LWwxtL3SdbXra1fYCuF7oGeYSyDjJT587YbXiNhEtuDGKoxQoXhRguyBWANadbTO0LeucFZX0JekVSk18vbx1j2PtN/6A9mj7+H731TOHynSdOgLR6wBy9Wsed7EP9NHASiBFKCyqEoSJZAN1TSlhlJr6wohy2YLjp/KH3lr46G3yrmTmLYqMMnGOG2dZmZSadw+mh5/MH3o7epNj7rFYzrN+467ZVlUbXh1Bb8yyMKXBgmHwhFp5JJNabVxPnckjrHdoeOnsgcfzd/01vjEvbI9R1EGLMEKNsDV6g/BDMEMrBloOxiaouCy/gGj0Vo0DBbAUPWbt/mubsPP23adsxV49hRCzSNUq65NqXVZ6tLni/hEibHFyGG4jHEfwkKHYouRY8moceYKxhvrkXy1JxDY54d4S+HAcbAjSVmezc7Nnjh18uTpU0ePHG00m4hozDihox5jqEYRQjjntNbGR8j7sNYiYppl83Pz99xz76nTp2dmZpM0ISlDrpPPv6jnJGRPIOJIzROCd0kjz6Io8sk1EEpXnHVEoCIVFDqDQAZuLaQJlrD1tYxEyOyQUnK1vWxZlkVRGmPI16dkaZrGiRjJ/TBPuYxp3M67/9lXjciQC/fsDzOO3HMLTtS5KfxM+QzI6GZaaL33T9/8KOJ7H7/hgc+fvHm4db0I5cEA7eL1Lx758/9QHgo37hjDZ7/AZoeC4sY7/wS1Dundqy8+N3z2czdDA+0IjNXCfbM//T/SAXDsQaLxfT915M//w123a9JAld48gXW4lZosSkofeFfjPT97UyN998+KAy/l4Tp8uO19OLZINBduU8uYtlDG1dvz2Zu91u3j+3ObuZ6ZKZExjddYVIimGLAeVlBCZajiHVPMdtbIQBIYJSgk6wJlTFHyGrBfDcniQUeCcZSJ4LGd10RwUnEUuziVQCCE92bVlMROKZQiSCJQrY0QDEFCMgsxgqidThhQiDgVnTkrFES5FWmZt2D5kusuwbDLpqQgsmi8PAWIICXK6LMlULKIWEYyjVW7Ex05Ko+fFicfwJljkLZARK6C2r5wxPlKECIRZZi0IGuBBUeqgqBgSUnMcspyjGIiieCdU0d1EIiBgQkCIa5ukMGBYKE4zmzess0Zm5ZgrQmOl8CqORenDZE0oqxBKpJCYd7SnTZevUBLF3F9xfX6UAzZlOhs0IxEb/0aZtkBew9bGvmhEKJgJSHKsdGW80fi46eSex6MF45jNsMYheQFBw4QZDXBJEQad+aFcDJJSWZFer5cusTdDS7LIGbigF01DA4SIIzotU4lErAkFqpal2YH549Fx+6NTj+o5o+rVoujuNaGCA4vQeIRvQCHkKBiTmJHXH08kJzWNoldpLjaD7ST3+q+X3p+5EJIpSJnfWEFsnPCGKWUFN6gFGFCsPPGhBomvEhgnNMR1DHrag+l6myQIGZhbVStphgrXFzXAgop0ixF704aySiKo2W10u/3rLWBOBg/RkNBnhK1zC6YnvqGhZQiTdN2qz07N3fkyGKr3VQqIs87TCae+BwnhAn9izB2Iaq353kjy7LhcLipglH1jbIsbTQaaZoSiR3kTtHnHYXbFEFJkgSPlaIo7SgzRQgRx0me5VmWRqN8jR3TW6YxjVsYavYE5TOut/IKnGubEONBRDTj+95xC857WFg7urc+epMdSO5/Z+M9P7ubP8v+6KJ9tPX9HxLtI8VLX38FsMQ2KHUIBQFPZOw8aUf+7D9Y++Q/6T7x2zc1oSgbb/9A/vgfQ6l24q2Ott/3Z1Z+++/c8Dw3ZvNHfyw6/sjNDFzsMufJvY8v/NzfXP29f3iji7hl3CppvOOn9+XF5NxxfemFG1/3rUTG7LFDfda2NNJ+7y8iwMahdn7j3T/b/sFfdBtX+k996mCUxKE6fLhVPlTaAjXnblPLcnSJu8l8ilvII8j2wm3ieqYxjTsqPBcRo1CUNsXscUpbO3IRu4h9kqC8g2mL9VUue663BlGyr0Xcq0TY8BgmMfDYnNKLXqIHTsIhuSi37Tk9ewRAubKogBY40AOMYtmalUlLUIwgsUJo5PkHcl5vU3oZSSCvF+gYrEUwCIqbcyputTtH9enlYuVcee2CXr4Iq6swGGBROqOJnRBAAhWgI8Eicio36ZxszSZzs/HcrJybF+0ONzouShjQsUEv3IEMvuwCSERq/qgthxVoHHQxyliQckU1KhmphWMqmxWyQQxoEVhAsGhAE8ohBNcUAzhvWUESk6bszKvFY5YqqC58sYZzbMBBZ9YuLkIjxhhREbU6Kska8wvu9H24cdEuX+5dueJWVmR3A/t9LkpXlmxKci7CCkeaqr9BXlGRJFLCpiTydjJzTM0fz46eiOeOqMYcRU2w0pUEgh0BCuGVSQqvaipFJNXMkThpJa3jxfFL/Usvmyvncfkqddd0WVhTlmyBjHRMDBWSRhlFKai4TCJsdpL5k9HCSTpyimYXRLMBaQwSAbS1jrlahwoJu2pyURBFTdWaczNHCCyaAqLcAWLZxzjD5gykTZAxgNi7vvQ6Uc0KS6tIJknSyBtxEjuvMcnOlaVOkrjZbKZJKoSEkeDl4Xb7ZGJCAPDBWCRLsyIvg01JICycsa1WM0lTKWVwLQn1GQHMe4sTttZW94JJrKTK07zVrv63urY68FEUhdaauXZFretTiKRUUaSUitI0yfO83WrPzM62ms0kS6SUUHumjK85wdaEcYtial2BQ0KkSdpo5M1mw3jHkZHMZ3URa1XRzLJMCGJfZcQ1OQk12TRqkEikadpsNjudDmL4sDprbZD5bLVaaZZFkQquxHSLqlWnMY3db66lnD9VviJEBiWNbaduvOtD3S//x73AzGMfuAVExs3d3B8O6myL9nt/0dsl3BiiUwv3pg/9YP7YT1DashtL+x9/9IH8rT++2fN87jDc1jYiozF382zIlqn44f9azp7qP/XJ8saFBtT8PfED70gf/IHo6Bv2OCx76IcAsPvlf38AUwlAlOrUQ9GJRxpv+8nJrXLIge++2WTn2Pyf/Bvdb3yk/82PH8SYY1ukb35/850fUgv3HWTyb5TIoKy9ree3ZPP4dKRfVHOnVj/zL93alQM2Ep16c/OP/EIwIonvffsBiYzDdfhw75KHSnw4CEo/bMvz42ssNefcAa4Vu3B5c7fsap/NvPLX6mlM41UIoWR70XSO2NVLXsTS7Gg2uAuRgcG4s0IvbtCz3RVqzsIdSWRMfGXidUNACPYjJDDN1MKJCjjNdcloKRWBY11UKLDRkXPHZdzwzqsBGmGd1wFAQDhS3ggP86vDiJxKVCJEPqfas2K2Jebm5bWjvLYM3R4NC6eLQGR4dVFEVKwijps2m5PthWRmJuo0qdnEJPbmHeDNOHnkLsHBTIWiWM0cAUKZZLYc2igDgcKWXmeDVGte5S0Sce1sCUTAjBYwKCX6R98MVFcPVUMTKlKNdn7yvqjdkcpbdjrhHJRgRZ6ruQXKGyxEBXbjSCRpim2wMzRs69l5mDliVlZobQ16XTsY2v7AlgM2Xq8DfGoFCRSRkpFQMcUKGxG2ZrBzTM0eTecWVd4CSKvuBIPTmmyresVQJ1mgFEiJinOZdUSzTa2mnpmFq5ft+gr0e6YcgCvZ6uB/UR0uE5U2MMkxjWV7Ll04Gc+foJkj3MiZHKKdUEet6xn8vAKikGmWLJyUDDA7B1ZDlDpAVw6sirk9n8wtYpSMH/kf9NG9r9uI46gz0xZSBECOniwwWiulWu1m3sillBMsBB6avxvbr3paQeZ5Njc/l6RJ0BANBsNsXZZljUYebEc2SYWtMB4BhRBKYhzFkecn8kbW6/cH/f5gMCiGw1LrkNoACOwcCYqi6tA4jtM0yxt5s9Fst9tJEoftFqpSJixatvnFTr5edUZFKm/kc/NzcRzzWL/CuxC3Ws08zyOleLvD7eYHP/zJa2TEzWZzYWE+z3MvS1OXvQQ72MwTOjQx+9Pqkmnc1pAzJ8qXv/VKfP3F22UC2u/7JbN0bvjCV3Y6OG+9/5dEc+5VJzIon7klw2+/9xfT+985ePEr5UtfKy/u5ccp5+9Rxx9M7308fdN7J7DK3I5pHRTn0T1vjU48Eh9/KDr+pi1/ah4KFG19qH7YjIy9MuTzxz6QP/aBwbOfG7zwFX3h2R1lOycxtly4Ry3cm9z39m2GIHtyGT+YPfTe/nc+W174jr7yot1Ydr0VdpbSJsUNyppq7qScOy3nT8cnHsGd0ulvOZFRc3Nv+8nGYx/sfvOj5ZlvFZee3xfeq6NviE8/Gp9+NDlwdtIhei6uKwU61EcPdySw0offF51+a//JT/Sf+tTenqzJA+/MHv6hSU/Z7JH3r/zu/7XDrmgvRkceyN78w+kb3n0zHZaHusIc6pqAB9HIONzVZnLaZWOuPCyRIW8dj3C4q65ozEy/kafx2os4E51Fu3Tedddqr9HrcBPucivPxXNfLZ75HOtCzJ2M7ntMHrmXDmK+9aoCg+1nZ/Awu8J8Themt+GKAWuNXEH1IAVS4RlfOyMbTYrikakDjR+YB8/TALz8Y2CH7ADRVVAQfeqEsaawZeGKIeiCtWETpDd8QsjoETYggYxAJqQSGSmMFEoJgtj7pI7kGEeenaE6xlmnS65aLpidbwRrDQxAUkpmLVLRtvWEMQqEsfZpTegwg9NF2V9nYya9OquDBMk4Jhn5LAnyVSO+Q2zJaWdKVxS2HKKufrui0IOhKQZVx6z2ygeAVDWh4lhFsUhikcaoEogyilMZxyhksHytF4p8tzxlNO7oWIuimhGjbTF0gx4Me7bfLwZ97T0zrCkFO58iI1ScRXlLJBkoSXGi0lzEKUSJE9KB88kobsTpeNuaatlcKFpgXYb9AKaoDhOy6puzjMQqFkkaZU1S0Qh13wDdYIwZDgutTdhBwSMkpEKoKmTgFDaLI25ih08oZXi/meHQ+JWtd6zP3vCFFbFScpSpsaWdIK4x1q3wWRvOjELrchQ6JG6EwqvgWqIiFUVxpJSQUvmqlqBwMWoZrhM03TLcyRnwXE/df97yBpBSBc/UyX294+yFghStTVkWxtudeMkYXyxGpKT08hni1a0omdazTOOVDH3tzPClr+srL5r1K9X1eeHe6MTD6Ru+/y4ecnnt5fKlb7jhxghARJQ0RNLEJI8WH6Csvdsb1z/7ryifEXlHZDOUtSjrbM9zeQ2G7a7oa9/jYdf2191wg2RUfSknDUpyNXNS7CS3cdeE3Vgql17mou+GPSj7ruhRnGOcU5JjnKkjb9hWkHUXjLf66V61G0tu2MXq7iujKK0Ge/RBke4w2PXP/WuKMoxTijKIUtmYk3Mn8RZJOUxjGtOYxk2ierC6PP9c+cLX2Jn4je+KTj9yfXXJLkSGs8Pvfqn4zufBOXnsgfiB76OZoxQldziRcX1nLLtxsQlM+HdMzsAEWYGEBzCnmGRKtrY58qvg64QMgmuDz/jAuiuwCSa3Qr4JrIP8CsGqoB0Ruj8xNSO/zvowx2Cctc5oW5amKJzWVhufTgJEQihJSsk4FlFEUqHw/heAkzjz+g5MQjseL4SfD2QHzhmtTTE0ZanL0hoL7AiBkEQUqbRJUUJEJAg3XTm9Ewn4TBU/7bVChC/gOXhFxzavjTtkSx8aGG+dZ97ymyeWfLTogeOw1npGQ3tpFIeesPKSHFVMJnpMYfx0BqYxjWlMYxrTmMY0pjGNm8Y8znVXy5ef1BeeAz2MHnxX/MZ3Xn/ULqUlzqKQFKVsrecDShpJ/b+mQMNEAX3NHuDOx21iDLxxVIITvEad5+4VNnmyWRxbeXqMuHneEYzcTLvniX/foEnk4RLmN4VFtg5//MKokMGnSwhB1S+l4oStY7bjx+OIAv0fvd9vGCxN9mcPFOeJBgzThm48oYSEIvLnS5LIGh4xEUhYnQVVoClgwtsTvDKFYyYv2LrlpNeNce/9A3j3w+DNPbNJXMG4AiX8VkrVBUwTjiHjA6YX22lMYxrTmMY0pjGNaUxjGrcKn5i1K+bqGS56IXMbrAEhD0ZkIGHWgqSB1qBKKpDzmtTGwwmaIrAYvMsxeKgZ3gIt/eP/IA2Ak6TJpDTAZFeu/zdeR67wq0j97BzkxTIBq/0gR4wMb5/JIDIS9CXqIxjrYocdl6jGzzSWg+S69sTrlhCSAGDiiXyK0K7FEf7GSWHJYCzshT23rvoUdO/1QRlN/MQykY/dqjmmMY1pTGMa05jGNKYxjWlM4xYH8//P3nsASZZd55nn3PtM+vLtqs20Ge8tZsABMCAMAZEgRRACJBLikpTElWJXQQVjhZA2IK64YkhccUMbgiDtrsxKJAUIhgAFgAQGdmBmMD0OmB4/7X2Xr0r73L3nbOR9Wa4rM6uyqnqmuud+LNQ0s16+9/Lmzcx3/zzn/zkOWcWAgpOYtBJrFTKkWaOqGLRqLmXcLFydC5iVFRMdlnG45F89tZZ0K3/otOpbWjexuA22uReuU2HBlTOh0wxZ9VhL2xAATQAnpHGmlA7AZcPLzW3mWzJwtdXvkiW02fvi8JNZUIv5MoBWMA3ywpFw4Q7z5qbL7RUWa1qwuTeeb5Z5674brDIP5wOML6ugWfn7svAUi8VisVgsFovFYtksRL5fFAeoNiOyeZErCdmmO8TpuOgJaxw1mJQEBNcH0iCvysDCJTqB6OiRsXLzte6blw/bfLdIqyVjmfVFx14FvLqGs5Xiwsu8RZf+VSzZbD6xomPlyxIlhRdLaBhbHTi8xJ2SW203i7UdRsho96SucJVEvuqG+s14bhfCi5c7vyzzUukgi1gsFovFYrFYLBbLRlEJxwFIB70M+DmRK67sK+ksZACz1szUXAAaRQNg6OqUMHANmgGuW1Jofc2/bNG8WBjAS9bUqcaxzK5hS36bvdIS8vKRauW6Aqf+F8vNQRd8TVs3rNwBthUxYMn2vHAgaIVyAC2xCl2oDGBY6BvhVXofluotVsvo/Iy3niFx2SRnJgawA2ixWCwWi8VisViuLESaVWyMGyRoxaTbrkA6CRkoMnnh5SmsUG2OGpWrdZG2uoqx6QfkpXIFXkPLvgVhYcGmYl6cSbUE5MUSjctCVdsrGbyi2YeX3pZ6jcz3lMBi88pCRi20qkJ4rdPArsHXMlJt8k0WBKslLiq2r8RisVgsFovFYrFsLkI4zUVIo8pJ2FxqxmHqRrk2IQMRMwXMlTBuoOejdIDJjmnbcbpsydfm+23cKue5lvDObtswt4wrlnTkLITJYlo7sTSRNvX6XPPDNzUXZGpXcKlD6mI3i2idztJOh0W/jC61JItRHHbObvK0t1gsFovFYrFYLJZNVDKAiFWMjgsoOWqATsDx1iZkNJeNJLJ5jkuYKYhcCa7G+FW70tvsh3VZk8a8EUhrzuDlWSvrGARj54ncCiJZIoTggoPDfHYJLxR+rOFAl52rpetz0KYjKLVZRSsFWSwWi8VisVgsliu46BSyf7sc3En1isjm0c/31FoCrDUIASiANKw3oHTrrcPbP9bN2fuKIepUB/GmPf4Nns9Cx8dCcQPC0p0hLj1M+yHvGvKy6CgCC+kky7pTjITBCxEqrdRV7NAQcfnzwlbKWJuEwSuf9OU9QcyLBjBW2bBYLBaLxWKxWCybBCURqwRQthwohQQh1i5kIKhEl6c4qJBOqFEG3mVXLJalThUtwWExNuQyl1NeR0XGogbC82Ybi0UZvDQmhpuHZkTsQZlAq2OsPv6LphhL3FuXzYGFON5l0bkWi8VisVgsFovFsmFUrMvjVJmk2gw2Mjw42narDkIGaQqqVJsBlWC2BI4Ltit+1UX+iiqApbd0y9R4wxer636AnLZ1LIknmVcIFrZZXOmmm/V2uCV9KvPjhbzglbFQHcDzZqJo/RquwPTAZYk7l5W6pGJHav9pB99isVgsFovFYrFsJtJBIYFTm4wMdtAinM5LSgIiQJR9w05pBFDYIbXAYihLqtQsW8nOO1ekvp/rWOPifMwJLq0IaFV+zG+ykGey8sygQ/Rqm39auj8TeHk0yWU9QVbCsFgsFovFYrFYLJuOcDxRHBLFQarNmsiR9ou4TqklAh0PHZeTCOa9FS2d1nvt80rargC5t0J8vsKrxfZeEl22EWIx+xRazptL9rDwN1y+2dqO2HLvnPdjwGUCx2IWypIykIUhbtVwcFshY75VZTFr5RpXH1Z9HtcxQ5ZOckS0QobFYrFYLBaLxWK5AkqGFIV+ke9PPRQ7LeA6x69mC+jnOQ6ZNCWRUPHKyBNLT0tKvDYe1TLvzHaPEpfpC7AiCHW+2qLtLkwzCi9VMCAVKZiB5j050Bhn4KIZx2qr8flfyIshrLwsgWXp8ZY+Slr67HHHJ3Re0MGr+7nu1AC1VM5Y2m/CVuK0WCwWi8VisVgsm7kmIYgCDhusNQrFpHoRMtKVXCtBgoHomvgmm6/Qwm8tty8WaGw9aaK3bS5vMeg2zEytDhFcUruxRFkz6STMuGguKVJ5gVL/BdHcmFuBq7RwbAaBIJAR58UI7KwezMsiRh+Z9/dgJEZ9ed9J80QQQKSnjEDIOm2mYXMqS3QTni8JwTRKhXjpTZgKNm0FgmW34xsxGzc+H7pIGxaLxWKxWCwWi8WyiUKGbsxRbRZIgcyj4/ciZDCDUqAVCMlhg+J628gTi6X7uppa8oAwWsRCBkbLqXPpMp6xpVW0vDxTP8+0aqK5n2Xbz+sXvFSF6KIJ4ApZg5eGiLb+0FI60l0hL4lh4flMWASad8JsJc8yt8oxGBfaWBa6Xmz3hcVisVgsFovFYrH0gJCIgkk3139uBj2/F7NP4xEKpIxZhovCseNp6VnIQAAkglbBBRMLRgECQLQaROZNL1JNQgMqowVISdLUXxgNg5iR07uiQEQh0vvTvLaxVr8GXhAmTBlIqj6g2dmSbpiWlWlzE0RChwEEtXpSEEC2WkzYPKBWqRI2H1JzN7SgZVgsFovFYrFYLBaLZR1ID10PhOQk4ihs+wVxR4UCpQPCAQjRz4ps0VZkWNYhZcyrB7wgXDDOV1vAQlpry7miJTRw86/EIBYqLtjoCCZqVSCmQgin3p69Wk7iom8Ht0owBEOri6rV89I8AdJm99QqzkBcbGtpRbMwmL/iQhfWYgkGXuuuohaLxWKxWCwWi8VyhRDZAmYKzTWWjllFbevvOwgZQrbyVklzHLJK7LrM0vP8S+sWoCVSpBPKrP85zT4hbiXikJE3EMDjVp0Fs0OLfhXN/xEDsqnOINSAxKY4w+khF3i+P2ThP4JaCa+Y/o9M6QihRjQ1GMxEUoBEXPS2NFUYrI2GIoQw1SCpINLqNWmpGp3LMti+kiwWi8VisVgsFoulLVpTfY6DKmjF0u0xtQSYk5CTEJipUaGgArDLahmW3mBELdCIBiyAcMEzkmlpasl8O4dgEKZWgzjt0cAliggInDfM2MAZzUePtLxBGYCQl6fFEoJmYOOGkfp94rzQYRJeF/phMNVmkFtdKgvuGKs5dlgsFovFYrFYLBaLpcMykhoValRACFMvTz0JGSjyfZjr4zhE10PXtyszS88QsjL1EnIxA4eM+QW2Vv0oFq0rCNN4VGZmnVZyMAKJlqGGCc9hQDOfMW0Iac5T5lWyVxb/2tyFOVgahiLmvUTnm0dM2CqZv2iBZJJGEUDjgu+FqcIQIGSqs7CpEWmeLs+7mDLaF4rFYrFYLBaLxWKxrA8hwXFBSHR8OTgq+0Z6EjKAiUzqKmC2KLJFO56WnmnVMbRqK+ZVg/m/cKspY740wygXJMwWxEAguGU9YVQHTms2jIMGYqtBwwgia3dvwVYMapo8giCMakKptgHz2ajmCADGl5RbvTAtdw/jzmHOxtRi0GLwqnEdBatiWCwWi8VisVgsFsu6IZVwFLQyI5s/slezTxcdr/mvJOYktgNqWYeQIVzjrimA0BhfpOt9RmSBhC2HjEX3TKN3oAAgcxdgU/MAjIiM83EhREzYvMWkl7BY3m7SpTrDNJI0dypaSgoLYOIlezAnJprHJGZplBZB5kxNJCwBM2pKQ0xEmnmCKGWabzJ/DJtaYrFYLBaLxWKxWCzrVDI0JyGohJOIZieoMQewe81CRnOJqYF0qzSjQ1+KxdJdyCAkUwKxEEvSqoVAbnWLGAUhLbpolTQYJcIoFJjWSqQtHPMKBeJ8YUcakNpbCQQvBopw6kSKaVfIoiWHiWZFkf6n1d8iWjmy6bkSsGktYTEf/JqWaTBbdwyLxWKxWCwWi8Vi2cgqEoEIdGzkCGKtmv8Qcm1CBgDHIcdha2GZ1tDbunlLT6oBMDfX/4TzFRBGrTCeLQgEoBE0ohAAKOZbUFILTemAYOJWY4fpNEnTM8sTbgAAgABJREFUV40thmP8LbgVerp8VraaR5bM1YVb5s04TJOI2aVxuGjuhoRoJamkL53UwsNUXiCCNOdpel1Ii+Yj0ADSJBKbB0VIRKzMPXuJUbFYLBaLxWKxWCwWyxKEdES+D/wCRAHFAdXLpGLhZdcmZKTfhRujAMwV0c/b75ot61MzcF7TELxYTcFpOkgaaYqUyhrMpDWDUpio5m+tQJORPkx5husI1wPHTVNPjUtFWj+Rig9rOpuWRJFadXDqcGG8Q9PaChO4SjpBrVjp9DRAk9EqWAlgR6DrgXTB8chEAUlu7WuhsgPXoPj1csoWi8VisVgsFovF8pZBuuhlUDoAIAqDsm9YrCjH6CxkkKawlsavopNBP2vLMSy9kmaqGqcLbXwxuNUSgqSFZEjDPwg5EaSQYp1EcRirep3rNazXoVFDlQAK8DzI5bFQwFyfyBW9DKADgA6mu1xMFGlThbH0FlwQMloSBhAIEgIECkRAE7yqY25UdaNGUajrdajVVBgSK0Jg15H5rFfqd4v9stCHIs8oGWXzviyFwHkPkFabCmNHaWfBRQOtn4bFYrFYLBaLxWKxLFlGchJzHKTfGKPjQurduSYhQ8jmyk8rQKSwQo2qyOTtkFp6nYPGC4NbyaapJQWATk070Rh5qlAENQpqKqzG9UqjWo1rVa5WsFHDRgNVgkII1+NsAQslKA7I0gD1D3qFPsgXHc83HrYC1lzkIFqxrs0zIRSm6SWVOzSpWCQhVeeS2fF4diapzqpqles1CkMm3dzMdZxcHvoHeWBEDu1wioMiV2Q/x7IlqRiv0FXOgZd4gdq6DIvFYrFYLBaLxWK5bBUpskWRLVF9jutzVCu37Q7pKGSIXFHk+kAl6GaNw2Ebgw2LpfuinYyBpwCJIEAwM2tk3dIUSOgYGlU1NRZPjTUmx8KZ8Xh2Iq5VSUWQKNTKYXYApRCMDnkZyhTEwHC8azQ3ujs/ulv2D7HIA/qtw62owminIpg/tzJUjcdn85cGTiCsU3kymbgQXDgVjF2IpiaTeoW0EqRdBtfEpGjXb2SK2D/ibt/j7dqbGb3OH0CRy5MUidLQ3MwUaFgsFovFYrFYLBaLZV3rSPRzmM0DCswUMFvoKX6VRbYk8n00Nw4qAhUDkRUyLOsRM+bTQIwdBjMY2wvUFIVcLdPkWHLmRDh+PpyZjKszSaPMOkHhgHTQcRlBAzNpEYccBFQu6+ochGWIKygSZu2WdqAvTYqIMC0bqfkGmGRWhCV5qPMKRtr3kQanptnEwFpDHOrZKXXpZHj+ZHDxTDQ1ldTrWivyHJAS0EECUoqDUNdCUWtwvc6NOrACUK7cibmCKTZhah51Pv+k3esNlw+O1TwsFovFYrFYLBaLZREiqs9yUGv+WytO4l5SS7Sm+hxVZyhqQG22+VvYLAZLbyCATCslKI0rwTSJVRp7ChVU1IUzyclj+rXX4pmJhGPlkPAyTnbIKw2LXAF8n1yhRQRh4JRrNFuB2bKu1ZI4UPWailUSUfGg72c85gylSSjIzNpoGChAmBIMAtKm/kICCqZWXoppeEFmgSw4UlG5koxdio6/HJ0/WZ+dIaU9v+AV+3loQOaLvvBZ6ahR1eU5npmFIOCJs0k4F3M15KiQK3j5IksXm4+LTUoLCpPDgmjCVS4bltYt1h7DYrFYLBaLxWKxWC6HtUptLprrqg6hkJ3jV1XEKgJm4eeEn7OjaVnPFJxPFeF5i0vJSCbalFQSB/W4UlWVKoUh5l2nv08MjbgDI9m+bTLXjxmfXFAYcNTA2RpNzCTeRTUzkdRmeXoyFq50M7nhYSoUUTgoHG5ZZ5oWE2wpKZw6e/JC8KqRV7B1OwAJDToIkunJ8NK55PzZZHICNLn5UmbHXm/7KIxsk8WSK7JaaVGvJDNTkL8Ak5fE3DhVppKLRL7nj+x0snnh56SU2Ko3ae58oQRkpb6zoGOwLcmwWCwWi8VisVgslgWIRNpRMjsGQoDjtC2q6CBkSImZAno5jgJTfW/LMSy9z0CT4ssIjlEUiFqdJiiQQYD0kkw2KpXU0LAo5t3tRXfXDnf3Abdvu+MWpOMLIUEQcQhKwQ6ld5aTkUvRmePhiZd1bY6nJzmXV3v2UXFY5jPS8zQIB5AAxUJ2SEvPwFRcaCW5AjLItFQDiEkrqleSsbPJxVNqehITlekf8kf35268w9+1T+Tzws8iZpg4lyTUqNLu8eTc0fjoT9XsBMxNywuneHiUvYwc2CXzJRbGFKTlILqoUqA1zrBYLBaLxWKxWCyW1Um/cTaryc4BCZ3iVwlUAkqh47X0D2uQYel5AgKZ8gsWUtDSuA4BzOBlZGnA2b4LNUpO/B0lb/sOd8c+mR9C4aXqB7CSlCATMur8kMyUgLSevMiNigobXJ7RM9N6qCLdEnosGQhAgpg/EsOCr+e8qmGiUponwECMAJRAFOnarJq+oGbGKAqkdDODu/zR6/29h/xto9LMfw0SQHiAFPerYhGEVuVxjGpibhbmZuLxc6I04OYGjCFNS79AG0disVgsFovFYrFYLL3ieOj5i/oDc/MH15hawsxJyDpiYJEpiWyh7Z0tlu5SBrERMlBCGhHCAJpNw4l0/Wxu+65srsjD25GVKGVlPg9eiUkqRkI2VQ1CghQoQEjMmbqOyjbdV6KKT2FMSV2XZ/XcHPdtR2Ck5l0YhGkxYcZ54QQXJ7UwManQPCkgQawTbpRVZSIpj6ugLBwSxYK38zpv5wEuDCdOjjWCogRjQPCFZAdVsZgMbacde6ha1tUGBTFNT+jBicyO61wYRBAtL5DOOaw8r7BYLBaLxdIT4emfUKOsa3MUzOnajK5O6eq0qkwjJSs3HvrYH2T23vEmnm109kWqz+r0pzqlKpNUndSVqZVbFh76WN/Dv2af341MDF2fpdosNWZVebI5MSqT1ChfM0PNKgpPPtucSLVZqs+qyoQuT1J1ivXlM9/bc9vIX//ndkpcUag2U33+69Hpn+raDFWnRXFIFgb96+4p3PVBWRi042PZFFC66HiAyFGDw3p7uaP9XYUEx0MhOYma7xFsjQkt60Gk0SDMLZeMhQwRRpCem5fg+7JQAmb2BUgJJDUgpkoDCxMuMl9h4Ugs5LCvyH0lPeVzVOEkpnqN6jXWyogmAIxCCJMeQvMGFOncTQUMRtCieT4ybQAhpXWjoiqzUWU2iRvSddy+AXf7qDO8izIlQC/VPBgITSsKC8nSg9Kg3L5Hz83Fk5OqWlFzZTE9pRt1UDEK32oUFotlbVeCmsJa+gOIItcnc33oZuzAWLoQvP5E44VvX361t1XPVpUvzT366S28OCYdVNm8BplZZPIyUxSZPEj32pgY1xKqPDHzlf/DvgNsBeILr05/5Q+pPrv4aVadpup0culY44VvDf3SP/JGb7ajZNmE9+fqFFWmTGoEMeneKjJQSBDNt3I9N67mxrx8CdB2l1h6UTGa000ysCCToWpaPFK3FSJqXnoJKYRA3wEiBgbNAkEIkmg2YRcZjRRCQAkzS4nCc7mYpVyWy8hKcRBREhNrLQDU0thTU49h6kFgPiQEmRF12iiFIBx0SGlVqyflclKrxYlySsXMwKAYGnFKg4Ru83yEQEEuCubYZJ1IAVnXz8mh3Xp7OTl7Jq5HUA1oeo5rVYpi4Tg4/5paNB21WCz2ym/seHTm+eDkcxDVKapR2OC4sXIzdDMiVxLZorvtgL/vLn/0Zlkc3oIPZ+K//eNe7+IM7hr8ub+/uacx8+in1Oylnu5SvO9D2evffjUv58avorPVc1vubHVlMjz7QjJ+PD73cjJ5uu026Oedvm2yNCJL2/zdt2T234PeVve811fVxFjXEzdhP0e2AhQHc9/790tVjGV/rc/OPfYfRz72z9H17VhZNiZkMEcBxwGgEK6Hsr1k0f5W1gmFdWAFQkIScxLZogxLryAgpmUYbHJD0l4PgcDGx4JNCisgC0eYGBMEEoIYwTSAoCROfTPNW2PqdIEoJHoeOK6prmjVW2hAp1V9wSK11kRzTAac7/FABtH8K6fGo6kFqFDEQciNGkQRaBCZPBb6sVCS2SxT6kzKjIxCMAhq7lAIFK7jcbEvKQ1irgBSelEk6zWuVTmqc8bHZf4YHc1pLBbLNU8ydjwaOxaPH49OP0+VyTV9cCehLoe6PJGMnTDfr2Luzvfl7/iAt+PQ1rqWrYy3bRDoNhrnX4bNFjKCF7/T83Lo0ANX9aRScxNX1dmObZ2TCc8833j1h+FrT3ASrPIyjOrJxKlk4hQA1H/yFwCYveFBb+8d2f33yv4dW/TdZu5aFzLKVsjYEgRHn0jGTnSbipeONY4+kb/1Z+1YWTa4jhS5ksj1Nf9R6Ec/10NqCRNx1KA4En5BDG5v7kXY4BLLOrSMlqCBaNpEEARgamKhjYNG8/9MtAmCQIGIQMiqOQFJsOn/aP4WCBKYBKFklAqRENi0ongeuy5LoRiZWZrmEkCmJWpCGsIq0zgRRqOfaGNU4TARxnUZBplEOSCFLDheCR2PHE71FyNeEDES+tw8f+GwI1hp6UjXcTMSXfAj5akGBBUd1ESxv21ASXojWzXQYnkrMfGnv7vhfXDjyLcaR76dv/fn+3/2t7eKihFUe1UxUqJzL/p7bt+s04gvvLqepfVV/sU1XVXLuS3yLXoyfa765OeDV3+47pdhcPTJ4OiTZXQyB+/J3/XBzP577cR4g1GVcfuZsiWeiMkza9jmtB0oy8avf5q/hEA/K3L96GXaGhA6HTQQgY7b3Nj1nMFdsjBgrAoslt5moPGtSP0ojAcmphOQkVtxIqkFrWjFpKZlE0SpXacpozBlHIJRAoNKEh2E0GjIMFLM6LgilxfZPEtXmw0Xqi1avhjzrVQI6b9M8Cqn/0dMDFrrqIFJwwNyhCP8kueXhHBQGJtSs405VUQWDFKAMN0umqV0XMf3HMcTjtCQhElQFUHD0do+7RaLpfVJ6uc5qm/Km2n9ub+Izr60/Tc+dVWvTms/+ctNFDJqz399PVfhW6lGoOeRr0613KqvErZCmUDt2a9WD3+BgspmvBBVePzp8PjTW81OUpUnliTDXZvYioyt8qKeOrsp21gsq0CawjonEQcVcv1Ob3Ht5QlERD8n3CwkkS5PU1Cz42npXcdgTVoTMTMCSkDJgESsFWnFpBAZJaKL5CA7xlGTBZAUiEI0/yIRBKFgJCkVcBI04vKcnpmCWhlRQ84VpZIolsB1jdrAhGRsPvW8aCcBZKs7BQEEkpAkHGieBgjFrJI4qiVJQwL5rp/NljLZkuM4wGQKMVgIdAS6Gt0E/QQdY8PBEqUjPc/N+r7nOAQU67DeqDWChtZ6oSKD0+YWi8XyVkXm+zdzrTJ5+tK/+x+2xqppnVpAePTHm3gawSs/eKsth9TcOGSKV9EJO/m+N/cEyo//1/Jj/3FzVIyll85bzJRXVyZSV7tr+ZKS7BdFW+NzrTi0KdtYLKuACFpxFFDUoLDOWrdt1W8vZDATJxFT0lzRhVWKai3fRIulByEj/WFTAcEijS9ptWwQmRgTYeJKUQIL0oITQAWYGmIgExCZu5jWDJ0k1blkdgLKMxgG0pVOPu/094tCyVQPmbBWsaBipMYYppElrQMxbhdpRQWgbB6ciFWcxPU4CTQzSEdkcsLPopBpFYnZAxqjDpAMkticDBFic2PHc11fOo4GTpRScaKimImWP/puI2OxWK5txKYKGS0fte/9hy0gZEyuX304fnhTziE88/x6T/4qLlD399y647c+nbv9PVfLCQ/9tX+WOXDfm3X0yuOfqT35hStyge1lttjEuG34o78v+3dew2+nQ7/0j/P3/aL9WHnTcUeu25RtLJbVlYxMHrPF5jouDjkO2vp1dmotcUwNXdL8u+uj44HW4NjuEktPExBRSjZOEyZMtSUumJYSMhJBq/2DABQQA5LAVOyQzJRoBxiEEAIRgOJIz03QzCWslV1SkMm7A4NO35As9oPjMZskEuPEAS1fUVyaYmLKcU2NRvO0HBSatWaKkigMo1AqxQjClZ7nMKIE6ZDJOGEiBClYAKX1vGQifVC64PgsM4zNDYEIYy0Vpa8x7KpTpLalrTOzeobFcu0ic92+ji7+zK/J4qDM93MSxVPn9Mz56OwL1Ch332f9ua+52w7kb3szl7LZQ28Ljv04ufDaOu5b++nXs4ce3Pg51J//xvruWHr4V6/uSZUfGPjA72QOva3+/DejU89t+bPtH/qV36s//436kUdT78w3jPj8K9UnP3+lLm+87FYban/PbSO/+of1F78TvPQ9NXvhmnxH7X/33/b33NY48s3w5HP28+VNe1EPjq66jTO42w6UZaMwi2xR5Pv17EWK6hw1evDISCMdmuusKGiu+7xsc+Vpx9TS86c9I873WDAuzC6BgoFTL09jpAEo5k0u0BhSMBlPThISmv+OEl2dUeMXkqkxDuvoSDEwJEZ2yf5hkckzuoJNRQYuxJS0wk85ncytGghje8HCNLQgo2bWrBVrMjKLZClZClPbgdKEoSCItJiEkCWSYDQ5sdjcWDjoOOA4gMhEoIkVrVposbQWwyaaWCzXNl0qMtD1c7e+2+nb1pIGbgSTVTlWffa/13+6ivVDdPypN1fIcAZ2Dn/k98vf/0+NI9/qeXl5+nlOQtxwZX549Mle7+LtvD5/z4dytzxyDUyt7KEHs4ceDM++MP35T279s83f9cH8XR+88Edv6NfptZ98dU0XKY6P+T6Z7+egpiuTrJM1vbS3WGtJa4WZHyg9+NdKD37kwh/90rX6pprO/Mn/9o/i86/Yj5g35ynYf2/fu36j/IP/0mmD0rt+M3Pd3XagLBt+R5Mch6wiFA4I0bxsaBen4HRechGkNf1uVmTyneJbLZbOi3ZGkw8iUMx3d5jyDNNSgogitcxQJJqXBRIEsjYWF0IyCm0ML4QkTkIql+Pxi8n5M3pinFQMxYLctc/dfZCKg+BkUEtsTvh0hhs1gSWawxt9w/hnGINPIIUgtfBAMJhSCgnogvTQcYQjpGAJpq7DyB1G22AAQm1SV1AQCN16FREiu0J4QgponjOzIrPLFZdJbXNMLBbLNY8z0PFbKWdw94KKsfip3b+j/71/1x3aPfedf99lt8HxZ5lUWjj5pmk0Xnbg/f9z8f5fqT71xUaPGagmmW9DQkx48pnezrZvW/87/mb25nfZOfkWITjxdPD66oYs2TveN7g0EphJzY2p8piaGwuOPRmfPtL5te3ZQba8ZSk88GE5uGtlUVjmwH25u34ue/Btdogsm7GMZFYhSgczeRBSZAttv/ztcCUkhCgNifwAJAFmCyAk2MWYZR1ShunHQGwFqbaCSuaX9wggjJTR6rZglIwmzQQ0AkkkZtKJrs/p8TPx+ePJ+Hlq1JsTenjU2XlQjuwRuQIKwWTcN1rHFJe1bHDrdzqBGYHSXFVTREGp9OAIdBClYCGQzNmaLhHhGBMZBmZkiUwAqAlJtFw8pTBFG2jiTTSDWtXdE+cFnlaWip0jFsu1S2b/vZ0aRZxt+zvdK3/3L0RnXwy6VBywis48n9l/3xZQanZmb3mkZyHj+Uc3KGTUn3+0t/MsjVgV460lZLz2+KrbDH3sDzJ771j+CS2cgV3OwC4ASCZOxdBRyPC2HbCDbHkrk5bGUFjTtRndmJO5fpkfENmiHRnLppHaDjKBUuAiqwR0AvJyV+NOthcovLzI5DFTFLkSGBcAO6SWnpjPVG1lhmCaZJrKGi1twaSwSiSBEeioOUNTNw3loHYckIIoDpLpscaJF4MTL6npMSB2RnZn9tyS23WD378TXZdQoUPssEZQJDQJJinAJJ60mkyQWBA2f1C6iI4kITQQc8zNgyomBpKoHcFSECNqwJikIqEgdfJAZlSAmplZIytHc6phNHebeplyAqzS3hHz/y52kKxQNzg1HrUGGRbLtY0zsNPbc2v7q8Culbf5u3+h+57V7FWcIRpffF1Xp9d9d1ZReOIZO7ssXebIqp1Hfe/+W5erGMtxuxoBZG96hx1li0VkCu7w3szeO9zhvVbFsGy2jqEBJcchBWUOqtQot+3f7yBkaKUrk1Sd4SjQlSmOAjuglnVIGYiYtnSkhp8CQYg0CUQzk+naMK0crboHMroBC2Kk5n0oaKiJi/H5k8nZE3pqDJhFacDdfUN2742Z/m1+Ni+FEM19mDYoTh05hDkuI1LzZyE7JT0ZFM2/NfedloNIQEHNV0sTZgVsxIqW2tLc1ggrze2Q5/WXllyBunnKIrXmkIjCbJEGs3S9xFqsD7FYLNc23ugtbQSOwdHuCyHMlrrvVpfHruphCY4+se77hseftvPK0m12nXyWVdR9m+z1D3XfwBna2+lPmf332EG2WCyWK6xkKOORkcynLyO0s7no0FrCxHHAKmStqDzB2/YBDtohtfQmYzR/CWamhIjRcRAFMBAb3cAUNLjGvQIEgGdKNSQSEGoSWpMmFc/ORkdfS06+DGMXMErkwDZ/7w35g7dn9uwX+Swa6woTLkJAkgEFAktCkfappJUgKNPSB+P5gqYsBBgECFc4nvQd9ACFIoq1EiqRWglmCSxF2gVDyCA4VT0gfUDEqBATokSB1ixZIEoSnoueEDbZx2KxLBEydl5feODDnISUhJyEoBJSUW61NgdntdxWNbfVhYzsHe8LXvh2p7/WjzxauHed1o+1F7/V6+Esbyn0zKXuG8j+HXKFQ81KtUIUBqk2s/JPudvfawfZYrFYrrCQQUDKLN8ApYOO2/ZL4E4eGRIdD4QErZqrziQiFYutFzdl2eJSxlIbCFOTkXaamEINo2eg+TcySM2AzBIIQbNOGrWkMhufORGfPkpjFyhRolDwdu/19h90d+6Qff3sEpo7CwLWpiYDMb27aCWXcNrDgq3GlrRDBBhYt4pFXEe6nvQYXZP6SmxMM9KCiuaekBiJmyckW9UZiGziYwGNHmPsPUUrhsVpvsxspYXFYlm6wDaNxL3eS3TNbU0/1Lf4A+9/128GL3w3tUlqI8RMn08mTrmdjUI6Xtg0ym0sGIUceM9vWyHDkpKsFj4q/NyaXrzXP9g2Qih748Or3pfjhq7Nqlr7FqruXS1LprtW1WmqTVO7LJW17sRiuSKLTK3rs7oyRTpe3+TUjTJVp3RUt3Pb0h7HE7kS+pm0TFXkSr2YfaIA6aKQzIzZgsz3CyHtkFp6hY3Lp3QdTn01NUspUAgpJBNpUgAshIMMWnEadKqZmMOkMtZ47UV18iidP81xg/v6xOhe/8ab/D37uJiJHcXgSEQ39c0kydzqMNGQ6iEgjW0ogvGyaPmMEgoigMTc4KIU6LnCa56fbJ6XA8YGQxMRIWpp7gMMSgtiLRBQEJoCDAaQMB+5ws3HANIYbKxJ3bFih8Vi2djn+/B1W30xOX3B23dbfOaFThsEx59ah5DROH545Y3+vrsoqF2xjzEKz70Unf5pfP4ViuocNyhscNxALycyueZvP+9u2+/uvMEb2b+OR9T+Er8yFZ49oiZOhGdfUpOn20yAgV2Z69/mXhnLSSYdnnpWz42rmXPx1HkOqxRUqVE1PlBgKhp2ejsOyoHR3E0Pu8P7ttrcU3OrVGTo2uxa9lN84FeyN759jQetPP4ZXZ/R1Wmqz+raDDU6+fxC4aGPdVqnUVSvPPFZqk3r2oyqTlN1dmHMV15KjP7Dr2x8rMIzz6u5MaqMJzMX9eylZOYiCimyeeEXMFPw993pj97k7bgevdxGl71xkIwdTyZORmdf1NVJHVQ4qLJaXAO7u270Rm/2R2/29twmM8U3fs4kk6eTyTNq6nTzSQzrlAQcNjgJlr7o3O0HNmvah6d/Ep9/NTz90+TS0cUnNVMQmaLIFmWmiNmizBVFcZu/5zZvZD/0XvDLSRSefCYeOxadOZKMn1y4XWSL6BdEriTN4lBkis7QXn/0ZqerL4wOq7XDX9C15vTW1SmqTDMlPU3O8NRz4fHDqjzVvHttmsL2b9rentsue4FE51+JL7wSX3hVVyZUfY6XvLicgV3+wXv9XTdnDj24Kfp+fPFoPPZ6PHY8PveSrky2RlK4TmlIFodkcVgWh/y9d2Sua/WXUViLzr0YLxnelL6Hf81eqGwQ4biQ62u9+ZA23SW8UsvoGr/KDChYxawV2PhVS88qhvGTWIgfNd4TZkqhMD0bnLZ7ADEgAWqTCUJxXc+OJ+eO0+nX6NJZihqYy7ujB/2D12f27HdGtpFwjA0FAktAbTQKbO3I7AuM7QYTo1EbUsfP+fASUxYi0qYTbH5gS086bmrmwUmikwSJxOLpU1qCwa2wkZZPhmRCUpCERopmap6LNAGwi4/bYrFYrpSQYYIVtjJq7qK/5/YuQkb9hUdLb//rve42eOX7K2/MHHqAwsqmP4T4/Cu1l74TnXyO6m3WvRw3dNxobXnhVTBf3bvDezM3Ppy7+V3OwM51HnT8ZPDKd+svPcZhN2lGzV6sPf3nm/6QqVFpvPSd+kvfVdPnui1p5i4FRiyoPfn5zPUPFe77q/7um7fQ5e8KW/vLH2Z9Njr7or/39u6bydKILI2sdcLXpoMe43vaKSwz9ee+9saMUnD0ifqRR6MV9U2sQSeBhqnmbDz3UhVA5Adytz6Su/U97vDe9UzpC682XvtB8NoTXcQdAEguvp5cfL3+zH9vLmV33ejtutG/7q4rms3UXOefPRKdfLbx+o85WP0NRM1eVLMXF6Z9/u4PZvbd1fNojB0Pjj4RHn+67UuMw5oOa3ru0mUKAfp5f/et7o5D7rbr3OHrnP4dqx/ltR82Xn+C5pfiy+Z/UIWguvIoojTi77nNHdmfHkUu73DU5YnaMxvSzlR1qv78N3uaOcGxJ5tjZYa945Py7MU6fM0ZGM3e+kjxvr+Krr+uN94T4bHD4annkrHjbYQZSvTcmJ7v6Kw99WVAmTlwb+6O91V+8F/UzMoSMLRCxma8RJlUAqQBBTXKVJkCfWilHOF0vHcSURKhkBCHFFRAj4Bj+/8tvYLccsZkFAJNb4bp8jB1E80/EpPWKJSp2nCUwpmZ5Ogr+tSr4uJpGYRUKMld+/M3vy2794DbV0DXQxP7gQxCA5uqCWNZi1oiCWJm0Twai9aBME1QZdbMJABQoJQIJtZECQTX0VKa+PhEhQ0nDJqbITooTVE0gWBwWYAQQAJYIAAxKQVxqOKGUiGyEhLRc6XrCiHaJrCuGstqsVgsC4Qnnur2rpof8DuEoWwhIWPmQvbg/dXHP9NxMVmdic+95O25rYd9zl6Kz7288vbs9Q8l02c3c4134unGi98Jjx3u9Y7J1Nlk6rO1p76Uv+v9fe/+O73evfKjP6ke/rM36ymrPfPn1We/0tYVottcPfZkdPqngx/+5NapBherWcwAQPmJz27b+y82UwOqTW/CTuozb8wQTXz2E8mF19Z8VrO1p/+89uxfFN724Z6WZ7pRnnv034QnenbnjS++Hl98vfbsV2X/zsEP/o63+5bNffjxpWO1578enXyGGusUQMNjT4bHnizc/0t9j/yttd+r/OPP1Z7+MiRhzwu6qB6eeDodSW/fHSMf/YOOY16dqj77lfpPvg4dyyU6P9GVyeDlxwJ4DABK7/z14ts+smzPlYkNv0bWOr11ebz8+GfaytadPx0uVB//THj8qf6f/R+90Rt7e+v76V9WHv9Md+14xVOiF54RyxVbQSLVZ3Vl2tT3G0sCblP43snsM42aYGbVXPk5Hth6eMv6MZUZoqVi8HypRmqj2erfQIKooWenkjMn4xOv60tnIQpFLueN7nX335AZPeAN7JQ+sgBmDYzSmHkSpXsmAKMhIElT6iGoFXK6GMvDRpUwwSnpXEZzH8x4nPFigaA1hAFFgUO6OdtJNO8jmmeIEk0kCqX3YyJOIh01EiNkSGAhHdfPOJ6P1uzTYrFsmO5fW+XveJ8sDG31x0CJt+tGd2RfMnmmo15w/HBPQkbb1FV3+0GZ748vvLxZJ1596s8qP/yTDX3gqaj27NeiC69v+/j/ufZ7Tf7p78btvgx8A4jPvVR+8nNdymdWebxJOP35T277zU+v7xv7zRcy1hADmZx/efILnxz8wO+sveZilR3OXNj4TlRl6o1QrJ78/Ppe0ekd16hlJBMnp/7sn1J9biOnqucuyeJmvtepubHKj/4keO3xzRnJZ75CcTjw/v9pDS8SnvnqHwarpQKvaXr7+Y7DVZ+b/tL/nrRrRut5CZnJrxAXJjc6+NW1Tu+Jz/1jWtdrIRk7PvnZT4z86r9cu5Yx+/V/1Xj5+/aqY0sKGQIdX5aGIA5Zx+hmoJ3NRYd1F2mThYlABFKin7etJZZ1CRipTMEi/Qe2cke1Bq1Fgq6SLpl56SaRmJuIjx4JXnkuPns8qlXjfBH27S/cfnfxhltlIc9IABLZRe0hucZWk5g0kwJQiInEpPk3wS6CaOWNmGM1fxgECUyDTYQkkMTIph8kn6G8nzgiYhVFDRUGQCQYQaNWQpFIWLSUQOPzAYSkKYnCOGokUYNUAkJIz/ezRS9TWFqRgYjWDsNisfSsYrzwrfDksx2vYvMDhTs/eBW8+Zv8S3/fnd0e6ZFvQy/Vao3XfrDyxvQQFG6OR0b58c9sUMVYvKS+dPTCH601meXipz/+ZqkY0bmXJz/3v65bxVhce/znv59Mnd0Kc8/bvSZ1LD7zwtSXfr9y+Itq4xoEKSqv9fvqLhcGqjy+xV/XtSc/X/vJ6s0v8cWjE3/8DzaoYqTI/MBmChmV8c1SMVpvSke+WXnis6uqGNNf+RebomI0PwIyhU5HmXv0U5uiYjSHfYUriq5utCJDT59f0wvz3Eu0IUWPaz/56lpVjG/+G6tibGEhA9HPisIgZvIoJDhuL0IGIkgX0z5DIlBJ23IOi2V1JYMBUx9ONkElqBh06pdB6CiQmoiCejJxIT57LDr5cnLpVBKFlMnJnXv9Azdldx/KbNvl5LIoUs8KAVqCNqmuLT98NH4XzV2amJE0VkSCECBQpzpKWpUkRBpcYoxHNQMJVzrFgigU2POYkYMIGnURB6gTc3ktiCQ2f9K4k+Z5a0QiojjgRpWDhlYKhEQ/L/N9bq6Iq7XmWiwWSxeqT31p7puf7rJB6V2/vrlfUV4hKIkBwL+uWw85J0FwfK0X9/HEqeTSsZW3Z/bf3er63jDBaz9a55fVXZSRx/7D6hfTj35qLS36VwJdmZx99FOb9Xk/+43/ayvMPX/0ZsA1ffemps5Wf/SnE//f35/56h/WX/qurq5z+aSq05vzdMycvwreo57+sq50+3I+PHNk8jP/y+YsZNwMON4WH5D6C99qa6OzQOXwF9bRp9ZRyOiQudM8SmcFvOeRX5FTufHMb/VGTe/gtR8Fa2j6KP/gPzds1tXWRrg+J3Hz8xEFYnvJomMlvMgWRb4f/RxrvdS212LpTcmgVMhAIk0UMygSiZAEqWMGaR1H4fRY7dgL9Vefi84eU/UK9vW5+2/I33RPfv8dTmmbdLLSdaUUrBkSEsRArFgRahCOkJ6QLqBRNxSylkQuSUc7UgkkZCKjQ6AAIUwHC8WkElYEBK7jFop+qd/3sz4KPwzdStUJao4KWGgW6GgUMYBCItCISggtkEhBUIN6FRuBiAlFBjMlLAxivsTOWoUMNtj5YbFYFq69Jj/7icoP/7jLNn3v/lv5W99zdTwek0eQ2Xe3KA53e9TH1tpj3LYbWZRG/L2bU5ERn39l5mt/tOnDUHv2a/UXvtVtkfOjP2ls2CRyvZ/PPPetf6tXy/hYO8nYifD44Tf/2tfP+/tu72UYVPD6j+e+8a/H/9/fnvriP6kc/mK8JEhiTXtQsbvj0No//Tv9aeunERl3m+nq01/q+Ip+/fHpL/yTzTqWLAxeBQNSm6k9/42OL4rxE6sa33i7b0l/ZP8OlKsJN05mI0dxd14vikNtYyyXS0iXCxnuzhs2+G7j77/3DXtSwqM/XuUD9/jhK+GXbNnUl5YGIYE0hXXWCcUB6DYpTh1Fa3Qc9DIY1llFHIemx8T2/1t6I32npLQuI20vYS1QgCAkAKU5qCaz4/G5U+Gp19TFMyIJMZ93dl+X3X9LZu8N7uBO9DNaSkACZqSWwwYIION1YbJV59+OWZi6CXNb88okpijUcYxaNTfNZNj1UDbvyEimy4Wl47qFPq80yPm+pNrgKMHyHM+M64FB7BtBF1GDCVghMH0pwMQ65qBOs5M0N0WNOmiAQlEUh0SxHzI5lLaXxGKxrIZWOqxRWOOwmkydTibPJDPnV63tLzz00cJ9v3TVPMY0WFFIf98dwUvf63g1+fL36JHfMvnw67kw9ecNJincUEVGMnVm+uv/ai1bOgO7vNGbjKP+a1289JdJFYe/kLvlEWz3xXI8dnwt7p7utgPO0G5ZHGYVUaOsg4qam6DyRr8grR95NDz1k1U+xB3fGdnnbrsOUSRTZ+Opc9B1qBuv/jBz6ME3ffblbvvZ6PRPe19qqej0kej0keqP/tQZ3uvvuyN7/dv9Ndi4uEN7hj7y+3OP/uvw+IbM/0oPfVQWBys/+q+9Wq6+wQSv/KD0jr/ZxqyBuXr4i2vZg3/gPqd/OwiHGmVqzK4MT2lpUm+skCGKg7Iw5BSHRXG4FZQQlKNTq0+k4NUfln7mV9u/yl7+Lpg+u/biwp5biw99NLPv7qWLN1WZVJXx6c+314Pyt7yr16NkbnpH6e1/wx3aveQtL0wqE+HxZ9pL5+iszPQpPfhRWdjA5EQc/PnfLRcHa09/BVhf8Sn6+o8HPvgPur1TrS0/xdtzq1PaJksjujFH9Tk1c0FthhuOZa1SRqNKQdn4HBIQtQ2F7CBkCAmArGJOQnRc1opJobXJsPSoYhiVgYmNp6cQIEx3CIAADTpxwiCZHg9PvxqcPhqfOw1xIzM46I9el73xXnf0kFMapEyG06oKI0+4LgiHmbXpJXEwTW0FzdLYb6BxD03bR0hRo6pmxnWljHGiPQ8GRmSxT+Sy6LncEkCEkK7IldzSsOobprmKrlRodjq6cFrksp4nhZTIEkAKAWa3yJpEEOryJI2foYkL1AhIOqI4hAPboZBj32Gg9FV2WQ9s+g2MtcywWN7KTHzmExzVKaxyo8q9XMk5g6N97/6tzIH7r6IHy6mQAZC97q4uQkbzgvL44cId7+++t/jCq8nEqTYX6PMeHBusyGi8/NiqHgeFB/5q9tb3eMP7Fs9q6kzjpe+mgZHdLsXKE8HRH+dueaSdlPCNVc+t/31/L3fnB1Z+fOh6Wc2cmfrcJ9f7DHH9yCqX8plDD/S/+2/L5VmPM9/418FL3+24fnjtCf3umTf9i/Tcze+qPfPnyfjJ9QtxU2fV1Nn6c3/h7bsjd9M78je/C9xMl+1ltjj0y5+MLx2rHfnGRnJY87e9N3/be2rPf6Pxwrc2cv5remMZ2e/tPOQO73OG97rD1yFAPHFSTZ4q/+CPV5nSUT04/lT+1p+97PbakW+0fZ0uX1Q/XLz/w96SApbas/+9k5CRPXDfG3fJmi3t/Lv/ZeXttZ/8Rfm7/36V2TJ7MR4/6W0/0Fbj6DgUB+8f+vA/Wbn+cvp3OH3bRd+OlWKlM7jbGdzd01GyN79z8BdWdPq4GXdoL4WN9jJTh4KmjU/Ovnf+RuHuD9WPfKP+wre79+O0TnPbfnf7QWdwj7vjoL/jEGulKpPxuZerT/9ZdwcWTsLw1LOd4nvD44fDU891P3T2hrf3PfKbsm/75W+85Yn6K4+Fr/1oi1gCXcswcdzgOGqun6RELwPt+vedTsoZa8VRwKRlpiDyJdv8b1nfR4MJSmUwCSKChWnzAAKCqK5nxvX5k+rkUbp0GmplkXGd/kF3eIdbGpSux3GkVcQmQ0SjiyiYwYSSxAxM6BIDaTLJIy64HqALwhFCkE44rKu5sejsMT01wUEoMgW9c4+/Y5fr7ATPNdkiiAqZHOEVRWnIHdmh5+aSWk01qnzxLGV8yGRcxShz5GSAXFDMWkG9RrMz6sKZ6MLpeHacOMFcSY7scLftEKYcgwmwpReKlpIDVrywWCyQBjR27y3vxPbf+ndXXXAY6ZaQ4R+4X+QHulyzRsefXlXIaNtXgtmSf+DeeSGjupFzXdWHb/AX/2H2xndcdqM3vM975Le8HYdmv7ZKOknw+uMrhYx47PiqHdpDH/m9TtfiMt+XbMCZoX7k0WSi21Ikf/cH+9/799oMxQd/p1wcqj35hY4riPFjsvC2N30Glt7569Nf/Kcb30985oX4zAvVw1/I3fqe/J0f6K7ReDuvH9x56MJGe4WwcNdfodrMlRMyMFsq3PeLpQc/evnSev89sP8ecPxVl+7hscOXCxnMjdWkscJDH1sZetLFzjPbTv7bCO7AaEcpqoOJZuGeX8jd9I5L//Zvdt9zdO7FlUIGNSpdEl6dbQc6P0OYPXB3/aeXC52529/b5g2s61Hyd/5cpz/5oze5Ow4lK2yGsze/48pNTlkcKj388ejcS3F3IQNl37t+vXDvLy71d0QAL1vyth8s3PehiT/+B91Vs2TqfKc3z1U13OJDHyt1SOeRfdtKD30MdGKFjCuvY5imkiQCIdDNopcxFRm4NiEDkOOQ4wBIg+Ogk7EDaul5CrKJ+mi+7lNvTzZVEA6hJuakPhedfT06+RqeO+HUyq4DMl/wcn1CeGp2WjcCksZbU2tgyU4O0FWsBSuHQkTWwmEhNSP6vlcqOIWizJRQ+ogOqyipTEQXTwTHXogvnocgxGzRrc4qiovFklMoOChIIYeaAbSXwcKgM7pXBmUqT0TluWDsvE8swKUgoaFhLhYg8psPphHA9BReOKfOngjOn47qM+yhM9yf2bcnu2tUZnwgSksvFlYcaeyxxWKxpF+mrU/ImPrS/1Z620d7SirdEh8ABuHn/YP3BZ1X7OGJp9XM+bZfMy4KAe2s8jIH75OZ+aBNWr8feXD0x919Igr3/PxKFWNxaXHTOzmsz337/+626jv+tCqPO8u/3Gu88lj3E+t7z9/pdCG+ceovdtNQRHGo+MBHOg7I7e/rLGRAfOl45uCbL2Rkrrun9M5f36wMGl2erP74c/UXvlV6+OP5dovJHkSEN1uULDz00b6HP951wv9CfP6l4PVuLgNq+txltzRef7z7wtLdtr/0YJtJJft3tl8x9m/f9NIeWRx2tx9Mxk+0mfOdjyVyfX3v+Tvl73Yz7qV2oR6qNtV1DLuthAv3/fLK7OrCPR/q9SjJ+Al/z+2dZY4PNJzLK+byt733zZ2i3p7bBj/0CZnv7/Iyyt35c+Vv/z/dhne2vbeork53bxfyr7u7tLaMYcsVBYUDKoYkRNcX2QK67e1jOggZWnESpUklIlsSuaIdUMt6LmVTOQNMnYLJDgEQSBqTWNXLwdjZ+NIZrEw7SYwiK4h1rU44zjOzgMiYIGsgQpAos4yOse1MXIoRSUuH0ElYiGJR79zu6x1ZxxduhhFYJzoo6/IUTV/kqUsYxpStqayXDA1QHJhEE9PxYkQHRkfk8mLbqA4qzvRkrHUcBDA5nkgP63W1fViVSixd1hrrDZyecS5d1JMXVbUKUjhDg/7obnfXTtk/KFwPCbmVuJr+x9ZiWCyWJdfxw7vX0bcPANGp5ydPPZ859EDx/g97u2+56h547voHg66lB+HxpwsPdBQywtM/aduWvFll56v6RPiHHui+Qf7OD9Rf+Gb3ryjDsy8Ubn/fsgXGxde7XcO52dzNj1yhZySZOpN0TXst3v/LsjTScTXYtz1367sbLz/WaeG0RSZe8W0f4SSsdtZceoVqM3OPfkrmSpmDD1zVC4S1rCS7Cxm6fLkmm1x8bZXX0YH70PHbHGvnDZkbHgpXVEVlr8z89/fd3naKds+Kzu6/twzdhAzdtiYiibq9Jxx9Mnj98eyND7dfnvXvGPkbf7imadm1Hq3y5Be8Pbd72w+2f++64/351Qri3hS6qhhG07nrg5Uf/AnHjY5Cxkx7D6Pg1HPcNYgzc+gBe7myJRACvSwI4z7o55pvXFrDCpuLDkKGWeKZvUjWqmUcarHCxJICg07fKizczq15xJJYpM4YgjUCaOIgonKlMT0Zl2eyOhHMFKtkpqyrDRKy5eBpnD2xVeIg0vIGBIjSKFcQGkXCUvYPQXhIosuFbZCTBEJr1nHCcYQ68ZBQMmKioxqENdYJEKMAiaAcs28g4fhyaBvoJG6ESvjJ+dNQr+nzp5KJi/GpQpLxExeZFUeRU2u41YajyXEdObQdr9vv7b8BB0d01pfsAAspmo9x/ioBF0Zr5VhZvwyL5a0GZvs3tN4+/nR06vm+9/12/vb3X10PPHPgfmd4r+pciBuceKrwwIc7P/Cn2lzhFIeyhzbna//o/CvdLqX6diyz4uvwsefturG7kBGfewmWCBkUNbpHY/jX3SGyV+o7pGg17SazWr4AdqjDN+Yds1tn7pVM6UH18JeB1Wbtc/rLf7DtN/+Nu8QtZd3XUVuW3I3vKH+nW3cJ61jX55auNqPVhIxsZ/Wn752/Ubjn5y9fnwzsvhIPzR050FYOdgZHu62rB3aJwmAXn0tulwAtOnfNpMx89V8WHjpTuO09lznRbOZ1e1ib/MwnCvd9KH/nX3H6tl1Ln6hO38jKopWlD7z9W3H3rxPcTOHOD9jLlS3yFKOXAcfn+iyQ6hS/2kHIcBz0cui46OfRz7JK7HBaep6ARoFAZAnEzAJJG3GCiEERMZMQ5PqEqDRocDSgVpo4wuW2tC1ZA/iypT+xUOxgJoJEo2YmbN4CqASim0E/B35Gu75kZDcjszmZyYJwGFCY6hAURpJlYCEhkxcD27P7IkbZ/Jm4pOsVChs6qrNAdlgzs9JEIECKfFEOjHijo86+692de51CPziuJilZGMtRq1BYLJZ2l8KFgY1ekup47tFP69ps6aGPXWVaxsH7a52FjPj8q/HF171dN7ZbFqvwxLPtFkX3wWZYd+nZC937SnK3vHMt+/H33rGyoX2ZdnDupWUP+eKrq4zY9W+/ck9H0NXoTmSL3Rd15kvgesdZGm+twP7Swx/PHLi/8uTno5PPbtY+p778z4Z/5ffcob3X6puVyPV5u2+Ju2p8ujy+IGSwipNLx7ps7AyOtn+BtzSLnc7AzjdIo7nlkdy6rDec/h1xZyGD5u2Nl92lOLTqbmtPfr52+EvZ6+/PHHqbv/dOuYa79P42l9Se+nLtub/M3vgz2Rt/xt99S5vEmavxI7W0rYuQoaP2QkZ0+vlu0+Pmd9hv7rfOMhIdT3i+qiQ0N9X80GmXOuJ0XoSapEvpgKbmxxIToI1ftfQ2BQUwSCMamC8hCFg1fyNKgdmCOzLKzBRHSlHMHiMKQQJhPl+HFwURkxmy4nNDiESI/iF/226vbxikozUlKMn1Rf+QGN6p+rbHlSiBupfvy+/c7+3YJ3N9LBxNDMSMab9L8ziJBvCz/o49bjaf6R8Mxi5Vxy7S7IQTzokklIBSODrjgZfj4gAMbJPbdnnbdnojO9z+fvR9Eq4CQQAugn3/s1gs7dcG+YHiw78m3Aw4XvPj2fXRywAKDiq6Xk5mzjVe+j7oeNX9VB//jDs42qkgeWuSvf6h2lNf6ra0Pv5k23VOcPxwW2MRf5MyXMLzL6+yesmvSX5a9ft5qkyyStBpiS/xhVW+vs7f+u4r9mxw96zfVVWM5i6ijjExtMWEDADwdt04/Cu/F5490nj5seDlH268OoPKE9XDfzb48797LV/BtWsDWbZQDBebKaJVhbmr6v1q85babls3zRUvJxUcfdJYDgtv943+6C3e6M3e6C2ic93TsrHdcwf6eY7qq2ynouDl7wUvfw+9nLvren/nTd7um/1dN6GXu0pHt/lOdeKZjoPaLpOFk4i6DpQ7st9eq2wViJrrPyNecBJwErafBh2efwKtmAkaFT17SQ7tBGbb8m/p9WoJQDd/UJtWJUz9MgAluhmnNJjbc8AtlTiOlEYEj1G4Dkm8bA/QqaGTNJCSXr7ob98piwPoOsTEIFB6TmGAh3Z5e65nJwu1wCmU/N03OCO7IZMzrqMEwALTvivTAkOIwhN5V7pZx8+L0lBSGolnx5zqmIjqHglAV7s5zPXJwWGnf9gb2u4VB/x8Ubhe8zERM+pUb7HWGBaLpf1ifv+92a4V+8X7frnx8neqh7+06q5mvvpHw7865I/efLU8dm/nDd6e2+LlVQnLBIXjz/S98zfaCBntrlNlaSS7SSYFevbSavLTmhqCnIFda9APggUhQ9Vnuq0h3eyVey50bZXWD3/vneXv/ycdNSAJOY5IhaASTiJWMakIVMxJzJ2b/zlqbM1JmNl7Z2bvncn9v9x45bHw6GE1e3Ejewte+X54y7tW7cG5ioUMbzWb/3hxXUGrTSpZHHxrvu37u29eXchYcmEbn381Pv9q+ibgjd6UueGh3A0/s0qXGWLulnd2rwhb/kbUiE8fiU3krfByzaPc+HD+5nfAatLVlpuijtf9/badkBGuMlELg/ZaZausIbWiJOAkNs+126lSprPZZxwCadYKswWRH7ADaul9DhJRAqAlMqTWEWnBgiOlyDlym5fLUBSAVopFIjLw/7N332GaHPd94OtX1d1v9xsnbwKwWIRFWgAECYIAAQIMAEVSAtPRIM+irWCdJd5ZPvtsWqdwts72I/+h8yMHmf7DSndWImUFSnqYM0ECJJGxyMAugMViw8xOeGOnqrqnqt+ZndBvmPASu+D38wzB2Znufruqq6urf1OBM5ey2TSGPD7XkrjjimKB+552HEbMNR/jCLfoTO3zhJNedJmKEhIFd2yKl6vKC1R39R4SggRxoZlSKlVMKS0V47zAq5NBUOG13Ul0qYoXKI0cSVy7mnu8UOTFEvk+eT53PGIOpYpp6XApBGOcuLmh0CcDALbCmdhXfdtPOdMHBi7nyZhuPvBX51Egw44uualPICM9c6xz5AfB2n4WKmyGeYEM/+AtO3VWqnfPgm67tjRcu5Y4r06rvqvSqKjFi9Xu9Wst9jtYYYSBDDVoDovGfZ/e5qP/XC6H7tT+2u0/Xbv9p6NXnoxefiw69lj88pOMbeWc209+83UcyOCD/lAvV/1le+DEKMPeR687waG7Wo9+RSeb7qakk0704sPRiw/Xv/2H/mU3BQdvCXp3QwuueNvwgYy1gZN2ePSh8OhD9e/+SfHKW4tX3uH2mBb0dfJeMqi/mChPoSlyrlwsrXXUWY6MczvHQM7okN5DS7TWUjKtyfW5W8AykrDpItjtT0Ga8Wy2TmKcaztMRJATlFjga62UUoIxRxSIC1dLkbWB+s400T2u4lpxzbQUqSZFjEQ2OajmxF0WlD3P9aYSShnTXApfOy4Jruznc7udZpIth1fIrqxC3OGOy73AKdZSNiHVDNOpSMlRXJNg3CHX0ZxLYkwTyZVpcbWgAecMADCM4pW3y8Z8/Ru/13+z8Nn70vnjw4wCOFca9Jff3D9R4fPfX9dSD48+mDthW7Bzs8qraEC7lheHnaLVGdsV9w9krGpD93/xo1H+aTRtnhnphe6z3Mk5pXDB1YULrmbsY7I+G778mA1qPK7qc8MfITr2+Ou4IiJ3UCFcVZ4HRsdEefIcTKOsz0bHn0zOvJKeekE2zsiwocNG9hfgneJNX1y+8e7tLJ2jO/XO41/pPP6V8k0fqt3xM/mF+cJD/uU3h3nLVA9bE9Znm9//q9aDnyvd+P7a7X//9Vqq5aD+YiOZowS2xLyOBWXyAp7GfHwXL+aPtOoRyBAOr03xYk0153XUVO0lVvC5cJCtP+KGmclyZUZuYpxzZzmWYafs1ESK7AYqW6tUMko0V0R28k3GFGeKVgIZum8gww52opRUaoeKFLj5GNvDQku7UqsWghyHu4xpobXQxAWRIMaEUEoqlUhtPowz4o4jNDHFtFYs0ZoYCRKckxOYu0EwO0GH0lpLnShpYy3ElXBMhmjOyXw2t4vLopAAwDZV3vzB8OgD/ScyMO8Rp547jwIZztju3EUWz4YtNnS+yF0YlddmChdet1NnNXAcxJBDS+yipLsZO9xvi2TYQAb3Rjm0pG9nkB250OfX7Saq06VD7yodehdjrHX4K+3DX+vTdWjNu1/jTHzqiLfrktdne2/Q0JLV74SDe2ScYz3241NH2oe/1HnyWypsjvqzukvnbHsZ4Ob3/zJ69dmJH/vfnImc9VwmP/DLZz7777YTy8jmk25+73+Ez92/6x986nVZqgcNLSEEMs6lSIYQlSkxtktqxf0KCS93sk7eZ/9sgg3VacrmAsPCJbD55yBnDjGHaUdroW2/IPPez7oxA9spgttCyO0Kq90gRfalul+07kue/Z4prombw5DdQWjibHmJExthYJyYEFpw8z0x0pprlf3W9qawX3ZpFbMt12Q/QZNU9nOIOCfHHoE0J8WZpCyK0V1Jxfbu4IxElkZMkAEAO8LbfdnAbZLZF8+vRAWX39zvtbA5337626t/Er306MbNilfevoOnpJIdm5lSLA8b6flEXDXQXZ3DQ0u2qXzT/3T+3nelQ3dOf+w3xu/+5LCZ2Tj9uq2DBvXDdlbFJlR7ccD74bkUyGg++vkzf/Z/tR763A8hirESyxh73/9OQXWbx0leeaL+nT/pkcc0+cFfqdxyz/bPNp1/5cxn/93r87VkwJ9jtTqXVo8GKgS8NpU9tnQa2ek/hwxkENOdZrYqMgmX3AJWo4GtPAUVY4qWAwZ2qVNajipwrbViSgnNXMY8ph0mGZdSmC8lpF71pc5+qax3RfbFuGKkXU4OY1wyJUlrG3twuCPsD5UmmZJK7aloUpJLybXkpLgQwnG543HhKCLJlOKaOUy7pFxmtmMpY5LphMlYy0TJRGnFOGdCkHAFLwhyHC2E4kISSWKSGAZgAcBOKFz8xoHbDJy18ZwLZFz2lv4bhM+d7a8RHn1I5S12OPAgm8IHTauphu6/oNpLA178qjNnG1l921RqlJ0maGTNOV4an/zwrxYuuvZ8v/uKV75t/O5/PsyWslN/vVZBKh6wCgZfs550/+6oOh00q+4PzdK9f7j0pf+q7AvOD1PpmndN3/Ovvf3b7U3WefrbnWe/0ydiMvGBX+K1mW1+SvjsfdHLr8eRU+6AfkZp4wyaH+fMW2S2PoRjvotDnSa5fyzuOUeGlqmWie1dVuB+iTCuBLZaEO2EEt1ilQUUzDc6m3STcSLOiGx5VaQZnV17lc6W2ZXFV7vzY2TRNjsWRZtj2I11tk4rdY+8soKIYprbY9neG8r2BWFEPJsuw5ygzuYAtedK5khK6e6QmO6CK4zspzDijAvSghgXOjsg01or3T0pdMkAgO0TQ0zNIJvnWZOLvGLxurvaj325Z+v5hQdWff/9nGwZ25O7SuvWT6lQHBSeWGTje4Z6p+0bV+J+mVa1oalQ1Gm85ZjI9pJc6r+Bd+E1my6u43sLew4Wr3zb+buU44ZYxu3hc/d3nr53UPF43QYydDRofYfi2UAGH9SHKF087gx3H41U/d4/bG57iMfWX6JnLpm+5990XnggOvpgePQhuXhya8dpPvBXwcFbe/02OHhr4cLrOkd+YD/lYb3VXif17/7J9PkflFxfaAfVfqrvelLwQ66EVGtJLs3pNGGpXYQkb2hJj/BEmjAtiQtNxKRUSeQQBv/DpotgFhnIYgB27gulSNFKhCILDNhVUEkrpjXnbO0yv7T8X9Lrf7j8EeZfwk4kyuwsFaS0klIxpoXD7LgPJkzZz04kCzoolU3aQYK6vxLdEIm2wRSmiZM9fWE2JJ1twbNZPjSZZKksFmODGaRtvxMSxAmjSwBg++2tIXpiC79y3qUrOPjWPoEMnYSdZ+4NrriNMdY58kDO6+Whd+7s+Qx8AZNDt2v7965fNwWmXWC15/YqbDKVMj6SPyDxQU15UZma+PF/hnuweP2PDQxk9F8A8vxuwCWd4euogQGsZP5V/8BrnKJk7qXmg387cDPvokOiNCHK40x0pzvNxiNExx6PX3ly22dBwaVvDi59M2O6c+SB+Njh6OXHkpMvbOoQ8fFnktkX3emLe97jQaV0zTtL17xTdRrh0QftXLaH1dLm4ibxscOyPnu+zN07rEHTD6VN9Mg4ZxDJ+lw6+5INxmmdxptatURzv0J+mbpjNTXjCGTA5h+E3f4MWZxBKxss0N1YBNd2vs8sPGC7NHQDCBvLcq+5J7LDaaJsqtBsTtHVe2kbjqDl6IidnMOGHGwwhdtVYSnre9HtNGJ+ouy8Gdm/ulGXbO5RWj73la2XP8omETEMANihJ/gQL0iituu8S5d/4E3kFXXcc4rN9lPfDq64LT59VC3lzD4QXHrTDuezVxoUyBh2lIfs241CjO9b+7n+wM8VlZEsBMj9Ae+c6emjr4M76PhvfmDjD8fe/Qul69+7g59y3s1sOjw1cH2HVUNLaND7oVx89TVPUfOhv+lT82Qdiyq33FO6Jj9aOvsn/+fO1j3BJW/O1mmKTx+NX37crptzuP8Zng3K9A1krI5oFK9+e/Hqt2eBidAuzRMfe2LYOu11F8gQA7vgNTFHxjnUDmKcMyW1TEk4TKbma0PTqNeqJS55HuOCxRHjzsBBpAC5JXD5G7XcsyIbgkGMCZ2NBWErA05sbMOOMtkYrMgPEWSDVpbHq0h7CNfGFBwhdNbNI+udobVrPoEkNx/CObeTdRJpIqVUtnRJN1Zhlz7JhqFQd3SLtpEWbSf8yNaUtZOK8m70IjvzlUVjEcwAgG1Ll04NbpOdn03M0g3vaX7vL/o00HvNY+qM73Vndvivus6gYNDwE5GoVr9RButmb+UD29MjC2S4k/sHvCPNvZz7h6/zSDL3Uu5kla1Hvzh8IGOYYSNiC4GMpH3uZ6CWaXysX+8Dd8/B1T2GBq6zk86/5nNk6M5T3+57Ld3x9/xjuyLvD5s3c8CbOVC+8f2y0wiP/CA88kA4qCtQMrfpmZ69Cw95Fx6y1+J4eOTBztEH4hcfGXDV6qc9dvXr6snKhTO+N13oGVZrHf5K9da/ixbIOUKUJ3h5XDXO2EkVpV73V+TskvZ4BSUVtnXYUpEdW+UW7CQCAJt5aDAmiWR3uha2PKLErhyis5VKuI0EdCen0JRNSZH7xXK+7BIj3T4eStsOH0ozO/Kj29GC7AetPgJpu5AJZ4KygSbmZ3Yvs6OilQ2zTVdOankRFc3Ori7L2NmDkkYEAwB2LpAxf2zwM/487JFhR5fc1i9wsHhCtpfS+eM5EZDrf2zn3+pnBqyd2X7y68McJ3zhe0z1W9zNnb5o3atL/wPGs0dG1TSsTrtTFw349FefPa9vn87T+a+syakjuUUr/x6ce2ngNk5t04EMeT5Mq2HKM+vX7PcvuXHNP/e/YcCL94nXuESFLz+m436DZfwDb3xNohhr7k07JGTy7n9RffvPDCicp1/a8qc4E/vKN75/+u/86+DqOwYFMmZff89Wd+/BPr9V9bnOM/eiBXJuNINiFTbsX6cLvFDi5fHc+Tp7BDK00lFbJyEj0mGTxW2GOTJg04EM0owr4tloDttfgQsSggmmiOxqqXbBUmW+bGRDd/+x+otWfa35lSYmiUtGpLRQytXSYalmqWKJ1InSKdNa2A5FrnCy2IUgLhhnirRkdqIMqbiSQkknTZ3ULpiSLeKqs2VImPlGc20XOrHjTbIFXYlxUqRTphKtpDL/40pxpQnLlgDADoheeqz/BsSd4MAbz8ekebsv6z+pfjL3Um4cx9/pcSWmTT95Qf8NVH22kzft6DrNh78woPU8sSZ2IKYHBDKiQX8s3dYluGjA0gmtw18+r2+fPuGn+NSw8xEkpwf80dvbd+UW5sjQP/T1MrYSCXp+QJn37d/2zxbvPQc1d/vdR1ErfP7+cznJzsSec+dkKm/+0MQHfqlvzGMH1h6a+PF/Vr757/TZgLuF12EgY2pA3ds+/DW0QM4FSkkdR0xJ8+7o+uQXc1dQ7TmVFHkBLxRV1FbNBdlacqaUne4QYDOISPPlERt2NIedlaL7y+7IDZYNNyE7pcWmAiVEZ0eeZMM61NrupDwbQcJ0NriFzg5oWd7PztEh2dluFtrOF0rdrh56eXmUld9z6k4qSmc/ilbtDACwzSjGy4+3Hv7cgBeJq97W5w8MstOIjz2WzL2s2kuiMuXOHPD3v+HcWUa9fP1769/6f3v99synfy3vNWOfM7Fvx8+EF0rO9MXpbL9X1s6T3+g/N0d8/Ono6IN9AweHxNrYjTeoJ0j40mNZA24kgYx9V7Ye6jfrYfuxr7h7rihf9+7z8fZJ5l6SSz3/kjzMoC3GWPMHfxkOCmAV7AQHm767X31mdDO57oh0/nj0wg/63TXlCe+CNUvbkOP5+w9FRx/us1f93j/xLrx24FyzrxXZaY7oyAtf+u2N/YCmP/bvBjSf/XK/S1AaX/eT2T/95fWxjvG9Ez/2iwPK8P7rmvf/Wc9oyYZPeT0EMmYGjK0LjzywdO8f1W7+CHNy4jjNRz7f+O6fqham0hg5zh3zBhd1dBJqx9VxlLtZj5qUOPklViiyuMPcAjnuSod6gGGDGNlyp3ah0+XQQ/YLvRLJ0NmCpiuhAM02FQzQduflwws73CQLMnRjI/rsZy4HHEgvf6BYiWlka5YQW54Vg5jOmo/2tGzHkXXLwdrjOMtbUHeIDJYsgQEltntHoJxAn/Z0Y+7Tvzpws2Bt1+6zuy+dXvz6fwuf+97GX5VueN/Ynb9wLqSxeOXb+gQycpXe8N4RnYy//7pm/0DG0/eG17zD7/3W2nzorwdcrKvWd+H2dl06oK7o1DvP3Zct4NKLGnoi0o2FZ6kyoRp9FmTRS1/8bac67V98w+AS21rqPPXNzgv31277e96+q17z0tV+ut9UCOni4Mka2k99c+kbvz+45FxwzVaeAlGrefhrfYJEsn668f0/bz38+dcqAxe+/F9U3zU7/Utv3LjWvLf78v6BjGT26MIX/tPkB375NUnUwAWt01MvjOijO0/du3EKT9la6B8miI8/3e8db21yVNTOmcLz2JNsUCBjU5/y+uBf/EZ3z+XJief6bNO879PRC993dl3qzVwixnbLxZOyflo25tL5V5PTR9BK+WG9RlI2X48t4lLHndzgfu8eGcLhpRpLIh5UeFA7d/6SA+dRIIPOfruxcK7ecIsBgO4irrT+wJS/5bp/UO/tN0YkaP1xaM3P8GIKAOssffsPgytv84aYW777hiPT9tPfbv3gLwZuyWszhR5vmAtf/lR09KHcX2W9PHY2liF7D6JWzXneYxFZUZtxZy7ZVIswuPyt+ZmWJu2nv9l/LLesz7Ye/0rxqjvIyen9Hhy8tfnAgEjEwpc+Nf7ef+zvX5/nOgkb3/vz/ot0irE9pavfkdOePnhL+Ox9fXac/+vfHHtfnLuGQjr/SuvJbzTv+0z/0z7z6V8LDt4SHHrXuh4l5BWDy24e2OvnzJ/9K/+KW4PL3uLuutSp7do4jKJ1+KvhC9+PX348e+9tPfG1cyGQ0X8dXLlwYulbf+Bf/KbCRddu/G34wveaD3+hf/+ajHvBVV7+lApEbtB/7dLOE19XrYXyde9e/Xd185q0eKr15Nc6jw0zrkcf/88/Wb7uztK1795CTyXZnO+1wPPSvX8Yv3y4/+7l696Tex81BhXI8Nn7Zv/4X5Rv+rA3c+nquYp1GqnmQtqcT5dOyvnjydxLydzLzvi+qY/8qx0LZJQn+2+QnD7aOvzV0qF35YVgXqp/+7/3X3s1Pnb41O//o+KhO0vX3bW614lcOp27EEnrkc/3mVRSJ2H0Sr+rULxyTYiz8+x3cw8Tn3x+3TTDm/kU8vZc/rp8NBevvH2pbyAjKw/J6aMdtGNeQ5yL6rQY20XCJSF0EmuZ0oZwBOn8rhY6OXkkOf6CWjpFnl+44mZnat8w02RodNwAAOgLPTJ+RJz8bz8vF08wEsGVby1cdL07c4koT6x/f5BpWp+VjbnWY18Kjzygo9YwR564+5PBlW/b+PPo2OG5P/2V/vvu+vnfdXZiuZPOC99rPfS30YuP9tmmcstHK2/5COUNtG499qXFL/72kJ/lTF6062dzNm49/qXGfZ+ReQu15kZPKrfcU7o25y/hs3/6K/Gxw4ODKde8I7jiVm/qYioUw6MPxcefjI8/PTAcU77lntptH887+S8vfuE/D/7Qg7e4e68MLr2JXD8+8XR88oX0zMvh0YeZTDZ1vcq3fLR2209uqqisb1WWxp3qtFapilqq09xYVskN9v6TT69/dz36QHjkgdZDnxscGpg+EFz7rsoN79vmsIszf/lvw+cHT2vijO91JvZRUBHFqora6fzxdOGEas4P+SmTH/l1v8ckNbOf+bV40Bw3NkMFL4+L0oSOWrJxRifhlh8p+z752TUxjrylZ9d8cqEkpi70L7rend7vTF7kTl2UzL0UvfJk+7EvJqcGlOfi9e8ef/c/ys/5P//X4ZEHhi5OY2J8n24tyPZSr3pv9z/6IxFUziZMJs0H/7b1yN/2GTrUPbhfLt7w48Urbl29RumJT/3UwBEBwVW3exdc7e9/Ay+OycZsOvdy5+hD0XP3q+Fq5ox34aHpj/1G9n3zgc8uff13c86wPLHnE3+QHxM5/tTSN3+/T18Jd8/lMx//92ty/i/+be5IqD4Xa/Cn7L1i5id/c80rnkxaj3y+9fhX+o/Fy8pk5eYPB1fesW6N2GT2xdajX2g/8Y2Bq8yK2kz5hh8vv+n9OX9HV2n9/v/RfuLrcnDvqvzTkK3F0//fPxn+Zt/2LQlboaK2aszHLz2hwwYVSs7UBd6FV7EN8332elqQjkPVmNNhQyehai2xib2YIgMAAGBI3WaWlp2nvr165T9enrD9nHXaOKM7m17CoHzTh3KjGPbvyYPf38IXvle+4Se2mbTGA5+t57XO129236fDow+MvesXvL1XrG9hX3X78IGM0vU50Yf6fZ9u3PtHm7gcS6cXv/DbsrlQveWj60/mmrcPE8joPPH1zhNf31RGuXsO5kYxGGP+oBk3ux/67H2dZ++rDzHSYVMKFx4Krrq989S3NtGsbC3Efd8DddLpPPud4OCtZ0/+6W/P/81vDnn8ZPZo8rXfCZ//3sT7/ul2lp6Vw424SRde7bMK44B78Mb3+72n2vVmDgwVyFBS1edUfe61eENoqeNPJ2dfYjcxxVfp2p6LB/kHbxk+kKFaiwPHRoXP3LsypkzWZ+c//1sDe4t0Dx42m/d9uvPEV8fe84srHalK1901sM9I56lvdZ761tLOZXXnufxeV6o5/+pv/R0qFMn1eSGg5fVrk9mXdDhgto7iuqFqWveq+duPfjl86l7m+dwrUiFY6VQVn3iepdGgWnfNhd5U/jOmG/f/efvJb67O//ClRxa+8J+GLPBy6fTSN36/c+SBiff+U1GdWnUac/Nf/I9x3wB6/9Owc3+MVW768NLXfgetlHM7kiFVY17V53R7kRVKYmIPy/srYI9OFkrpKFTNM6rTZMJlrsv4UH9CJAAAIEK3ix9x4ZGes+Wp5nxy+khy+ugWohjBwVtqd/RcmS969ZmBR4hPPr/NpMUnnhsmitFtl598YfaPPpnTWnB9b/91Qx6kmDe8Ijn53BZOPnev0rXvDq64dRTFYPLD/7LXr0RtV6V33/Ifgomf+OcUVHf2mI0H1wzSGT6KcbZ0vfz4/Bf+47Zav+3FkeZbcM07a+/4uX4bXHH7+VZdDRvFqL3z5/oMNyhde5d/+c07eFrtJ79xtix94T8M/RZ99qX3zGd+/Wyc5dK3vAY523vNV51GqrUgF08kp47Ex57IvgZGMUR1KrhmzVA11W9ZWa3itmrOp/OvJCeeW/mUgVGMwoEbSofuXHMvbzv/z3zmX242bGdrg/+w9jR+a+goRv5pdGORb3q/f/lb0FA5pwmXCYdppeKQxR2m8heE7jlaRMtEpykjEtUppzKN5VcBAACGbYI/vfNr0QcHb5noP1WejIdoWIfbbV30XTw1p53RY/vyDe8bZnd3+mKeN4H/1gbI9Npr4v2/xPsuE7AF03/3N0WxX6Sg+taPFV7TNXSn7/k3O3vA5JWn1uT2+N4tHMSbuGBbgYzW0uhyrPzmD0y8758MOP89lxevvfP1V6eVb/lo+U3v77/N5Ad/RVQmd+oT4+NPdZa7eLgTF27lfp/Yu/q6BNu+Lpst0nIzY1KGUb3jZ4RfGTJWsjW8NF697e+tr4e3nf9bqw1EdWb7p8Fr03ll9VdLN7wXbZVzFhcOL43x6gQJh3FBjruZHhlExAV1e2Fou/QDJr8AANgW9NT40RHudCBjcBSDMWfQop6mIThovYzBLctijfLWpet5Vj0CGb3m71yneH3++g6ispVARp+99vziH3sXHdqRi+VddGj3J/7A23fFwC1rb/9Zd/KC16qUujMHdv/D3xFje3bwXXfNpZ/cyluH2NILz4rSmz8wmurbqd7x07W3/4Oh8uHGD5AbbPuded+5U6HV7vz51XOs9LH753+PV6d2rCJdnsZya7eJu7YEVt78Ibf35JeDi4BXLN304U3toqLOzhVAb/zuTxY3jCtUg+ab2Ozn7PrZ/7JxitDt5//WaoN1oeetnUavZ9DYnZ+o3HLPVmr4obsTwjaaGg6vjPPiGCNiSvVaPrVnPwvyi+SVmNZaSZ1ELE2QpQAAAAOli6e03LGHprvvqom7PzkxxLKFwRB/3vd3ogvApjplOLXdPU/m4OBYRvnau/KbL1uaRqH/XtMf/Y3ymz+4zcwJrr1z6sP/qteqEOsv7tRF43f/0pZjGf6Vt23/Us78/d/afi9rXp6YuPuT6951nYmthEi2M0GGeeW+7eO7f+H3yzd9cAfvaHfP5ZP3/Hpl6JdYd2p/+ca7t3FV3MrNH9n1c586F2ozXp2a/thvlG/48aFfhGnPP/zd7Y8x4dXp6u0/tbLKEh/uhlqfkWuDYu7khZMf+b/9y27a2vmM/8Q/9fe/YXO77VCUwZ25ZPIjv17Mmx1pB3tkFC6+Yd8nP5vbN237+b/F2mBtj4ytnUafZ1D1to9Pf/zfD9lVh1eny2/58MxP/cfC3ivRzhk5marmomovdldg7XVxe1VDZ8eSKGXHpeCviAAAm4DOFz+ynLFd+z75153nvtt+9MvhEEs59uLtvy644tby9cN2fw0O3sqDiuo0er73Xvpmb9s9MmwCd6dnjg39qryrZ5DijT8R5i8cuNx833UJ69H7Y2uvuwP3qr39Z70Lrm498sVo8xfOv/zmypve7124uW4d7vT+8bt/qfXo5+xk/p2hEzJZvuWe8vXvnWes//qv5BWLh94R9H6x5IXi5Ad/NXzxofbhr66elXbYwjC+1z94c/HKO9yZA+uPXNrKKANR3u7f80VlsnbHzwYH3xYefSg69lj88hOMqS3eg3sPBpe/tfSG95BX3NSO1ds+LipTi1/61GbjQcEVtxavfkf2J3F31yX9lxERY7uLeSuGrlO55aOl69/TfOivWw99Tg+aH2FNlXLdXZU33u0OvYb0ysNv8oO/vPSdP20/8XW1dHLTeX7RoeDSm4pXvZ2Xxs6mdItlaf17rwgqkx/6tfp3P934ziamCg6ueUft1r+bVWW8OjX8XA9j7/5f24e/2n/p1gFFojIZXHZT5a0/2WucmlOdrr7t463HvzrEKh4DPmXszk/0zMlt5//WjuCufXxs8TR6P4OyMUcTey6Xb/1Y9MqT8fEnk9NHZbuuOnWdJu74HjG2yxnfK8b2OBP7VmZo7jz7HbRzRk/rqKVaDaakXRbVdsqgIQMZTDMixolxoaOOiluMY44MAACAodu+l781uPytOonaT369/dQ30/qcbMyTGtBTQ1SnRW0muPQtwcFb+je/co3f/cnFL/3X3Batu/dg7Z0/tyNJ22SPjJ6pKAx65y9d13OJhJ2dI2PNhbvs5uCymzvP3995/vvJyecHrjXo7bncu/BQ4aJr/QM3bi0/3en9Y3d+onLjh1qHvxqdeDp59dleEQ1yfWf6ouIVtwfXvCNbmbJy80eT00fT+eMbr5F34bX+/uuLB9/Kllcr6BeFufiN/sVvjN/0wfClh6NjjyfHnuzTq4j8sqhMFfZd4V/xtj7LrziVnXn53GIMYs/ldmbKj+okDF98OD7+VDL7Ujr/iqwPWryzUHJ2HXBnLvEvuXHTf4FfXXqvf49/0bWdFx7sHH0gfvGRvvGIPd7eg97eK8zb+6q/h5dv+vDC3/w/OUnbf13hgkPe3oP+xQM6WLm7Ly0cuLFqe8rU7viZ2h0/E774cPuxL0UnX+gTYjDnc9Gh8vXv9bY+EINqt/7P1Zs+3Dr8lfjlx6JXn+m/2qUY2+VO7XenD/iXvSX3Q7cYuOxRlqpv/ah/4I2tRz/ffvwrA17vL785OHjr6poquOTG1iNf2PBJnju+x9t/Xenau1bHfUrX3lW69q74xLPR8aeSk8+Z+mS4tXKcyQvcPVf4F7+hePnNrO9QPl4ar9x8T+XmezpHH4xffTY5+Vx86gU9aKHZbvGYOeDsutTUEoM+Zfv5v6XJU2jdQ3Brp+GM7R58qtWZ4tUzxavfjqbLuUK45BSI7BQXXkCFIHe+TtK5Y06UjF9+MnrqPhW3nIl93mVvdHcdyFnLFwAAAIYmW4uyMSebc7I+p8IGL5SoUOKFIvdLojLjjO3akf6P4UuPxMcOx6eO6CQUpXF35kDhouv7LDcAfaiolZx+QYctGbV11FJRi4TH/RL3y+SX3F2XrZt7b0fEJ5+XzTkVtlTYVJ2GU5nk5XFnbI87ddHGEhLPvhQd+QEVa05pjAc1XqyJYo1cf3unoKNjj69ONQ8qTm0Xr0y7tZnNdk84tyRhPPuy7CyyuG1T19YyFUGZCuaCOrXd7pYG8w+68RfCFx9K508sv585PChzv8qDsjt1QJTHe+3YfvpbqrUoSuNUrPHAXuJibWfOSet04dV08dVk/lUmE140JcepTDvje7ZdeHKk88eTheNZedZh09R7fvZlcoAHldfq7pbNedk8IxtnZGOOETe1caFIXkBeMTdIl5x8vvPiI7zgk1fkXsD9kjO2dxMv2EqaTMi+IpMVsmO+J+Gu1Cre1IHVvVG2cm2TSIVNGTa1/RT7ca012V4oe7svO79v5NfO0jd+r/mDv+oZffHLe3/xj5FL266gVHrmRPTMfenpF3lponDVLd6FV20ikBEdfSx+5n4Vtd19BwsH3yLGpjG6BAAAAAAAAH40zX/uP3Se+Fqv34qxXbv/l/+GXNourVSnGT39vfjlx3mhXLjyZu9ATmCxx9ASzsktMOEyrXQc2mk2EMUAAAAAAACA85Vszm8cjudM7e+/YPbZV+xOvc9veaGEHN6JiyRlfU61FpiSTCXazpSxMRzh9LxItj8SY0zZKU8Y24NYBgAAAAAAAJynWo98rnHfZ9b9sHbnPyzf8BMD91WdRjzbdwreyhRyeCdo1a6r1qL5Tqasx9olvZdfLdaoWGVak+OR4yKKAQAAAAAAAOev5qNf2vjDzjPfHWbf1uNfUY1+M9d6F16LHN4BxMnx7JSfHpXGyM/v59IrkEHkOCQc811Q4X4V+QkAAAAAAADnqfjk87q9mPPzY4eTIZYV7zz5tf4b7Mga56DSSEdtpjUJh5fGeI9RP70XVVVSK7vsdhrrNEaGAgAAAAAAwHmq/UTPNXejFx/us+x0/Oozp//7/5HMvtTn4Lw45iKQsSOU1jJlWqk01u26TsLc0SG95sjQJFwSbjZpKNMK+QkAAAAAAADnqejYU71+tfS132k98vnC/uuKV95BfpnbL9Wc7xx9MD7xXPjMd3Qa9T948dA7uBcgk3eAcBgRkwlLEx02ddTJ3arnZJ8q6uioZQeZMKYV09p+BwAAAAAAAHCeUa1+M1yk88fT+eOthz+/lUOTU7zmXcjhHcGFwwtF5niMSMtUhS2Wxuaf6zbrcZGVTmOmJOOCggp5RbvkCQAAAAAAAMD5R7WXRnTk4vV3uVMXIYd3Bufk+eQUGGMkHEZcKZmzVf7OWpsvOxaFvCL5RXTHAAAAAAAAgPNRtpznSN67K5Pjd30CObxjiKhQooLPtCa/LCrjfEN3jH6Tfeo01jK2i7guqU4Dy68CAAAAAADA+ShtzI3oyFMf+XVk744iRt0whQ5bKmzZPhbr9QhkcPtzIl4okeszzVhedw4AAAAAAACAc5y3+7LJD/2Kd8HVO3hMd9clu3/+d92p/cjenZQmqrOk44gxpuKO7hHI6DHZJ3FnYq8c36uWTjEZszRmSjEukKsAAAAAAABw3vEvu9m/7Obw+fvbz94fH39KLp7Y8qF4bXdwyRtrd/w0uT4ydqdpG3zg5HhaK0bU7WaxVo9AhpI6CXXcUWGbNRdU3MndGQAAAAAAAOB8kYUzsmVKoleeSE49n5x5JV14VTXnB+wpXHf3Zd6ey/z9b/AveTNyclSEy8vjPKjIxZPM9rHIna+zRyBDK7l4Wi6dZlpxv8QLReQnAAAAAAAAvD44E/uciX2MvTv7p4pa6ZnjsrOoo7aK2zpqa5lSocj9MvdLojTp7b4MmfZDoJKQac2IWJrY5UvczQQyuODlMR5UVHNhZfkSAAAAAAAAgNcfXih5ew8iH84FqlPXnQYjIu4wnh+y6L38qp0slByPCbsnJsgAAAAAAAAAgJHhrs8LJea4dlAJJyKm8zbL31tr1a7rsGm28Cs8KOfOFAoAAAAAAAAAsDNUyoTLgyo5rpaxiju5K6j2Wn5VkHAYkZaJljHTCvkJAAAAAAAAAKNE3C+K8d0UVJm2K5jkhSN6BDKIyAvI8RljcvF0ungKsQwAAAAAAAAAGCHhMOFoJZmSvDwhxqZzp8noEchIE52EjGlGnCWxTiIMLQEAAAAAAACAEVKSJbFqzKv2kh0p4jKeE7XgPfZNVaeh04gXSnxsmhdruTsDAAAAAAAAAOwIlSaq3VBhg8lUt+Zl48ymhpYwppmWKSsEztSFojzOCIEMAAAAAAAAABgVzrlOQyYluQUVRzoOc0eH8B47Cx6UuRewJFKNedVpIkMBAAAAAAAAYIQcl2nFZMq4YJz36lGR/1OttVbKzhGaqvaSChu5S54AAAAAAAAAAOwQIq9IhYCIKJsyY/jlV80uaazSSCvF3AK5PlNYtQQAAAAAAAAARkfzQkmM72F+hdyAPD93ox4zX3DBhGBa66hNxMnzNZZfBQAAAAAAAIDRUUq2FuTSLEtjpqXtUUEbt3J67y+ZVoyIXJ8XiiQcZCkAAAAAAAAAjIrWutOQc8dU1GJaq05TKcmZu26rXquWEA9qvFDhhSL5RSYEI0KWAgAAAAAAAMCocM48n7kFpjUJh4TI3yp/Z+K8OsmrExRUeLFmZ/3E0BIAAAAAAAAAGB1yajOiNsOUJOFSUOZ5sYwegQwlVXtJdZo6DlVzQcchQ4cMAAAAAAAAABgpWl51lQQ5BcZzprnoHcioz6nmvOo05OJJHbaYRnYCAAAAAAAAwAipdl3HbRKuTiOdhLnb9JwjgzkeOS5jmiml0kjJBBkKAAAAAAAAAKOilf3SmmkbjpDma4Ney6863AtIeExrCsqiNM65QJYCAAAAAAAAwKhopVWqk5ilCfkVCiq5C4/wnrtngRDiOol0mjAEMgAAAAAAAABgdIhrmbI0Nt/LhCm5uUAGSxOdxsQFS2IVNrBqCQAAAAAAAACMFA+qVB5jXOg0UmE7Nxbh5O+qtZapzsaiENmZQjkyFAAAAAAAAABGicgp8EKZVydEbaq7gslaPcITWjGmGRFTkglBhSKGlgAAAAAAAADACHHOtGIyZkzqNGFa53aq6B3I0Lo7FkUpZvbH0BIAAAAAAAAAGBmtuV9iwlOdplw4IRdP58Yiei2/ynllgpfGGZGOQxW3mUaOAgAAAAAAAMDokO2IIZlwyHEZF7lzZPQKZBDjgoh3jxKHTKXIUQAAAAAAAAAYFSKdRDrqMK3JC3ghyN0qP5Ch0ljOvyobc0wrloQqbKo0QZYCAAAAAAAAwAgpqdOYKcmk2twcGZwL7pe46zMumOPaaUIxtgQAAAAAAAAARmo5+CCycARt3KLH0BLHI9dnxBkxRpxcj4SD7AQAAAAAAACAUdGKESe7aioVAnL93K14r915aZyP7yLuMC7IL5HjIUsBAAAAAAAAYHR0GuskMt8ksZYxY8P3yNCaMW17ZBCTKYsj818AAAAAAAAAgBEhG6PQ2nzr+dzdzGSfjDG5eErOvazTmAcVCsq5URAAAAAAAAAAgJ2hJCPGsqktlNRK5m7Va/lVO8GGkkwpXpkStRkmBLIUAAAAAAAAAEZGE3fI9Rhx1VxQrYXcjXr2yGDESbhMOKqzpDoNZCcAAAAAAAAAjJCSKu7oJLYRDd4dabJBr0AGkeMx4TKtdRzqOER+AgAAAAAAAMDoaM1YEuu4s/xvlc2XsU7PHhnk+czxWDYiRaVMSuQpAAAAAAAAAIwIOS4v1bhfIrdAfoWcAmM5gQwnf2+tdJowmTIheKlKQZVxjjwFAAAAAAAAgFEhzos1XpnSaSIm9vJSjdFmll/VUVsnIXHHHCUo5+4MAAAAAAAAALBTqFDktWkmXB21mEzzOmT0XLWEyPGIu4wx1WmpToMphQwFAAAAAAAAgFHRWqvU/H8SqtaSSuPNzZGhtbL/Uaq1oBrzKk2QpQAAAAAAAAAwMlo1F9XiaaZSLROWxLmjQ5xeexPZlU6UZDLVacxkwliATAUAAAAAAACAkSBSzYV0/hUddRjTOu5sco6MNGacc7/MK5OiOk2uhywFAAAAAAAAgJEhKvjEHZ1G3WEmKmcF1d7Lr7q+mLqA16YYd3ghILeAHAUAAAAAAACAUVGS+xVeqtlBJkqniZbpxq169chQjGmWxjpqq/qptD6LyT4BAAAAAAAAYHRUmqj2opYpCZe7Be4FNPzQEjvH52J66qhcPK1lyqREIAMAAAAAAAAARoeIdGqHk3CHFYpUrJhvNsgPZJBwqFBkXJDn82KVESmVIk8BAAAAAAAAYESIC0akk0inUXd2DJ4TtegxtIQLKhTJLRAROR65HucCeQoAAAAAAAAAo0LEOGdKMSVZGrMkzt2q9/KrjkdOQbYWuZLcLzMHq5YAAAAAAAAAwMhoJUrjvDajtSIuVNxhMmHCXbdVjx4ZMlWdho5DxphqLqr2EmMaWQoAAAAAAAAAI6KSSMcdxhj3S7wyTo7HdE4sIr9HhpKpai6qsMmIM5nqFBNkAAAAAAAAAMAoEVedpmqc0WGLpHSmHZY3zUV+IINzQcJhRCRcMXkBr0wyrVneqicAAAAAAAAAANvHhcMclxGpuMW10mn+HBk9hpaYnT1yXF4ac6YuEOUaY4hiAAAAAAAAAMDIEOdBhZfHiDjjnBwvt0dFj0AGEQ/KVCgxLszOxNEdAwAAAAAAAABGSAheqvFilRExJZlWuVv1CGQoSV6B+0XdacqlWRV1kJ8AAAAAAAAAMELZfJ2tRS37zdTZI5DBiGlNfpkJIedflfVZJhNkKQAAAAAAAACMDOkkVO0mk5IxrXX+8qk9Ahmck3CZ1ixNdKep2g2tJHIUAAAAAAAAAEYlm9qCafPFHeIid/nVHoEMrVTYkkunVdgkv8SDkj0WAAAAAAAAAMDICJcc13zjFsjzWV4somd4QscdFncYEbkeOX7u2q0AAAAAAAAAADtDa16s8KDKhMOSWMfRplYt4d3IhdbZ0BQEMgAAAAAAAABghJSUS6dlY97GImKdxrlb8T77a7vYiZaJVinrMccGAAAAAAAAAMAOIK6jjg6b3YVX87pj9Atk8FKVijU7XYZkStnJNgAAAAAAAAAARkMrRsS4HSNCdqbPTUz2yRg5AfcCs4UXkFdkmOwTAAAAAAAAAEZGJbFq11macrfAx6ZFZYLl9cnoGZ5QcUuFTeQjAAAAAAAAAPxQ2P4XxLS0Q0OIGBt+sk/GuFMgt5CtxNodnQIAAAAAAAAAMBrcLZAXMM10Eqr6nGrX8zfL31trFXd0HC7/U2GyTwAAAAAAAAAYIeHyUo2CcneaT61z5+vs1SNDszQxX1zwYoW8AJN9AgAAAAAAAMAIEWmZZKuu6jRWnbqKo41b9eyRwYTDHNccxiuSX+q16gkAAAAAAAAAwE6wy5TYQSEUVHhQzd2oRyBDKdWu66hlvussqU4zd4INAAAAAAAAAIAdQjyo8eJy/ML1uFfYuFGPQAbnTKVaSV4oklNgWjMlkaMAAAAAAAAAMCpZdwxGjAvdaeh2I3erXoEMISb2OuN7zPcyYWnEFBYuAQAAAAAAAICR0UonIZMpI06FEgXlzSy/qjVxwRipqKOaiyruMM6RpQAAAAAAAAAwKloxpuwcnXZcSJrmdqroNUeGTOdPyIUTTEnyi7xQRn4CAAAAAAAAwAhpRl6ReQWmlJ33U21m+VUi8nxy/eV/IjsBAAAAAAAAYJQ4Z1wwZWfKEJwcl1FO1KJfIIO5HjmeOYpm5r8AAAAAAAAAACPCBQmXsqktiLpfG7fK31kr3WnqqG228Cs8KDOtkaUAAAAAAAAAMCpa6TTRSjIi1jsI0WsKTxvz0FrLRMvYzrcBAAAAAAAAADAyWqv6nKqfYVrrqKk7zdxOFT2XXyXXJ+ExxuTi6XTxFGIZAAAAAAAAADBCREyIbDiJVlormRuL6LlqiVZp9/sk0kmEoSUAAAAAAAAAMEpkZ7eokFvgXpG4yJ0jw8ndVaWJ7jS1SnihxGtTolRjnCNHAQAAAAAAAGBUZKLTiDFGpTEeVMgvbWbVEq11mug0pqDqTO/npfHcnQEAAAAAAAAAdoTWWoctFXeY1uQVeaHI2NBzZHAhyA/IcXUSquaSCpvIUAAAAAAAAAAYHRIuc1ymlG4tqtaiVjJ3s579LIg7xB2WRqp5RnUarMf+AAAAAAAAAAA7QEleKPFSTSup446WaXdN1bXyAxlaK7NPEmmtyfPJLSCQAQAAAAAAAAAjRHYRVcdlXLAkNl/DL79K3GFcZOEMc5RCEfkJAAAAAAAAACNE3M73GRNjKm6pqLWJOTIYUfeLMXIKvFBkXCBLAQAAAAAAAGBUtFJxhxyPgor5r1vYxPKrdo4NO0eGcKkQ2LVXCVkKAAAAAAAAAKOiWXdciZTkl3lQ3sQcGYwLUZ3i5QmzZ7HKtGZaIUsBAAAAAAAAYESUTBhxHXdUe5FppWWaO19nj0CGNsw3aaLadR3Hud05AAAAAAAAAAB2hkxVu67DNmNMdxqqubiZQIZM5cIp1ZhVYVMunlSdOnpkAAAAAAAAAMAIcUHLE3TatVdZ7nydvOf+RIw405JJqWWsskMAAAAAAAAAAIwAdzxemaJi1S484pLr2Sk7N2yWv7cQ5PkkHKY1BRVRmuDcQZ4CAAAAAAAAwKhwwYMS94qMMSrWeKm2mck+sxkxtGbEdRLqNMqNggAAAAAAAAAA7BCtWkuqs8TszJ9aScb0xo14n921VsQFS2IVNpnCHBkAAAAAAAAAMEIqbKp2nRGp1qKqn8mNRfRetSSJdZpoJRnn3PXRIwMAAAAAAAAARogLXhwT43u4X2J2HZLNLb/KtDL/tYEM5gW5M4UCAAAAAAAAAOwUEg4vj5FfJuEyt7CZOTKUZEoxsr9ViskEy68CAAAAAAAAwAhpRUKwNNFhm4Qg12eOu3GrnpN9kuuR45jjxJFOIuQnAAAAAAAAAIyQ1lop1amrTt0GJih3q0EzXwiXEdNhSyGWAQAAAAAAAACjpKO2jjrmG5noJNrUHBlMJ5FOYjtAxWVETEpkKAAAAAAAAACMiEoTFbd1mjAiLaXuMc1Fj0CGEMzxGOdMJowxKgSUNy4FAAAAAAAAAGBHcM51HOo4ZMRJOOQWGHdyNuu1PxEnO9mnlqn5J1YtAQAAAAAAAIDREQ4Jl8x/HfICKhTzFi3ps/wq08zOq0FBifwKll8FAAAAAAAAgJEiz7Nrj3i8PMY9P3cbp8euxBjZcAbTnZZaOq0cjxUCJhOWpswrcOEwLrrRjZWoh1LmG0ZMSUZ8OfahzQZamZ9zkQVHWBorJe1BnO7UHVyoJGRamxOV0uxl5xllSttpSxPbR8TuvvKhWpn/EmmZ6DQx3zsuN78lJhxmO5IwzrVMiduTsckxRyAyqTDnzO0/7X+Xz1wlsUkm59z1mVbmEzjv7qWk2cpxmJRa2eE6jJnN7CIxyiSEuOMyzpezhbrpVUpLO+EICbZyMlqpNCHakK4sQ1anS7hcDJcumWZ5siq3l9OVxiyJGRfcKzB7YVmWVyzLSWYOrpbTpVm3xGhzluYDHc9ur5c/LkujMmfIsiw6m64sZ4g7PdKV6jS26XJMGbBRt+4kLFm6iDOxPl1aacq+X52u1daUw+V/Mnt9OV9VYOzJZ+efJqYcZtmY7SUcnUZaKe4WursIx2xss6g72QyRuehkPyI7GZO67u62kJgry7Qym3HOlDJ5qLXJQ5Pe3DzUthicvaA6jbXW5rqv3ErdPDQl0uShTMyHcoc7ji0bYiUP7WbU/SylGbeZoCQzlzIrG6tuzywf7Gy+JtXEtbIrHi0XXXulbP5k6VKSe4HNUqWkSWw3Xd0MP1t7dJPAV5X5lXRl+SaW6x+TabpbNrrpEuZWyopxluruN6y716p02TKzfCOfrXYYkzZdplYpMBJaScpOppuZajldWsmYSWnKvD1PbW8ELlxzs+vlXOreztoWG5WfLrFyL9PqdNkb0GQd45yES90yqbpFaKh08e7durrYr5T5LDnmaMux6e6JZdWv/XlW3kwVoc5ukP1KpUpKcx2zWi6r27PTM1WiyUPzLOFOTh5mNxfTKk2ZTMgtkOOaPDT3rK3khbvmtFc/ArIPyj7LnpvJ2KyuW3lYDMhDe5P2ykOtlitM0b01ujXe2bLBHI8Lm66s2lmXLlMWEpYm5PnkeOaASpq8EoLZZJ69KN10JUqly+nia+70nOulzv6FYP31WpX85Udk937MqhSZmPKZ3exrrldqHmHZ01C4G9IllysTey+bdBXIKXTTlV0Rky62XDmsTpc0T6vs0Z9dr43pys5w5VPOpoudLe2r0qW1pu4lU1m22HQ53Qu6Kl2rnhoud9ali5mabTl/suvF3IKtw1VW/fZMl0yUHJQus/FyurqthXXpMvVwTrqyycVspaHSvHSZE5Dm9LKZyFaucpZX3dsqMWWY2461K8+C7EzYqqKSrZefFTnz/KXuTbqqzJs6yj5rTO3qFpYfE8tXSqbdJ6Mp4fZDHbf7HFydh2dzZnUepjYP3bw8VMuVZ5aHytybmnXryZU8zGrj7pL/WR6qsxO02b+pqTQmLih7yJqr73QPbk445dxZTvLaJqIpHXE3dULwlYZrNw9Z9zbs5uFyTZvGOfXGmrp3Q7qyp8Oqh/iGdClTjM0Tc9XEc5Sly9Rpa9KV1b22IWGe8q635npljdgsD1XaLSTCta07xZTue71SZUuIrZyXT9V8VmqLaF4e2pNkdqQ6444526y5otLlx/3aPMxuk155mCbmaEqaFmC3HC5X3cS7pde2Z2y6ku5m3drYtHvJ9YZIV/fetGVj+aKvTxe36YqznCT7ZcfUp2fb/FlKV2pyk65kuf3Mej6XtVo+gjpbGLo3/qqywXn3CPa2tY8/p9uWs49m85Aibh7NWVYLt1szZE365TzsNhWyXvfLcwKYjbM8MRWIWGnTmhqPc/M4ow15mBU5k0/O2aaUrVSJeK9XMPsoWZ2H9haQaVYL2VeV1U9DWzyyPNzYtpFp9261J2zreXY2Xal9mjtZukx7w2SO569KF1HWjOmZLrG60d4/XbbBH2eF06QruzfXvIKtS9faV8vcsrHxVWWlLlp5aC5XXKteme2rijn5ta/MJm8K3RZyVltmj/I0WZ2HdrLL5fvLvIx0X2NtHqbdNxr7Jth9jXW95TK/5jXWXBqmTU0rVt8U1DtdavmVjXUb0lkoYOUx2n0FE92m+OpQgH18m5eRQpm5fvZeYG4HKc++OAwKZPDuiQpHtebjI4/K+hkxsVtHHdVaItfjpTHul8x522rItISIdNw2FU3Uttnn25dAlxcC1WnKpdPkuLw6Q8KRrXkddXixwipTzK4Qa2qTqCMXT3G/qAolHbV0HFKhyIs1u+xKkyWRqbk8n/tV7heziUhl4ww5rjO+RyWRWjqt05iXatKcRmga08JlwlWtRR21eblGTkEloQ7bvFjhpXEdhzqNGCNtHyG8OKbCug7bzPV0u6GaS0wIUZ207QQlatOMC3NWSUSOK8Z2MSnTxVO6XWeOJ6pTTCayPmfXrC3woGKeuK1F5rjO2C4eVJSSqrkgF052ZxvhghxPhS3VaZh0BWWTUr/C/ZK5SGmsmotMCGdst0pjuXSaJSEvj0vi9tMd8xRxfdWp63aDihXuFXUaqk6LB2VentBJaNfKJZ2E5pYtjamwpcMmc1zdadojO7w8RsS11qI2bc6k08g2dmozjEg2zpiTZ2RSrbVcmjXv2I7Hg3KWn+YxUZsRpapp27SWTLq0pELRdv7xVNzW7bq5BH6ZCgH3y7w8ppPYlJzOkqkQxnZrmZrrFYdUqpFwzAmb1okgN1ChyXxzjfyyTiPVaVKhKMqTOo20vWmzjUVpXEcmA3mxxlzPBmhsg971uVtQbfNB5maQ0lwO2+Agv6yTSC6eYlqJygQvjsnWginMflGUJkzpsg0OHYcmz4UjyhMqbOqobVNR0VHblJ84VPUzpngXq2Qa00qUx8wlbtdV3GFEojpNrqeaS7Jxhmkpxnabx+viqWzSXCr45Ph2GSEtqtO8VCMi2W7IhRM6ickvkuMSCS0Tc9U6DfIC8ku8UOLVCZbEKg7NvmnCazNkr5TZJqiQ65vMse1IKhR13JZLcybnSzWdxqpdJ88X1WktU2YrCBU2TTEojZljtpfIK+gkMalmxIOyOZqSolTlpTHVaaqoZa5aeYIKgWrVVXNep4kYmyHHk0uzOo2yDyUvMNkuU16dFpVxc6XCVrpw0mRgUKYsJKGVtsWenAIFZe4FvDJhHkhJrMOGCtuiNkOOK5tnTBnwS+aOiDsm6xyPvEAnoVyaNXuVJ5hKZLtO5u6bNodNQlPHmZqH86Bq6vH2knnapYlcmjN1o2/OUMuUF6uiMmnuvqjFlOTlcfMp5paf10ls7ggvkPVZUzgd19ytbmDutTgS1SlenSQiHXXSxZO6Xbc5761KV9NUd6Uqd31eHs+eJTpsqk7DXGvPl615WZ/nns+LVRWHNjTgklvUaSSXZsn1RWXCNHM7DVP8qlOM7OBA8yg1F5cXSqbF0GnY4lcz7YbsDUq45oCdFlNpFmjjfjl7TpN9OJnLFLWpWBGmfohUc4G5Hg+q3Qrc3h2yMaejkNuqTMWhHYvom5sobJg7t73ElLY3QslUmEHZ1E5xqMO6ThJerPFS1RSVxrxOIlGZoEJJtRfMzdstG0Ud2etbnuC1aXNuSSQbc6p+hoomu7Q5B63aDd1pMsfjpaq5siVbipTUUUvW50Rl0iSzXTcFlQteHte2uWOqejfQMpZLc6ZyrkyYXUJTaHllkru+uW2TsBt0dgrMcU3519qUjcY8k5IKPg8q2Q3ojO8xt0ynrpOYBxVetrdA/YzJ1co498vmedSuE3coKJl0hU0VtkRpjNtnBItD2ZxX9TkKKtzzdRbhClu8WGXCY2mUPfV5sWYrtLh7vQpFRrYF4zjEHdmc16ZeKvHKpClFjazCqfFyzbzPxxGZh/KibC2J8rjJoSS0z5SCqZ87S7pjKnydJuZ6BRX7JA2cib2m1g3AUEbDAAAqVklEQVQbOg5tfWJvgaVZbR4uYzyomn+aul3woESFko7bqt0wN8vYLjK1YiQb86o+a2p1L+i2WcImL44xx9Nxh+zLj/k4KbPcNunyfMZt00oILlzZXlSNBcruX2ImXYzZdI1l79gmXe26bMyLUs00CZKOeTd2A/MRnSXVbnbT5RV4ZdJcL87F+B6mpakt49DWclOmAl84peIOL9fM6cUd2Vwwee4XqVDWSWjSFZRMuhxXJ7FqnDF3n1ckPyBzFbTqNM31MukKyTZSyTxEtI47Wsbmc12PTLq4/auAr9qLsn6GPN+kiwuTLpnyUs1UAqaox6bItRuqccbUhMLNalTuFU3jLGqolqk2zW3ierw4Ro6XtZ7NcdyCU5tWUds8hbW2GSV1HDHHNSWZC1uAU1GdsC2otim0xYp56CeRaYyZXDbvEuRXdNzWts5R7SVThBzX1r3SvGjYp4nNww65nqjNmObNwgkdNk0hLE+y1Fx90wwoFHmhbE6v02Ceb5o3hUCliVqaNWfoeNwPSHhZHpJfMmVSxqZsa2X+aU6ylQWkTIl1g6x5n9XAsj5LToGXx82TpTFnCmqpKipT5oUhsWUjaps7K6uToyZTytw4rs/itmwtmfrQKZh7uVizd31kmsjtRdOwGdutktA0VJTklXFpbyImTDPMtH9ai6Zqqk6Y76O2jiPuF83TP8maHGQaisRNQyIJVRyautfGbrKanwolc25h06bL/jGgULK/ktyvqKhlmr7CNenyAtk8o8MOL5a7Td8kMW+qplExS16BCmUVNky6vIB5QZYubU7JPIzM89q+XPHKJLkF88QJm+Q4ojpjTqc+a/KcC1OHKyUbc6ZZbq5X0VTjncZKs828O9TPyIUTJlF+KXt3Mg2bdp3JxCTHL5qnQ1DWaWJ/vmSaTGO7mVbpwgmWxLwyZp9NkWlyOK5tjjZUu24epoWiycOoTV5gbsYsRqC1eY5zzv0qk7EKW+ZBZmt7cmw7xL4scdvGMI+b0DzjnKp5UpjGQLtBJtVTZq/6rLY3i02XfRoyLWozvGQuimwu2uao4sFyumwLhyWxub9Mi6LCS1WWpiqx6UoTU4EQkwsnbXO0SsLN/lJlyqcXqKilGgumhrR3kApb5BZMuqS0MRrdbXIUyqaijlrmrByPdScmNM8mU7Y7TSYTrdLsmZJFakwdmzXvzX1d437VNH1bS1QIRGWKCn72xq5T2zDj3LyzRA0tpXm7c31TtjsNU+o6ti1XrJJ51dfmG1Pnd+wVJ3Mox1XNedmqm1ZcZdJUFE3zODP1sF8yj4ywYZqU1Snz6NRatxsya5wXK2RDZubB0VjInlPmjaNQMtWjeaU0eaijjhjbbZpt9VnTHLUPiOxGyO5xnXRk/QwvVu1TL9SdljnhymT2EstUasuGMPUhs01TIh22TStluZlta+CyKI6ZTzQPKZsu19y5/z97X7IjyZFkqYvtZr7Fkplcqgt9qeMcG/N59YlzG2AwGAy6FpKZkREevpnbpjp4T9TM3SMzyWajD0PAFIUCSIa7m6rK8kTkidhw2IZ9GeuOz/58Eq+nTAQT0TZmcW9XD9hXfcATno/cVwwg55zbP7vz0WQl/HWaQ7W9d30r7gZwNEkZEL1i13kZKjpAR7nvz4DZ+cKUa3jz84Gw5J4Jyi6USTTL4dq48x7WJqsusE0bU22gC31HF3bCqZoIn2UATzR11lmJ8Afw5hPEqbozWcEkF76h3/6Mu1vcM/R2sL2RmN89wlhqPSB9lHjvTZYjCui74fAMIyPQVyC997ZaK5u401biDpxhlCDIAmzbmPU7evzTsHsC9C0WwPB0ju58wB/bGE9OwIN9tbXqWoK3U/ivblBRBFt0ePFNjWsCjHfD6y+ILhd3kEbZl41gZ3B3jGeHHjC43gcbxWzUVzIWAra+XN0//1f7t/8Jhdk/w0iluS6Bzn1Dk1Qs5W0oOk7J/ci9o24zYFZeackfJxmQev3qEBwm0ft/1Wk+PP3dDx2iuDhT0vqSL9zrU//57zSsRg09rYnVeQXsInUzbWA0sxKfcr1OCnfEiRhEMgM0rW9hfFm+g6vQxrvBvT6pvtPFEgEzkPdBE54iqOOJeOaMAZGPr4C/aa66BgbLRjotifI9fIOx/rSX/dr1e4jm60c4EhvrcgWp3T4po4Fd4GNO/vii0iJ6/DO0aOiH538On/8Bc82qJr4NmLKGVqQlsLgEWn1naD39+QScEaS5wWlLaiqvRHoALJqaViP1XePrnUoru9iMFlYFc1ws8diAHbnqZV8w0FKYMnDeqTvtCCJjIJg4docXiIv34QFePgLrlCuVZKplFGTj6PFf7N0H5Vwv+xoGlaQ4MRMBDzFExL6SDLAD3qthHrF39dEUCzgk2VdeCc1BjAuM43Ere2G6qvWnV5UUdnnnnVMUA+ZcIl0s/PkIuA8pSnzX8ViAlpSJ/XmPILZtXHcO6mEMwFxXu+1HIIzVO/vwJ7d7QmBcLjVsqAE+LlcOvvAnrY3OCt/UOEYb6SSD8HQNJBMmKVYmkbISxDivYDWA5gEjTF650w4C6Xq7hL0enn+CjcsqlgSd278orez9j9H9DyqKh+ef+k//Dl+bZGR/aN93qhHIDqnAgxWwlZLf9adXnRZTkg5/YCOaPIkx4Irc/kklhSmXvuv8casATx89gzc8gIh3XvJCt5B57/xpx3SSlNS8KRa6WPma+1IahqZYwdfuX/zQ2cWdssmw/TlAH/atud1nNQz2/jv78CeA0e3H4elv/nxSaS4eUTnHUKTlvjKIfbFiTl0D3yPATqEFp1fEinGmk9Q1J7iZtMK+6r3bfVJxBkDf93BpNjKrB60NwtRhcM0JvjPNw39l/QHipFnsspGiBiEGpop55U21seXGnQ+SoDGLjY4y9/oR5wlIV2qth90T0Nvdh+jhX3ScusNz/+lvkMy00GHsEJ7NS9GeuFbD0zMLHuHvVRQDuNQ75jcTQXsmzvBnSvsawTm91Aa7OL7CkiwBQXzfq75lIsOIpcU3mIhorPOszEA88iUhHbADTFychkRGBgs2vHz07Unni+jxz/Acn/8Oa5MtpLqro0hFids9ucMzngfuxwUOmlJ0tC0t8KCjREWp6nud5Wb13nc1bIsbEO4uHxAJH14QkuWVTjIIJ2BfRtsbI85pj2b9Ppzh+TA8/9O9PumsQITvcVb++EoDm+u8ZKagCi7Kpu7wWUURA4MTZFtpUyxl/hNRdQSZ2X1iImkNCa8PDFrudFbC1LdnH2qDkY4inBULBbAhrg/QsGtVktn1B4CSGqYeGGX56JtT2BdMdIZwut4put6wr/MBKPDxX3Ct5+Pw8pPbfoRGCF9Da38Ux4+wOUBkQJ8zoKq1wF5Suh/NF8D66VXFub3/UccJzJGNcF8UAFjjfDHsnt32ZxzRVNdi1QhbaxvlOte13FcqAZ69+4CwpIb2maw063e+OeNUhwEmOslYotjiAKECCexzvTPVHfaV49ixr+dflNA3FFAU9lUyn9ueFatVFPtecs0wTaFAhACY0elnf3hRUWLvvtdZ4bYfvXMBBrBWCct52ALZxKnQVbwnTw2YdafaM/fVGLjLBS9U2807D6tyhFWJM9YYOoAt/qPJS981sLfGmGqN6zu8wn7my+jxT7ADXdM//8N9/gmWR5KS2jBHWcGtYF8MD8oVHgbyxjKJ7Ms5leaImQ8vOEkT2c0HU26G3UcEq4sNZGAYVBQzUN8RAkVCLYEhimKVpNAgJuiBduKUmY4IlsRG5EV6RPuux3UMvSkWRHU1rHFSuhaBPfSxXGlr4a2aE/Nfd5Ja9U7qaTh/mLv2BJgLp3aGU8sq4TqZFUJEX/MMowQhKyNGMaemXPmhg21nMA+3KGFGmkf3P9r1I+KRT38bnv4OGSChT1sLA85LF2jhvaPfN745yQmESqbj+aQLB4j4hJ9YP9rV47D77Paf7fKBFqmj/WSIi/gcSBd34WiR0hxS3ZyEF6DjRLJFQd9JWsEZeoeAsO+4ncE3R1OuTL70QwcVbk4EEikR80EhmLyXG/cjHwqWBCd8ZOCNCFMbi30harLAPBPnVNidxuh8iUhgywrB6t5uvnPHl2H7ySzvgeig/pHkreAjemwT6Nr1UDGo5AnR0TC4rmZ/eBEYTtUaj1ofXXvSJjarR1hU2NsDhKTC4zmm7+lhmdZ//aSMtfc/2M0HHafDy8/9x/8LIZQyrLEIGOqDlOKAKGDDC1h+YQHAyzAhwhS/gH8EMFmlJfZDELvTxQrXJGcYJXb1EIDo0AfeblYyu7SDbexaCKQxAC0s7cIUpDmkSwRv+aATVhHEapUrbezw+gQ7KftSyr38Qij1g737DhZm9zR8/HdG6dwXa0KeZS14ImBR7st1cKxk1ALkKwX9ao6Ao8Yisk1y7Ata8OSOLwin05Iw+6AsH8wY5mhC6gqa7hxlvtQxvLaWcn2SmSwkpwTXwciQzQ0pcj2Q4dDpcmM3HyR3ySzSShwHXLM2CDubWuRBomjmSlrE/H3vW8KYpFT45l5nlSE2dtQIu7jXTL57BsyiGsP+M0BXlBjWEYftJ+jF5l1094M47v7pH7hNgEmNx3Y9MCTrIkBE8IOF8gPuFPtShGfan7asiuWQRhp/U91pa4fdZ3/4rNICmjIMrt5B4lb32kLyVde6rtGaZ8g0q7BIEB95b+JCJSnzvDlh24k4R5vFxuQrf94zSUTXHCWIkNtGxQnTHxAG1ZzN+sHe/wjXXO+Hz/9w+xfgw5EoAdQ39CbOsa8kE7zkhaQAcV2wI2EHkBwDtiFkU9os7wWTAHIkOdQB+9pDhpf3cByEHK5rtdYURQWZtzHiUyFLkn9tFneuPSkyPmAnJVQBgiqV0sP2o+pqhD/rD0DCr5+o+3dwIrQVOgohAOxhU+vAYzUsdx0U87BeWMZJBjcRp2b16PsWjp6e1yzuhJoAIWSwFqJg1q2hfcetP+3N4s7e/4Awpz3jDF+fGO7FQTzq/eS2Qp2muldDI3lzT6lTrhekgcB59xnWMkpgi7IS+wJUu4cAty0CZBsxQXaSSp4k/tz+MyBZViZ/+e/pv/63LxkZ30xkwPUySd/+n//R//S/LzQN8cFS879mW5FJZUQcmzoQq4RwLtxgXOQCh34+BEZ9eyYtKkOY3TXQTKFKChlEuiTEHI9likDns5EpaK9PrwDBfuTqh44aIDOoOjMF4uFMWuisCryA6Y+F43Tpf7k6CpaYmHQwPvCZ7Q0LMfBkvEkLs3wAwn79JFIrblXbWEdwqzhhCgfE/bwPLQlC/Y1TuNW+GUk1BlYsiv3pNYjF1Ztm8G1pCVjTnALX3eNwWHjvKJ3TK3KDQF8xVG/2BdhkbdDYiWZJ5qofW4HwzYsHeqmPQpXHvuinTZLpfClKTt44vFpoLJKGESa2pE4ehDtbqCT35x1sze2+CGGZ4m0OIz1J6SgOPvK0nSThQrWafuvNGu8IaqmN61rSqHwgWAoljMAagVDX0DAxmeUcAT2OFwBi6ANFSthTY1NMeLyRvQ8g5Rw+Pp0hqSVC5An9EdWdSXPoIf8svAYZcWlCt5r54w6BgU3gk2DUwr5MViptYenkseXfZJVqTo4F55sz1BqSoxl5SsZX1CRbMLe488350kgSqJJvFYeKzH0zrSuhwqjaRgsK94E3bkpSUfYvrjky5O6E5kciA3UN+KMBVOobJ5Ijh59k2qYTxSYobLGE6Zdo/PbtSpANY3E4CAAGIaqZpNRZLlWpSWZC94Qbt6/1DeXPexgubeS6J9okLTJHGks0lbEOf9q545YB1cCcIPdFh+fb2rcn+PKhkwKCHCPUk/w3EaqgsNWa0O010Fxv9lUpE/uuHgGBZjtbiiuWOtIk4aLLzn9D5k1g9grHUilHxDO2NrixOSgy5QbW7LgVMiTMbxSbKGGFp4dpCkx1xtWuv5xe6EQT02EQJ4xs1XD4MB3Khx4QwxT7AwD07lMI3shXkiNCWDX0gEosyZIf4aZ+CnoQF7YgxgGRgyYrZHhzAqxjp8HUC02XFEpdrN+ajuumEvU1k6g0xONanaWtTOmJaKq1MYt7Vp+egjhTsLmvXKUZE2d7yZr55iix6Nsr02PPC7xSjvuCy3diprTS4VOi0UmqECM5hOsihzG9gNyXd1+6y7dmSog5nh+fRAVXPGqN/BbMVAEzxRp+MPW05Aq21HrxzlHqSUz7pvkVlMaAFnhU1OrNvrJKpYVqztJuCffnlU5S6tQQNN2TkK/0jTpf7wthGHmgUucwgW8vZMPweCS/wEwdtr4/ExjVQcwA7wpIMsK/lj/dUurUV97uFk6S7FzS/gMUuXUrBih/wfOplWRX3UBkn1GuzuFTb1yYjbEzIjN5W34Q7Hyhmnq0b7fukgjbtcfL4QhvHKajYR3CvXWXgscmUzm1VHCO2o06yxmKOwtNKJmpNq5rEBOK/ZRWFwAS8q3qg2sOBvGMghP/EnVct8zATKX47yL2UwMOT4N4ZuPd4I4v0CPKLZP1sZS4RvAzsp2nfiVjDAuPfvQ1eLxyHXgZQfcvwA9CKAG8dDLyCTWzD7Q220ARf3OGX66bfYn5rccmgtEZifllFdrtn8nx9iQOZ4xLYyLDw9iYacYuZn+5sqlJQTLaQZ3tmOqljRWLTdW21T3iyf2Tl1ZfKCyBdFroKIWTOtNMRSncWddc9CUtye45Tu0ewgSh+X0LugBIxCAI0gud2gR7cQrUIer2JWybfMromgUYCDdk/J7whgE/Nlnga0qWkWGmIDCiL0y+FGwC5e0D/hVAHfLrYrrJ0faSlBekXayUifCQkgu+cSvU2cmtSO+MNoZ0FaKO/WVf1+HDBDm+MPWkcdnQNEG0AEssneMC++NEnQ9eWphpqxFBJAW5HocgD8E1D98yibC0JvLSciIwT+u3t5ZWplxB3rrGezea+tgkhUqYzG2Ormtxuc7DyHg3NQgEYC8fESVKcvw9LuL2DOVSSFS5NkeMiRbATsfXEVeby0bemKlpX5z46KWXJOxLXf5MviVOdHkHn9Ic4S7l9sWFSYt3c3JtbZJSGTg46MvYBhXiVjG2N+Z3P85Y8BerkvCP21OwkGM8JTERArGhu4kuv9zXxXSMsCdOcRdt86W71HFmilXgwbEz0Q8dTSK7q1wXwNLUSzVZjDeywa+6mA6ZgCkRH9tJtLFeebt4UDb2xxdcdOjI0+SGk+fbnF17MnESTEcgmPivuUs/ld8CYDCRJlPp1tT3QNpi6vsWP2Skl38Iscz1/Apj07/8W/aXfyPx5GbZv/71r1+narBLwmYFSzdbfqM2cabZniQ3asqVKVZsMRLz6klCe88Kz9Hkq8CeADwtydqq/fnI1ndGDjT0Oo5NucbO2hO+M+VOxOSxY9Pklc5KqfDj78MYgkGrqYWyx9+Ua220BFqwgFmplcWVm8gkpVm/s2S0AlK4Xmh1Oikhl/SRfEKr40Jy2NpGJkrs5jtT3am29hzeoaMUwSekYTD8IOyRjc3iDkbqtMNRxJkp11Ikh7WVFqx8YRYbTZ4IKUCxNsau3pnlAwOJVIdeR4f4gY+n2WtKsiXppn4Y058lkQfgpslKu35nyjteysB98V7yBXtYIvwvKTTfpGvKTaghxJlZ3JFG3nvXG/g2zoPNFzhStq6wHZdNKEmqmKTgqJUNM0p94LN4p7PKkPKtbaKpq7jrfGU2H+DUAZLiqUVNs+6qpV1Kw5EwCyue3oX0k8ySSAtT3dnVA4D+pUU8Mjj8FLcQxfj/FFbVVHc6r3ReYdeIRlJlAIy0TUPufBjwQXaCUMAqzTyib2sjRU4x+n2H0y7XPMlO2zhMuMC+lLQfm8UDS0Mn5sUWUgeA3MJNRpCQcqUVPmISnqqxOitNyVT0+WikspqVEFRyX1XfqCQzK7aZMK8fQuIosQ8/wnYYQ7vpcHeAXD2eJU6C2BcrXaykiZGiHuMoNHy/jhOTlhDgYoXDZ3cpxX6Bo47iMAoYwEWZfMnWmxpaHxf24Qeg/3qP24wZfOYL6l1vwmcjnVDONSJM/FlW6HypBRr2reob9n08hH0JCxde1tr7H3S1JnWikAoDfI9k5SX+EU4s1DnyfpDmL10spekGt5AU5v47aT1QjhVOplBHdU7wQwn7dIT04R1C0Di16w9mMapzyj+A1BWKZXkdEVaSGaG14b4MmfAUe1jtsxJ7Ut1BNciL0V4QMMk4qwecapxJjyhJao0WIgA5KcKk1WymwClpj0ODZHIMTZqb9XtT3TMX5n3oe4wgsUJgsUymcD4LbE5SsFhUQOwhPPRwVElNl4YPmthLUlJCtXqnnIMfGmGHEGSM1NKd11GM/yoQnOZXE4LrOGWzQK7LtV2/E8a1jBQxrI9pNr3DiuI0YlOtYDoauDpjYy3K7nrAi6HT3sEkrh6hHVJppCSYtDT33+kklwY6hMTa+O6slYdxjkKFH7tGLMchLEPPShGVGmKf6mKNi87y0E+rJD9F0wHLluCryLbDXWSl0Jrg7O6/N3HGxFxigvAsNQWS3oFHkVU6X7B75aDZx0SzqQDXugbqmRa4xKLScS4YSPQFukBBMsVas2qt49z7nh7zO5MW8Jji46RckxSI0tllqSxCLC/ohLAeXxUDSdBMsQyuzQQKsa98IY2QJint/XcmrxwemK3mNjaB2DiYOBetpJlawkgct9zXgtpt3PnoO1aJY5gpXSx56ZFSsKWabsWuHiVNxq8yolDe9XbxSOJMHZKbTKMAVkaxamucM8A64ZfmJKy+gUEjh1/LrPKQFw4tx3jscs3pO8okGRzo4k71DdU5lyOFARRTg7vGwxhpwDm+wjslJRxxLOXuo6Kdt4t7+ZfYEYMrXvQCcm4jU6xwL0qLe/J9Z/IlnA7xPVSMk1NEulR3lsal0GMsvJK21nkJe+V6zs6wAA8RFFPCDC35brJ5AU+1Cp9iv7eOrMTtouww9V1N/nwlJlR+3S4f5SKmaSPwmGkJRynQBV6+8H4IHP72pNPSlCu7fgfTyr4SgT24BT4E1dmoKMWxW9wahYq13KzSbhCuL1wSvue9TjMY3tHamzg1y0cp7tE7MwyQ+SbWmtU7TfYyzpBIAJceZYAljNwk7yxt1dJ5ZBb3ir2oMKTwzlZP07KgFHeBw5hXUi3wgC69ofEUz4KHAWRVrq1ZjE35j6HdXcMI/AjUgX+MoJ4IcmByKR6pSDJ9UK7JIADK5cAIacmkOr8zWeWbA5SL7lWPrda+PQkgHJvGiUXdIPE5W5kY6cmkhjF/gZ8olvggLaTdvDf5wp+PWvJxhmEGDJqoc0IMttAF+7zqV02nz76nyNU7RqFOx/Q1xYI8u0SHPI61mw8a+qIFpZCCVEMxZfKRES8WU9kT1549VZWWLWX7njNpYR9+lAZPrcPAFPwNPdcoiiRAWUtjCEcJKLt6B1Xtew4XS5n4TuEfJTed5OTJIghHeFzvtIfH1GIJm6Nnm4m2qV09Qp1tAmugQkIE+hW8cyrdT6rvfHemnU9CgmBSsaGTFAkUgVX6oGKb9wjzJBsuKibZDewrn1QseBaA8DKA0iQDUoLHLGBF4dRqin0OaC1M2L5zXQ1QJxPHSLPH8UYpuS0Gzh2mA78SZi4w3UNQWvrmyC7sjVm/J/28FoBnoggSzvQrMI/WCuCKUK09U+szyfaqsVavtYY6bz6w9TVDOAarBTxs7r6nAU9wLITl/rz3zo0qRjUUFfODa4642TSnitmgYsUquv8egSiMQCyUH4K3ScV4hoZxX1oFg5Mv7OaDSXN4DRuJdTXCQXYDwDaJKpDnJPNs6aWrXRq2EbjjsyQXoD4AGAVjtzSUPYyx9z/qYsFXWyzCLAdhayZZEHvvCQXXWmnXHLzroBHVZmQieJNV0eOfdQrzFeI10RRhH7N6JwYkdPenBcADsWIwHcOAuKxcKaGa5mx08t5IqrdvZUSUuF0/dByh2OhiDdUW+h79u0Q6QZ7TQkPFEBebtGK0uJJeBMNcAOxAISpm5a7h+nMcu9Tj8Q0MMP1p5897SQIYfM9ayk6Id7SAt8qsH6WDBlGGJATJyYL9WT5oAlQGIJn3Q5ir2MtQvAF3isOUftuzTksZbuBdzxvPpMnIPvwYPf7pMoDpNxkZF2rG/rl/+ptrahn+BMPH0qtiKIIdnk+e/HDJgbEdtx1efkEExa5X9ptlvmtcfQhELNiRVkJ3nVV29eDOB7f9qBiBAHrK9uikmTo10oTijrvQEg87lcJ/NTXbKVeB+9edQ+N0sWAj2UEuA6afXWpq6CXTw5REIiN2SPriXBkTqShy20/AjmnBZl07SGMeh99ozpWBg7TjFKUwesSzk6oQVqo7HdzhhSAgYcYkJYJhSvh8FIhjqpXUN7S1rj4hDmlPgKRJzkJTCyvDcFGx69vL7JZiAbhZHwiaS1uuPNEVjfteMg5aOnT6TvI4iuk9nM9pR1BVQdTizB23Digz4RSMVOEqj5dSdkiGaaFdMDmS+bZxu89ekGLoK5a8o3enUIphcJI5GczGhthQEJDm6qEPPf/VXWB3sxojvD6ShNm/J6x7tgywttmHai2z45LVY2/qiUZZBhlqMjyhOZLbs4s7yNVpx+Y3x57SBKJ4PgXByEpJNkmmMzRQ7F/caYsYVe66a0lecGzGYQPqy88k2ZZsra+H3UsIU2PmVhpxD2kIRMlg8gBnNRO9JVn0O1cf4Ceo9iKH2E594OFY0gLvJE5TxnhcN2tTcSpdcOQFNHZxpxK2MjEHH9hxbcOmpwh+NCsgHm3LBzjxnBeBJyW9ynGGA+fBDs8/SeckrL8fepnqItAqzYiKDkqGichYWSHjHLdB7KMIYn98xWmIwCQpYkuSzz1H5yg32NWjaKJm63ioohgj+Q6hyUBliqXqSOVg7hLqLPw9xTxXQbFH6Mg+AuWF0yhpKXKzGcBrrZLU7Z6hLMRA0g4AdRA7DiDI453GLLlBJkshoksy7iLzTS1FeC3qnObSf+G983Vgxxh22Lr2DNVrGy9dePpK7NtaRTHHZwjxe5AsLb2mDDUobLVmIpxjjc4HeRiIPalwYYautnRgi8AxgTk6kRPLWULl2hbL4bglB5iHhsgcwQyk63yQpO2V2DuzvDdZNeyehKYoKelQ6BaeHUeZsCOUGUP2UMCwU5BYe8ERCTXdT7VEY3zD1A80pfTOucNrCGvjTLrkglU879lxbTgmYCnTbRjGn8JtsgkxkL371lYbFSfB7wjHR5q/mpOQ4CTfSt/fCfFHCrAyp006BKGPPMPh8094wmKBqLtvhu0nmWNH3cxh8c5Hk2QyMSvUkL33px38dL5gCnvP07BKksgJR6/ZGNFyU8uTA7uYyLVnCd54lQb2Smt6zA7aly90nEIplDcJNbcGTISUcrBICCTiDEo0NMPLL0pbqWTKQdHgkLccp+7lZzisrJJRGsP2l3ECpQXeUorTWJKxhhNoGu5AsS+WOk58fRz2z6zkyL5yAdO+7ylyzDlCHkqRMd83vm1wIMyX2c07ZeJh+7M0CgUJSTL+AW5cDCDxWajZ2tWjthEsjxA/WbMKouiY7C4qGE+aCKhzlAzsUgzZBKZZ6d99SP0EdcZ9CbkXfrCjFwNOSBhslGEcmtacNTOIt4Iokm42qpikdRpbrk2xHA7sG5eslggePMsB34Dgs4Rfu1GxBYBEc1QmungWFaqdnKIi9FXYeSFLinUKFXWGu9KL5Md0vzQjAPbFKVusLWtoHFPCPqbQq6tHMBClvj1JbhfyBpO4xPW1J7cXL6avvNhJ5gqNEbVRQ8tZJIUuKpzV8dXVR3m3v5bQCCA+9WTyBpYEWwA4ijWi0WNmh8dlV4+uO7vXT5LMdaedQDXfd0Lw1OQrXcQ+K+3i3jVHNkpEQexlODRhmKnWUm+QYSsBD5iIlGbtW3qWfKHzUnx0CGPySvU9Zw8ZDmaqAvk3FJNDY1SYOA4TF8OpIbROWRoJlUlm/YBv7eYDG/p+lpcFCnIj90pzHlmrk5TN8CPh0UTR+tF7H8aosewko7KD2BN6ud1nqFtWwekrNWw/EoYl4vtw9fBiVxVgG2mlBrjjWOJz39KLORfUOcNRS53JU2XYULzR2sroB9U1rGyflXKhsQUY9UyeKUCpO5+Ya9YyREaGQUg4HcA2++ppNCJ5SOnKCRlqbIedSqcdTp7ZB3d4ASgVz0LDLuOf5NilCugFgVMkEHTJEIf2TJYrLDlz+gMt2CE09HEmV6hdS1EaBrPnXdjAGRQVg9uqx9JCwT6mmmNK0oDYiTq8jFCZ5oxMnkVm6+TVSPUnlw2fajl0piIoPbrji8mXik1YwgjwHHsh8iZGj4QUzxFUa1fvOSyJwiwxi/jZoQcotdHw9Hed5pxduPDdadg9hzZGeLHCd62rDybNw43jzoCiob8IMZZUGc7rYU1aTKukwrHT80l4f7a68/2Z8g+vJ/Ms3oK3oGK19OLB+GcFwi7Kp0GUW4QZrhN4S8tQpbhWMVq/0JlVLE21CY1gTBAoKd4oz0krDN3feDFOcpRpMmHEj6RocQitVJQZ72jlnV0+hEZa9uiRRFArr8R0MLF1VvjCleo6R6/N+nTFLewYxpaWc7vEnQl4EwoquRLhrQihZpMVkpKA7aJCQciHjp0pqds9ea84pKaVTBOHKh6IJ7XkbmBRqSNm+WCSHNZAGgYnBoQkuKNEFwsZc4aTX9xxCBeVJfpSxZKRCxkhjGJGXhTKu4HtV5OKse7Vw4HCCEjvM9EyJ3axQZ6g2re1a06mWNlyxYk/xzBEst6FiX7dGTIwij2tPfHS4o5USg46MCPIGTq7+T56+P4/k8i4Jk96P7DGLsSe21GlE7dKxlY7d0NuIdHUSVbMWPnRcYzq9Xh5dqNMrKFAiRwf+nr0+jTiFSpNmsZEN5qmpk9z4IUbNrKDxn4Hc8NOvBCBnAMa0zLubmQjq8uWr5lC6kLQDfP8wwz28Y0D8mBCMPlyiH2YLRyFHwjjmqPLsPqQvB/pYWHydnQ7TnZ8vompdZ2MCNPLZWg5i1dSnQjkHzXtbZr8d5nF7X3YlzaBRstrCuPEpzn52Je6OmcVyG96HMgsYGhsBUdkIruYRvkKjXMauns5Ih/eQTD1gct+x06cy9NOf+wnUTShC9f76QUEk8txTL2JKOppXvHE6nwzQ1hdvWLAj/Pnw4H4y+9P/FU/Drqf/sC58dB4FwNfEmGskuS6dExcT/yWHxW9m/jtHPYxif24nVEZhSn3a2LvL+OUb8Rersw7+M5ABvsvFXsbXotjvir2Kkxfl38EWPm9Yj+xt1TgAV6LPVPC/1Gxv1Acvyr2/vJqA+9vplVfi3148lHspyueXiVzI/Yq/JsbyzCJ/fhIF3W+tEK8uYiL4vyG2BsjGYRfEfsbCxy+52tiry8KMpHJrymUIvZTZVXEnnmuoFNvxd6P8jCKfTDmo9hzMoi2V2I/9gRdif3VGU5ky0nsg7RcDeImZLwR+xvv5i5EzTdiP811J7VttGm3Yn9t7a+mlo+T593lxTfXRkCcHVNXvCkrL/TQ06sxhJU6cPy4tRcDOH2PsY6BBIeN6VtLdS32enyLSvg41dmENP2UO/tS7KHO+u0w9iC34zT+a5L85eP28p4LVtS5wfG9YBd/4S7GzY8T/sdXMkGK4uTmvUtv0Mg1vXbCuDLGX1Rp6MN708SqXFN/J1F5sy9/C3K+qWKsMf6mit14Fj/OttdjQ81wkQ2ZiqdGYvl/UuyHG+P/pdjfeNJvib0LWGsU+/A+CDsy3sOEiOFKnfXvEPvxYL8h9np8J0s/osEvxF5+8Kue5XcAqtEOTG50eovf9L6nm619KfYqvJFkfCvWGMO34i6D2Iu0T0Lya2Jvw0ug/iNiP4G3kTSuwrDt6/diRNNrO96+x+dick0QxempwgtxRuMs1l6gyPRytzcW7yJI+ga8TXCdryb5L/Us6muA6gvP8gZQXXsW+a2vACrz9r0kb+MId2U99LfF3l35vlEmwxtqvJ6aXicg8Ztib6zj7NXx5ZTfBm/X/S9fA28ylv7qlWqTtb8Cb34ELV+PWXRoXZTfHa5etnKjYupGGN6CHDuCt9bLe/GmFoM34E1dAX6twusFfzNmCVQvdYUEhpuXyNzGLDdQXP96zPKrYv8bMctXPYsJcyIovb8zZgk23PWtkekqX1Gxb1j7ELNEI9gYgrWfAG1wx9cxyxdvZgmCZ96mBSZdkLfPfCn2l7TAcCP2b13z70pkzGte85rXvOY1r3nNa17zmte85jWvef1/sMx8BPOa17zmNa95zWte85rXvOY1r3nN64+y5kTGvOY1r3nNa17zmte85jWvec1rXvP6w6w5kTGvec1rXvOa17zmNa95zWte85rXvP4wa05kzGte85rXvOY1r3nNa17zmte85jWvP8yaExnzmte85jWvec1rXvOa17zmNa95zesPs+ZExrzmNa95zWte85rXvOY1r3nNa17z+sOs/xcAAP//xjRVkJBYHfMAAAAASUVORK5CYII=)"
      ]
    },
    {
      "cell_type": "markdown",
      "metadata": {
        "id": "7Js6D4OUjFRz"
      },
      "source": [
        "## The Keras Sequential model\n",
        "\n",
        "`To build a Keras Sequential model, you add layers to it in the same order that you want the computations to be undertaken by the network.`\n",
        "\n",
        "`After you have built your model, you compile it; this optimizes the computations that are to be undertaken, and is where you allocate the optimizer and the loss function you want your model to use.`\n",
        "\n",
        "`The next stage is to fit the model to the data. This is commonly known as training the model, and is where all the computations take place. It is possible to present the data to the model either in batches, or all at once.`\n",
        "\n",
        "`Next, you evaluate your model to establish its accuracy, loss, and other metrics. Finally, having trained your model, you can use it to make predictions on new data. So, the workflow is: build, compile, fit, evaluate, make predictions.`\n",
        "\n",
        "`There are two ways to create a Sequential model. Let's take a look at each of them.`"
      ]
    },
    {
      "cell_type": "markdown",
      "metadata": {
        "id": "J7Z3a6lXjPDW"
      },
      "source": [
        "### Using Sequential model\n",
        "\n",
        "`Firstly, you can pass a list of layer instances to the constructor, as in the following example.For now, we will just explain enough to allow you to understand what is happening here.`\n",
        "\n",
        "`Acquire the data. MNIST is a dataset of hand-drawn numerals, each on a 28 x 28 pixel grid. Every individual data point is an unsigned 8-bit integer (uint8), as are the labels:`"
      ]
    },
    {
      "cell_type": "markdown",
      "metadata": {
        "id": "4efyswhGjauH"
      },
      "source": [
        "**Importing Keras**"
      ]
    },
    {
      "cell_type": "code",
      "metadata": {
        "id": "lUU0w2frjemg",
        "outputId": "d85ede89-8d6c-44a0-994c-3f5246b5d4b4",
        "colab": {
          "base_uri": "https://localhost:8080/",
          "height": 35
        }
      },
      "source": [
        "import keras\n",
        "\n",
        "keras.__version__                   # By default colab has 2.4.3 keras version"
      ],
      "execution_count": 241,
      "outputs": [
        {
          "output_type": "execute_result",
          "data": {
            "application/vnd.google.colaboratory.intrinsic+json": {
              "type": "string"
            },
            "text/plain": [
              "'2.4.3'"
            ]
          },
          "metadata": {
            "tags": []
          },
          "execution_count": 241
        }
      ]
    },
    {
      "cell_type": "markdown",
      "metadata": {
        "id": "6UPxn2BLjVvr"
      },
      "source": [
        "**Loading the Dataset**"
      ]
    },
    {
      "cell_type": "code",
      "metadata": {
        "id": "jFUrcqo5i3TN"
      },
      "source": [
        "mnist_data = keras.datasets.mnist         # (Modified National Institute of Standards and Technology database) MNIST\n",
        "\n",
        "                                          # It is a handprinted character image dataset.."
      ],
      "execution_count": 242,
      "outputs": []
    },
    {
      "cell_type": "code",
      "metadata": {
        "id": "07VVySKvjDmX",
        "outputId": "af9cda81-7ede-43ca-943f-20d4d5f25390",
        "colab": {
          "base_uri": "https://localhost:8080/"
        }
      },
      "source": [
        "mnist_data.load_data(path='mnist.npz')"
      ],
      "execution_count": 243,
      "outputs": [
        {
          "output_type": "execute_result",
          "data": {
            "text/plain": [
              "((array([[[0, 0, 0, ..., 0, 0, 0],\n",
              "          [0, 0, 0, ..., 0, 0, 0],\n",
              "          [0, 0, 0, ..., 0, 0, 0],\n",
              "          ...,\n",
              "          [0, 0, 0, ..., 0, 0, 0],\n",
              "          [0, 0, 0, ..., 0, 0, 0],\n",
              "          [0, 0, 0, ..., 0, 0, 0]],\n",
              "  \n",
              "         [[0, 0, 0, ..., 0, 0, 0],\n",
              "          [0, 0, 0, ..., 0, 0, 0],\n",
              "          [0, 0, 0, ..., 0, 0, 0],\n",
              "          ...,\n",
              "          [0, 0, 0, ..., 0, 0, 0],\n",
              "          [0, 0, 0, ..., 0, 0, 0],\n",
              "          [0, 0, 0, ..., 0, 0, 0]],\n",
              "  \n",
              "         [[0, 0, 0, ..., 0, 0, 0],\n",
              "          [0, 0, 0, ..., 0, 0, 0],\n",
              "          [0, 0, 0, ..., 0, 0, 0],\n",
              "          ...,\n",
              "          [0, 0, 0, ..., 0, 0, 0],\n",
              "          [0, 0, 0, ..., 0, 0, 0],\n",
              "          [0, 0, 0, ..., 0, 0, 0]],\n",
              "  \n",
              "         ...,\n",
              "  \n",
              "         [[0, 0, 0, ..., 0, 0, 0],\n",
              "          [0, 0, 0, ..., 0, 0, 0],\n",
              "          [0, 0, 0, ..., 0, 0, 0],\n",
              "          ...,\n",
              "          [0, 0, 0, ..., 0, 0, 0],\n",
              "          [0, 0, 0, ..., 0, 0, 0],\n",
              "          [0, 0, 0, ..., 0, 0, 0]],\n",
              "  \n",
              "         [[0, 0, 0, ..., 0, 0, 0],\n",
              "          [0, 0, 0, ..., 0, 0, 0],\n",
              "          [0, 0, 0, ..., 0, 0, 0],\n",
              "          ...,\n",
              "          [0, 0, 0, ..., 0, 0, 0],\n",
              "          [0, 0, 0, ..., 0, 0, 0],\n",
              "          [0, 0, 0, ..., 0, 0, 0]],\n",
              "  \n",
              "         [[0, 0, 0, ..., 0, 0, 0],\n",
              "          [0, 0, 0, ..., 0, 0, 0],\n",
              "          [0, 0, 0, ..., 0, 0, 0],\n",
              "          ...,\n",
              "          [0, 0, 0, ..., 0, 0, 0],\n",
              "          [0, 0, 0, ..., 0, 0, 0],\n",
              "          [0, 0, 0, ..., 0, 0, 0]]], dtype=uint8),\n",
              "  array([5, 0, 4, ..., 5, 6, 8], dtype=uint8)),\n",
              " (array([[[0, 0, 0, ..., 0, 0, 0],\n",
              "          [0, 0, 0, ..., 0, 0, 0],\n",
              "          [0, 0, 0, ..., 0, 0, 0],\n",
              "          ...,\n",
              "          [0, 0, 0, ..., 0, 0, 0],\n",
              "          [0, 0, 0, ..., 0, 0, 0],\n",
              "          [0, 0, 0, ..., 0, 0, 0]],\n",
              "  \n",
              "         [[0, 0, 0, ..., 0, 0, 0],\n",
              "          [0, 0, 0, ..., 0, 0, 0],\n",
              "          [0, 0, 0, ..., 0, 0, 0],\n",
              "          ...,\n",
              "          [0, 0, 0, ..., 0, 0, 0],\n",
              "          [0, 0, 0, ..., 0, 0, 0],\n",
              "          [0, 0, 0, ..., 0, 0, 0]],\n",
              "  \n",
              "         [[0, 0, 0, ..., 0, 0, 0],\n",
              "          [0, 0, 0, ..., 0, 0, 0],\n",
              "          [0, 0, 0, ..., 0, 0, 0],\n",
              "          ...,\n",
              "          [0, 0, 0, ..., 0, 0, 0],\n",
              "          [0, 0, 0, ..., 0, 0, 0],\n",
              "          [0, 0, 0, ..., 0, 0, 0]],\n",
              "  \n",
              "         ...,\n",
              "  \n",
              "         [[0, 0, 0, ..., 0, 0, 0],\n",
              "          [0, 0, 0, ..., 0, 0, 0],\n",
              "          [0, 0, 0, ..., 0, 0, 0],\n",
              "          ...,\n",
              "          [0, 0, 0, ..., 0, 0, 0],\n",
              "          [0, 0, 0, ..., 0, 0, 0],\n",
              "          [0, 0, 0, ..., 0, 0, 0]],\n",
              "  \n",
              "         [[0, 0, 0, ..., 0, 0, 0],\n",
              "          [0, 0, 0, ..., 0, 0, 0],\n",
              "          [0, 0, 0, ..., 0, 0, 0],\n",
              "          ...,\n",
              "          [0, 0, 0, ..., 0, 0, 0],\n",
              "          [0, 0, 0, ..., 0, 0, 0],\n",
              "          [0, 0, 0, ..., 0, 0, 0]],\n",
              "  \n",
              "         [[0, 0, 0, ..., 0, 0, 0],\n",
              "          [0, 0, 0, ..., 0, 0, 0],\n",
              "          [0, 0, 0, ..., 0, 0, 0],\n",
              "          ...,\n",
              "          [0, 0, 0, ..., 0, 0, 0],\n",
              "          [0, 0, 0, ..., 0, 0, 0],\n",
              "          [0, 0, 0, ..., 0, 0, 0]]], dtype=uint8),\n",
              "  array([7, 2, 1, ..., 4, 5, 6], dtype=uint8)))"
            ]
          },
          "metadata": {
            "tags": []
          },
          "execution_count": 243
        }
      ]
    },
    {
      "cell_type": "code",
      "metadata": {
        "id": "P7KuJ2GEqFlF"
      },
      "source": [
        "(train_x,train_y), (test_x, test_y) = mnist_data.load_data()"
      ],
      "execution_count": 244,
      "outputs": []
    },
    {
      "cell_type": "code",
      "metadata": {
        "id": "MNA4Xd0xqJ4-",
        "outputId": "176ff9ed-3323-4840-8767-106989b689d0",
        "colab": {
          "base_uri": "https://localhost:8080/"
        }
      },
      "source": [
        "train_x.shape"
      ],
      "execution_count": 245,
      "outputs": [
        {
          "output_type": "execute_result",
          "data": {
            "text/plain": [
              "(60000, 28, 28)"
            ]
          },
          "metadata": {
            "tags": []
          },
          "execution_count": 245
        }
      ]
    },
    {
      "cell_type": "markdown",
      "metadata": {
        "id": "eSvOF37dy2-c"
      },
      "source": [
        "Converting RGB to GRAY Scale i.e Normalizing and casting the data.. Output should be 0 to 9 digits So it must be integer.."
      ]
    },
    {
      "cell_type": "code",
      "metadata": {
        "id": "e1ZOWt-Epk2-"
      },
      "source": [
        "train_x = tf.cast(train_x/255.0,dtype=tf.float32)                  \n",
        "\n",
        "test_x = tf.cast(test_x/255.0,dtype=tf.float32)\n",
        "\n",
        "train_y, test_y = tf.cast(train_y,dtype=tf.int64), tf.cast(test_y,dtype=tf.int64)"
      ],
      "execution_count": 246,
      "outputs": []
    },
    {
      "cell_type": "markdown",
      "metadata": {
        "id": "HmxdOni6zgJV"
      },
      "source": [
        "**Building the Architecture**"
      ]
    },
    {
      "cell_type": "code",
      "metadata": {
        "id": "HI5ppDKGy00g"
      },
      "source": [
        "mnistmodel1 = tf.keras.Sequential([\n",
        "\n",
        "tf.keras.layers.Flatten(),                               # Flattening all the matrix form of data to give inputs to I/P layer.\n",
        "\n",
        "tf.keras.layers.Dense(512,activation='relu'),            # Hidden Layer having 512 neurons and activation function as relu..\n",
        "\n",
        "tf.keras.layers.Dropout(0.3),                            # Dropout percentage in H.L is 30% .\n",
        "\n",
        "tf.keras.layers.Dense(10,activation='softmax')           # Output layer having 10 neurons because target is 0-9 digits..and A.F is softmax. \n",
        "\n",
        "])                                                       # We can use sigmoid or softmax in O/P Layer."
      ],
      "execution_count": 247,
      "outputs": []
    },
    {
      "cell_type": "markdown",
      "metadata": {
        "id": "E5KPTWZL13wL"
      },
      "source": [
        "**Adding Optimizers and loss functions...**"
      ]
    },
    {
      "cell_type": "code",
      "metadata": {
        "id": "n58QCUsd0gHi"
      },
      "source": [
        "opt = tf.keras.optimizers.Adam()\n",
        "\n",
        "mnistmodel1.compile(optimizer=opt,loss='sparse_categorical_crossentropy',metrics=['accuracy'])"
      ],
      "execution_count": 248,
      "outputs": []
    },
    {
      "cell_type": "markdown",
      "metadata": {
        "id": "wClruJXZ28sO"
      },
      "source": [
        "Training the model with batch size 42 and epochs 5.\n",
        "\n",
        "**Total training records are 60,000 then (no.of records/batch size) i.e (60000/42) = 1429 iterations in every epoch..**"
      ]
    },
    {
      "cell_type": "code",
      "metadata": {
        "id": "UTNtf_g53U5T",
        "outputId": "49ef87b3-1503-4b21-96c7-d5b3d85ddc92",
        "colab": {
          "base_uri": "https://localhost:8080/"
        }
      },
      "source": [
        "60000/42"
      ],
      "execution_count": 249,
      "outputs": [
        {
          "output_type": "execute_result",
          "data": {
            "text/plain": [
              "1428.5714285714287"
            ]
          },
          "metadata": {
            "tags": []
          },
          "execution_count": 249
        }
      ]
    },
    {
      "cell_type": "code",
      "metadata": {
        "id": "EfE0WFYi1ERu",
        "outputId": "b32b05dc-0f07-4f0b-ab93-5bb9339bffac",
        "colab": {
          "base_uri": "https://localhost:8080/"
        }
      },
      "source": [
        "mnistmodel1.fit(train_x,train_y,batch_size=42,epochs=5)"
      ],
      "execution_count": 250,
      "outputs": [
        {
          "output_type": "stream",
          "text": [
            "Epoch 1/5\n",
            "1429/1429 [==============================] - 6s 5ms/step - loss: 0.2380 - accuracy: 0.9298\n",
            "Epoch 2/5\n",
            "1429/1429 [==============================] - 6s 4ms/step - loss: 0.1084 - accuracy: 0.9670\n",
            "Epoch 3/5\n",
            "1429/1429 [==============================] - 6s 4ms/step - loss: 0.0799 - accuracy: 0.9753\n",
            "Epoch 4/5\n",
            "1429/1429 [==============================] - 6s 4ms/step - loss: 0.0625 - accuracy: 0.9804\n",
            "Epoch 5/5\n",
            "1429/1429 [==============================] - 6s 4ms/step - loss: 0.0509 - accuracy: 0.9837\n"
          ],
          "name": "stdout"
        },
        {
          "output_type": "execute_result",
          "data": {
            "text/plain": [
              "<tensorflow.python.keras.callbacks.History at 0x7ff7d9b74908>"
            ]
          },
          "metadata": {
            "tags": []
          },
          "execution_count": 250
        }
      ]
    },
    {
      "cell_type": "markdown",
      "metadata": {
        "id": "y04AOOMt226k"
      },
      "source": [
        "**Evaluating the Model**"
      ]
    },
    {
      "cell_type": "code",
      "metadata": {
        "id": "8hNeo-IF1Enj",
        "outputId": "03550b2a-91b3-4450-c692-d538b4566942",
        "colab": {
          "base_uri": "https://localhost:8080/"
        }
      },
      "source": [
        "mnistmodel1.evaluate(test_x,test_y)"
      ],
      "execution_count": 251,
      "outputs": [
        {
          "output_type": "stream",
          "text": [
            "313/313 [==============================] - 1s 2ms/step - loss: 0.0660 - accuracy: 0.9787\n"
          ],
          "name": "stdout"
        },
        {
          "output_type": "execute_result",
          "data": {
            "text/plain": [
              "[0.066047303378582, 0.9786999821662903]"
            ]
          },
          "metadata": {
            "tags": []
          },
          "execution_count": 251
        }
      ]
    },
    {
      "cell_type": "markdown",
      "metadata": {
        "id": "zRDQZlsK34Rw"
      },
      "source": [
        "This represents a loss of 0.06 and an accuracy of 0.978 on the test data.\n",
        "\n",
        "An accuracy of 0.97 means that out of 100 test data points, 97 were, on average, correctly identified by the model."
      ]
    },
    {
      "cell_type": "markdown",
      "metadata": {
        "id": "pFZuXHMw4Rzm"
      },
      "source": [
        "### **The second way to create a Sequential model**\n",
        "The alternative to passing a list of layers to the Sequential model's constructor is to use the **\"add method\"**, as follows, for the same architecture:\n",
        "\n"
      ]
    },
    {
      "cell_type": "markdown",
      "metadata": {
        "id": "gW6gnRpm5WCn"
      },
      "source": [
        "**Building the Architecture & Compiling**"
      ]
    },
    {
      "cell_type": "code",
      "metadata": {
        "id": "azKMosGQ4bGw"
      },
      "source": [
        "mnistmodel2 = tf.keras.Sequential()\n",
        "\n",
        "mnistmodel2.add(tf.keras.layers.Flatten()),                               # Flattening all the matrix form of data to give inputs to I/P layer.\n",
        "\n",
        "mnistmodel2.add(tf.keras.layers.Dense(512,activation='relu')),            # Hidden Layer having 512 neurons and activation function as relu..\n",
        "\n",
        "mnistmodel2.add(tf.keras.layers.Dropout(0.3)),                            # Dropout percentage in H.L is 30% .\n",
        "\n",
        "mnistmodel2.add(tf.keras.layers.Dense(10,activation='softmax'))          # Output layer having 10 neurons because target is 0-9 digits..and A.F is softmax.               "
      ],
      "execution_count": 252,
      "outputs": []
    },
    {
      "cell_type": "code",
      "metadata": {
        "id": "EL6M1Nzt2vb-"
      },
      "source": [
        "opt = tf.keras.optimizers.Adam()\n",
        "\n",
        "mnistmodel2.compile(optimizer=opt,loss='sparse_categorical_crossentropy',metrics=['accuracy'])"
      ],
      "execution_count": 253,
      "outputs": []
    },
    {
      "cell_type": "markdown",
      "metadata": {
        "id": "3uu19aqD5ZdX"
      },
      "source": [
        "**Fitting the Model**"
      ]
    },
    {
      "cell_type": "code",
      "metadata": {
        "id": "Am1L-f5f4yrv",
        "outputId": "530d0e3b-758c-427d-c0f6-69e5f38f86d6",
        "colab": {
          "base_uri": "https://localhost:8080/"
        }
      },
      "source": [
        "mnistmodel2.fit(train_x,train_y,batch_size=32,epochs=10)"
      ],
      "execution_count": 254,
      "outputs": [
        {
          "output_type": "stream",
          "text": [
            "Epoch 1/10\n",
            "1875/1875 [==============================] - 7s 4ms/step - loss: 0.2331 - accuracy: 0.9293\n",
            "Epoch 2/10\n",
            "1875/1875 [==============================] - 7s 4ms/step - loss: 0.1073 - accuracy: 0.9671\n",
            "Epoch 3/10\n",
            "1875/1875 [==============================] - 7s 4ms/step - loss: 0.0809 - accuracy: 0.9743\n",
            "Epoch 4/10\n",
            "1875/1875 [==============================] - 7s 4ms/step - loss: 0.0646 - accuracy: 0.9800\n",
            "Epoch 5/10\n",
            "1875/1875 [==============================] - 7s 4ms/step - loss: 0.0530 - accuracy: 0.9829\n",
            "Epoch 6/10\n",
            "1875/1875 [==============================] - 7s 4ms/step - loss: 0.0446 - accuracy: 0.9854\n",
            "Epoch 7/10\n",
            "1875/1875 [==============================] - 7s 4ms/step - loss: 0.0409 - accuracy: 0.9869\n",
            "Epoch 8/10\n",
            "1875/1875 [==============================] - 7s 4ms/step - loss: 0.0365 - accuracy: 0.9875\n",
            "Epoch 9/10\n",
            "1875/1875 [==============================] - 7s 4ms/step - loss: 0.0318 - accuracy: 0.9892\n",
            "Epoch 10/10\n",
            "1875/1875 [==============================] - 7s 4ms/step - loss: 0.0309 - accuracy: 0.9898\n"
          ],
          "name": "stdout"
        },
        {
          "output_type": "execute_result",
          "data": {
            "text/plain": [
              "<tensorflow.python.keras.callbacks.History at 0x7ff7d2f89780>"
            ]
          },
          "metadata": {
            "tags": []
          },
          "execution_count": 254
        }
      ]
    },
    {
      "cell_type": "code",
      "metadata": {
        "id": "wxC3lX9T479k",
        "outputId": "00b6691a-f4de-4ce4-cf10-5c39b10caa79",
        "colab": {
          "base_uri": "https://localhost:8080/"
        }
      },
      "source": [
        "mnistmodel2.evaluate(test_x,test_y)"
      ],
      "execution_count": 255,
      "outputs": [
        {
          "output_type": "stream",
          "text": [
            "313/313 [==============================] - 1s 2ms/step - loss: 0.0637 - accuracy: 0.9823\n"
          ],
          "name": "stdout"
        },
        {
          "output_type": "execute_result",
          "data": {
            "text/plain": [
              "[0.06370485574007034, 0.9822999835014343]"
            ]
          },
          "metadata": {
            "tags": []
          },
          "execution_count": 255
        }
      ]
    },
    {
      "cell_type": "markdown",
      "metadata": {
        "id": "6X19al5H6RIs"
      },
      "source": [
        "## Keras functional API\n",
        "\n",
        "`The functional API lets you build much more complex architectures than the simple linear stack of Sequential models we have seen previously. It also supports more advanced models. These models include multi-input and multi-output models, models with shared layers, and models with residual connections.`"
      ]
    },
    {
      "cell_type": "code",
      "metadata": {
        "id": "R-1-kU0r5hkM"
      },
      "source": [
        "mnist_data = tf.keras.datasets.mnist\n",
        "\n",
        "(train_x,train_y), (test_x,test_y) = mnist_data.load_data()\n",
        "\n",
        "train_x,test_x = train_x/255.0,test_x/255.0"
      ],
      "execution_count": 256,
      "outputs": []
    },
    {
      "cell_type": "code",
      "metadata": {
        "id": "5-9XxBU87ehM",
        "outputId": "2e06c082-b80f-417d-cdfb-a7732bfa8133",
        "colab": {
          "base_uri": "https://localhost:8080/"
        }
      },
      "source": [
        "train_x.shape            # (records,total_rows,total_columns)"
      ],
      "execution_count": 257,
      "outputs": [
        {
          "output_type": "execute_result",
          "data": {
            "text/plain": [
              "(60000, 28, 28)"
            ]
          },
          "metadata": {
            "tags": []
          },
          "execution_count": 257
        }
      ]
    },
    {
      "cell_type": "markdown",
      "metadata": {
        "id": "cpYoGKY1_Pu6"
      },
      "source": [
        "***Building the Architecture***"
      ]
    },
    {
      "cell_type": "code",
      "metadata": {
        "id": "WajJ9Mx07f8q"
      },
      "source": [
        "inp = tf.keras.layers.Input(shape=(28,28))\n",
        "\n",
        "x = tf.keras.layers.Flatten()(inp)\n",
        "\n",
        "x = tf.keras.layers.Dense(512,activation='relu',name='d1')(x)\n",
        "\n",
        "x = tf.keras.layers.Dropout(0.2)(x)\n",
        "\n",
        "OP = tf.keras.layers.Dense(10,activation=tf.nn.softmax,name='d2')(x)\n",
        "\n",
        "mnist_model3 = tf.keras.Model(inputs=inp,outputs=OP)"
      ],
      "execution_count": 258,
      "outputs": []
    },
    {
      "cell_type": "markdown",
      "metadata": {
        "id": "fGWtU5JE_Tji"
      },
      "source": [
        "***Compile & Fit***"
      ]
    },
    {
      "cell_type": "code",
      "metadata": {
        "id": "CFt1Amza9Fy-"
      },
      "source": [
        "Opt = tf.keras.optimizers.Adam()\n",
        "mnist_model3.compile(optimizer=Opt,loss='sparse_categorical_crossentropy',metrics=['accuracy'])"
      ],
      "execution_count": 259,
      "outputs": []
    },
    {
      "cell_type": "code",
      "metadata": {
        "id": "Zua7-7bk9yDR",
        "outputId": "047401b1-1f74-4d68-ed56-c59cd27e965d",
        "colab": {
          "base_uri": "https://localhost:8080/"
        }
      },
      "source": [
        "mnist_model3.fit(train_x, train_y, batch_size=32, epochs=5)"
      ],
      "execution_count": 260,
      "outputs": [
        {
          "output_type": "stream",
          "text": [
            "Epoch 1/5\n",
            "1875/1875 [==============================] - 7s 4ms/step - loss: 0.2190 - accuracy: 0.9353\n",
            "Epoch 2/5\n",
            "1875/1875 [==============================] - 7s 4ms/step - loss: 0.0954 - accuracy: 0.9711\n",
            "Epoch 3/5\n",
            "1875/1875 [==============================] - 7s 4ms/step - loss: 0.0694 - accuracy: 0.9783\n",
            "Epoch 4/5\n",
            "1875/1875 [==============================] - 7s 4ms/step - loss: 0.0530 - accuracy: 0.9830\n",
            "Epoch 5/5\n",
            "1875/1875 [==============================] - 7s 4ms/step - loss: 0.0426 - accuracy: 0.9857\n"
          ],
          "name": "stdout"
        },
        {
          "output_type": "execute_result",
          "data": {
            "text/plain": [
              "<tensorflow.python.keras.callbacks.History at 0x7ff7d0cf0828>"
            ]
          },
          "metadata": {
            "tags": []
          },
          "execution_count": 260
        }
      ]
    },
    {
      "cell_type": "markdown",
      "metadata": {
        "id": "DYXNJ68g_s9W"
      },
      "source": [
        "**Evaluate the mnistmodel3**"
      ]
    },
    {
      "cell_type": "code",
      "metadata": {
        "id": "G-lC2DqR94-l",
        "outputId": "c42fffb7-4b03-44a0-97f2-ae6bc1abdba7",
        "colab": {
          "base_uri": "https://localhost:8080/"
        }
      },
      "source": [
        "mnist_model3.evaluate(test_x, test_y)"
      ],
      "execution_count": 261,
      "outputs": [
        {
          "output_type": "stream",
          "text": [
            "313/313 [==============================] - 1s 2ms/step - loss: 0.0654 - accuracy: 0.9801\n"
          ],
          "name": "stdout"
        },
        {
          "output_type": "execute_result",
          "data": {
            "text/plain": [
              "[0.06539366394281387, 0.9800999760627747]"
            ]
          },
          "metadata": {
            "tags": []
          },
          "execution_count": 261
        }
      ]
    },
    {
      "cell_type": "markdown",
      "metadata": {
        "id": "pzTd9Cbs_6Cf"
      },
      "source": [
        "## MODEL SUBCLASSING (OR) Subclassing the Keras Model class"
      ]
    },
    {
      "cell_type": "code",
      "metadata": {
        "id": "tiFSJ1LyDT-o"
      },
      "source": [
        "mnist_data = tf.keras.datasets.mnist\n",
        "\n",
        "(train_x,train_y), (test_x,test_y) = mnist_data.load_data()\n",
        "\n",
        "train_x,test_x = train_x/255.0,test_x/255.0"
      ],
      "execution_count": 262,
      "outputs": []
    },
    {
      "cell_type": "code",
      "metadata": {
        "id": "C3OVi0cu__Z3"
      },
      "source": [
        "class MNISTMODEL(tf.keras.Model):\n",
        "  def __init__(self):\n",
        "    super(MNISTMODEL,self).__init__()\n",
        "    \n",
        "    inp = tf.keras.layers.Input(shape=(28,28))\n",
        "\n",
        "    self.x0 = tf.keras.layers.Flatten()\n",
        "\n",
        "    self.x1 = tf.keras.layers.Dense(512,activation='relu',name='d1')\n",
        "\n",
        "    self.x2 = tf.keras.layers.Dropout(0.2)\n",
        "\n",
        "    self.x3 = tf.keras.layers.Dense(10,activation=tf.nn.softmax,name='d2')\n",
        "\n",
        "  def call(self,inp):                          # Must have call method when implementing Model subclass..\n",
        " \n",
        "    x = self.x0(inp)\n",
        "\n",
        "    x = self.x1(x)\n",
        "\n",
        "    x = self.x2(x)\n",
        "      \n",
        "    return self.x3(x)"
      ],
      "execution_count": 263,
      "outputs": []
    },
    {
      "cell_type": "code",
      "metadata": {
        "id": "CH7f_-pHCtrC"
      },
      "source": [
        "mnist_model4 = MNISTMODEL()"
      ],
      "execution_count": 264,
      "outputs": []
    },
    {
      "cell_type": "code",
      "metadata": {
        "id": "bfcE1VO7CuCv",
        "outputId": "f051d171-2015-45bb-b713-48cde104198b",
        "colab": {
          "base_uri": "https://localhost:8080/"
        }
      },
      "source": [
        "mnist_model4.compile (optimizer= tf.keras.optimizers.Adam(), loss='sparse_categorical_crossentropy',metrics = ['accuracy'])\n",
        "mnist_model4.fit(train_x, train_y, batch_size=32, epochs=5)"
      ],
      "execution_count": 265,
      "outputs": [
        {
          "output_type": "stream",
          "text": [
            "Epoch 1/5\n",
            "1875/1875 [==============================] - 7s 3ms/step - loss: 0.2201 - accuracy: 0.9344\n",
            "Epoch 2/5\n",
            "1875/1875 [==============================] - 7s 4ms/step - loss: 0.0980 - accuracy: 0.9700\n",
            "Epoch 3/5\n",
            "1875/1875 [==============================] - 6s 3ms/step - loss: 0.0689 - accuracy: 0.9785\n",
            "Epoch 4/5\n",
            "1875/1875 [==============================] - 7s 3ms/step - loss: 0.0527 - accuracy: 0.9831\n",
            "Epoch 5/5\n",
            "1875/1875 [==============================] - 6s 3ms/step - loss: 0.0436 - accuracy: 0.9860\n"
          ],
          "name": "stdout"
        },
        {
          "output_type": "execute_result",
          "data": {
            "text/plain": [
              "<tensorflow.python.keras.callbacks.History at 0x7ff7d0c92668>"
            ]
          },
          "metadata": {
            "tags": []
          },
          "execution_count": 265
        }
      ]
    },
    {
      "cell_type": "code",
      "metadata": {
        "id": "K4bc9LV_C5-A",
        "outputId": "0af38cc1-56f9-4b87-dc8a-f1ddbda32756",
        "colab": {
          "base_uri": "https://localhost:8080/"
        }
      },
      "source": [
        "mnist_model4.evaluate(test_x, test_y)"
      ],
      "execution_count": 266,
      "outputs": [
        {
          "output_type": "stream",
          "text": [
            "313/313 [==============================] - 1s 2ms/step - loss: 0.0679 - accuracy: 0.9797\n"
          ],
          "name": "stdout"
        },
        {
          "output_type": "execute_result",
          "data": {
            "text/plain": [
              "[0.06791997700929642, 0.9797000288963318]"
            ]
          },
          "metadata": {
            "tags": []
          },
          "execution_count": 266
        }
      ]
    },
    {
      "cell_type": "code",
      "metadata": {
        "id": "3O2Xg7YlEYL6"
      },
      "source": [
        ""
      ],
      "execution_count": 266,
      "outputs": []
    }
  ]
}