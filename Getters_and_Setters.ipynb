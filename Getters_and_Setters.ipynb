{
  "nbformat": 4,
  "nbformat_minor": 0,
  "metadata": {
    "colab": {
      "name": "Getters and Setters.ipynb",
      "provenance": [],
      "authorship_tag": "ABX9TyN7cFtXL+D7dLv4af6vg8N4",
      "include_colab_link": true
    },
    "kernelspec": {
      "name": "python3",
      "display_name": "Python 3"
    }
  },
  "cells": [
    {
      "cell_type": "markdown",
      "metadata": {
        "id": "view-in-github",
        "colab_type": "text"
      },
      "source": [
        "<a href=\"https://colab.research.google.com/github/suryagokul/Data-Science-Portfolio/blob/master/Getters_and_Setters.ipynb\" target=\"_parent\"><img src=\"https://colab.research.google.com/assets/colab-badge.svg\" alt=\"Open In Colab\"/></a>"
      ]
    },
    {
      "cell_type": "markdown",
      "metadata": {
        "id": "ovHWu2XB0cvR"
      },
      "source": [
        "## Getters and Setters"
      ]
    },
    {
      "cell_type": "markdown",
      "metadata": {
        "id": "stwUVCo9u35p"
      },
      "source": [
        "`In python we can access the private variables and private methods  inside the class but not from outside...`"
      ]
    },
    {
      "cell_type": "markdown",
      "metadata": {
        "id": "bXujzAK04AcE"
      },
      "source": [
        "`Getters:- These are the methods used in Object-Oriented Programming (OOPS) which helps to access the private attributes from a class.`\r\n",
        "\r\n",
        "\r\n",
        "`Setters:- These are the methods used in OOPS feature which helps to set the value to private attributes in a class.`"
      ]
    },
    {
      "cell_type": "markdown",
      "metadata": {
        "id": "Lc0GhZX-0gvf"
      },
      "source": [
        "### Basic Implementation Using Instance methods.."
      ]
    },
    {
      "cell_type": "code",
      "metadata": {
        "id": "sMY4g4LyTM3I",
        "colab": {
          "base_uri": "https://localhost:8080/"
        },
        "outputId": "5e333d6a-3199-4c91-f5e2-eafe430d64c3"
      },
      "source": [
        "class bank_details:\r\n",
        "  \r\n",
        "  def __init__(self,card_cvv):\r\n",
        "    self.bank_ifsc_code = \"ANDB455\"\r\n",
        "    self.bank_branch = \"kkd\"\r\n",
        "    self.__card_cvv = card_cvv                                                          # private instance variable\r\n",
        "\r\n",
        "  def show(self):\r\n",
        "    \r\n",
        "    print(\"Inside the class accessing private variable : \",self.__card_cvv)             # accessing private variable inside the class using instance method\r\n",
        "\r\n",
        "    \r\n",
        "    self.__display()         # calling private method inside the class\r\n",
        " \r\n",
        "  \r\n",
        "  def __display(self):                                                                  # private method\r\n",
        "    \r\n",
        "    print(\"Private method which is not accessible from outside of the class...\")\r\n",
        "\r\n",
        "\r\n",
        "obj = bank_details(\"452\")\r\n",
        "\r\n",
        "print(obj.bank_ifsc_code)\r\n",
        "\r\n",
        "print(obj.bank_branch)\r\n",
        "\r\n",
        "# print(obj.__card_cvv)  gives error because private variable  is not accessible from outside.\r\n",
        "\r\n",
        "# print(obj.__display())   Gives error AttributeError: 'bank_details' object has no attribute '__display'\r\n",
        "\r\n",
        "obj.show()"
      ],
      "execution_count": 25,
      "outputs": [
        {
          "output_type": "stream",
          "text": [
            "ANDB455\n",
            "kkd\n",
            "Inside the class accessing private variable :  452\n",
            "Private method which is not accessible from outside of the class...\n"
          ],
          "name": "stdout"
        }
      ]
    },
    {
      "cell_type": "markdown",
      "metadata": {
        "id": "W9mgax3Es2I6"
      },
      "source": [
        "**You are not able to access the private variables directly in Python. That's why you implemented the `getter` method.**\r\n",
        "\r\n"
      ]
    },
    {
      "cell_type": "code",
      "metadata": {
        "colab": {
          "base_uri": "https://localhost:8080/"
        },
        "id": "XlAMUQ6Ds1TX",
        "outputId": "d84fd513-bd47-4788-c6b9-2d36d33b43d5"
      },
      "source": [
        "class bank_details():\r\n",
        "  \r\n",
        "  def __init__(self,card_cvv):\r\n",
        "    self.bank_ifsc_code = \"ANDB455\"\r\n",
        "    self.bank_branch = \"kkd\"\r\n",
        "    self.__card_cvv = card_cvv                    # private instance variable\r\n",
        "\r\n",
        "  \r\n",
        "  def getCvv(self):               # Getter method which returns private attribute value.We can use any name for method but prefix get is just naming convention.\r\n",
        "    return self.__card_cvv \r\n",
        "\r\n",
        "  def setCvv(self):\r\n",
        "    self.__card_cvv = 500\r\n",
        "\r\n",
        "\r\n",
        "obj = bank_details(\"452\")\r\n",
        "\r\n",
        "print(obj.bank_ifsc_code)\r\n",
        "\r\n",
        "print(obj.bank_branch)\r\n",
        "\r\n",
        "print(\"Getting value using instance method 'getter' : \",obj.getCvv())                       # Calling getter method\r\n",
        "\r\n",
        "obj.setCvv()\r\n",
        "\r\n",
        "print(\"Getting value after Using `Setter` is : \",obj.getCvv())"
      ],
      "execution_count": 37,
      "outputs": [
        {
          "output_type": "stream",
          "text": [
            "ANDB455\n",
            "kkd\n",
            "Getting value using instance method 'getter' :  452\n",
            "Getting value after Using `Setter` is :  500\n"
          ],
          "name": "stdout"
        }
      ]
    },
    {
      "cell_type": "markdown",
      "metadata": {
        "id": "rJOm3hWE4Pyt"
      },
      "source": [
        "**When getters and setters are useful?**\r\n",
        "\r\n",
        "    This depends on our need. If you want private attributes and methods you \r\n",
        "    can implement the class using setters, getters methods otherwise you will \r\n",
        "    implement using the normal way."
      ]
    },
    {
      "cell_type": "markdown",
      "metadata": {
        "id": "8jkRifVe0VQi"
      },
      "source": [
        "### Using property() function to achieve getters and setters behaviour\r\n",
        "\r\n",
        "`In Python property()is a built-in function that creates and returns a property object. A property object has three methods, getter(), setter(), and delete().`"
      ]
    },
    {
      "cell_type": "code",
      "metadata": {
        "colab": {
          "base_uri": "https://localhost:8080/",
          "height": 69
        },
        "id": "qm6eOxLer1Ss",
        "outputId": "d56099fd-9235-4a08-9351-1ffcf46df9c1"
      },
      "source": [
        "class DataScience:\r\n",
        "  def __init__(self):\r\n",
        "    self._community_name = \"MasteringDs\"\r\n",
        "  \r\n",
        "  def getName(self):\r\n",
        "    print(\"Getter Method is Called..\")\r\n",
        "    return self._community_name\r\n",
        "  \r\n",
        "  def setName(self,comm):\r\n",
        "    print(\"Setter Method is Called..\")\r\n",
        "    self._community_name = comm                         # comm is passed when we set the value below i.e \"DOJO COMMUNITY\"\r\n",
        "  \r\n",
        "  community_name = property(getName, setName)          # community_name must be same as instance  variable\r\n",
        "\r\n",
        "ds = DataScience()\r\n",
        "\r\n",
        "ds.community_name = \"DOJO COMMUNITY\"                        # Setter method is called automatically when we set a value\r\n",
        "\r\n",
        "ds.community_name                                   # getter method is called automatically when we want to get the value."
      ],
      "execution_count": 51,
      "outputs": [
        {
          "output_type": "stream",
          "text": [
            "Setter Method is Called..\n",
            "Getter Method is Called..\n"
          ],
          "name": "stdout"
        },
        {
          "output_type": "execute_result",
          "data": {
            "application/vnd.google.colaboratory.intrinsic+json": {
              "type": "string"
            },
            "text/plain": [
              "'DOJO COMMUNITY'"
            ]
          },
          "metadata": {
            "tags": []
          },
          "execution_count": 51
        }
      ]
    },
    {
      "cell_type": "code",
      "metadata": {
        "colab": {
          "base_uri": "https://localhost:8080/"
        },
        "id": "UaAeTUd66L5I",
        "outputId": "994bce8a-9c9c-44e3-9121-81b673514272"
      },
      "source": [
        "class emp: \r\n",
        "     def __init__(self): \r\n",
        "          self._age = 0\r\n",
        "       \r\n",
        "     # using property decorator \r\n",
        "     # a getter function \r\n",
        "     @property\r\n",
        "     def age(self): \r\n",
        "         print(\"getter method called\") \r\n",
        "         return self._age \r\n",
        "       \r\n",
        "     # a setter function \r\n",
        "     @age.setter \r\n",
        "     def age(self, a): \r\n",
        "\r\n",
        "        # access variable after checking validation logic\r\n",
        "         \r\n",
        "         if(a < 18): \r\n",
        "            raise ValueError(\"Sorry you age is below eligibility criteria\") \r\n",
        "         print(\"setter method called\") \r\n",
        "         self._age = a \r\n",
        "  \r\n",
        "mark = emp() \r\n",
        "  \r\n",
        "mark.age = 19\r\n",
        "\r\n",
        "mark.age"
      ],
      "execution_count": 53,
      "outputs": [
        {
          "output_type": "stream",
          "text": [
            "setter method called\n",
            "getter method called\n"
          ],
          "name": "stdout"
        },
        {
          "output_type": "execute_result",
          "data": {
            "text/plain": [
              "19"
            ]
          },
          "metadata": {
            "tags": []
          },
          "execution_count": 53
        }
      ]
    },
    {
      "cell_type": "markdown",
      "metadata": {
        "id": "_i6hcHZU6vE-"
      },
      "source": [
        "`print(obj.age)` here directly accessing age from outside using objref.\r\n",
        "    \r\n",
        "    But by using getters and setters we can add validation logic and can access \r\n",
        "    only afer checking the logic instead of directly accessing"
      ]
    },
    {
      "cell_type": "markdown",
      "metadata": {
        "id": "5X4N5u0w5nWu"
      },
      "source": [
        "### Advantages Of Using getters and setters\r\n",
        "\r\n",
        "\r\n",
        "    1.We use getters & setters to add validation logic around getting and setting \r\n",
        "    access a value as shown above.\r\n",
        "    2.To avoid direct access of a class field i.e. private variables cannot be    \r\n",
        "    accessed directly or modified by external user."
      ]
    }
  ]
}