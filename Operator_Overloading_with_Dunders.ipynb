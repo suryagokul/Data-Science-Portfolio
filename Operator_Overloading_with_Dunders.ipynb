{
  "nbformat": 4,
  "nbformat_minor": 0,
  "metadata": {
    "colab": {
      "name": "Operator Overloading with Dunders.ipynb",
      "provenance": [],
      "authorship_tag": "ABX9TyMhS+QcAWSVoHRgRNXRmKPR",
      "include_colab_link": true
    },
    "kernelspec": {
      "name": "python3",
      "display_name": "Python 3"
    }
  },
  "cells": [
    {
      "cell_type": "markdown",
      "metadata": {
        "id": "view-in-github",
        "colab_type": "text"
      },
      "source": [
        "<a href=\"https://colab.research.google.com/github/suryagokul/Data-Science-Portfolio/blob/master/Operator_Overloading_with_Dunders.ipynb\" target=\"_parent\"><img src=\"https://colab.research.google.com/assets/colab-badge.svg\" alt=\"Open In Colab\"/></a>"
      ]
    },
    {
      "cell_type": "markdown",
      "metadata": {
        "id": "ZKPM2mILBYzG"
      },
      "source": [
        "### Operator Overloading and Working with Magic Methods"
      ]
    },
    {
      "cell_type": "markdown",
      "metadata": {
        "id": "1p15J7HIBWTj"
      },
      "source": [
        "`Operator Overloading means giving extended meaning beyond their predefined operational meaning. For example operator + is used to add two integers as well as join two strings and merge two lists. It is achievable because ‘+’ operator is overloaded by int class and str class. You might have noticed that the same built-in operator or function shows different behavior for objects of different classes, this is called Operator Overloading. `"
      ]
    },
    {
      "cell_type": "code",
      "metadata": {
        "colab": {
          "base_uri": "https://localhost:8080/",
          "height": 197
        },
        "id": "EvVxS9YSBh6H",
        "outputId": "f9a48192-33b6-44bb-cc88-417667286ed4"
      },
      "source": [
        "class Hitman:\r\n",
        "  def __init__(self,centuries):\r\n",
        "    self.odi_centuries = centuries\r\n",
        "  \r\n",
        "  def test_runs(self):\r\n",
        "    pass\r\n",
        "    \r\n",
        "obj1 = Hitman(20)\r\n",
        "\r\n",
        "obj2 = Hitman(30)\r\n",
        "\r\n",
        "obj1 + obj2"
      ],
      "execution_count": null,
      "outputs": [
        {
          "output_type": "error",
          "ename": "TypeError",
          "evalue": "ignored",
          "traceback": [
            "\u001b[0;31m---------------------------------------------------------------------------\u001b[0m",
            "\u001b[0;31mTypeError\u001b[0m                                 Traceback (most recent call last)",
            "\u001b[0;32m<ipython-input-39-2f81f88d3e2f>\u001b[0m in \u001b[0;36m<module>\u001b[0;34m()\u001b[0m\n\u001b[1;32m     10\u001b[0m \u001b[0mobj2\u001b[0m \u001b[0;34m=\u001b[0m \u001b[0mHitman\u001b[0m\u001b[0;34m(\u001b[0m\u001b[0;36m30\u001b[0m\u001b[0;34m)\u001b[0m\u001b[0;34m\u001b[0m\u001b[0;34m\u001b[0m\u001b[0m\n\u001b[1;32m     11\u001b[0m \u001b[0;34m\u001b[0m\u001b[0m\n\u001b[0;32m---> 12\u001b[0;31m \u001b[0mobj1\u001b[0m \u001b[0;34m+\u001b[0m \u001b[0mobj2\u001b[0m\u001b[0;34m\u001b[0m\u001b[0;34m\u001b[0m\u001b[0m\n\u001b[0m",
            "\u001b[0;31mTypeError\u001b[0m: unsupported operand type(s) for +: 'Hitman' and 'Hitman'"
          ]
        }
      ]
    },
    {
      "cell_type": "markdown",
      "metadata": {
        "id": "NBoUqDuyBl56"
      },
      "source": [
        "`Functionality of '+' is used for integer,strings,merge lists but When we want to add two objects it gives TypeError as shown below..`\r\n",
        "\r\n",
        "`To rectify this error we have to overload the same __ add__ dunder takes argument as object which is not internally defined.`"
      ]
    },
    {
      "cell_type": "code",
      "metadata": {
        "colab": {
          "base_uri": "https://localhost:8080/"
        },
        "id": "70EraVdc938z",
        "outputId": "f491e8b6-c8b5-4561-9072-47e39001f641"
      },
      "source": [
        "class Hitman:\r\n",
        "  def __init__(self,centuries):\r\n",
        "    self.odi_centuries = centuries\r\n",
        "  \r\n",
        "  def test_runs(self):\r\n",
        "    pass\r\n",
        "  \r\n",
        "  def __add__(self,o2):\r\n",
        "    return self.odi_centuries + o2.odi_centuries\r\n",
        "\r\n",
        "obj1 = Hitman(20)\r\n",
        "\r\n",
        "obj2 = Hitman(30)\r\n",
        "\r\n",
        "obj3 = Hitman(\"5\") \r\n",
        "\r\n",
        "obj4 = Hitman(\"0\")\r\n",
        "\r\n",
        "obj1 + obj2, obj3 + obj4"
      ],
      "execution_count": null,
      "outputs": [
        {
          "output_type": "execute_result",
          "data": {
            "text/plain": [
              "(50, '50')"
            ]
          },
          "metadata": {
            "tags": []
          },
          "execution_count": 42
        }
      ]
    },
    {
      "cell_type": "markdown",
      "metadata": {
        "id": "gMRjYzndCKsw"
      },
      "source": [
        "`Whenever '+' is given to add objects then object automatically invokes the dunder and it takes only one object as argument in this case obj2 as o2, obj4 as o2..Second one takes as argument..`"
      ]
    },
    {
      "cell_type": "markdown",
      "metadata": {
        "id": "PME20G3EDq1d"
      },
      "source": [
        "`Overloading > operator using __ gt__ dunder....`"
      ]
    },
    {
      "cell_type": "code",
      "metadata": {
        "colab": {
          "base_uri": "https://localhost:8080/"
        },
        "id": "Hy4PUcA7_-nr",
        "outputId": "91e9eac4-6122-4b2d-9299-4e94865dd377"
      },
      "source": [
        "class A: \r\n",
        "    def __init__(self, a): \r\n",
        "        self.a = a \r\n",
        "    def __gt__(self, other): \r\n",
        "        if(self.a>other.a): \r\n",
        "            return True\r\n",
        "        else: \r\n",
        "            return False\r\n",
        "ob1 = A(2) \r\n",
        "ob2 = A(3) \r\n",
        "if(ob1>ob2): \r\n",
        "    print(\"ob1 is greater than ob2\") \r\n",
        "else: \r\n",
        "    print(\"ob2 is greater than ob1\") "
      ],
      "execution_count": null,
      "outputs": [
        {
          "output_type": "stream",
          "text": [
            "ob2 is greater than ob1\n"
          ],
          "name": "stdout"
        }
      ]
    },
    {
      "cell_type": "markdown",
      "metadata": {
        "id": "WXLjeCNfFaHy"
      },
      "source": [
        "**Dunders of Arithmetic Operators**\r\n",
        "\r\n",
        "<img src='https://image.slidesharecdn.com/pythonmagicmethods-130417060713-phpapp01/95/python-magicmethods-22-638.jpg?cb=1366178993' />\r\n"
      ]
    },
    {
      "cell_type": "markdown",
      "metadata": {
        "id": "zA9Ds-N6F96_"
      },
      "source": [
        "**Comparison Operators**\r\n",
        "\r\n",
        "<img src='https://miro.medium.com/max/1686/1*7eglYMfJEwMo4qbil2O28g.png'/>"
      ]
    },
    {
      "cell_type": "markdown",
      "metadata": {
        "id": "TQixiomXFqQ3"
      },
      "source": [
        "**Some Other Magic Methods and their description**\r\n",
        "\r\n",
        "<img src='https://3.bp.blogspot.com/-HW9VEV7jpxI/Vz_5ilndKUI/AAAAAAAAA1U/ODLUqG9HI_8joZGrz3IPVIjQHHS1rYZ8QCLcB/s1600/Magic%2BMethods%2Bin%2BPython2.bmp'/>"
      ]
    }
  ]
}