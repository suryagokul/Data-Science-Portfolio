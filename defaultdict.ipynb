{
  "nbformat": 4,
  "nbformat_minor": 0,
  "metadata": {
    "colab": {
      "name": "defaultdict.ipynb",
      "provenance": [],
      "collapsed_sections": [
        "jtNM0tMmjO6y",
        "pW6u5D-xjhR4",
        "YzEOSBWuh82e",
        "9JyH6BqbmhDV"
      ],
      "authorship_tag": "ABX9TyMgTctsNbMsPa/8WJpMF/+a",
      "include_colab_link": true
    },
    "kernelspec": {
      "name": "python3",
      "display_name": "Python 3"
    },
    "language_info": {
      "name": "python"
    }
  },
  "cells": [
    {
      "cell_type": "markdown",
      "metadata": {
        "id": "view-in-github",
        "colab_type": "text"
      },
      "source": [
        "<a href=\"https://colab.research.google.com/github/suryagokul/Data-Science-Portfolio/blob/master/defaultdict.ipynb\" target=\"_parent\"><img src=\"https://colab.research.google.com/assets/colab-badge.svg\" alt=\"Open In Colab\"/></a>"
      ]
    },
    {
      "cell_type": "code",
      "metadata": {
        "id": "eo-m0y9uiOGu"
      },
      "source": [
        "students = {'id':542,'name':'surya','number':8888777666}"
      ],
      "execution_count": 3,
      "outputs": []
    },
    {
      "cell_type": "code",
      "metadata": {
        "colab": {
          "base_uri": "https://localhost:8080/"
        },
        "id": "XGPQ03dyiijY",
        "outputId": "021b64ef-dbf6-465f-cf05-8bfaf1b353af"
      },
      "source": [
        "students['id']"
      ],
      "execution_count": 4,
      "outputs": [
        {
          "output_type": "execute_result",
          "data": {
            "text/plain": [
              "542"
            ]
          },
          "metadata": {
            "tags": []
          },
          "execution_count": 4
        }
      ]
    },
    {
      "cell_type": "code",
      "metadata": {
        "colab": {
          "base_uri": "https://localhost:8080/"
        },
        "id": "RCyr8gWKik6p",
        "outputId": "e8134c06-c215-49ad-c251-632b0da2fbd8"
      },
      "source": [
        "students['number']"
      ],
      "execution_count": 5,
      "outputs": [
        {
          "output_type": "execute_result",
          "data": {
            "text/plain": [
              "8888777666"
            ]
          },
          "metadata": {
            "tags": []
          },
          "execution_count": 5
        }
      ]
    },
    {
      "cell_type": "code",
      "metadata": {
        "colab": {
          "base_uri": "https://localhost:8080/",
          "height": 171
        },
        "id": "tn1p13qxinwy",
        "outputId": "9cc744c1-6dd2-413a-a08e-1b5e31db289a"
      },
      "source": [
        "students['email']"
      ],
      "execution_count": 6,
      "outputs": [
        {
          "output_type": "error",
          "ename": "KeyError",
          "evalue": "ignored",
          "traceback": [
            "\u001b[0;31m---------------------------------------------------------------------------\u001b[0m",
            "\u001b[0;31mKeyError\u001b[0m                                  Traceback (most recent call last)",
            "\u001b[0;32m<ipython-input-6-3c2a8deb4aaa>\u001b[0m in \u001b[0;36m<module>\u001b[0;34m()\u001b[0m\n\u001b[0;32m----> 1\u001b[0;31m \u001b[0mstudents\u001b[0m\u001b[0;34m[\u001b[0m\u001b[0;34m'email'\u001b[0m\u001b[0;34m]\u001b[0m\u001b[0;34m\u001b[0m\u001b[0;34m\u001b[0m\u001b[0m\n\u001b[0m",
            "\u001b[0;31mKeyError\u001b[0m: 'email'"
          ]
        }
      ]
    },
    {
      "cell_type": "markdown",
      "metadata": {
        "id": "vpc-TlnPixSz"
      },
      "source": [
        "here if we want to access any key which is not in the dictionary, it gives KeyError.\n",
        "\n",
        "To fix this we have different Solutions : \n",
        "\n",
        "      1. Use try except block\n",
        "\n",
        "      2. try to use get function\n",
        "\n",
        "      3. defaultdict"
      ]
    },
    {
      "cell_type": "markdown",
      "metadata": {
        "id": "jtNM0tMmjO6y"
      },
      "source": [
        "# Try Except"
      ]
    },
    {
      "cell_type": "code",
      "metadata": {
        "colab": {
          "base_uri": "https://localhost:8080/"
        },
        "id": "8SNj05WojOci",
        "outputId": "31edf4f4-f697-480a-9b21-0c6b70bc32d3"
      },
      "source": [
        "try:\n",
        "  mail = students['email']\n",
        "\n",
        "except KeyError:\n",
        "  print(\"Key is not in the list...try again\")"
      ],
      "execution_count": 7,
      "outputs": [
        {
          "output_type": "stream",
          "text": [
            "Key is not in the list...try again\n"
          ],
          "name": "stdout"
        }
      ]
    },
    {
      "cell_type": "markdown",
      "metadata": {
        "id": "pW6u5D-xjhR4"
      },
      "source": [
        "# Get Function"
      ]
    },
    {
      "cell_type": "code",
      "metadata": {
        "id": "YpKJNW-tjjrY"
      },
      "source": [
        "mail = students.get('mail')\n",
        "\n",
        "mail"
      ],
      "execution_count": 10,
      "outputs": []
    },
    {
      "cell_type": "markdown",
      "metadata": {
        "id": "YzEOSBWuh82e"
      },
      "source": [
        "# Default dict  \n",
        "\n",
        "    where automatically handles exception.we doesn't need to write try \n",
        "    except block.\n",
        "\n",
        "    We can provide default value if key is not in the dictionary."
      ]
    },
    {
      "cell_type": "markdown",
      "metadata": {
        "id": "klz01JIBkYT9"
      },
      "source": [
        "**Syntax:** defaultdict(default_factory)\n",
        "\n",
        "`Parameters:`\n",
        "\n",
        "`default_factory:` A function returning the default value for the dictionary defined."
      ]
    },
    {
      "cell_type": "code",
      "metadata": {
        "id": "a9lhVoP7h68g"
      },
      "source": [
        "from collections import defaultdict"
      ],
      "execution_count": 2,
      "outputs": []
    },
    {
      "cell_type": "code",
      "metadata": {
        "id": "zi2lEzYYiH3c"
      },
      "source": [
        "students = defaultdict(lambda : \"contact@students.in\")"
      ],
      "execution_count": 27,
      "outputs": []
    },
    {
      "cell_type": "markdown",
      "metadata": {
        "id": "YoJ4BGxVlooH"
      },
      "source": [
        "we have to provide default value in defaultdict itself using any lambda function or normal function. "
      ]
    },
    {
      "cell_type": "code",
      "metadata": {
        "id": "MppTVSqykrV_"
      },
      "source": [
        "students['id'] = 542\n",
        "\n",
        "students['name'] = 'surya'"
      ],
      "execution_count": 28,
      "outputs": []
    },
    {
      "cell_type": "code",
      "metadata": {
        "colab": {
          "base_uri": "https://localhost:8080/"
        },
        "id": "Os-lNSwjlGyl",
        "outputId": "17abb224-743d-4208-be44-3f69928c6ace"
      },
      "source": [
        "students['id'],students['name']"
      ],
      "execution_count": 29,
      "outputs": [
        {
          "output_type": "execute_result",
          "data": {
            "text/plain": [
              "(542, 'surya')"
            ]
          },
          "metadata": {
            "tags": []
          },
          "execution_count": 29
        }
      ]
    },
    {
      "cell_type": "code",
      "metadata": {
        "colab": {
          "base_uri": "https://localhost:8080/",
          "height": 35
        },
        "id": "GFE8Dba3lRMJ",
        "outputId": "d52d00f6-85ea-40fb-c646-9373e3604106"
      },
      "source": [
        "students['mail']"
      ],
      "execution_count": 30,
      "outputs": [
        {
          "output_type": "execute_result",
          "data": {
            "application/vnd.google.colaboratory.intrinsic+json": {
              "type": "string"
            },
            "text/plain": [
              "'contact@students.in'"
            ]
          },
          "metadata": {
            "tags": []
          },
          "execution_count": 30
        }
      ]
    },
    {
      "cell_type": "markdown",
      "metadata": {
        "id": "SvU1WIdfmB4T"
      },
      "source": [
        "here key mail doesn't exists but it gives the dafult value as contact@students.in."
      ]
    },
    {
      "cell_type": "markdown",
      "metadata": {
        "id": "9JyH6BqbmhDV"
      },
      "source": [
        "### Using int as default_factory"
      ]
    },
    {
      "cell_type": "code",
      "metadata": {
        "id": "eiksc-X2mgWM"
      },
      "source": [
        "d = defaultdict(int)"
      ],
      "execution_count": 31,
      "outputs": []
    },
    {
      "cell_type": "code",
      "metadata": {
        "colab": {
          "base_uri": "https://localhost:8080/"
        },
        "id": "RIWH1HhXmqbA",
        "outputId": "49f01611-39e9-41bc-fb5c-8b31e2b69102"
      },
      "source": [
        "d"
      ],
      "execution_count": 32,
      "outputs": [
        {
          "output_type": "execute_result",
          "data": {
            "text/plain": [
              "defaultdict(int, {})"
            ]
          },
          "metadata": {
            "tags": []
          },
          "execution_count": 32
        }
      ]
    },
    {
      "cell_type": "code",
      "metadata": {
        "id": "sRN48WPxmro9"
      },
      "source": [
        "l = [10,20,30,40,50]\n",
        "\n",
        "for i in range(0,5):\n",
        "  d[i] = l[i]"
      ],
      "execution_count": 37,
      "outputs": []
    },
    {
      "cell_type": "code",
      "metadata": {
        "colab": {
          "base_uri": "https://localhost:8080/"
        },
        "id": "afQiR598nQIa",
        "outputId": "0b3bc4bb-c9f3-433f-8b4b-7162eedcb1a4"
      },
      "source": [
        "d[2]"
      ],
      "execution_count": 43,
      "outputs": [
        {
          "output_type": "execute_result",
          "data": {
            "text/plain": [
              "30"
            ]
          },
          "metadata": {
            "tags": []
          },
          "execution_count": 43
        }
      ]
    },
    {
      "cell_type": "code",
      "metadata": {
        "colab": {
          "base_uri": "https://localhost:8080/"
        },
        "id": "-q30_VAPmv1R",
        "outputId": "01800860-9813-4893-e328-066cf8eddd23"
      },
      "source": [
        "d[800]"
      ],
      "execution_count": 42,
      "outputs": [
        {
          "output_type": "execute_result",
          "data": {
            "text/plain": [
              "0"
            ]
          },
          "metadata": {
            "tags": []
          },
          "execution_count": 42
        }
      ]
    }
  ]
}