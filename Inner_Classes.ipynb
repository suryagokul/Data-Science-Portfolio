{
  "nbformat": 4,
  "nbformat_minor": 0,
  "metadata": {
    "colab": {
      "name": "Inner Classes.ipynb",
      "provenance": [],
      "authorship_tag": "ABX9TyP6iXK5jAy8dmpHoQ2PS5bV",
      "include_colab_link": true
    },
    "kernelspec": {
      "name": "python3",
      "display_name": "Python 3"
    }
  },
  "cells": [
    {
      "cell_type": "markdown",
      "metadata": {
        "id": "view-in-github",
        "colab_type": "text"
      },
      "source": [
        "<a href=\"https://colab.research.google.com/github/suryagokul/Data-Science-Portfolio/blob/master/Inner_Classes.ipynb\" target=\"_parent\"><img src=\"https://colab.research.google.com/assets/colab-badge.svg\" alt=\"Open In Colab\"/></a>"
      ]
    },
    {
      "cell_type": "markdown",
      "metadata": {
        "id": "UGvHiA_E69sA"
      },
      "source": [
        "### Inner Classes"
      ]
    },
    {
      "cell_type": "markdown",
      "metadata": {
        "id": "KuJq0Cz77bxR"
      },
      "source": [
        "`Definition : A Class which is written in another Class is said to be \"Inner Classes\"`"
      ]
    },
    {
      "cell_type": "markdown",
      "metadata": {
        "id": "SvJ48csR7ss8"
      },
      "source": [
        "**When will Inner Classes are Useful?**\r\n",
        "\r\n",
        "    Without Existing One type of object if there is no chance of existing \r\n",
        "    another type of object then we should go for inner classes..\r\n",
        "\r\n",
        "    For Example  Engine doesn't exists without Car.Then there is no use of \r\n",
        "    writting two different classes.So using this concept is very useful.."
      ]
    },
    {
      "cell_type": "markdown",
      "metadata": {
        "id": "TS3G6GgGEZdu"
      },
      "source": [
        "#### Example 1"
      ]
    },
    {
      "cell_type": "code",
      "metadata": {
        "colab": {
          "base_uri": "https://localhost:8080/"
        },
        "id": "WdHPdZ8666pe",
        "outputId": "df1c7878-1dfd-430b-d6fc-2b87e8f3a1a0"
      },
      "source": [
        "class Ai:\r\n",
        "  \r\n",
        "  def __init__(self):\r\n",
        "    self.website = \"hasty.ai\"\r\n",
        "  \r\n",
        "  class Machine_Learning:\r\n",
        "    def __init__(self):\r\n",
        "      print(\"Inner class Constructor\")\r\n",
        "      self.ml_website = \"MachineLearningmastery.com\"\r\n",
        "\r\n",
        "    class DeepLearning:\r\n",
        "      def __init__(self):\r\n",
        "        print(\"Inner Inner Class Constructor\")\r\n",
        "        self.dl_website = \"KDnuggets\"\r\n",
        "\r\n",
        "obj = Ai()\r\n",
        "\r\n",
        "ml_obj = obj.Machine_Learning()          \r\n",
        "\r\n",
        "dl_obj = ml_obj.DeepLearning()           # also written whole as Ai().Machine_Learning().DeepLearning()\r\n",
        "\r\n",
        "print(\"AI website \",obj.website)\r\n",
        "\r\n",
        "print(\"ML Website \",ml_obj.ml_website)\r\n",
        "\r\n",
        "print(\"DL website \",dl_obj.dl_website)"
      ],
      "execution_count": 4,
      "outputs": [
        {
          "output_type": "stream",
          "text": [
            "Inner class Constructor\n",
            "Inner Inner Class Constructor\n",
            "AI website  hasty.ai\n",
            "ML Website  MachineLearningmastery.com\n",
            "DL website  KDnuggets\n"
          ],
          "name": "stdout"
        }
      ]
    },
    {
      "cell_type": "markdown",
      "metadata": {
        "id": "Dc85Jtcn-xkm"
      },
      "source": [
        "Here we know that,\r\n",
        "\r\n",
        "      ML is the subset of AI.\r\n",
        "\r\n",
        "      DL is the subset of ML.\r\n",
        "\r\n",
        "      So, we are creating two different inner classes."
      ]
    },
    {
      "cell_type": "markdown",
      "metadata": {
        "id": "-MEHG1lG_s1K"
      },
      "source": [
        "#### Example 2 "
      ]
    },
    {
      "cell_type": "code",
      "metadata": {
        "colab": {
          "base_uri": "https://localhost:8080/"
        },
        "id": "Y_eYJtsH-WH1",
        "outputId": "3b0129f6-7ee9-4b2f-eea5-bc1daf00e99f"
      },
      "source": [
        "class Student:\r\n",
        "  def __init__(self):\r\n",
        "    self.email = \"suryapeddinti946@gmail.com\"\r\n",
        "    self.branch = \"CSE\"\r\n",
        "    self.subjects = Student.Subjects()          # Creating inner class object using outer class\r\n",
        "    \r\n",
        "  def show(self):\r\n",
        "    self.subjects.display()\r\n",
        "    \r\n",
        "  class Subjects:\r\n",
        "    def __init__(self):\r\n",
        "      self.delt = \"Mathematics 1\"\r\n",
        "      self.os = \"Operating System\"\r\n",
        "      self.pem = \"Principle Of Economics\"\r\n",
        "    \r\n",
        "    def display(self):\r\n",
        "      print(self.delt)\r\n",
        "      print(self.os)\r\n",
        "      print(self.pem)\r\n",
        "\r\n",
        "s = Student()\r\n",
        "s.show()"
      ],
      "execution_count": 7,
      "outputs": [
        {
          "output_type": "stream",
          "text": [
            "Mathematics 1\n",
            "Operating System\n",
            "Principle Of Economics\n"
          ],
          "name": "stdout"
        }
      ]
    },
    {
      "cell_type": "markdown",
      "metadata": {
        "id": "fE_nVR4cDVzg"
      },
      "source": [
        "`Here we are creating instance variable reference for inner class object...`"
      ]
    }
  ]
}