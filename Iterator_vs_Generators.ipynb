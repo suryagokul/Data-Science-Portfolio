{
  "nbformat": 4,
  "nbformat_minor": 0,
  "metadata": {
    "colab": {
      "name": "Iterator vs Generators.ipynb",
      "provenance": [],
      "authorship_tag": "ABX9TyPlsB+eof69J8EGpNDbM7Ks",
      "include_colab_link": true
    },
    "kernelspec": {
      "name": "python3",
      "display_name": "Python 3"
    }
  },
  "cells": [
    {
      "cell_type": "markdown",
      "metadata": {
        "id": "view-in-github",
        "colab_type": "text"
      },
      "source": [
        "<a href=\"https://colab.research.google.com/github/suryagokul/Data-Science-Portfolio/blob/master/Iterator_vs_Generators.ipynb\" target=\"_parent\"><img src=\"https://colab.research.google.com/assets/colab-badge.svg\" alt=\"Open In Colab\"/></a>"
      ]
    },
    {
      "cell_type": "markdown",
      "metadata": {
        "id": "rK-Zg56ybyAB"
      },
      "source": [
        "### **Iterator** "
      ]
    },
    {
      "cell_type": "markdown",
      "metadata": {
        "id": "UH6Ofu1Pcyyl"
      },
      "source": [
        "`An iterator in Python serves as a holder for objects so that they can be iterated over.`"
      ]
    },
    {
      "cell_type": "markdown",
      "metadata": {
        "id": "mXawAGDlc8m2"
      },
      "source": [
        "`The __iter__() method returns the iterator object. This is required to allow an iterator to be used with the for and in statements.`\r\n",
        "\r\n",
        "`The __next__() method returns the next element in the sequence. In the case of a finite iterator, once it reaches the end (defined by the termination condition), all of the subsequent calls to this method should should raise an exception.`\r\n",
        "\r\n"
      ]
    },
    {
      "cell_type": "markdown",
      "metadata": {
        "id": "MVXV5_cTePD5"
      },
      "source": [
        "**Iterator Implementation Using Classes**"
      ]
    },
    {
      "cell_type": "code",
      "metadata": {
        "colab": {
          "base_uri": "https://localhost:8080/"
        },
        "id": "VsJBnJxEbjIY",
        "outputId": "3d88517a-5c30-4041-8b24-9e1475b0e10e"
      },
      "source": [
        "class UpTo:\r\n",
        "  def __init__(self, max):\r\n",
        "    self.max = max\r\n",
        "  def __iter__(self):\r\n",
        "    self.n = 0\r\n",
        "    return self\r\n",
        "  def __next__(self):\r\n",
        "    if self.n > self.max:\r\n",
        "      raise StopIteration\r\n",
        "    else:\r\n",
        "      result = self.n\r\n",
        "      self.n += 1\r\n",
        "      return result\r\n",
        "\r\n",
        "\r\n",
        "for number in UpTo(5):\r\n",
        " print(number)"
      ],
      "execution_count": 20,
      "outputs": [
        {
          "output_type": "stream",
          "text": [
            "0\n",
            "1\n",
            "2\n",
            "3\n",
            "4\n",
            "5\n"
          ],
          "name": "stdout"
        }
      ]
    },
    {
      "cell_type": "markdown",
      "metadata": {
        "id": "iACaKEO9hat3"
      },
      "source": [
        "**Explanation of code :**\r\n",
        "\r\n",
        "Steps : \r\n",
        "\r\n",
        "1. `Passing 5 to UpTo class constructor.`\r\n",
        "\r\n",
        "2. `We are initializing maximum value as 5 in the constructor.`\r\n",
        "\r\n",
        "3. `In iter for current object we are creating a instance variable n which initializes to zero initially.n is nothing but iterator in this case number.`\r\n",
        "\r\n",
        "4. `In next we are checking condition i.e if iterator greater than maximum value then raise Exception **StopIteration** else goto step 5.`\r\n",
        "\r\n",
        ">> `StopIteration is an iterator's way of saying it has reached the end. When you iterate using a for loop, the exception is caught internally and used to terminate the loop. When you call next() explicitly, you should be prepared to catch the exception yourself.like - \r\n",
        "no = UpTo(5)\r\n",
        "iter(no)\r\n",
        "next(no)\r\n",
        "while True:\r\n",
        "  try:next(no), next(no), next(no), next(no), next(no), next(no)\r\n",
        "  except StopIteration:\r\n",
        "    break`\r\n",
        "\r\n",
        "5. `Otherwise increment the iterator from zero and before than store it in another variable and then return this variable to print...` "
      ]
    },
    {
      "cell_type": "markdown",
      "metadata": {
        "id": "MDzl_EKRlxEa"
      },
      "source": [
        "### Genearator "
      ]
    },
    {
      "cell_type": "markdown",
      "metadata": {
        "id": "oDiorNZrl4dN"
      },
      "source": [
        "`A generator facilitates the creation of a custom iterator.`\r\n",
        "\r\n",
        "<img src=\"https://www.educative.io/api/edpresso/shot/5980567684251648/image/5139182349451264\"/>\r\n",
        "\r\n",
        "\r\n",
        "`Remember that a return statement terminates the execution of a function entirely, whereas, the yield statement saves the function state and resumes its execution, from this point, upon subsequent calls.`"
      ]
    },
    {
      "cell_type": "code",
      "metadata": {
        "colab": {
          "base_uri": "https://localhost:8080/"
        },
        "id": "DKJ5AUWWf6I0",
        "outputId": "7afe5fa3-209c-4918-f030-fb3f08b446fb"
      },
      "source": [
        "# A function is said to be generator function, if it yields values using `yield` keyword.\r\n",
        "def upto(max_val):\r\n",
        "  for i in range(max_val+1):\r\n",
        "    yield i+1 \r\n",
        "\r\n",
        "for number in upto(5):\r\n",
        "  print(number)"
      ],
      "execution_count": 26,
      "outputs": [
        {
          "output_type": "stream",
          "text": [
            "1\n",
            "2\n",
            "3\n",
            "4\n",
            "5\n",
            "6\n",
            "7\n"
          ],
          "name": "stdout"
        }
      ]
    },
    {
      "cell_type": "code",
      "metadata": {
        "id": "YjDZDc7Try96"
      },
      "source": [
        " def generate_integers(N):\r\n",
        "    for i in range(N):\r\n",
        "      yield i"
      ],
      "execution_count": 33,
      "outputs": []
    },
    {
      "cell_type": "code",
      "metadata": {
        "colab": {
          "base_uri": "https://localhost:8080/"
        },
        "id": "tcl7Miy5r2v_",
        "outputId": "5fca2a78-aa0c-4278-c05f-fa6a534cd362"
      },
      "source": [
        "gen = generate_integers(3)\r\n",
        "gen"
      ],
      "execution_count": 34,
      "outputs": [
        {
          "output_type": "execute_result",
          "data": {
            "text/plain": [
              "<generator object generate_integers at 0x7f2344e8ee08>"
            ]
          },
          "metadata": {
            "tags": []
          },
          "execution_count": 34
        }
      ]
    },
    {
      "cell_type": "code",
      "metadata": {
        "colab": {
          "base_uri": "https://localhost:8080/"
        },
        "id": "DpmVhTXjr7eH",
        "outputId": "227eec0e-659b-40fa-c3aa-a6d0143fa906"
      },
      "source": [
        "next(gen)\r\n",
        "\r\n",
        "next(gen)\r\n",
        "\r\n",
        "next(gen)"
      ],
      "execution_count": 36,
      "outputs": [
        {
          "output_type": "execute_result",
          "data": {
            "text/plain": [
              "3"
            ]
          },
          "metadata": {
            "tags": []
          },
          "execution_count": 36
        }
      ]
    },
    {
      "cell_type": "markdown",
      "metadata": {
        "id": "nfkz_0RYsPYL"
      },
      "source": [
        "### Differences and Indepth Intuition"
      ]
    },
    {
      "cell_type": "markdown",
      "metadata": {
        "id": "R-HqJRlXqj14"
      },
      "source": [
        "**Return**\r\n",
        "\r\n",
        "`The return statement is where all the local variables are destroyed and the resulting value is given back (returned) to the caller. Should the same function be called some time later, the function will get a fresh new set of variables.`\r\n",
        "\r\n",
        "**Yield**\r\n",
        "\r\n",
        "`But what if the local variables aren't thrown away when we exit a function? This implies that we can resume the function where we left off. This is where the concept of generators are introduced and the yield statement resumes where the function left off.`"
      ]
    },
    {
      "cell_type": "markdown",
      "metadata": {
        "id": "8Q-n0JBqsYkd"
      },
      "source": [
        "`So that's the difference between return and yield statements in Python.Yield statement is what makes a function a generator function.So generators are a simple and powerful tool for creating iterators. They are written like regular functions, but they use the yield statement whenever they want to return data. Each time next() is called, the generator resumes where it left off (it remembers all the data values and which statement was last executed).`"
      ]
    },
    {
      "cell_type": "markdown",
      "metadata": {
        "id": "PUQKkh04wO8J"
      },
      "source": [
        "<table>\r\n",
        "<thead>\r\n",
        "<tr>\r\n",
        "<th style=\"text-align:right\"><strong>Generator</strong></th>\r\n",
        "<th style=\"text-align:center\"><strong>Iterator</strong></th>\r\n",
        "</tr>\r\n",
        "</thead>\r\n",
        "<tbody>\r\n",
        "<tr>\r\n",
        "<td style=\"text-align:right\">Implemented using a function.</td>\r\n",
        "<td style=\"text-align:center\">Implemented using a class.</td>\r\n",
        "</tr>\r\n",
        "<tr>\r\n",
        "<td style=\"text-align:right\">Uses the <code>yield</code> keyword.</td>\r\n",
        "<td style=\"text-align:center\">Does not use the <code>yield</code> keyword.</td>\r\n",
        "</tr>\r\n",
        "<tr>\r\n",
        "<td style=\"text-align:right\">Usage results in a concise code.</td>\r\n",
        "<td style=\"text-align:center\">Usage results in a relatively less concise code.</td>\r\n",
        "</tr>\r\n",
        "<tr>\r\n",
        "<td style=\"text-align:right\">All the local variables before the <code>yield</code> statements are stored.</td>\r\n",
        "<td style=\"text-align:center\">No local variables are used.</td>\r\n",
        "</tr>\r\n",
        "</tbody>\r\n",
        "</table>"
      ]
    },
    {
      "cell_type": "markdown",
      "metadata": {
        "id": "DhImVWcWsmoK"
      },
      "source": [
        "`Real World Example`\r\n",
        "\r\n",
        "Let's say you have 100 million domains in your MySQL table, and you would like to update Alexa rank for each domain.\r\n",
        "\r\n",
        "First thing you need is to select your domain names from the database.\r\n",
        "\r\n",
        "Let's say your table name is domains and column name is domain.\r\n",
        "\r\n",
        "If you use `SELECT domain FROM domains` it's going to return 100 million rows which is going to `consume lot of memory`. So your server might crash.\r\n",
        "\r\n",
        "So you decided to `run the program in batches`. Let's say our batch size is 1000.\r\n",
        "\r\n",
        "In our first batch we will query the first 1000 rows, check Alexa rank for each domain and update the database row.\r\n",
        "\r\n",
        "In our second batch we will work on the next 1000 rows. In our third batch it will be from 2001 to 3000 and so on.\r\n",
        "\r\n",
        "Now we need a generator function which generates our batches.\r\n",
        "\r\n",
        "Here is our generator function:"
      ]
    },
    {
      "cell_type": "code",
      "metadata": {
        "id": "jCta7j-Sn5yj"
      },
      "source": [
        "def ResultGenerator(cursor, batchsize=1000):\r\n",
        "    while True:\r\n",
        "        results = cursor.fetchmany(batchsize)\r\n",
        "        if not results:\r\n",
        "            break\r\n",
        "        for result in results:\r\n",
        "            yield result"
      ],
      "execution_count": 37,
      "outputs": []
    },
    {
      "cell_type": "code",
      "metadata": {
        "colab": {
          "base_uri": "https://localhost:8080/",
          "height": 52
        },
        "id": "Y_ZXHRWFsw5E",
        "outputId": "66bc21fb-eeb0-44b6-ece3-5fdb9116ec74"
      },
      "source": [
        "\"\"\"db = MySQLdb.connect(host=\"localhost\", user=\"root\", passwd=\"root\", db=\"domains\")\r\n",
        "cursor = db.cursor()\r\n",
        "cursor.execute(\"SELECT domain FROM domains\")\r\n",
        "for result in ResultGenerator(cursor):\r\n",
        "    doSomethingWith(result)\r\n",
        "db.close()\"\"\""
      ],
      "execution_count": 48,
      "outputs": [
        {
          "output_type": "execute_result",
          "data": {
            "application/vnd.google.colaboratory.intrinsic+json": {
              "type": "string"
            },
            "text/plain": [
              "'db = MySQLdb.connect(host=\"localhost\", user=\"root\", passwd=\"root\", db=\"domains\")\\ncursor = db.cursor()\\ncursor.execute(\"SELECT domain FROM domains\")\\nfor result in ResultGenerator(cursor):\\n    doSomethingWith(result)\\ndb.close()'"
            ]
          },
          "metadata": {
            "tags": []
          },
          "execution_count": 48
        }
      ]
    },
    {
      "cell_type": "markdown",
      "metadata": {
        "id": "CNjEmWfGu6AO"
      },
      "source": [
        "`In deep learning we use batches of images to train because if we use whole at a time gives memory out of error...So we work with particular batch and after done then resume with next batch where it left off..`"
      ]
    }
  ]
}