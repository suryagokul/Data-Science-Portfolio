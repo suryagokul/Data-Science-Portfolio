{
  "nbformat": 4,
  "nbformat_minor": 0,
  "metadata": {
    "colab": {
      "name": "Hyper Parameter Tuning .ipynb",
      "provenance": [],
      "authorship_tag": "ABX9TyNeOdDd5jKbLAUTc0Hyf8ZM",
      "include_colab_link": true
    },
    "kernelspec": {
      "name": "python3",
      "display_name": "Python 3"
    }
  },
  "cells": [
    {
      "cell_type": "markdown",
      "metadata": {
        "id": "view-in-github",
        "colab_type": "text"
      },
      "source": [
        "<a href=\"https://colab.research.google.com/github/suryagokul/Data-Science-Portfolio/blob/master/Hyper_Parameter_Tuning_.ipynb\" target=\"_parent\"><img src=\"https://colab.research.google.com/assets/colab-badge.svg\" alt=\"Open In Colab\"/></a>"
      ]
    },
    {
      "cell_type": "markdown",
      "metadata": {
        "id": "uD6Wc1rVFA8Q"
      },
      "source": [
        "# Hyper Parameter Tuning\n",
        "\n",
        "          Techniques:\n",
        "                     \n",
        "                 1)RandomizedSearchCV\n",
        "                  \n",
        "                 2)GridSearchCV\n",
        "                      \n",
        "                 3)Automated Hyperparameter Tuning  Bayesian Optimization (hyperopt)\n",
        "\n",
        "                 4)Genetic Algorithms (TPOT Classifier)\n",
        "\n",
        "                 5)Optuna- Automate Hyperparameter Tuning\n",
        "\n",
        "\n",
        "\n",
        "\n",
        "\n",
        "\n",
        "                    "
      ]
    },
    {
      "cell_type": "code",
      "metadata": {
        "id": "N9xgvYCy5Qop"
      },
      "source": [
        "from seaborn import load_dataset\n",
        "\n",
        "import pandas as pd\n",
        "\n",
        "from sklearn.datasets import load_breast_cancer\n",
        "\n",
        "import numpy as np"
      ],
      "execution_count": 3,
      "outputs": []
    },
    {
      "cell_type": "code",
      "metadata": {
        "id": "tDJiVZcw5lmw"
      },
      "source": [
        "bc = load_breast_cancer()\n"
      ],
      "execution_count": 4,
      "outputs": []
    },
    {
      "cell_type": "code",
      "metadata": {
        "id": "jCzg7dsP6700"
      },
      "source": [
        "X = bc.data\n",
        "y = bc.target"
      ],
      "execution_count": 5,
      "outputs": []
    },
    {
      "cell_type": "code",
      "metadata": {
        "id": "P29KVgkY7ZY2"
      },
      "source": [
        "from sklearn.model_selection import train_test_split"
      ],
      "execution_count": 6,
      "outputs": []
    },
    {
      "cell_type": "code",
      "metadata": {
        "id": "_AxROng87lnP"
      },
      "source": [
        "X_train, X_test, y_train, y_test = train_test_split(X,y,test_size=0.33,random_state=42)"
      ],
      "execution_count": 85,
      "outputs": []
    },
    {
      "cell_type": "code",
      "metadata": {
        "id": "4cn1YPSlD3Ai",
        "outputId": "db9583fc-8a8f-4980-cc25-5451f749e8c6",
        "colab": {
          "base_uri": "https://localhost:8080/",
          "height": 34
        }
      },
      "source": [
        "y_test.shape"
      ],
      "execution_count": 86,
      "outputs": [
        {
          "output_type": "execute_result",
          "data": {
            "text/plain": [
              "(188,)"
            ]
          },
          "metadata": {
            "tags": []
          },
          "execution_count": 86
        }
      ]
    },
    {
      "cell_type": "code",
      "metadata": {
        "id": "bVlIDlQU7wAb"
      },
      "source": [
        "from sklearn.model_selection import RandomizedSearchCV\n",
        "\n",
        "from sklearn.ensemble import RandomForestClassifier"
      ],
      "execution_count": 87,
      "outputs": []
    },
    {
      "cell_type": "markdown",
      "metadata": {
        "id": "7d_Qn8vLFxYX"
      },
      "source": [
        "**Before RandomizedSearchCV**"
      ]
    },
    {
      "cell_type": "code",
      "metadata": {
        "id": "01ZZBfmy8VqM",
        "outputId": "aa4a48f1-f59b-4b34-b5c2-4b61197bc04e",
        "colab": {
          "base_uri": "https://localhost:8080/",
          "height": 153
        }
      },
      "source": [
        "rf = RandomForestClassifier()\n",
        "\n",
        "rf.get_params"
      ],
      "execution_count": 10,
      "outputs": [
        {
          "output_type": "execute_result",
          "data": {
            "text/plain": [
              "<bound method BaseEstimator.get_params of RandomForestClassifier(bootstrap=True, ccp_alpha=0.0, class_weight=None,\n",
              "                       criterion='gini', max_depth=None, max_features='auto',\n",
              "                       max_leaf_nodes=None, max_samples=None,\n",
              "                       min_impurity_decrease=0.0, min_impurity_split=None,\n",
              "                       min_samples_leaf=1, min_samples_split=2,\n",
              "                       min_weight_fraction_leaf=0.0, n_estimators=100,\n",
              "                       n_jobs=None, oob_score=False, random_state=None,\n",
              "                       verbose=0, warm_start=False)>"
            ]
          },
          "metadata": {
            "tags": []
          },
          "execution_count": 10
        }
      ]
    },
    {
      "cell_type": "code",
      "metadata": {
        "id": "BxPXeTpNEJAC",
        "outputId": "088df4e9-eef5-47a4-d4d0-170ffaa129a1",
        "colab": {
          "base_uri": "https://localhost:8080/",
          "height": 34
        }
      },
      "source": [
        "rf.fit(X_train,y_train)\n",
        "\n",
        "r_pred = rf.predict(X_test)\n",
        "\n",
        "rf.score(X_test,y_test)"
      ],
      "execution_count": 11,
      "outputs": [
        {
          "output_type": "execute_result",
          "data": {
            "text/plain": [
              "0.9574468085106383"
            ]
          },
          "metadata": {
            "tags": []
          },
          "execution_count": 11
        }
      ]
    },
    {
      "cell_type": "markdown",
      "metadata": {
        "id": "0M__6olrF4xD"
      },
      "source": [
        "Our score is pretty good before hyperparameter tuning techniques like given above"
      ]
    },
    {
      "cell_type": "markdown",
      "metadata": {
        "id": "yaxJWKGVGKtK"
      },
      "source": [
        "# RandomizedSearchCV"
      ]
    },
    {
      "cell_type": "code",
      "metadata": {
        "id": "7yNN9A8c8fS-"
      },
      "source": [
        "params = {'criterion':['gini','entropy'],\n",
        "          'n_estimators':[int(i) for i in np.linspace(150,2000,15)],\n",
        "          'max_depth':[int(i) for i in [5,10,20,100,200]],\n",
        "          'max_features':['auto','sqrt','log2'],\n",
        "          'min_samples_leaf':[1,3,5,7,9,11,15],\n",
        "          'min_samples_split':[5,7,8,10,12],\n",
        "          }"
      ],
      "execution_count": 12,
      "outputs": []
    },
    {
      "cell_type": "code",
      "metadata": {
        "id": "W80kIDd8-IHf"
      },
      "source": [
        "rf_Cv = RandomizedSearchCV(rf,param_distributions=params,cv=5)"
      ],
      "execution_count": 13,
      "outputs": []
    },
    {
      "cell_type": "code",
      "metadata": {
        "id": "qKsxHXa3-aGe",
        "outputId": "e7ffc8b8-a304-4be9-b62b-58804cd5fb7e",
        "colab": {
          "base_uri": "https://localhost:8080/",
          "height": 510
        }
      },
      "source": [
        "rf_Cv.fit(X_train,y_train)"
      ],
      "execution_count": 14,
      "outputs": [
        {
          "output_type": "execute_result",
          "data": {
            "text/plain": [
              "RandomizedSearchCV(cv=5, error_score=nan,\n",
              "                   estimator=RandomForestClassifier(bootstrap=True,\n",
              "                                                    ccp_alpha=0.0,\n",
              "                                                    class_weight=None,\n",
              "                                                    criterion='gini',\n",
              "                                                    max_depth=None,\n",
              "                                                    max_features='auto',\n",
              "                                                    max_leaf_nodes=None,\n",
              "                                                    max_samples=None,\n",
              "                                                    min_impurity_decrease=0.0,\n",
              "                                                    min_impurity_split=None,\n",
              "                                                    min_samples_leaf=1,\n",
              "                                                    min_samples_split=2,\n",
              "                                                    min_weight_fraction_leaf=0.0,\n",
              "                                                    n_estimators=100,\n",
              "                                                    n_jobs...\n",
              "                   param_distributions={'criterion': ['gini', 'entropy'],\n",
              "                                        'max_depth': [5, 10, 20, 100, 200],\n",
              "                                        'max_features': ['auto', 'sqrt',\n",
              "                                                         'log2'],\n",
              "                                        'min_samples_leaf': [1, 3, 5, 7, 9, 11,\n",
              "                                                             15],\n",
              "                                        'min_samples_split': [5, 7, 8, 10, 12],\n",
              "                                        'n_estimators': [150, 282, 414, 546,\n",
              "                                                         678, 810, 942, 1075,\n",
              "                                                         1207, 1339, 1471, 1603,\n",
              "                                                         1735, 1867, 2000]},\n",
              "                   pre_dispatch='2*n_jobs', random_state=None, refit=True,\n",
              "                   return_train_score=False, scoring=None, verbose=0)"
            ]
          },
          "metadata": {
            "tags": []
          },
          "execution_count": 14
        }
      ]
    },
    {
      "cell_type": "code",
      "metadata": {
        "id": "Of7EGVPT-r8I",
        "outputId": "adf7d416-d9bf-4b6e-d036-ce865d6e7ed0",
        "colab": {
          "base_uri": "https://localhost:8080/",
          "height": 119
        }
      },
      "source": [
        "rf_Cv.best_params_"
      ],
      "execution_count": 15,
      "outputs": [
        {
          "output_type": "execute_result",
          "data": {
            "text/plain": [
              "{'criterion': 'entropy',\n",
              " 'max_depth': 5,\n",
              " 'max_features': 'sqrt',\n",
              " 'min_samples_leaf': 1,\n",
              " 'min_samples_split': 5,\n",
              " 'n_estimators': 810}"
            ]
          },
          "metadata": {
            "tags": []
          },
          "execution_count": 15
        }
      ]
    },
    {
      "cell_type": "code",
      "metadata": {
        "id": "_MfrSxqICi95"
      },
      "source": [
        "rf_best = rf_Cv.best_estimator_"
      ],
      "execution_count": 16,
      "outputs": []
    },
    {
      "cell_type": "code",
      "metadata": {
        "id": "KDbkaBrCCnd7"
      },
      "source": [
        "from sklearn.metrics import confusion_matrix,classification_report,accuracy_score"
      ],
      "execution_count": 17,
      "outputs": []
    },
    {
      "cell_type": "code",
      "metadata": {
        "id": "li5baZg2DY8o"
      },
      "source": [
        "y_pred = rf_best.predict(X_test)"
      ],
      "execution_count": 18,
      "outputs": []
    },
    {
      "cell_type": "code",
      "metadata": {
        "id": "QIkGY8gADeCK",
        "outputId": "e5de20d0-70bb-4d8d-d5ce-2bc6abcbb670",
        "colab": {
          "base_uri": "https://localhost:8080/",
          "height": 34
        }
      },
      "source": [
        "accuracy_score(y_test,y_pred)"
      ],
      "execution_count": 19,
      "outputs": [
        {
          "output_type": "execute_result",
          "data": {
            "text/plain": [
              "0.9680851063829787"
            ]
          },
          "metadata": {
            "tags": []
          },
          "execution_count": 19
        }
      ]
    },
    {
      "cell_type": "markdown",
      "metadata": {
        "id": "EOG54oFPGSkW"
      },
      "source": [
        "After applying RandomizedSearchCV  score get increased slightly"
      ]
    },
    {
      "cell_type": "code",
      "metadata": {
        "id": "AKSnVki7DjA6",
        "outputId": "76451a84-f1f3-4e4a-de86-dbeec5f8a756",
        "colab": {
          "base_uri": "https://localhost:8080/",
          "height": 51
        }
      },
      "source": [
        "confusion_matrix(y_test,y_pred)"
      ],
      "execution_count": 20,
      "outputs": [
        {
          "output_type": "execute_result",
          "data": {
            "text/plain": [
              "array([[ 63,   4],\n",
              "       [  2, 119]])"
            ]
          },
          "metadata": {
            "tags": []
          },
          "execution_count": 20
        }
      ]
    },
    {
      "cell_type": "code",
      "metadata": {
        "id": "PIokRcbvDnqk",
        "outputId": "a2721547-6ab8-4e8b-a1f0-dfda4d1127c6",
        "colab": {
          "base_uri": "https://localhost:8080/",
          "height": 170
        }
      },
      "source": [
        "print(classification_report(y_test,y_pred))"
      ],
      "execution_count": 21,
      "outputs": [
        {
          "output_type": "stream",
          "text": [
            "              precision    recall  f1-score   support\n",
            "\n",
            "           0       0.97      0.94      0.95        67\n",
            "           1       0.97      0.98      0.98       121\n",
            "\n",
            "    accuracy                           0.97       188\n",
            "   macro avg       0.97      0.96      0.96       188\n",
            "weighted avg       0.97      0.97      0.97       188\n",
            "\n"
          ],
          "name": "stdout"
        }
      ]
    },
    {
      "cell_type": "markdown",
      "metadata": {
        "id": "8ypx3XBJGckd"
      },
      "source": [
        "# GridSearchCV"
      ]
    },
    {
      "cell_type": "code",
      "metadata": {
        "id": "47_jsZ40Gem6"
      },
      "source": [
        "from sklearn.model_selection import GridSearchCV"
      ],
      "execution_count": 28,
      "outputs": []
    },
    {
      "cell_type": "code",
      "metadata": {
        "id": "D-CEL_zc8sXV"
      },
      "source": [
        "params = {'criterion':['gini','entropy'],\n",
        "          'n_estimators':[int(i) for i in np.linspace(50,80,2)],\n",
        "          'max_depth':[int(i) for i in [10,20]],\n",
        "          'max_features':['auto','sqrt','log2'],\n",
        "          }"
      ],
      "execution_count": 29,
      "outputs": []
    },
    {
      "cell_type": "code",
      "metadata": {
        "id": "O2FLQajLGm1q"
      },
      "source": [
        "rf_grid = GridSearchCV(estimator=rf,param_grid=params,n_jobs=-1,cv=3,verbose=1)"
      ],
      "execution_count": 30,
      "outputs": []
    },
    {
      "cell_type": "code",
      "metadata": {
        "id": "pJtvUAhdHRbr",
        "outputId": "941db5c6-be1f-42b0-f331-08a65bf142a6",
        "colab": {
          "base_uri": "https://localhost:8080/",
          "height": 476
        }
      },
      "source": [
        "rf_grid.fit(X_train,y_train)"
      ],
      "execution_count": 31,
      "outputs": [
        {
          "output_type": "stream",
          "text": [
            "Fitting 3 folds for each of 24 candidates, totalling 72 fits\n"
          ],
          "name": "stdout"
        },
        {
          "output_type": "stream",
          "text": [
            "[Parallel(n_jobs=-1)]: Using backend LokyBackend with 2 concurrent workers.\n",
            "[Parallel(n_jobs=-1)]: Done  46 tasks      | elapsed:    5.0s\n",
            "[Parallel(n_jobs=-1)]: Done  72 out of  72 | elapsed:    7.5s finished\n"
          ],
          "name": "stderr"
        },
        {
          "output_type": "execute_result",
          "data": {
            "text/plain": [
              "GridSearchCV(cv=3, error_score=nan,\n",
              "             estimator=RandomForestClassifier(bootstrap=True, ccp_alpha=0.0,\n",
              "                                              class_weight=None,\n",
              "                                              criterion='gini', max_depth=None,\n",
              "                                              max_features='auto',\n",
              "                                              max_leaf_nodes=None,\n",
              "                                              max_samples=None,\n",
              "                                              min_impurity_decrease=0.0,\n",
              "                                              min_impurity_split=None,\n",
              "                                              min_samples_leaf=1,\n",
              "                                              min_samples_split=2,\n",
              "                                              min_weight_fraction_leaf=0.0,\n",
              "                                              n_estimators=100, n_jobs=None,\n",
              "                                              oob_score=False,\n",
              "                                              random_state=None, verbose=0,\n",
              "                                              warm_start=False),\n",
              "             iid='deprecated', n_jobs=-1,\n",
              "             param_grid={'criterion': ['gini', 'entropy'],\n",
              "                         'max_depth': [10, 20],\n",
              "                         'max_features': ['auto', 'sqrt', 'log2'],\n",
              "                         'n_estimators': [50, 80]},\n",
              "             pre_dispatch='2*n_jobs', refit=True, return_train_score=False,\n",
              "             scoring=None, verbose=1)"
            ]
          },
          "metadata": {
            "tags": []
          },
          "execution_count": 31
        }
      ]
    },
    {
      "cell_type": "code",
      "metadata": {
        "id": "jdJ3dILOHYhR",
        "outputId": "88e041cf-3ae0-49c6-d158-521da4c6a0c8",
        "colab": {
          "base_uri": "https://localhost:8080/",
          "height": 85
        }
      },
      "source": [
        "rf_grid.best_params_"
      ],
      "execution_count": 32,
      "outputs": [
        {
          "output_type": "execute_result",
          "data": {
            "text/plain": [
              "{'criterion': 'entropy',\n",
              " 'max_depth': 10,\n",
              " 'max_features': 'sqrt',\n",
              " 'n_estimators': 80}"
            ]
          },
          "metadata": {
            "tags": []
          },
          "execution_count": 32
        }
      ]
    },
    {
      "cell_type": "code",
      "metadata": {
        "id": "M_IalM_lF056"
      },
      "source": [
        "gd_pred = rf_grid.predict(X_test)"
      ],
      "execution_count": 99,
      "outputs": []
    },
    {
      "cell_type": "code",
      "metadata": {
        "id": "xc7NcHFaF1EQ",
        "outputId": "d3ee18d5-e2be-46f9-90c5-9be20311b5a6",
        "colab": {
          "base_uri": "https://localhost:8080/",
          "height": 34
        }
      },
      "source": [
        "accuracy_score(y_test,gd_pred)"
      ],
      "execution_count": 100,
      "outputs": [
        {
          "output_type": "execute_result",
          "data": {
            "text/plain": [
              "0.9521276595744681"
            ]
          },
          "metadata": {
            "tags": []
          },
          "execution_count": 100
        }
      ]
    },
    {
      "cell_type": "code",
      "metadata": {
        "id": "BE-4MWcPF1WV",
        "outputId": "c909d62e-6216-4ade-b69d-52ad7288b155",
        "colab": {
          "base_uri": "https://localhost:8080/",
          "height": 51
        }
      },
      "source": [
        "confusion_matrix(y_test,gd_pred)"
      ],
      "execution_count": 101,
      "outputs": [
        {
          "output_type": "execute_result",
          "data": {
            "text/plain": [
              "array([[ 62,   5],\n",
              "       [  4, 117]])"
            ]
          },
          "metadata": {
            "tags": []
          },
          "execution_count": 101
        }
      ]
    },
    {
      "cell_type": "code",
      "metadata": {
        "id": "VLMvI_fXGFRd",
        "outputId": "2712e191-6ece-4b59-a18b-7663ba714f83",
        "colab": {
          "base_uri": "https://localhost:8080/",
          "height": 170
        }
      },
      "source": [
        "print(classification_report(y_test,gd_pred))"
      ],
      "execution_count": 102,
      "outputs": [
        {
          "output_type": "stream",
          "text": [
            "              precision    recall  f1-score   support\n",
            "\n",
            "           0       0.94      0.93      0.93        67\n",
            "           1       0.96      0.97      0.96       121\n",
            "\n",
            "    accuracy                           0.95       188\n",
            "   macro avg       0.95      0.95      0.95       188\n",
            "weighted avg       0.95      0.95      0.95       188\n",
            "\n"
          ],
          "name": "stdout"
        }
      ]
    },
    {
      "cell_type": "markdown",
      "metadata": {
        "id": "nJMPPqNBCxhI"
      },
      "source": [
        "# Automated Hyperparameter Tuning\n",
        "Automated Hyperparameter Tuning can be done by using techniques such as\n",
        "\n",
        "\n",
        "1.  Bayesian Optimization\n",
        "2.   Gradient Descent\n",
        "3.  Evolutionary Algorithms\n",
        "\n",
        "**Bayesian Optimization**\n",
        "\n",
        "> Bayesian optimization uses probability to find the minimum of a function. The final aim is to find the input value to a function which can gives us the lowest possible output value.It usually performs better than random,grid and manual search providing better performance in the testing phase and reduced optimization time. In Hyperopt, Bayesian Optimization can be implemented giving 3 three main parameters to the function fmin.\n",
        "\n",
        "\n",
        "1. Objective Function = defines the loss function to minimize.\n",
        "2. Domain Space = defines the range of input values to test (in Bayesian Optimization this space creates a probability distribution for each of the used Hyperparameters).\n",
        "3. Optimization Algorithm = defines the search algorithm to use to select the best input values to use in each new iteration.\n",
        " \n",
        "\n",
        "\n"
      ]
    },
    {
      "cell_type": "code",
      "metadata": {
        "id": "8oNEBU89H86n",
        "outputId": "e7e07838-b5b0-453b-e85c-0739e572c495",
        "colab": {
          "base_uri": "https://localhost:8080/",
          "height": 170
        }
      },
      "source": [
        "!pip install hyperopt "
      ],
      "execution_count": 33,
      "outputs": [
        {
          "output_type": "stream",
          "text": [
            "Requirement already satisfied: hyperopt in /usr/local/lib/python3.6/dist-packages (0.1.2)\n",
            "Requirement already satisfied: six in /usr/local/lib/python3.6/dist-packages (from hyperopt) (1.15.0)\n",
            "Requirement already satisfied: networkx in /usr/local/lib/python3.6/dist-packages (from hyperopt) (2.5)\n",
            "Requirement already satisfied: pymongo in /usr/local/lib/python3.6/dist-packages (from hyperopt) (3.11.0)\n",
            "Requirement already satisfied: scipy in /usr/local/lib/python3.6/dist-packages (from hyperopt) (1.4.1)\n",
            "Requirement already satisfied: numpy in /usr/local/lib/python3.6/dist-packages (from hyperopt) (1.18.5)\n",
            "Requirement already satisfied: tqdm in /usr/local/lib/python3.6/dist-packages (from hyperopt) (4.41.1)\n",
            "Requirement already satisfied: future in /usr/local/lib/python3.6/dist-packages (from hyperopt) (0.16.0)\n",
            "Requirement already satisfied: decorator>=4.3.0 in /usr/local/lib/python3.6/dist-packages (from networkx->hyperopt) (4.4.2)\n"
          ],
          "name": "stdout"
        }
      ]
    },
    {
      "cell_type": "code",
      "metadata": {
        "id": "mtNZ1wz2I1j9"
      },
      "source": [
        "from hyperopt import hp,tpe,fmin,Trials,STATUS_OK"
      ],
      "execution_count": 88,
      "outputs": []
    },
    {
      "cell_type": "code",
      "metadata": {
        "id": "5moO-cOnDMCB"
      },
      "source": [
        "space = {'criterion': hp.choice('criterion', ['entropy', 'gini']),\n",
        "        'max_depth': hp.quniform('max_depth', 10, 1200, 10),\n",
        "        'max_features': hp.choice('max_features', ['auto', 'sqrt','log2', None]),\n",
        "        'min_samples_leaf': hp.uniform('min_samples_leaf', 0, 0.5),\n",
        "        'min_samples_split' : hp.uniform ('min_samples_split', 0, 1),\n",
        "        'n_estimators' : hp.choice('n_estimators', [10, 50, 300, 750, 1200,1300,1500])\n",
        "    }"
      ],
      "execution_count": 92,
      "outputs": []
    },
    {
      "cell_type": "code",
      "metadata": {
        "id": "aFWjdHR4DNaZ",
        "outputId": "41b96d99-fb3f-48d6-f900-8d8eede6c28a",
        "colab": {
          "base_uri": "https://localhost:8080/",
          "height": 119
        }
      },
      "source": [
        "space"
      ],
      "execution_count": 93,
      "outputs": [
        {
          "output_type": "execute_result",
          "data": {
            "text/plain": [
              "{'criterion': <hyperopt.pyll.base.Apply at 0x7f7068d03c88>,\n",
              " 'max_depth': <hyperopt.pyll.base.Apply at 0x7f7068dc94e0>,\n",
              " 'max_features': <hyperopt.pyll.base.Apply at 0x7f7068dc9668>,\n",
              " 'min_samples_leaf': <hyperopt.pyll.base.Apply at 0x7f7068dc9780>,\n",
              " 'min_samples_split': <hyperopt.pyll.base.Apply at 0x7f7068dc94a8>,\n",
              " 'n_estimators': <hyperopt.pyll.base.Apply at 0x7f7068dc99b0>}"
            ]
          },
          "metadata": {
            "tags": []
          },
          "execution_count": 93
        }
      ]
    },
    {
      "cell_type": "code",
      "metadata": {
        "id": "V0hnVRhPDRKQ"
      },
      "source": [
        "def objective(space):\n",
        "    model = RandomForestClassifier(criterion = space['criterion'], max_depth = space['max_depth'],\n",
        "                                 max_features = space['max_features'],\n",
        "                                 min_samples_leaf = space['min_samples_leaf'],\n",
        "                                 min_samples_split = space['min_samples_split'],\n",
        "                                 n_estimators = space['n_estimators'], \n",
        "                                 )\n",
        "    \n",
        "    accuracy = cross_val_score(model, X_train, y_train, cv = 5).mean()\n",
        "\n",
        "    # We aim to maximize accuracy, therefore we return it as a negative value\n",
        "    return {'loss': -accuracy, 'status': STATUS_OK }"
      ],
      "execution_count": 94,
      "outputs": []
    },
    {
      "cell_type": "code",
      "metadata": {
        "id": "Ft8IA1OZDSX4",
        "outputId": "27712fac-8a85-4e61-cbf3-481107fa0bd4",
        "colab": {
          "base_uri": "https://localhost:8080/",
          "height": 136
        }
      },
      "source": [
        "from sklearn.model_selection import cross_val_score\n",
        "trials = Trials()\n",
        "best = fmin(fn= objective,\n",
        "            space= space,\n",
        "            algo= tpe.suggest,\n",
        "            max_evals = 80,\n",
        "            trials= trials)\n",
        "best"
      ],
      "execution_count": 95,
      "outputs": [
        {
          "output_type": "stream",
          "text": [
            "100%|██████████| 80/80 [09:20<00:00,  7.01s/it, best loss: -0.9501025290498974]\n"
          ],
          "name": "stdout"
        },
        {
          "output_type": "execute_result",
          "data": {
            "text/plain": [
              "{'criterion': 1,\n",
              " 'max_depth': 700.0,\n",
              " 'max_features': 2,\n",
              " 'min_samples_leaf': 0.0110157452134266,\n",
              " 'min_samples_split': 0.014308212012269774,\n",
              " 'n_estimators': 4}"
            ]
          },
          "metadata": {
            "tags": []
          },
          "execution_count": 95
        }
      ]
    },
    {
      "cell_type": "code",
      "metadata": {
        "id": "zMLA8vuqNg-G",
        "outputId": "7f2303c3-fbfb-4023-ea2d-472951176375",
        "colab": {
          "base_uri": "https://localhost:8080/",
          "height": 68
        }
      },
      "source": [
        "crit = {0: 'entropy', 1: 'gini'}\n",
        "feat = {0: 'auto', 1: 'sqrt', 2: 'log2', 3: None}\n",
        "est = {0: 10, 1: 50, 2: 300, 3: 750, 4: 1200,5:1300,6:1500}\n",
        "\n",
        "\n",
        "print(crit[best['criterion']])\n",
        "print(feat[best['max_features']])\n",
        "print(est[best['n_estimators']])"
      ],
      "execution_count": 96,
      "outputs": [
        {
          "output_type": "stream",
          "text": [
            "gini\n",
            "log2\n",
            "1200\n"
          ],
          "name": "stdout"
        }
      ]
    },
    {
      "cell_type": "code",
      "metadata": {
        "id": "NMXTwKC5O14R",
        "outputId": "288e568b-92bc-4183-f088-ff6f958cb5b7",
        "colab": {
          "base_uri": "https://localhost:8080/",
          "height": 221
        }
      },
      "source": [
        "trainedforest = RandomForestClassifier(criterion = crit[best['criterion']], max_depth = best['max_depth'], \n",
        "                                       max_features = feat[best['max_features']], \n",
        "                                       min_samples_leaf = best['min_samples_leaf'], \n",
        "                                       min_samples_split = best['min_samples_split'], \n",
        "                                       n_estimators = est[best['n_estimators']]).fit(X_train,y_train)\n",
        "predictionforest = trainedforest.predict(X_test)\n",
        "print(confusion_matrix(y_test,predictionforest))\n",
        "print(accuracy_score(y_test,predictionforest))\n",
        "print(classification_report(y_test,predictionforest))\n",
        "acc5 = accuracy_score(y_test,predictionforest)"
      ],
      "execution_count": 97,
      "outputs": [
        {
          "output_type": "stream",
          "text": [
            "[[ 63   4]\n",
            " [  2 119]]\n",
            "0.9680851063829787\n",
            "              precision    recall  f1-score   support\n",
            "\n",
            "           0       0.97      0.94      0.95        67\n",
            "           1       0.97      0.98      0.98       121\n",
            "\n",
            "    accuracy                           0.97       188\n",
            "   macro avg       0.97      0.96      0.96       188\n",
            "weighted avg       0.97      0.97      0.97       188\n",
            "\n"
          ],
          "name": "stdout"
        }
      ]
    },
    {
      "cell_type": "markdown",
      "metadata": {
        "id": "FKox8BUZGTeI"
      },
      "source": [
        "# Genetic Algorithms"
      ]
    },
    {
      "cell_type": "code",
      "metadata": {
        "id": "ovVH5JvHFqVo",
        "outputId": "002154ee-e27a-4c94-de2c-fe935bbbc80e",
        "colab": {
          "base_uri": "https://localhost:8080/",
          "height": 564
        }
      },
      "source": [
        "!pip install tpot"
      ],
      "execution_count": 103,
      "outputs": [
        {
          "output_type": "stream",
          "text": [
            "Collecting tpot\n",
            "\u001b[?25l  Downloading https://files.pythonhosted.org/packages/14/5e/cb87b0257033a7a396e533a634079ee151a239d180efe2a8b1d2e3584d23/TPOT-0.11.5-py3-none-any.whl (82kB)\n",
            "\u001b[K     |████████████████████████████████| 92kB 1.3MB/s \n",
            "\u001b[?25hRequirement already satisfied: scipy>=1.3.1 in /usr/local/lib/python3.6/dist-packages (from tpot) (1.4.1)\n",
            "Requirement already satisfied: tqdm>=4.36.1 in /usr/local/lib/python3.6/dist-packages (from tpot) (4.41.1)\n",
            "Requirement already satisfied: joblib>=0.13.2 in /usr/local/lib/python3.6/dist-packages (from tpot) (0.16.0)\n",
            "Requirement already satisfied: numpy>=1.16.3 in /usr/local/lib/python3.6/dist-packages (from tpot) (1.18.5)\n",
            "Collecting deap>=1.2\n",
            "\u001b[?25l  Downloading https://files.pythonhosted.org/packages/0a/eb/2bd0a32e3ce757fb26264765abbaedd6d4d3640d90219a513aeabd08ee2b/deap-1.3.1-cp36-cp36m-manylinux2010_x86_64.whl (157kB)\n",
            "\u001b[K     |████████████████████████████████| 163kB 3.8MB/s \n",
            "\u001b[?25hCollecting stopit>=1.1.1\n",
            "  Downloading https://files.pythonhosted.org/packages/35/58/e8bb0b0fb05baf07bbac1450c447d753da65f9701f551dca79823ce15d50/stopit-1.1.2.tar.gz\n",
            "Requirement already satisfied: scikit-learn>=0.22.0 in /usr/local/lib/python3.6/dist-packages (from tpot) (0.22.2.post1)\n",
            "Requirement already satisfied: pandas>=0.24.2 in /usr/local/lib/python3.6/dist-packages (from tpot) (1.1.2)\n",
            "Collecting update-checker>=0.16\n",
            "  Downloading https://files.pythonhosted.org/packages/0c/ba/8dd7fa5f0b1c6a8ac62f8f57f7e794160c1f86f31c6d0fb00f582372a3e4/update_checker-0.18.0-py3-none-any.whl\n",
            "Requirement already satisfied: python-dateutil>=2.7.3 in /usr/local/lib/python3.6/dist-packages (from pandas>=0.24.2->tpot) (2.8.1)\n",
            "Requirement already satisfied: pytz>=2017.2 in /usr/local/lib/python3.6/dist-packages (from pandas>=0.24.2->tpot) (2018.9)\n",
            "Requirement already satisfied: requests>=2.3.0 in /usr/local/lib/python3.6/dist-packages (from update-checker>=0.16->tpot) (2.23.0)\n",
            "Requirement already satisfied: six>=1.5 in /usr/local/lib/python3.6/dist-packages (from python-dateutil>=2.7.3->pandas>=0.24.2->tpot) (1.15.0)\n",
            "Requirement already satisfied: urllib3!=1.25.0,!=1.25.1,<1.26,>=1.21.1 in /usr/local/lib/python3.6/dist-packages (from requests>=2.3.0->update-checker>=0.16->tpot) (1.24.3)\n",
            "Requirement already satisfied: certifi>=2017.4.17 in /usr/local/lib/python3.6/dist-packages (from requests>=2.3.0->update-checker>=0.16->tpot) (2020.6.20)\n",
            "Requirement already satisfied: chardet<4,>=3.0.2 in /usr/local/lib/python3.6/dist-packages (from requests>=2.3.0->update-checker>=0.16->tpot) (3.0.4)\n",
            "Requirement already satisfied: idna<3,>=2.5 in /usr/local/lib/python3.6/dist-packages (from requests>=2.3.0->update-checker>=0.16->tpot) (2.10)\n",
            "Building wheels for collected packages: stopit\n",
            "  Building wheel for stopit (setup.py) ... \u001b[?25l\u001b[?25hdone\n",
            "  Created wheel for stopit: filename=stopit-1.1.2-cp36-none-any.whl size=11956 sha256=16b930c37b31c87cc7acbf76207e36c2457a5dca4fd3fc13ca8fcffa88832a32\n",
            "  Stored in directory: /root/.cache/pip/wheels/3c/85/2b/2580190404636bfc63e8de3dff629c03bb795021e1983a6cc7\n",
            "Successfully built stopit\n",
            "Installing collected packages: deap, stopit, update-checker, tpot\n",
            "Successfully installed deap-1.3.1 stopit-1.1.2 tpot-0.11.5 update-checker-0.18.0\n"
          ],
          "name": "stdout"
        }
      ]
    },
    {
      "cell_type": "code",
      "metadata": {
        "id": "SqHkuKU0GRnW"
      },
      "source": [
        "from tpot import TPOTClassifier"
      ],
      "execution_count": 104,
      "outputs": []
    },
    {
      "cell_type": "code",
      "metadata": {
        "id": "-TuBir2cGh3L"
      },
      "source": [
        "param_tpot = {'criterion':['gini','entropy'],\n",
        "          'n_estimators':[int(i) for i in np.linspace(150,2000,15)],\n",
        "          'max_depth':[int(i) for i in [5,10,20,100,200]],\n",
        "          'max_features':['auto','sqrt','log2'],\n",
        "          'min_samples_leaf':[1,3,5,7,9,11,15],\n",
        "          'min_samples_split':[5,7,8,10,12],\n",
        "          }"
      ],
      "execution_count": 105,
      "outputs": []
    },
    {
      "cell_type": "code",
      "metadata": {
        "id": "bMXbJ2TtGwh8"
      },
      "source": [
        "tpotclf = TPOTClassifier(generations=5,population_size=15,offspring_size=5,verbosity=1,cv=3,scoring='accuracy',early_stop=10,config_dict={'sklearn.ensemble.RandomForestClassifier':param_tpot})"
      ],
      "execution_count": 110,
      "outputs": []
    },
    {
      "cell_type": "code",
      "metadata": {
        "id": "0In0XKxZHOXx",
        "outputId": "c26adb74-5f90-47e4-cdca-391c5a736b4d",
        "colab": {
          "base_uri": "https://localhost:8080/",
          "height": 819
        }
      },
      "source": [
        "tpotclf.fit(X_train,y_train)"
      ],
      "execution_count": 111,
      "outputs": [
        {
          "output_type": "stream",
          "text": [
            "Best pipeline: RandomForestClassifier(CombineDFs(input_matrix, input_matrix), criterion=entropy, max_depth=10, max_features=log2, min_samples_leaf=1, min_samples_split=12, n_estimators=150)\n"
          ],
          "name": "stdout"
        },
        {
          "output_type": "execute_result",
          "data": {
            "text/plain": [
              "TPOTClassifier(config_dict={'sklearn.ensemble.RandomForestClassifier': {'criterion': ['gini',\n",
              "                                                                                      'entropy'],\n",
              "                                                                        'max_depth': [5,\n",
              "                                                                                      10,\n",
              "                                                                                      20,\n",
              "                                                                                      100,\n",
              "                                                                                      200],\n",
              "                                                                        'max_features': ['auto',\n",
              "                                                                                         'sqrt',\n",
              "                                                                                         'log2'],\n",
              "                                                                        'min_samples_leaf': [1,\n",
              "                                                                                             3,\n",
              "                                                                                             5,\n",
              "                                                                                             7,\n",
              "                                                                                             9,\n",
              "                                                                                             11,\n",
              "                                                                                             15],\n",
              "                                                                        'min_samples_split': [5,\n",
              "                                                                                              7,\n",
              "                                                                                              8,\n",
              "                                                                                              10,\n",
              "                                                                                              12],\n",
              "                                                                        'n_estimators': [150,\n",
              "                                                                                         282,\n",
              "                                                                                         414,\n",
              "                                                                                         546,\n",
              "                                                                                         678,\n",
              "                                                                                         810,\n",
              "                                                                                         942,\n",
              "                                                                                         1075,\n",
              "                                                                                         1207,\n",
              "                                                                                         1339,\n",
              "                                                                                         1471,\n",
              "                                                                                         1603,\n",
              "                                                                                         1735,\n",
              "                                                                                         1867,\n",
              "                                                                                         2000]}},\n",
              "               crossover_rate=0.1, cv=...lse,\n",
              "               early_stop=10, generations=5,\n",
              "               log_file=<ipykernel.iostream.OutStream object at 0x7f707e364b38>,\n",
              "               max_eval_time_mins=5, max_time_mins=None, memory=None,\n",
              "               mutation_rate=0.9, n_jobs=1, offspring_size=5,\n",
              "               periodic_checkpoint_folder=None, population_size=15,\n",
              "               random_state=None, scoring='accuracy', subsample=1.0,\n",
              "               template=None, use_dask=False, verbosity=1, warm_start=False)"
            ]
          },
          "metadata": {
            "tags": []
          },
          "execution_count": 111
        }
      ]
    },
    {
      "cell_type": "code",
      "metadata": {
        "id": "SkPmaOnKJtUl",
        "outputId": "6028e3de-45b9-4820-c675-215749c438b1",
        "colab": {
          "base_uri": "https://localhost:8080/",
          "height": 1000
        }
      },
      "source": [
        "tpotclf.evaluated_individuals_"
      ],
      "execution_count": 118,
      "outputs": [
        {
          "output_type": "execute_result",
          "data": {
            "text/plain": [
              "{'RandomForestClassifier(CombineDFs(CombineDFs(input_matrix, input_matrix), input_matrix), RandomForestClassifier__criterion=entropy, RandomForestClassifier__max_depth=200, RandomForestClassifier__max_features=sqrt, RandomForestClassifier__min_samples_leaf=3, RandomForestClassifier__min_samples_split=8, RandomForestClassifier__n_estimators=942)': {'crossover_count': 0,\n",
              "  'generation': 5,\n",
              "  'internal_cv_score': 0.942257217847769,\n",
              "  'mutation_count': 1,\n",
              "  'operator_count': 1,\n",
              "  'predecessor': ('RandomForestClassifier(CombineDFs(input_matrix, input_matrix), RandomForestClassifier__criterion=entropy, RandomForestClassifier__max_depth=200, RandomForestClassifier__max_features=sqrt, RandomForestClassifier__min_samples_leaf=3, RandomForestClassifier__min_samples_split=8, RandomForestClassifier__n_estimators=942)',)},\n",
              " 'RandomForestClassifier(CombineDFs(input_matrix, input_matrix), RandomForestClassifier__criterion=entropy, RandomForestClassifier__max_depth=10, RandomForestClassifier__max_features=log2, RandomForestClassifier__min_samples_leaf=1, RandomForestClassifier__min_samples_split=12, RandomForestClassifier__n_estimators=150)': {'crossover_count': 0,\n",
              "  'generation': 0,\n",
              "  'internal_cv_score': 0.9501312335958004,\n",
              "  'mutation_count': 0,\n",
              "  'operator_count': 1,\n",
              "  'predecessor': ('ROOT',)},\n",
              " 'RandomForestClassifier(CombineDFs(input_matrix, input_matrix), RandomForestClassifier__criterion=entropy, RandomForestClassifier__max_depth=10, RandomForestClassifier__max_features=log2, RandomForestClassifier__min_samples_leaf=7, RandomForestClassifier__min_samples_split=10, RandomForestClassifier__n_estimators=2000)': {'crossover_count': 0,\n",
              "  'generation': 5,\n",
              "  'internal_cv_score': 0.9396325459317585,\n",
              "  'mutation_count': 1,\n",
              "  'operator_count': 1,\n",
              "  'predecessor': ('RandomForestClassifier(CombineDFs(input_matrix, input_matrix), RandomForestClassifier__criterion=entropy, RandomForestClassifier__max_depth=200, RandomForestClassifier__max_features=sqrt, RandomForestClassifier__min_samples_leaf=3, RandomForestClassifier__min_samples_split=8, RandomForestClassifier__n_estimators=942)',)},\n",
              " 'RandomForestClassifier(CombineDFs(input_matrix, input_matrix), RandomForestClassifier__criterion=entropy, RandomForestClassifier__max_depth=100, RandomForestClassifier__max_features=sqrt, RandomForestClassifier__min_samples_leaf=5, RandomForestClassifier__min_samples_split=8, RandomForestClassifier__n_estimators=1207)': {'crossover_count': 0,\n",
              "  'generation': 0,\n",
              "  'internal_cv_score': 0.942257217847769,\n",
              "  'mutation_count': 0,\n",
              "  'operator_count': 1,\n",
              "  'predecessor': ('ROOT',)},\n",
              " 'RandomForestClassifier(CombineDFs(input_matrix, input_matrix), RandomForestClassifier__criterion=entropy, RandomForestClassifier__max_depth=200, RandomForestClassifier__max_features=log2, RandomForestClassifier__min_samples_leaf=5, RandomForestClassifier__min_samples_split=7, RandomForestClassifier__n_estimators=546)': {'crossover_count': 0,\n",
              "  'generation': 1,\n",
              "  'internal_cv_score': 0.9448818897637795,\n",
              "  'mutation_count': 1,\n",
              "  'operator_count': 1,\n",
              "  'predecessor': ('RandomForestClassifier(CombineDFs(input_matrix, input_matrix), RandomForestClassifier__criterion=entropy, RandomForestClassifier__max_depth=200, RandomForestClassifier__max_features=log2, RandomForestClassifier__min_samples_leaf=9, RandomForestClassifier__min_samples_split=7, RandomForestClassifier__n_estimators=546)',)},\n",
              " 'RandomForestClassifier(CombineDFs(input_matrix, input_matrix), RandomForestClassifier__criterion=entropy, RandomForestClassifier__max_depth=200, RandomForestClassifier__max_features=log2, RandomForestClassifier__min_samples_leaf=9, RandomForestClassifier__min_samples_split=7, RandomForestClassifier__n_estimators=546)': {'crossover_count': 0,\n",
              "  'generation': 0,\n",
              "  'internal_cv_score': 0.9396325459317585,\n",
              "  'mutation_count': 0,\n",
              "  'operator_count': 1,\n",
              "  'predecessor': ('ROOT',)},\n",
              " 'RandomForestClassifier(CombineDFs(input_matrix, input_matrix), RandomForestClassifier__criterion=entropy, RandomForestClassifier__max_depth=200, RandomForestClassifier__max_features=sqrt, RandomForestClassifier__min_samples_leaf=15, RandomForestClassifier__min_samples_split=8, RandomForestClassifier__n_estimators=942)': {'crossover_count': 0,\n",
              "  'generation': 3,\n",
              "  'internal_cv_score': 0.931758530183727,\n",
              "  'mutation_count': 1,\n",
              "  'operator_count': 1,\n",
              "  'predecessor': ('RandomForestClassifier(CombineDFs(input_matrix, input_matrix), RandomForestClassifier__criterion=entropy, RandomForestClassifier__max_depth=200, RandomForestClassifier__max_features=sqrt, RandomForestClassifier__min_samples_leaf=3, RandomForestClassifier__min_samples_split=8, RandomForestClassifier__n_estimators=942)',)},\n",
              " 'RandomForestClassifier(CombineDFs(input_matrix, input_matrix), RandomForestClassifier__criterion=entropy, RandomForestClassifier__max_depth=200, RandomForestClassifier__max_features=sqrt, RandomForestClassifier__min_samples_leaf=3, RandomForestClassifier__min_samples_split=8, RandomForestClassifier__n_estimators=942)': {'crossover_count': 0,\n",
              "  'generation': 0,\n",
              "  'internal_cv_score': 0.9448818897637795,\n",
              "  'mutation_count': 0,\n",
              "  'operator_count': 1,\n",
              "  'predecessor': ('ROOT',)},\n",
              " 'RandomForestClassifier(CombineDFs(input_matrix, input_matrix), RandomForestClassifier__criterion=entropy, RandomForestClassifier__max_depth=200, RandomForestClassifier__max_features=sqrt, RandomForestClassifier__min_samples_leaf=7, RandomForestClassifier__min_samples_split=8, RandomForestClassifier__n_estimators=942)': {'crossover_count': 0,\n",
              "  'generation': 4,\n",
              "  'internal_cv_score': 0.937007874015748,\n",
              "  'mutation_count': 1,\n",
              "  'operator_count': 1,\n",
              "  'predecessor': ('RandomForestClassifier(CombineDFs(input_matrix, input_matrix), RandomForestClassifier__criterion=entropy, RandomForestClassifier__max_depth=200, RandomForestClassifier__max_features=sqrt, RandomForestClassifier__min_samples_leaf=3, RandomForestClassifier__min_samples_split=8, RandomForestClassifier__n_estimators=942)',)},\n",
              " 'RandomForestClassifier(CombineDFs(input_matrix, input_matrix), RandomForestClassifier__criterion=entropy, RandomForestClassifier__max_depth=200, RandomForestClassifier__max_features=sqrt, RandomForestClassifier__min_samples_leaf=9, RandomForestClassifier__min_samples_split=8, RandomForestClassifier__n_estimators=414)': {'crossover_count': 0,\n",
              "  'generation': 0,\n",
              "  'internal_cv_score': 0.931758530183727,\n",
              "  'mutation_count': 0,\n",
              "  'operator_count': 1,\n",
              "  'predecessor': ('ROOT',)},\n",
              " 'RandomForestClassifier(CombineDFs(input_matrix, input_matrix), RandomForestClassifier__criterion=entropy, RandomForestClassifier__max_depth=5, RandomForestClassifier__max_features=auto, RandomForestClassifier__min_samples_leaf=3, RandomForestClassifier__min_samples_split=12, RandomForestClassifier__n_estimators=150)': {'crossover_count': 0,\n",
              "  'generation': 1,\n",
              "  'internal_cv_score': 0.9448818897637795,\n",
              "  'mutation_count': 1,\n",
              "  'operator_count': 1,\n",
              "  'predecessor': ('RandomForestClassifier(input_matrix, RandomForestClassifier__criterion=entropy, RandomForestClassifier__max_depth=5, RandomForestClassifier__max_features=auto, RandomForestClassifier__min_samples_leaf=3, RandomForestClassifier__min_samples_split=12, RandomForestClassifier__n_estimators=150)',)},\n",
              " 'RandomForestClassifier(CombineDFs(input_matrix, input_matrix), RandomForestClassifier__criterion=gini, RandomForestClassifier__max_depth=5, RandomForestClassifier__max_features=auto, RandomForestClassifier__min_samples_leaf=3, RandomForestClassifier__min_samples_split=12, RandomForestClassifier__n_estimators=150)': {'crossover_count': 0,\n",
              "  'generation': 3,\n",
              "  'internal_cv_score': 0.9343832020997375,\n",
              "  'mutation_count': 2,\n",
              "  'operator_count': 1,\n",
              "  'predecessor': ('RandomForestClassifier(input_matrix, RandomForestClassifier__criterion=gini, RandomForestClassifier__max_depth=5, RandomForestClassifier__max_features=auto, RandomForestClassifier__min_samples_leaf=3, RandomForestClassifier__min_samples_split=12, RandomForestClassifier__n_estimators=150)',)},\n",
              " 'RandomForestClassifier(RandomForestClassifier(RandomForestClassifier(input_matrix, RandomForestClassifier__criterion=entropy, RandomForestClassifier__max_depth=200, RandomForestClassifier__max_features=sqrt, RandomForestClassifier__min_samples_leaf=9, RandomForestClassifier__min_samples_split=12, RandomForestClassifier__n_estimators=150), RandomForestClassifier__criterion=gini, RandomForestClassifier__max_depth=200, RandomForestClassifier__max_features=sqrt, RandomForestClassifier__min_samples_leaf=3, RandomForestClassifier__min_samples_split=7, RandomForestClassifier__n_estimators=2000), RandomForestClassifier__criterion=entropy, RandomForestClassifier__max_depth=5, RandomForestClassifier__max_features=auto, RandomForestClassifier__min_samples_leaf=3, RandomForestClassifier__min_samples_split=12, RandomForestClassifier__n_estimators=150)': {'crossover_count': 0,\n",
              "  'generation': 3,\n",
              "  'internal_cv_score': 0.9501312335958004,\n",
              "  'mutation_count': 2,\n",
              "  'operator_count': 3,\n",
              "  'predecessor': ('RandomForestClassifier(RandomForestClassifier(input_matrix, RandomForestClassifier__criterion=gini, RandomForestClassifier__max_depth=200, RandomForestClassifier__max_features=sqrt, RandomForestClassifier__min_samples_leaf=3, RandomForestClassifier__min_samples_split=7, RandomForestClassifier__n_estimators=2000), RandomForestClassifier__criterion=entropy, RandomForestClassifier__max_depth=5, RandomForestClassifier__max_features=auto, RandomForestClassifier__min_samples_leaf=3, RandomForestClassifier__min_samples_split=12, RandomForestClassifier__n_estimators=150)',)},\n",
              " 'RandomForestClassifier(RandomForestClassifier(input_matrix, RandomForestClassifier__criterion=entropy, RandomForestClassifier__max_depth=100, RandomForestClassifier__max_features=log2, RandomForestClassifier__min_samples_leaf=11, RandomForestClassifier__min_samples_split=5, RandomForestClassifier__n_estimators=678), RandomForestClassifier__criterion=gini, RandomForestClassifier__max_depth=20, RandomForestClassifier__max_features=sqrt, RandomForestClassifier__min_samples_leaf=3, RandomForestClassifier__min_samples_split=7, RandomForestClassifier__n_estimators=678)': {'crossover_count': 1,\n",
              "  'generation': 2,\n",
              "  'internal_cv_score': 0.937007874015748,\n",
              "  'mutation_count': 0,\n",
              "  'operator_count': 2,\n",
              "  'predecessor': ('RandomForestClassifier(RandomForestClassifier(input_matrix, RandomForestClassifier__criterion=entropy, RandomForestClassifier__max_depth=100, RandomForestClassifier__max_features=log2, RandomForestClassifier__min_samples_leaf=11, RandomForestClassifier__min_samples_split=5, RandomForestClassifier__n_estimators=678), RandomForestClassifier__criterion=gini, RandomForestClassifier__max_depth=20, RandomForestClassifier__max_features=sqrt, RandomForestClassifier__min_samples_leaf=7, RandomForestClassifier__min_samples_split=7, RandomForestClassifier__n_estimators=678)',\n",
              "   'RandomForestClassifier(input_matrix, RandomForestClassifier__criterion=entropy, RandomForestClassifier__max_depth=10, RandomForestClassifier__max_features=sqrt, RandomForestClassifier__min_samples_leaf=3, RandomForestClassifier__min_samples_split=12, RandomForestClassifier__n_estimators=1075)')},\n",
              " 'RandomForestClassifier(RandomForestClassifier(input_matrix, RandomForestClassifier__criterion=entropy, RandomForestClassifier__max_depth=100, RandomForestClassifier__max_features=log2, RandomForestClassifier__min_samples_leaf=11, RandomForestClassifier__min_samples_split=5, RandomForestClassifier__n_estimators=678), RandomForestClassifier__criterion=gini, RandomForestClassifier__max_depth=20, RandomForestClassifier__max_features=sqrt, RandomForestClassifier__min_samples_leaf=7, RandomForestClassifier__min_samples_split=7, RandomForestClassifier__n_estimators=678)': {'crossover_count': 0,\n",
              "  'generation': 0,\n",
              "  'internal_cv_score': 0.9396325459317585,\n",
              "  'mutation_count': 0,\n",
              "  'operator_count': 2,\n",
              "  'predecessor': ('ROOT',)},\n",
              " 'RandomForestClassifier(RandomForestClassifier(input_matrix, RandomForestClassifier__criterion=entropy, RandomForestClassifier__max_depth=20, RandomForestClassifier__max_features=auto, RandomForestClassifier__min_samples_leaf=15, RandomForestClassifier__min_samples_split=7, RandomForestClassifier__n_estimators=678), RandomForestClassifier__criterion=entropy, RandomForestClassifier__max_depth=5, RandomForestClassifier__max_features=auto, RandomForestClassifier__min_samples_leaf=3, RandomForestClassifier__min_samples_split=12, RandomForestClassifier__n_estimators=150)': {'crossover_count': 0,\n",
              "  'generation': 4,\n",
              "  'internal_cv_score': 0.9343832020997375,\n",
              "  'mutation_count': 2,\n",
              "  'operator_count': 2,\n",
              "  'predecessor': ('RandomForestClassifier(CombineDFs(input_matrix, input_matrix), RandomForestClassifier__criterion=entropy, RandomForestClassifier__max_depth=5, RandomForestClassifier__max_features=auto, RandomForestClassifier__min_samples_leaf=3, RandomForestClassifier__min_samples_split=12, RandomForestClassifier__n_estimators=150)',)},\n",
              " 'RandomForestClassifier(RandomForestClassifier(input_matrix, RandomForestClassifier__criterion=entropy, RandomForestClassifier__max_depth=20, RandomForestClassifier__max_features=log2, RandomForestClassifier__min_samples_leaf=9, RandomForestClassifier__min_samples_split=8, RandomForestClassifier__n_estimators=1339), RandomForestClassifier__criterion=entropy, RandomForestClassifier__max_depth=5, RandomForestClassifier__max_features=auto, RandomForestClassifier__min_samples_leaf=9, RandomForestClassifier__min_samples_split=12, RandomForestClassifier__n_estimators=414)': {'crossover_count': 0,\n",
              "  'generation': 0,\n",
              "  'internal_cv_score': 0.937007874015748,\n",
              "  'mutation_count': 0,\n",
              "  'operator_count': 2,\n",
              "  'predecessor': ('ROOT',)},\n",
              " 'RandomForestClassifier(RandomForestClassifier(input_matrix, RandomForestClassifier__criterion=entropy, RandomForestClassifier__max_depth=200, RandomForestClassifier__max_features=sqrt, RandomForestClassifier__min_samples_leaf=15, RandomForestClassifier__min_samples_split=8, RandomForestClassifier__n_estimators=546), RandomForestClassifier__criterion=entropy, RandomForestClassifier__max_depth=10, RandomForestClassifier__max_features=auto, RandomForestClassifier__min_samples_leaf=15, RandomForestClassifier__min_samples_split=7, RandomForestClassifier__n_estimators=810)': {'crossover_count': 0,\n",
              "  'generation': 0,\n",
              "  'internal_cv_score': 0.937007874015748,\n",
              "  'mutation_count': 0,\n",
              "  'operator_count': 2,\n",
              "  'predecessor': ('ROOT',)},\n",
              " 'RandomForestClassifier(RandomForestClassifier(input_matrix, RandomForestClassifier__criterion=entropy, RandomForestClassifier__max_depth=200, RandomForestClassifier__max_features=sqrt, RandomForestClassifier__min_samples_leaf=9, RandomForestClassifier__min_samples_split=12, RandomForestClassifier__n_estimators=150), RandomForestClassifier__criterion=entropy, RandomForestClassifier__max_depth=200, RandomForestClassifier__max_features=sqrt, RandomForestClassifier__min_samples_leaf=3, RandomForestClassifier__min_samples_split=8, RandomForestClassifier__n_estimators=942)': {'crossover_count': 1,\n",
              "  'generation': 5,\n",
              "  'internal_cv_score': 0.937007874015748,\n",
              "  'mutation_count': 2,\n",
              "  'operator_count': 2,\n",
              "  'predecessor': ('RandomForestClassifier(CombineDFs(input_matrix, input_matrix), RandomForestClassifier__criterion=entropy, RandomForestClassifier__max_depth=200, RandomForestClassifier__max_features=sqrt, RandomForestClassifier__min_samples_leaf=3, RandomForestClassifier__min_samples_split=8, RandomForestClassifier__n_estimators=942)',\n",
              "   'RandomForestClassifier(RandomForestClassifier(RandomForestClassifier(input_matrix, RandomForestClassifier__criterion=entropy, RandomForestClassifier__max_depth=200, RandomForestClassifier__max_features=sqrt, RandomForestClassifier__min_samples_leaf=9, RandomForestClassifier__min_samples_split=12, RandomForestClassifier__n_estimators=150), RandomForestClassifier__criterion=gini, RandomForestClassifier__max_depth=200, RandomForestClassifier__max_features=sqrt, RandomForestClassifier__min_samples_leaf=3, RandomForestClassifier__min_samples_split=7, RandomForestClassifier__n_estimators=2000), RandomForestClassifier__criterion=entropy, RandomForestClassifier__max_depth=5, RandomForestClassifier__max_features=auto, RandomForestClassifier__min_samples_leaf=3, RandomForestClassifier__min_samples_split=12, RandomForestClassifier__n_estimators=150)')},\n",
              " 'RandomForestClassifier(RandomForestClassifier(input_matrix, RandomForestClassifier__criterion=gini, RandomForestClassifier__max_depth=10, RandomForestClassifier__max_features=auto, RandomForestClassifier__min_samples_leaf=15, RandomForestClassifier__min_samples_split=8, RandomForestClassifier__n_estimators=414), RandomForestClassifier__criterion=gini, RandomForestClassifier__max_depth=5, RandomForestClassifier__max_features=auto, RandomForestClassifier__min_samples_leaf=3, RandomForestClassifier__min_samples_split=12, RandomForestClassifier__n_estimators=150)': {'crossover_count': 0,\n",
              "  'generation': 4,\n",
              "  'internal_cv_score': 0.937007874015748,\n",
              "  'mutation_count': 2,\n",
              "  'operator_count': 2,\n",
              "  'predecessor': ('RandomForestClassifier(input_matrix, RandomForestClassifier__criterion=gini, RandomForestClassifier__max_depth=5, RandomForestClassifier__max_features=auto, RandomForestClassifier__min_samples_leaf=3, RandomForestClassifier__min_samples_split=12, RandomForestClassifier__n_estimators=150)',)},\n",
              " 'RandomForestClassifier(RandomForestClassifier(input_matrix, RandomForestClassifier__criterion=gini, RandomForestClassifier__max_depth=100, RandomForestClassifier__max_features=log2, RandomForestClassifier__min_samples_leaf=11, RandomForestClassifier__min_samples_split=5, RandomForestClassifier__n_estimators=678), RandomForestClassifier__criterion=entropy, RandomForestClassifier__max_depth=200, RandomForestClassifier__max_features=log2, RandomForestClassifier__min_samples_leaf=9, RandomForestClassifier__min_samples_split=7, RandomForestClassifier__n_estimators=546)': {'crossover_count': 0,\n",
              "  'generation': 3,\n",
              "  'internal_cv_score': 0.931758530183727,\n",
              "  'mutation_count': 2,\n",
              "  'operator_count': 2,\n",
              "  'predecessor': ('RandomForestClassifier(input_matrix, RandomForestClassifier__criterion=entropy, RandomForestClassifier__max_depth=200, RandomForestClassifier__max_features=log2, RandomForestClassifier__min_samples_leaf=9, RandomForestClassifier__min_samples_split=7, RandomForestClassifier__n_estimators=546)',)},\n",
              " 'RandomForestClassifier(RandomForestClassifier(input_matrix, RandomForestClassifier__criterion=gini, RandomForestClassifier__max_depth=100, RandomForestClassifier__max_features=log2, RandomForestClassifier__min_samples_leaf=7, RandomForestClassifier__min_samples_split=7, RandomForestClassifier__n_estimators=678), RandomForestClassifier__criterion=entropy, RandomForestClassifier__max_depth=200, RandomForestClassifier__max_features=log2, RandomForestClassifier__min_samples_leaf=15, RandomForestClassifier__min_samples_split=5, RandomForestClassifier__n_estimators=546)': {'crossover_count': 0,\n",
              "  'generation': 0,\n",
              "  'internal_cv_score': 0.937007874015748,\n",
              "  'mutation_count': 0,\n",
              "  'operator_count': 2,\n",
              "  'predecessor': ('ROOT',)},\n",
              " 'RandomForestClassifier(RandomForestClassifier(input_matrix, RandomForestClassifier__criterion=gini, RandomForestClassifier__max_depth=200, RandomForestClassifier__max_features=log2, RandomForestClassifier__min_samples_leaf=7, RandomForestClassifier__min_samples_split=7, RandomForestClassifier__n_estimators=1207), RandomForestClassifier__criterion=entropy, RandomForestClassifier__max_depth=20, RandomForestClassifier__max_features=log2, RandomForestClassifier__min_samples_leaf=1, RandomForestClassifier__min_samples_split=12, RandomForestClassifier__n_estimators=1207)': {'crossover_count': 0,\n",
              "  'generation': 4,\n",
              "  'internal_cv_score': 0.9448818897637795,\n",
              "  'mutation_count': 2,\n",
              "  'operator_count': 2,\n",
              "  'predecessor': ('RandomForestClassifier(input_matrix, RandomForestClassifier__criterion=entropy, RandomForestClassifier__max_depth=20, RandomForestClassifier__max_features=log2, RandomForestClassifier__min_samples_leaf=1, RandomForestClassifier__min_samples_split=12, RandomForestClassifier__n_estimators=1207)',)},\n",
              " 'RandomForestClassifier(RandomForestClassifier(input_matrix, RandomForestClassifier__criterion=gini, RandomForestClassifier__max_depth=200, RandomForestClassifier__max_features=log2, RandomForestClassifier__min_samples_leaf=7, RandomForestClassifier__min_samples_split=7, RandomForestClassifier__n_estimators=1207), RandomForestClassifier__criterion=entropy, RandomForestClassifier__max_depth=5, RandomForestClassifier__max_features=auto, RandomForestClassifier__min_samples_leaf=7, RandomForestClassifier__min_samples_split=7, RandomForestClassifier__n_estimators=810)': {'crossover_count': 0,\n",
              "  'generation': 5,\n",
              "  'internal_cv_score': 0.9396325459317585,\n",
              "  'mutation_count': 3,\n",
              "  'operator_count': 2,\n",
              "  'predecessor': ('RandomForestClassifier(RandomForestClassifier(input_matrix, RandomForestClassifier__criterion=gini, RandomForestClassifier__max_depth=200, RandomForestClassifier__max_features=log2, RandomForestClassifier__min_samples_leaf=7, RandomForestClassifier__min_samples_split=7, RandomForestClassifier__n_estimators=1207), RandomForestClassifier__criterion=entropy, RandomForestClassifier__max_depth=20, RandomForestClassifier__max_features=log2, RandomForestClassifier__min_samples_leaf=1, RandomForestClassifier__min_samples_split=12, RandomForestClassifier__n_estimators=1207)',)},\n",
              " 'RandomForestClassifier(RandomForestClassifier(input_matrix, RandomForestClassifier__criterion=gini, RandomForestClassifier__max_depth=200, RandomForestClassifier__max_features=sqrt, RandomForestClassifier__min_samples_leaf=3, RandomForestClassifier__min_samples_split=7, RandomForestClassifier__n_estimators=2000), RandomForestClassifier__criterion=entropy, RandomForestClassifier__max_depth=200, RandomForestClassifier__max_features=auto, RandomForestClassifier__min_samples_leaf=3, RandomForestClassifier__min_samples_split=12, RandomForestClassifier__n_estimators=150)': {'crossover_count': 0,\n",
              "  'generation': 4,\n",
              "  'internal_cv_score': 0.94750656167979,\n",
              "  'mutation_count': 2,\n",
              "  'operator_count': 2,\n",
              "  'predecessor': ('RandomForestClassifier(RandomForestClassifier(input_matrix, RandomForestClassifier__criterion=gini, RandomForestClassifier__max_depth=200, RandomForestClassifier__max_features=sqrt, RandomForestClassifier__min_samples_leaf=3, RandomForestClassifier__min_samples_split=7, RandomForestClassifier__n_estimators=2000), RandomForestClassifier__criterion=entropy, RandomForestClassifier__max_depth=5, RandomForestClassifier__max_features=auto, RandomForestClassifier__min_samples_leaf=3, RandomForestClassifier__min_samples_split=12, RandomForestClassifier__n_estimators=150)',)},\n",
              " 'RandomForestClassifier(RandomForestClassifier(input_matrix, RandomForestClassifier__criterion=gini, RandomForestClassifier__max_depth=200, RandomForestClassifier__max_features=sqrt, RandomForestClassifier__min_samples_leaf=3, RandomForestClassifier__min_samples_split=7, RandomForestClassifier__n_estimators=2000), RandomForestClassifier__criterion=entropy, RandomForestClassifier__max_depth=5, RandomForestClassifier__max_features=auto, RandomForestClassifier__min_samples_leaf=3, RandomForestClassifier__min_samples_split=12, RandomForestClassifier__n_estimators=150)': {'crossover_count': 0,\n",
              "  'generation': 2,\n",
              "  'internal_cv_score': 0.942257217847769,\n",
              "  'mutation_count': 1,\n",
              "  'operator_count': 2,\n",
              "  'predecessor': ('RandomForestClassifier(input_matrix, RandomForestClassifier__criterion=entropy, RandomForestClassifier__max_depth=5, RandomForestClassifier__max_features=auto, RandomForestClassifier__min_samples_leaf=3, RandomForestClassifier__min_samples_split=12, RandomForestClassifier__n_estimators=150)',)},\n",
              " 'RandomForestClassifier(RandomForestClassifier(input_matrix, RandomForestClassifier__criterion=gini, RandomForestClassifier__max_depth=200, RandomForestClassifier__max_features=sqrt, RandomForestClassifier__min_samples_leaf=7, RandomForestClassifier__min_samples_split=8, RandomForestClassifier__n_estimators=1471), RandomForestClassifier__criterion=gini, RandomForestClassifier__max_depth=200, RandomForestClassifier__max_features=sqrt, RandomForestClassifier__min_samples_leaf=11, RandomForestClassifier__min_samples_split=5, RandomForestClassifier__n_estimators=1735)': {'crossover_count': 0,\n",
              "  'generation': 2,\n",
              "  'internal_cv_score': 0.937007874015748,\n",
              "  'mutation_count': 1,\n",
              "  'operator_count': 2,\n",
              "  'predecessor': ('RandomForestClassifier(input_matrix, RandomForestClassifier__criterion=gini, RandomForestClassifier__max_depth=200, RandomForestClassifier__max_features=sqrt, RandomForestClassifier__min_samples_leaf=11, RandomForestClassifier__min_samples_split=5, RandomForestClassifier__n_estimators=1735)',)},\n",
              " 'RandomForestClassifier(input_matrix, RandomForestClassifier__criterion=entropy, RandomForestClassifier__max_depth=10, RandomForestClassifier__max_features=auto, RandomForestClassifier__min_samples_leaf=15, RandomForestClassifier__min_samples_split=7, RandomForestClassifier__n_estimators=810)': {'crossover_count': 0,\n",
              "  'generation': 1,\n",
              "  'internal_cv_score': 0.9343832020997375,\n",
              "  'mutation_count': 1,\n",
              "  'operator_count': 1,\n",
              "  'predecessor': ('RandomForestClassifier(RandomForestClassifier(input_matrix, RandomForestClassifier__criterion=entropy, RandomForestClassifier__max_depth=200, RandomForestClassifier__max_features=sqrt, RandomForestClassifier__min_samples_leaf=15, RandomForestClassifier__min_samples_split=8, RandomForestClassifier__n_estimators=546), RandomForestClassifier__criterion=entropy, RandomForestClassifier__max_depth=10, RandomForestClassifier__max_features=auto, RandomForestClassifier__min_samples_leaf=15, RandomForestClassifier__min_samples_split=7, RandomForestClassifier__n_estimators=810)',)},\n",
              " 'RandomForestClassifier(input_matrix, RandomForestClassifier__criterion=entropy, RandomForestClassifier__max_depth=10, RandomForestClassifier__max_features=sqrt, RandomForestClassifier__min_samples_leaf=3, RandomForestClassifier__min_samples_split=12, RandomForestClassifier__n_estimators=1075)': {'crossover_count': 0,\n",
              "  'generation': 0,\n",
              "  'internal_cv_score': 0.9396325459317585,\n",
              "  'mutation_count': 0,\n",
              "  'operator_count': 1,\n",
              "  'predecessor': ('ROOT',)},\n",
              " 'RandomForestClassifier(input_matrix, RandomForestClassifier__criterion=entropy, RandomForestClassifier__max_depth=10, RandomForestClassifier__max_features=sqrt, RandomForestClassifier__min_samples_leaf=9, RandomForestClassifier__min_samples_split=12, RandomForestClassifier__n_estimators=1075)': {'crossover_count': 1,\n",
              "  'generation': 3,\n",
              "  'internal_cv_score': 0.937007874015748,\n",
              "  'mutation_count': 0,\n",
              "  'operator_count': 1,\n",
              "  'predecessor': ('RandomForestClassifier(input_matrix, RandomForestClassifier__criterion=entropy, RandomForestClassifier__max_depth=10, RandomForestClassifier__max_features=sqrt, RandomForestClassifier__min_samples_leaf=3, RandomForestClassifier__min_samples_split=12, RandomForestClassifier__n_estimators=1075)',\n",
              "   'RandomForestClassifier(CombineDFs(input_matrix, input_matrix), RandomForestClassifier__criterion=entropy, RandomForestClassifier__max_depth=200, RandomForestClassifier__max_features=log2, RandomForestClassifier__min_samples_leaf=9, RandomForestClassifier__min_samples_split=7, RandomForestClassifier__n_estimators=546)')},\n",
              " 'RandomForestClassifier(input_matrix, RandomForestClassifier__criterion=entropy, RandomForestClassifier__max_depth=20, RandomForestClassifier__max_features=log2, RandomForestClassifier__min_samples_leaf=1, RandomForestClassifier__min_samples_split=12, RandomForestClassifier__n_estimators=1207)': {'crossover_count': 0,\n",
              "  'generation': 2,\n",
              "  'internal_cv_score': 0.9448818897637795,\n",
              "  'mutation_count': 1,\n",
              "  'operator_count': 1,\n",
              "  'predecessor': ('RandomForestClassifier(input_matrix, RandomForestClassifier__criterion=entropy, RandomForestClassifier__max_depth=5, RandomForestClassifier__max_features=auto, RandomForestClassifier__min_samples_leaf=3, RandomForestClassifier__min_samples_split=12, RandomForestClassifier__n_estimators=150)',)},\n",
              " 'RandomForestClassifier(input_matrix, RandomForestClassifier__criterion=entropy, RandomForestClassifier__max_depth=200, RandomForestClassifier__max_features=log2, RandomForestClassifier__min_samples_leaf=5, RandomForestClassifier__min_samples_split=7, RandomForestClassifier__n_estimators=546)': {'crossover_count': 0,\n",
              "  'generation': 5,\n",
              "  'internal_cv_score': 0.942257217847769,\n",
              "  'mutation_count': 2,\n",
              "  'operator_count': 1,\n",
              "  'predecessor': ('RandomForestClassifier(CombineDFs(input_matrix, input_matrix), RandomForestClassifier__criterion=entropy, RandomForestClassifier__max_depth=200, RandomForestClassifier__max_features=log2, RandomForestClassifier__min_samples_leaf=5, RandomForestClassifier__min_samples_split=7, RandomForestClassifier__n_estimators=546)',)},\n",
              " 'RandomForestClassifier(input_matrix, RandomForestClassifier__criterion=entropy, RandomForestClassifier__max_depth=200, RandomForestClassifier__max_features=log2, RandomForestClassifier__min_samples_leaf=9, RandomForestClassifier__min_samples_split=7, RandomForestClassifier__n_estimators=546)': {'crossover_count': 0,\n",
              "  'generation': 2,\n",
              "  'internal_cv_score': 0.9396325459317585,\n",
              "  'mutation_count': 1,\n",
              "  'operator_count': 1,\n",
              "  'predecessor': ('RandomForestClassifier(CombineDFs(input_matrix, input_matrix), RandomForestClassifier__criterion=entropy, RandomForestClassifier__max_depth=200, RandomForestClassifier__max_features=log2, RandomForestClassifier__min_samples_leaf=9, RandomForestClassifier__min_samples_split=7, RandomForestClassifier__n_estimators=546)',)},\n",
              " 'RandomForestClassifier(input_matrix, RandomForestClassifier__criterion=entropy, RandomForestClassifier__max_depth=5, RandomForestClassifier__max_features=auto, RandomForestClassifier__min_samples_leaf=3, RandomForestClassifier__min_samples_split=12, RandomForestClassifier__n_estimators=150)': {'crossover_count': 0,\n",
              "  'generation': 0,\n",
              "  'internal_cv_score': 0.942257217847769,\n",
              "  'mutation_count': 0,\n",
              "  'operator_count': 1,\n",
              "  'predecessor': ('ROOT',)},\n",
              " 'RandomForestClassifier(input_matrix, RandomForestClassifier__criterion=gini, RandomForestClassifier__max_depth=10, RandomForestClassifier__max_features=log2, RandomForestClassifier__min_samples_leaf=3, RandomForestClassifier__min_samples_split=12, RandomForestClassifier__n_estimators=1471)': {'crossover_count': 0,\n",
              "  'generation': 0,\n",
              "  'internal_cv_score': 0.9396325459317585,\n",
              "  'mutation_count': 0,\n",
              "  'operator_count': 1,\n",
              "  'predecessor': ('ROOT',)},\n",
              " 'RandomForestClassifier(input_matrix, RandomForestClassifier__criterion=gini, RandomForestClassifier__max_depth=10, RandomForestClassifier__max_features=sqrt, RandomForestClassifier__min_samples_leaf=15, RandomForestClassifier__min_samples_split=7, RandomForestClassifier__n_estimators=678)': {'crossover_count': 0,\n",
              "  'generation': 1,\n",
              "  'internal_cv_score': 0.9291338582677166,\n",
              "  'mutation_count': 1,\n",
              "  'operator_count': 1,\n",
              "  'predecessor': ('RandomForestClassifier(input_matrix, RandomForestClassifier__criterion=gini, RandomForestClassifier__max_depth=5, RandomForestClassifier__max_features=sqrt, RandomForestClassifier__min_samples_leaf=15, RandomForestClassifier__min_samples_split=5, RandomForestClassifier__n_estimators=414)',)},\n",
              " 'RandomForestClassifier(input_matrix, RandomForestClassifier__criterion=gini, RandomForestClassifier__max_depth=100, RandomForestClassifier__max_features=log2, RandomForestClassifier__min_samples_leaf=3, RandomForestClassifier__min_samples_split=8, RandomForestClassifier__n_estimators=1867)': {'crossover_count': 0,\n",
              "  'generation': 0,\n",
              "  'internal_cv_score': 0.942257217847769,\n",
              "  'mutation_count': 0,\n",
              "  'operator_count': 1,\n",
              "  'predecessor': ('ROOT',)},\n",
              " 'RandomForestClassifier(input_matrix, RandomForestClassifier__criterion=gini, RandomForestClassifier__max_depth=200, RandomForestClassifier__max_features=sqrt, RandomForestClassifier__min_samples_leaf=11, RandomForestClassifier__min_samples_split=5, RandomForestClassifier__n_estimators=1735)': {'crossover_count': 0,\n",
              "  'generation': 0,\n",
              "  'internal_cv_score': 0.9396325459317585,\n",
              "  'mutation_count': 0,\n",
              "  'operator_count': 1,\n",
              "  'predecessor': ('ROOT',)},\n",
              " 'RandomForestClassifier(input_matrix, RandomForestClassifier__criterion=gini, RandomForestClassifier__max_depth=5, RandomForestClassifier__max_features=auto, RandomForestClassifier__min_samples_leaf=3, RandomForestClassifier__min_samples_split=12, RandomForestClassifier__n_estimators=150)': {'crossover_count': 0,\n",
              "  'generation': 1,\n",
              "  'internal_cv_score': 0.9448818897637795,\n",
              "  'mutation_count': 1,\n",
              "  'operator_count': 1,\n",
              "  'predecessor': ('RandomForestClassifier(input_matrix, RandomForestClassifier__criterion=entropy, RandomForestClassifier__max_depth=5, RandomForestClassifier__max_features=auto, RandomForestClassifier__min_samples_leaf=3, RandomForestClassifier__min_samples_split=12, RandomForestClassifier__n_estimators=150)',)},\n",
              " 'RandomForestClassifier(input_matrix, RandomForestClassifier__criterion=gini, RandomForestClassifier__max_depth=5, RandomForestClassifier__max_features=sqrt, RandomForestClassifier__min_samples_leaf=15, RandomForestClassifier__min_samples_split=5, RandomForestClassifier__n_estimators=414)': {'crossover_count': 0,\n",
              "  'generation': 0,\n",
              "  'internal_cv_score': 0.9291338582677166,\n",
              "  'mutation_count': 0,\n",
              "  'operator_count': 1,\n",
              "  'predecessor': ('ROOT',)}}"
            ]
          },
          "metadata": {
            "tags": []
          },
          "execution_count": 118
        }
      ]
    },
    {
      "cell_type": "code",
      "metadata": {
        "id": "mqhehxDfIUTI",
        "outputId": "d543484c-e927-495e-8385-4ef3bcc20fd0",
        "colab": {
          "base_uri": "https://localhost:8080/",
          "height": 34
        }
      },
      "source": [
        "accuracy = tpotclf.score(X_test, y_test)\n",
        "print(accuracy)\n"
      ],
      "execution_count": 117,
      "outputs": [
        {
          "output_type": "stream",
          "text": [
            "0.9627659574468085\n"
          ],
          "name": "stdout"
        }
      ]
    },
    {
      "cell_type": "markdown",
      "metadata": {
        "id": "lermqg-VKPz_"
      },
      "source": [
        "# Optuna"
      ]
    },
    {
      "cell_type": "code",
      "metadata": {
        "id": "6KF0adKyO7ej",
        "outputId": "6d491487-bb6c-4837-cce5-ab1def74919e",
        "colab": {
          "base_uri": "https://localhost:8080/",
          "height": 1000
        }
      },
      "source": [
        "!pip install optuna"
      ],
      "execution_count": 119,
      "outputs": [
        {
          "output_type": "stream",
          "text": [
            "Collecting optuna\n",
            "\u001b[?25l  Downloading https://files.pythonhosted.org/packages/67/2b/78129c5580f1743d897214e2d76c20bea8d41c414be6ef1b92c0ce13856e/optuna-2.2.0.tar.gz (246kB)\n",
            "\u001b[K     |████████████████████████████████| 256kB 1.4MB/s \n",
            "\u001b[?25h  Installing build dependencies ... \u001b[?25l\u001b[?25hdone\n",
            "  Getting requirements to build wheel ... \u001b[?25l\u001b[?25hdone\n",
            "    Preparing wheel metadata ... \u001b[?25l\u001b[?25hdone\n",
            "Collecting cliff\n",
            "\u001b[?25l  Downloading https://files.pythonhosted.org/packages/71/06/03b1f92d46546a18eabf33ff7f37ef422c18c93d5a926bf590fee32ebe75/cliff-3.4.0-py3-none-any.whl (76kB)\n",
            "\u001b[K     |████████████████████████████████| 81kB 3.4MB/s \n",
            "\u001b[?25hRequirement already satisfied: sqlalchemy>=1.1.0 in /usr/local/lib/python3.6/dist-packages (from optuna) (1.3.19)\n",
            "Collecting cmaes>=0.6.0\n",
            "  Downloading https://files.pythonhosted.org/packages/8d/3c/06c76ec8b54b9b1fad7f35e903fd25010fe3e0d41bd94cea5e6f12e0d651/cmaes-0.7.0-py3-none-any.whl\n",
            "Collecting colorlog\n",
            "  Downloading https://files.pythonhosted.org/packages/8c/10/0b39be7ff1adb8888fe87c8628c071dec5ac282ac1c2312221f5feb09215/colorlog-4.4.0-py2.py3-none-any.whl\n",
            "Collecting alembic\n",
            "\u001b[?25l  Downloading https://files.pythonhosted.org/packages/12/aa/c261dfd7f4ba6ce4701846a2689a46e2a172e012171de4378fc2926e3bf0/alembic-1.4.3-py2.py3-none-any.whl (159kB)\n",
            "\u001b[K     |████████████████████████████████| 163kB 4.1MB/s \n",
            "\u001b[?25hRequirement already satisfied: scipy!=1.4.0 in /usr/local/lib/python3.6/dist-packages (from optuna) (1.4.1)\n",
            "Requirement already satisfied: numpy in /usr/local/lib/python3.6/dist-packages (from optuna) (1.18.5)\n",
            "Requirement already satisfied: joblib in /usr/local/lib/python3.6/dist-packages (from optuna) (0.16.0)\n",
            "Requirement already satisfied: tqdm in /usr/local/lib/python3.6/dist-packages (from optuna) (4.41.1)\n",
            "Requirement already satisfied: packaging>=20.0 in /usr/local/lib/python3.6/dist-packages (from optuna) (20.4)\n",
            "Collecting stevedore>=2.0.1\n",
            "\u001b[?25l  Downloading https://files.pythonhosted.org/packages/b8/a1/004f04ba411a8002b02aadb089fd6868116c12ddc9f6d576175e89d07587/stevedore-3.2.2-py3-none-any.whl (42kB)\n",
            "\u001b[K     |████████████████████████████████| 51kB 4.2MB/s \n",
            "\u001b[?25hRequirement already satisfied: pyparsing>=2.1.0 in /usr/local/lib/python3.6/dist-packages (from cliff->optuna) (2.4.7)\n",
            "Requirement already satisfied: six>=1.10.0 in /usr/local/lib/python3.6/dist-packages (from cliff->optuna) (1.15.0)\n",
            "Collecting pbr!=2.1.0,>=2.0.0\n",
            "\u001b[?25l  Downloading https://files.pythonhosted.org/packages/fb/48/69046506f6ac61c1eaa9a0d42d22d54673b69e176d30ca98e3f61513e980/pbr-5.5.1-py2.py3-none-any.whl (106kB)\n",
            "\u001b[K     |████████████████████████████████| 112kB 5.7MB/s \n",
            "\u001b[?25hRequirement already satisfied: PrettyTable<0.8,>=0.7.2 in /usr/local/lib/python3.6/dist-packages (from cliff->optuna) (0.7.2)\n",
            "Requirement already satisfied: PyYAML>=3.12 in /usr/local/lib/python3.6/dist-packages (from cliff->optuna) (3.13)\n",
            "Collecting cmd2!=0.8.3,>=0.8.0\n",
            "\u001b[?25l  Downloading https://files.pythonhosted.org/packages/c6/94/0f4f16cff4977188d715a95ea3f90f054b7eb73b05afaf51431a3d77b992/cmd2-1.3.11-py3-none-any.whl (133kB)\n",
            "\u001b[K     |████████████████████████████████| 143kB 5.0MB/s \n",
            "\u001b[?25hCollecting Mako\n",
            "\u001b[?25l  Downloading https://files.pythonhosted.org/packages/a6/37/0e706200d22172eb8fa17d68a7ae22dec7631a0a92266634fb518a88a5b2/Mako-1.1.3-py2.py3-none-any.whl (75kB)\n",
            "\u001b[K     |████████████████████████████████| 81kB 4.3MB/s \n",
            "\u001b[?25hRequirement already satisfied: python-dateutil in /usr/local/lib/python3.6/dist-packages (from alembic->optuna) (2.8.1)\n",
            "Collecting python-editor>=0.3\n",
            "  Downloading https://files.pythonhosted.org/packages/c6/d3/201fc3abe391bbae6606e6f1d598c15d367033332bd54352b12f35513717/python_editor-1.0.4-py3-none-any.whl\n",
            "Requirement already satisfied: importlib-metadata>=1.7.0; python_version < \"3.8\" in /usr/local/lib/python3.6/dist-packages (from stevedore>=2.0.1->cliff->optuna) (2.0.0)\n",
            "Collecting pyperclip>=1.6\n",
            "  Downloading https://files.pythonhosted.org/packages/6f/4c/0b1d507ad7e8bc31d690d04b4f475e74c2002d060f7994ce8c09612df707/pyperclip-1.8.1.tar.gz\n",
            "Requirement already satisfied: attrs>=16.3.0 in /usr/local/lib/python3.6/dist-packages (from cmd2!=0.8.3,>=0.8.0->cliff->optuna) (20.2.0)\n",
            "Requirement already satisfied: wcwidth>=0.1.7 in /usr/local/lib/python3.6/dist-packages (from cmd2!=0.8.3,>=0.8.0->cliff->optuna) (0.2.5)\n",
            "Requirement already satisfied: setuptools>=34.4 in /usr/local/lib/python3.6/dist-packages (from cmd2!=0.8.3,>=0.8.0->cliff->optuna) (50.3.0)\n",
            "Collecting colorama>=0.3.7\n",
            "  Downloading https://files.pythonhosted.org/packages/44/98/5b86278fbbf250d239ae0ecb724f8572af1c91f4a11edf4d36a206189440/colorama-0.4.4-py2.py3-none-any.whl\n",
            "Requirement already satisfied: MarkupSafe>=0.9.2 in /usr/local/lib/python3.6/dist-packages (from Mako->alembic->optuna) (1.1.1)\n",
            "Requirement already satisfied: zipp>=0.5 in /usr/local/lib/python3.6/dist-packages (from importlib-metadata>=1.7.0; python_version < \"3.8\"->stevedore>=2.0.1->cliff->optuna) (3.2.0)\n",
            "Building wheels for collected packages: optuna\n",
            "  Building wheel for optuna (PEP 517) ... \u001b[?25l\u001b[?25hdone\n",
            "  Created wheel for optuna: filename=optuna-2.2.0-cp36-none-any.whl size=340928 sha256=936f0f2e4029893f7f7df3f3cb79d5d83cc7fa80eae545d3c362fbf6c0175616\n",
            "  Stored in directory: /root/.cache/pip/wheels/a6/27/26/3ef57a8fb2c8bceef3f4ece73483cec1895e06eae442d34a41\n",
            "Successfully built optuna\n",
            "Building wheels for collected packages: pyperclip\n",
            "  Building wheel for pyperclip (setup.py) ... \u001b[?25l\u001b[?25hdone\n",
            "  Created wheel for pyperclip: filename=pyperclip-1.8.1-cp36-none-any.whl size=11119 sha256=f1b00b232cbad41e47adf4f6eac60249f708fb998cde2589b1946a2d8440c912\n",
            "  Stored in directory: /root/.cache/pip/wheels/44/10/3a/c830e9bb3db2c93274ea1f213a41fabde0d8cf3794251fad0c\n",
            "Successfully built pyperclip\n",
            "Installing collected packages: pbr, stevedore, pyperclip, colorama, cmd2, cliff, cmaes, colorlog, Mako, python-editor, alembic, optuna\n",
            "Successfully installed Mako-1.1.3 alembic-1.4.3 cliff-3.4.0 cmaes-0.7.0 cmd2-1.3.11 colorama-0.4.4 colorlog-4.4.0 optuna-2.2.0 pbr-5.5.1 pyperclip-1.8.1 python-editor-1.0.4 stevedore-3.2.2\n"
          ],
          "name": "stdout"
        }
      ]
    },
    {
      "cell_type": "code",
      "metadata": {
        "id": "wpgIPAo6O_U8"
      },
      "source": [
        "import optuna\n",
        "import sklearn.svm\n",
        "def objective(trial):\n",
        "\n",
        "    classifier = trial.suggest_categorical('classifier', ['RandomForest', 'SVC'])\n",
        "    \n",
        "    if classifier == 'RandomForest':\n",
        "        n_estimators = trial.suggest_int('n_estimators', 200, 2000,10)\n",
        "        max_depth = int(trial.suggest_float('max_depth', 10, 100, log=True))\n",
        "\n",
        "        clf = sklearn.ensemble.RandomForestClassifier(\n",
        "            n_estimators=n_estimators, max_depth=max_depth)\n",
        "    else:\n",
        "        c = trial.suggest_float('svc_c', 1e-10, 1e10, log=True)\n",
        "        \n",
        "        clf = sklearn.svm.SVC(C=c, gamma='auto')\n",
        "\n",
        "    return sklearn.model_selection.cross_val_score(\n",
        "        clf,X_train,y_train, n_jobs=-1, cv=3).mean()"
      ],
      "execution_count": 120,
      "outputs": []
    },
    {
      "cell_type": "code",
      "metadata": {
        "id": "7hBZuktyPhNE",
        "outputId": "57c09a2e-2466-4dc5-d574-fe910dc71b63",
        "colab": {
          "base_uri": "https://localhost:8080/",
          "height": 1000
        }
      },
      "source": [
        "study = optuna.create_study(direction='maximize')     # maximizing accuracy,if it is minimize then we are minimizing the loss\n",
        "\n",
        "study.optimize(objective,n_trials=100)"
      ],
      "execution_count": 122,
      "outputs": [
        {
          "output_type": "stream",
          "text": [
            "\u001b[32m[I 2020-10-24 10:56:03,776]\u001b[0m A new study created in memory with name: no-name-dc0604c4-ffb8-42df-86ed-5d656ec20cd4\u001b[0m\n",
            "\u001b[32m[I 2020-10-24 10:56:07,465]\u001b[0m Trial 0 finished with value: 0.94750656167979 and parameters: {'classifier': 'RandomForest', 'n_estimators': 670, 'max_depth': 31.67872403632954}. Best is trial 0 with value: 0.94750656167979.\u001b[0m\n",
            "\u001b[32m[I 2020-10-24 10:56:13,306]\u001b[0m Trial 1 finished with value: 0.94750656167979 and parameters: {'classifier': 'RandomForest', 'n_estimators': 1380, 'max_depth': 21.84830610968625}. Best is trial 0 with value: 0.94750656167979.\u001b[0m\n",
            "\u001b[32m[I 2020-10-24 10:56:14,782]\u001b[0m Trial 2 finished with value: 0.9448818897637795 and parameters: {'classifier': 'RandomForest', 'n_estimators': 350, 'max_depth': 93.53220326879874}. Best is trial 0 with value: 0.94750656167979.\u001b[0m\n",
            "\u001b[32m[I 2020-10-24 10:56:14,811]\u001b[0m Trial 3 finished with value: 0.6194225721784777 and parameters: {'classifier': 'SVC', 'svc_c': 6.190063758385438e-05}. Best is trial 0 with value: 0.94750656167979.\u001b[0m\n",
            "\u001b[32m[I 2020-10-24 10:56:21,860]\u001b[0m Trial 4 finished with value: 0.9448818897637795 and parameters: {'classifier': 'RandomForest', 'n_estimators': 1680, 'max_depth': 28.397851943776967}. Best is trial 0 with value: 0.94750656167979.\u001b[0m\n",
            "\u001b[32m[I 2020-10-24 10:56:27,817]\u001b[0m Trial 5 finished with value: 0.94750656167979 and parameters: {'classifier': 'RandomForest', 'n_estimators': 1420, 'max_depth': 15.562649136822113}. Best is trial 0 with value: 0.94750656167979.\u001b[0m\n",
            "\u001b[32m[I 2020-10-24 10:56:30,896]\u001b[0m Trial 6 finished with value: 0.94750656167979 and parameters: {'classifier': 'RandomForest', 'n_estimators': 730, 'max_depth': 50.136016555773544}. Best is trial 0 with value: 0.94750656167979.\u001b[0m\n",
            "\u001b[32m[I 2020-10-24 10:56:30,928]\u001b[0m Trial 7 finished with value: 0.6194225721784777 and parameters: {'classifier': 'SVC', 'svc_c': 27894526.26437967}. Best is trial 0 with value: 0.94750656167979.\u001b[0m\n",
            "\u001b[32m[I 2020-10-24 10:56:30,954]\u001b[0m Trial 8 finished with value: 0.6194225721784777 and parameters: {'classifier': 'SVC', 'svc_c': 0.00027173630575999064}. Best is trial 0 with value: 0.94750656167979.\u001b[0m\n",
            "\u001b[32m[I 2020-10-24 10:56:34,631]\u001b[0m Trial 9 finished with value: 0.942257217847769 and parameters: {'classifier': 'RandomForest', 'n_estimators': 870, 'max_depth': 17.07159810652326}. Best is trial 0 with value: 0.94750656167979.\u001b[0m\n",
            "\u001b[32m[I 2020-10-24 10:56:35,541]\u001b[0m Trial 10 finished with value: 0.9448818897637795 and parameters: {'classifier': 'RandomForest', 'n_estimators': 210, 'max_depth': 48.79535935017032}. Best is trial 0 with value: 0.94750656167979.\u001b[0m\n",
            "\u001b[32m[I 2020-10-24 10:56:40,726]\u001b[0m Trial 11 finished with value: 0.94750656167979 and parameters: {'classifier': 'RandomForest', 'n_estimators': 1230, 'max_depth': 26.669733871947592}. Best is trial 0 with value: 0.94750656167979.\u001b[0m\n",
            "\u001b[32m[I 2020-10-24 10:56:43,393]\u001b[0m Trial 12 finished with value: 0.942257217847769 and parameters: {'classifier': 'RandomForest', 'n_estimators': 630, 'max_depth': 10.610389858525718}. Best is trial 0 with value: 0.94750656167979.\u001b[0m\n",
            "\u001b[32m[I 2020-10-24 10:56:51,659]\u001b[0m Trial 13 finished with value: 0.94750656167979 and parameters: {'classifier': 'RandomForest', 'n_estimators': 1970, 'max_depth': 40.361197206502155}. Best is trial 0 with value: 0.94750656167979.\u001b[0m\n",
            "\u001b[32m[I 2020-10-24 10:56:56,113]\u001b[0m Trial 14 finished with value: 0.9396325459317585 and parameters: {'classifier': 'RandomForest', 'n_estimators': 1060, 'max_depth': 20.179579716580005}. Best is trial 0 with value: 0.94750656167979.\u001b[0m\n",
            "\u001b[32m[I 2020-10-24 10:57:03,248]\u001b[0m Trial 15 finished with value: 0.942257217847769 and parameters: {'classifier': 'RandomForest', 'n_estimators': 1690, 'max_depth': 74.83493525146795}. Best is trial 0 with value: 0.94750656167979.\u001b[0m\n",
            "\u001b[32m[I 2020-10-24 10:57:05,416]\u001b[0m Trial 16 finished with value: 0.942257217847769 and parameters: {'classifier': 'RandomForest', 'n_estimators': 510, 'max_depth': 10.91008636565458}. Best is trial 0 with value: 0.94750656167979.\u001b[0m\n",
            "\u001b[32m[I 2020-10-24 10:57:05,454]\u001b[0m Trial 17 finished with value: 0.6194225721784777 and parameters: {'classifier': 'SVC', 'svc_c': 8294965236.578849}. Best is trial 0 with value: 0.94750656167979.\u001b[0m\n",
            "\u001b[32m[I 2020-10-24 10:57:09,630]\u001b[0m Trial 18 finished with value: 0.94750656167979 and parameters: {'classifier': 'RandomForest', 'n_estimators': 990, 'max_depth': 35.55469402906015}. Best is trial 0 with value: 0.94750656167979.\u001b[0m\n",
            "\u001b[32m[I 2020-10-24 10:57:17,819]\u001b[0m Trial 19 finished with value: 0.9448818897637795 and parameters: {'classifier': 'RandomForest', 'n_estimators': 1950, 'max_depth': 43.99315801616753}. Best is trial 0 with value: 0.94750656167979.\u001b[0m\n",
            "\u001b[32m[I 2020-10-24 10:57:23,367]\u001b[0m Trial 20 finished with value: 0.94750656167979 and parameters: {'classifier': 'RandomForest', 'n_estimators': 1320, 'max_depth': 24.004592543197287}. Best is trial 0 with value: 0.94750656167979.\u001b[0m\n",
            "\u001b[32m[I 2020-10-24 10:57:27,258]\u001b[0m Trial 21 finished with value: 0.942257217847769 and parameters: {'classifier': 'RandomForest', 'n_estimators': 920, 'max_depth': 38.60548686479627}. Best is trial 0 with value: 0.94750656167979.\u001b[0m\n",
            "\u001b[32m[I 2020-10-24 10:57:31,614]\u001b[0m Trial 22 finished with value: 0.94750656167979 and parameters: {'classifier': 'RandomForest', 'n_estimators': 1030, 'max_depth': 32.04438750572056}. Best is trial 0 with value: 0.94750656167979.\u001b[0m\n",
            "\u001b[32m[I 2020-10-24 10:57:36,981]\u001b[0m Trial 23 finished with value: 0.94750656167979 and parameters: {'classifier': 'RandomForest', 'n_estimators': 1270, 'max_depth': 32.78760336043553}. Best is trial 0 with value: 0.94750656167979.\u001b[0m\n",
            "\u001b[32m[I 2020-10-24 10:57:39,939]\u001b[0m Trial 24 finished with value: 0.9501312335958004 and parameters: {'classifier': 'RandomForest', 'n_estimators': 700, 'max_depth': 64.11414019307941}. Best is trial 24 with value: 0.9501312335958004.\u001b[0m\n",
            "\u001b[32m[I 2020-10-24 10:57:46,352]\u001b[0m Trial 25 finished with value: 0.9501312335958004 and parameters: {'classifier': 'RandomForest', 'n_estimators': 1530, 'max_depth': 67.15661986572938}. Best is trial 24 with value: 0.9501312335958004.\u001b[0m\n",
            "\u001b[32m[I 2020-10-24 10:57:52,863]\u001b[0m Trial 26 finished with value: 0.94750656167979 and parameters: {'classifier': 'RandomForest', 'n_estimators': 1560, 'max_depth': 64.56863464393611}. Best is trial 24 with value: 0.9501312335958004.\u001b[0m\n",
            "\u001b[32m[I 2020-10-24 10:57:52,892]\u001b[0m Trial 27 finished with value: 0.6194225721784777 and parameters: {'classifier': 'SVC', 'svc_c': 7.631414008294366e-10}. Best is trial 24 with value: 0.9501312335958004.\u001b[0m\n",
            "\u001b[32m[I 2020-10-24 10:57:54,856]\u001b[0m Trial 28 finished with value: 0.9501312335958004 and parameters: {'classifier': 'RandomForest', 'n_estimators': 460, 'max_depth': 97.6033455161771}. Best is trial 24 with value: 0.9501312335958004.\u001b[0m\n",
            "\u001b[32m[I 2020-10-24 10:57:56,466]\u001b[0m Trial 29 finished with value: 0.9448818897637795 and parameters: {'classifier': 'RandomForest', 'n_estimators': 380, 'max_depth': 97.98712167129604}. Best is trial 24 with value: 0.9501312335958004.\u001b[0m\n",
            "\u001b[32m[I 2020-10-24 10:57:57,401]\u001b[0m Trial 30 finished with value: 0.9553805774278215 and parameters: {'classifier': 'RandomForest', 'n_estimators': 220, 'max_depth': 74.03634216214668}. Best is trial 30 with value: 0.9553805774278215.\u001b[0m\n",
            "\u001b[32m[I 2020-10-24 10:57:58,250]\u001b[0m Trial 31 finished with value: 0.9501312335958004 and parameters: {'classifier': 'RandomForest', 'n_estimators': 200, 'max_depth': 72.306409009114}. Best is trial 30 with value: 0.9553805774278215.\u001b[0m\n",
            "\u001b[32m[I 2020-10-24 10:57:59,191]\u001b[0m Trial 32 finished with value: 0.9501312335958004 and parameters: {'classifier': 'RandomForest', 'n_estimators': 220, 'max_depth': 79.7053198161545}. Best is trial 30 with value: 0.9553805774278215.\u001b[0m\n",
            "\u001b[32m[I 2020-10-24 10:58:00,629]\u001b[0m Trial 33 finished with value: 0.9501312335958004 and parameters: {'classifier': 'RandomForest', 'n_estimators': 340, 'max_depth': 85.56067509209753}. Best is trial 30 with value: 0.9553805774278215.\u001b[0m\n",
            "\u001b[32m[I 2020-10-24 10:58:02,035]\u001b[0m Trial 34 finished with value: 0.9396325459317585 and parameters: {'classifier': 'RandomForest', 'n_estimators': 330, 'max_depth': 89.4723646363784}. Best is trial 30 with value: 0.9553805774278215.\u001b[0m\n",
            "\u001b[32m[I 2020-10-24 10:58:04,783]\u001b[0m Trial 35 finished with value: 0.9448818897637795 and parameters: {'classifier': 'RandomForest', 'n_estimators': 650, 'max_depth': 59.940406388872134}. Best is trial 30 with value: 0.9553805774278215.\u001b[0m\n",
            "\u001b[32m[I 2020-10-24 10:58:06,717]\u001b[0m Trial 36 finished with value: 0.9553805774278215 and parameters: {'classifier': 'RandomForest', 'n_estimators': 460, 'max_depth': 80.15233953478561}. Best is trial 30 with value: 0.9553805774278215.\u001b[0m\n",
            "\u001b[32m[I 2020-10-24 10:58:07,572]\u001b[0m Trial 37 finished with value: 0.9501312335958004 and parameters: {'classifier': 'RandomForest', 'n_estimators': 200, 'max_depth': 82.93858299142364}. Best is trial 30 with value: 0.9553805774278215.\u001b[0m\n",
            "\u001b[32m[I 2020-10-24 10:58:09,713]\u001b[0m Trial 38 finished with value: 0.942257217847769 and parameters: {'classifier': 'RandomForest', 'n_estimators': 510, 'max_depth': 85.15643547815847}. Best is trial 30 with value: 0.9553805774278215.\u001b[0m\n",
            "\u001b[32m[I 2020-10-24 10:58:09,751]\u001b[0m Trial 39 finished with value: 0.6194225721784777 and parameters: {'classifier': 'SVC', 'svc_c': 24033.023996943466}. Best is trial 30 with value: 0.9553805774278215.\u001b[0m\n",
            "\u001b[32m[I 2020-10-24 10:58:12,715]\u001b[0m Trial 40 finished with value: 0.94750656167979 and parameters: {'classifier': 'RandomForest', 'n_estimators': 710, 'max_depth': 56.80447204799623}. Best is trial 30 with value: 0.9553805774278215.\u001b[0m\n",
            "\u001b[32m[I 2020-10-24 10:58:13,733]\u001b[0m Trial 41 finished with value: 0.9553805774278216 and parameters: {'classifier': 'RandomForest', 'n_estimators': 240, 'max_depth': 80.5860205906867}. Best is trial 41 with value: 0.9553805774278216.\u001b[0m\n",
            "\u001b[32m[I 2020-10-24 10:58:15,017]\u001b[0m Trial 42 finished with value: 0.94750656167979 and parameters: {'classifier': 'RandomForest', 'n_estimators': 300, 'max_depth': 99.48280283817869}. Best is trial 41 with value: 0.9553805774278216.\u001b[0m\n",
            "\u001b[32m[I 2020-10-24 10:58:16,973]\u001b[0m Trial 43 finished with value: 0.9501312335958004 and parameters: {'classifier': 'RandomForest', 'n_estimators': 460, 'max_depth': 77.0415902573191}. Best is trial 41 with value: 0.9553805774278216.\u001b[0m\n",
            "\u001b[32m[I 2020-10-24 10:58:20,421]\u001b[0m Trial 44 finished with value: 0.94750656167979 and parameters: {'classifier': 'RandomForest', 'n_estimators': 820, 'max_depth': 65.21264583053117}. Best is trial 41 with value: 0.9553805774278216.\u001b[0m\n",
            "\u001b[32m[I 2020-10-24 10:58:22,152]\u001b[0m Trial 45 finished with value: 0.94750656167979 and parameters: {'classifier': 'RandomForest', 'n_estimators': 410, 'max_depth': 73.98334515401845}. Best is trial 41 with value: 0.9553805774278216.\u001b[0m\n",
            "\u001b[32m[I 2020-10-24 10:58:23,255]\u001b[0m Trial 46 finished with value: 0.9553805774278215 and parameters: {'classifier': 'RandomForest', 'n_estimators': 260, 'max_depth': 52.4716142233551}. Best is trial 41 with value: 0.9553805774278216.\u001b[0m\n",
            "\u001b[32m[I 2020-10-24 10:58:25,618]\u001b[0m Trial 47 finished with value: 0.94750656167979 and parameters: {'classifier': 'RandomForest', 'n_estimators': 560, 'max_depth': 54.10254868921877}. Best is trial 41 with value: 0.9553805774278216.\u001b[0m\n",
            "\u001b[32m[I 2020-10-24 10:58:25,648]\u001b[0m Trial 48 finished with value: 0.6194225721784777 and parameters: {'classifier': 'SVC', 'svc_c': 2.1777920465482244e-10}. Best is trial 41 with value: 0.9553805774278216.\u001b[0m\n",
            "\u001b[32m[I 2020-10-24 10:58:30,492]\u001b[0m Trial 49 finished with value: 0.942257217847769 and parameters: {'classifier': 'RandomForest', 'n_estimators': 1150, 'max_depth': 48.95648037727044}. Best is trial 41 with value: 0.9553805774278216.\u001b[0m\n",
            "\u001b[32m[I 2020-10-24 10:58:31,685]\u001b[0m Trial 50 finished with value: 0.952755905511811 and parameters: {'classifier': 'RandomForest', 'n_estimators': 280, 'max_depth': 61.7366216895837}. Best is trial 41 with value: 0.9553805774278216.\u001b[0m\n",
            "\u001b[32m[I 2020-10-24 10:58:32,843]\u001b[0m Trial 51 finished with value: 0.9553805774278215 and parameters: {'classifier': 'RandomForest', 'n_estimators': 270, 'max_depth': 54.0941181579766}. Best is trial 41 with value: 0.9553805774278216.\u001b[0m\n",
            "\u001b[32m[I 2020-10-24 10:58:34,042]\u001b[0m Trial 52 finished with value: 0.952755905511811 and parameters: {'classifier': 'RandomForest', 'n_estimators': 280, 'max_depth': 44.60456076645312}. Best is trial 41 with value: 0.9553805774278216.\u001b[0m\n",
            "\u001b[32m[I 2020-10-24 10:58:35,125]\u001b[0m Trial 53 finished with value: 0.9527559055118111 and parameters: {'classifier': 'RandomForest', 'n_estimators': 250, 'max_depth': 51.693457400303984}. Best is trial 41 with value: 0.9553805774278216.\u001b[0m\n",
            "\u001b[32m[I 2020-10-24 10:58:35,990]\u001b[0m Trial 54 finished with value: 0.9448818897637795 and parameters: {'classifier': 'RandomForest', 'n_estimators': 200, 'max_depth': 53.49819122953327}. Best is trial 41 with value: 0.9553805774278216.\u001b[0m\n",
            "\u001b[32m[I 2020-10-24 10:58:37,717]\u001b[0m Trial 55 finished with value: 0.9501312335958004 and parameters: {'classifier': 'RandomForest', 'n_estimators': 410, 'max_depth': 43.807678194620806}. Best is trial 41 with value: 0.9553805774278216.\u001b[0m\n",
            "\u001b[32m[I 2020-10-24 10:58:38,840]\u001b[0m Trial 56 finished with value: 0.94750656167979 and parameters: {'classifier': 'RandomForest', 'n_estimators': 260, 'max_depth': 50.57599774141759}. Best is trial 41 with value: 0.9553805774278216.\u001b[0m\n",
            "\u001b[32m[I 2020-10-24 10:58:41,198]\u001b[0m Trial 57 finished with value: 0.9501312335958004 and parameters: {'classifier': 'RandomForest', 'n_estimators': 560, 'max_depth': 70.21517455602}. Best is trial 41 with value: 0.9553805774278216.\u001b[0m\n",
            "\u001b[32m[I 2020-10-24 10:58:42,681]\u001b[0m Trial 58 finished with value: 0.9501312335958004 and parameters: {'classifier': 'RandomForest', 'n_estimators': 350, 'max_depth': 57.464630388767475}. Best is trial 41 with value: 0.9553805774278216.\u001b[0m\n",
            "\u001b[32m[I 2020-10-24 10:58:43,744]\u001b[0m Trial 59 finished with value: 0.94750656167979 and parameters: {'classifier': 'RandomForest', 'n_estimators': 250, 'max_depth': 37.39011499295781}. Best is trial 41 with value: 0.9553805774278216.\u001b[0m\n",
            "\u001b[32m[I 2020-10-24 10:58:45,678]\u001b[0m Trial 60 finished with value: 0.9448818897637795 and parameters: {'classifier': 'RandomForest', 'n_estimators': 450, 'max_depth': 46.099916255661704}. Best is trial 41 with value: 0.9553805774278216.\u001b[0m\n",
            "\u001b[32m[I 2020-10-24 10:58:46,864]\u001b[0m Trial 61 finished with value: 0.94750656167979 and parameters: {'classifier': 'RandomForest', 'n_estimators': 280, 'max_depth': 43.073144394157616}. Best is trial 41 with value: 0.9553805774278216.\u001b[0m\n",
            "\u001b[32m[I 2020-10-24 10:58:47,772]\u001b[0m Trial 62 finished with value: 0.942257217847769 and parameters: {'classifier': 'RandomForest', 'n_estimators': 210, 'max_depth': 53.87336212469902}. Best is trial 41 with value: 0.9553805774278216.\u001b[0m\n",
            "\u001b[32m[I 2020-10-24 10:58:49,295]\u001b[0m Trial 63 finished with value: 0.9580052493438319 and parameters: {'classifier': 'RandomForest', 'n_estimators': 360, 'max_depth': 48.056969652447286}. Best is trial 63 with value: 0.9580052493438319.\u001b[0m\n",
            "\u001b[32m[I 2020-10-24 10:58:50,864]\u001b[0m Trial 64 finished with value: 0.9396325459317585 and parameters: {'classifier': 'RandomForest', 'n_estimators': 370, 'max_depth': 60.79445727447206}. Best is trial 63 with value: 0.9580052493438319.\u001b[0m\n",
            "\u001b[32m[I 2020-10-24 10:58:53,164]\u001b[0m Trial 65 finished with value: 0.94750656167979 and parameters: {'classifier': 'RandomForest', 'n_estimators': 540, 'max_depth': 48.74218454901908}. Best is trial 63 with value: 0.9580052493438319.\u001b[0m\n",
            "\u001b[32m[I 2020-10-24 10:58:54,987]\u001b[0m Trial 66 finished with value: 0.94750656167979 and parameters: {'classifier': 'RandomForest', 'n_estimators': 430, 'max_depth': 71.58602422275506}. Best is trial 63 with value: 0.9580052493438319.\u001b[0m\n",
            "\u001b[32m[I 2020-10-24 10:58:55,025]\u001b[0m Trial 67 finished with value: 0.6194225721784777 and parameters: {'classifier': 'SVC', 'svc_c': 27.279921410715865}. Best is trial 63 with value: 0.9580052493438319.\u001b[0m\n",
            "\u001b[32m[I 2020-10-24 10:58:57,598]\u001b[0m Trial 68 finished with value: 0.9448818897637795 and parameters: {'classifier': 'RandomForest', 'n_estimators': 610, 'max_depth': 78.76084932381035}. Best is trial 63 with value: 0.9580052493438319.\u001b[0m\n",
            "\u001b[32m[I 2020-10-24 10:58:58,987]\u001b[0m Trial 69 finished with value: 0.942257217847769 and parameters: {'classifier': 'RandomForest', 'n_estimators': 330, 'max_depth': 27.600241748984107}. Best is trial 63 with value: 0.9580052493438319.\u001b[0m\n",
            "\u001b[32m[I 2020-10-24 10:59:01,067]\u001b[0m Trial 70 finished with value: 0.9448818897637795 and parameters: {'classifier': 'RandomForest', 'n_estimators': 490, 'max_depth': 35.2211554908866}. Best is trial 63 with value: 0.9580052493438319.\u001b[0m\n",
            "\u001b[32m[I 2020-10-24 10:59:02,176]\u001b[0m Trial 71 finished with value: 0.94750656167979 and parameters: {'classifier': 'RandomForest', 'n_estimators': 260, 'max_depth': 40.758880911120485}. Best is trial 63 with value: 0.9580052493438319.\u001b[0m\n",
            "\u001b[32m[I 2020-10-24 10:59:03,039]\u001b[0m Trial 72 finished with value: 0.952755905511811 and parameters: {'classifier': 'RandomForest', 'n_estimators': 200, 'max_depth': 46.62995436491853}. Best is trial 63 with value: 0.9580052493438319.\u001b[0m\n",
            "\u001b[32m[I 2020-10-24 10:59:04,360]\u001b[0m Trial 73 finished with value: 0.9501312335958004 and parameters: {'classifier': 'RandomForest', 'n_estimators': 310, 'max_depth': 90.86756135699271}. Best is trial 63 with value: 0.9580052493438319.\u001b[0m\n",
            "\u001b[32m[I 2020-10-24 10:59:06,033]\u001b[0m Trial 74 finished with value: 0.9448818897637795 and parameters: {'classifier': 'RandomForest', 'n_estimators': 390, 'max_depth': 66.99829313567346}. Best is trial 63 with value: 0.9580052493438319.\u001b[0m\n",
            "\u001b[32m[I 2020-10-24 10:59:06,892]\u001b[0m Trial 75 finished with value: 0.952755905511811 and parameters: {'classifier': 'RandomForest', 'n_estimators': 200, 'max_depth': 40.48391181497933}. Best is trial 63 with value: 0.9580052493438319.\u001b[0m\n",
            "\u001b[32m[I 2020-10-24 10:59:07,893]\u001b[0m Trial 76 finished with value: 0.952755905511811 and parameters: {'classifier': 'RandomForest', 'n_estimators': 230, 'max_depth': 40.587242249317235}. Best is trial 63 with value: 0.9580052493438319.\u001b[0m\n",
            "\u001b[32m[I 2020-10-24 10:59:09,428]\u001b[0m Trial 77 finished with value: 0.952755905511811 and parameters: {'classifier': 'RandomForest', 'n_estimators': 360, 'max_depth': 35.56475288025459}. Best is trial 63 with value: 0.9580052493438319.\u001b[0m\n",
            "\u001b[32m[I 2020-10-24 10:59:10,445]\u001b[0m Trial 78 finished with value: 0.9580052493438319 and parameters: {'classifier': 'RandomForest', 'n_estimators': 240, 'max_depth': 30.486770951688737}. Best is trial 63 with value: 0.9580052493438319.\u001b[0m\n",
            "\u001b[32m[I 2020-10-24 10:59:11,876]\u001b[0m Trial 79 finished with value: 0.9448818897637795 and parameters: {'classifier': 'RandomForest', 'n_estimators': 330, 'max_depth': 21.473527207620876}. Best is trial 63 with value: 0.9580052493438319.\u001b[0m\n",
            "\u001b[32m[I 2020-10-24 10:59:13,631]\u001b[0m Trial 80 finished with value: 0.9501312335958004 and parameters: {'classifier': 'RandomForest', 'n_estimators': 410, 'max_depth': 32.05499511926667}. Best is trial 63 with value: 0.9580052493438319.\u001b[0m\n",
            "\u001b[32m[I 2020-10-24 10:59:14,780]\u001b[0m Trial 81 finished with value: 0.94750656167979 and parameters: {'classifier': 'RandomForest', 'n_estimators': 270, 'max_depth': 30.026938672250377}. Best is trial 63 with value: 0.9580052493438319.\u001b[0m\n",
            "\u001b[32m[I 2020-10-24 10:59:16,051]\u001b[0m Trial 82 finished with value: 0.9396325459317585 and parameters: {'classifier': 'RandomForest', 'n_estimators': 300, 'max_depth': 25.71106506362287}. Best is trial 63 with value: 0.9580052493438319.\u001b[0m\n",
            "\u001b[32m[I 2020-10-24 10:59:17,076]\u001b[0m Trial 83 finished with value: 0.9448818897637795 and parameters: {'classifier': 'RandomForest', 'n_estimators': 240, 'max_depth': 62.133651747038904}. Best is trial 63 with value: 0.9580052493438319.\u001b[0m\n",
            "\u001b[32m[I 2020-10-24 10:59:17,935]\u001b[0m Trial 84 finished with value: 0.952755905511811 and parameters: {'classifier': 'RandomForest', 'n_estimators': 200, 'max_depth': 56.28324693711441}. Best is trial 63 with value: 0.9580052493438319.\u001b[0m\n",
            "\u001b[32m[I 2020-10-24 10:59:19,496]\u001b[0m Trial 85 finished with value: 0.942257217847769 and parameters: {'classifier': 'RandomForest', 'n_estimators': 370, 'max_depth': 68.11958758210888}. Best is trial 63 with value: 0.9580052493438319.\u001b[0m\n",
            "\u001b[32m[I 2020-10-24 10:59:22,808]\u001b[0m Trial 86 finished with value: 0.9448818897637795 and parameters: {'classifier': 'RandomForest', 'n_estimators': 780, 'max_depth': 52.00641842155967}. Best is trial 63 with value: 0.9580052493438319.\u001b[0m\n",
            "\u001b[32m[I 2020-10-24 10:59:24,148]\u001b[0m Trial 87 finished with value: 0.952755905511811 and parameters: {'classifier': 'RandomForest', 'n_estimators': 310, 'max_depth': 59.26448285356535}. Best is trial 63 with value: 0.9580052493438319.\u001b[0m\n",
            "\u001b[32m[I 2020-10-24 10:59:24,177]\u001b[0m Trial 88 finished with value: 0.6194225721784777 and parameters: {'classifier': 'SVC', 'svc_c': 3.544432001228301e-05}. Best is trial 63 with value: 0.9580052493438319.\u001b[0m\n",
            "\u001b[32m[I 2020-10-24 10:59:26,115]\u001b[0m Trial 89 finished with value: 0.942257217847769 and parameters: {'classifier': 'RandomForest', 'n_estimators': 460, 'max_depth': 47.3737454665238}. Best is trial 63 with value: 0.9580052493438319.\u001b[0m\n",
            "\u001b[32m[I 2020-10-24 10:59:33,823]\u001b[0m Trial 90 finished with value: 0.94750656167979 and parameters: {'classifier': 'RandomForest', 'n_estimators': 1830, 'max_depth': 81.72298671194127}. Best is trial 63 with value: 0.9580052493438319.\u001b[0m\n",
            "\u001b[32m[I 2020-10-24 10:59:35,315]\u001b[0m Trial 91 finished with value: 0.942257217847769 and parameters: {'classifier': 'RandomForest', 'n_estimators': 350, 'max_depth': 76.14305398115133}. Best is trial 63 with value: 0.9580052493438319.\u001b[0m\n",
            "\u001b[32m[I 2020-10-24 10:59:36,359]\u001b[0m Trial 92 finished with value: 0.9448818897637795 and parameters: {'classifier': 'RandomForest', 'n_estimators': 240, 'max_depth': 62.65121881158699}. Best is trial 63 with value: 0.9580052493438319.\u001b[0m\n",
            "\u001b[32m[I 2020-10-24 10:59:37,649]\u001b[0m Trial 93 finished with value: 0.94750656167979 and parameters: {'classifier': 'RandomForest', 'n_estimators': 300, 'max_depth': 56.60783071626161}. Best is trial 63 with value: 0.9580052493438319.\u001b[0m\n",
            "\u001b[32m[I 2020-10-24 10:59:39,696]\u001b[0m Trial 94 finished with value: 0.94750656167979 and parameters: {'classifier': 'RandomForest', 'n_estimators': 490, 'max_depth': 29.647730731495265}. Best is trial 63 with value: 0.9580052493438319.\u001b[0m\n",
            "\u001b[32m[I 2020-10-24 10:59:41,341]\u001b[0m Trial 95 finished with value: 0.94750656167979 and parameters: {'classifier': 'RandomForest', 'n_estimators': 390, 'max_depth': 51.185181475854854}. Best is trial 63 with value: 0.9580052493438319.\u001b[0m\n",
            "\u001b[32m[I 2020-10-24 10:59:42,313]\u001b[0m Trial 96 finished with value: 0.9580052493438319 and parameters: {'classifier': 'RandomForest', 'n_estimators': 230, 'max_depth': 35.23373635395014}. Best is trial 63 with value: 0.9580052493438319.\u001b[0m\n",
            "\u001b[32m[I 2020-10-24 10:59:43,418]\u001b[0m Trial 97 finished with value: 0.9553805774278216 and parameters: {'classifier': 'RandomForest', 'n_estimators': 260, 'max_depth': 33.6515652278672}. Best is trial 63 with value: 0.9580052493438319.\u001b[0m\n",
            "\u001b[32m[I 2020-10-24 10:59:44,274]\u001b[0m Trial 98 finished with value: 0.9501312335958004 and parameters: {'classifier': 'RandomForest', 'n_estimators': 200, 'max_depth': 33.91534569196947}. Best is trial 63 with value: 0.9580052493438319.\u001b[0m\n",
            "\u001b[32m[I 2020-10-24 10:59:45,340]\u001b[0m Trial 99 finished with value: 0.9501312335958004 and parameters: {'classifier': 'RandomForest', 'n_estimators': 250, 'max_depth': 37.7606524523003}. Best is trial 63 with value: 0.9580052493438319.\u001b[0m\n"
          ],
          "name": "stderr"
        }
      ]
    },
    {
      "cell_type": "code",
      "metadata": {
        "id": "wfsH0LL5P2-h",
        "outputId": "f4de42e3-c2f0-4072-d8a3-f88f860cde80",
        "colab": {
          "base_uri": "https://localhost:8080/",
          "height": 34
        }
      },
      "source": [
        "study.best_value\n"
      ],
      "execution_count": 123,
      "outputs": [
        {
          "output_type": "execute_result",
          "data": {
            "text/plain": [
              "0.9580052493438319"
            ]
          },
          "metadata": {
            "tags": []
          },
          "execution_count": 123
        }
      ]
    },
    {
      "cell_type": "code",
      "metadata": {
        "id": "Ql75hkoQSOYY",
        "outputId": "c210d4c5-9d18-48b9-c5d8-a37b8d02a0bb",
        "colab": {
          "base_uri": "https://localhost:8080/",
          "height": 68
        }
      },
      "source": [
        "study.best_params"
      ],
      "execution_count": 124,
      "outputs": [
        {
          "output_type": "execute_result",
          "data": {
            "text/plain": [
              "{'classifier': 'RandomForest',\n",
              " 'max_depth': 48.056969652447286,\n",
              " 'n_estimators': 360}"
            ]
          },
          "metadata": {
            "tags": []
          },
          "execution_count": 124
        }
      ]
    },
    {
      "cell_type": "code",
      "metadata": {
        "id": "XgSUlHcdSWsn",
        "outputId": "da8169e1-bc38-4e37-84e7-e6e1dc3be39e",
        "colab": {
          "base_uri": "https://localhost:8080/",
          "height": 221
        }
      },
      "source": [
        "rf_opt = RandomForestClassifier(max_depth=48.056969652447286,n_estimators=360)\n",
        "\n",
        "rf_opt.fit(X_train,y_train)\n",
        "\n",
        "opt_pred=rf_opt.predict(X_test)\n",
        "print(confusion_matrix(y_test,opt_pred))\n",
        "print(accuracy_score(y_test,opt_pred))\n",
        "print(classification_report(y_test,opt_pred))"
      ],
      "execution_count": 125,
      "outputs": [
        {
          "output_type": "stream",
          "text": [
            "[[ 62   5]\n",
            " [  4 117]]\n",
            "0.9521276595744681\n",
            "              precision    recall  f1-score   support\n",
            "\n",
            "           0       0.94      0.93      0.93        67\n",
            "           1       0.96      0.97      0.96       121\n",
            "\n",
            "    accuracy                           0.95       188\n",
            "   macro avg       0.95      0.95      0.95       188\n",
            "weighted avg       0.95      0.95      0.95       188\n",
            "\n"
          ],
          "name": "stdout"
        }
      ]
    },
    {
      "cell_type": "code",
      "metadata": {
        "id": "JLrkKPKISrna"
      },
      "source": [
        ""
      ],
      "execution_count": null,
      "outputs": []
    }
  ]
}