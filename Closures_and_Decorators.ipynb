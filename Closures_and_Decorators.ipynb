{
  "nbformat": 4,
  "nbformat_minor": 0,
  "metadata": {
    "colab": {
      "name": "Closures and Decorators.ipynb",
      "provenance": [],
      "collapsed_sections": [
        "hY15j3y_xtNG"
      ],
      "authorship_tag": "ABX9TyPWCjbVJV/O7azXEb+yn83v",
      "include_colab_link": true
    },
    "kernelspec": {
      "name": "python3",
      "display_name": "Python 3"
    }
  },
  "cells": [
    {
      "cell_type": "markdown",
      "metadata": {
        "id": "view-in-github",
        "colab_type": "text"
      },
      "source": [
        "<a href=\"https://colab.research.google.com/github/suryagokul/Data-Science-Portfolio/blob/master/Closures_and_Decorators.ipynb\" target=\"_parent\"><img src=\"https://colab.research.google.com/assets/colab-badge.svg\" alt=\"Open In Colab\"/></a>"
      ]
    },
    {
      "cell_type": "markdown",
      "metadata": {
        "id": "U-QIiFNc2DMW"
      },
      "source": [
        "### First Class Functions\r\n",
        "\r\n",
        "`All functions in Python are first-class functions. To say that functions are first-class in a certain programming language means that they can be passed around and manipulated similarly to how you would pass around and manipulate other kinds of objects (like integers or strings)`\r\n",
        "\r\n",
        "**Properties of first class functions :**\r\n",
        "\r\n",
        "1. A function is an instance of the Object type.\r\n",
        "2. You can store the function in a variable.\r\n",
        "3. You can pass the function as a parameter to another function.\r\n",
        "4. You can return the function from a function.\r\n",
        "5. You can store them in data structures such as hash tables, lists, …`"
      ]
    },
    {
      "cell_type": "code",
      "metadata": {
        "colab": {
          "base_uri": "https://localhost:8080/"
        },
        "id": "2IrIDpn12WBX",
        "outputId": "5842609b-afa2-4252-cc9e-a02065939781"
      },
      "source": [
        "def square(x):\r\n",
        "  return x * x\r\n",
        "\r\n",
        "print(square)\r\n",
        "\r\n",
        "var = square              # Assigning function to a variable i.e var which stores address of function square...\r\n",
        "\r\n",
        "print(var)\r\n",
        "\r\n",
        "var(10)                 # Calling function using it's reference.."
      ],
      "execution_count": null,
      "outputs": [
        {
          "output_type": "stream",
          "text": [
            "<function square at 0x7f2322bd5b70>\n",
            "<function square at 0x7f2322bd5b70>\n"
          ],
          "name": "stdout"
        },
        {
          "output_type": "execute_result",
          "data": {
            "text/plain": [
              "100"
            ]
          },
          "metadata": {
            "tags": []
          },
          "execution_count": 3
        }
      ]
    },
    {
      "cell_type": "code",
      "metadata": {
        "colab": {
          "base_uri": "https://localhost:8080/"
        },
        "id": "7KoCXsga7AnT",
        "outputId": "0b0c698c-afa7-489c-f404-c49e434e7305"
      },
      "source": [
        "def Marriage(Mehindi_time):\r\n",
        "  groom_name = \"xyz\"\r\n",
        "  bride_name = \"abc\"\r\n",
        "  time = Mehindi_time()\r\n",
        "  print(time)\r\n",
        "\r\n",
        "def get_Mehindi_time():\r\n",
        "  return input(\"Enter Mehindi time \")\r\n",
        "\r\n",
        "Marriage(get_Mehindi_time)                    # passing function as parameter to another function..."
      ],
      "execution_count": null,
      "outputs": [
        {
          "output_type": "stream",
          "text": [
            "Enter Mehindi time 6: 30\n",
            "6: 30\n"
          ],
          "name": "stdout"
        }
      ]
    },
    {
      "cell_type": "markdown",
      "metadata": {
        "id": "b_L91wLJtuZu"
      },
      "source": [
        "`We can store builtin functions in another variable i.e aliasing functions with our own names as shown below -` "
      ]
    },
    {
      "cell_type": "code",
      "metadata": {
        "colab": {
          "base_uri": "https://localhost:8080/"
        },
        "id": "bDbAw2ZQtiwy",
        "outputId": "008472b4-bc97-48b1-8f29-e139744cd651"
      },
      "source": [
        "display = print\r\n",
        "\r\n",
        "display"
      ],
      "execution_count": 32,
      "outputs": [
        {
          "output_type": "execute_result",
          "data": {
            "text/plain": [
              "<function print>"
            ]
          },
          "metadata": {
            "tags": []
          },
          "execution_count": 32
        }
      ]
    },
    {
      "cell_type": "code",
      "metadata": {
        "colab": {
          "base_uri": "https://localhost:8080/"
        },
        "id": "qYzDgGUHt0Zx",
        "outputId": "cfb499c6-70ab-43e0-8079-2ea3dc9a7a02"
      },
      "source": [
        "display(\"I am alias function of 'print' yaar...\")"
      ],
      "execution_count": 34,
      "outputs": [
        {
          "output_type": "stream",
          "text": [
            "I am alias function of 'print' yaar...\n"
          ],
          "name": "stdout"
        }
      ]
    },
    {
      "cell_type": "markdown",
      "metadata": {
        "id": "NwFFt8JcireY"
      },
      "source": [
        "### Closures"
      ]
    },
    {
      "cell_type": "markdown",
      "metadata": {
        "id": "25chNgvqhyCw"
      },
      "source": [
        "`Before seeing what a closure is, we have to first understand what are nested functions and non-local variables.`\r\n",
        "\r\n",
        "**Nested functions in Python**\r\n",
        "\r\n",
        "`A function which is defined inside another function is known as nested function. Nested functions are able to access variables of the enclosing scope.\r\n",
        "In Python, these non-local variables can be accessed only within their scope and not outside their scope. This can be illustrated by following example:`\r\n"
      ]
    },
    {
      "cell_type": "code",
      "metadata": {
        "colab": {
          "base_uri": "https://localhost:8080/"
        },
        "id": "qcqbUJIHh94S",
        "outputId": "353edb26-2153-4924-f340-e56ae7c38da9"
      },
      "source": [
        "# Python program to illustrate \r\n",
        "# nested functions \r\n",
        "def outerFunction(text): \r\n",
        "    text = text \r\n",
        "  \r\n",
        "    def innerFunction(): \r\n",
        "        print(text) \r\n",
        "  \r\n",
        "    innerFunction() \r\n",
        "  \r\n",
        "if __name__ == '__main__': \r\n",
        "    outerFunction('Hey!') "
      ],
      "execution_count": 20,
      "outputs": [
        {
          "output_type": "stream",
          "text": [
            "Hey!\n"
          ],
          "name": "stdout"
        }
      ]
    },
    {
      "cell_type": "markdown",
      "metadata": {
        "id": "Mr5EC_xqiBbP"
      },
      "source": [
        "\r\n",
        "`As we can see innerFunction() can easily be accessed inside the outerFunction body but not outside of it’s body. Hence, here, innerFunction() is treated as nested Function which uses text as non-local variable.`"
      ]
    },
    {
      "cell_type": "markdown",
      "metadata": {
        "id": "hY15j3y_xtNG"
      },
      "source": [
        "**A closure is a nested function that references one or more variables from its enclosing scope.**\r\n",
        "\r\n",
        "![](https://www.pythontutorial.net/wp-content/uploads/2020/11/Python-Closures.png)\r\n",
        "\r\n",
        "\r\n",
        "`In another way we can say closure is a function which return value is depend upon one or more variables of outer function.`\r\n",
        "\r\n",
        "\r\n",
        "\r\n",
        "`A Closure is a function object that remembers values in enclosing scopes even if they are not present in memory.`\r\n",
        "\r\n",
        "1. It is a record that stores a function together with an environment:a mapping associating each free variable of the function (variables that are used locally, but defined in an enclosing scope) with the value or reference to which the name was bound when the closure was created.\r\n",
        "\r\n",
        "2. A closure—unlike a plain function—allows the function to access those captured variables through the closure’s copies of their values or references, even when the function is invoked outside their scope."
      ]
    },
    {
      "cell_type": "code",
      "metadata": {
        "id": "WukhseO6w1T7",
        "colab": {
          "base_uri": "https://localhost:8080/"
        },
        "outputId": "99f54bef-8318-4c87-fef0-4f9bc6868fab"
      },
      "source": [
        "def outer_func(x):\r\n",
        "  def inner_func():\r\n",
        "    print(x)                     \r\n",
        "  return inner_func                    #  returning function..\r\n",
        "\r\n",
        "my_func = outer_func(40)\r\n",
        "print(my_func())                      # calling inner function from outside of it's scope.. \r\n",
        "\r\n",
        "# inner_func()                     we cannot call inner function from outside of outer function.It gives error...      "
      ],
      "execution_count": 22,
      "outputs": [
        {
          "output_type": "stream",
          "text": [
            "40\n",
            "None\n"
          ],
          "name": "stdout"
        }
      ]
    },
    {
      "cell_type": "code",
      "metadata": {
        "id": "BAQFgJU7xvDj",
        "colab": {
          "base_uri": "https://localhost:8080/"
        },
        "outputId": "a94edfd6-e426-4c44-9d8a-a28482d1f2b0"
      },
      "source": [
        "def outer_func():\r\n",
        "  x = 20\r\n",
        "  def inner_func():\r\n",
        "    return x+50                     \r\n",
        "  return inner_func                     # Calling as well as returning function..\r\n",
        "\r\n",
        "my_func = outer_func()\r\n",
        "print(my_func())"
      ],
      "execution_count": 23,
      "outputs": [
        {
          "output_type": "stream",
          "text": [
            "70\n"
          ],
          "name": "stdout"
        }
      ]
    },
    {
      "cell_type": "code",
      "metadata": {
        "colab": {
          "base_uri": "https://localhost:8080/"
        },
        "id": "qkQXRQxgXLRs",
        "outputId": "9593e243-9bda-44cc-8dbd-3ce6dfbfc41a"
      },
      "source": [
        "def outer_func():\r\n",
        "  x = 20\r\n",
        "  def inner_func():\r\n",
        "    return x + 50 \r\n",
        "  print(\"Address of inner function inside outer function is : \",inner_func)                   \r\n",
        "  return inner_func                   \r\n",
        "\r\n",
        "my_func = outer_func()                      # my_func stores reference of inner_fun\r\n",
        "\r\n",
        "print(\"Address of inner function with reference is : \",my_func)              \r\n",
        "\r\n",
        "display(my_func.__name__)"
      ],
      "execution_count": 35,
      "outputs": [
        {
          "output_type": "stream",
          "text": [
            "Address of inner function inside outer function is :  <function outer_func.<locals>.inner_func at 0x7f501a9826a8>\n",
            "Address of inner function with reference is :  <function outer_func.<locals>.inner_func at 0x7f501a9826a8>\n",
            "inner_func\n"
          ],
          "name": "stdout"
        }
      ]
    },
    {
      "cell_type": "markdown",
      "metadata": {
        "id": "KW1v94vBc1Ae"
      },
      "source": [
        "`Now we can say that both inner_func and my_func are same..using this we can call inner function from outer scope..without reference we cannot call inner function from outside..`"
      ]
    },
    {
      "cell_type": "code",
      "metadata": {
        "id": "Ops93GQdXv2U"
      },
      "source": [
        "del outer_func"
      ],
      "execution_count": 36,
      "outputs": []
    },
    {
      "cell_type": "markdown",
      "metadata": {
        "id": "H394ZyqwrMcr"
      },
      "source": [
        "`The intent of the del function, in regards to the deletion of a variable name, is to remove the bindings of the name from the local or global namespace. This pure Python function is not intended to physically delete the data on disk or in memory that is referenced by the variable.`\r\n",
        "\r\n",
        "The del statement cannot be used to delete the data on disk - it is not like the `Delete` key on a keyboard to delete a file.\r\n",
        "\r\n",
        "`Because of this functionality of del,we are able to access varaible x even we deleting outer..`"
      ]
    },
    {
      "cell_type": "code",
      "metadata": {
        "colab": {
          "base_uri": "https://localhost:8080/"
        },
        "id": "61tXfxKiahFy",
        "outputId": "63dd7fad-fefa-45cb-97e8-7719e8a68b12"
      },
      "source": [
        "my_func()                      # outer_func() gives error because we deleted"
      ],
      "execution_count": 37,
      "outputs": [
        {
          "output_type": "execute_result",
          "data": {
            "text/plain": [
              "70"
            ]
          },
          "metadata": {
            "tags": []
          },
          "execution_count": 37
        }
      ]
    },
    {
      "cell_type": "markdown",
      "metadata": {
        "id": "wi-Ryp50azDH"
      },
      "source": [
        "`Before deletion of outer_func we stored address of inner function in my_func.So that even outer function got deleted but the address of inner one is used and we can access inner function data...`\r\n",
        "\r\n",
        "`Here Eventhough outer_func is deleted returned function can be used to call..`"
      ]
    },
    {
      "cell_type": "markdown",
      "metadata": {
        "id": "iq7jhMsEr1Bo"
      },
      "source": [
        "### Closures Summary : "
      ]
    },
    {
      "cell_type": "markdown",
      "metadata": {
        "id": "uqK1cQF_kbIS"
      },
      "source": [
        "`A closure is a nested function which has access to a free variable from an enclosing function that has finished its execution.`\r\n",
        "\r\n",
        "A free variable is a variable that is not bound in the local scope. In order for closures to work with immutable variables such as numbers and strings, we have to use the nonlocal keyword.\r\n",
        "\r\n",
        "\r\n",
        "`The criteria that must be met to create closure in Python are summarized in the following points.`\r\n",
        "\r\n",
        "1. We must have a nested function (function inside a function).\r\n",
        "2. The nested function must refer to a value defined in the enclosing function.\r\n",
        "3. The enclosing function must return the nested function.\r\n",
        "\r\n",
        "`enclosed function is outer function, nested function is inner one..`\r\n",
        "\r\n",
        "\r\n",
        "#### ADVANTAGES OF CLOSURES : \r\n",
        "\r\n",
        "\r\n",
        "1. we can access inner function from outside of it's scope using reference.\r\n",
        "\r\n",
        "2. Python closures help avoiding the usage of global values and provide some form of data hiding. \r\n",
        "\r\n",
        "3. They are used in Python decorators.\r\n",
        "\r\n",
        "4. Eventhough function is removed or variable got out of scope,the value in enclosing function is remembered by the nested function\r\n"
      ]
    },
    {
      "cell_type": "markdown",
      "metadata": {
        "id": "8SFQtnMwxHeV"
      },
      "source": [
        "### Decorators\r\n",
        "\r\n",
        "**Decorator itself is a function which takes an input function and gives output function by extending it's functionalities.**\r\n",
        "\r\n",
        "`Input function ==> Decorator ==> Output function with extending functionalities...`\r\n",
        "\r\n",
        "For Example -\r\n",
        "\r\n",
        "`Video ==> Editing Video Software ==> New Video After adding some effects..`\r\n",
        "\r\n",
        "`Bride ==> Beautyparlours ==> Becomes Beautiful with pedicure,clean-up..etc`\r\n",
        "\r\n",
        "\r\n",
        "`Formal Definition :`\r\n",
        "\r\n",
        "**We can extend the functionalities of existing function without modifying it..**\r\n",
        "\r\n",
        "\r\n",
        "The Special characterstic is : \r\n",
        "\r\n",
        "`After applying Decoration, we can also access original input function as well as function which have extended functionalities`"
      ]
    },
    {
      "cell_type": "markdown",
      "metadata": {
        "id": "jt31Uwva9mZT"
      },
      "source": [
        "`Decorator function takes input function as an argument.`\r\n",
        "\r\n",
        "Syntax : @decorator_name\r\n",
        "\r\n",
        "`We can do decorators explicitly or implicitly using @dectorator annotation..`"
      ]
    },
    {
      "cell_type": "markdown",
      "metadata": {
        "id": "ZIfDA5hKB80n"
      },
      "source": [
        "#### Implicit Decorator Using Annotation"
      ]
    },
    {
      "cell_type": "code",
      "metadata": {
        "colab": {
          "base_uri": "https://localhost:8080/"
        },
        "id": "mKLXSsvrxK0N",
        "outputId": "9ef47cbf-705e-4bf4-ec75-8c58df908401"
      },
      "source": [
        "def Parlour(func):\r\n",
        "  def inner(name):\r\n",
        "    print(\"-\"*8)\r\n",
        "    if name == 'Sam':\r\n",
        "      print(f\"Hello {name}! Congratulations for getting married.And my suggestion is to use face steaming for face glow..\")\r\n",
        "    elif name == 'Alia':\r\n",
        "      print(f\"Hello {name}! Congratulations for getting married.And my suggestion is to use Shimmery eyeshadow which make for great mask-makeup.\")\r\n",
        "    else:\r\n",
        "      func(name)\r\n",
        "  return inner\r\n",
        "\r\n",
        "\r\n",
        "@Parlour                                                     # It can be any name as you want..\r\n",
        "def Bride(name):\r\n",
        "  print(f\"Hello {name}! Congratulations for getting married\")\r\n",
        "\r\n",
        "Bride('Sam')\r\n",
        "\r\n",
        "Bride('Alia')\r\n",
        "\r\n",
        "Bride(\"Devasena\")\r\n",
        "\r\n"
      ],
      "execution_count": 43,
      "outputs": [
        {
          "output_type": "stream",
          "text": [
            "--------\n",
            "Hello Sam! Congratulations for getting married.And my suggestion is to use face steaming for face glow..\n",
            "--------\n",
            "Hello Alia! Congratulations for getting married.And my suggestion is to use Shimmery eyeshadow which make for great mask-makeup.\n",
            "--------\n",
            "Hello Devasena! Congratulations for getting married\n"
          ],
          "name": "stdout"
        }
      ]
    },
    {
      "cell_type": "markdown",
      "metadata": {
        "id": "2X7SfLGdBgqw"
      },
      "source": [
        "Here without modifying `Bride` existing function,we extends the functionalities using decorator `Parlour` for some inputs..."
      ]
    },
    {
      "cell_type": "markdown",
      "metadata": {
        "id": "nqohVhmGCFaH"
      },
      "source": [
        "#### Explicit Decorator Without any Annotaions"
      ]
    },
    {
      "cell_type": "code",
      "metadata": {
        "colab": {
          "base_uri": "https://localhost:8080/"
        },
        "id": "V6PryGLTCQKy",
        "outputId": "e5ec2208-f2b8-4448-a594-3b0e721b4195"
      },
      "source": [
        "def Parlour(func):\r\n",
        "  def inner(name):\r\n",
        "    print(\"-\"*8)\r\n",
        "    if name == 'Sam':\r\n",
        "      print(f\"Hello {name}! Congratulations for getting married.And my suggestion is to use face steaming for face glow..\")\r\n",
        "    elif name == 'Alia':\r\n",
        "      print(f\"Hello {name}! Congratulations for getting married.And my suggestion is to use Shimmery eyeshadow which make for great mask-makeup.\")\r\n",
        "    else:\r\n",
        "      func(name)\r\n",
        "  return inner\r\n",
        "\r\n",
        "\r\n",
        "def Bride(name):\r\n",
        "  print(f\"Hello {name}! Congratulations for getting married\")\r\n",
        "\r\n",
        "\r\n",
        "# Explicitly passing one function as parameter to another which is done by annotaion before.. \r\n",
        "\r\n",
        "returned_func = Parlour(Bride)\r\n",
        "\r\n",
        "Bride('Sam')                         # Existing functions\r\n",
        "\r\n",
        "returned_func('Sam')                 # After  adding functionalities to existing function without being modify it...\r\n",
        "\r\n",
        "\r\n"
      ],
      "execution_count": 46,
      "outputs": [
        {
          "output_type": "stream",
          "text": [
            "--------\n",
            "Hello Sam! Congratulations for getting married.And my suggestion is to use face steaming for face glow..\n",
            "Hello Sam! Congratulations for getting married\n"
          ],
          "name": "stdout"
        }
      ]
    },
    {
      "cell_type": "markdown",
      "metadata": {
        "id": "b3dqEFvHEot5"
      },
      "source": [
        "#### Example 2 :"
      ]
    },
    {
      "cell_type": "code",
      "metadata": {
        "colab": {
          "base_uri": "https://localhost:8080/"
        },
        "id": "yUCqqqjAElEp",
        "outputId": "813e7160-2fd2-4b2f-c798-6a8f2b90bc95"
      },
      "source": [
        "def HandlingDivisions(func):\r\n",
        "  def inner(n1,n2):\r\n",
        "      if n2 == 0:\r\n",
        "        print(\"Hello Buddy! We cannot divide with zero.Please provide another number\")\r\n",
        "        n2 = int(input())\r\n",
        "        func(n1,n2)\r\n",
        "      else:\r\n",
        "        func(n1,n2)\r\n",
        "  return inner\r\n",
        "\r\n",
        "@HandlingDivisions\r\n",
        "def divide(n1,n2):\r\n",
        "  print(n1/n2)\r\n",
        "\r\n",
        "divide(5,10)\r\n",
        "\r\n",
        "divide(18,6)\r\n",
        "\r\n",
        "divide(15,0)\r\n"
      ],
      "execution_count": 56,
      "outputs": [
        {
          "output_type": "stream",
          "text": [
            "0.5\n",
            "3.0\n",
            "Hello Buddy! We cannot divide with zero.Please provide another number\n",
            "5\n",
            "3.0\n"
          ],
          "name": "stdout"
        }
      ]
    },
    {
      "cell_type": "markdown",
      "metadata": {
        "id": "VK16twEi4EuG"
      },
      "source": [
        "### Uses of Decorators : \r\n",
        "\r\n",
        "**Decorators helps to make our code shorter and more pythonic**\r\n",
        "\r\n",
        "`Because for example if we want to add new 10k features, if there is existing function with already 9900 features.So that we can easily extend the existing function with remaining 10 features...`"
      ]
    }
  ]
}