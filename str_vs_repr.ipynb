{
  "nbformat": 4,
  "nbformat_minor": 0,
  "metadata": {
    "colab": {
      "name": "str vs repr.ipynb",
      "provenance": [],
      "authorship_tag": "ABX9TyPCHWSHNCbcwByfKkm2yNnc",
      "include_colab_link": true
    },
    "kernelspec": {
      "name": "python3",
      "display_name": "Python 3"
    }
  },
  "cells": [
    {
      "cell_type": "markdown",
      "metadata": {
        "id": "view-in-github",
        "colab_type": "text"
      },
      "source": [
        "<a href=\"https://colab.research.google.com/github/suryagokul/Data-Science-Portfolio/blob/master/str_vs_repr.ipynb\" target=\"_parent\"><img src=\"https://colab.research.google.com/assets/colab-badge.svg\" alt=\"Open In Colab\"/></a>"
      ]
    },
    {
      "cell_type": "markdown",
      "metadata": {
        "id": "Yr0O_fKx4blk"
      },
      "source": [
        "### str()  vs repr() \r\n",
        "\r\n",
        "`str() and repr() both are used to get a string representation of object.`\r\n",
        "\r\n",
        "`repr is defined as printable representation`"
      ]
    },
    {
      "cell_type": "code",
      "metadata": {
        "id": "tyQRst_-36m0"
      },
      "source": [
        "message = \"Welcome to my notebook..\""
      ],
      "execution_count": 1,
      "outputs": []
    },
    {
      "cell_type": "code",
      "metadata": {
        "colab": {
          "base_uri": "https://localhost:8080/"
        },
        "id": "U08HPqOH4fp5",
        "outputId": "85abbda2-28b5-40d0-c817-bc131ba1a589"
      },
      "source": [
        "print(str(message))           # or print(message)"
      ],
      "execution_count": 2,
      "outputs": [
        {
          "output_type": "stream",
          "text": [
            "Welcome to my notebook..\n"
          ],
          "name": "stdout"
        }
      ]
    },
    {
      "cell_type": "code",
      "metadata": {
        "colab": {
          "base_uri": "https://localhost:8080/"
        },
        "id": "EJP1WW4348ja",
        "outputId": "8bc3415c-5956-400e-b3f6-fb7e5faf2eaa"
      },
      "source": [
        "print(repr(message))"
      ],
      "execution_count": 3,
      "outputs": [
        {
          "output_type": "stream",
          "text": [
            "'Welcome to my notebook..'\n"
          ],
          "name": "stdout"
        }
      ]
    },
    {
      "cell_type": "markdown",
      "metadata": {
        "id": "1ixRnM9e5B_-"
      },
      "source": [
        "`From here we can notice that when we are using str output doesn't have quotes but incase of repr it shows single quotations also...`"
      ]
    },
    {
      "cell_type": "markdown",
      "metadata": {
        "id": "IjMZdMZ75yOt"
      },
      "source": [
        "`Example 2 : `"
      ]
    },
    {
      "cell_type": "code",
      "metadata": {
        "id": "zl-7my724_uy"
      },
      "source": [
        "from datetime import datetime"
      ],
      "execution_count": 10,
      "outputs": []
    },
    {
      "cell_type": "code",
      "metadata": {
        "colab": {
          "base_uri": "https://localhost:8080/",
          "height": 35
        },
        "id": "EkXtB2xC5fa6",
        "outputId": "04590fdf-fc5e-46b0-d0cc-ed187c02ff4b"
      },
      "source": [
        "str(datetime.now())           "
      ],
      "execution_count": 12,
      "outputs": [
        {
          "output_type": "execute_result",
          "data": {
            "application/vnd.google.colaboratory.intrinsic+json": {
              "type": "string"
            },
            "text/plain": [
              "'2021-01-17 10:32:53.899326'"
            ]
          },
          "metadata": {
            "tags": []
          },
          "execution_count": 12
        }
      ]
    },
    {
      "cell_type": "markdown",
      "metadata": {
        "id": "nBN2er1o5_-0"
      },
      "source": [
        "`When using str it gives readable format which we can easily understood timings...`"
      ]
    },
    {
      "cell_type": "code",
      "metadata": {
        "colab": {
          "base_uri": "https://localhost:8080/",
          "height": 35
        },
        "id": "5OSVctKY55Iu",
        "outputId": "843ba60e-4084-498c-add8-9ed0a5654a26"
      },
      "source": [
        "repr(datetime.now())"
      ],
      "execution_count": 13,
      "outputs": [
        {
          "output_type": "execute_result",
          "data": {
            "application/vnd.google.colaboratory.intrinsic+json": {
              "type": "string"
            },
            "text/plain": [
              "'datetime.datetime(2021, 1, 17, 10, 33, 3, 952830)'"
            ]
          },
          "metadata": {
            "tags": []
          },
          "execution_count": 13
        }
      ]
    },
    {
      "cell_type": "markdown",
      "metadata": {
        "id": "4da10cHI6J91"
      },
      "source": [
        "`When using repr it gives more official and which somebody can't understand quickly..`"
      ]
    },
    {
      "cell_type": "code",
      "metadata": {
        "colab": {
          "base_uri": "https://localhost:8080/"
        },
        "id": "hNYM8dQ66tCH",
        "outputId": "6ae79f43-8eab-4d79-d1ea-5ce74c09b0cc"
      },
      "source": [
        "current_time = datetime.now()\r\n",
        "\r\n",
        "current_time.__str__(), current_time.__repr__()"
      ],
      "execution_count": 16,
      "outputs": [
        {
          "output_type": "execute_result",
          "data": {
            "text/plain": [
              "('2021-01-17 10:37:09.461829',\n",
              " 'datetime.datetime(2021, 1, 17, 10, 37, 9, 461829)')"
            ]
          },
          "metadata": {
            "tags": []
          },
          "execution_count": 16
        }
      ]
    },
    {
      "cell_type": "markdown",
      "metadata": {
        "id": "e3fAltud67wW"
      },
      "source": [
        "`We can also call like this as shown above...`"
      ]
    },
    {
      "cell_type": "markdown",
      "metadata": {
        "id": "osmA_GvU7Bhj"
      },
      "source": [
        "**Implementation of __ str__  and  __ repr__ dunders or magic methods..**"
      ]
    },
    {
      "cell_type": "code",
      "metadata": {
        "colab": {
          "base_uri": "https://localhost:8080/"
        },
        "id": "u1hwj9Po59Ml",
        "outputId": "60d6e730-707e-49f7-f5ab-773a7c914f43"
      },
      "source": [
        "class Employee:\r\n",
        "  def __init__(self, name, sal):\r\n",
        "    self.name = name\r\n",
        "    self.sal = sal\r\n",
        "  \r\n",
        "\r\n",
        "emp_obj = Employee('surya','20000')\r\n",
        "\r\n",
        "#print(emp_obj.__str__())\r\n",
        "\r\n",
        "\r\n",
        "#print(emp_obj.__repr__())\r\n",
        "\r\n",
        "emp_obj"
      ],
      "execution_count": 28,
      "outputs": [
        {
          "output_type": "execute_result",
          "data": {
            "text/plain": [
              "<__main__.Employee at 0x7f49afc68518>"
            ]
          },
          "metadata": {
            "tags": []
          },
          "execution_count": 28
        }
      ]
    },
    {
      "cell_type": "markdown",
      "metadata": {
        "id": "_i4pF449-d0J"
      },
      "source": [
        "`If no magic methods are available in a class, then if we print our object it only returns address of that particular object...`"
      ]
    },
    {
      "cell_type": "code",
      "metadata": {
        "colab": {
          "base_uri": "https://localhost:8080/"
        },
        "id": "7ez48smG8loN",
        "outputId": "339c970f-6aa4-4a11-c63e-1e7cc5c4f183"
      },
      "source": [
        "class Employee:\r\n",
        "  def __init__(self, name, sal):\r\n",
        "    self.name = name\r\n",
        "    self.sal = sal\r\n",
        "  def __str__(self):\r\n",
        "      return f'Person name is {self.name} and age is {self.sal}'\r\n",
        "  def __repr__(self):\r\n",
        "      return f'Person(name={self.name}, age={self.sal})'\r\n",
        "\r\n",
        "emp_obj = Employee('surya','20000')\r\n",
        "\r\n",
        "#print(emp_obj.__str__())\r\n",
        "\r\n",
        "\r\n",
        "#print(emp_obj.__repr__())\r\n",
        "\r\n",
        "emp_obj      "
      ],
      "execution_count": 29,
      "outputs": [
        {
          "output_type": "execute_result",
          "data": {
            "text/plain": [
              "Person(name=surya, age=20000)"
            ]
          },
          "metadata": {
            "tags": []
          },
          "execution_count": 29
        }
      ]
    },
    {
      "cell_type": "code",
      "metadata": {
        "colab": {
          "base_uri": "https://localhost:8080/"
        },
        "id": "TnGbKxLX9t3s",
        "outputId": "107e34d1-7679-415a-ef9e-ed14ae272630"
      },
      "source": [
        "class Employee:\r\n",
        "  def __init__(self, name, sal):\r\n",
        "    self.name = name\r\n",
        "    self.sal = sal\r\n",
        "  def __repr__(self):\r\n",
        "      return f'Person(name={self.name}, age={self.sal})'\r\n",
        "  def __str__(self):\r\n",
        "      return f'Person name is {self.name} and age is {self.sal}'\r\n",
        "\r\n",
        "emp_obj = Employee('surya','20000')\r\n",
        "\r\n",
        "#print(emp_obj.__str__())\r\n",
        "\r\n",
        "\r\n",
        "#print(emp_obj.__repr__())\r\n",
        "\r\n",
        "emp_obj      "
      ],
      "execution_count": 30,
      "outputs": [
        {
          "output_type": "execute_result",
          "data": {
            "text/plain": [
              "Person(name=surya, age=20000)"
            ]
          },
          "metadata": {
            "tags": []
          },
          "execution_count": 30
        }
      ]
    },
    {
      "cell_type": "markdown",
      "metadata": {
        "id": "8pAbBq7r96ua"
      },
      "source": [
        "`From this multiple experiments we can say that This magic methods are called when print() or implemented_dunder() function is invoked on an object.`\r\n",
        "\r\n",
        "\r\n",
        "`And one more point we have to notice here is when there are both str and repr methods available in a class,by default object invokes repr dunder only..`\r\n",
        "\r\n",
        "`Proof to say is In last two cells we have interchanged methods str and repr, but it only gives output of repr only...`"
      ]
    }
  ]
}