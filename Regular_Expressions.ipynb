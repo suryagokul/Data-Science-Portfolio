{
  "nbformat": 4,
  "nbformat_minor": 0,
  "metadata": {
    "colab": {
      "name": "Regular Expressions.ipynb",
      "provenance": [],
      "authorship_tag": "ABX9TyPFHhGmIEnXAqpep2bcdQFZ",
      "include_colab_link": true
    },
    "kernelspec": {
      "name": "python3",
      "display_name": "Python 3"
    }
  },
  "cells": [
    {
      "cell_type": "markdown",
      "metadata": {
        "id": "view-in-github",
        "colab_type": "text"
      },
      "source": [
        "<a href=\"https://colab.research.google.com/github/suryagokul/Data-Science-Portfolio/blob/master/Regular_Expressions.ipynb\" target=\"_parent\"><img src=\"https://colab.research.google.com/assets/colab-badge.svg\" alt=\"Open In Colab\"/></a>"
      ]
    },
    {
      "cell_type": "markdown",
      "metadata": {
        "id": "3f2cH7ZFXalK"
      },
      "source": [
        "# Regular Expressions Using Python"
      ]
    },
    {
      "cell_type": "code",
      "metadata": {
        "colab": {
          "base_uri": "https://localhost:8080/",
          "height": 38
        },
        "id": "ufQOe08liakC",
        "outputId": "58532dc5-1176-4af0-adf0-6973af8e4892"
      },
      "source": [
        "%%html\n",
        "<marquee style='width: 90%; color: Green;'>Welcome to REGULAR EXPRESSION Tutorial</marquee>"
      ],
      "execution_count": 6,
      "outputs": [
        {
          "output_type": "display_data",
          "data": {
            "text/html": [
              "<marquee style='width: 90%; color: Green;'>Welcome to REGULAR EXPRESSION Tutorial</marquee>"
            ],
            "text/plain": [
              "<IPython.core.display.HTML object>"
            ]
          },
          "metadata": {
            "tags": []
          }
        }
      ]
    },
    {
      "cell_type": "markdown",
      "metadata": {
        "id": "hbYh5JGFYEOy"
      },
      "source": [
        "* []\tA set of characters\t\"[a-m]\"\t\n",
        "* \\\tSignals a special sequence (can also be used to escape special characters)\t\"\\d\"\t\n",
        "* .\tAny character (except newline character)\t\"he..o\"\t\n",
        "* ^\tStarts with\t\"^hello\"\t\n",
        "* Ends with  '$' \t\n",
        "* star - Zero or more occurrences\t\"aix*\"\t\n",
        "* +One or more occurrences\t\"aix+\"\t\n",
        "* {}\tExactly the specified number of occurrences\t\"al{2}\"\t\n",
        "* |\tEither or\t\"falls|stays\"\t\n",
        "* ()\tCapture and group"
      ]
    },
    {
      "cell_type": "markdown",
      "metadata": {
        "id": "vedL6flnZdD3"
      },
      "source": [
        "<p> The re module offers a set of functions that allows us to search a string for a\n",
        "match:</p>\n",
        "\n",
        "**Function\tDescription :**\n",
        "\n",
        ">> **findall** \tReturns a list containing all matches.\n",
        "\n",
        "\n",
        ">> **search**\tReturns a Match object if there is a match anywhere in the string.\n",
        "\n",
        ">> **split**\tReturns a list where the string has been split at each match.\n",
        "\n",
        ">> **sub** \tReplaces one or many matches with a string."
      ]
    },
    {
      "cell_type": "code",
      "metadata": {
        "id": "lxm2siD5XQRa"
      },
      "source": [
        "import re"
      ],
      "execution_count": 1,
      "outputs": []
    },
    {
      "cell_type": "code",
      "metadata": {
        "id": "Rov5QxjCXgbE"
      },
      "source": [
        "txt = \"This is my 1st notebook on @Regular Expressions 42 \""
      ],
      "execution_count": 24,
      "outputs": []
    },
    {
      "cell_type": "markdown",
      "metadata": {
        "id": "eCH9IPeTq5AI"
      },
      "source": [
        "#### **findall**\n",
        "\n",
        "Findall matches..."
      ]
    },
    {
      "cell_type": "code",
      "metadata": {
        "colab": {
          "base_uri": "https://localhost:8080/"
        },
        "id": "xNsIA6tikOxk",
        "outputId": "49d770a4-09d8-4c56-fbae-911fd8f32193"
      },
      "source": [
        "#Check if the string starts with \"This\":                 \n",
        "\n",
        "x = re.findall(\"\\AThis\", txt)                  \n",
        "\n",
        "if x:\n",
        "  print(\"Yes, there is a match!\")\n",
        "else:\n",
        "  print(\"No match\")\n",
        "\n",
        "x"
      ],
      "execution_count": 30,
      "outputs": [
        {
          "output_type": "stream",
          "text": [
            "Yes, there is a match!\n"
          ],
          "name": "stdout"
        },
        {
          "output_type": "execute_result",
          "data": {
            "text/plain": [
              "['This']"
            ]
          },
          "metadata": {
            "tags": []
          },
          "execution_count": 30
        }
      ]
    },
    {
      "cell_type": "code",
      "metadata": {
        "colab": {
          "base_uri": "https://localhost:8080/"
        },
        "id": "PMXjBu2dnfUs",
        "outputId": "181356e9-8ab2-4ad3-cacd-ffed79f1744c"
      },
      "source": [
        "txt1 = \"The rain in Spain\"\n",
        "\n",
        "#Check if the string ends with \"Spain\":                   \\Z\n",
        "\n",
        "x = re.findall(\"Spain\\Z\", txt1)\n",
        "\n",
        "print(x)\n",
        "\n",
        "if x:\n",
        "  print(\"Yes, there is a match!\")\n",
        "else:\n",
        "  print(\"No match\")\n"
      ],
      "execution_count": 60,
      "outputs": [
        {
          "output_type": "stream",
          "text": [
            "['Spain']\n",
            "Yes, there is a match!\n"
          ],
          "name": "stdout"
        }
      ]
    },
    {
      "cell_type": "code",
      "metadata": {
        "colab": {
          "base_uri": "https://localhost:8080/"
        },
        "id": "VfekYwtRkujI",
        "outputId": "16d1a8bc-475f-464f-ae7e-6d68490fffed"
      },
      "source": [
        "#Check if \"ook\" is present, but NOT at the beginning of a word:  \\B\n",
        "\n",
        "x = re.findall(r\"\\Book\", txt)\n",
        "\n",
        "print(x)\n",
        "\n",
        "if x:\n",
        "  print(\"Yes, there is at least one match!\")\n",
        "else:\n",
        "  print(\"No match\")"
      ],
      "execution_count": 32,
      "outputs": [
        {
          "output_type": "stream",
          "text": [
            "['ook']\n",
            "Yes, there is at least one match!\n"
          ],
          "name": "stdout"
        }
      ]
    },
    {
      "cell_type": "code",
      "metadata": {
        "colab": {
          "base_uri": "https://localhost:8080/"
        },
        "id": "MfK5_zDijFJR",
        "outputId": "8cc7304e-c046-48d4-e655-32f315bed997"
      },
      "source": [
        "# prints all non digits.                                 \\D\n",
        "\n",
        "non_digits = re.findall('\\D',txt)                      \n",
        "\n",
        "print(non_digits,end=\"\")"
      ],
      "execution_count": 26,
      "outputs": [
        {
          "output_type": "stream",
          "text": [
            "['T', 'h', 'i', 's', ' ', 'i', 's', ' ', 'm', 'y', ' ', 's', 't', ' ', 'n', 'o', 't', 'e', 'b', 'o', 'o', 'k', ' ', 'o', 'n', ' ', '@', 'R', 'e', 'g', 'u', 'l', 'a', 'r', ' ', 'E', 'x', 'p', 'r', 'e', 's', 's', 'i', 'o', 'n', 's', ' ', ' ']"
          ],
          "name": "stdout"
        }
      ]
    },
    {
      "cell_type": "markdown",
      "metadata": {
        "id": "pLfZJ8P4l0OD"
      },
      "source": [
        "#### **Split**\n",
        "\n",
        "Split at each white-space character:"
      ]
    },
    {
      "cell_type": "code",
      "metadata": {
        "colab": {
          "base_uri": "https://localhost:8080/"
        },
        "id": "wA28zxZBldgy",
        "outputId": "716005a8-27b9-455d-f314-0aa94b9960cd"
      },
      "source": [
        "string = \"Programming like a charm\"\n",
        "\n",
        "x = re.split(\"\\s\", string)\n",
        "\n",
        "print(x)"
      ],
      "execution_count": 34,
      "outputs": [
        {
          "output_type": "stream",
          "text": [
            "['Programming', 'like', 'a', 'charm']\n"
          ],
          "name": "stdout"
        }
      ]
    },
    {
      "cell_type": "markdown",
      "metadata": {
        "id": "knSgDntOmXSd"
      },
      "source": [
        "Split the string only at the first occurrence:"
      ]
    },
    {
      "cell_type": "code",
      "metadata": {
        "colab": {
          "base_uri": "https://localhost:8080/"
        },
        "id": "bE9nzTPvl2MB",
        "outputId": "0c9ce8e3-812f-449a-bdaa-f400f373f2b8"
      },
      "source": [
        "x = re.split(\"\\s\", string,1)        # \n",
        "\n",
        "print(x)"
      ],
      "execution_count": 39,
      "outputs": [
        {
          "output_type": "stream",
          "text": [
            "['Programming', 'like a charm']\n"
          ],
          "name": "stdout"
        }
      ]
    },
    {
      "cell_type": "markdown",
      "metadata": {
        "id": "WnkZC1Objv3L"
      },
      "source": [
        "#### **Search**\n",
        "\n",
        "Search only gives 1st match..."
      ]
    },
    {
      "cell_type": "code",
      "metadata": {
        "colab": {
          "base_uri": "https://localhost:8080/"
        },
        "id": "tQSpPFpUX432",
        "outputId": "5762d793-6e28-4882-d980-5edea9b5b081"
      },
      "source": [
        "digits = re.search('\\d',txt)                      \n",
        "\n",
        "digits                              # Here we have 1,4,2 digits but search gives first Occurence i.e 1."
      ],
      "execution_count": 25,
      "outputs": [
        {
          "output_type": "execute_result",
          "data": {
            "text/plain": [
              "<_sre.SRE_Match object; span=(11, 12), match='1'>"
            ]
          },
          "metadata": {
            "tags": []
          },
          "execution_count": 25
        }
      ]
    },
    {
      "cell_type": "markdown",
      "metadata": {
        "id": "KPR4z4zzmgSQ"
      },
      "source": [
        "#### **SUB()**\n",
        "\n",
        "The sub() function replaces the matches with the text of your choice:"
      ]
    },
    {
      "cell_type": "code",
      "metadata": {
        "colab": {
          "base_uri": "https://localhost:8080/",
          "height": 35
        },
        "id": "7rYUpuIpl9e_",
        "outputId": "40ce35c2-9522-42b0-f0fb-c43f33ebd31a"
      },
      "source": [
        "spaces_with_star = re.sub('\\s','*',txt)\n",
        "\n",
        "spaces_with_star"
      ],
      "execution_count": 44,
      "outputs": [
        {
          "output_type": "execute_result",
          "data": {
            "application/vnd.google.colaboratory.intrinsic+json": {
              "type": "string"
            },
            "text/plain": [
              "'This*is*my*1st*notebook*on*@Regular*Expressions*42*'"
            ]
          },
          "metadata": {
            "tags": []
          },
          "execution_count": 44
        }
      ]
    },
    {
      "cell_type": "code",
      "metadata": {
        "colab": {
          "base_uri": "https://localhost:8080/",
          "height": 35
        },
        "id": "u2w3uZ-mnnPG",
        "outputId": "715e264b-860f-48cd-c6aa-3ee339f1f132"
      },
      "source": [
        "nospaces = re.sub('\\S','*',txt)\n",
        "\n",
        "nospaces"
      ],
      "execution_count": 49,
      "outputs": [
        {
          "output_type": "execute_result",
          "data": {
            "application/vnd.google.colaboratory.intrinsic+json": {
              "type": "string"
            },
            "text/plain": [
              "'**** ** ** *** ******** ** ******** *********** ** '"
            ]
          },
          "metadata": {
            "tags": []
          },
          "execution_count": 49
        }
      ]
    },
    {
      "cell_type": "code",
      "metadata": {
        "id": "2gi2_f_VpYOz"
      },
      "source": [
        "a = \"what *is #your $Configuration\""
      ],
      "execution_count": 61,
      "outputs": []
    },
    {
      "cell_type": "code",
      "metadata": {
        "colab": {
          "base_uri": "https://localhost:8080/",
          "height": 35
        },
        "id": "DG3Dn2YEn7gB",
        "outputId": "c8eb7769-9cdf-497d-872a-d3cfb8851fa2"
      },
      "source": [
        "# Returns a match where the string contains any word characters [a-zA-Z0-9]     \\w\n",
        "\n",
        "replace_alphanumeric = re.sub('\\w','!',a)\n",
        "\n",
        "replace_alphanumeric"
      ],
      "execution_count": 57,
      "outputs": [
        {
          "output_type": "execute_result",
          "data": {
            "application/vnd.google.colaboratory.intrinsic+json": {
              "type": "string"
            },
            "text/plain": [
              "'!!!! *!! #!!!! $!!!!!!!!!!!!!'"
            ]
          },
          "metadata": {
            "tags": []
          },
          "execution_count": 57
        }
      ]
    },
    {
      "cell_type": "code",
      "metadata": {
        "colab": {
          "base_uri": "https://localhost:8080/",
          "height": 35
        },
        "id": "2x2IQnTpnHfu",
        "outputId": "94727a69-2a48-42ed-89b2-91af4f9ad799"
      },
      "source": [
        "# Returns a match where the string DOES NOT contain any word characters        \\W\n",
        "\n",
        "no_alphanumeric = re.sub('\\W','|',a)\n",
        "\n",
        "no_alphanumeric"
      ],
      "execution_count": 59,
      "outputs": [
        {
          "output_type": "execute_result",
          "data": {
            "application/vnd.google.colaboratory.intrinsic+json": {
              "type": "string"
            },
            "text/plain": [
              "'what||is||your||Configuration'"
            ]
          },
          "metadata": {
            "tags": []
          },
          "execution_count": 59
        }
      ]
    },
    {
      "cell_type": "code",
      "metadata": {
        "colab": {
          "base_uri": "https://localhost:8080/",
          "height": 35
        },
        "id": "TksckzmbmmqH",
        "outputId": "e05509a7-f66f-4b9a-f000-6287756fff06"
      },
      "source": [
        "replace_digits = re.sub('\\d','@',txt)\n",
        "\n",
        "replace_digits"
      ],
      "execution_count": 47,
      "outputs": [
        {
          "output_type": "execute_result",
          "data": {
            "application/vnd.google.colaboratory.intrinsic+json": {
              "type": "string"
            },
            "text/plain": [
              "'This is my @st notebook on @Regular Expressions @@ '"
            ]
          },
          "metadata": {
            "tags": []
          },
          "execution_count": 47
        }
      ]
    },
    {
      "cell_type": "markdown",
      "metadata": {
        "id": "nhgnhGIupyt6"
      },
      "source": [
        "#### **compile**\n",
        "\n",
        "compile() creates regular expression character class [a-gA-G], which is equivalent to [abcdefgABCDEFG]. "
      ]
    },
    {
      "cell_type": "code",
      "metadata": {
        "colab": {
          "base_uri": "https://localhost:8080/"
        },
        "id": "KAKDPa5ppu_t",
        "outputId": "0c149ed5-375d-4a20-99ac-88c27f1f8bc0"
      },
      "source": [
        "p = re.compile('[a-gA-G]') \n",
        "\n",
        "p.findall(\"Hello Surya Gokul\")"
      ],
      "execution_count": 65,
      "outputs": [
        {
          "output_type": "execute_result",
          "data": {
            "text/plain": [
              "['e', 'a', 'G']"
            ]
          },
          "metadata": {
            "tags": []
          },
          "execution_count": 65
        }
      ]
    }
  ]
}
